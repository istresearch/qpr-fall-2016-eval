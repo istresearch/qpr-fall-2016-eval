{
 "cells": [
  {
   "cell_type": "code",
   "execution_count": 1,
   "metadata": {
    "collapsed": true
   },
   "outputs": [],
   "source": [
    "import json\n",
    "import numpy"
   ]
  },
  {
   "cell_type": "code",
   "execution_count": 2,
   "metadata": {
    "collapsed": true
   },
   "outputs": [],
   "source": [
    "def mean_average_precision(data):\n",
    "    precisions = []\n",
    "    for question in data.keys():\n",
    "        precisions.append(data[question]['avg_precision'])\n",
    "    mean_ap = numpy.mean(precisions)\n",
    "    \n",
    "    return round(mean_ap, 2)"
   ]
  },
  {
   "cell_type": "code",
   "execution_count": 3,
   "metadata": {
    "collapsed": true
   },
   "outputs": [],
   "source": [
    "def mean_special_metric(data, qtype):\n",
    "    if qtype == 'Point Fact':\n",
    "        metric_type = 'pf_metric'\n",
    "    if qtype == 'Cluster Aggregate':\n",
    "        metric_type = 'agg_metric'\n",
    "    metrics = []\n",
    "    for question in data.keys():\n",
    "        # Only take metric for questions for which there\n",
    "        # is a relevant document submitted\n",
    "        if data[question][metric_type] != 'NA':\n",
    "            metrics.append(data[question][metric_type])\n",
    "    mean_metrics = numpy.mean(metrics)\n",
    "    \n",
    "    return round(mean_metrics, 2)"
   ]
  },
  {
   "cell_type": "markdown",
   "metadata": {},
   "source": [
    "## Set Path to GT Results"
   ]
  },
  {
   "cell_type": "code",
   "execution_count": 4,
   "metadata": {
    "collapsed": false
   },
   "outputs": [],
   "source": [
    "results_files = {}\n",
    "\n",
    "results_files['Georgetown'] = {}\n",
    "results_files['Georgetown']['Georgetown_Only'] = ('../evaluation/gt_evaluation/Georgetown/'\n",
    "                                                  'Georgetown_Georgetown_only.json')\n",
    "\n",
    "results_files['ISI'] = {}\n",
    "results_files['ISI']['ISI_Only'] = ('../evaluation/gt_evaluation/ISI/'\n",
    "                                                  'ISI_ISI_only.json')\n",
    "results_files['ISI']['Lattice_Only'] = ('../evaluation/gt_evaluation/ISI/'\n",
    "                                                  'ISI_lattice_only.json')\n",
    "results_files['ISI']['ISI_and_Lattice'] = ('../evaluation/gt_evaluation/ISI/'\n",
    "                                                  'ISI_ISI_and_lattice.json')\n",
    "\n",
    "results_files['Uncharted'] = {}\n",
    "results_files['Uncharted']['Uncharted_Only'] = ('../evaluation/gt_evaluation/Uncharted/'\n",
    "                                                  'Uncharted_Uncharted_only.json')\n",
    "results_files['Uncharted']['Uncharted_and_Lattice'] = ('../evaluation/gt_evaluation/Uncharted/'\n",
    "                                                  'Uncharted_Uncharted_and_lattice.json')\n",
    "results_files['Uncharted']['CMU_Clustering'] = ('../evaluation/gt_evaluation/Uncharted/'\n",
    "                                                  'Uncharted_CMU.json')"
   ]
  },
  {
   "cell_type": "code",
   "execution_count": 5,
   "metadata": {
    "collapsed": false
   },
   "outputs": [
    {
     "name": "stdout",
     "output_type": "stream",
     "text": [
      "GEORGETOWN\n",
      " \n",
      "georgetown_only\n",
      " \n",
      "Cluster Identification\n",
      "Mean Avg Precision: 0.32\n",
      " \n",
      "Point Fact\n",
      "Mean Mertic: 0.82\n",
      "Mean Avg Precision: 0.71\n",
      " \n",
      "Cluster Facet\n",
      "Mean Avg Precision: 0.34\n",
      " \n",
      "Cluster Aggregate\n",
      "Mean Mertic: 0.0\n",
      "Mean Avg Precision: 0.42\n",
      " \n",
      "ISI\n",
      " \n",
      "isi_only\n",
      " \n",
      "Cluster Identification\n",
      "Mean Avg Precision: 0.66\n",
      " \n",
      "Point Fact\n",
      "Mean Mertic: 0.63\n",
      "Mean Avg Precision: 0.67\n",
      " \n",
      "Cluster Facet\n",
      "Mean Avg Precision: 0.59\n",
      " \n",
      "Cluster Aggregate\n",
      "Mean Mertic: 0.06\n",
      "Mean Avg Precision: 0.35\n",
      " \n",
      "isi_and_lattice\n",
      " \n",
      "Cluster Identification\n",
      "Mean Avg Precision: 0.58\n",
      " \n",
      "Point Fact\n",
      "Mean Mertic: 0.65\n",
      "Mean Avg Precision: 0.43\n",
      " \n",
      "Cluster Facet\n",
      "Mean Avg Precision: 0.62\n",
      " \n",
      "Cluster Aggregate\n",
      "Mean Mertic: 0.04\n",
      "Mean Avg Precision: 0.31\n",
      " \n",
      "lattice_only\n",
      " \n",
      "Cluster Identification\n",
      "Mean Avg Precision: 0.23\n",
      " \n",
      "Point Fact\n",
      "Mean Mertic: 0.25\n",
      "Mean Avg Precision: 0.38\n",
      " \n",
      "Cluster Facet\n",
      "Mean Avg Precision: 0.63\n",
      " \n",
      "Cluster Aggregate\n",
      "Mean Mertic: 0.0\n",
      "Mean Avg Precision: 0.09\n",
      " \n",
      "UNCHARTED\n",
      " \n",
      "uncharted_and_lattice\n",
      " \n",
      "Cluster Identification\n",
      "Mean Avg Precision: 0.67\n",
      " \n",
      "Point Fact\n",
      "Mean Mertic: 0.47\n",
      "Mean Avg Precision: 0.78\n",
      " \n",
      "Cluster Facet\n",
      "Mean Avg Precision: 0.7\n",
      " \n",
      "Cluster Aggregate\n",
      "Mean Mertic: 0.35\n",
      "Mean Avg Precision: 0.64\n",
      " \n",
      "cmu_clustering\n",
      " \n",
      "Cluster Identification\n",
      "Mean Avg Precision: 0.76\n",
      " \n",
      "Point Fact\n",
      "Mean Mertic: 0.47\n",
      "Mean Avg Precision: 0.78\n",
      " \n",
      "Cluster Facet\n",
      "Mean Avg Precision: 0.72\n",
      " \n",
      "Cluster Aggregate\n",
      "Mean Mertic: 0.39\n",
      "Mean Avg Precision: 0.73\n",
      " \n",
      "uncharted_only\n",
      " \n",
      "Cluster Identification\n",
      "Mean Avg Precision: 0.53\n",
      " \n",
      "Point Fact\n",
      "Mean Mertic: 0.48\n",
      "Mean Avg Precision: 0.74\n",
      " \n",
      "Cluster Facet\n",
      "Mean Avg Precision: 0.57\n",
      " \n",
      "Cluster Aggregate\n",
      "Mean Mertic: 0.24\n",
      "Mean Avg Precision: 0.53\n",
      " \n"
     ]
    }
   ],
   "source": [
    "for team in results_files.keys():\n",
    "    print team.upper()\n",
    "    print ' '\n",
    "    for desc in results_files[team].keys():\n",
    "        print desc.lower()\n",
    "        print ' '\n",
    "        with open(results_files[team][desc], 'r') as f:\n",
    "            results = eval(f.read())\n",
    "            for qtype in results.keys():\n",
    "                print qtype\n",
    "                data = results[qtype]\n",
    "                mean_avg_prec = mean_average_precision(data)\n",
    "                if qtype in ['Point Fact', 'Cluster Aggregate']:\n",
    "                    mean_metric = mean_special_metric(data, qtype)\n",
    "                    print 'Mean Mertic: {0}'.format(mean_metric)\n",
    "                print 'Mean Avg Precision: {0}'.format(mean_avg_prec)\n",
    "                print ' '"
   ]
  },
  {
   "cell_type": "code",
   "execution_count": null,
   "metadata": {
    "collapsed": false
   },
   "outputs": [],
   "source": [
    "mean_metric"
   ]
  },
  {
   "cell_type": "code",
   "execution_count": null,
   "metadata": {
    "collapsed": true
   },
   "outputs": [],
   "source": []
  }
 ],
 "metadata": {
  "kernelspec": {
   "display_name": "Python 2",
   "language": "python",
   "name": "python2"
  },
  "language_info": {
   "codemirror_mode": {
    "name": "ipython",
    "version": 2
   },
   "file_extension": ".py",
   "mimetype": "text/x-python",
   "name": "python",
   "nbconvert_exporter": "python",
   "pygments_lexer": "ipython2",
   "version": "2.7.11"
  }
 },
 "nbformat": 4,
 "nbformat_minor": 0
}
