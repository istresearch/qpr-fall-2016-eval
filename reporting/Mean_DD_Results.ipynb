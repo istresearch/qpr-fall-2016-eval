{
 "cells": [
  {
   "cell_type": "code",
   "execution_count": 1,
   "metadata": {
    "collapsed": true
   },
   "outputs": [],
   "source": [
    "import json\n",
    "import numpy"
   ]
  },
  {
   "cell_type": "code",
   "execution_count": 7,
   "metadata": {
    "collapsed": true
   },
   "outputs": [],
   "source": [
    "def mean_average_precision(data):\n",
    "    precisions = []\n",
    "    for question in data.keys():\n",
    "        # Skip questions for which there were no\n",
    "        # relevant docs found\n",
    "        if data[question]['avg_precision'] not in ['No Relevant Docs Found', 'NA']:\n",
    "            precisions.append(data[question]['avg_precision'])\n",
    "    mean_ap = numpy.mean(precisions)\n",
    "    \n",
    "    return round(mean_ap, 2)"
   ]
  },
  {
   "cell_type": "code",
   "execution_count": 3,
   "metadata": {
    "collapsed": true
   },
   "outputs": [],
   "source": [
    "def mean_special_metric(data, qtype):\n",
    "    if qtype == 'Point Fact':\n",
    "        metric_type = 'pf_metric'\n",
    "    if qtype == 'Cluster Aggregate':\n",
    "        metric_type = 'agg_metric'\n",
    "    metrics = []\n",
    "    for question in data.keys():\n",
    "        # Only take metric for questions for which there\n",
    "        # is a relevant document submitted\n",
    "        if data[question][metric_type] != 'NA':\n",
    "            metrics.append(data[question][metric_type])\n",
    "    mean_metrics = numpy.mean(metrics)\n",
    "    \n",
    "    return round(mean_metrics, 2)"
   ]
  },
  {
   "cell_type": "code",
   "execution_count": 4,
   "metadata": {
    "collapsed": false
   },
   "outputs": [
    {
     "name": "stdout",
     "output_type": "stream",
     "text": [
      "MAKE SURE YOU'RE USING UPDATED FILE\n"
     ]
    }
   ],
   "source": [
    "print \"MAKE SURE YOU'RE USING UPDATED FILE\"\n",
    "\n",
    "results_files = {}\n",
    "\n",
    "results_files['Georgetown'] = {}\n",
    "results_files['Georgetown']['Cluster Aggregate'] = ('../evaluation/dd_evaluation/'\n",
    "                                                         'cluster_aggregate/'\n",
    "                                                         'Georgetown_DD_Cluster_Agg_Results.json')\n",
    "results_files['Georgetown']['Cluster Facet'] = ('../evaluation/dd_evaluation/'\n",
    "                                                         'cluster_facet/'\n",
    "                                                         'Georgetown_DD_Cluster_Facet_Results.json')\n",
    "results_files['Georgetown']['Cluster Identification'] = ('../evaluation/dd_evaluation/'\n",
    "                                                         'cluster_identification/'\n",
    "                                                         'Georgetown_DD_Cluster_Identification_Results.json')\n",
    "results_files['Georgetown']['Point Fact'] = ('../evaluation/dd_evaluation/'\n",
    "                                                         'point_fact/'\n",
    "                                                         'Georgetown_DD_Point_Fact_Results.json')\n",
    "\n",
    "\n",
    "\n",
    "\n",
    "results_files['ISI'] = {}\n",
    "results_files['ISI']['Cluster Aggregate'] = ('../evaluation/dd_evaluation/'\n",
    "                                                         'cluster_aggregate/'\n",
    "                                                         'ISI_DD_Cluster_Agg_Results.json')\n",
    "results_files['ISI']['Cluster Facet'] = ('../evaluation/dd_evaluation/'\n",
    "                                                  'cluster_facet/'\n",
    "                                                  'ISI_DD_Cluster_Facet_Results.json')\n",
    "results_files['ISI']['Cluster Identification'] = ('../evaluation/dd_evaluation/'\n",
    "                                                  'cluster_identification/'\n",
    "                                                  'ISI_DD_Cluster_Identification_Results.json')\n",
    "results_files['ISI']['Point Fact'] = ('../evaluation/dd_evaluation/'\n",
    "                                                  'point_fact/'\n",
    "                                                  'ISI_DD_Point_Fact_Results.json')\n",
    "\n",
    "results_files['Uncharted'] = {}\n",
    "results_files['Uncharted']['Cluster Aggregate'] = ('../evaluation/dd_evaluation/'\n",
    "                                                         'cluster_aggregate/'\n",
    "                                                         'Uncharted_DD_Cluster_Agg_Results.json')\n",
    "results_files['Uncharted']['Cluster Facet'] = ('../evaluation/dd_evaluation/'\n",
    "                                                        'cluster_facet/'\n",
    "                                                        'Uncharted_DD_Cluster_Facet_Results.json')\n",
    "results_files['Uncharted']['Cluster Identification'] = ('../evaluation/dd_evaluation/'\n",
    "                                                        'cluster_identification/'\n",
    "                                                        'Uncharted_DD_Cluster_Identification_Results.json')\n",
    "results_files['Uncharted']['Point Fact'] = ('../evaluation/dd_evaluation/'\n",
    "                                                        'point_fact/'\n",
    "                                                        'Uncharted_DD_Point_Fact_Results.json')\n"
   ]
  },
  {
   "cell_type": "code",
   "execution_count": 8,
   "metadata": {
    "collapsed": false
   },
   "outputs": [
    {
     "name": "stdout",
     "output_type": "stream",
     "text": [
      "GEORGETOWN\n",
      "ISI\n",
      "UNCHARTED\n"
     ]
    }
   ],
   "source": [
    "summary = {}\n",
    "for team in results_files.keys():\n",
    "    summary[team.upper()] = {}\n",
    "    print team.upper()\n",
    "    for qtype in results_files[team].keys():\n",
    "        summary[team.upper()][qtype] = {}\n",
    "        with open(results_files[team][qtype], 'r') as f:\n",
    "            results = eval(f.read())\n",
    "            for dataset in results[qtype].keys():\n",
    "                summary[team.upper()][qtype][dataset] = {}\n",
    "                data = results[qtype][dataset]\n",
    "                \n",
    "                mean_avg_prec = mean_average_precision(data)\n",
    "                summary[team.upper()][qtype][dataset]['mean_avg_precision'] = mean_avg_prec\n",
    "                if qtype in ['Point Fact', 'Cluster Aggregate']:\n",
    "                    mean_metric = mean_special_metric(data, qtype)\n",
    "                    summary[team.upper()][qtype][dataset]['mean_metric'] = mean_metric\n"
   ]
  },
  {
   "cell_type": "code",
   "execution_count": 9,
   "metadata": {
    "collapsed": false
   },
   "outputs": [
    {
     "name": "stdout",
     "output_type": "stream",
     "text": [
      " \n",
      "GEORGETOWN\n",
      " \n",
      "Cluster Aggregate\n",
      "NYU\n",
      "MAP: 0.07    SPECIAL: 0.0\n",
      "JPL\n",
      "MAP: 0.0    SPECIAL: 0.0\n",
      "HG\n",
      "MAP: 0.41    SPECIAL: 0.07\n",
      " \n",
      "Point Fact\n",
      "NYU\n",
      "MAP: 0.75    SPECIAL: 0.67\n",
      "JPL\n",
      "MAP: 0.2    SPECIAL: 1.0\n",
      "HG\n",
      "MAP: 0.57    SPECIAL: 0.33\n",
      " \n",
      "Cluster Facet\n",
      "NYU\n",
      "MAP: 0.01\n",
      "JPL\n",
      "MAP: 0.39\n",
      "HG\n",
      "MAP: 0.3\n",
      " \n",
      "Cluster Identification\n",
      "NYU\n",
      "MAP: 0.45\n",
      "JPL\n",
      "MAP: 0.02\n",
      "HG\n",
      "MAP: 0.44\n",
      " \n",
      " \n",
      "ISI\n",
      " \n",
      "Cluster Aggregate\n",
      "NYU\n",
      "MAP: 0.11    SPECIAL: 0.0\n",
      "JPL\n",
      "MAP: 0.35    SPECIAL: 0.0\n",
      "HG\n",
      "MAP: 0.11    SPECIAL: 0.0\n",
      " \n",
      "Point Fact\n",
      "NYU\n",
      "MAP: 0.71    SPECIAL: 0.33\n",
      "JPL\n",
      "MAP: 0.03    SPECIAL: 0.0\n",
      "HG\n",
      "MAP: 0.14    SPECIAL: 0.0\n",
      " \n",
      "Cluster Facet\n",
      "NYU\n",
      "MAP: 0.5\n",
      "JPL\n",
      "MAP: 0.52\n",
      "HG\n",
      "MAP: 0.19\n",
      " \n",
      "Cluster Identification\n",
      "NYU\n",
      "MAP: 0.34\n",
      "JPL\n",
      "MAP: 0.01\n",
      "HG\n",
      "MAP: 0.47\n",
      " \n",
      " \n",
      "UNCHARTED\n",
      " \n",
      "Cluster Aggregate\n",
      "NYU\n",
      "MAP: 0.41    SPECIAL: 0.0\n",
      "JPL\n",
      "MAP: 0.08    SPECIAL: 0.0\n",
      "HG\n",
      "MAP: 0.58    SPECIAL: 0.0\n",
      " \n",
      "Point Fact\n",
      "NYU\n",
      "MAP: 0.96    SPECIAL: 0.63\n",
      "JPL\n",
      "MAP: 0.34    SPECIAL: 0.39\n",
      "HG\n",
      "MAP: 0.7    SPECIAL: 0.31\n",
      " \n",
      "Cluster Facet\n",
      "NYU\n",
      "MAP: 0.44\n",
      "JPL\n",
      "MAP: 0.01\n",
      "HG\n",
      "MAP: 0.62\n",
      " \n",
      "Cluster Identification\n",
      "NYU\n",
      "MAP: 0.58\n",
      "JPL\n",
      "MAP: 0.79\n",
      "HG\n",
      "MAP: 0.43\n",
      " \n"
     ]
    }
   ],
   "source": [
    "for team in summary.keys():\n",
    "    print ' '\n",
    "    print team\n",
    "    print ' '\n",
    "    for qtype in summary[team].keys():\n",
    "        print qtype\n",
    "        for dataset in ['NYU', 'JPL', 'HG']:\n",
    "            print dataset\n",
    "            if 'mean_metric' in summary[team][qtype][dataset].keys():\n",
    "                print ('MAP: {0}    SPECIAL: {1}'.\n",
    "                   format(summary[team][qtype][dataset]\n",
    "                          ['mean_avg_precision'], summary[team][qtype]\n",
    "                          [dataset]['mean_metric']))\n",
    "            else:\n",
    "                print ('MAP: {0}'.\n",
    "                   format(summary[team][qtype][dataset]\n",
    "                          ['mean_avg_precision']))\n",
    "        print ' '"
   ]
  },
  {
   "cell_type": "code",
   "execution_count": 6,
   "metadata": {
    "collapsed": false
   },
   "outputs": [
    {
     "data": {
      "text/plain": [
       "{'100': {'agg_metric': 0, 'avg_precision': 0},\n",
       " '35': {'agg_metric': 0, 'avg_precision': 0},\n",
       " '37': {'agg_metric': 0, 'avg_precision': 0},\n",
       " '4': {'agg_metric': 'NA', 'avg_precision': 'NA'},\n",
       " '44': {'agg_metric': 0, 'avg_precision': 0},\n",
       " '5': {'agg_metric': 0, 'avg_precision': 0},\n",
       " '68': {'agg_metric': 'NA', 'avg_precision': 'NA'},\n",
       " '69': {'agg_metric': 'NA', 'avg_precision': 0},\n",
       " '71': {'agg_metric': 'NA', 'avg_precision': 0},\n",
       " '76': {'agg_metric': 0, 'avg_precision': 0},\n",
       " '78': {'agg_metric': 'NA', 'avg_precision': 'NA'},\n",
       " '79': {'agg_metric': 'NA', 'avg_precision': 'NA'},\n",
       " '82': {'agg_metric': 'NA', 'avg_precision': 'NA'},\n",
       " '83': {'agg_metric': 'NA', 'avg_precision': 'NA'},\n",
       " '84': {'agg_metric': 0, 'avg_precision': 0}}"
      ]
     },
     "execution_count": 6,
     "metadata": {},
     "output_type": "execute_result"
    }
   ],
   "source": [
    "data"
   ]
  },
  {
   "cell_type": "code",
   "execution_count": null,
   "metadata": {
    "collapsed": false
   },
   "outputs": [],
   "source": [
    "(518/float(1845)) * 100"
   ]
  },
  {
   "cell_type": "code",
   "execution_count": null,
   "metadata": {
    "collapsed": false
   },
   "outputs": [],
   "source": [
    "type(0)"
   ]
  },
  {
   "cell_type": "code",
   "execution_count": null,
   "metadata": {
    "collapsed": false
   },
   "outputs": [],
   "source": [
    "precisions"
   ]
  },
  {
   "cell_type": "code",
   "execution_count": null,
   "metadata": {
    "collapsed": true
   },
   "outputs": [],
   "source": []
  }
 ],
 "metadata": {
  "kernelspec": {
   "display_name": "Python 2",
   "language": "python",
   "name": "python2"
  },
  "language_info": {
   "codemirror_mode": {
    "name": "ipython",
    "version": 2
   },
   "file_extension": ".py",
   "mimetype": "text/x-python",
   "name": "python",
   "nbconvert_exporter": "python",
   "pygments_lexer": "ipython2",
   "version": "2.7.11"
  }
 },
 "nbformat": 4,
 "nbformat_minor": 0
}
