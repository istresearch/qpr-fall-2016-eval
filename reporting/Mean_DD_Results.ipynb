{
 "cells": [
  {
   "cell_type": "code",
   "execution_count": 1,
   "metadata": {
    "collapsed": true
   },
   "outputs": [],
   "source": [
    "import json\n",
    "import numpy"
   ]
  },
  {
   "cell_type": "code",
   "execution_count": 2,
   "metadata": {
    "collapsed": true
   },
   "outputs": [],
   "source": [
    "def mean_average_precision(data):\n",
    "    precisions = []\n",
    "    for question in data.keys():\n",
    "        precisions.append(data[question]['avg_precision'])\n",
    "    mean_ap = numpy.mean(precisions)\n",
    "    \n",
    "    return round(mean_ap, 2)"
   ]
  },
  {
   "cell_type": "code",
   "execution_count": 3,
   "metadata": {
    "collapsed": true
   },
   "outputs": [],
   "source": [
    "def mean_special_metric(data, qtype):\n",
    "    if qtype == 'Point Fact':\n",
    "        metric_type = 'pf_metric'\n",
    "    if qtype == 'Cluster Aggregate':\n",
    "        metric_type = 'agg_metric'\n",
    "    metrics = []\n",
    "    for question in data.keys():\n",
    "        # Only take metric for questions for which there\n",
    "        # is a relevant document submitted\n",
    "        if data[question][metric_type] != 'NA':\n",
    "            metrics.append(data[question][metric_type])\n",
    "    mean_metrics = numpy.mean(metrics)\n",
    "    \n",
    "    return round(mean_metrics, 2)"
   ]
  },
  {
   "cell_type": "markdown",
   "metadata": {},
   "source": [
    "## Cluster Identification"
   ]
  },
  {
   "cell_type": "code",
   "execution_count": 4,
   "metadata": {
    "collapsed": false
   },
   "outputs": [
    {
     "name": "stdout",
     "output_type": "stream",
     "text": [
      "MAKE SURE YOU'RE USING UPDATED FILE\n"
     ]
    }
   ],
   "source": [
    "print \"MAKE SURE YOU'RE USING UPDATED FILE\"\n",
    "\n",
    "results_files = {}\n",
    "\n",
    "results_files['Georgetown'] = {}\n",
    "results_files['Georgetown']['Cluster Identification'] = ('../evaluation/dd_evaluation/'\n",
    "                                                         'cluster_identification/'\n",
    "                                                         'Georgetown_DD_Cluster_Identification_Results_REWRITE.json')\n",
    "\n",
    "results_files['ISI'] = {}\n",
    "results_files['ISI']['Cluster Identification'] = ('../evaluation/dd_evaluation/'\n",
    "                                                  'cluster_identification/'\n",
    "                                                  'ISI_DD_Cluster_Identification_Results_REWRITE.json')\n",
    "\n",
    "results_files['Uncharted'] = {}\n",
    "results_files['Uncharted']['Cluster Identification'] = ('../evaluation/dd_evaluation/'\n",
    "                                                        'cluster_identification/'\n",
    "                                                        'Uncharted_DD_Cluster_Identification_Results_REWRITE.json')\n"
   ]
  },
  {
   "cell_type": "code",
   "execution_count": 5,
   "metadata": {
    "collapsed": false
   },
   "outputs": [
    {
     "name": "stdout",
     "output_type": "stream",
     "text": [
      "GEORGETOWN\n",
      " \n",
      "Cluster Identification\n",
      " \n",
      "HG\n",
      "Mean Avg Precision: 0.0\n",
      "JPL\n",
      "Mean Avg Precision: 0.0\n",
      "NYU\n",
      "Mean Avg Precision: 0.02\n",
      " \n",
      "ISI\n",
      " \n",
      "Cluster Identification\n",
      " \n",
      "HG\n",
      "Mean Avg Precision: 0.2\n",
      "JPL\n",
      "Mean Avg Precision: 0.01\n",
      "NYU\n",
      "Mean Avg Precision: 0.01\n",
      " \n",
      "UNCHARTED\n",
      " \n",
      "Cluster Identification\n",
      " \n",
      "HG\n",
      "Mean Avg Precision: 0.28\n",
      "JPL\n",
      "Mean Avg Precision: 0.31\n",
      "NYU\n",
      "Mean Avg Precision: 0.03\n",
      " \n"
     ]
    }
   ],
   "source": [
    "for team in results_files.keys():\n",
    "    print team.upper()\n",
    "    print ' '\n",
    "    for qtype in results_files[team].keys():\n",
    "        print qtype\n",
    "        print ' '\n",
    "        with open(results_files[team][qtype], 'r') as f:\n",
    "            results = eval(f.read())\n",
    "            for dataset in results[qtype].keys():\n",
    "                print dataset\n",
    "                data = results[qtype][dataset]\n",
    "                \n",
    "                # OPTIONAL: REMOVE QUESTIONS FOR WHICH THERE WAS NO \n",
    "                # RELEVANT ADS\n",
    "                del(data['3'])\n",
    "                \n",
    "    \n",
    "                mean_avg_prec = mean_average_precision(data)\n",
    "                if qtype in ['Point Fact', 'Cluster Aggregate']:\n",
    "                    mean_metric = mean_special_metric(data, qtype)\n",
    "                    print 'Mean Mertic: {0}'.format(mean_metric)\n",
    "                print 'Mean Avg Precision: {0}'.format(mean_avg_prec)\n",
    "        print ' '"
   ]
  },
  {
   "cell_type": "code",
   "execution_count": null,
   "metadata": {
    "collapsed": false
   },
   "outputs": [],
   "source": [
    "del(data['3'])"
   ]
  },
  {
   "cell_type": "code",
   "execution_count": null,
   "metadata": {
    "collapsed": false
   },
   "outputs": [],
   "source": [
    "data"
   ]
  },
  {
   "cell_type": "code",
   "execution_count": null,
   "metadata": {
    "collapsed": true
   },
   "outputs": [],
   "source": []
  }
 ],
 "metadata": {
  "kernelspec": {
   "display_name": "Python 2",
   "language": "python",
   "name": "python2"
  },
  "language_info": {
   "codemirror_mode": {
    "name": "ipython",
    "version": 2
   },
   "file_extension": ".py",
   "mimetype": "text/x-python",
   "name": "python",
   "nbconvert_exporter": "python",
   "pygments_lexer": "ipython2",
   "version": "2.7.11"
  }
 },
 "nbformat": 4,
 "nbformat_minor": 0
}
