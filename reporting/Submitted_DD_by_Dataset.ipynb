{
 "cells": [
  {
   "cell_type": "markdown",
   "metadata": {},
   "source": [
    "## Summarizes break down of SUBMITTED doc IDs by dataset"
   ]
  },
  {
   "cell_type": "code",
   "execution_count": 1,
   "metadata": {
    "collapsed": true
   },
   "outputs": [],
   "source": [
    "import json"
   ]
  },
  {
   "cell_type": "markdown",
   "metadata": {},
   "source": [
    "## For Aggregate Type"
   ]
  },
  {
   "cell_type": "code",
   "execution_count": 2,
   "metadata": {
    "collapsed": false
   },
   "outputs": [],
   "source": [
    "submissions_file1 =  '../data/annotation_prep/dd_clustering/FIRST_ROUND_chosen_questions.json'\n",
    "submissions_file2 =  '../data/annotation_prep/dd_clustering/SECOND_ROUND_chosen_questions.json'\n",
    "\n",
    "with open(submissions_file1, 'r') as f:\n",
    "    data1 = eval(f.read())\n",
    "    \n",
    "with open(submissions_file2, 'r') as f:\n",
    "    data2 = eval(f.read())"
   ]
  },
  {
   "cell_type": "code",
   "execution_count": 3,
   "metadata": {
    "collapsed": false
   },
   "outputs": [],
   "source": [
    "subs = {}\n",
    "for dataset in data1.keys():\n",
    "    subs[dataset] = {}\n",
    "    # Here we'll take the \"unique submissions PER QUESTION\"\n",
    "    # Therefore, if the same document is considerred twice, \n",
    "    # once each for two different questions\n",
    "    # that is considered as two \"unique submissions\"\n",
    "    # since each time, the document has a new chance of being found relevant\n",
    "    for qtype in data1[dataset].keys():\n",
    "        subs[dataset][qtype] = {}\n",
    "        for question in data1[dataset][qtype].keys():\n",
    "            temp = data1[dataset][qtype][question]['submissions']\n",
    "            if dataset != 'NYU':\n",
    "                temp.extend(data2[dataset][qtype][question]['submissions'])\n",
    "            temp = list(set(temp))\n",
    "            subs[dataset][qtype][question] = len(temp)"
   ]
  },
  {
   "cell_type": "code",
   "execution_count": 4,
   "metadata": {
    "collapsed": false
   },
   "outputs": [
    {
     "name": "stdout",
     "output_type": "stream",
     "text": [
      "CLUSTER AGGREGATE\n",
      "HG: 2796\n",
      "JPL: 1549\n",
      "NYU: 1807\n",
      " \n",
      "CLUSTER FACET\n",
      "HG: 910\n",
      "JPL: 1311\n",
      "NYU: 894\n",
      " \n",
      "CLUSTER IDENTIFICATION\n",
      "HG: 1192\n",
      "JPL: 518\n",
      "NYU: 135\n",
      " \n"
     ]
    }
   ],
   "source": [
    "for qtype in subs['HG'].keys():\n",
    "    print qtype.upper()\n",
    "    for dataset in subs.keys():\n",
    "        tempcount = 0\n",
    "        for question in subs[dataset][qtype].keys():\n",
    "            tempcount += subs[dataset][qtype][question]\n",
    "        print '{0}: {1}'.format(dataset, tempcount)\n",
    "    print ' '"
   ]
  },
  {
   "cell_type": "markdown",
   "metadata": {},
   "source": [
    "## For Point Fact Type"
   ]
  },
  {
   "cell_type": "code",
   "execution_count": null,
   "metadata": {
    "collapsed": true
   },
   "outputs": [],
   "source": []
  }
 ],
 "metadata": {
  "kernelspec": {
   "display_name": "Python 2",
   "language": "python",
   "name": "python2"
  },
  "language_info": {
   "codemirror_mode": {
    "name": "ipython",
    "version": 2
   },
   "file_extension": ".py",
   "mimetype": "text/x-python",
   "name": "python",
   "nbconvert_exporter": "python",
   "pygments_lexer": "ipython2",
   "version": "2.7.11"
  }
 },
 "nbformat": 4,
 "nbformat_minor": 0
}
