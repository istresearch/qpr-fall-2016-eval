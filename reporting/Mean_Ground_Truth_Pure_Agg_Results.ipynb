{
 "cells": [
  {
   "cell_type": "code",
   "execution_count": 16,
   "metadata": {
    "collapsed": true
   },
   "outputs": [],
   "source": [
    "import json\n",
    "import numpy"
   ]
  },
  {
   "cell_type": "code",
   "execution_count": 17,
   "metadata": {
    "collapsed": true
   },
   "outputs": [],
   "source": [
    "def mean_average_precision(data):\n",
    "    precisions = []\n",
    "    for question in data.keys():\n",
    "        precisions.append(data[question]['avg_precision'])\n",
    "    mean_ap = numpy.mean(precisions)\n",
    "    \n",
    "    return round(mean_ap, 2)"
   ]
  },
  {
   "cell_type": "code",
   "execution_count": 18,
   "metadata": {
    "collapsed": true
   },
   "outputs": [],
   "source": [
    "def mean_special_metric(data, qtype):\n",
    "    if qtype == 'Point Fact':\n",
    "        metric_type = 'pf_metric'\n",
    "    if qtype == 'Pure Aggregate':\n",
    "        metric_type = 'agg_metric'\n",
    "    metrics = []\n",
    "    for question in data.keys():\n",
    "        # Only take metric for questions for which there\n",
    "        # is a relevant document submitted\n",
    "        if data[question][metric_type] != 'NA':\n",
    "            metrics.append(data[question][metric_type])\n",
    "    mean_metrics = numpy.mean(metrics)\n",
    "    \n",
    "    return round(mean_metrics, 2)"
   ]
  },
  {
   "cell_type": "markdown",
   "metadata": {},
   "source": [
    "## Set Path to GT Results"
   ]
  },
  {
   "cell_type": "code",
   "execution_count": 19,
   "metadata": {
    "collapsed": false
   },
   "outputs": [],
   "source": [
    "results_files = {}\n",
    "\n",
    "results_files['Georgetown'] = {}\n",
    "results_files['Georgetown']['Pure Aggregate'] = ('../evaluation/gt_evaluation/Georgetown/'\n",
    "                                                  'Georgetown_pure_agg_gt_results.json')\n",
    "\n",
    "results_files['ISI'] = {}\n",
    "results_files['ISI']['Pure Aggregate'] = ('../evaluation/gt_evaluation/ISI/'\n",
    "                                                  'ISI_pure_agg_gt_results.json')\n",
    "\n",
    "results_files['Uncharted'] = {}\n",
    "results_files['Uncharted']['Pure Aggregate'] = ('../evaluation/gt_evaluation/Uncharted/'\n",
    "                                                  'Uncharted_pure_agg_gt_results.json')"
   ]
  },
  {
   "cell_type": "code",
   "execution_count": 22,
   "metadata": {
    "collapsed": false
   },
   "outputs": [
    {
     "name": "stdout",
     "output_type": "stream",
     "text": [
      "GEORGETOWN\n",
      " \n",
      "pure aggregate\n",
      " \n",
      "Pure Aggregate\n",
      "Mean Metric: 0.47\n",
      "Mean Avg Precision: 0.48\n",
      " \n",
      "ISI\n",
      " \n",
      "pure aggregate\n",
      " \n",
      "Pure Aggregate\n",
      "Mean Metric: 0.6\n",
      "Mean Avg Precision: 0.58\n",
      " \n",
      "UNCHARTED\n",
      " \n",
      "pure aggregate\n",
      " \n",
      "Pure Aggregate\n",
      "Mean Metric: 0.67\n",
      "Mean Avg Precision: 0.64\n",
      " \n"
     ]
    }
   ],
   "source": [
    "for team in results_files.keys():\n",
    "    print team.upper()\n",
    "    print ' '\n",
    "    for desc in results_files[team].keys():\n",
    "        print desc.lower()\n",
    "        print ' '\n",
    "        with open(results_files[team][desc], 'r') as f:\n",
    "            results = eval(f.read())\n",
    "            for qtype in results.keys():\n",
    "                print qtype\n",
    "                data = results[qtype]\n",
    "                mean_avg_prec = mean_average_precision(data)\n",
    "                if qtype in ['Pure Aggregate', 'Cluster Aggregate']:\n",
    "                    mean_metric = mean_special_metric(data, qtype)\n",
    "                    print 'Mean Metric: {0}'.format(mean_metric)\n",
    "                print 'Mean Avg Precision: {0}'.format(mean_avg_prec)\n",
    "                print ' '"
   ]
  },
  {
   "cell_type": "code",
   "execution_count": 21,
   "metadata": {
    "collapsed": false
   },
   "outputs": [
    {
     "data": {
      "text/plain": [
       "{'1': {'agg_metric': 1, 'avg_precision': 0.9228773144103001},\n",
       " '10': {'agg_metric': 1, 'avg_precision': 1.0},\n",
       " '11': {'agg_metric': 1, 'avg_precision': 0.6456866762204199},\n",
       " '12': {'agg_metric': 1, 'avg_precision': 0.3327614631739676},\n",
       " '13': {'agg_metric': 0, 'avg_precision': 0.24746007239128515},\n",
       " '14': {'agg_metric': 1, 'avg_precision': 0.9727227299060948},\n",
       " '15': {'agg_metric': 0, 'avg_precision': 0.6728958675389558},\n",
       " '2': {'agg_metric': 0, 'avg_precision': 0.11213578794999512},\n",
       " '3': {'agg_metric': 1, 'avg_precision': 0.708072220257684},\n",
       " '4': {'agg_metric': 0, 'avg_precision': 0.0007034974127857281},\n",
       " '5': {'agg_metric': 0, 'avg_precision': 0.13780479564797712},\n",
       " '6': {'agg_metric': 1, 'avg_precision': 0.9934661247334197},\n",
       " '7': {'agg_metric': 1, 'avg_precision': 0.9946879706777175},\n",
       " '8': {'agg_metric': 1, 'avg_precision': 1.0},\n",
       " '9': {'agg_metric': 1, 'avg_precision': 0.9042140338888154}}"
      ]
     },
     "execution_count": 21,
     "metadata": {},
     "output_type": "execute_result"
    }
   ],
   "source": [
    "data"
   ]
  },
  {
   "cell_type": "code",
   "execution_count": null,
   "metadata": {
    "collapsed": true
   },
   "outputs": [],
   "source": []
  }
 ],
 "metadata": {
  "kernelspec": {
   "display_name": "Python 2",
   "language": "python",
   "name": "python2"
  },
  "language_info": {
   "codemirror_mode": {
    "name": "ipython",
    "version": 2
   },
   "file_extension": ".py",
   "mimetype": "text/x-python",
   "name": "python",
   "nbconvert_exporter": "python",
   "pygments_lexer": "ipython2",
   "version": "2.7.11"
  }
 },
 "nbformat": 4,
 "nbformat_minor": 0
}
