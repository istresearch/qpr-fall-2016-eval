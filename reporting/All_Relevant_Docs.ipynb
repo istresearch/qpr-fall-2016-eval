{
 "cells": [
  {
   "cell_type": "code",
   "execution_count": 1,
   "metadata": {
    "collapsed": true
   },
   "outputs": [],
   "source": [
    "import json\n",
    "import csv"
   ]
  },
  {
   "cell_type": "code",
   "execution_count": 2,
   "metadata": {
    "collapsed": true
   },
   "outputs": [],
   "source": [
    "def csv_line(qid, entry):\n",
    "    line = {}\n",
    "    line['Question'] = qid\n",
    "    line['Ground Truth'] = entry['Ground Truth']\n",
    "    line['CDR'] = entry['CDR']\n",
    "    if 'HG' in entry.keys():\n",
    "        line['NYU'] = entry['NYU']\n",
    "        line['JPL'] = entry['JPL']\n",
    "        line['HG'] = entry['HG']\n",
    "        \n",
    "    return line"
   ]
  },
  {
   "cell_type": "markdown",
   "metadata": {},
   "source": [
    "# Ground Truth"
   ]
  },
  {
   "cell_type": "markdown",
   "metadata": {},
   "source": [
    "### The purpose of the first part of this notebook is to generate a dictionary for all relevant ground truth docs for each question.  This dictionary will be used to query the CDR to determine what documents exist in the CDR.\n",
    "\n",
    "See memex-analysis/cdr"
   ]
  },
  {
   "cell_type": "code",
   "execution_count": 3,
   "metadata": {
    "collapsed": false
   },
   "outputs": [],
   "source": [
    "gt_files = {}\n",
    "\n",
    "gt_files['Cluster Identification'] = ('../data/posted_GT/gt_answer_key/id_quest2ads.json')\n",
    "gt_files['Cluster Facet'] = ('../data/posted_GT/gt_answer_key/facet_quest2ads.json')\n",
    "gt_files['Cluster Aggregate'] = ('../data/posted_GT/gt_answer_key/agg_quest2ads.json')\n",
    "gt_files['Pure Aggregate'] = ('../data/posted_GT/gt_answer_key/pure_agg_gt_quest2ads.json')\n",
    "\n",
    "gt = {}\n",
    "\n",
    "for qtype in gt_files.keys():\n",
    "    data_file = gt_files[qtype]\n",
    "    with open(data_file, 'r') as f:\n",
    "        gt[qtype] = eval(f.read())"
   ]
  },
  {
   "cell_type": "code",
   "execution_count": 4,
   "metadata": {
    "collapsed": false
   },
   "outputs": [],
   "source": [
    "point_fact_file = '../data/posted_GT/ground_truth_pf_submissions_relevant_V4.json'\n",
    "\n",
    "with open(point_fact_file, 'r') as f:\n",
    "    data = eval(f.read())\n",
    "\n",
    "temp_gt = {}\n",
    "for qid in data.keys():\n",
    "    temp_gt[qid] = data[qid].keys()\n",
    "\n",
    "gt['Point Fact'] = temp_gt"
   ]
  },
  {
   "cell_type": "markdown",
   "metadata": {},
   "source": [
    "## Save File"
   ]
  },
  {
   "cell_type": "code",
   "execution_count": 5,
   "metadata": {
    "collapsed": false
   },
   "outputs": [],
   "source": [
    "save_file = 'all_gt_relevant_docs.json'\n",
    "with open(save_file, 'w') as outfile:\n",
    "    json.dump(gt, outfile, indent=2)\n",
    "    \n",
    "# Note: this file was the processed in another script and the output was returned as gt_cdr_docs.json"
   ]
  },
  {
   "cell_type": "code",
   "execution_count": 6,
   "metadata": {
    "collapsed": true
   },
   "outputs": [],
   "source": [
    "gt_docs = {}\n",
    "gt_docs_file = 'gt_cdr_docs.json'\n",
    "\n",
    "with open(gt_docs_file, 'r') as f:\n",
    "    gt_docs = eval(f.read())"
   ]
  },
  {
   "cell_type": "markdown",
   "metadata": {},
   "source": [
    "### The purpose of the second part of this notebook is to count how many pages were annotated as \"relevant\" for each question against all datasets."
   ]
  },
  {
   "cell_type": "markdown",
   "metadata": {},
   "source": [
    "# Ground Truth"
   ]
  },
  {
   "cell_type": "code",
   "execution_count": 7,
   "metadata": {
    "collapsed": false
   },
   "outputs": [],
   "source": [
    "relevant_docs = {}\n",
    "\n",
    "for qtype in gt.keys():\n",
    "    relevant_docs[qtype] = {}\n",
    "    for qid in gt[qtype].keys():\n",
    "        relevant_docs[qtype][qid] = {}\n",
    "        relevant_docs[qtype][qid]['CDR'] = gt_docs[qtype][qid]['cdr_count']\n",
    "        relevant_docs[qtype][qid]['Ground Truth'] = len(gt[qtype][qid])"
   ]
  },
  {
   "cell_type": "markdown",
   "metadata": {},
   "source": [
    "# Domain Discovery"
   ]
  },
  {
   "cell_type": "code",
   "execution_count": 8,
   "metadata": {
    "collapsed": false
   },
   "outputs": [],
   "source": [
    "dd_relevant_files = {}\n",
    "\n",
    "dd_relevant_files['Point Fact'] = ('../data/post_hoc_annotations/post_hoc_point_fact_combined.json')\n",
    "dd_relevant_files['Cluster Facet'] = ('../data/post_hoc_annotations/post_hoc_cluster_facet.json')\n",
    "dd_relevant_files['Cluster Aggregate'] = ('../data/post_hoc_annotations/post_hoc_cluster_aggregate-cleaned.json')\n",
    "dd_relevant_files['Pure Aggregate'] = ('../data/post_hoc_annotations/post_hoc_pure_agg.json')\n",
    "\n",
    "dd_relevant = []\n",
    "for qtype in dd_relevant_files.keys():\n",
    "    # Initializing to ensure removal\n",
    "    dd_relevant = []\n",
    "    del(dd_relevant)\n",
    "    dd_file = dd_relevant_files[qtype]\n",
    "    with open(dd_file, 'r') as f:\n",
    "        dd_relevant = eval(f.read())\n",
    "\n",
    "    for qid in dd_relevant.keys():\n",
    "        # Make default be zero\n",
    "        for data_set in ['HG', 'NYU', 'JPL']:\n",
    "            relevant_docs[qtype][qid][data_set] = 0\n",
    "        for dataset in dd_relevant[qid]['relevant_ads'].keys():\n",
    "            temp = dd_relevant[qid]['relevant_ads'][dataset].keys()\n",
    "            new_set = dataset.upper()\n",
    "            relevant_docs[qtype][qid][dataset.upper()] = len(temp)"
   ]
  },
  {
   "cell_type": "markdown",
   "metadata": {},
   "source": [
    "## Cluster Identification"
   ]
  },
  {
   "cell_type": "code",
   "execution_count": 9,
   "metadata": {
    "collapsed": false
   },
   "outputs": [],
   "source": [
    "with open('../evaluation/dd_evaluation/cluster_identification/Cluster_Identification_Crawl_Team_Breakdown.json', 'r') as f:\n",
    "    gt_length = eval(f.read())\n",
    "\n",
    "for qid in gt_length.keys():\n",
    "    for dataset in ['HG', 'NYU', 'JPL']:\n",
    "        relevant_docs['Cluster Identification'][qid][dataset] = gt_length[qid][dataset]"
   ]
  },
  {
   "cell_type": "markdown",
   "metadata": {},
   "source": [
    "## Save File"
   ]
  },
  {
   "cell_type": "code",
   "execution_count": 10,
   "metadata": {
    "collapsed": true
   },
   "outputs": [],
   "source": [
    "save_file = 'all_relevant_docs_totals.json'\n",
    "with open(save_file, 'w') as outfile:\n",
    "    json.dump(relevant_docs, outfile, indent=2)"
   ]
  },
  {
   "cell_type": "markdown",
   "metadata": {},
   "source": [
    "## Generate CSVs\n",
    "\n",
    "These CSVs can be manually combined into one file"
   ]
  },
  {
   "cell_type": "code",
   "execution_count": 11,
   "metadata": {
    "collapsed": false
   },
   "outputs": [],
   "source": [
    "for qtype in relevant_docs.keys():\n",
    "    file_name =  qtype.replace(' ','_') + '_relevant_docs_by_question.csv'\n",
    "    \n",
    "    with open(file_name, 'w') as csvfile:\n",
    "        fieldnames = ['Question', 'Ground Truth', 'CDR', 'NYU', 'JPL', 'HG']\n",
    "        writer = csv.DictWriter(csvfile, fieldnames=fieldnames)\n",
    "        writer.writeheader()\n",
    "        \n",
    "        for qid in relevant_docs[qtype].keys():\n",
    "            csv_dict = csv_line(qid, relevant_docs[qtype][qid])\n",
    "            writer.writerow(csv_dict)"
   ]
  },
  {
   "cell_type": "code",
   "execution_count": null,
   "metadata": {
    "collapsed": true
   },
   "outputs": [],
   "source": []
  }
 ],
 "metadata": {
  "kernelspec": {
   "display_name": "Python 2",
   "language": "python",
   "name": "python2"
  },
  "language_info": {
   "codemirror_mode": {
    "name": "ipython",
    "version": 2
   },
   "file_extension": ".py",
   "mimetype": "text/x-python",
   "name": "python",
   "nbconvert_exporter": "python",
   "pygments_lexer": "ipython2",
   "version": "2.7.11"
  }
 },
 "nbformat": 4,
 "nbformat_minor": 0
}
