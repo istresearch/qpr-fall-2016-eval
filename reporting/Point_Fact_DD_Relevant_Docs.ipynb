{
 "cells": [
  {
   "cell_type": "code",
   "execution_count": 3,
   "metadata": {
    "collapsed": true
   },
   "outputs": [],
   "source": [
    "import json"
   ]
  },
  {
   "cell_type": "code",
   "execution_count": 5,
   "metadata": {
    "collapsed": false
   },
   "outputs": [],
   "source": [
    "gt_file =  '../data/post_hoc_annotations/post_hoc_point_fact_combined.json'\n",
    "    \n",
    "with open(gt_file, 'r') as f:\n",
    "    gt = eval(f.read())"
   ]
  },
  {
   "cell_type": "markdown",
   "metadata": {},
   "source": [
    "### Number of Relevant Ads by Question"
   ]
  },
  {
   "cell_type": "code",
   "execution_count": 13,
   "metadata": {
    "collapsed": false
   },
   "outputs": [
    {
     "name": "stdout",
     "output_type": "stream",
     "text": [
      " \n",
      "217\n",
      " \n",
      "JPL\n",
      "2\n",
      " \n",
      "1339\n",
      " \n",
      "NYU\n",
      "2\n",
      " \n",
      "392\n",
      " \n",
      " \n",
      "1597\n",
      " \n",
      " \n",
      "799\n",
      " \n",
      "HG\n",
      "3\n",
      "NYU\n",
      "1\n",
      " \n",
      "1159\n",
      " \n",
      " \n",
      "1647\n",
      " \n",
      "NYU\n",
      "2\n",
      " \n",
      "1707\n",
      " \n",
      "NYU\n",
      "1\n",
      "JPL\n",
      "3\n",
      "HG\n",
      "10\n",
      " \n",
      "2304\n",
      " \n",
      " \n",
      "1180\n",
      " \n",
      " \n",
      "284\n",
      " \n",
      "HG\n",
      "1\n",
      " \n",
      "1038\n",
      " \n",
      "HG\n",
      "2\n",
      " \n",
      "510\n",
      " \n",
      "JPL\n",
      "5\n",
      "HG\n",
      "4\n",
      " \n",
      "363\n",
      " \n",
      " \n",
      "1035\n",
      " \n"
     ]
    }
   ],
   "source": [
    "for qid in gt.keys():\n",
    "    print ' '\n",
    "    print qid\n",
    "    print ' '\n",
    "    for dataset in gt[qid]['relevant_ads'].keys():\n",
    "        print dataset.upper()\n",
    "        print len(gt[qid]['relevant_ads'][dataset])"
   ]
  },
  {
   "cell_type": "code",
   "execution_count": null,
   "metadata": {
    "collapsed": true
   },
   "outputs": [],
   "source": []
  }
 ],
 "metadata": {
  "kernelspec": {
   "display_name": "Python 2",
   "language": "python",
   "name": "python2"
  },
  "language_info": {
   "codemirror_mode": {
    "name": "ipython",
    "version": 2
   },
   "file_extension": ".py",
   "mimetype": "text/x-python",
   "name": "python",
   "nbconvert_exporter": "python",
   "pygments_lexer": "ipython2",
   "version": "2.7.11"
  }
 },
 "nbformat": 4,
 "nbformat_minor": 0
}
