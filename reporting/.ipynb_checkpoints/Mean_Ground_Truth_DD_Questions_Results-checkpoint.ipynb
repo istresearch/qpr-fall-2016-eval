{
 "cells": [
  {
   "cell_type": "code",
   "execution_count": 1,
   "metadata": {
    "collapsed": true
   },
   "outputs": [],
   "source": [
    "import json\n",
    "import numpy"
   ]
  },
  {
   "cell_type": "code",
   "execution_count": 2,
   "metadata": {
    "collapsed": false
   },
   "outputs": [
    {
     "name": "stdout",
     "output_type": "stream",
     "text": [
      "Cluster Aggregate\n",
      "15\n",
      "Point Fact\n",
      "15\n",
      "Cluster Facet\n",
      "7\n",
      "Cluster Identification\n",
      "7\n"
     ]
    }
   ],
   "source": [
    "# This is for reporting in the distribution of questions chosen for evaluation\n",
    "chosen_questions_file = '../data/annotation_prep/dd_clustering/FIRST_ROUND_chosen_questions.json'\n",
    "with open(chosen_questions_file, 'r') as f:\n",
    "    chosen_questions = eval(f.read())\n",
    "    \n",
    "selected_questions = {}\n",
    "for qtype in ['Cluster Identification', 'Cluster Facet', 'Cluster Aggregate']:\n",
    "    selected_questions[qtype] = chosen_questions['NYU'][qtype].keys()\n",
    "\n",
    "selected_questions['Point Fact'] = [\n",
    "    '1647',\n",
    "    '392',\n",
    "    '1707',\n",
    "    '217',\n",
    "    '510',\n",
    "    '799',\n",
    "    '363',\n",
    "    '1597',\n",
    "    '1180',\n",
    "    '1159',\n",
    "    '1035',\n",
    "    '1038',\n",
    "    '2304',\n",
    "    '1339',\n",
    "    '284'\n",
    "]\n",
    "\n",
    "for ntype in selected_questions.keys():\n",
    "    print ntype\n",
    "    print len(selected_questions[ntype])"
   ]
  },
  {
   "cell_type": "code",
   "execution_count": 4,
   "metadata": {
    "collapsed": true
   },
   "outputs": [],
   "source": [
    "def mean_average_precision(data):\n",
    "    precisions = []\n",
    "    for question in data.keys():\n",
    "        precisions.append(data[question]['avg_precision'])\n",
    "    mean_ap = numpy.mean(precisions)\n",
    "    \n",
    "    return round(mean_ap, 2)"
   ]
  },
  {
   "cell_type": "code",
   "execution_count": 5,
   "metadata": {
    "collapsed": true
   },
   "outputs": [],
   "source": [
    "def mean_special_metric(data, qtype):\n",
    "    if qtype == 'Point Fact':\n",
    "        metric_type = 'pf_metric'\n",
    "    if qtype == 'Cluster Aggregate':\n",
    "        metric_type = 'agg_metric'\n",
    "    metrics = []\n",
    "    for question in data.keys():\n",
    "        # Only take metric for questions for which there\n",
    "        # is a relevant document submitted\n",
    "        if data[question][metric_type] != 'NA':\n",
    "            metrics.append(data[question][metric_type])\n",
    "    mean_metrics = numpy.mean(metrics)\n",
    "    \n",
    "    return round(mean_metrics, 2)"
   ]
  },
  {
   "cell_type": "markdown",
   "metadata": {},
   "source": [
    "## Set Path to GT Results"
   ]
  },
  {
   "cell_type": "code",
   "execution_count": 6,
   "metadata": {
    "collapsed": false
   },
   "outputs": [],
   "source": [
    "results_files = {}\n",
    "\n",
    "results_files['Georgetown'] = {}\n",
    "results_files['Georgetown']['Georgetown_Only'] = ('../evaluation/gt_evaluation/Georgetown/'\n",
    "                                                  'Georgetown_Georgetown_only.json')\n",
    "\n",
    "results_files['ISI'] = {}\n",
    "results_files['ISI']['ISI_Only'] = ('../evaluation/gt_evaluation/ISI/'\n",
    "                                                  'ISI_ISI_only.json')\n",
    "results_files['ISI']['Lattice_Only'] = ('../evaluation/gt_evaluation/ISI/'\n",
    "                                                  'ISI_lattice_only.json')\n",
    "results_files['ISI']['ISI_and_Lattice'] = ('../evaluation/gt_evaluation/ISI/'\n",
    "                                                  'ISI_ISI_and_lattice.json')\n",
    "\n",
    "results_files['Uncharted'] = {}\n",
    "results_files['Uncharted']['Uncharted_Only'] = ('../evaluation/gt_evaluation/Uncharted/'\n",
    "                                                  'Uncharted_Uncharted_only.json')\n",
    "results_files['Uncharted']['Uncharted_and_Lattice'] = ('../evaluation/gt_evaluation/Uncharted/'\n",
    "                                                  'Uncharted_Uncharted_and_lattice.json')\n",
    "results_files['Uncharted']['CMU_Clustering'] = ('../evaluation/gt_evaluation/Uncharted/'\n",
    "                                                  'Uncharted_CMU.json')"
   ]
  },
  {
   "cell_type": "code",
   "execution_count": 15,
   "metadata": {
    "collapsed": false
   },
   "outputs": [
    {
     "name": "stdout",
     "output_type": "stream",
     "text": [
      "GEORGETOWN\n",
      " \n",
      "georgetown_only\n",
      " \n",
      "Cluster Identification\n",
      "Mean Avg Precision: 0.26\n",
      " \n",
      "Point Fact\n",
      "Mean Mertic: 0.64\n",
      "Mean Avg Precision: 0.67\n",
      " \n",
      "Cluster Facet\n",
      "Mean Avg Precision: 0.18\n",
      " \n",
      "Cluster Aggregate\n",
      "Mean Mertic: 0.0\n",
      "Mean Avg Precision: 0.57\n",
      " \n",
      "ISI\n",
      " \n",
      "isi_only\n",
      " \n",
      "Cluster Identification\n",
      "Mean Avg Precision: 0.68\n",
      " \n",
      "Point Fact\n",
      "Mean Mertic: 0.5\n",
      "Mean Avg Precision: 0.76\n",
      " \n",
      "Cluster Facet\n",
      "Mean Avg Precision: 0.45\n",
      " \n",
      "Cluster Aggregate\n",
      "Mean Mertic: 0.0\n",
      "Mean Avg Precision: 0.29\n",
      " \n",
      "isi_and_lattice\n",
      " \n",
      "Cluster Identification\n",
      "Mean Avg Precision: 0.49\n",
      " \n",
      "Point Fact\n",
      "Mean Mertic: 0.56\n",
      "Mean Avg Precision: 0.54\n",
      " \n",
      "Cluster Facet\n",
      "Mean Avg Precision: 0.42\n",
      " \n",
      "Cluster Aggregate\n",
      "Mean Mertic: 0.0\n",
      "Mean Avg Precision: 0.24\n",
      " \n",
      "lattice_only\n",
      " \n",
      "Cluster Identification\n",
      "Mean Avg Precision: 0.12\n",
      " \n",
      "Point Fact\n",
      "Mean Mertic: 0.43\n",
      "Mean Avg Precision: 0.47\n",
      " \n",
      "Cluster Facet\n",
      "Mean Avg Precision: 0.47\n",
      " \n",
      "Cluster Aggregate\n",
      "Mean Mertic: 0.0\n",
      "Mean Avg Precision: 0.06\n",
      " \n",
      "UNCHARTED\n",
      " \n",
      "uncharted_and_lattice\n",
      " \n",
      "Cluster Identification\n",
      "Mean Avg Precision: 0.59\n",
      " \n",
      "Point Fact\n",
      "Mean Mertic: 0.42\n",
      "Mean Avg Precision: 0.84\n",
      " \n",
      "Cluster Facet\n",
      "Mean Avg Precision: 0.5\n",
      " \n",
      "Cluster Aggregate\n",
      "Mean Mertic: 0.4\n",
      "Mean Avg Precision: 0.62\n",
      " \n",
      "cmu_clustering\n",
      " \n",
      "Cluster Identification\n",
      "Mean Avg Precision: 0.63\n",
      " \n",
      "Point Fact\n",
      "Mean Mertic: 0.42\n",
      "Mean Avg Precision: 0.84\n",
      " \n",
      "Cluster Facet\n",
      "Mean Avg Precision: 0.51\n",
      " \n",
      "Cluster Aggregate\n",
      "Mean Mertic: 0.47\n",
      "Mean Avg Precision: 0.7\n",
      " \n",
      "uncharted_only\n",
      " \n",
      "Cluster Identification\n",
      "Mean Avg Precision: 0.44\n",
      " \n",
      "Point Fact\n",
      "Mean Mertic: 0.53\n",
      "Mean Avg Precision: 0.78\n",
      " \n",
      "Cluster Facet\n",
      "Mean Avg Precision: 0.39\n",
      " \n",
      "Cluster Aggregate\n",
      "Mean Mertic: 0.2\n",
      "Mean Avg Precision: 0.49\n",
      " \n"
     ]
    }
   ],
   "source": [
    "for team in results_files.keys():\n",
    "    print team.upper()\n",
    "    print ' '\n",
    "    for desc in results_files[team].keys():\n",
    "        print desc.lower()\n",
    "        print ' '\n",
    "        with open(results_files[team][desc], 'r') as f:\n",
    "            results = eval(f.read())\n",
    "            for qtype in results.keys():\n",
    "                print qtype\n",
    "                raw_data = results[qtype]\n",
    "                # Only select questions asked against the DD datasets\n",
    "                data = {}\n",
    "                for q_id in raw_data.keys():\n",
    "                    if q_id in selected_questions[qtype]:\n",
    "                        data[q_id] = raw_data[q_id]\n",
    "                mean_avg_prec = mean_average_precision(data)\n",
    "                if qtype in ['Point Fact', 'Cluster Aggregate']:\n",
    "                    mean_metric = mean_special_metric(data, qtype)\n",
    "                    print 'Mean Mertic: {0}'.format(mean_metric)\n",
    "                print 'Mean Avg Precision: {0}'.format(mean_avg_prec)\n",
    "                print ' '"
   ]
  },
  {
   "cell_type": "code",
   "execution_count": null,
   "metadata": {
    "collapsed": false
   },
   "outputs": [],
   "source": [
    "mean_metric"
   ]
  },
  {
   "cell_type": "code",
   "execution_count": null,
   "metadata": {
    "collapsed": true
   },
   "outputs": [],
   "source": []
  }
 ],
 "metadata": {
  "kernelspec": {
   "display_name": "Python 2",
   "language": "python",
   "name": "python2"
  },
  "language_info": {
   "codemirror_mode": {
    "name": "ipython",
    "version": 2
   },
   "file_extension": ".py",
   "mimetype": "text/x-python",
   "name": "python",
   "nbconvert_exporter": "python",
   "pygments_lexer": "ipython2",
   "version": "2.7.11"
  }
 },
 "nbformat": 4,
 "nbformat_minor": 0
}
