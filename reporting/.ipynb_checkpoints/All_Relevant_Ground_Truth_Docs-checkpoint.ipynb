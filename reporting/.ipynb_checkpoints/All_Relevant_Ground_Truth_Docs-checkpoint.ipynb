{
 "cells": [
  {
   "cell_type": "markdown",
   "metadata": {},
   "source": [
    "### The purpose of this notebook is to generate a dictionary for all relevant ground truth docs for each question.  This dictionary will be used to query the CDR to determine what documents exist in the CDR.\n",
    "\n",
    "See memex-analysis/cdr"
   ]
  },
  {
   "cell_type": "code",
   "execution_count": 2,
   "metadata": {
    "collapsed": true
   },
   "outputs": [],
   "source": [
    "import json"
   ]
  },
  {
   "cell_type": "markdown",
   "metadata": {},
   "source": [
    "## Set Path to GT"
   ]
  },
  {
   "cell_type": "code",
   "execution_count": 12,
   "metadata": {
    "collapsed": false
   },
   "outputs": [],
   "source": [
    "gt_files = {}\n",
    "\n",
    "gt_files['Cluster Identification'] = ('../data/posted_GT/gt_answer_key/id_quest2ads.json')\n",
    "gt_files['Cluster Facet'] = ('../data/posted_GT/gt_answer_key/facet_quest2ads.json')\n",
    "gt_files['Cluster Aggregate'] = ('../data/posted_GT/gt_answer_key/agg_quest2ads.json')\n",
    "gt_files['Pure Aggregate'] = ('../data/posted_GT/gt_answer_key/pure_agg_gt_quest2ads.json')\n",
    "\n",
    "gt = {}\n",
    "\n",
    "for qtype in gt_files.keys():\n",
    "    data_file = gt_files[qtype]\n",
    "    with open(data_file, 'r') as f:\n",
    "        gt[qtype] = eval(f.read())"
   ]
  },
  {
   "cell_type": "code",
   "execution_count": 21,
   "metadata": {
    "collapsed": false
   },
   "outputs": [],
   "source": [
    "point_fact_file = '../data/posted_GT/ground_truth_pf_submissions_relevant_V4.json'\n",
    "\n",
    "with open(point_fact_file, 'r') as f:\n",
    "    data = eval(f.read())\n",
    "\n",
    "temp_gt = {}\n",
    "for qid in data.keys():\n",
    "    temp_gt[qid] = data[qid].keys()\n",
    "\n",
    "gt['Point Fact'] = temp_gt"
   ]
  },
  {
   "cell_type": "code",
   "execution_count": 24,
   "metadata": {
    "collapsed": false
   },
   "outputs": [],
   "source": [
    "save_file = 'all_gt_relevant_docs.json'\n",
    "with open(save_file, 'w') as outfile:\n",
    "    json.dump(gt, outfile, indent=2)"
   ]
  }
 ],
 "metadata": {
  "kernelspec": {
   "display_name": "Python 2",
   "language": "python",
   "name": "python2"
  },
  "language_info": {
   "codemirror_mode": {
    "name": "ipython",
    "version": 2
   },
   "file_extension": ".py",
   "mimetype": "text/x-python",
   "name": "python",
   "nbconvert_exporter": "python",
   "pygments_lexer": "ipython2",
   "version": "2.7.11"
  }
 },
 "nbformat": 4,
 "nbformat_minor": 0
}
