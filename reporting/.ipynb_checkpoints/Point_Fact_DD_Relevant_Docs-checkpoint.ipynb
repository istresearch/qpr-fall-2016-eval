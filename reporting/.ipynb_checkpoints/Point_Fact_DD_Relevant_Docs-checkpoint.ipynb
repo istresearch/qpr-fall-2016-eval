{
 "cells": [
  {
   "cell_type": "code",
   "execution_count": 3,
   "metadata": {
    "collapsed": true
   },
   "outputs": [],
   "source": [
    "import json"
   ]
  },
  {
   "cell_type": "code",
   "execution_count": 5,
   "metadata": {
    "collapsed": false
   },
   "outputs": [],
   "source": [
    "gt_file =  '../data/post_hoc_annotations/post_hoc_point_fact_combined.json'\n",
    "    \n",
    "with open(gt_file, 'r') as f:\n",
    "    gt = eval(f.read())"
   ]
  },
  {
   "cell_type": "code",
   "execution_count": 9,
   "metadata": {
    "collapsed": false
   },
   "outputs": [
    {
     "name": "stdout",
     "output_type": "stream",
     "text": [
      " \n",
      "217\n",
      "['relevant_ads', 'question_text', 'question_id']\n",
      " \n",
      "1339\n",
      "['relevant_ads', 'question_text', 'question_id']\n",
      " \n",
      "392\n",
      "['relevant_ads', 'question_text', 'question_id']\n",
      " \n",
      "1597\n",
      "['relevant_ads', 'question_text', 'question_id']\n",
      " \n",
      "799\n",
      "['relevant_ads', 'question_text', 'question_id']\n",
      " \n",
      "1159\n",
      "['relevant_ads', 'question_text', 'question_id']\n",
      " \n",
      "1647\n",
      "['relevant_ads', 'question_text', 'question_id']\n",
      " \n",
      "1707\n",
      "['relevant_ads', 'question_text', 'question_id']\n",
      " \n",
      "2304\n",
      "['relevant_ads', 'question_text', 'question_id']\n",
      " \n",
      "1180\n",
      "['relevant_ads', 'question_text', 'question_id']\n",
      " \n",
      "284\n",
      "['relevant_ads', 'question_text', 'question_id']\n",
      " \n",
      "1038\n",
      "['relevant_ads', 'question_text', 'question_id']\n",
      " \n",
      "510\n",
      "['relevant_ads', 'question_text', 'question_id']\n",
      " \n",
      "363\n",
      "['relevant_ads', 'question_text', 'question_id']\n",
      " \n",
      "1035\n",
      "['relevant_ads', 'question_text', 'question_id']\n"
     ]
    }
   ],
   "source": [
    "for qid in gt.keys():\n",
    "    print ' '\n",
    "    print qid\n",
    "    for print gt[qid].keys()"
   ]
  },
  {
   "cell_type": "code",
   "execution_count": null,
   "metadata": {
    "collapsed": true
   },
   "outputs": [],
   "source": []
  }
 ],
 "metadata": {
  "kernelspec": {
   "display_name": "Python 2",
   "language": "python",
   "name": "python2"
  },
  "language_info": {
   "codemirror_mode": {
    "name": "ipython",
    "version": 2
   },
   "file_extension": ".py",
   "mimetype": "text/x-python",
   "name": "python",
   "nbconvert_exporter": "python",
   "pygments_lexer": "ipython2",
   "version": "2.7.11"
  }
 },
 "nbformat": 4,
 "nbformat_minor": 0
}
