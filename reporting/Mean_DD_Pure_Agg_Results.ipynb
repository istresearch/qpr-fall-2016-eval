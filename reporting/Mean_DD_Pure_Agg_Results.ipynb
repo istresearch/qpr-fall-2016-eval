{
 "cells": [
  {
   "cell_type": "code",
   "execution_count": 1,
   "metadata": {
    "collapsed": true
   },
   "outputs": [],
   "source": [
    "import json\n",
    "import numpy"
   ]
  },
  {
   "cell_type": "code",
   "execution_count": 2,
   "metadata": {
    "collapsed": true
   },
   "outputs": [],
   "source": [
    "def mean_average_precision(data):\n",
    "    precisions = []\n",
    "    for question in data.keys():\n",
    "        precisions.append(data[question]['avg_precision'])\n",
    "    mean_ap = numpy.mean(precisions)\n",
    "    \n",
    "    return round(mean_ap, 2)"
   ]
  },
  {
   "cell_type": "code",
   "execution_count": 3,
   "metadata": {
    "collapsed": true
   },
   "outputs": [],
   "source": [
    "def mean_special_metric(data, qtype):\n",
    "    if qtype == 'Point Fact':\n",
    "        metric_type = 'pf_metric'\n",
    "    if qtype == 'Pure Aggregate':\n",
    "        metric_type = 'agg_metric'\n",
    "    metrics = []\n",
    "    for question in data.keys():\n",
    "        # Only take metric for questions for which there\n",
    "        # is a aggregate value\n",
    "        if data[question][metric_type] != 'NA':\n",
    "            metrics.append(data[question][metric_type])\n",
    "    mean_metrics = numpy.mean(metrics)\n",
    "    \n",
    "    return round(mean_metrics, 2)"
   ]
  },
  {
   "cell_type": "markdown",
   "metadata": {},
   "source": [
    "## Set Path to GT Results"
   ]
  },
  {
   "cell_type": "code",
   "execution_count": 4,
   "metadata": {
    "collapsed": false
   },
   "outputs": [],
   "source": [
    "results_files = {}\n",
    "\n",
    "results_files['Georgetown'] = {}\n",
    "results_files['Georgetown']['Pure Aggregate'] = ('../evaluation/dd_evaluation/pure_aggregate/'\n",
    "                                                  'georgetown_pure_agg_DD_results.json')\n",
    "\n",
    "results_files['ISI'] = {}\n",
    "results_files['ISI']['Pure Aggregate'] = ('../evaluation/dd_evaluation/pure_aggregate/'\n",
    "                                                  'isi_pure_agg_DD_results.json')\n",
    "\n",
    "results_files['Uncharted'] = {}\n",
    "results_files['Uncharted']['Pure Aggregate'] = ('../evaluation/dd_evaluation/pure_aggregate/'\n",
    "                                                  'uncharted_pure_agg_DD_results.json')"
   ]
  },
  {
   "cell_type": "code",
   "execution_count": 5,
   "metadata": {
    "collapsed": false
   },
   "outputs": [
    {
     "name": "stdout",
     "output_type": "stream",
     "text": [
      "GEORGETOWN\n",
      " \n",
      "pure aggregate\n",
      " \n",
      "Pure Aggregate\n",
      "Mean Metric: 0.08\n",
      "Mean Avg Precision: 0.12\n",
      " \n",
      "ISI\n",
      " \n",
      "pure aggregate\n",
      " \n",
      "Pure Aggregate\n",
      "Mean Metric: 0.23\n",
      "Mean Avg Precision: 0.48\n",
      " \n",
      "UNCHARTED\n",
      " \n",
      "pure aggregate\n",
      " \n",
      "Pure Aggregate\n",
      "Mean Metric: 0.46\n",
      "Mean Avg Precision: 0.2\n",
      " \n"
     ]
    }
   ],
   "source": [
    "for team in results_files.keys():\n",
    "    print team.upper()\n",
    "    print ' '\n",
    "    for desc in results_files[team].keys():\n",
    "        print desc.lower()\n",
    "        print ' '\n",
    "        with open(results_files[team][desc], 'r') as f:\n",
    "            results = eval(f.read())\n",
    "            for qtype in results.keys():\n",
    "                print qtype\n",
    "                data = results[qtype]\n",
    "                mean_avg_prec = mean_average_precision(data)\n",
    "                if qtype in ['Pure Aggregate', 'Cluster Aggregate']:\n",
    "                    mean_metric = mean_special_metric(data, qtype)\n",
    "                    print 'Mean Metric: {0}'.format(mean_metric)\n",
    "                print 'Mean Avg Precision: {0}'.format(mean_avg_prec)\n",
    "                print ' '"
   ]
  },
  {
   "cell_type": "code",
   "execution_count": null,
   "metadata": {
    "collapsed": false
   },
   "outputs": [],
   "source": [
    "data"
   ]
  },
  {
   "cell_type": "code",
   "execution_count": null,
   "metadata": {
    "collapsed": true
   },
   "outputs": [],
   "source": []
  }
 ],
 "metadata": {
  "kernelspec": {
   "display_name": "Python 2",
   "language": "python",
   "name": "python2"
  },
  "language_info": {
   "codemirror_mode": {
    "name": "ipython",
    "version": 2
   },
   "file_extension": ".py",
   "mimetype": "text/x-python",
   "name": "python",
   "nbconvert_exporter": "python",
   "pygments_lexer": "ipython2",
   "version": "2.7.11"
  }
 },
 "nbformat": 4,
 "nbformat_minor": 0
}
