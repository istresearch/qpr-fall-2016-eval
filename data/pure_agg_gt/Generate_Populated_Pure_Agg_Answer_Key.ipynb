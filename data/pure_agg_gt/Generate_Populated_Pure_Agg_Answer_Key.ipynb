{
 "cells": [
  {
   "cell_type": "code",
   "execution_count": 26,
   "metadata": {
    "collapsed": true
   },
   "outputs": [],
   "source": [
    "import numpy\n",
    "import json"
   ]
  },
  {
   "cell_type": "code",
   "execution_count": 48,
   "metadata": {
    "collapsed": true
   },
   "outputs": [],
   "source": [
    "def aggregate(norm_extractions, agg_type):\n",
    "    if agg_type == 'AVG':\n",
    "        answer = numpy.mean(norm_extractions)\n",
    "    elif agg_type == 'MAX':\n",
    "        answer = numpy.max(norm_extractions)\n",
    "    elif agg_type == 'MIN':\n",
    "        answer = numpy.min(norm_extractions)\n",
    "    elif agg_type == 'MODE':\n",
    "        answer = max(set(norm_extractions), key=norm_extractions.count)\n",
    "        \n",
    "    return answer"
   ]
  },
  {
   "cell_type": "markdown",
   "metadata": {},
   "source": [
    "### Set Paths"
   ]
  },
  {
   "cell_type": "code",
   "execution_count": 43,
   "metadata": {
    "collapsed": false
   },
   "outputs": [],
   "source": [
    "pure_agg_blank_file = 'pure_agg_gt_answer_key_blank.json'\n",
    "dict_file = 'saved_dictionaries/norm_pure_agg_gt_values.json'"
   ]
  },
  {
   "cell_type": "code",
   "execution_count": 44,
   "metadata": {
    "collapsed": false
   },
   "outputs": [],
   "source": [
    "f = open(pure_agg_blank_file, 'r')\n",
    "blank_key = eval(f.read())\n",
    "f.close()\n",
    "\n",
    "f = open(dict_file, 'r')\n",
    "norm_dict = eval(f.read())\n",
    "f.close()"
   ]
  },
  {
   "cell_type": "code",
   "execution_count": 45,
   "metadata": {
    "collapsed": false
   },
   "outputs": [
    {
     "name": "stdout",
     "output_type": "stream",
     "text": [
      "5'3\" \n"
     ]
    }
   ],
   "source": [
    "print norm_dict['height'].keys()[0]"
   ]
  },
  {
   "cell_type": "code",
   "execution_count": 46,
   "metadata": {
    "collapsed": false
   },
   "outputs": [],
   "source": [
    "pure_agg_gt_answer_key= {}\n",
    "for quest in blank_key.keys():\n",
    "    pure_agg_gt_answer_key[quest] = blank_key[quest]\n",
    "    norm_extractions = []\n",
    "    for extraction in blank_key[quest]['extractions']:\n",
    "        norm_extract = norm_dict[blank_key[quest]['feature']][extraction]\n",
    "        if norm_extract != \"NA\":\n",
    "            norm_extractions.append(norm_extract)\n",
    "    pure_agg_gt_answer_key[quest]['norm_extractions'] = norm_extractions"
   ]
  },
  {
   "cell_type": "code",
   "execution_count": 49,
   "metadata": {
    "collapsed": false
   },
   "outputs": [],
   "source": [
    "for quest in pure_agg_gt_answer_key.keys():\n",
    "    pure_agg_gt_answer_key[quest]['agg_answer'] = aggregate(pure_agg_gt_answer_key[quest]['norm_extractions'],\n",
    "                                                           pure_agg_gt_answer_key[quest]['type'])"
   ]
  },
  {
   "cell_type": "code",
   "execution_count": 65,
   "metadata": {
    "collapsed": false
   },
   "outputs": [],
   "source": [
    "pure_agg_gt_answer_key_file = 'pure_agg_gt_answer_key.json'\n",
    "with open(pure_agg_gt_answer_key_file, 'w') as outfile:\n",
    "        json.dump(pure_agg_gt_answer_key, outfile, indent=2)"
   ]
  },
  {
   "cell_type": "markdown",
   "metadata": {},
   "source": [
    "### Take all extractions from GT"
   ]
  },
  {
   "cell_type": "markdown",
   "metadata": {},
   "source": [
    "### Write dictionary file for all non-zero length values"
   ]
  },
  {
   "cell_type": "markdown",
   "metadata": {},
   "source": [
    "## DEBUG"
   ]
  },
  {
   "cell_type": "code",
   "execution_count": 28,
   "metadata": {
    "collapsed": false
   },
   "outputs": [
    {
     "data": {
      "text/plain": [
       "[125, 125, 125, 125, 125, 125, 125, 125, 125, 125, 125, 125, 125]"
      ]
     },
     "execution_count": 28,
     "metadata": {},
     "output_type": "execute_result"
    }
   ],
   "source": [
    "norm_extractions"
   ]
  },
  {
   "cell_type": "code",
   "execution_count": null,
   "metadata": {
    "collapsed": true
   },
   "outputs": [],
   "source": []
  },
  {
   "cell_type": "code",
   "execution_count": null,
   "metadata": {
    "collapsed": false
   },
   "outputs": [],
   "source": [
    "agg_answer_key = {}\n",
    "\n",
    "for quest in agg_quest.keys():\n",
    "    agg_answer_key[quest] = agg_quest[quest]\n",
    "    # Find the feature needed\n",
    "    feature = (agg_quest[quest]['SPARQL'][0].split('\\n')[1]\n",
    "               .split('?')[1].split(' ')[0].strip(')'))\n",
    "    agg_answer_key[quest]['feature'] = feature\n",
    "    \n",
    "    # Find the relevant GT ads\n",
    "    ads = agg_gt[quest]\n",
    "    feature_extractions = get_extractions(annotations, ads,\n",
    "                                     feature.capitalize())\n",
    "    agg_answer_key[quest]['extractions'] = feature_extractions\n",
    "    norm_extractions = []\n",
    "    for extraction in agg_answer_key[quest]['extractions']:\n",
    "        norm_ext = norm[feature][extraction]\n",
    "        if norm_ext != \"NA\":\n",
    "            if feature == 'price':\n",
    "                norm_extractions.extend(norm_ext)\n",
    "            else:\n",
    "                norm_extractions.append(norm_ext)\n",
    "    agg_answer_key[quest]['norm_extractions'] = norm_extractions\n",
    "    agg_answer_key[quest]['agg_answer'] = aggreagate(agg_answer_key[quest]['norm_extractions'],\n",
    "                                                     agg_answer_key[quest]['type'])"
   ]
  }
 ],
 "metadata": {
  "kernelspec": {
   "display_name": "Python 2",
   "language": "python",
   "name": "python2"
  },
  "language_info": {
   "codemirror_mode": {
    "name": "ipython",
    "version": 2
   },
   "file_extension": ".py",
   "mimetype": "text/x-python",
   "name": "python",
   "nbconvert_exporter": "python",
   "pygments_lexer": "ipython2",
   "version": "2.7.11"
  }
 },
 "nbformat": 4,
 "nbformat_minor": 0
}
