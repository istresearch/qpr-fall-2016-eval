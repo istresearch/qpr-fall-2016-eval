{
 "cells": [
  {
   "cell_type": "code",
   "execution_count": 1,
   "metadata": {
    "collapsed": true
   },
   "outputs": [],
   "source": [
    "import json"
   ]
  },
  {
   "cell_type": "code",
   "execution_count": 63,
   "metadata": {
    "collapsed": false
   },
   "outputs": [],
   "source": [
    "def clean(value, ftype):\n",
    "    if ftype == 'phone':\n",
    "        clean_value = ''\n",
    "        for s in value:\n",
    "            if s.isdigit():\n",
    "                clean_value += s\n",
    "    else:\n",
    "        clean_value = value\n",
    "        \n",
    "    return clean_value"
   ]
  },
  {
   "cell_type": "code",
   "execution_count": 75,
   "metadata": {
    "collapsed": true
   },
   "outputs": [],
   "source": [
    "translate_feature = {\n",
    "    'phone': 'Phone Number',\n",
    "    'email': 'Email',\n",
    "    'price': 'Price',\n",
    "    'height': 'Height',\n",
    "    'weight': 'Weight',\n",
    "    'age': 'Age',\n",
    "    'name': 'Name',\n",
    "    'location': 'Location',\n",
    "    'hair_color': 'Hair Color',\n",
    "    'services': 'Services',\n",
    "    'ethnicity': 'Nationality / Ethnicity'\n",
    "}"
   ]
  },
  {
   "cell_type": "code",
   "execution_count": 3,
   "metadata": {
    "collapsed": false
   },
   "outputs": [],
   "source": [
    "data_file = '../cluster_annotations/cluster_annotations.json'\n",
    "f = open(data_file, 'r')\n",
    "data = eval(f.read())\n",
    "f.close()\n",
    "\n",
    "questions_file = '../../questions/pure_agg_gt_questions_V3.json'\n",
    "questions = []\n",
    "with open(questions_file, 'r') as f:\n",
    "    for line in f:\n",
    "        temp = json.loads(line)\n",
    "        questions.append(temp)"
   ]
  },
  {
   "cell_type": "markdown",
   "metadata": {},
   "source": [
    "### Create huge list of ads"
   ]
  },
  {
   "cell_type": "code",
   "execution_count": 4,
   "metadata": {
    "collapsed": true
   },
   "outputs": [],
   "source": [
    "ads = []\n",
    "for clus in data:\n",
    "    for ad in clus:\n",
    "        ads.append(ad)"
   ]
  },
  {
   "cell_type": "markdown",
   "metadata": {},
   "source": [
    "### Determine Filter and Query Features and Values"
   ]
  },
  {
   "cell_type": "code",
   "execution_count": 79,
   "metadata": {
    "collapsed": false
   },
   "outputs": [],
   "source": [
    "filter_criteria = {}\n",
    "for question in questions:\n",
    "    filter_criteria[question['id']] = {}\n",
    "    qlines = question['SPARQL'][1].split('\\n')\n",
    "    filter_criteria[question['id']]['query'] = qlines[1].split('?')[1].strip()\n",
    "    filter_criteria[question['id']]['filters'] = {}\n",
    "    for line in qlines:\n",
    "        if 'qpr:' in line and '?' not in line and 'PREFIX' not in line:\n",
    "            filter_type = line.split(' ')[0].replace('\\tqpr:', '')\n",
    "            filter_value = line.split(\"'\")[1].replace(\"'\", '')\n",
    "            filter_criteria[question['id']]['filters'][filter_type] = filter_value"
   ]
  },
  {
   "cell_type": "code",
   "execution_count": 84,
   "metadata": {
    "collapsed": false
   },
   "outputs": [],
   "source": [
    "pure_agg_gt_answers = {}\n",
    "for quest in filter_criteria.keys():\n",
    "    pure_agg_gt_answers[quest] = {}\n",
    "    matches = []\n",
    "    query = filter_criteria[quest]['query']\n",
    "    for ad in ads:\n",
    "        match = 0\n",
    "        if 'features' in ad.keys():\n",
    "            for feature in filter_criteria[quest]['filters'].keys():\n",
    "                if translate_feature[feature] in ad['features'].keys():\n",
    "                    for entry in ad['features'][translate_feature[feature]]:\n",
    "                        if 'text' in entry.keys():\n",
    "                            ad_value = clean(entry['text'], feature)\n",
    "                            if filter_criteria[quest]['filters'][feature].lower() in ad_value.lower():\n",
    "                                match += 1\n",
    "        # If you found as many matches as there are filters\n",
    "        if match == len(filter_criteria[quest]['filters'].keys()):\n",
    "            matches.append(ad)\n",
    "    \n",
    "    # Now take query value from each matching ad\n",
    "    for ad in matches:\n",
    "        query_values = []\n",
    "        if translate_feature[query] in ad['features'].keys():\n",
    "            for entry in ad['features'][translate_feature[query]]:\n",
    "                if 'text' in entry.keys():\n",
    "                    query_values.append(entry['text'])\n",
    "        pure_agg_gt_answers[quest][ad['obj_parent']] = query_values"
   ]
  },
  {
   "cell_type": "markdown",
   "metadata": {},
   "source": [
    "## Save Ad IDs to be used for Average Precision Calculation\n",
    "\n",
    "This will be manually renamed to avoid overwriting"
   ]
  },
  {
   "cell_type": "code",
   "execution_count": 96,
   "metadata": {
    "collapsed": false
   },
   "outputs": [],
   "source": [
    "pure_agg_gt_quest2ads = {}\n",
    "for quest in pure_agg_gt_answers.keys():\n",
    "    pure_agg_gt_quest2ads[int(quest)] = pure_agg_gt_answers[quest].keys()\n",
    "\n",
    "filename = '../posted_gt/gt_answer_key/pure_agg_gt_quest2ads_rewrite.json'\n",
    "with open(filename, 'w') as outfile:\n",
    "    json.dump(pure_agg_gt_quest2ads, outfile)"
   ]
  },
  {
   "cell_type": "markdown",
   "metadata": {},
   "source": [
    "## Save Extracted Query Values to be Manually Normalized\n",
    "\n",
    "This will be manually renamed to avoid overwriting"
   ]
  },
  {
   "cell_type": "code",
   "execution_count": 100,
   "metadata": {
    "collapsed": false
   },
   "outputs": [],
   "source": [
    "# Make list of all types to be normalized\n",
    "qtypes = []\n",
    "for quest in filter_criteria.keys():\n",
    "    qtypes.append(filter_criteria[quest]['query'])\n",
    "    qtypes = list(set(qtypes))"
   ]
  },
  {
   "cell_type": "code",
   "execution_count": 104,
   "metadata": {
    "collapsed": false
   },
   "outputs": [],
   "source": [
    "norm_values = {}\n",
    "for query in qtypes:\n",
    "    norm_values[query] = {}\n",
    "    qvalues = []\n",
    "    for quest in filter_criteria.keys():\n",
    "        if filter_criteria[quest]['query'] == query:\n",
    "            for ad in pure_agg_gt_answers[quest].keys():\n",
    "                qvalues.extend(pure_agg_gt_answers[quest][ad])\n",
    "    qvalues = list(set(qvalues))\n",
    "    # Make empty dictionary entry to be manually (normalized) populated later\n",
    "    for value in qvalues:\n",
    "        norm_values[query][value] = ' '"
   ]
  },
  {
   "cell_type": "code",
   "execution_count": 107,
   "metadata": {
    "collapsed": true
   },
   "outputs": [],
   "source": [
    "filename = 'norm_pure_agg_gt_values_rewrite.json'\n",
    "with open(filename, 'w') as outfile:\n",
    "    json.dump(norm_values, outfile, indent=2)"
   ]
  },
  {
   "cell_type": "markdown",
   "metadata": {},
   "source": [
    "## Save Incomplete Answer Key to be Populated by Next Script\n",
    "\n",
    "This will be manually renamed to avoid overwriting\n",
    "\n",
    "Trying to make the format match agg_answer_key.json"
   ]
  },
  {
   "cell_type": "code",
   "execution_count": 139,
   "metadata": {
    "collapsed": false
   },
   "outputs": [],
   "source": [
    "answer_key = {}\n",
    "for quest in questions:\n",
    "    answer_key[str(quest['id'])] = {}\n",
    "    answer_key[str(quest['id'])]['question'] = quest['question']\n",
    "    answer_key[str(quest['id'])]['SPARQL'] = quest['SPARQL']\n",
    "    answer_key[str(quest['id'])]['type'] = quest['type']\n",
    "    answer_key[str(quest['id'])]['id'] = str(quest['id'])\n",
    "    answer_key[str(quest['id'])]['agg_answer'] = ' '\n",
    "    extractions = []\n",
    "    for ad in pure_agg_gt_answers[quest['id']]:\n",
    "        extractions.extend(pure_agg_gt_answers[quest['id']][ad])\n",
    "    answer_key[str(quest['id'])]['extractions'] = extractions\n",
    "    answer_key[str(quest['id'])]['feature'] = filter_criteria[quest['id']]['query']"
   ]
  },
  {
   "cell_type": "code",
   "execution_count": 140,
   "metadata": {
    "collapsed": true
   },
   "outputs": [],
   "source": [
    "filename = 'pure_agg_gt_answer_key_blank.json'\n",
    "with open(filename, 'w') as outfile:\n",
    "    json.dump(answer_key, outfile, indent=2)"
   ]
  },
  {
   "cell_type": "code",
   "execution_count": 138,
   "metadata": {
    "collapsed": false
   },
   "outputs": [
    {
     "data": {
      "text/plain": [
       "{'filters': {u'phone': u'4388042437'}, 'query': u'name'}"
      ]
     },
     "execution_count": 138,
     "metadata": {},
     "output_type": "execute_result"
    }
   ],
   "source": [
    "filter_criteria[1]"
   ]
  },
  {
   "cell_type": "code",
   "execution_count": null,
   "metadata": {
    "collapsed": true
   },
   "outputs": [],
   "source": []
  }
 ],
 "metadata": {
  "kernelspec": {
   "display_name": "Python 2",
   "language": "python",
   "name": "python2"
  },
  "language_info": {
   "codemirror_mode": {
    "name": "ipython",
    "version": 2
   },
   "file_extension": ".py",
   "mimetype": "text/x-python",
   "name": "python",
   "nbconvert_exporter": "python",
   "pygments_lexer": "ipython2",
   "version": "2.7.11"
  }
 },
 "nbformat": 4,
 "nbformat_minor": 0
}
