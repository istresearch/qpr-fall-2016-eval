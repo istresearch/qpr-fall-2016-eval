{
 "cells": [
  {
   "cell_type": "code",
   "execution_count": 1,
   "metadata": {
    "collapsed": true
   },
   "outputs": [],
   "source": [
    "import json"
   ]
  },
  {
   "cell_type": "code",
   "execution_count": 63,
   "metadata": {
    "collapsed": false
   },
   "outputs": [],
   "source": [
    "def clean(value, ftype):\n",
    "    if ftype == 'phone':\n",
    "        clean_value = ''\n",
    "        for s in value:\n",
    "            if s.isdigit():\n",
    "                clean_value += s\n",
    "    else:\n",
    "        clean_value = value\n",
    "        \n",
    "    return clean_value"
   ]
  },
  {
   "cell_type": "code",
   "execution_count": 75,
   "metadata": {
    "collapsed": true
   },
   "outputs": [],
   "source": [
    "translate_feature = {\n",
    "    'phone': 'Phone Number',\n",
    "    'email': 'Email',\n",
    "    'price': 'Price',\n",
    "    'height': 'Height',\n",
    "    'weight': 'Weight',\n",
    "    'age': 'Age',\n",
    "    'name': 'Name',\n",
    "    'location': 'Location',\n",
    "    'hair_color': 'Hair Color',\n",
    "    'services': 'Services',\n",
    "    'ethnicity': 'Nationality / Ethnicity'\n",
    "}"
   ]
  },
  {
   "cell_type": "code",
   "execution_count": 3,
   "metadata": {
    "collapsed": false
   },
   "outputs": [],
   "source": [
    "data_file = '../cluster_annotations/cluster_annotations.json'\n",
    "f = open(data_file, 'r')\n",
    "data = eval(f.read())\n",
    "f.close()\n",
    "\n",
    "questions_file = '../../questions/pure_agg_gt_questions_V3.json'\n",
    "questions = []\n",
    "with open(questions_file, 'r') as f:\n",
    "    for line in f:\n",
    "        temp = json.loads(line)\n",
    "        questions.append(temp)"
   ]
  },
  {
   "cell_type": "markdown",
   "metadata": {},
   "source": [
    "### Create huge list of ads"
   ]
  },
  {
   "cell_type": "code",
   "execution_count": 4,
   "metadata": {
    "collapsed": true
   },
   "outputs": [],
   "source": [
    "ads = []\n",
    "for clus in data:\n",
    "    for ad in clus:\n",
    "        ads.append(ad)"
   ]
  },
  {
   "cell_type": "markdown",
   "metadata": {},
   "source": [
    "### Determine Filter and Query Features and Values"
   ]
  },
  {
   "cell_type": "code",
   "execution_count": 79,
   "metadata": {
    "collapsed": false
   },
   "outputs": [],
   "source": [
    "filter_criteria = {}\n",
    "for question in questions:\n",
    "    filter_criteria[question['id']] = {}\n",
    "    qlines = question['SPARQL'][1].split('\\n')\n",
    "    filter_criteria[question['id']]['query'] = qlines[1].split('?')[1].strip()\n",
    "    filter_criteria[question['id']]['filters'] = {}\n",
    "    for line in qlines:\n",
    "        if 'qpr:' in line and '?' not in line and 'PREFIX' not in line:\n",
    "            filter_type = line.split(' ')[0].replace('\\tqpr:', '')\n",
    "            filter_value = line.split(\"'\")[1].replace(\"'\", '')\n",
    "            filter_criteria[question['id']]['filters'][filter_type] = filter_value"
   ]
  },
  {
   "cell_type": "code",
   "execution_count": 84,
   "metadata": {
    "collapsed": false
   },
   "outputs": [],
   "source": [
    "pure_agg_gt_answers = {}\n",
    "for quest in filter_criteria.keys():\n",
    "    pure_agg_gt_answers[quest] = {}\n",
    "    matches = []\n",
    "    query = filter_criteria[quest]['query']\n",
    "    for ad in ads:\n",
    "        match = 0\n",
    "        if 'features' in ad.keys():\n",
    "            for feature in filter_criteria[quest]['filters'].keys():\n",
    "                if translate_feature[feature] in ad['features'].keys():\n",
    "                    for entry in ad['features'][translate_feature[feature]]:\n",
    "                        if 'text' in entry.keys():\n",
    "                            ad_value = clean(entry['text'], feature)\n",
    "                            if filter_criteria[quest]['filters'][feature].lower() in ad_value.lower():\n",
    "                                match += 1\n",
    "        # If you found as many matches as there are filters\n",
    "        if match == len(filter_criteria[quest]['filters'].keys()):\n",
    "            matches.append(ad)\n",
    "    \n",
    "    # Now take query value from each matching ad\n",
    "    for ad in matches:\n",
    "        query_values = []\n",
    "        if translate_feature[query] in ad['features'].keys():\n",
    "            for entry in ad['features'][translate_feature[query]]:\n",
    "                if 'text' in entry.keys():\n",
    "                    query_values.append(entry['text'])\n",
    "        pure_agg_gt_answers[quest][ad['obj_parent']] = query_values"
   ]
  },
  {
   "cell_type": "markdown",
   "metadata": {},
   "source": [
    "## Save Ad IDs to be used for Average Precision Calculation\n",
    "\n",
    "This will be manually renamed to avoid overwriting"
   ]
  },
  {
   "cell_type": "code",
   "execution_count": 96,
   "metadata": {
    "collapsed": false
   },
   "outputs": [],
   "source": [
    "pure_agg_gt_quest2ads = {}\n",
    "for quest in pure_agg_gt_answers.keys():\n",
    "    pure_agg_gt_quest2ads[int(quest)] = pure_agg_gt_answers[quest].keys()\n",
    "\n",
    "filename = '../posted_gt/gt_answer_key/pure_agg_gt_quest2ads_rewrite.json'\n",
    "with open(filename, 'w') as outfile:\n",
    "    json.dump(pure_agg_gt_quest2ads, outfile)"
   ]
  },
  {
   "cell_type": "markdown",
   "metadata": {},
   "source": [
    "## Save Extracted Query Values to be Manually Normalized\n",
    "\n",
    "This will be manually renamed to avoid overwriting"
   ]
  },
  {
   "cell_type": "code",
   "execution_count": 100,
   "metadata": {
    "collapsed": false
   },
   "outputs": [],
   "source": [
    "# Make list of all types to be normalized\n",
    "qtypes = []\n",
    "for quest in filter_criteria.keys():\n",
    "    qtypes.append(filter_criteria[quest]['query'])\n",
    "    qtypes = list(set(qtypes))"
   ]
  },
  {
   "cell_type": "code",
   "execution_count": 104,
   "metadata": {
    "collapsed": false
   },
   "outputs": [],
   "source": [
    "norm_values = {}\n",
    "for query in qtypes:\n",
    "    norm_values[query] = {}\n",
    "    qvalues = []\n",
    "    for quest in filter_criteria.keys():\n",
    "        if filter_criteria[quest]['query'] == query:\n",
    "            for ad in pure_agg_gt_answers[quest].keys():\n",
    "                qvalues.extend(pure_agg_gt_answers[quest][ad])\n",
    "    qvalues = list(set(qvalues))\n",
    "    # Make empty dictionary entry to be manually (normalized) populated later\n",
    "    for value in qvalues:\n",
    "        norm_values[query][value] = ' '"
   ]
  },
  {
   "cell_type": "code",
   "execution_count": 107,
   "metadata": {
    "collapsed": true
   },
   "outputs": [],
   "source": [
    "filename = 'norm_pure_agg_gt_values_rewrite.json'\n",
    "with open(filename, 'w') as outfile:\n",
    "    json.dump(norm_values, outfile, indent=2)"
   ]
  },
  {
   "cell_type": "markdown",
   "metadata": {},
   "source": [
    "## Save Incomplete Answer Key to be Populated by Next Script\n",
    "\n",
    "This will be manually renamed to avoid overwriting\n",
    "\n",
    "Trying to make the format match agg_answer_key.json"
   ]
  },
  {
   "cell_type": "code",
   "execution_count": 119,
   "metadata": {
    "collapsed": false
   },
   "outputs": [],
   "source": [
    "answer_key = {}\n",
    "for quest in questions:\n",
    "    answer_key[str(quest['id'])] = {}\n",
    "    answer_key[str(quest['id'])]['question'] = quest['question']\n",
    "    answer_key[str(quest['id'])]['SPARQL'] = quest['SPARQL']\n",
    "    answer_key[str(quest['id'])]['type'] = quest['type']\n",
    "    answer_key[str(quest['id'])]['id'] = str(quest['id'])\n",
    "    answer_key[str(quest['id'])]['agg_answer'] = ' '\n",
    "    extractions = []\n",
    "    for ad in pure_agg_gt_answers[quest['id']]"
   ]
  },
  {
   "cell_type": "code",
   "execution_count": 120,
   "metadata": {
    "collapsed": false
   },
   "outputs": [
    {
     "data": {
      "text/plain": [
       "{'099CF86376D89693C4E14C466E899CFC0857E755FE57C049B94ACDDAD1720A0B': ['Maria'],\n",
       " '10AC14AC64077F43076A9D35B586D4F886987564E9079A59DE6D2F38602E4690': ['Maria'],\n",
       " '15404EAC0AEC9BB3D77C0BEBBCC16D080A0987D1B295EA1704E153902419F728': ['Maria'],\n",
       " '17DBBA72C5DD48105B7D7CBCE7A019132362CB73E9154DF47577355E79D133D8': [],\n",
       " '2B22C8CC07B210A5869C1ED76F2A8B4F1CE821BFF89CD5FCC8816D1C59CC2641': ['Maria'],\n",
       " '36941600DE49827FF585B1C95F978BD5091538293A3EE3E744CA93EF08F1D47A': ['Maria'],\n",
       " '3D602089070E93AC7CFE7971430EC12A96775F50BF387080A3A28D4DAF67ED69': ['Maria'],\n",
       " '631637F1566B35AB4700264E2146559548170AC4BC05EED5D74005361EC8512E': ['Maria'],\n",
       " '7389E5C7985EC8D639B62132814E4C0C895EBC36D4D4533C1A5C3D8F85381C27': ['Maria'],\n",
       " '8C564B14CE5C67FC1C56A12DAF500068D730F2524C6E361144DAB448B3622D11': ['Maria'],\n",
       " '924C066F4585D3FCD2757A1BA7D38AFB089AD69953CD0A4E75AC80667F0C6F6B': ['Maria'],\n",
       " '96BE675A79D7601EE999A1EBD7CF1AC7CAF7C8429EFEF444F1371BD541978A18': [' Maria'],\n",
       " 'A43A49D22336B5AA79F5C7E56E9553E50B70140BA93B7E8F3E47D8EB39F3C882': ['Daniela '],\n",
       " 'B434771FCA260ABA0C983A740DC72279B5CC539CDDA1AEFBF66B2BE674DF5F17': ['Maria'],\n",
       " 'B918710E96782403D4E05D7FDDB7FF325DB26970B4950FFAA2A43FC98E0A8BD0': ['Maria'],\n",
       " 'C1139EDE4D292E1E2E440219BE4087C313E6F8BDCBD9D2255A5332F70838E6E1': ['Maria'],\n",
       " 'C41FDFF5E64B7109D5F481B87670D6C761B590BBC582C9B27D3B717FC23ACD25': ['Maria'],\n",
       " 'CC6B5C87D98286CBBD311256B189BDF5E0B6D8D5E637260246D936B965CCDBF7': ['Daniela '],\n",
       " 'D1CE5135EAB4A9D384A11446CBA68ED990430D9D0EF45BEE6A1E1FADD0C3AB53': [],\n",
       " 'DDAFB35098B494EA78277DB33E7541DEDEE4F059D5804535FB0B67CF0401964A': ['Daniela '],\n",
       " 'E29FD364ECA986B8E72C5D063E5989C93D4BDCFF835D72A54B2E72AA616CFEC8': ['Maria'],\n",
       " 'E45BD1272392D722CB062DBFFF632B65D84CD7AA5E1504CD3F22A4EBB3F546C3': ['Daniela '],\n",
       " 'F6BB9DA7EC4D9CDE6663B010E0B86FCA8CE7D0EAA5EB5E66F05E65A9F21CD5F3': ['Maria'],\n",
       " 'F9218CCF6CB14219DBC49081D767E20ABDA85FED0AD49994D17A2B171B6F2169': ['Maria '],\n",
       " 'FB3E84BBF007FB574E50CF2403CB110FB789A452BD6726327EA86968252EC683': ['Daniela'],\n",
       " 'FBDA87DBCBACECE04042C36A5A657286EB3793136EA8EDD9398C39A1DF980D25': ['Maria']}"
      ]
     },
     "execution_count": 120,
     "metadata": {},
     "output_type": "execute_result"
    }
   ],
   "source": [
    "pure_agg_gt_answers[1]"
   ]
  },
  {
   "cell_type": "code",
   "execution_count": 125,
   "metadata": {
    "collapsed": false
   },
   "outputs": [
    {
     "data": {
      "text/plain": [
       "{u'SPARQL': [u\"PREFIX qpr: <http://istresearch.com/qpr>\\nSELECT ?location (count(?ad) AS ?count)\\nWHERE\\n{\\t?ad a qpr:Ad ;\\n\\tqpr:name 'Faith';\\n\\tqpr:location ?location\\n}\\nGROUP BY ?location\\nORDER BY DESC(?count)\\nLIMIT 1\",\n",
       "  u\"PREFIX qpr: <http://istresearch.com/qpr>\\nSELECT ?location ?ad\\nWHERE\\n{\\t?ad a qpr:Ad;\\n\\tqpr:name 'Faith';\\n\\tqpr:location ?location\\n}\"],\n",
       " u'id': 15,\n",
       " u'question': u\"What is the most common location of escorts found in all ads where the provided name of the escort is 'Faith'?\",\n",
       " u'type': u'MODE'}"
      ]
     },
     "execution_count": 125,
     "metadata": {},
     "output_type": "execute_result"
    }
   ],
   "source": [
    "quest"
   ]
  },
  {
   "cell_type": "code",
   "execution_count": null,
   "metadata": {
    "collapsed": true
   },
   "outputs": [],
   "source": []
  }
 ],
 "metadata": {
  "kernelspec": {
   "display_name": "Python 2",
   "language": "python",
   "name": "python2"
  },
  "language_info": {
   "codemirror_mode": {
    "name": "ipython",
    "version": 2
   },
   "file_extension": ".py",
   "mimetype": "text/x-python",
   "name": "python",
   "nbconvert_exporter": "python",
   "pygments_lexer": "ipython2",
   "version": "2.7.11"
  }
 },
 "nbformat": 4,
 "nbformat_minor": 0
}
