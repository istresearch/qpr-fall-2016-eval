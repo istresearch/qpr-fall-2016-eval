{
 "cells": [
  {
   "cell_type": "code",
   "execution_count": 1,
   "metadata": {
    "collapsed": true
   },
   "outputs": [],
   "source": [
    "import json\n",
    "import operator"
   ]
  },
  {
   "cell_type": "code",
   "execution_count": 2,
   "metadata": {
    "collapsed": true
   },
   "outputs": [],
   "source": [
    "pool_depth = 100"
   ]
  },
  {
   "cell_type": "code",
   "execution_count": 3,
   "metadata": {
    "collapsed": true
   },
   "outputs": [],
   "source": [
    "def clean_sub(raw_sub, index_of_ad, index_of_score, expected_length):\n",
    "    seen = []\n",
    "    uniqs = []\n",
    "    # explicitly check ordering\n",
    "    i = 100\n",
    "    # Pull out entries not of expected length\n",
    "    sub = []\n",
    "    for x in raw_sub:\n",
    "        if type(x) == list:\n",
    "            if len(x) == expected_length:\n",
    "                sub.append(x)\n",
    "    sub.sort(key=operator.itemgetter(index_of_score), reverse=True)\n",
    "    \n",
    "    for entry in sub:\n",
    "        if len(entry) == expected_length:\n",
    "            if entry[index_of_score] > i:\n",
    "                print \"ORDERING PROBLEM\"\n",
    "                return None\n",
    "            i = entry[index_of_score]\n",
    "            #else:\n",
    "            #    print type(entry)\n",
    "            \n",
    "    # de-dupe\n",
    "    for entry in sub:\n",
    "        if len(entry) == expected_length:\n",
    "            if entry[index_of_ad] not in seen:\n",
    "                uniqs.append(entry)\n",
    "                seen.append(entry[index_of_ad])\n",
    "                \n",
    "    # explicitly sort by score after de-duping\n",
    "    uniqs.sort(key=operator.itemgetter(index_of_score), reverse=True)\n",
    "    \n",
    "    # explicitly check ordering\n",
    "    i = 100\n",
    "    for entry in uniqs:\n",
    "        if entry[index_of_score] > i:\n",
    "            print \"ORDERING PROBLEM\"\n",
    "            return None\n",
    "        i = entry[index_of_score]\n",
    "        \n",
    "    return uniqs"
   ]
  },
  {
   "cell_type": "code",
   "execution_count": 4,
   "metadata": {
    "collapsed": false
   },
   "outputs": [],
   "source": [
    "def get_subs(team, entry, id_pos, score_pos, ans_length):\n",
    "    submissions = clean_sub(entry[configs[team]['afield']], id_pos, score_pos, ans_length)\n",
    "    # Reconfirming no dupes\n",
    "    if len(submissions) != len(list(set(tuple(i) for i in submissions))):\n",
    "        print \"PROBLEM WITH DUPLICATED DOC IDS\"\n",
    "    # Now that submissions are sorted, only take top N\n",
    "    if len(submissions) > pool_depth:\n",
    "        submissions = submissions[:pool_depth]\n",
    "        #print \"POOL DEPTH REACHED\"\n",
    "    \n",
    "    return submissions"
   ]
  },
  {
   "cell_type": "markdown",
   "metadata": {},
   "source": [
    "## Note which questions are to be evaluated"
   ]
  },
  {
   "cell_type": "code",
   "execution_count": 5,
   "metadata": {
    "collapsed": false
   },
   "outputs": [],
   "source": [
    "questions_file =  '../annotation_prep/dd_clustering/FIRST_ROUND_chosen_questions.json'\n",
    "\n",
    "with open(questions_file, 'r') as f:\n",
    "    questions = eval(f.read())\n",
    "\n",
    "question_ids = {}\n",
    "for qtype in questions['NYU'].keys():\n",
    "    question_ids[qtype] = questions['NYU'][qtype].keys()"
   ]
  },
  {
   "cell_type": "markdown",
   "metadata": {},
   "source": [
    "## Obtain Submissions From Each Team"
   ]
  },
  {
   "cell_type": "code",
   "execution_count": 6,
   "metadata": {
    "collapsed": true
   },
   "outputs": [],
   "source": [
    "configs = {}\n",
    "configs['Georgetown'] = {}\n",
    "configs['Georgetown']['qfield'] = 'id'\n",
    "configs['Georgetown']['afield'] = 'answer'\n",
    "configs['Georgetown']['Cluster Identification'] = {}\n",
    "configs['Georgetown']['Cluster Identification']['id_pos'] = 0\n",
    "configs['Georgetown']['Cluster Identification']['score_pos'] = 1\n",
    "configs['Georgetown']['Cluster Identification']['exp_length'] = 2\n",
    "configs['Georgetown']['Cluster Facet'] = {}\n",
    "configs['Georgetown']['Cluster Facet']['id_pos'] = 1\n",
    "configs['Georgetown']['Cluster Facet']['score_pos'] = 2\n",
    "configs['Georgetown']['Cluster Facet']['exp_length'] = 3\n",
    "configs['Georgetown']['Cluster Aggregate'] = {}\n",
    "configs['Georgetown']['Cluster Aggregate']['id_pos'] = 1\n",
    "configs['Georgetown']['Cluster Aggregate']['score_pos'] = 2\n",
    "configs['Georgetown']['Cluster Aggregate']['exp_length'] = 3\n",
    "\n",
    "configs['ISI'] = {}\n",
    "configs['ISI']['qfield'] = 'question_id'\n",
    "configs['ISI']['afield'] = 'answer'\n",
    "configs['ISI']['Cluster Identification'] = {}\n",
    "configs['ISI']['Cluster Identification']['id_pos'] = 1\n",
    "configs['ISI']['Cluster Identification']['score_pos'] = 2\n",
    "configs['ISI']['Cluster Identification']['exp_length'] = 3\n",
    "configs['ISI']['Cluster Facet'] = {}\n",
    "configs['ISI']['Cluster Facet']['id_pos'] = 1\n",
    "configs['ISI']['Cluster Facet']['score_pos'] = 2\n",
    "configs['ISI']['Cluster Facet']['exp_length'] = 3\n",
    "configs['ISI']['Cluster Aggregate'] = {}\n",
    "configs['ISI']['Cluster Aggregate']['id_pos'] = 1\n",
    "configs['ISI']['Cluster Aggregate']['score_pos'] = 2\n",
    "configs['ISI']['Cluster Aggregate']['exp_length'] = 3\n",
    "\n",
    "configs['Uncharted'] = {}\n",
    "configs['Uncharted']['qfield'] = 'question_id'\n",
    "configs['Uncharted']['afield'] = 'answers'\n",
    "configs['Uncharted']['Cluster Identification'] = {}\n",
    "configs['Uncharted']['Cluster Identification']['id_pos'] = 0\n",
    "configs['Uncharted']['Cluster Identification']['score_pos'] = 1\n",
    "configs['Uncharted']['Cluster Identification']['exp_length'] = 2\n",
    "configs['Uncharted']['Cluster Facet'] = {}\n",
    "configs['Uncharted']['Cluster Facet']['id_pos'] = 1\n",
    "configs['Uncharted']['Cluster Facet']['score_pos'] = 2\n",
    "configs['Uncharted']['Cluster Facet']['exp_length'] = 3\n",
    "configs['Uncharted']['Cluster Aggregate'] = {}\n",
    "configs['Uncharted']['Cluster Aggregate']['id_pos'] = 1\n",
    "configs['Uncharted']['Cluster Aggregate']['score_pos'] = 2\n",
    "configs['Uncharted']['Cluster Aggregate']['exp_length'] = 3"
   ]
  },
  {
   "cell_type": "code",
   "execution_count": 7,
   "metadata": {
    "collapsed": false
   },
   "outputs": [],
   "source": [
    "submission_file_paths = {}\n",
    "submission_file_paths['Georgetown'] = {}\n",
    "submission_file_paths['Georgetown']['NYU'] = {}\n",
    "submission_file_paths['Georgetown']['NYU']['Cluster Identification'] = 'Georgetown/DomainDiscovery/NYU_CI.json'\n",
    "submission_file_paths['Georgetown']['NYU']['Cluster Facet'] = 'Georgetown/DomainDiscovery/NYU_CF.json'\n",
    "submission_file_paths['Georgetown']['NYU']['Cluster Aggregate'] = 'Georgetown/DomainDiscovery/NYU_aggregate.json'\n",
    "submission_file_paths['Georgetown']['HG'] = {}\n",
    "submission_file_paths['Georgetown']['HG']['Cluster Identification'] = ('Georgetown/DomainDiscovery/'\n",
    "                                                                       'Georgetown_Submission_2_8/HG/'\n",
    "                                                                       'HG_Cluster_Identification.json')\n",
    "submission_file_paths['Georgetown']['HG']['Cluster Facet'] = ('Georgetown/DomainDiscovery/'\n",
    "                                                              'Georgetown_Submission_2_8/HG/'\n",
    "                                                              'HG_Cluster_Facet.json')\n",
    "submission_file_paths['Georgetown']['HG']['Cluster Aggregate'] = ('Georgetown/DomainDiscovery/'\n",
    "                                                                  'Georgetown_Submission_2_8/HG/'\n",
    "                                                                  'HG_post_aggregate.json')\n",
    "submission_file_paths['Georgetown']['JPL'] = {}\n",
    "submission_file_paths['Georgetown']['JPL']['Cluster Identification'] = ('Georgetown/DomainDiscovery/'\n",
    "                                                                       'Georgetown_Submission_2_8/JPL/'\n",
    "                                                                       'JPL_Cluster_Identification.json')\n",
    "submission_file_paths['Georgetown']['JPL']['Cluster Facet'] = ('Georgetown/DomainDiscovery/'\n",
    "                                                              'Georgetown_Submission_2_8/JPL/'\n",
    "                                                              'JPL_Cluster_Facet.json')\n",
    "submission_file_paths['Georgetown']['JPL']['Cluster Aggregate'] = ('Georgetown/DomainDiscovery/'\n",
    "                                                                  'Georgetown_Submission_2_8/JPL/'\n",
    "                                                                  'JPL_post_aggregate.json')\n",
    "\n",
    "submission_file_paths['ISI'] = {}\n",
    "submission_file_paths['ISI']['NYU'] = {}\n",
    "submission_file_paths['ISI']['NYU']['Cluster Identification'] = ('ISI/DomainDiscovery/isi-nyu-answers-dig-extractions/'\n",
    "                                                                 'properly_formatted_submissions/'\n",
    "                                                                 'formatted_post_cluster_identification'\n",
    "                                                                 '-parsed_fixed_all_answers.json')\n",
    "submission_file_paths['ISI']['NYU']['Cluster Facet'] = ('ISI/DomainDiscovery/isi-nyu-answers-dig-extractions/'\n",
    "                                                        'properly_formatted_submissions/'\n",
    "                                                        'formatted_post_cluster_facet'\n",
    "                                                        '_parsed_fixed_all_answers.json')\n",
    "submission_file_paths['ISI']['NYU']['Cluster Aggregate'] = ('ISI/DomainDiscovery/isi-nyu-answers-dig-extractions/'\n",
    "                                                            'properly_formatted_submissions/'\n",
    "                                                            'formatted_post_aggregate'\n",
    "                                                            '_parsed_fixed_all_answers.json')\n",
    "submission_file_paths['ISI']['HG'] = {}\n",
    "submission_file_paths['ISI']['HG']['Cluster Identification'] = ('ISI/DomainDiscovery/hg_all_asnwers/'\n",
    "                                                                 'properly_formatted_submissions/'\n",
    "                                                                 'formatted_post_cluster_identification'\n",
    "                                                                 '-parsed_fixed_all_answers.json')\n",
    "submission_file_paths['ISI']['HG']['Cluster Facet'] = ('ISI/DomainDiscovery/hg_all_asnwers/'\n",
    "                                                        'properly_formatted_submissions/'\n",
    "                                                        'formatted_post_cluster_facet'\n",
    "                                                        '_parsed_fixed_all_answers.json')\n",
    "submission_file_paths['ISI']['HG']['Cluster Aggregate'] = ('ISI/DomainDiscovery/hg_all_asnwers/'\n",
    "                                                            'properly_formatted_submissions/'\n",
    "                                                            'formatted_post_aggregate'\n",
    "                                                            '_parsed_fixed_all_answers.json')\n",
    "submission_file_paths['ISI']['JPL'] = {}\n",
    "submission_file_paths['ISI']['JPL']['Cluster Identification'] = ('ISI/DomainDiscovery/jpl_answers_isi/'\n",
    "                                                                 'properly_formatted_submissions/'\n",
    "                                                                 'formatted_cluster-identification-queries-parsed_all_answers.json')\n",
    "submission_file_paths['ISI']['JPL']['Cluster Facet'] = ('ISI/DomainDiscovery/jpl_answers_isi/'\n",
    "                                                        'properly_formatted_submissions/'\n",
    "                                                        'formatted_cluster-facet-queries-parsed_all_answers.json')\n",
    "submission_file_paths['ISI']['JPL']['Cluster Aggregate'] = ('ISI/DomainDiscovery/jpl_answers_isi/'\n",
    "                                                            'properly_formatted_submissions/'\n",
    "                                                            'formatted_aggregate-queries-parsed_all_answers.json')"
   ]
  },
  {
   "cell_type": "code",
   "execution_count": 8,
   "metadata": {
    "collapsed": false
   },
   "outputs": [
    {
     "name": "stdout",
     "output_type": "stream",
     "text": [
      " \n",
      "GEORGETOWN\n",
      " \n",
      "JPL\n",
      "Cluster Aggregate\n",
      "NO AGG FOUND FOR QUESTION 4\n",
      "NO AGG FOUND FOR QUESTION 5\n",
      "NO AGG FOUND FOR QUESTION 37\n",
      "Cluster Facet\n",
      "Cluster Identification\n",
      "HG\n",
      "Cluster Aggregate\n",
      "Cluster Facet\n",
      "Cluster Identification\n",
      "NYU\n",
      "Cluster Aggregate\n",
      "Cluster Facet\n",
      "Cluster Identification\n",
      " \n",
      "ISI\n",
      " \n",
      "JPL\n",
      "Cluster Aggregate\n",
      "Cluster Facet\n",
      "Cluster Identification\n",
      "HG\n",
      "Cluster Aggregate\n",
      "Cluster Facet\n",
      "Cluster Identification\n",
      "NYU\n",
      "Cluster Aggregate\n",
      "Cluster Facet\n",
      "Cluster Identification\n"
     ]
    }
   ],
   "source": [
    "answers = {}\n",
    "\n",
    "for team in submission_file_paths.keys():\n",
    "#for team in ['ISI']:\n",
    "    print ' '\n",
    "    print team.upper()\n",
    "    print ' '\n",
    "    answers[team] = {}\n",
    "    for dataset in submission_file_paths[team].keys():\n",
    "        print dataset\n",
    "        answers[team][dataset] = {}\n",
    "        for qtype in submission_file_paths[team][dataset].keys():\n",
    "            \n",
    "            # Account for disparate format b/w Georgetown HG and JPL submissions\n",
    "            id_pos = configs[team][qtype]['id_pos']\n",
    "            score_pos = configs[team][qtype]['score_pos']\n",
    "            exp_length = configs[team][qtype]['exp_length']\n",
    "            if team == 'Georgetown':\n",
    "                if qtype == 'Cluster Aggregate':\n",
    "                    if dataset == 'JPL':\n",
    "                        id_pos = 0\n",
    "                        score_pos = 1\n",
    "                        exp_length = 2\n",
    "            \n",
    "            print qtype\n",
    "            answers[team][dataset][qtype] = {}\n",
    "            # Load team's submissions for that qtype and dataset\n",
    "            file_path = submission_file_paths[team][dataset][qtype]\n",
    "            with open(file_path, 'r') as f:\n",
    "                data = eval(f.read())\n",
    "                \n",
    "            for entry in data:\n",
    "                # If the question id is to be evaluated\n",
    "                if team == 'ISI':\n",
    "                    qid = entry[configs[team]['qfield']] .split('-')[0]\n",
    "                else:\n",
    "                    qid = entry[configs[team]['qfield']]\n",
    "                if qid in question_ids[qtype]:\n",
    "                    answers[team][dataset][qtype][qid] = {}\n",
    "                    # Some questions have no answers\n",
    "                    if len(entry[configs[team]['afield']]) > 0:\n",
    "                        submissions = get_subs(team, entry, id_pos, score_pos, exp_length)\n",
    "                    else:\n",
    "                        submissions = []\n",
    "                    answers[team][dataset][qtype][qid]['submissions'] = submissions\n",
    "                    \n",
    "                    if qtype == 'Cluster Aggregate':\n",
    "                        # Some questions have no answers\n",
    "                        if len(entry[configs[team]['afield']]) > 0:\n",
    "                            if type(entry[configs[team]['afield']][0]) != list:\n",
    "                                agg_answ = entry[configs[team]['afield']][0]\n",
    "                            # It could be a list of multiple submissions\n",
    "                            elif len(entry[configs[team]['afield']][0]) < exp_length:\n",
    "                                agg_answ = entry[configs[team]['afield']][0]\n",
    "                            else:\n",
    "                                agg_answ = \"NA\"\n",
    "                        else:\n",
    "                            agg_answ = \"NA\"\n",
    "                            # Confirmed \"NO AGGS\" for Georgetown, and low response for JPL\n",
    "                            print \"NO AGG FOUND FOR QUESTION {0}\".format(entry[configs[team]['qfield']])\n",
    "                        answers[team][dataset][qtype][qid]['agg_answ'] = agg_answ"
   ]
  },
  {
   "cell_type": "code",
   "execution_count": 9,
   "metadata": {
    "collapsed": false
   },
   "outputs": [
    {
     "data": {
      "text/plain": [
       "{'35': {'agg_answ': 'NA',\n",
       "  'submissions': [['806C8747720930BAEBF908F93B8A14306673333E4772BBB95550D4BE007B4E01',\n",
       "    1.0],\n",
       "   ['355D7046A73D7C1E7DF2D4CBB74E0D13B831F466B7C9BB5FDF8998B98027A704', 1.0],\n",
       "   ['52DAD9D9E742C4DA41D8B842461EF4BB8BE628E89BC304DAADFDC406A487E05C', 1.0],\n",
       "   ['2D0601B1FE5C2AD785E3A1FE6ABA4D244B4D8B1B70042D21B2B5D946EEC38F82', 1.0],\n",
       "   ['C75548D85F244997FBEFFB18F7214111236E8DE354A2EC2BC65A8F1655D1C9BB', 1.0],\n",
       "   ['966AE585C06844076C08C9BD27F68B020E3F8B773A11B91D8FC9F6544F637CE7', 1.0],\n",
       "   ['FF69DF8E13C7968CA9DE8A9FB6C40164FBCBFEAE8031D6F94A651E6E561F4A0E', 1.0],\n",
       "   ['C7B0AE2BF228DB4D4B0D5178D7BAB2EDA735FF531D1E91D220986A3856507A73', 1.0]]},\n",
       " '37': {'agg_answ': 'NA', 'submissions': []},\n",
       " '4': {'agg_answ': 'NA', 'submissions': []},\n",
       " '44': {'agg_answ': 'NA',\n",
       "  'submissions': [['4DBFEBA467CD2534A4032D1B3B8C43740E7FF4D75FA25BEDFE9923EBDAD46FA4',\n",
       "    1.0],\n",
       "   ['1705F75A19C1DB90B707829FC75E66053568616F502B2ACDD82F8801FD79BE3C', 1.0]]},\n",
       " '5': {'agg_answ': 'NA', 'submissions': []}}"
      ]
     },
     "execution_count": 9,
     "metadata": {},
     "output_type": "execute_result"
    }
   ],
   "source": [
    "answers['Georgetown']['JPL']['Cluster Aggregate']"
   ]
  },
  {
   "cell_type": "code",
   "execution_count": 11,
   "metadata": {
    "collapsed": false
   },
   "outputs": [],
   "source": [
    "output_file = 'collected_cluster_answers_REWRITE.json'\n",
    "# Will re-name manually to avoid overwriting\n",
    "with open(output_file, 'w') as f:\n",
    "    json.dump(answers, f, indent=2)"
   ]
  },
  {
   "cell_type": "markdown",
   "metadata": {},
   "source": [
    "## Combine Relevant Ads"
   ]
  },
  {
   "cell_type": "code",
   "execution_count": null,
   "metadata": {
    "collapsed": true
   },
   "outputs": [],
   "source": [
    "first_round_file = 'FIRST_ROUND_seeds2cluster_ads.json'\n",
    "second_round_file = 'FIRST_ROUND_seeds2cluster_ads.json'"
   ]
  },
  {
   "cell_type": "code",
   "execution_count": null,
   "metadata": {
    "collapsed": false
   },
   "outputs": [],
   "source": [
    "with open(first_round_file, 'r') as f:\n",
    "    first_round = eval(f.read())\n",
    "\n",
    "with open(second_round_file, 'r') as f:\n",
    "    second_round = eval(f.read())\n",
    "    \n",
    "new_seeds2cluster_ad = {}\n",
    "\n",
    "for seed in first_round.keys():\n",
    "    temp1 = first_round[seed]\n",
    "    temp2 = second_round[seed]\n",
    "    # List comprehension can cause backwards updates\n",
    "    new_temp = [x for x in temp1]\n",
    "    new_temp.extend(temp2)\n",
    "    new_temp = list(set(new_temp))\n",
    "    \n",
    "    # There shouldn't be any dupes\n",
    "    if len(new_temp) != len(temp1) + len(temp2):\n",
    "        print 'TROUBLE'\n",
    "    \n",
    "    new_seeds2cluster_ad[seed] = new_temp"
   ]
  },
  {
   "cell_type": "markdown",
   "metadata": {},
   "source": [
    "# Attribute Relevant Ads to a Dataset"
   ]
  },
  {
   "cell_type": "markdown",
   "metadata": {},
   "source": [
    "## Obtain Submissions"
   ]
  },
  {
   "cell_type": "code",
   "execution_count": null,
   "metadata": {
    "collapsed": false
   },
   "outputs": [],
   "source": [
    "pwd"
   ]
  },
  {
   "cell_type": "code",
   "execution_count": null,
   "metadata": {
    "collapsed": true
   },
   "outputs": [],
   "source": []
  }
 ],
 "metadata": {
  "kernelspec": {
   "display_name": "Python 2",
   "language": "python",
   "name": "python2"
  },
  "language_info": {
   "codemirror_mode": {
    "name": "ipython",
    "version": 2
   },
   "file_extension": ".py",
   "mimetype": "text/x-python",
   "name": "python",
   "nbconvert_exporter": "python",
   "pygments_lexer": "ipython2",
   "version": "2.7.11"
  }
 },
 "nbformat": 4,
 "nbformat_minor": 0
}
