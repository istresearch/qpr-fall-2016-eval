{
 "cells": [
  {
   "cell_type": "code",
   "execution_count": 1,
   "metadata": {
    "collapsed": true
   },
   "outputs": [],
   "source": [
    "import json\n",
    "import operator"
   ]
  },
  {
   "cell_type": "code",
   "execution_count": 9,
   "metadata": {
    "collapsed": true
   },
   "outputs": [],
   "source": [
    "answers_file = 'collected_cluster_answers_REWRITE.json'\n",
    "with open(answers_file, 'r') as f:\n",
    "    answers = eval(f.read())"
   ]
  },
  {
   "cell_type": "markdown",
   "metadata": {},
   "source": [
    "# Checking Duplicate IDs Across Datasets"
   ]
  },
  {
   "cell_type": "code",
   "execution_count": 34,
   "metadata": {
    "collapsed": false
   },
   "outputs": [
    {
     "name": "stdout",
     "output_type": "stream",
     "text": [
      "1900 HG submissions found in JPL submissions for Georgetown\n",
      "1900 JPL submissions found in HG submissions for Georgetown\n",
      " \n",
      "0 HG submissions found in JPL submissions for ISI\n",
      "0 JPL submissions found in HG submissions for ISI\n",
      " \n"
     ]
    }
   ],
   "source": [
    "docs = {}\n",
    "\n",
    "for team in answers.keys():\n",
    "    docs[team] = {}\n",
    "    for dataset in answers[team].keys():\n",
    "        docs[team][dataset] = []\n",
    "        for qtype in answers[team][dataset].keys():\n",
    "            for quest in answers[team][dataset][qtype].keys():\n",
    "                for entry in answers[team][dataset][qtype][quest]['submissions']:\n",
    "                    ad_pos = 1\n",
    "                    if qtype == 'Cluster Identification':\n",
    "                        if team == 'Georgetown':\n",
    "                            ad_pos = 0\n",
    "                    docs[team][dataset].append(entry[ad_pos])\n",
    "\n",
    "for team in docs.keys():\n",
    "    for dataset in docs[team].keys():\n",
    "        #print len(docs[team][dataset])\n",
    "        docs[team][dataset] = list(set(docs[team][dataset]))\n",
    "        #print len(docs[team][dataset])\n",
    "        #print ' '\n",
    "\n",
    "for team in docs.keys():\n",
    "    matches = 0\n",
    "    for doc_id in docs[team]['HG']:\n",
    "        if doc_id in docs[team]['JPL']:\n",
    "            matches += 1\n",
    "    print '{0} HG submissions found in JPL submissions for {1}'.format(matches, team)\n",
    "    matches = 0\n",
    "    for doc_id in docs[team]['JPL']:\n",
    "        if doc_id in docs[team]['HG']:\n",
    "            matches += 1\n",
    "    print '{0} JPL submissions found in HG submissions for {1}'.format(matches, team)\n",
    "    print ' '"
   ]
  },
  {
   "cell_type": "markdown",
   "metadata": {},
   "source": [
    "# Checking Duplicate IDs Across Datasets"
   ]
  },
  {
   "cell_type": "code",
   "execution_count": 25,
   "metadata": {
    "collapsed": false
   },
   "outputs": [
    {
     "data": {
      "text/plain": [
       "dict"
      ]
     },
     "execution_count": 25,
     "metadata": {},
     "output_type": "execute_result"
    }
   ],
   "source": []
  },
  {
   "cell_type": "code",
   "execution_count": 26,
   "metadata": {
    "collapsed": false
   },
   "outputs": [
    {
     "data": {
      "text/plain": [
       "dict"
      ]
     },
     "execution_count": 26,
     "metadata": {},
     "output_type": "execute_result"
    }
   ],
   "source": [
    "type(docs['Georgetown'])"
   ]
  },
  {
   "cell_type": "code",
   "execution_count": null,
   "metadata": {
    "collapsed": true
   },
   "outputs": [],
   "source": []
  }
 ],
 "metadata": {
  "kernelspec": {
   "display_name": "Python 2",
   "language": "python",
   "name": "python2"
  },
  "language_info": {
   "codemirror_mode": {
    "name": "ipython",
    "version": 2
   },
   "file_extension": ".py",
   "mimetype": "text/x-python",
   "name": "python",
   "nbconvert_exporter": "python",
   "pygments_lexer": "ipython2",
   "version": "2.7.11"
  }
 },
 "nbformat": 4,
 "nbformat_minor": 0
}
