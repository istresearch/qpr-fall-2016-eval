{
 "cells": [
  {
   "cell_type": "code",
   "execution_count": 2,
   "metadata": {
    "collapsed": true
   },
   "outputs": [],
   "source": [
    "import json\n",
    "import operator"
   ]
  },
  {
   "cell_type": "code",
   "execution_count": 3,
   "metadata": {
    "collapsed": true
   },
   "outputs": [],
   "source": [
    "# From \"Collect_Cluster_DD_Submissions_From_Disparate_Formats.ipynb\":\n",
    "answers_file = 'collected_cluster_answers_REWRITE.json'\n",
    "with open(answers_file, 'r') as f:\n",
    "    answers = eval(f.read())"
   ]
  },
  {
   "cell_type": "markdown",
   "metadata": {},
   "source": [
    "# Checking Duplicate IDs Across Datasets"
   ]
  },
  {
   "cell_type": "code",
   "execution_count": 4,
   "metadata": {
    "collapsed": false
   },
   "outputs": [
    {
     "name": "stdout",
     "output_type": "stream",
     "text": [
      "0 HG submissions found in JPL submissions for Georgetown\n",
      "0 JPL submissions found in HG submissions for Georgetown\n",
      " \n",
      "0 HG submissions found in JPL submissions for ISI\n",
      "0 JPL submissions found in HG submissions for ISI\n",
      " \n"
     ]
    }
   ],
   "source": [
    "docs = {}\n",
    "\n",
    "for team in answers.keys():\n",
    "    docs[team] = {}\n",
    "    for dataset in answers[team].keys():\n",
    "        docs[team][dataset] = []\n",
    "        for qtype in answers[team][dataset].keys():\n",
    "            for quest in answers[team][dataset][qtype].keys():\n",
    "                for entry in answers[team][dataset][qtype][quest]['submissions']:\n",
    "                    ad_pos = 1\n",
    "                    if qtype == 'Cluster Identification':\n",
    "                        if team == 'Georgetown':\n",
    "                            ad_pos = 0\n",
    "                    docs[team][dataset].append(entry[ad_pos])\n",
    "\n",
    "for team in docs.keys():\n",
    "    for dataset in docs[team].keys():\n",
    "        #print len(docs[team][dataset])\n",
    "        docs[team][dataset] = list(set(docs[team][dataset]))\n",
    "        #print len(docs[team][dataset])\n",
    "        #print ' '\n",
    "\n",
    "for team in docs.keys():\n",
    "    matches = 0\n",
    "    for doc_id in docs[team]['HG']:\n",
    "        if doc_id in docs[team]['JPL']:\n",
    "            matches += 1\n",
    "    print '{0} HG submissions found in JPL submissions for {1}'.format(matches, team)\n",
    "    matches = 0\n",
    "    for doc_id in docs[team]['JPL']:\n",
    "        if doc_id in docs[team]['HG']:\n",
    "            matches += 1\n",
    "    print '{0} JPL submissions found in HG submissions for {1}'.format(matches, team)\n",
    "    print ' '"
   ]
  },
  {
   "cell_type": "markdown",
   "metadata": {},
   "source": [
    "# Checking IDs Not Found by Uncharted"
   ]
  },
  {
   "cell_type": "code",
   "execution_count": 5,
   "metadata": {
    "collapsed": false
   },
   "outputs": [],
   "source": [
    "missing_hg_file = 'missing_docIDs/annotation2_hg_missingIDs.txt'\n",
    "missing_jpl_file = 'missing_docIDs/annotation2_jpl_missingIDs.txt'\n",
    "\n",
    "with open(missing_hg_file, 'r') as f:\n",
    "    missing_hg = f.read().split(',')\n",
    "    \n",
    "with open(missing_jpl_file, 'r') as f:\n",
    "    missing_jpl = f.read().split(',')"
   ]
  },
  {
   "cell_type": "code",
   "execution_count": 6,
   "metadata": {
    "collapsed": false
   },
   "outputs": [
    {
     "name": "stdout",
     "output_type": "stream",
     "text": [
      "0 of the 1904 missing HG docs submitted by Georgetown\n",
      "0 of the 1902 missing JPL docs submitted by Georgetown\n",
      " \n",
      "3 of the 1904 missing HG docs submitted by ISI\n",
      "2 of the 1902 missing JPL docs submitted by ISI\n",
      " \n"
     ]
    }
   ],
   "source": [
    "bad_ids = {}\n",
    "\n",
    "for team in docs.keys():\n",
    "    bad_ids[team] = {}\n",
    "    bad_ids[team]['HG'] = []\n",
    "    bad_ids[team]['JPL'] = []\n",
    "    matches = 0\n",
    "    for doc_id in missing_hg:\n",
    "        if doc_id in docs[team]['HG']:\n",
    "            matches += 1\n",
    "            bad_ids[team]['HG'].append(doc_id)\n",
    "    print '{0} of the {1} missing HG docs submitted by {2}'.format(matches, len(missing_hg), team)\n",
    "\n",
    "    matches = 0\n",
    "    for doc_id in missing_jpl:\n",
    "        if doc_id in docs[team]['JPL']:\n",
    "            matches += 1\n",
    "            bad_ids[team]['JPL'].append(doc_id)\n",
    "    print '{0} of the {1} missing JPL docs submitted by {2}'.format(matches, len(missing_jpl), team)\n",
    "    print ' '"
   ]
  },
  {
   "cell_type": "code",
   "execution_count": 7,
   "metadata": {
    "collapsed": false
   },
   "outputs": [
    {
     "data": {
      "text/plain": [
       "{'HG': ['B8D9038045C2A0136958D13D839E8929CA3E7D891454797858758D0A49F337AF',\n",
       "  '6D74B181DAAD5AA5E83EB53472F697AAEC61166FBB2649269D278389C8621B94',\n",
       "  '2A54C24FA702D22A4FA9F29A102649351B7BD90E28E0DEE8B96933981D1B58AC'],\n",
       " 'JPL': ['39334EEC4C55345F93C3D4B5573F82E745FF442FA8408E576CD5DF026D47430B',\n",
       "  'BAFB3FBAE8397AD77715FB4AB384B987932DD163569F02F747D47CC87D8D4978']}"
      ]
     },
     "execution_count": 7,
     "metadata": {},
     "output_type": "execute_result"
    }
   ],
   "source": [
    "bad_ids['ISI']"
   ]
  },
  {
   "cell_type": "markdown",
   "metadata": {},
   "source": [
    "### Confirmed ISI did submit missing doc IDs"
   ]
  },
  {
   "cell_type": "markdown",
   "metadata": {},
   "source": [
    "### ISI's 5 \"bad ids\" should be skipped over during evaluation."
   ]
  },
  {
   "cell_type": "code",
   "execution_count": 8,
   "metadata": {
    "collapsed": false
   },
   "outputs": [],
   "source": [
    "output_file = 'missing_doc_ids_by_team_and_dataset.json'\n",
    "# Will re-name manually to avoid overwriting\n",
    "with open(output_file, 'w') as f:\n",
    "    json.dump(bad_ids, f, indent=2)"
   ]
  },
  {
   "cell_type": "markdown",
   "metadata": {},
   "source": [
    "B8D9038045C2A0136958D13D839E8929CA3E7D891454797858758D0A49F337AF = ISI Cluster Agg HG\n",
    "\n",
    "6D74B181DAAD5AA5E83EB53472F697AAEC61166FBB2649269D278389C8621B94 = ISI Cluster Agg HG\n",
    "\n",
    "2A54C24FA702D22A4FA9F29A102649351B7BD90E28E0DEE8B96933981D1B58AC = ISI Cluster Facet HG\n",
    "\n",
    "39334EEC4C55345F93C3D4B5573F82E745FF442FA8408E576CD5DF026D47430B = ISI Cluster Facet JPL\n",
    "\n",
    "BAFB3FBAE8397AD77715FB4AB384B987932DD163569F02F747D47CC87D8D4978 = ISI Cluster Facet JPL"
   ]
  },
  {
   "cell_type": "code",
   "execution_count": null,
   "metadata": {
    "collapsed": true
   },
   "outputs": [],
   "source": []
  }
 ],
 "metadata": {
  "kernelspec": {
   "display_name": "Python 2",
   "language": "python",
   "name": "python2"
  },
  "language_info": {
   "codemirror_mode": {
    "name": "ipython",
    "version": 2
   },
   "file_extension": ".py",
   "mimetype": "text/x-python",
   "name": "python",
   "nbconvert_exporter": "python",
   "pygments_lexer": "ipython2",
   "version": "2.7.11"
  }
 },
 "nbformat": 4,
 "nbformat_minor": 0
}
