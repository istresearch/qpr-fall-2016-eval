{
 "cells": [
  {
   "cell_type": "code",
   "execution_count": 1,
   "metadata": {
    "collapsed": true
   },
   "outputs": [],
   "source": [
    "import json\n",
    "pool_depth = 100"
   ]
  },
  {
   "cell_type": "code",
   "execution_count": 2,
   "metadata": {
    "collapsed": true
   },
   "outputs": [],
   "source": [
    "submission_path = '../../team_submissions/'\n",
    "questions_path = '../../../questions/'"
   ]
  },
  {
   "cell_type": "code",
   "execution_count": 3,
   "metadata": {
    "collapsed": false
   },
   "outputs": [],
   "source": [
    "def extract_seed(question):\n",
    "    lines = question['SPARQL'][0].split('\\n')\n",
    "    seed = str(lines[4].split(' ')[1])\n",
    "        \n",
    "    return seed"
   ]
  },
  {
   "cell_type": "code",
   "execution_count": 95,
   "metadata": {
    "collapsed": true
   },
   "outputs": [],
   "source": [
    "def top_pool(pooling_level, id_pos, score_pos, ans_length, id_length, responses):\n",
    "    # Explicitly check for score ordering\n",
    "    score = 100\n",
    "    count = 0\n",
    "    seen = []\n",
    "    for answer in responses:\n",
    "        # Non-Array, leading elements may happen to have correct\n",
    "        # length\n",
    "        if type(answer) == list:\n",
    "            # Assume elements not matching expected length\n",
    "            # are aggregate answers\n",
    "            if len(answer) == ans_length:\n",
    "                # Confirming doc id is where we expect\n",
    "                if len(answer[id_pos]) != id_length:\n",
    "                    print \"NONSTANDARD DOC ID DETECTED\"\n",
    "                    print answer\n",
    "                    break\n",
    "                if answer[score_pos] > score:\n",
    "                    print (score, answer[score_pos])\n",
    "                    print \"RANK ORDER ISSUE\"\n",
    "                    break\n",
    "                score = answer[score_pos]\n",
    "                if answer[id_pos] not in seen:\n",
    "                    # Found another unique doc id\n",
    "                    seen.append(answer[id_pos])\n",
    "                    count += 1\n",
    "                    if count == pooling_level:\n",
    "                        # Found top N docs\n",
    "                        # Confirm no duplicates\n",
    "                        len1 = len(seen)\n",
    "                        uniq_seen = list(set(seen))\n",
    "                        if len1 != len(uniq_seen):\n",
    "                            print \"PROBLEM WITH DUPLICATED DOC IDS\"\n",
    "                            break\n",
    "                        return uniq_seen\n",
    "    # Or even if you don't get N uniq\n",
    "    uniq_seen = list(set(seen))\n",
    "    return uniq_seen"
   ]
  },
  {
   "cell_type": "markdown",
   "metadata": {},
   "source": [
    "# Determine Seed for Every Question"
   ]
  },
  {
   "cell_type": "code",
   "execution_count": 5,
   "metadata": {
    "collapsed": true
   },
   "outputs": [],
   "source": [
    "seeds = {}"
   ]
  },
  {
   "cell_type": "markdown",
   "metadata": {},
   "source": [
    "### Cluster Identification"
   ]
  },
  {
   "cell_type": "code",
   "execution_count": 6,
   "metadata": {
    "collapsed": false
   },
   "outputs": [],
   "source": [
    "seeds['Cluster Identification'] = {}\n",
    "\n",
    "file_path = questions_path + 'post_cluster_identification.json'\n",
    "f = open(file_path, 'r')\n",
    "for line in f:\n",
    "    temp = json.loads(line)\n",
    "    seed = extract_seed(temp)\n",
    "    seeds['Cluster Identification'][temp['id']] = seed\n",
    "f.close()"
   ]
  },
  {
   "cell_type": "markdown",
   "metadata": {},
   "source": [
    "### Cluster Facet"
   ]
  },
  {
   "cell_type": "code",
   "execution_count": 7,
   "metadata": {
    "collapsed": false
   },
   "outputs": [],
   "source": [
    "seeds['Cluster Facet'] = {}\n",
    "\n",
    "file_path = questions_path + 'post_cluster_facet.json'\n",
    "f = open(file_path, 'r')\n",
    "for line in f:\n",
    "    temp = json.loads(line)\n",
    "    seed = extract_seed(temp)\n",
    "    seeds['Cluster Facet'][temp['id']] = seed\n",
    "f.close()"
   ]
  },
  {
   "cell_type": "markdown",
   "metadata": {},
   "source": [
    "### Cluster Facet"
   ]
  },
  {
   "cell_type": "code",
   "execution_count": 8,
   "metadata": {
    "collapsed": false
   },
   "outputs": [],
   "source": [
    "seeds['Cluster Aggregate'] = {}\n",
    "\n",
    "file_path = questions_path + 'post_aggregate_V2.json'\n",
    "f = open(file_path, 'r')\n",
    "for line in f:\n",
    "    temp = json.loads(line)\n",
    "    seed = extract_seed(temp)\n",
    "    seeds['Cluster Aggregate'][temp['id']] = seed\n",
    "f.close()"
   ]
  },
  {
   "cell_type": "code",
   "execution_count": 9,
   "metadata": {
    "collapsed": true
   },
   "outputs": [],
   "source": [
    "answers = {}"
   ]
  },
  {
   "cell_type": "markdown",
   "metadata": {},
   "source": [
    "# Georgetown"
   ]
  },
  {
   "cell_type": "markdown",
   "metadata": {},
   "source": [
    "## NYU"
   ]
  },
  {
   "cell_type": "code",
   "execution_count": 10,
   "metadata": {
    "collapsed": false
   },
   "outputs": [],
   "source": [
    "answers['NYU'] = {}"
   ]
  },
  {
   "cell_type": "markdown",
   "metadata": {},
   "source": [
    "### Georgetown Cluster Identification\n",
    "NOTE: Response missing for Question #6"
   ]
  },
  {
   "cell_type": "code",
   "execution_count": 11,
   "metadata": {
    "collapsed": false
   },
   "outputs": [],
   "source": [
    "answers['NYU']['Georgetown'] = {}\n",
    "answers['NYU']['Georgetown']['Cluster Identification'] = {}"
   ]
  },
  {
   "cell_type": "code",
   "execution_count": 13,
   "metadata": {
    "collapsed": false
   },
   "outputs": [],
   "source": [
    "file_path = submission_path + 'Georgetown/DomainDiscovery/NYU_CI.json'\n",
    "f = open(file_path, 'r')\n",
    "data = eval(f.read())\n",
    "\n",
    "id_pos = 0\n",
    "score_pos = 1\n",
    "ans_length = 2 \n",
    "id_length = 64\n",
    "\n",
    "for entry in data:\n",
    "    qseed = seeds['Cluster Identification'][entry['id']]\n",
    "    top_ids = top_pool(pool_depth, id_pos, score_pos,\n",
    "                       ans_length, id_length, entry['answer'])\n",
    "    # Reconfirming no dupes\n",
    "    if len(top_ids) != len(list(set(top_ids))):\n",
    "        print \"PROBLEM WITH DUPLICATED DOC IDS\"\n",
    "        break\n",
    "    answers['NYU']['Georgetown']['Cluster Identification'][qseed] = top_ids"
   ]
  },
  {
   "cell_type": "markdown",
   "metadata": {},
   "source": [
    "### Georgetown Cluster Facet"
   ]
  },
  {
   "cell_type": "code",
   "execution_count": 14,
   "metadata": {
    "collapsed": false
   },
   "outputs": [],
   "source": [
    "answers['NYU']['Georgetown']['Cluster Facet'] = {}"
   ]
  },
  {
   "cell_type": "code",
   "execution_count": 16,
   "metadata": {
    "collapsed": false
   },
   "outputs": [],
   "source": [
    "file_path = submission_path + 'Georgetown/DomainDiscovery/NYU_CF.json'\n",
    "f = open(file_path, 'r')\n",
    "data = eval(f.read())\n",
    "\n",
    "id_pos = 1\n",
    "score_pos = 2\n",
    "ans_length = 3 \n",
    "id_length = 64\n",
    "\n",
    "for entry in data:\n",
    "    qseed = seeds['Cluster Facet'][entry['id']]\n",
    "    top_ids = top_pool(pool_depth, id_pos, score_pos,\n",
    "                       ans_length, id_length, entry['answer'])\n",
    "    # Reconfirming no dupes\n",
    "    if len(top_ids) != len(list(set(top_ids))):\n",
    "        print \"PROBLEM WITH DUPLICATED DOC IDS\"\n",
    "        break\n",
    "    answers['NYU']['Georgetown']['Cluster Facet'][qseed] = top_ids"
   ]
  },
  {
   "cell_type": "markdown",
   "metadata": {},
   "source": [
    "### Georgetown Cluster Aggregate"
   ]
  },
  {
   "cell_type": "code",
   "execution_count": 99,
   "metadata": {
    "collapsed": false
   },
   "outputs": [],
   "source": [
    "answers['NYU']['Georgetown']['Cluster Aggregate'] = {}"
   ]
  },
  {
   "cell_type": "code",
   "execution_count": 100,
   "metadata": {
    "collapsed": false
   },
   "outputs": [],
   "source": [
    "file_path = submission_path + 'Georgetown/DomainDiscovery/NYU_aggregate.json'\n",
    "f = open(file_path, 'r')\n",
    "data = eval(f.read())\n",
    "\n",
    "id_pos = 1\n",
    "score_pos = 2\n",
    "ans_length = 3 \n",
    "id_length = 64\n",
    "\n",
    "for entry in data:\n",
    "    # Cluster Aggregate Question 94 was Removed\n",
    "    if entry['id'] != '94':\n",
    "        qseed = seeds['Cluster Aggregate'][entry['id']]\n",
    "        top_ids = top_pool(pool_depth, id_pos, score_pos,\n",
    "                       ans_length, id_length, entry['answer'])\n",
    "        # Reconfirming no dupes\n",
    "        if len(top_ids) != len(list(set(top_ids))):\n",
    "            print \"PROBLEM WITH DUPLICATED DOC IDS\"\n",
    "            break\n",
    "    answers['NYU']['Georgetown']['Cluster Aggregate'][qseed] = top_ids"
   ]
  },
  {
   "cell_type": "markdown",
   "metadata": {},
   "source": [
    "# ISI"
   ]
  },
  {
   "cell_type": "markdown",
   "metadata": {},
   "source": [
    "## NYU"
   ]
  },
  {
   "cell_type": "markdown",
   "metadata": {},
   "source": [
    "### ISI Cluster Identification"
   ]
  },
  {
   "cell_type": "code",
   "execution_count": 22,
   "metadata": {
    "collapsed": false
   },
   "outputs": [],
   "source": [
    "answers['NYU']['ISI'] = {}\n",
    "answers['NYU']['ISI']['Cluster Identification'] = {}"
   ]
  },
  {
   "cell_type": "code",
   "execution_count": 46,
   "metadata": {
    "collapsed": false
   },
   "outputs": [],
   "source": [
    "file_path = submission_path + ('ISI/DomainDiscovery/'\n",
    "                               'isi-nyu-answers-dig-extractions/'\n",
    "                               'properly_formatted_submissions/'\n",
    "                               'formatted_post_cluster_identification'\n",
    "                               '-parsed_fixed_all_answers.json')\n",
    "f = open(file_path, 'r')\n",
    "data = eval(f.read())\n",
    "\n",
    "id_pos = 1\n",
    "score_pos = 2\n",
    "ans_length = 3 \n",
    "id_length = 64\n",
    "\n",
    "for entry in data:\n",
    "    qid = entry['question_id'].split('-')[0]\n",
    "    qseed = seeds['Cluster Identification'][qid]\n",
    "    top_ids = top_pool(pool_depth, id_pos, score_pos,\n",
    "                       ans_length, id_length, entry['answer'])\n",
    "    # Reconfirming no dupes\n",
    "    if len(top_ids) != len(list(set(top_ids))):\n",
    "        print \"PROBLEM WITH DUPLICATED DOC IDS\"\n",
    "        break\n",
    "    answers['NYU']['ISI']['Cluster Identification'][qseed] = top_ids"
   ]
  },
  {
   "cell_type": "markdown",
   "metadata": {},
   "source": [
    "### ISI Cluster Facet"
   ]
  },
  {
   "cell_type": "code",
   "execution_count": 72,
   "metadata": {
    "collapsed": false
   },
   "outputs": [],
   "source": [
    "answers['NYU']['ISI']['Cluster Facet'] = {}"
   ]
  },
  {
   "cell_type": "code",
   "execution_count": 73,
   "metadata": {
    "collapsed": false
   },
   "outputs": [],
   "source": [
    "file_path = submission_path + ('ISI/DomainDiscovery/'\n",
    "                               'isi-nyu-answers-dig-extractions/'\n",
    "                               'properly_formatted_submissions/'\n",
    "                               'formatted_post_cluster_facet'\n",
    "                               '_parsed_fixed_all_answers.json')\n",
    "f = open(file_path, 'r')\n",
    "data = eval(f.read())\n",
    "\n",
    "id_pos = 1\n",
    "score_pos = 2\n",
    "ans_length = 3 \n",
    "id_length = 64\n",
    "\n",
    "for entry in data:\n",
    "    qid = entry['question_id'].split('-')[0]\n",
    "    qseed = seeds['Cluster Facet'][qid]\n",
    "    top_ids = top_pool(pool_depth, id_pos, score_pos,\n",
    "                       ans_length, id_length, entry['answer'])\n",
    "    # Reconfirming no dupes\n",
    "    if len(top_ids) != len(list(set(top_ids))):\n",
    "        print \"PROBLEM WITH DUPLICATED DOC IDS\"\n",
    "        break\n",
    "    answers['NYU']['ISI']['Cluster Facet'][qseed] = top_ids"
   ]
  },
  {
   "cell_type": "markdown",
   "metadata": {},
   "source": [
    "### ISI Cluster Aggregate"
   ]
  },
  {
   "cell_type": "code",
   "execution_count": 101,
   "metadata": {
    "collapsed": false
   },
   "outputs": [],
   "source": [
    "answers['NYU']['ISI']['Cluster Aggregate'] = {}"
   ]
  },
  {
   "cell_type": "code",
   "execution_count": 102,
   "metadata": {
    "collapsed": false
   },
   "outputs": [],
   "source": [
    "file_path = submission_path + ('ISI/DomainDiscovery/'\n",
    "                               'isi-nyu-answers-dig-extractions/'\n",
    "                               'properly_formatted_submissions/'\n",
    "                               'formatted_post_aggregate'\n",
    "                               '_parsed_fixed_all_answers.json')\n",
    "f = open(file_path, 'r')\n",
    "data = eval(f.read())\n",
    "\n",
    "id_pos = 1\n",
    "score_pos = 2\n",
    "ans_length = 3 \n",
    "id_length = 64\n",
    "\n",
    "for entry in data:\n",
    "    qid = entry['question_id'].split('-')[0]\n",
    "    qseed = seeds['Cluster Aggregate'][qid]\n",
    "    top_ids = top_pool(pool_depth, id_pos, score_pos,\n",
    "                       ans_length, id_length, entry['answer'])\n",
    "    # Reconfirming no dupes\n",
    "    if len(top_ids) != len(list(set(top_ids))):\n",
    "        print \"PROBLEM WITH DUPLICATED DOC IDS\"\n",
    "        break\n",
    "    answers['NYU']['ISI']['Cluster Aggregate'][qseed] = top_ids"
   ]
  },
  {
   "cell_type": "markdown",
   "metadata": {},
   "source": [
    "# DEBUG"
   ]
  },
  {
   "cell_type": "code",
   "execution_count": 75,
   "metadata": {
    "collapsed": false
   },
   "outputs": [
    {
     "data": {
      "text/plain": [
       "['470D11FA0F7BA09673A618707082E26FBBF495CF39BB2A26E95DC11DF874029F',\n",
       " 'D2EAE030C7CF150B2052DFA41EA2A7294C574C1AA2AA03B52564A6DEFD281954',\n",
       " '98D5533F798683671B8D9B7E8AB9D7194F4F4BDCB4BB0A669D0965566B662C89']"
      ]
     },
     "execution_count": 75,
     "metadata": {},
     "output_type": "execute_result"
    }
   ],
   "source": [
    "answers['NYU']['ISI']['Cluster Facet'][u\"'7145572499'\"]"
   ]
  },
  {
   "cell_type": "code",
   "execution_count": 80,
   "metadata": {
    "collapsed": false
   },
   "outputs": [
    {
     "name": "stdout",
     "output_type": "stream",
     "text": [
      "'7145572499'\n",
      "['', '98D5533F798683671B8D9B7E8AB9D7194F4F4BDCB4BB0A669D0965566B662C89', 1.0]\n",
      "['', 'D2EAE030C7CF150B2052DFA41EA2A7294C574C1AA2AA03B52564A6DEFD281954', 0.5]\n",
      "['', '470D11FA0F7BA09673A618707082E26FBBF495CF39BB2A26E95DC11DF874029F', 0.3333333333333333]\n"
     ]
    }
   ],
   "source": [
    "print seeds['Cluster Facet']['20']\n",
    "for entry in data:\n",
    "    if entry['question_id'] == '20-1':\n",
    "        for thing in entry['answer']:\n",
    "            print thing"
   ]
  },
  {
   "cell_type": "markdown",
   "metadata": {},
   "source": [
    "### Finally, create a dictionary where keys are index name, and values are long list of seed, doc id arrays."
   ]
  },
  {
   "cell_type": "code",
   "execution_count": 81,
   "metadata": {
    "collapsed": false
   },
   "outputs": [
    {
     "ename": "IndentationError",
     "evalue": "expected an indented block (<ipython-input-81-5ac774fe2537>, line 3)",
     "output_type": "error",
     "traceback": [
      "\u001b[0;36m  File \u001b[0;32m\"<ipython-input-81-5ac774fe2537>\"\u001b[0;36m, line \u001b[0;32m3\u001b[0m\n\u001b[0;31m    #print seed\u001b[0m\n\u001b[0m               ^\u001b[0m\n\u001b[0;31mIndentationError\u001b[0m\u001b[0;31m:\u001b[0m expected an indented block\n"
     ]
    }
   ],
   "source": [
    "for seed in answers['NYU']['ISI']['Cluster Facet'].keys():\n",
    "    #print len(answers['NYU']['ISI']['Cluster Facet'][seed])\n",
    "    #print seed"
   ]
  },
  {
   "cell_type": "markdown",
   "metadata": {},
   "source": [
    "### NOTE: You will need to de-dupe when append submissions from OTHER teams"
   ]
  },
  {
   "cell_type": "code",
   "execution_count": 78,
   "metadata": {
    "collapsed": false
   },
   "outputs": [
    {
     "ename": "KeyError",
     "evalue": "'id'",
     "output_type": "error",
     "traceback": [
      "\u001b[0;31m---------------------------------------------------------------------------\u001b[0m",
      "\u001b[0;31mKeyError\u001b[0m                                  Traceback (most recent call last)",
      "\u001b[0;32m<ipython-input-78-43be4bd3f261>\u001b[0m in \u001b[0;36m<module>\u001b[0;34m()\u001b[0m\n\u001b[1;32m      1\u001b[0m \u001b[0mqid\u001b[0m \u001b[0;34m=\u001b[0m \u001b[0;34m'20'\u001b[0m\u001b[0;34m\u001b[0m\u001b[0m\n\u001b[1;32m      2\u001b[0m \u001b[0;32mfor\u001b[0m \u001b[0mentry\u001b[0m \u001b[0;32min\u001b[0m \u001b[0mdata\u001b[0m\u001b[0;34m:\u001b[0m\u001b[0;34m\u001b[0m\u001b[0m\n\u001b[0;32m----> 3\u001b[0;31m     \u001b[0;32mif\u001b[0m \u001b[0mentry\u001b[0m\u001b[0;34m[\u001b[0m\u001b[0;34m'id'\u001b[0m\u001b[0;34m]\u001b[0m \u001b[0;34m==\u001b[0m \u001b[0mqid\u001b[0m\u001b[0;34m:\u001b[0m\u001b[0;34m\u001b[0m\u001b[0m\n\u001b[0m\u001b[1;32m      4\u001b[0m         \u001b[0;32mfor\u001b[0m \u001b[0mthing\u001b[0m \u001b[0;32min\u001b[0m \u001b[0mentry\u001b[0m\u001b[0;34m[\u001b[0m\u001b[0;34m'answer'\u001b[0m\u001b[0;34m]\u001b[0m\u001b[0;34m:\u001b[0m\u001b[0;34m\u001b[0m\u001b[0m\n\u001b[1;32m      5\u001b[0m             \u001b[0;32mprint\u001b[0m \u001b[0mthing\u001b[0m\u001b[0;34m[\u001b[0m\u001b[0;36m1\u001b[0m\u001b[0;34m]\u001b[0m\u001b[0;34m\u001b[0m\u001b[0m\n",
      "\u001b[0;31mKeyError\u001b[0m: 'id'"
     ]
    }
   ],
   "source": [
    "qid = '20'\n",
    "for entry in data:\n",
    "    if entry['id'] == qid:\n",
    "        for thing in entry['answer']:\n",
    "            print thing[1]"
   ]
  },
  {
   "cell_type": "code",
   "execution_count": null,
   "metadata": {
    "collapsed": false
   },
   "outputs": [],
   "source": [
    "new_seed = seeds['Cluster Facet'][qid]"
   ]
  },
  {
   "cell_type": "code",
   "execution_count": null,
   "metadata": {
    "collapsed": false
   },
   "outputs": [],
   "source": [
    "top = answers['NYU']['Georgetown']['Cluster Facet'][new_seed]\n",
    "for thing in top:\n",
    "    print thing"
   ]
  },
  {
   "cell_type": "code",
   "execution_count": 20,
   "metadata": {
    "collapsed": false
   },
   "outputs": [
    {
     "name": "stdout",
     "output_type": "stream",
     "text": [
      "{'answer': [[100, 1]], 'type': 'MODE', 'id': '33'}\n",
      " \n",
      " \n",
      "{'answer': [['107', 10], ['107', '7D323379C7F916D2A032308E237E8CBE5463C01F89FDC1C924820D4D698BDC07', 1.0], ['107', '039A285D0D567ECB703C3874A8124141D42BB192C7C66A2288E3C07E2E108A27', 1.0], ['107', '8E292EFE95352C84BB4D4BF5F97374DDEEA89A844CB81BCC0ABF9FFA4873CB68', 1.0], ['107', '08F12E715DAD9FE969EB5C8AB0B50F253E9C1B6B79107F8DE8B699F2E7D526FA', 1.0], ['107', 'DE12F718A52BB7A536E9CB9DA5C820EA5FF2CDBF8676870EF1FB949F530B8F91', 1.0], ['107', 'BE112E572923B8EA82B112F98976D47172000533AEE9E916B78CFFC0DD2BD7B9', 1.0], ['107', '5125E7364D1C38E6362F4955108C28AFF280E31257C679070858250FCFE51098', 1.0], ['107', '3004FB0C5F53996FC26B281B91D42392D3755A65BFDE678B436D4EDA0EDF2246', 1.0], ['107', '7D50D224417917B2EA37223F41F931FF4E4F3D110C2539C9F591FC0653A2769D', 1.0], ['107', 'DC715B8E8C62073D3BEDD3D28F4EAFB8552FFF308C32C857E8AFD325E0322D89', 1.0]], 'type': 'MODE', 'id': '35'}\n",
      " \n",
      " \n",
      "{'answer': [[200, 35], ['200', '139C49C6DE50941A904697EC821E9E4BA20CCBEACFEB533B7EB650938F1990CC', 0.6148034737445832], ['50', '139C49C6DE50941A904697EC821E9E4BA20CCBEACFEB533B7EB650938F1990CC', 0.6148034737445832], ['200', '7120C08B062ECF9620AB143E256F780B7ADD3DAF29546AEAA5D3564549369BAE', 0.6148034737445832], ['50', '7120C08B062ECF9620AB143E256F780B7ADD3DAF29546AEAA5D3564549369BAE', 0.6148034737445832], ['200', '616D90444046621DF662625B0B157C267AAD92F5E86E5D73E079B0B1985DDFC7', 0.6148034737445832], ['50', '616D90444046621DF662625B0B157C267AAD92F5E86E5D73E079B0B1985DDFC7', 0.6148034737445832], ['200', '66E7E425597C66AB9201DD77947027195DBE3C640C0CA8A92755E8DBBD8E4EFD', 0.6148034737445832], ['50', '66E7E425597C66AB9201DD77947027195DBE3C640C0CA8A92755E8DBBD8E4EFD', 0.6148034737445832], ['200', 'BF14FCF43FD630F53D6AAB2798EDFC8905E3AA631C277B7663F4D50AD45F1DE0', 0.6148034737445832], ['50', 'BF14FCF43FD630F53D6AAB2798EDFC8905E3AA631C277B7663F4D50AD45F1DE0', 0.6148034737445832], ['200', '4CBC46483D23D460A6E3DB767D690D8A8FFA622000D57E05621D28F7622BA7F3', 0.6148034737445832], ['50', '4CBC46483D23D460A6E3DB767D690D8A8FFA622000D57E05621D28F7622BA7F3', 0.6148034737445832], ['200', '81F3FA84C3DACC64546F3A6D6B22634A8A62E4945F74A5F132FE8E1D4204FE1C', 0.6148034737445832], ['50', '81F3FA84C3DACC64546F3A6D6B22634A8A62E4945F74A5F132FE8E1D4204FE1C', 0.6148034737445832], ['200', '7DC39B824508CDCC7EB0F03B1A82967E38A82C47556F34236CA75D5BB8681840', 0.6148034737445832], ['50', '7DC39B824508CDCC7EB0F03B1A82967E38A82C47556F34236CA75D5BB8681840', 0.6148034737445832], ['200', '0C4771FA3234CF9C26DD786168FEBC34B3F91C4E6EB8F70BCA970B44F8316BF4', 0.6148034737445832], ['50', '0C4771FA3234CF9C26DD786168FEBC34B3F91C4E6EB8F70BCA970B44F8316BF4', 0.6148034737445832], ['200', 'D53FCC03354328FCDC7FB6F0278AD67FB242F2B7398ABFE7176DBCDEC50ADDD3', 0.6148034737445832], ['50', 'D53FCC03354328FCDC7FB6F0278AD67FB242F2B7398ABFE7176DBCDEC50ADDD3', 0.6148034737445832], ['200', '89D5A686F455D326D8EB8A1C45F0D39BBB995D49B1BCEE351F266C8429ACD53D', 0.6148034737445832], ['50', '89D5A686F455D326D8EB8A1C45F0D39BBB995D49B1BCEE351F266C8429ACD53D', 0.6148034737445832], ['200', '3BDB7D6812555B2511FC074AF7B0AD586B9848A57B892783CDCF88267937494D', 0.6148034737445832], ['50', '3BDB7D6812555B2511FC074AF7B0AD586B9848A57B892783CDCF88267937494D', 0.6148034737445832], ['200', 'C4F4420FF41D2DE63B27F4EEDBAE603009BD7173465994FBBAEC52FC87C87023', 0.6148034737445832], ['50', 'C4F4420FF41D2DE63B27F4EEDBAE603009BD7173465994FBBAEC52FC87C87023', 0.6148034737445832], ['200', 'D933EC9B1DF42BE7F08B6A703EF5FAF0952FF4DFDD3153E7EA8457B1C82015E6', 0.6148034737445832], ['50', 'D933EC9B1DF42BE7F08B6A703EF5FAF0952FF4DFDD3153E7EA8457B1C82015E6', 0.6148034737445832], ['200', '2AA5568D8D85269848DFEED80AE307C9C084A9DC84C301D70B5B165049475754', 0.6148034737445832], ['50', '2AA5568D8D85269848DFEED80AE307C9C084A9DC84C301D70B5B165049475754', 0.6148034737445832], ['200', '5FE41FD94193E392264366E0FFBEE8D30A5E8D1490DB0AE6FD5D25F7F015D1B5', 0.6148034737445832], ['50', '5FE41FD94193E392264366E0FFBEE8D30A5E8D1490DB0AE6FD5D25F7F015D1B5', 0.6148034737445832], ['200', '563F4D5AA94B8E283C7EDE2E80A56F7678203ACA45581498B29E3B5DC996119B', 0.6148034737445832], ['50', '563F4D5AA94B8E283C7EDE2E80A56F7678203ACA45581498B29E3B5DC996119B', 0.6148034737445832], ['200', '4BDC4AB58D5031D3E3E84EDF24E0029C005FD87A66E4A4ED9DD233174C24EB16', 0.6148034737445832], ['50', '4BDC4AB58D5031D3E3E84EDF24E0029C005FD87A66E4A4ED9DD233174C24EB16', 0.6148034737445832], ['200', 'BD22891783343067154BECC971BA37CD68099F1C01790F06B3F262AC1B82D7F4', 0.6148034737445832], ['50', 'BD22891783343067154BECC971BA37CD68099F1C01790F06B3F262AC1B82D7F4', 0.6148034737445832], ['200', 'C82199D2D1DEE7930CF6832AB94C5F9C46A6E725DCA3A533A2D80C215B2BB9B4', 0.6148034737445832], ['50', 'C82199D2D1DEE7930CF6832AB94C5F9C46A6E725DCA3A533A2D80C215B2BB9B4', 0.6148034737445832], ['200', '511947967D6E720D9EC14E36EF57FD99ECC87386BE257D5688A747BB81C9B4D0', 0.6148034737445832], ['50', '511947967D6E720D9EC14E36EF57FD99ECC87386BE257D5688A747BB81C9B4D0', 0.6148034737445832], ['200', 'ECD95B94EBB7C992BEB0CB36EEBE29061C84EC3801AE6FF45497626A837E795C', 0.6148034737445832], ['50', 'ECD95B94EBB7C992BEB0CB36EEBE29061C84EC3801AE6FF45497626A837E795C', 0.6148034737445832], ['200', '4CA0EA254B57A7D3FD327B62AEFA1EF1642DEE0127526712C9DC3A2027182533', 0.6148034737445832], ['50', '4CA0EA254B57A7D3FD327B62AEFA1EF1642DEE0127526712C9DC3A2027182533', 0.6148034737445832], ['200', 'D9A6488480B22E99DF990A9D33B8FC2AC8EE4829CA2B2A085A81CA97AAE44949', 0.6148034737445832], ['50', 'D9A6488480B22E99DF990A9D33B8FC2AC8EE4829CA2B2A085A81CA97AAE44949', 0.6148034737445832], ['200', '10E4D58353FD9BB85DD8268EDEE6EE20D6A81D54408CE536AF76AEE2982192BA', 0.6148034737445832], ['50', '10E4D58353FD9BB85DD8268EDEE6EE20D6A81D54408CE536AF76AEE2982192BA', 0.6148034737445832], ['200', '3F9A9CA2440953ECDB9E1FA42EAAB2CC4636275C5816DB3E58C4CFF2BD71879D', 0.6148034737445832], ['50', '3F9A9CA2440953ECDB9E1FA42EAAB2CC4636275C5816DB3E58C4CFF2BD71879D', 0.6148034737445832], ['200', '36B0F9561FCFF74D85001D9F0B6B42CC6BC37B1886890C8507823971B09B1B65', 0.6148034737445832], ['50', '36B0F9561FCFF74D85001D9F0B6B42CC6BC37B1886890C8507823971B09B1B65', 0.6148034737445832], ['200', 'DCEF970A19527746AA547C79360F0E6FA52029B87EDECE62184EB19F9E212616', 0.6148034737445832], ['50', 'DCEF970A19527746AA547C79360F0E6FA52029B87EDECE62184EB19F9E212616', 0.6148034737445832], ['200', '58F9299F4404A6BDC48951893EEA504BAC1000FB7BA645A716AB4ED472FDE83C', 0.6148034737445832], ['50', '58F9299F4404A6BDC48951893EEA504BAC1000FB7BA645A716AB4ED472FDE83C', 0.6148034737445832], ['200', 'C7E3B9FF4B61F915348986D14A4F2565E8D6BBA6DC6392DFA3F8791B35CC8CEB', 0.6148034737445832], ['50', 'C7E3B9FF4B61F915348986D14A4F2565E8D6BBA6DC6392DFA3F8791B35CC8CEB', 0.6148034737445832], ['200', '01AF3839930BB842B4E14849D478AF7D76F76C3B7D8C82E625D7110526BD981E', 0.6148034737445832], ['50', '01AF3839930BB842B4E14849D478AF7D76F76C3B7D8C82E625D7110526BD981E', 0.6148034737445832], ['200', '152DE5669B64CD4775A92337DA782E9E29ABA277FED96CA1002FFA5613B278BD', 0.6148034737445832], ['50', '152DE5669B64CD4775A92337DA782E9E29ABA277FED96CA1002FFA5613B278BD', 0.6148034737445832], ['200', '7DA437AC31DD3F2E6859882DB295885B43A436E9502CF99C389F9EC2EE3C3704', 0.6148034737445832], ['50', '7DA437AC31DD3F2E6859882DB295885B43A436E9502CF99C389F9EC2EE3C3704', 0.6148034737445832], ['200', '8CEE18D7959EF8B5371A90A1D580A095B0F42FA0BD17CE6BB5F864F6DB4DF1AF', 0.6148034737445832], ['50', '8CEE18D7959EF8B5371A90A1D580A095B0F42FA0BD17CE6BB5F864F6DB4DF1AF', 0.6148034737445832], ['200', 'EBD0F066B9E17BD2F1984E17B47946863E3CBBC34C2CC49F59A8E214E893825B', 0.6148034737445832], ['50', 'EBD0F066B9E17BD2F1984E17B47946863E3CBBC34C2CC49F59A8E214E893825B', 0.6148034737445832]], 'type': 'MODE', 'id': '7'}\n",
      " \n",
      " \n",
      "{'answer': [[182, 3], [182, '3B1A5642C488332F454FB27D713C342A3070E26005DA3A4DB40C8B8E86C5B5C5', 1.0], [182, '11ACB2CBDEEE6498FA415B7A5A6095FA6AD0A6C6DEB9AF7CE030620918B767C1', 1.0], [182, '748090DFE826472A71DCAD253BACB60E0F7A19CFA32481A3143727F058417DEE', 1.0]], 'type': 'MODE', 'id': '70'}\n",
      " \n",
      " \n",
      "{'answer': [[182, 45], [182, '894C41880B68FF6698E71DF6F9AF9AB7C6762CBB164F7EB32076EACF16CE9F07', 1.0], [152, '3E92A8494C428BC039FB369F085FC99E6D49FE04D3D643CB965E5E849856F16C', 1.0], [152, 'FC6DE27AA5FBFAE9C9CDDAB4DBFD7BD341731E4C1790E8F6DCEF199B862B099B', 1.0], [152, 'F6405625D36E80B6080D7089A82A4515B0A31CA159883B5F90E56809106F75E1', 1.0], [152, '11F3E080752662309720BE28A9CE193220500893876F86A623EE527F31616D4D', 1.0], [152, '282383B3A5D5A29E577FE9556E79369CD5253AA14E74C3CF60A87BF34CEFEAAD', 1.0], [182, 'F6F447F6256FF1A752DCFD029DE06E95B175FF07F61EE5115E7B29D673C778CE', 1.0], [182, '608F15EDE44EEC54EDC1CB23A3A39BD88A5C20D4F1CC24FBBDBC10F656AC6AD1', 1.0], [182, 'A031401F2C379C4E8CA41F0C3993E18EC4C01081202DA593F54D457901EB9A13', 1.0], [182, '6F7E60396F85A6F98AFC403B1EE4E8490E7519019531E11F2EA270B287511FB7', 1.0], [182, '29CE107E87957C03AF3B9D16B2629966D20AC6545E584EB8E38391E54E66F679', 1.0], [152, '59C12F1477CD14A877C0E1D9CAC9112CF40E9D08D1684FE52624A6B0F5C775C9', 1.0], [182, '0F537ED8789911C04C16D4335BBE33D5FD2ABACF2D37C79085270AC4595A900B', 1.0], [182, '4615FB7A771B6C5B1BA68E635F3ED5D810BFF71B6ECE61528FF9C80669A834C9', 1.0], [152, 'FCC21600AB94BFD4069334D5022D365412F407805F17108A3242EFC1336B7E9E', 1.0], [182, '6166D56A3C0667B7509F30A428C29B6596948E4C6402E17365CA0E41D27006D3', 1.0], [182, '10CCD8023A4D6EE29030952610F7375EF907C372D864A5B1F13C64F0958B7919', 1.0], [182, '3CA8839A56DC5BA1C1515D17E7011B32EF51EFA96D2184922B952BCEA67A8ED3', 1.0], [182, '8540FB264066C2F3F9C5B02E162269C314CEDFD0130938D96B20292455261FCE', 1.0], [182, 'D8F059F26BA99C7548EB5E7564150A7B41172F12343E9184E6898A22FF34A3F0', 1.0], [182, 'FC2A2B7CA101AD0BE9B958FB6A518EF131169A82F3571C3161FB5A3D11663342', 1.0], [182, '9D58AEA34A6A96131DDB80EFA9227CB323FFC4FBE775ED62B9FDEC58DE57FBB2', 1.0], [182, 'F4ED65CDB0831781E4E2CBFFA570606674DCF6840AA4EA290C08523432E5663C', 1.0], [182, '5EFFFCC71954C88819D5AB953EC60C248A7BDF6F2625A9A69F58302745D1D6DD', 1.0], [182, '38B8DA52C85332A07A0E1EF23520C1EB983F5E9B002145504BA6D20A863E4D7F', 1.0], [182, '79AC84921EE4ACAD5E72152C874BE6264153D77E9A7A8ECF929F18721E748645', 1.0], [182, 'FE1368325CC3B9B189E897D6424EF214D60D3B42D003617375E0C8624DDAB88B', 1.0], [182, '08EEADE1BCA7C0BD3194122841738EE783A39594F0BC40E3818FBD32E0CD76DD', 1.0], [182, '2714D6EA4CDED83AAA6AA6D7DCCACF7EFA59B3B9F3D196909FC9D1D141618C3E', 1.0], [182, '33C4E23D3685B5536256B5A061273BBEF5E803CEC9ABDA06949FDE4CE2C2C583', 1.0], [182, '560F9BE03ADB4321E814B58EC660E4AA56FB3D18566260B362C95B237ED2252A', 1.0], [182, '336E3DAA4F4E8D58C1A1EC75F1B0C2C0A9F547EA437851BC8E5BB45708ACF8C7', 1.0], [182, 'BA1CF2C75ACC3198436F85C20162F01136F538B0A25C9BDDEBFB33729E6C0412', 1.0], [182, '41708C5016F7038CEDFEAA338CC78E22A5151A1FFE378FD5A84EF1AFAAA8AF5D', 1.0], [182, 'AD98D6DC5533382D3F9CDC8DDCCEB16E47CAA5A16ABA8B034EDB7ABC1E8650D6', 1.0], [182, '1714587C26E2FA9A989107D298FDE6F2F719C969FBD562BBD5C6D016CFCDCA23', 1.0], [182, '96838C086784AB42B3986C327CA60915A202A70C9F81A842CEE213F405C888C4', 1.0], [182, 'C4A91BC1A8560831B1C04B899DE988084343ED1C681BD4A500A12D49C7A30134', 1.0], [182, '37B85ABC40280CEE311864CB6E5DD2E20BEB9A76CA69ABFB8FD028ECC6F6FBD4', 1.0], [182, '4B3ACCCAAEBFCFA57E7F204A1AF140A99F139DB11B6B396D7EA25908C8243B01', 1.0], [182, '0CADFDAAB631DB3EEA6B0A1B60DE2BC6413CC0B6898D1DAD7928121562F3CBC6', 1.0], [182, '363F063365492CB800A8A4B9BA84CF1AB04D61A06C908F4831ECA40E11C7CB61', 1.0], [182, 'A452CDCB76A0E4501C19BFCFB7F044559D5C7B03F12218198C1076079D311444', 1.0], [182, '7B06F3774500BA018D382610A4F8EA18AF46CFCEC8170A6C6E1F4859B3919C83', 1.0], [182, 'ED329BC477274ED85A67A6A56C0E4E272CBA37581FCB166FAA7F153E0F3865E3', 1.0], [182, '40FF0FC1E6629B6CE6C6DF7EC1D2C366197207C9D58881A10FE9E653D145DB0F', 1.0], [182, '308EBC47E8A7958275FCD2BEA1965BE7BB97E3C6EC3D1ACBDFF4B2E5B19DCEAB', 1.0], [182, '8C4ECE698730A34B4EC29DB760D9AA229C9FA286FDF1AFFC0E009EF774B2AAC6', 1.0], [182, 'DE1F79C8FD0EB81078F12C3D7F830EE479D43A0232C9884048E7EC5E37701B4E', 1.0], [182, 'F4C76B295FA7E31D772DE8C9C4A3F1AFDBC6B2DB5865E5CD27F87F6F518F9CBD', 1.0], [182, 'AFE320EE13A0701102264562B85452332306024C691D344889110DC6BC0E36D6', 1.0], [182, '634E761A667C99AC965EEF031155AB2FAE9275317D46AAE385370FB4E0BECBD1', 1.0], [1128888888887, '5E866B0467110A1AEC790577A15C8309C6E67032F5BB49E706815AD3D1163B71', 0.7503058692378743], [846666666665, '5E866B0467110A1AEC790577A15C8309C6E67032F5BB49E706815AD3D1163B71', 0.7480804290566245], [846666666665, '0BA1074E0DE6F8B3B25013BD48099148FD92A12777591782B632C0DC448CF1C6', 0.5980891140238098], [1128888888887, '0BA1074E0DE6F8B3B25013BD48099148FD92A12777591782B632C0DC448CF1C6', 0.5956777608989334], [846666666665, 'FAA7E4FAA01477F712576B31B43E4D5B58693F3FE3A20FD05AC1826B66580A47', 0.592792854277052], [1128888888887, 'FAA7E4FAA01477F712576B31B43E4D5B58693F3FE3A20FD05AC1826B66580A47', 0.5905220729049043], [1411111111109, '16E60D5ECCEB5C18BA70CEF97925F2C577632AE087EB4C023295CE5CE7E430DF', 0.5671215045913318], [1411111111109, 'CA3E86B5560C6D08A971E9ED81D3EC230A8BEF7DE5E168B1262BF8E91E1B168D', 0.5626957419490299], [1411111111109, '143B70B8DB3A08EA8878023ACD5B0517A2A20DA7C567FB9C144A6C417B1F1BC0', 0.5499314981524147], [846666666665, '793DAC778302AA339388684507B3195CC2E52DD84C13AA48AD275CE010D47E9A', 0.5475560620339434], [1128888888887, '793DAC778302AA339388684507B3195CC2E52DD84C13AA48AD275CE010D47E9A', 0.5469197887253466], [1411111111109, '793DAC778302AA339388684507B3195CC2E52DD84C13AA48AD275CE010D47E9A', 0.5462835154167499], [1693333333331, '793DAC778302AA339388684507B3195CC2E52DD84C13AA48AD275CE010D47E9A', 0.5456472421081533], [1975555555553, '793DAC778302AA339388684507B3195CC2E52DD84C13AA48AD275CE010D47E9A', 0.5450109687995569], [2257777777775, '793DAC778302AA339388684507B3195CC2E52DD84C13AA48AD275CE010D47E9A', 0.5443746954909602], [2539999999997, '793DAC778302AA339388684507B3195CC2E52DD84C13AA48AD275CE010D47E9A', 0.5437384221823636], [1411111111109, '77725AE5818664FE096FE60B27E18D8D4684E1AC24F54924C7062EE07BA5577F', 0.5385456047528131], [1411111111109, '04875E6593208075C3FF6BEE6BAC969FB421421E0BC0998D09685EB1A82B2F52', 0.5378489013679616], [1411111111109, '5775B3985422D340BD09E0D4615E3A9D26C62693C0A2658D1DE73A20E353DDD1', 0.5356839499213263], [846666666665, '5775B3985422D340BD09E0D4615E3A9D26C62693C0A2658D1DE73A20E353DDD1', 0.5264723274874239], [846666666665, '77725AE5818664FE096FE60B27E18D8D4684E1AC24F54924C7062EE07BA5577F', 0.5217822950847468], [846666666665, '04875E6593208075C3FF6BEE6BAC969FB421421E0BC0998D09685EB1A82B2F52', 0.5127649334362561], [846666666665, '143B70B8DB3A08EA8878023ACD5B0517A2A20DA7C567FB9C144A6C417B1F1BC0', 0.5070108092748451]], 'type': 'MODE', 'id': '71'}\n",
      " \n",
      " \n",
      "{'answer': [[182, 11], [182, 'DAE6A8604D51095FD923AD1B473275898A583B65EEA6AC4E9C9A956B9A4EEE1B', 1.0], [182, '894C41880B68FF6698E71DF6F9AF9AB7C6762CBB164F7EB32076EACF16CE9F07', 1.0], [182, 'EB4D42C88EADD3B2D38226E20A0334133A1E7057428790F1F33201A744AEA163', 1.0], [182, '23C3425CB4264CE7B3EF494C6353C2F0527497469A16AC738497248A9857AE60', 1.0], [182, 'C07290285246605532727B4CEA1E01E895AA8F2EEF52911B88CD871E633FB2D0', 1.0], [182, '512B8DAA89DFBA63A0D32DCA0A688CB47F9B83FA0AB21A3B4B5FFC2A3998F2FB', 1.0], [182, '90C1EEF386B5E79B47B887428E2C20E59872011391BD838E16AF70CC7D248258', 1.0], [182, '0374C79441837BBB963FAF27120A0966CAF1B9E929E4276D1B935459E3510DF5', 1.0], [182, '66435AB3CE66A0D43920032D84E212079A6D157FFDDF5E9C1B17A9E3F1386150', 1.0], [175, '8C629AB9E2358873DF3688FA9417799A55744696692686DEB706C56EA387AA80', 1.0], [182, '2EDBD594DFD90D92A9AA298635B11EB4CAD854E7EAEC89FC963A8B6A84DA5AF0', 1.0], [182, '507589489B0DF92EC484C6F286D5557827CE84751DA894978C7E3DDED9D94DB2', 1.0]], 'type': 'MODE', 'id': '78'}\n",
      " \n",
      " \n",
      "{'answer': [[846666666665, 2], [182, '0D3BE06618EA5AF25892A487AA80FCEDBD06305B62C16388EE8B809F634D592C', 1.0], [1411111111109, '16E60D5ECCEB5C18BA70CEF97925F2C577632AE087EB4C023295CE5CE7E430DF', 0.5671215045913318], [1411111111109, 'CA3E86B5560C6D08A971E9ED81D3EC230A8BEF7DE5E168B1262BF8E91E1B168D', 0.5626957419490299]], 'type': 'MODE', 'id': '89'}\n",
      " \n",
      " \n",
      "{'answer': [[175, 1], [175, '35512F43AA45B5A5F4CDEA2526DC34EB7AE45EEBBEF78450B1228E0F92AE113D', 1.0]], 'type': 'MODE', 'id': '97'}\n",
      " \n",
      " \n"
     ]
    }
   ],
   "source": [
    "bad = []\n",
    "for entry in data:\n",
    "    for answer in entry['answer']:\n",
    "        if len(answer) != 3:\n",
    "            bad.append(entry['id'])\n",
    "            \n",
    "for entry in data:\n",
    "    if entry['id'] in bad:\n",
    "        print entry\n",
    "        print ' '\n",
    "        print ' '"
   ]
  },
  {
   "cell_type": "code",
   "execution_count": null,
   "metadata": {
    "collapsed": false
   },
   "outputs": [],
   "source": [
    "len(seeds['Cluster Facet'])"
   ]
  },
  {
   "cell_type": "code",
   "execution_count": null,
   "metadata": {
    "collapsed": false
   },
   "outputs": [],
   "source": [
    "data[2]['answer']"
   ]
  },
  {
   "cell_type": "code",
   "execution_count": null,
   "metadata": {
    "collapsed": false
   },
   "outputs": [],
   "source": [
    "top_pool(pool_depth, 0, 1, entry['answer'])"
   ]
  },
  {
   "cell_type": "code",
   "execution_count": null,
   "metadata": {
    "collapsed": false
   },
   "outputs": [],
   "source": [
    "answers['NYU']['Georgetown']['Cluster Facet']"
   ]
  },
  {
   "cell_type": "code",
   "execution_count": 21,
   "metadata": {
    "collapsed": false
   },
   "outputs": [
    {
     "name": "stdout",
     "output_type": "stream",
     "text": [
      "9C66E5666E418A25C798EB3E618FEEE129A7A671F7FE8AFE61DF0313F076C86F\n",
      "64\n",
      "308EBC47E8A7958275FCD2BEA1965BE7BB97E3C6EC3D1ACBDFF4B2E5B19DCEAB\n",
      "64\n",
      "382BAD42E0FDCD4A5FAC2569E3DA8E1F4E6E1992B2AFC12619B2474BBEE5FC86\n",
      "64\n",
      "96838C086784AB42B3986C327CA60915A202A70C9F81A842CEE213F405C888C4\n",
      "64\n",
      "0A8D4ED5C83C4F0E699BDB2D22305D8E604039D99392C7473912AD245FDC85EB\n",
      "64\n",
      "FC2A2B7CA101AD0BE9B958FB6A518EF131169A82F3571C3161FB5A3D11663342\n",
      "64\n",
      "79AC84921EE4ACAD5E72152C874BE6264153D77E9A7A8ECF929F18721E748645\n",
      "64\n",
      "B4AABB4BC57762438167E587D0773F6E0FADDA936D86238B4B4EB17E92B619E2\n",
      "64\n",
      "18C308AB3F14DEDACF1E427DBCE9A7913C600723D5282BA3B31436157AB07262\n",
      "64\n",
      "AF5D61DFE8BC59BC66806E528CB8C4AF10ED01BE7B08BBCF9F313EB2FCB8A247\n",
      "64\n",
      "AF5D61DFE8BC59BC66806E528CB8C4AF10ED01BE7B08BBCF9F313EB2FCB8A247\n",
      "64\n",
      "E65C4BFF59CFECE9D70CD0689E804D4BD2EC2E9EA3EB0940E150CF5E3E50CF3B\n",
      "64\n",
      "7D323379C7F916D2A032308E237E8CBE5463C01F89FDC1C924820D4D698BDC07\n",
      "64\n",
      "039A285D0D567ECB703C3874A8124141D42BB192C7C66A2288E3C07E2E108A27\n",
      "64\n",
      "8E292EFE95352C84BB4D4BF5F97374DDEEA89A844CB81BCC0ABF9FFA4873CB68\n",
      "64\n",
      "08F12E715DAD9FE969EB5C8AB0B50F253E9C1B6B79107F8DE8B699F2E7D526FA\n",
      "64\n",
      "DE12F718A52BB7A536E9CB9DA5C820EA5FF2CDBF8676870EF1FB949F530B8F91\n",
      "64\n",
      "BE112E572923B8EA82B112F98976D47172000533AEE9E916B78CFFC0DD2BD7B9\n",
      "64\n",
      "5125E7364D1C38E6362F4955108C28AFF280E31257C679070858250FCFE51098\n",
      "64\n",
      "3004FB0C5F53996FC26B281B91D42392D3755A65BFDE678B436D4EDA0EDF2246\n",
      "64\n",
      "7D50D224417917B2EA37223F41F931FF4E4F3D110C2539C9F591FC0653A2769D\n",
      "64\n",
      "DC715B8E8C62073D3BEDD3D28F4EAFB8552FFF308C32C857E8AFD325E0322D89\n",
      "64\n",
      "5E866B0467110A1AEC790577A15C8309C6E67032F5BB49E706815AD3D1163B71\n",
      "64\n",
      "505380C58457AEE0F6DD0034928D98917574A2734A703706BC70F9DFCE532F02\n",
      "64\n",
      "C830A60E972AA73D34164E3B9AA8A421DEBB0086D08085C0875EC18591A14927\n",
      "64\n",
      "0C89F05837536B5DAF8F03AC7802401ADBDCD7D8D387C8B8F918C93D5EB5FE66\n",
      "64\n",
      "0C89F05837536B5DAF8F03AC7802401ADBDCD7D8D387C8B8F918C93D5EB5FE66\n",
      "64\n",
      "3658C67A38782D1875052032ACB926930E508159E57F8388DFCC379CAB8B7FA9\n",
      "64\n",
      "3658C67A38782D1875052032ACB926930E508159E57F8388DFCC379CAB8B7FA9\n",
      "64\n",
      "40DA4E43A1ACCB1C28A52B7E374DC1D42C88D7514C8D3AE5B652C87C43413698\n",
      "64\n",
      "40DA4E43A1ACCB1C28A52B7E374DC1D42C88D7514C8D3AE5B652C87C43413698\n",
      "64\n",
      "793DAC778302AA339388684507B3195CC2E52DD84C13AA48AD275CE010D47E9A\n",
      "64\n",
      "793DAC778302AA339388684507B3195CC2E52DD84C13AA48AD275CE010D47E9A\n",
      "64\n",
      "48402D28D3E906A50AD77E08C528EDD3AB488BE737744CEF85F21594EDDD0A7D\n",
      "64\n",
      "48402D28D3E906A50AD77E08C528EDD3AB488BE737744CEF85F21594EDDD0A7D\n",
      "64\n",
      "EB1E2FBD71931DE3B1C87171612BDC4AE03F220BE363345C66AF773CDBF47B1D\n",
      "64\n",
      "EB1E2FBD71931DE3B1C87171612BDC4AE03F220BE363345C66AF773CDBF47B1D\n",
      "64\n",
      "A9A6FD468FCD8873389FB7EFB62B9850C0CD87B48847EA27104C0CCCD34C59AD\n",
      "64\n",
      "A9A6FD468FCD8873389FB7EFB62B9850C0CD87B48847EA27104C0CCCD34C59AD\n",
      "64\n",
      "D62C70C98E3101FF0A43A989B20AF130E3271877F4727196631762BF833A6BE5\n",
      "64\n",
      "D62C70C98E3101FF0A43A989B20AF130E3271877F4727196631762BF833A6BE5\n",
      "64\n",
      "D62C70C98E3101FF0A43A989B20AF130E3271877F4727196631762BF833A6BE5\n",
      "64\n",
      "D62C70C98E3101FF0A43A989B20AF130E3271877F4727196631762BF833A6BE5\n",
      "64\n",
      "D62C70C98E3101FF0A43A989B20AF130E3271877F4727196631762BF833A6BE5\n",
      "64\n",
      "D62C70C98E3101FF0A43A989B20AF130E3271877F4727196631762BF833A6BE5\n",
      "64\n",
      "951BB772B528C7C4AAA28858FA11EA772EBDF8D3738533A67B3EDF856C31DDCF\n",
      "64\n",
      "98B874D478C90A4CAAAA94B20CA69FB9AA0071F6850C00399EE8E160D2F6648E\n",
      "64\n",
      "F4DAAB2568DED43BD50CF09185E0C8BC6DC7D4F87B185A7F1B0F530303E5CD42\n",
      "64\n",
      "0028C886A9EC8F133ED79E4FE48607D4DD042A9A3942CC28C0B3EBD5202524C0\n",
      "64\n",
      "E635CA4EB9646694A33D4A9EC4C3AC55BFD6F49225D8D486A7B8596096FCB036\n",
      "64\n",
      "537695B45A704349906C17FE04F38B52C07D4E69FC131ACF85DD866207CA5AFC\n",
      "64\n",
      "099A5259E4CBEEDCE758A973CCB1C68D280D131456DBD4946F7BE3BD29792DE0\n",
      "64\n",
      "FF5AF319A55DEF6F3718FD5D0EAB3F8809A5A25CE73AC3B448D19CF56C3A40CA\n",
      "64\n",
      "3A1DB9CE54E29D4A544F6EB8C27F3F1F01E1846718AD3CE4D085CCF1B52C2557\n",
      "64\n",
      "793DAC778302AA339388684507B3195CC2E52DD84C13AA48AD275CE010D47E9A\n",
      "64\n",
      "793DAC778302AA339388684507B3195CC2E52DD84C13AA48AD275CE010D47E9A\n",
      "64\n",
      "5E866B0467110A1AEC790577A15C8309C6E67032F5BB49E706815AD3D1163B71\n",
      "64\n",
      "5E866B0467110A1AEC790577A15C8309C6E67032F5BB49E706815AD3D1163B71\n",
      "64\n",
      "90599E1FA155AA7E6ED50F55355B26BF9ECA33EA19E9A804D6A7E0210931285A\n",
      "64\n",
      "84AF95C484AF84DCC3F6A2582258CDF0076DF068AA6FE7399BFFF38B747384C2\n",
      "64\n",
      "CEEDCB55ACCA7B3CA9A6E86F3AD96CE28ED0642383E5CAC1E60014FD016E08B1\n",
      "64\n",
      "117194D8ED7D68BF43FD299E3EE82AD1D8AF7DF548CB28453FC638656604B336\n",
      "64\n",
      "860B20D27094DD08508CF1716EAE9A23AA41FBA48E03F0A81BC8D6363A3DC0BF\n",
      "64\n",
      "F58C81E3AC5643C7DD49F5592E081DA98D5FF83F3B6D6E10DBF610F728F2B4A0\n",
      "64\n",
      "8A18C6211356EAEDBC3448D59AE70607927C1D191095CFD5A0F705665BAC76EE\n",
      "64\n",
      "860B20D27094DD08508CF1716EAE9A23AA41FBA48E03F0A81BC8D6363A3DC0BF\n",
      "64\n",
      "84AF95C484AF84DCC3F6A2582258CDF0076DF068AA6FE7399BFFF38B747384C2\n",
      "64\n",
      "CEEDCB55ACCA7B3CA9A6E86F3AD96CE28ED0642383E5CAC1E60014FD016E08B1\n",
      "64\n",
      "117194D8ED7D68BF43FD299E3EE82AD1D8AF7DF548CB28453FC638656604B336\n",
      "64\n",
      "7D323379C7F916D2A032308E237E8CBE5463C01F89FDC1C924820D4D698BDC07\n",
      "64\n",
      "039A285D0D567ECB703C3874A8124141D42BB192C7C66A2288E3C07E2E108A27\n",
      "64\n",
      "8E292EFE95352C84BB4D4BF5F97374DDEEA89A844CB81BCC0ABF9FFA4873CB68\n",
      "64\n",
      "08F12E715DAD9FE969EB5C8AB0B50F253E9C1B6B79107F8DE8B699F2E7D526FA\n",
      "64\n",
      "DE12F718A52BB7A536E9CB9DA5C820EA5FF2CDBF8676870EF1FB949F530B8F91\n",
      "64\n",
      "BE112E572923B8EA82B112F98976D47172000533AEE9E916B78CFFC0DD2BD7B9\n",
      "64\n",
      "5125E7364D1C38E6362F4955108C28AFF280E31257C679070858250FCFE51098\n",
      "64\n",
      "3004FB0C5F53996FC26B281B91D42392D3755A65BFDE678B436D4EDA0EDF2246\n",
      "64\n",
      "7D50D224417917B2EA37223F41F931FF4E4F3D110C2539C9F591FC0653A2769D\n",
      "64\n",
      "DC715B8E8C62073D3BEDD3D28F4EAFB8552FFF308C32C857E8AFD325E0322D89\n",
      "64\n",
      "139C49C6DE50941A904697EC821E9E4BA20CCBEACFEB533B7EB650938F1990CC\n",
      "64\n",
      "139C49C6DE50941A904697EC821E9E4BA20CCBEACFEB533B7EB650938F1990CC\n",
      "64\n",
      "7120C08B062ECF9620AB143E256F780B7ADD3DAF29546AEAA5D3564549369BAE\n",
      "64\n",
      "7120C08B062ECF9620AB143E256F780B7ADD3DAF29546AEAA5D3564549369BAE\n",
      "64\n",
      "616D90444046621DF662625B0B157C267AAD92F5E86E5D73E079B0B1985DDFC7\n",
      "64\n",
      "616D90444046621DF662625B0B157C267AAD92F5E86E5D73E079B0B1985DDFC7\n",
      "64\n",
      "66E7E425597C66AB9201DD77947027195DBE3C640C0CA8A92755E8DBBD8E4EFD\n",
      "64\n",
      "66E7E425597C66AB9201DD77947027195DBE3C640C0CA8A92755E8DBBD8E4EFD\n",
      "64\n",
      "BF14FCF43FD630F53D6AAB2798EDFC8905E3AA631C277B7663F4D50AD45F1DE0\n",
      "64\n",
      "BF14FCF43FD630F53D6AAB2798EDFC8905E3AA631C277B7663F4D50AD45F1DE0\n",
      "64\n",
      "4CBC46483D23D460A6E3DB767D690D8A8FFA622000D57E05621D28F7622BA7F3\n",
      "64\n",
      "4CBC46483D23D460A6E3DB767D690D8A8FFA622000D57E05621D28F7622BA7F3\n",
      "64\n",
      "81F3FA84C3DACC64546F3A6D6B22634A8A62E4945F74A5F132FE8E1D4204FE1C\n",
      "64\n",
      "81F3FA84C3DACC64546F3A6D6B22634A8A62E4945F74A5F132FE8E1D4204FE1C\n",
      "64\n",
      "7DC39B824508CDCC7EB0F03B1A82967E38A82C47556F34236CA75D5BB8681840\n",
      "64\n",
      "7DC39B824508CDCC7EB0F03B1A82967E38A82C47556F34236CA75D5BB8681840\n",
      "64\n",
      "0C4771FA3234CF9C26DD786168FEBC34B3F91C4E6EB8F70BCA970B44F8316BF4\n",
      "64\n",
      "0C4771FA3234CF9C26DD786168FEBC34B3F91C4E6EB8F70BCA970B44F8316BF4\n",
      "64\n",
      "D53FCC03354328FCDC7FB6F0278AD67FB242F2B7398ABFE7176DBCDEC50ADDD3\n",
      "64\n",
      "D53FCC03354328FCDC7FB6F0278AD67FB242F2B7398ABFE7176DBCDEC50ADDD3\n",
      "64\n",
      "89D5A686F455D326D8EB8A1C45F0D39BBB995D49B1BCEE351F266C8429ACD53D\n",
      "64\n",
      "89D5A686F455D326D8EB8A1C45F0D39BBB995D49B1BCEE351F266C8429ACD53D\n",
      "64\n",
      "3BDB7D6812555B2511FC074AF7B0AD586B9848A57B892783CDCF88267937494D\n",
      "64\n",
      "3BDB7D6812555B2511FC074AF7B0AD586B9848A57B892783CDCF88267937494D\n",
      "64\n",
      "C4F4420FF41D2DE63B27F4EEDBAE603009BD7173465994FBBAEC52FC87C87023\n",
      "64\n",
      "C4F4420FF41D2DE63B27F4EEDBAE603009BD7173465994FBBAEC52FC87C87023\n",
      "64\n",
      "D933EC9B1DF42BE7F08B6A703EF5FAF0952FF4DFDD3153E7EA8457B1C82015E6\n",
      "64\n",
      "D933EC9B1DF42BE7F08B6A703EF5FAF0952FF4DFDD3153E7EA8457B1C82015E6\n",
      "64\n",
      "2AA5568D8D85269848DFEED80AE307C9C084A9DC84C301D70B5B165049475754\n",
      "64\n",
      "2AA5568D8D85269848DFEED80AE307C9C084A9DC84C301D70B5B165049475754\n",
      "64\n",
      "5FE41FD94193E392264366E0FFBEE8D30A5E8D1490DB0AE6FD5D25F7F015D1B5\n",
      "64\n",
      "5FE41FD94193E392264366E0FFBEE8D30A5E8D1490DB0AE6FD5D25F7F015D1B5\n",
      "64\n",
      "563F4D5AA94B8E283C7EDE2E80A56F7678203ACA45581498B29E3B5DC996119B\n",
      "64\n",
      "563F4D5AA94B8E283C7EDE2E80A56F7678203ACA45581498B29E3B5DC996119B\n",
      "64\n",
      "4BDC4AB58D5031D3E3E84EDF24E0029C005FD87A66E4A4ED9DD233174C24EB16\n",
      "64\n",
      "4BDC4AB58D5031D3E3E84EDF24E0029C005FD87A66E4A4ED9DD233174C24EB16\n",
      "64\n",
      "BD22891783343067154BECC971BA37CD68099F1C01790F06B3F262AC1B82D7F4\n",
      "64\n",
      "BD22891783343067154BECC971BA37CD68099F1C01790F06B3F262AC1B82D7F4\n",
      "64\n",
      "C82199D2D1DEE7930CF6832AB94C5F9C46A6E725DCA3A533A2D80C215B2BB9B4\n",
      "64\n",
      "C82199D2D1DEE7930CF6832AB94C5F9C46A6E725DCA3A533A2D80C215B2BB9B4\n",
      "64\n",
      "511947967D6E720D9EC14E36EF57FD99ECC87386BE257D5688A747BB81C9B4D0\n",
      "64\n",
      "511947967D6E720D9EC14E36EF57FD99ECC87386BE257D5688A747BB81C9B4D0\n",
      "64\n",
      "ECD95B94EBB7C992BEB0CB36EEBE29061C84EC3801AE6FF45497626A837E795C\n",
      "64\n",
      "ECD95B94EBB7C992BEB0CB36EEBE29061C84EC3801AE6FF45497626A837E795C\n",
      "64\n",
      "4CA0EA254B57A7D3FD327B62AEFA1EF1642DEE0127526712C9DC3A2027182533\n",
      "64\n",
      "4CA0EA254B57A7D3FD327B62AEFA1EF1642DEE0127526712C9DC3A2027182533\n",
      "64\n",
      "D9A6488480B22E99DF990A9D33B8FC2AC8EE4829CA2B2A085A81CA97AAE44949\n",
      "64\n",
      "D9A6488480B22E99DF990A9D33B8FC2AC8EE4829CA2B2A085A81CA97AAE44949\n",
      "64\n",
      "10E4D58353FD9BB85DD8268EDEE6EE20D6A81D54408CE536AF76AEE2982192BA\n",
      "64\n",
      "10E4D58353FD9BB85DD8268EDEE6EE20D6A81D54408CE536AF76AEE2982192BA\n",
      "64\n",
      "3F9A9CA2440953ECDB9E1FA42EAAB2CC4636275C5816DB3E58C4CFF2BD71879D\n",
      "64\n",
      "3F9A9CA2440953ECDB9E1FA42EAAB2CC4636275C5816DB3E58C4CFF2BD71879D\n",
      "64\n",
      "36B0F9561FCFF74D85001D9F0B6B42CC6BC37B1886890C8507823971B09B1B65\n",
      "64\n",
      "36B0F9561FCFF74D85001D9F0B6B42CC6BC37B1886890C8507823971B09B1B65\n",
      "64\n",
      "DCEF970A19527746AA547C79360F0E6FA52029B87EDECE62184EB19F9E212616\n",
      "64\n",
      "DCEF970A19527746AA547C79360F0E6FA52029B87EDECE62184EB19F9E212616\n",
      "64\n",
      "58F9299F4404A6BDC48951893EEA504BAC1000FB7BA645A716AB4ED472FDE83C\n",
      "64\n",
      "58F9299F4404A6BDC48951893EEA504BAC1000FB7BA645A716AB4ED472FDE83C\n",
      "64\n",
      "C7E3B9FF4B61F915348986D14A4F2565E8D6BBA6DC6392DFA3F8791B35CC8CEB\n",
      "64\n",
      "C7E3B9FF4B61F915348986D14A4F2565E8D6BBA6DC6392DFA3F8791B35CC8CEB\n",
      "64\n",
      "01AF3839930BB842B4E14849D478AF7D76F76C3B7D8C82E625D7110526BD981E\n",
      "64\n",
      "01AF3839930BB842B4E14849D478AF7D76F76C3B7D8C82E625D7110526BD981E\n",
      "64\n",
      "152DE5669B64CD4775A92337DA782E9E29ABA277FED96CA1002FFA5613B278BD\n",
      "64\n",
      "152DE5669B64CD4775A92337DA782E9E29ABA277FED96CA1002FFA5613B278BD\n",
      "64\n",
      "7DA437AC31DD3F2E6859882DB295885B43A436E9502CF99C389F9EC2EE3C3704\n",
      "64\n",
      "7DA437AC31DD3F2E6859882DB295885B43A436E9502CF99C389F9EC2EE3C3704\n",
      "64\n",
      "8CEE18D7959EF8B5371A90A1D580A095B0F42FA0BD17CE6BB5F864F6DB4DF1AF\n",
      "64\n",
      "8CEE18D7959EF8B5371A90A1D580A095B0F42FA0BD17CE6BB5F864F6DB4DF1AF\n",
      "64\n",
      "EBD0F066B9E17BD2F1984E17B47946863E3CBBC34C2CC49F59A8E214E893825B\n",
      "64\n",
      "EBD0F066B9E17BD2F1984E17B47946863E3CBBC34C2CC49F59A8E214E893825B\n",
      "64\n",
      "3B1A5642C488332F454FB27D713C342A3070E26005DA3A4DB40C8B8E86C5B5C5\n",
      "64\n",
      "11ACB2CBDEEE6498FA415B7A5A6095FA6AD0A6C6DEB9AF7CE030620918B767C1\n",
      "64\n",
      "748090DFE826472A71DCAD253BACB60E0F7A19CFA32481A3143727F058417DEE\n",
      "64\n",
      "894C41880B68FF6698E71DF6F9AF9AB7C6762CBB164F7EB32076EACF16CE9F07\n",
      "64\n",
      "3E92A8494C428BC039FB369F085FC99E6D49FE04D3D643CB965E5E849856F16C\n",
      "64\n",
      "FC6DE27AA5FBFAE9C9CDDAB4DBFD7BD341731E4C1790E8F6DCEF199B862B099B\n",
      "64\n",
      "F6405625D36E80B6080D7089A82A4515B0A31CA159883B5F90E56809106F75E1\n",
      "64\n",
      "11F3E080752662309720BE28A9CE193220500893876F86A623EE527F31616D4D\n",
      "64\n",
      "282383B3A5D5A29E577FE9556E79369CD5253AA14E74C3CF60A87BF34CEFEAAD\n",
      "64\n",
      "F6F447F6256FF1A752DCFD029DE06E95B175FF07F61EE5115E7B29D673C778CE\n",
      "64\n",
      "608F15EDE44EEC54EDC1CB23A3A39BD88A5C20D4F1CC24FBBDBC10F656AC6AD1\n",
      "64\n",
      "A031401F2C379C4E8CA41F0C3993E18EC4C01081202DA593F54D457901EB9A13\n",
      "64\n",
      "6F7E60396F85A6F98AFC403B1EE4E8490E7519019531E11F2EA270B287511FB7\n",
      "64\n",
      "29CE107E87957C03AF3B9D16B2629966D20AC6545E584EB8E38391E54E66F679\n",
      "64\n",
      "59C12F1477CD14A877C0E1D9CAC9112CF40E9D08D1684FE52624A6B0F5C775C9\n",
      "64\n",
      "0F537ED8789911C04C16D4335BBE33D5FD2ABACF2D37C79085270AC4595A900B\n",
      "64\n",
      "4615FB7A771B6C5B1BA68E635F3ED5D810BFF71B6ECE61528FF9C80669A834C9\n",
      "64\n",
      "FCC21600AB94BFD4069334D5022D365412F407805F17108A3242EFC1336B7E9E\n",
      "64\n",
      "6166D56A3C0667B7509F30A428C29B6596948E4C6402E17365CA0E41D27006D3\n",
      "64\n",
      "10CCD8023A4D6EE29030952610F7375EF907C372D864A5B1F13C64F0958B7919\n",
      "64\n",
      "3CA8839A56DC5BA1C1515D17E7011B32EF51EFA96D2184922B952BCEA67A8ED3\n",
      "64\n",
      "8540FB264066C2F3F9C5B02E162269C314CEDFD0130938D96B20292455261FCE\n",
      "64\n",
      "D8F059F26BA99C7548EB5E7564150A7B41172F12343E9184E6898A22FF34A3F0\n",
      "64\n",
      "FC2A2B7CA101AD0BE9B958FB6A518EF131169A82F3571C3161FB5A3D11663342\n",
      "64\n",
      "9D58AEA34A6A96131DDB80EFA9227CB323FFC4FBE775ED62B9FDEC58DE57FBB2\n",
      "64\n",
      "F4ED65CDB0831781E4E2CBFFA570606674DCF6840AA4EA290C08523432E5663C\n",
      "64\n",
      "5EFFFCC71954C88819D5AB953EC60C248A7BDF6F2625A9A69F58302745D1D6DD\n",
      "64\n",
      "38B8DA52C85332A07A0E1EF23520C1EB983F5E9B002145504BA6D20A863E4D7F\n",
      "64\n",
      "79AC84921EE4ACAD5E72152C874BE6264153D77E9A7A8ECF929F18721E748645\n",
      "64\n",
      "FE1368325CC3B9B189E897D6424EF214D60D3B42D003617375E0C8624DDAB88B\n",
      "64\n",
      "08EEADE1BCA7C0BD3194122841738EE783A39594F0BC40E3818FBD32E0CD76DD\n",
      "64\n",
      "2714D6EA4CDED83AAA6AA6D7DCCACF7EFA59B3B9F3D196909FC9D1D141618C3E\n",
      "64\n",
      "33C4E23D3685B5536256B5A061273BBEF5E803CEC9ABDA06949FDE4CE2C2C583\n",
      "64\n",
      "560F9BE03ADB4321E814B58EC660E4AA56FB3D18566260B362C95B237ED2252A\n",
      "64\n",
      "336E3DAA4F4E8D58C1A1EC75F1B0C2C0A9F547EA437851BC8E5BB45708ACF8C7\n",
      "64\n",
      "BA1CF2C75ACC3198436F85C20162F01136F538B0A25C9BDDEBFB33729E6C0412\n",
      "64\n",
      "41708C5016F7038CEDFEAA338CC78E22A5151A1FFE378FD5A84EF1AFAAA8AF5D\n",
      "64\n",
      "AD98D6DC5533382D3F9CDC8DDCCEB16E47CAA5A16ABA8B034EDB7ABC1E8650D6\n",
      "64\n",
      "1714587C26E2FA9A989107D298FDE6F2F719C969FBD562BBD5C6D016CFCDCA23\n",
      "64\n",
      "96838C086784AB42B3986C327CA60915A202A70C9F81A842CEE213F405C888C4\n",
      "64\n",
      "C4A91BC1A8560831B1C04B899DE988084343ED1C681BD4A500A12D49C7A30134\n",
      "64\n",
      "37B85ABC40280CEE311864CB6E5DD2E20BEB9A76CA69ABFB8FD028ECC6F6FBD4\n",
      "64\n",
      "4B3ACCCAAEBFCFA57E7F204A1AF140A99F139DB11B6B396D7EA25908C8243B01\n",
      "64\n",
      "0CADFDAAB631DB3EEA6B0A1B60DE2BC6413CC0B6898D1DAD7928121562F3CBC6\n",
      "64\n",
      "363F063365492CB800A8A4B9BA84CF1AB04D61A06C908F4831ECA40E11C7CB61\n",
      "64\n",
      "A452CDCB76A0E4501C19BFCFB7F044559D5C7B03F12218198C1076079D311444\n",
      "64\n",
      "7B06F3774500BA018D382610A4F8EA18AF46CFCEC8170A6C6E1F4859B3919C83\n",
      "64\n",
      "ED329BC477274ED85A67A6A56C0E4E272CBA37581FCB166FAA7F153E0F3865E3\n",
      "64\n",
      "40FF0FC1E6629B6CE6C6DF7EC1D2C366197207C9D58881A10FE9E653D145DB0F\n",
      "64\n",
      "308EBC47E8A7958275FCD2BEA1965BE7BB97E3C6EC3D1ACBDFF4B2E5B19DCEAB\n",
      "64\n",
      "8C4ECE698730A34B4EC29DB760D9AA229C9FA286FDF1AFFC0E009EF774B2AAC6\n",
      "64\n",
      "DE1F79C8FD0EB81078F12C3D7F830EE479D43A0232C9884048E7EC5E37701B4E\n",
      "64\n",
      "F4C76B295FA7E31D772DE8C9C4A3F1AFDBC6B2DB5865E5CD27F87F6F518F9CBD\n",
      "64\n",
      "AFE320EE13A0701102264562B85452332306024C691D344889110DC6BC0E36D6\n",
      "64\n",
      "634E761A667C99AC965EEF031155AB2FAE9275317D46AAE385370FB4E0BECBD1\n",
      "64\n",
      "5E866B0467110A1AEC790577A15C8309C6E67032F5BB49E706815AD3D1163B71\n",
      "64\n",
      "5E866B0467110A1AEC790577A15C8309C6E67032F5BB49E706815AD3D1163B71\n",
      "64\n",
      "0BA1074E0DE6F8B3B25013BD48099148FD92A12777591782B632C0DC448CF1C6\n",
      "64\n",
      "0BA1074E0DE6F8B3B25013BD48099148FD92A12777591782B632C0DC448CF1C6\n",
      "64\n",
      "FAA7E4FAA01477F712576B31B43E4D5B58693F3FE3A20FD05AC1826B66580A47\n",
      "64\n",
      "FAA7E4FAA01477F712576B31B43E4D5B58693F3FE3A20FD05AC1826B66580A47\n",
      "64\n",
      "16E60D5ECCEB5C18BA70CEF97925F2C577632AE087EB4C023295CE5CE7E430DF\n",
      "64\n",
      "CA3E86B5560C6D08A971E9ED81D3EC230A8BEF7DE5E168B1262BF8E91E1B168D\n",
      "64\n",
      "143B70B8DB3A08EA8878023ACD5B0517A2A20DA7C567FB9C144A6C417B1F1BC0\n",
      "64\n",
      "793DAC778302AA339388684507B3195CC2E52DD84C13AA48AD275CE010D47E9A\n",
      "64\n",
      "793DAC778302AA339388684507B3195CC2E52DD84C13AA48AD275CE010D47E9A\n",
      "64\n",
      "793DAC778302AA339388684507B3195CC2E52DD84C13AA48AD275CE010D47E9A\n",
      "64\n",
      "793DAC778302AA339388684507B3195CC2E52DD84C13AA48AD275CE010D47E9A\n",
      "64\n",
      "793DAC778302AA339388684507B3195CC2E52DD84C13AA48AD275CE010D47E9A\n",
      "64\n",
      "793DAC778302AA339388684507B3195CC2E52DD84C13AA48AD275CE010D47E9A\n",
      "64\n",
      "793DAC778302AA339388684507B3195CC2E52DD84C13AA48AD275CE010D47E9A\n",
      "64\n",
      "77725AE5818664FE096FE60B27E18D8D4684E1AC24F54924C7062EE07BA5577F\n",
      "64\n",
      "04875E6593208075C3FF6BEE6BAC969FB421421E0BC0998D09685EB1A82B2F52\n",
      "64\n",
      "5775B3985422D340BD09E0D4615E3A9D26C62693C0A2658D1DE73A20E353DDD1\n",
      "64\n",
      "5775B3985422D340BD09E0D4615E3A9D26C62693C0A2658D1DE73A20E353DDD1\n",
      "64\n",
      "77725AE5818664FE096FE60B27E18D8D4684E1AC24F54924C7062EE07BA5577F\n",
      "64\n",
      "04875E6593208075C3FF6BEE6BAC969FB421421E0BC0998D09685EB1A82B2F52\n",
      "64\n",
      "143B70B8DB3A08EA8878023ACD5B0517A2A20DA7C567FB9C144A6C417B1F1BC0\n",
      "64\n",
      "E65C4BFF59CFECE9D70CD0689E804D4BD2EC2E9EA3EB0940E150CF5E3E50CF3B\n",
      "64\n",
      "E65C4BFF59CFECE9D70CD0689E804D4BD2EC2E9EA3EB0940E150CF5E3E50CF3B\n",
      "64\n",
      "B8D026AE4E9EB3F5588B6AD2B5AE07E06BE07580AD1D71BBDB1017583E25729C\n",
      "64\n",
      "98B874D478C90A4CAAAA94B20CA69FB9AA0071F6850C00399EE8E160D2F6648E\n",
      "64\n",
      "F4DAAB2568DED43BD50CF09185E0C8BC6DC7D4F87B185A7F1B0F530303E5CD42\n",
      "64\n",
      "E635CA4EB9646694A33D4A9EC4C3AC55BFD6F49225D8D486A7B8596096FCB036\n",
      "64\n",
      "537695B45A704349906C17FE04F38B52C07D4E69FC131ACF85DD866207CA5AFC\n",
      "64\n",
      "3A1DB9CE54E29D4A544F6EB8C27F3F1F01E1846718AD3CE4D085CCF1B52C2557\n",
      "64\n",
      "099A5259E4CBEEDCE758A973CCB1C68D280D131456DBD4946F7BE3BD29792DE0\n",
      "64\n",
      "0028C886A9EC8F133ED79E4FE48607D4DD042A9A3942CC28C0B3EBD5202524C0\n",
      "64\n",
      "FF5AF319A55DEF6F3718FD5D0EAB3F8809A5A25CE73AC3B448D19CF56C3A40CA\n",
      "64\n",
      "951BB772B528C7C4AAA28858FA11EA772EBDF8D3738533A67B3EDF856C31DDCF\n",
      "64\n",
      "C830A60E972AA73D34164E3B9AA8A421DEBB0086D08085C0875EC18591A14927\n",
      "64\n",
      "E309F55001A52B57E0319326A9E5AB6AFD8CDAC068E8CB1258D1DB0DC473D50C\n",
      "64\n",
      "923DCF98E9B41F1D3EEF0871ECE41CFF228EFD027659EF7E99ED5DCA204F7F36\n",
      "64\n",
      "B30DC2C639C371AC657B6888CB883255C39B11CE2D27BB363733F8AF572EF6B6\n",
      "64\n",
      "5FC1DDC3FA0D68E2F35DBCC3D530995B23836154D3403DB18360DC1BDBE59FF9\n",
      "64\n",
      "0B98D437579D422186B5C22FDB1669F35FDEBE8ECC1220FBCE8900D0689521BA\n",
      "64\n",
      "9F7B7A7A33C70630A743E4D590AF000BC1DD47A6A6DFBE2BC5B86DF8E7FEA4C4\n",
      "64\n",
      "7E86FDF952D25E67E230B6B780A6EC572A8FB08B8435C99066471E7C74C5E8FB\n",
      "64\n",
      "9F7B7A7A33C70630A743E4D590AF000BC1DD47A6A6DFBE2BC5B86DF8E7FEA4C4\n",
      "64\n",
      "DAE6A8604D51095FD923AD1B473275898A583B65EEA6AC4E9C9A956B9A4EEE1B\n",
      "64\n",
      "894C41880B68FF6698E71DF6F9AF9AB7C6762CBB164F7EB32076EACF16CE9F07\n",
      "64\n",
      "EB4D42C88EADD3B2D38226E20A0334133A1E7057428790F1F33201A744AEA163\n",
      "64\n",
      "23C3425CB4264CE7B3EF494C6353C2F0527497469A16AC738497248A9857AE60\n",
      "64\n",
      "C07290285246605532727B4CEA1E01E895AA8F2EEF52911B88CD871E633FB2D0\n",
      "64\n",
      "512B8DAA89DFBA63A0D32DCA0A688CB47F9B83FA0AB21A3B4B5FFC2A3998F2FB\n",
      "64\n",
      "90C1EEF386B5E79B47B887428E2C20E59872011391BD838E16AF70CC7D248258\n",
      "64\n",
      "0374C79441837BBB963FAF27120A0966CAF1B9E929E4276D1B935459E3510DF5\n",
      "64\n",
      "66435AB3CE66A0D43920032D84E212079A6D157FFDDF5E9C1B17A9E3F1386150\n",
      "64\n",
      "8C629AB9E2358873DF3688FA9417799A55744696692686DEB706C56EA387AA80\n",
      "64\n",
      "2EDBD594DFD90D92A9AA298635B11EB4CAD854E7EAEC89FC963A8B6A84DA5AF0\n",
      "64\n",
      "507589489B0DF92EC484C6F286D5557827CE84751DA894978C7E3DDED9D94DB2\n",
      "64\n",
      "9D58AEA34A6A96131DDB80EFA9227CB323FFC4FBE775ED62B9FDEC58DE57FBB2\n",
      "64\n",
      "5EFFFCC71954C88819D5AB953EC60C248A7BDF6F2625A9A69F58302745D1D6DD\n",
      "64\n",
      "38B8DA52C85332A07A0E1EF23520C1EB983F5E9B002145504BA6D20A863E4D7F\n",
      "64\n",
      "F4C76B295FA7E31D772DE8C9C4A3F1AFDBC6B2DB5865E5CD27F87F6F518F9CBD\n",
      "64\n",
      "6BC38CDE150C2CBBA0C9C556B802E20DFB6CD6B94E7A252A57F2E29FE64DDC0B\n",
      "64\n",
      "8562310627725196F35BC4063646B369AA22B9D50A2EA4CDA6B57D7B03474F99\n",
      "64\n",
      "89C58611F786156703C373448C6012619F25875AF7F52078DB3668D997FBE0E9\n",
      "64\n",
      "818039642071208E6512EA0277F51164D9AB3C67DE8CD10C67C18B5A448B2F50\n",
      "64\n",
      "ED329BC477274ED85A67A6A56C0E4E272CBA37581FCB166FAA7F153E0F3865E3\n",
      "64\n",
      "6BEBCF7785378B3970BC4256AE08ADD96412FFFE294B2A4561880027CEECA796\n",
      "64\n",
      "2B8DA813E28CCB1905ADB9B5801B3CA3DCF32C31B3276A57E6EA90750A193152\n",
      "64\n",
      "5901B99EE3D9AEF011778E60AA19B948354D3E637D57B49BD170D5F0613A5A63\n",
      "64\n",
      "D178A03FD2EEDDCFCDE259E48EC16F3BF16F88DECF8A2B390B582BBD7BB07AF6\n",
      "64\n",
      "74352A3D8F4628136A0C46F82361483031B7C3C06B4CF795C7FEEA3D0E9F3FF3\n",
      "64\n",
      "74352A3D8F4628136A0C46F82361483031B7C3C06B4CF795C7FEEA3D0E9F3FF3\n",
      "64\n",
      "74352A3D8F4628136A0C46F82361483031B7C3C06B4CF795C7FEEA3D0E9F3FF3\n",
      "64\n",
      "74352A3D8F4628136A0C46F82361483031B7C3C06B4CF795C7FEEA3D0E9F3FF3\n",
      "64\n",
      "74352A3D8F4628136A0C46F82361483031B7C3C06B4CF795C7FEEA3D0E9F3FF3\n",
      "64\n",
      "74352A3D8F4628136A0C46F82361483031B7C3C06B4CF795C7FEEA3D0E9F3FF3\n",
      "64\n",
      "5641A090645FC29989787D773EAC49CA4E2EB528D7D19A87B8BFD9846346DFE9\n",
      "64\n",
      "5641A090645FC29989787D773EAC49CA4E2EB528D7D19A87B8BFD9846346DFE9\n",
      "64\n",
      "5641A090645FC29989787D773EAC49CA4E2EB528D7D19A87B8BFD9846346DFE9\n",
      "64\n",
      "5641A090645FC29989787D773EAC49CA4E2EB528D7D19A87B8BFD9846346DFE9\n",
      "64\n",
      "CEEF4C18D5C467AA6CC8C99465B6FC75F0EA1E47773F693C243A079ED3608CB1\n",
      "64\n",
      "04875E6593208075C3FF6BEE6BAC969FB421421E0BC0998D09685EB1A82B2F52\n",
      "64\n",
      "CEEF4C18D5C467AA6CC8C99465B6FC75F0EA1E47773F693C243A079ED3608CB1\n",
      "64\n",
      "CEEF4C18D5C467AA6CC8C99465B6FC75F0EA1E47773F693C243A079ED3608CB1\n",
      "64\n",
      "04875E6593208075C3FF6BEE6BAC969FB421421E0BC0998D09685EB1A82B2F52\n",
      "64\n",
      "CEEF4C18D5C467AA6CC8C99465B6FC75F0EA1E47773F693C243A079ED3608CB1\n",
      "64\n",
      "CEEF4C18D5C467AA6CC8C99465B6FC75F0EA1E47773F693C243A079ED3608CB1\n",
      "64\n",
      "CEEF4C18D5C467AA6CC8C99465B6FC75F0EA1E47773F693C243A079ED3608CB1\n",
      "64\n",
      "3403DFD6DEA3665061F7D3E661E7B305BB0FDB2A4E5F42E039547422B38B5DE0\n",
      "64\n",
      "D2758ECCC7ED216C4A7EAAB641459E4CCBFE137FCB0049E9DADD031A9E275A61\n",
      "64\n",
      "923DCF98E9B41F1D3EEF0871ECE41CFF228EFD027659EF7E99ED5DCA204F7F36\n",
      "64\n",
      "B30DC2C639C371AC657B6888CB883255C39B11CE2D27BB363733F8AF572EF6B6\n",
      "64\n",
      "E309F55001A52B57E0319326A9E5AB6AFD8CDAC068E8CB1258D1DB0DC473D50C\n",
      "64\n",
      "C830A60E972AA73D34164E3B9AA8A421DEBB0086D08085C0875EC18591A14927\n",
      "64\n",
      "8C5E7E77BAB225BA90A11C3D34A91A1B420666EE78501873DBA0F3D2BB6942BA\n",
      "64\n",
      "63E82421F0318F62C4323B2D4600272B622F2CFF39D838EFFD907EDFCE0FAD30\n",
      "64\n",
      "F58C81E3AC5643C7DD49F5592E081DA98D5FF83F3B6D6E10DBF610F728F2B4A0\n",
      "64\n",
      "8C5E7E77BAB225BA90A11C3D34A91A1B420666EE78501873DBA0F3D2BB6942BA\n",
      "64\n",
      "63E82421F0318F62C4323B2D4600272B622F2CFF39D838EFFD907EDFCE0FAD30\n",
      "64\n",
      "CCA9DA5E163AE5DC435E3265F567A6312C520FEC7295555DB6AF927EB8A96BA3\n",
      "64\n",
      "C07290285246605532727B4CEA1E01E895AA8F2EEF52911B88CD871E633FB2D0\n",
      "64\n",
      "117194D8ED7D68BF43FD299E3EE82AD1D8AF7DF548CB28453FC638656604B336\n",
      "64\n",
      "86205316529386DA7E1882DADC2256E87E072D1475BFFF266ED8A28F09EA0104\n",
      "64\n",
      "8A18C6211356EAEDBC3448D59AE70607927C1D191095CFD5A0F705665BAC76EE\n",
      "64\n",
      "117194D8ED7D68BF43FD299E3EE82AD1D8AF7DF548CB28453FC638656604B336\n",
      "64\n",
      "0D3BE06618EA5AF25892A487AA80FCEDBD06305B62C16388EE8B809F634D592C\n",
      "64\n",
      "16E60D5ECCEB5C18BA70CEF97925F2C577632AE087EB4C023295CE5CE7E430DF\n",
      "64\n",
      "CA3E86B5560C6D08A971E9ED81D3EC230A8BEF7DE5E168B1262BF8E91E1B168D\n",
      "64\n",
      "5EEC9C57065D98D2068281C9926356A4D5ED84E20CE4BA955707F62850AFBBD6\n",
      "64\n",
      "C830A60E972AA73D34164E3B9AA8A421DEBB0086D08085C0875EC18591A14927\n",
      "64\n",
      "117194D8ED7D68BF43FD299E3EE82AD1D8AF7DF548CB28453FC638656604B336\n",
      "64\n",
      "F58C81E3AC5643C7DD49F5592E081DA98D5FF83F3B6D6E10DBF610F728F2B4A0\n",
      "64\n",
      "117194D8ED7D68BF43FD299E3EE82AD1D8AF7DF548CB28453FC638656604B336\n",
      "64\n",
      "BD2DBE9461B7FA9A748DF55D265E22D247AB0B643262B260F0A0B0F133FF6933\n",
      "64\n",
      "35512F43AA45B5A5F4CDEA2526DC34EB7AE45EEBBEF78450B1228E0F92AE113D\n",
      "64\n"
     ]
    }
   ],
   "source": [
    "for entry in data:\n",
    "    for answer in entry['answer']:\n",
    "        if len(answer) == 3:\n",
    "            print answer[1]\n",
    "            print len(answer[1])"
   ]
  }
 ],
 "metadata": {
  "kernelspec": {
   "display_name": "Python 2",
   "language": "python",
   "name": "python2"
  },
  "language_info": {
   "codemirror_mode": {
    "name": "ipython",
    "version": 2
   },
   "file_extension": ".py",
   "mimetype": "text/x-python",
   "name": "python",
   "nbconvert_exporter": "python",
   "pygments_lexer": "ipython2",
   "version": "2.7.11"
  }
 },
 "nbformat": 4,
 "nbformat_minor": 0
}
