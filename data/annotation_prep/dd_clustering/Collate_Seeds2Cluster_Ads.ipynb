{
 "cells": [
  {
   "cell_type": "code",
   "execution_count": 1,
   "metadata": {
    "collapsed": true
   },
   "outputs": [],
   "source": [
    "import json"
   ]
  },
  {
   "cell_type": "markdown",
   "metadata": {},
   "source": [
    "## Combine Relevant Ads"
   ]
  },
  {
   "cell_type": "code",
   "execution_count": 5,
   "metadata": {
    "collapsed": true
   },
   "outputs": [],
   "source": [
    "first_round_file = 'FIRST_ROUND_seeds2cluster_ads.json'\n",
    "second_round_file = 'FIRST_ROUND_seeds2cluster_ads.json'"
   ]
  },
  {
   "cell_type": "code",
   "execution_count": 6,
   "metadata": {
    "collapsed": false
   },
   "outputs": [
    {
     "name": "stdout",
     "output_type": "stream",
     "text": [
      "TROUBLE\n",
      "TROUBLE\n",
      "TROUBLE\n",
      "TROUBLE\n",
      "TROUBLE\n",
      "TROUBLE\n",
      "TROUBLE\n",
      "TROUBLE\n",
      "TROUBLE\n",
      "TROUBLE\n",
      "TROUBLE\n",
      "TROUBLE\n",
      "TROUBLE\n",
      "TROUBLE\n",
      "TROUBLE\n",
      "TROUBLE\n",
      "TROUBLE\n",
      "TROUBLE\n",
      "TROUBLE\n",
      "TROUBLE\n",
      "TROUBLE\n"
     ]
    }
   ],
   "source": [
    "with open(first_round_file, 'r') as f:\n",
    "    first_round = eval(f.read())\n",
    "\n",
    "with open(second_round_file, 'r') as f:\n",
    "    second_round = eval(f.read())\n",
    "    \n",
    "new_seeds2cluster_ad = {}\n",
    "\n",
    "for seed in first_round.keys():\n",
    "    temp1 = first_round[seed]\n",
    "    temp2 = second_round[seed]\n",
    "    # List comprehension can cause backwards updates\n",
    "    new_temp = [x for x in temp1]\n",
    "    new_temp.extend(temp2)\n",
    "    new_temp = list(set(new_temp))\n",
    "    \n",
    "    # There shouldn't be any dupes\n",
    "    if len(new_temp) != len(temp1) + len(temp2):\n",
    "        print 'TROUBLE'\n",
    "    \n",
    "    new_seeds2cluster_ad[seed] = new_temp"
   ]
  },
  {
   "cell_type": "markdown",
   "metadata": {},
   "source": [
    "# Attribute Relevant Ads to a Dataset"
   ]
  },
  {
   "cell_type": "markdown",
   "metadata": {},
   "source": [
    "## Obtain Submissions"
   ]
  },
  {
   "cell_type": "code",
   "execution_count": null,
   "metadata": {
    "collapsed": false
   },
   "outputs": [],
   "source": [
    "output_file = 'FINAL_seeds2cluster_ads_REWRITE.json'\n",
    "# Will re-name manually to avoid overwriting\n",
    "with open(output_file, 'w') as f:\n",
    "    json.dump(new_seeds2cluster_ad, f, indent=2)"
   ]
  },
  {
   "cell_type": "code",
   "execution_count": null,
   "metadata": {
    "collapsed": true
   },
   "outputs": [],
   "source": []
  }
 ],
 "metadata": {
  "kernelspec": {
   "display_name": "Python 2",
   "language": "python",
   "name": "python2"
  },
  "language_info": {
   "codemirror_mode": {
    "name": "ipython",
    "version": 2
   },
   "file_extension": ".py",
   "mimetype": "text/x-python",
   "name": "python",
   "nbconvert_exporter": "python",
   "pygments_lexer": "ipython2",
   "version": "2.7.11"
  }
 },
 "nbformat": 4,
 "nbformat_minor": 0
}
