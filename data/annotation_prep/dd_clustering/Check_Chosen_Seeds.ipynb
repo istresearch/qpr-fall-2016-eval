{
 "cells": [
  {
   "cell_type": "code",
   "execution_count": 1,
   "metadata": {
    "collapsed": true
   },
   "outputs": [],
   "source": [
    "import json\n",
    "import operator"
   ]
  },
  {
   "cell_type": "code",
   "execution_count": 2,
   "metadata": {
    "collapsed": true
   },
   "outputs": [],
   "source": [
    "def extract_seed(question):\n",
    "    lines = question['SPARQL'][0].split('\\n')\n",
    "    seed = str(lines[4].split(' ')[1]).strip(\"'\")\n",
    "        \n",
    "    return seed"
   ]
  },
  {
   "cell_type": "code",
   "execution_count": 3,
   "metadata": {
    "collapsed": true
   },
   "outputs": [],
   "source": [
    "problem_phone_seeds = {\n",
    "    '7026023157': {'submitted_docs': 691,\n",
    "                   'extracted_docs': 0},\n",
    "    '4164557000': {'submitted_docs': 582,\n",
    "                   'extracted_docs': 14},\n",
    "    '3345579838': {'submitted_docs': 488,\n",
    "                   'extracted_docs': 12},\n",
    "    '6477932052': {'submitted_docs': 403,\n",
    "                   'extracted_docs': 10},\n",
    "    '5015748332': {'submitted_docs': 366,\n",
    "                   'extracted_docs': 15},\n",
    "    '6126696637': {'submitted_docs': 363,\n",
    "                   'extracted_docs': 32},\n",
    "    '4028713138': {'submitted_docs': 356,\n",
    "                   'extracted_docs': 4},\n",
    "    '2897000184': {'submitted_docs': 322,\n",
    "                   'extracted_docs': 99},\n",
    "    '4804209169': {'submitted_docs': 306,\n",
    "                   'extracted_docs': 60},\n",
    "    '2267928604': {'submitted_docs': 304,\n",
    "                   'extracted_docs': 100},\n",
    "    '3103027803': {'submitted_docs': 302,\n",
    "                   'extracted_docs': 2},\n",
    "    '6477878168': {'submitted_docs': 302,\n",
    "                   'extracted_docs': 4},\n",
    "    '7202565497': {'submitted_docs': 302,\n",
    "                   'extracted_docs': 20},\n",
    "    '3106587382': {'submitted_docs': 300,\n",
    "                   'extracted_docs': 14},\n",
    "    '2125675378': {'submitted_docs': 261,\n",
    "                   'extracted_docs': 64},\n",
    "    '8453210101': {'submitted_docs': 221,\n",
    "                   'extracted_docs': 18},\n",
    "    '6074815436': {'submitted_docs': 220,\n",
    "                   'extracted_docs': 18},\n",
    "    '6474997664': {'submitted_docs': 217,\n",
    "                   'extracted_docs': 20},\n",
    "    '9015053403': {'submitted_docs': 209,\n",
    "                   'extracted_docs': 0},\n",
    "    '7255023008': {'submitted_docs': 155,\n",
    "                   'extracted_docs': 21},\n",
    "    '4149346155': {'submitted_docs': 118,\n",
    "                   'extracted_docs': 46},\n",
    "    '6462800740': {'submitted_docs': 112,\n",
    "                   'extracted_docs': 1}\n",
    "    }"
   ]
  },
  {
   "cell_type": "code",
   "execution_count": 4,
   "metadata": {
    "collapsed": true
   },
   "outputs": [],
   "source": [
    "problem_email_seeds = {\n",
    "    'aylinakkayam@gmail.com': {'submitted_docs': 395,\n",
    "                               'extracted_docs': 15}\n",
    "    }"
   ]
  },
  {
   "cell_type": "code",
   "execution_count": 5,
   "metadata": {
    "collapsed": true
   },
   "outputs": [],
   "source": [
    "lattice_extractions_file = '../../../data/lattice_extractions/data_nyu_2016-11-14.json'\n",
    "lattice_extractions = []\n",
    "with open(lattice_extractions_file, 'r') as f:\n",
    "    for line in f:\n",
    "        temp = json.loads(line)\n",
    "        lattice_extractions.append(temp)"
   ]
  },
  {
   "cell_type": "code",
   "execution_count": 6,
   "metadata": {
    "collapsed": false
   },
   "outputs": [],
   "source": [
    "chosen_questions_file = 'chosen_questions.json'\n",
    "with open(chosen_questions_file, 'r') as f:\n",
    "    chosen_questions = eval(f.read())"
   ]
  },
  {
   "cell_type": "markdown",
   "metadata": {},
   "source": [
    "## Confirm their low extraction numbers"
   ]
  },
  {
   "cell_type": "code",
   "execution_count": null,
   "metadata": {
    "collapsed": false
   },
   "outputs": [],
   "source": [
    "filt = 'lattice-phone'\n",
    "found_phone = {}\n",
    "for seed in problem_phone_seeds.keys():\n",
    "    found_phone[seed] = 0\n",
    "    for entry in lattice_extractions:\n",
    "        match = 0\n",
    "        if filt in entry['extractions'].keys():\n",
    "            for val in entry['extractions'][filt]['results']:\n",
    "                if val['value'] == '+1' + seed:\n",
    "                    match = 1\n",
    "        if match == 1:\n",
    "            found_phone[seed] += 1\n",
    "            \n",
    "# Yup, there do not appear to be many extractions for the chosen seeds"
   ]
  },
  {
   "cell_type": "markdown",
   "metadata": {},
   "source": [
    "## Can you find better seeds?"
   ]
  },
  {
   "cell_type": "code",
   "execution_count": null,
   "metadata": {
    "collapsed": false
   },
   "outputs": [],
   "source": [
    "questions_path = '../../../questions/'\n",
    "\n",
    "seeds = {}\n",
    "\n",
    "seeds['Cluster Identification'] = {}\n",
    "\n",
    "file_path = questions_path + 'post_cluster_identification.json'\n",
    "f = open(file_path, 'r')\n",
    "for line in f:\n",
    "    temp = json.loads(line)\n",
    "    seed = extract_seed(temp)\n",
    "    seeds['Cluster Identification'][temp['id']] = seed\n",
    "f.close()\n",
    "\n",
    "seeds['Cluster Facet'] = {}\n",
    "\n",
    "file_path = questions_path + 'post_cluster_facet.json'\n",
    "f = open(file_path, 'r')\n",
    "for line in f:\n",
    "    temp = json.loads(line)\n",
    "    seed = extract_seed(temp)\n",
    "    seeds['Cluster Facet'][temp['id']] = seed\n",
    "f.close()\n",
    "\n",
    "seeds['Cluster Aggregate'] = {}\n",
    "\n",
    "file_path = questions_path + 'post_aggregate_V2.json'\n",
    "f = open(file_path, 'r')\n",
    "for line in f:\n",
    "    temp = json.loads(line)\n",
    "    seed = extract_seed(temp)\n",
    "    seeds['Cluster Aggregate'][temp['id']] = seed\n",
    "f.close()"
   ]
  },
  {
   "cell_type": "code",
   "execution_count": null,
   "metadata": {
    "collapsed": false
   },
   "outputs": [],
   "source": [
    "all_phone_seeds = {}\n",
    "filt = 'lattice-phone'\n",
    "\n",
    "for qtype in seeds.keys():\n",
    "    for question_id in seeds[qtype]:\n",
    "        if '@' not in seeds[qtype][question_id]:\n",
    "            phone_seed = seeds[qtype][question_id]\n",
    "            if phone_seed not in all_phone_seeds.keys():\n",
    "                all_phone_seeds[phone_seed] = 0\n",
    "                for entry in lattice_extractions:\n",
    "                    match = 0\n",
    "                    if filt in entry['extractions'].keys():\n",
    "                        for val in entry['extractions'][filt]['results']:\n",
    "                            if phone_seed in val['value']:\n",
    "                                match = 1\n",
    "                    if match == 1:\n",
    "                        all_phone_seeds[phone_seed] += 1"
   ]
  },
  {
   "cell_type": "code",
   "execution_count": null,
   "metadata": {
    "collapsed": false
   },
   "outputs": [],
   "source": [
    "inverse = [(value, key) for key, value in all_phone_seeds.items()]\n",
    "print max(inverse)\n",
    "\n",
    "inverse = [(value, key) for key, value in found_phone.items()]\n",
    "print max(inverse)\n",
    "\n",
    "# Nope, '6126696637' is still the best matching phone seed, and it\n",
    "# is already represented"
   ]
  },
  {
   "cell_type": "markdown",
   "metadata": {
    "collapsed": false
   },
   "source": [
    "## Spot check a few submissions"
   ]
  },
  {
   "cell_type": "code",
   "execution_count": null,
   "metadata": {
    "collapsed": true
   },
   "outputs": [],
   "source": [
    "submission_path = '../../team_submissions/'"
   ]
  },
  {
   "cell_type": "markdown",
   "metadata": {},
   "source": [
    "## Spot Checking Uncharted Data"
   ]
  },
  {
   "cell_type": "code",
   "execution_count": null,
   "metadata": {
    "collapsed": false
   },
   "outputs": [],
   "source": [
    "file_path = submission_path + ('Uncharted/DomainDiscovery/uncharted_NYU_DD.json')\n",
    "f = open(file_path, 'r')\n",
    "all_data = eval(f.read())\n",
    "uncharted_data = []\n",
    "for entry in all_data:\n",
    "    if entry['questionType'] == 'Cluster Identification':\n",
    "        uncharted_data.append(entry)"
   ]
  },
  {
   "cell_type": "code",
   "execution_count": null,
   "metadata": {
    "collapsed": false
   },
   "outputs": [],
   "source": [
    "qtype = 'Cluster Identification'\n",
    "id_pos = 0\n",
    "\n",
    "team = 'Uncharted'\n",
    "\n",
    "for question_id in chosen_questions['NYU'][qtype].keys():\n",
    "    assumed_submissions = chosen_questions['NYU'][qtype][question_id]['submissions']\n",
    "    for entry in uncharted_data:\n",
    "        if entry['questionType'] == qtype:\n",
    "            if entry['question_id'] == question_id:\n",
    "                if 'answers' in entry.keys():\n",
    "                    for thing in entry['answers'][:100]:\n",
    "                        if thing[id_pos] in assumed_submissions:\n",
    "                            print \"{0} found\".format(thing[id_pos])\n",
    "                        else:\n",
    "                            print \"SUBMITTED DOC ID {0} MISSING.\".format(thing[id_pos])"
   ]
  },
  {
   "cell_type": "markdown",
   "metadata": {},
   "source": [
    "## Spot Checking ISI Data"
   ]
  },
  {
   "cell_type": "code",
   "execution_count": null,
   "metadata": {
    "collapsed": false
   },
   "outputs": [],
   "source": [
    "file_path = submission_path + ('ISI/DomainDiscovery/'\n",
    "                               'isi-nyu-answers-dig-extractions/'\n",
    "                               'properly_formatted_submissions/'\n",
    "                               'formatted_post_cluster_identification'\n",
    "                               '-parsed_fixed_all_answers.json')\n",
    "f = open(file_path, 'r')\n",
    "isi_data = eval(f.read())"
   ]
  },
  {
   "cell_type": "code",
   "execution_count": null,
   "metadata": {
    "collapsed": false
   },
   "outputs": [],
   "source": [
    "qtype = 'Cluster Identification'\n",
    "id_pos = 0\n",
    "\n",
    "team = 'ISI'\n",
    "\n",
    "for question_id in chosen_questions['NYU'][qtype].keys():\n",
    "    assumed_submissions = chosen_questions['NYU'][qtype][question_id]['submissions']\n",
    "    for entry in uncharted_data:\n",
    "        if entry['questionType'] == qtype:\n",
    "            if entry['question_id'] == question_id:\n",
    "                if 'answers' in entry.keys():\n",
    "                    for thing in entry['answers'][:100]:\n",
    "                        if thing[id_pos] in assumed_submissions:\n",
    "                            print \"{0} found\".format(thing[id_pos])\n",
    "                        else:\n",
    "                            print \"SUBMITTED DOC ID {0} MISSING.\".format(thing[id_pos])"
   ]
  },
  {
   "cell_type": "code",
   "execution_count": null,
   "metadata": {
    "collapsed": false
   },
   "outputs": [],
   "source": [
    "isi_data[0]['question_id']"
   ]
  },
  {
   "cell_type": "code",
   "execution_count": 12,
   "metadata": {
    "collapsed": false
   },
   "outputs": [
    {
     "data": {
      "text/plain": [
       "['76',\n",
       " '71',\n",
       " '69',\n",
       " '82',\n",
       " '83',\n",
       " '100',\n",
       " '84',\n",
       " '78',\n",
       " '79',\n",
       " '44',\n",
       " '37',\n",
       " '35',\n",
       " '5',\n",
       " '4',\n",
       " '68']"
      ]
     },
     "execution_count": 12,
     "metadata": {},
     "output_type": "execute_result"
    }
   ],
   "source": [
    "chosen_questions['JPL']['Cluster Aggregate'].keys()"
   ]
  },
  {
   "cell_type": "code",
   "execution_count": null,
   "metadata": {
    "collapsed": true
   },
   "outputs": [],
   "source": []
  }
 ],
 "metadata": {
  "kernelspec": {
   "display_name": "Python 2",
   "language": "python",
   "name": "python2"
  },
  "language_info": {
   "codemirror_mode": {
    "name": "ipython",
    "version": 2
   },
   "file_extension": ".py",
   "mimetype": "text/x-python",
   "name": "python",
   "nbconvert_exporter": "python",
   "pygments_lexer": "ipython2",
   "version": "2.7.11"
  }
 },
 "nbformat": 4,
 "nbformat_minor": 0
}
