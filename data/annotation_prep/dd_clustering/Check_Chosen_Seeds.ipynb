{
 "cells": [
  {
   "cell_type": "code",
   "execution_count": 1,
   "metadata": {
    "collapsed": true
   },
   "outputs": [],
   "source": [
    "import json\n",
    "import operator"
   ]
  },
  {
   "cell_type": "code",
   "execution_count": 2,
   "metadata": {
    "collapsed": true
   },
   "outputs": [],
   "source": [
    "def extract_seed(question):\n",
    "    lines = question['SPARQL'][0].split('\\n')\n",
    "    seed = str(lines[4].split(' ')[1]).strip(\"'\")\n",
    "        \n",
    "    return seed"
   ]
  },
  {
   "cell_type": "code",
   "execution_count": 3,
   "metadata": {
    "collapsed": true
   },
   "outputs": [],
   "source": [
    "problem_phone_seeds = {\n",
    "    '7026023157': {'submitted_docs': 691,\n",
    "                   'extracted_docs': 0},\n",
    "    '4164557000': {'submitted_docs': 582,\n",
    "                   'extracted_docs': 14},\n",
    "    '3345579838': {'submitted_docs': 488,\n",
    "                   'extracted_docs': 12},\n",
    "    '6477932052': {'submitted_docs': 403,\n",
    "                   'extracted_docs': 10},\n",
    "    '5015748332': {'submitted_docs': 366,\n",
    "                   'extracted_docs': 15},\n",
    "    '6126696637': {'submitted_docs': 363,\n",
    "                   'extracted_docs': 32},\n",
    "    '4028713138': {'submitted_docs': 356,\n",
    "                   'extracted_docs': 4},\n",
    "    '2897000184': {'submitted_docs': 322,\n",
    "                   'extracted_docs': 99},\n",
    "    '4804209169': {'submitted_docs': 306,\n",
    "                   'extracted_docs': 60},\n",
    "    '2267928604': {'submitted_docs': 304,\n",
    "                   'extracted_docs': 100},\n",
    "    '3103027803': {'submitted_docs': 302,\n",
    "                   'extracted_docs': 2},\n",
    "    '6477878168': {'submitted_docs': 302,\n",
    "                   'extracted_docs': 4},\n",
    "    '7202565497': {'submitted_docs': 302,\n",
    "                   'extracted_docs': 20},\n",
    "    '3106587382': {'submitted_docs': 300,\n",
    "                   'extracted_docs': 14},\n",
    "    '2125675378': {'submitted_docs': 261,\n",
    "                   'extracted_docs': 64},\n",
    "    '8453210101': {'submitted_docs': 221,\n",
    "                   'extracted_docs': 18},\n",
    "    '6074815436': {'submitted_docs': 220,\n",
    "                   'extracted_docs': 18},\n",
    "    '6474997664': {'submitted_docs': 217,\n",
    "                   'extracted_docs': 20},\n",
    "    '9015053403': {'submitted_docs': 209,\n",
    "                   'extracted_docs': 0},\n",
    "    '7255023008': {'submitted_docs': 155,\n",
    "                   'extracted_docs': 21},\n",
    "    '4149346155': {'submitted_docs': 118,\n",
    "                   'extracted_docs': 46},\n",
    "    '6462800740': {'submitted_docs': 112,\n",
    "                   'extracted_docs': 1}\n",
    "    }"
   ]
  },
  {
   "cell_type": "code",
   "execution_count": 4,
   "metadata": {
    "collapsed": true
   },
   "outputs": [],
   "source": [
    "problem_email_seeds = {\n",
    "    'aylinakkayam@gmail.com': {'submitted_docs': 395,\n",
    "                               'extracted_docs': 15}\n",
    "    }"
   ]
  },
  {
   "cell_type": "code",
   "execution_count": 5,
   "metadata": {
    "collapsed": true
   },
   "outputs": [],
   "source": [
    "lattice_extractions_file = '../../../data/lattice_extractions/data_nyu_2016-11-14.json'\n",
    "lattice_extractions = []\n",
    "with open(lattice_extractions_file, 'r') as f:\n",
    "    for line in f:\n",
    "        temp = json.loads(line)\n",
    "        lattice_extractions.append(temp)"
   ]
  },
  {
   "cell_type": "code",
   "execution_count": 6,
   "metadata": {
    "collapsed": false
   },
   "outputs": [],
   "source": [
    "chosen_questions_file = 'chosen_questions.json'\n",
    "with open(chosen_questions_file, 'r') as f:\n",
    "    chosen_questions = eval(f.read())"
   ]
  },
  {
   "cell_type": "markdown",
   "metadata": {},
   "source": [
    "## Confirm their low extraction numbers"
   ]
  },
  {
   "cell_type": "code",
   "execution_count": 7,
   "metadata": {
    "collapsed": false
   },
   "outputs": [],
   "source": [
    "filt = 'lattice-phone'\n",
    "found_phone = {}\n",
    "for seed in problem_phone_seeds.keys():\n",
    "    found_phone[seed] = 0\n",
    "    for entry in lattice_extractions:\n",
    "        match = 0\n",
    "        if filt in entry['extractions'].keys():\n",
    "            for val in entry['extractions'][filt]['results']:\n",
    "                if val['value'] == '+1' + seed:\n",
    "                    match = 1\n",
    "        if match == 1:\n",
    "            found_phone[seed] += 1\n",
    "            \n",
    "# Yup, there do not appear to be many extractions for the chosen seeds"
   ]
  },
  {
   "cell_type": "markdown",
   "metadata": {},
   "source": [
    "## Can you find better seeds?"
   ]
  },
  {
   "cell_type": "code",
   "execution_count": 8,
   "metadata": {
    "collapsed": false
   },
   "outputs": [],
   "source": [
    "questions_path = '../../../questions/'\n",
    "\n",
    "seeds = {}\n",
    "\n",
    "seeds['Cluster Identification'] = {}\n",
    "\n",
    "file_path = questions_path + 'post_cluster_identification.json'\n",
    "f = open(file_path, 'r')\n",
    "for line in f:\n",
    "    temp = json.loads(line)\n",
    "    seed = extract_seed(temp)\n",
    "    seeds['Cluster Identification'][temp['id']] = seed\n",
    "f.close()\n",
    "\n",
    "seeds['Cluster Facet'] = {}\n",
    "\n",
    "file_path = questions_path + 'post_cluster_facet.json'\n",
    "f = open(file_path, 'r')\n",
    "for line in f:\n",
    "    temp = json.loads(line)\n",
    "    seed = extract_seed(temp)\n",
    "    seeds['Cluster Facet'][temp['id']] = seed\n",
    "f.close()\n",
    "\n",
    "seeds['Cluster Aggregate'] = {}\n",
    "\n",
    "file_path = questions_path + 'post_aggregate_V2.json'\n",
    "f = open(file_path, 'r')\n",
    "for line in f:\n",
    "    temp = json.loads(line)\n",
    "    seed = extract_seed(temp)\n",
    "    seeds['Cluster Aggregate'][temp['id']] = seed\n",
    "f.close()"
   ]
  },
  {
   "cell_type": "code",
   "execution_count": 10,
   "metadata": {
    "collapsed": false
   },
   "outputs": [],
   "source": [
    "all_phone_seeds = {}\n",
    "filt = 'lattice-phone'\n",
    "\n",
    "for qtype in seeds.keys():\n",
    "    for question_id in seeds[qtype]:\n",
    "        if '@' not in seeds[qtype][question_id]:\n",
    "            phone_seed = seeds[qtype][question_id]\n",
    "            if phone_seed not in all_phone_seeds.keys():\n",
    "                all_phone_seeds[phone_seed] = 0\n",
    "                for entry in lattice_extractions:\n",
    "                    match = 0\n",
    "                    if filt in entry['extractions'].keys():\n",
    "                        for val in entry['extractions'][filt]['results']:\n",
    "                            if phone_seed in val['value']:\n",
    "                                match = 1\n",
    "                    if match == 1:\n",
    "                        all_phone_seeds[phone_seed] += 1"
   ]
  },
  {
   "cell_type": "code",
   "execution_count": 11,
   "metadata": {
    "collapsed": false
   },
   "outputs": [
    {
     "name": "stdout",
     "output_type": "stream",
     "text": [
      "(24, '6126696637')\n",
      "(24, '6126696637')\n"
     ]
    }
   ],
   "source": [
    "inverse = [(value, key) for key, value in all_phone_seeds.items()]\n",
    "print max(inverse)\n",
    "\n",
    "inverse = [(value, key) for key, value in found_phone.items()]\n",
    "print max(inverse)\n",
    "\n",
    "# Nope, '6126696637' is still the best matching phone seed, and it\n",
    "# is already represented"
   ]
  },
  {
   "cell_type": "markdown",
   "metadata": {
    "collapsed": false
   },
   "source": [
    "## Spot check a few submissions"
   ]
  },
  {
   "cell_type": "code",
   "execution_count": 13,
   "metadata": {
    "collapsed": true
   },
   "outputs": [],
   "source": [
    "submission_path = '../../team_submissions/'"
   ]
  },
  {
   "cell_type": "markdown",
   "metadata": {},
   "source": [
    "## Spot Checking Uncharted Data"
   ]
  },
  {
   "cell_type": "code",
   "execution_count": 42,
   "metadata": {
    "collapsed": false
   },
   "outputs": [],
   "source": [
    "file_path = submission_path + ('Uncharted/DomainDiscovery/uncharted_NYU_DD.json')\n",
    "f = open(file_path, 'r')\n",
    "all_data = eval(f.read())\n",
    "uncharted_data = []\n",
    "for entry in all_data:\n",
    "    if entry['questionType'] == 'Cluster Identification':\n",
    "        uncharted_data.append(entry)"
   ]
  },
  {
   "cell_type": "code",
   "execution_count": 54,
   "metadata": {
    "collapsed": false
   },
   "outputs": [
    {
     "name": "stdout",
     "output_type": "stream",
     "text": [
      "D2758ECCC7ED216C4A7EAAB641459E4CCBFE137FCB0049E9DADD031A9E275A61 found\n",
      "E435EA3E462926F9D3183B2D106045C557DA86A37A251B1C14D415DA8EB8173F found\n",
      "8ED5B1F6BA20681826AB50C991B370C93955CA08777BBF803499F47E6C4525B9 found\n",
      "F972287CEDB4C97CA32721FCE4F99B75BC2C98FA36F9791EFF81D34D048ECA33 found\n",
      "6EA808515E90FA6058613C2D6963A3E9A88A0F4F4BB96B3281BA58B08F935772 found\n",
      "9C7CFA5773852F9549C12DD69A00E8F7572AF19F0DE4127DA8BBD66E201BFE7D found\n",
      "117194D8ED7D68BF43FD299E3EE82AD1D8AF7DF548CB28453FC638656604B336 found\n",
      "E079923706E870F82755B124F9C5CDFBE7E1FAB5DEC92C9F134511DDFB00D695 found\n",
      "98D096C5E7E1E04D9C3125BE18A59590562641E3B7174B2BB00257ACBB136CD7 found\n",
      "FCE5EA3E9488204E4345C4F003FD35C928859CB389D03BCFC624D77C2A1B4A18 found\n",
      "C77F9FE81BC14C4398ED2FB19C8ECCADE4FE25ED85633D5006657315BAB45AEB found\n",
      "79FF80C4849771385C82A4E829F68A3270AD3F751A7C0C43CAB1F68878DEDC7A found\n",
      "9DDB16A4E7DCA5D10447D1ABFD2C30A99642D0C5E7BE7F37394294A715C51164 found\n",
      "371E5597729C12DF1148D792B020F9FE9CD20ADC4BA92B24A241EA4708790D21 found\n",
      "A8BCC9E99330F3E803AD3C6418C7FCD921CFC8E45B7F302C0D7EDEBC3352E473 found\n",
      "B6EF929FDD601599B1CBB60673A02DE659B72BAF0970D172FC9D814EC57B66A2 found\n",
      "3AC0038FF7EC694EE2D279E5DAF74B230E7720963D09DB9B36BD356256B8DD3D found\n",
      "A637380047911A1AB5829F2B6A085D074186547C783591E8E3AE4031F4B9F7E6 found\n",
      "0787D2073DA461FC40A42CFA5E15EC4B6BD38628A0F86EEA40C3B7F8175E7844 found\n",
      "1DDC360B10946149179938ED781F7C2A398BC0C8F0B4FB60C1E372DDA481198B found\n",
      "71B18DD7CD3FD35ABFF70B6D69CD5AD3D7BECC5E53804A2D9CC3BA37043C3259 found\n",
      "6D17AA72E3452173B71F5967098A5068EB846FAD3AA3126E4AB21BB58F9874DD found\n",
      "8EDFD559D82B43FEDDAF91EA3C4FFDF91066D83C0A5B917FD6B5E7E73C7A0BD3 found\n",
      "6E1C9E06960DFF1CA016670098D25C8718FB20FFE093FF6F594F4B33D0EDD34A found\n",
      "1ED2675AFCC274165E0AD3DEB99FB3771E9D72ACCDB8C176AC28BC485DB5031D found\n",
      "F83F3B70737AB5203ACFC078DD7B65C8F05B43E20A772E720E6FC3B4301EE4E4 found\n",
      "C9F931E19F3136037095BDAA673688EBDF1120F878C71C3EF23BB28901B59D81 found\n",
      "EFDC18C50FA90DDF9ADD874E57AB35548C1E3DCFFB26A9A417938C9E23532028 found\n",
      "09D6BE7E8E1DD7692E17583592174D115395D55C7406A2271A1BAAA942CADD60 found\n",
      "8E1D2D3413DC542B46233148CB8A2436C9CF0190A86BE672D5FE82FD31A1CA7C found\n",
      "1A2C9FFCD235F382E174DE3D9FA7BC27B500CE566D7585F1CC55707CA4F77C38 found\n",
      "C31F230E110D7A9909C6BA92B7599FE7E2CA1F520E9733E7C2B275B9320E7F4C found\n",
      "1F6D81D765AF6769A748688A04B73FC15230664E37D1EDE1DF908FE4196C9239 found\n",
      "1B531DB5A0193AFA0B6348F436058E48CFC81CA649306739E6AAE78C1258AA23 found\n",
      "7A2759A2BA92ED2C744BA944D3F2B8C3E098D57DB2B04B5782EAAAE8DFA74A27 found\n",
      "E2BE8EEDC5666C2434438D5ECEF004D85FF05C2BAA5E97A1CF38A7E34E8D2F0C found\n",
      "23211B68BDD6A17D63D0D0C965FF86B340957FCB961D65083EE02DA1296CD080 found\n",
      "97D4975E5499F0AD58B97D6809877D89E8153387079968532210E8109157816D found\n",
      "54D49B27E3E53A2E29494DB05A8A0EA322CBCE3B593794F902E0A66F4BC4355F found\n",
      "BBFC9B35269FE4F33372097548D7699BE85327D347BE0F015E24C7FC92E478AF found\n",
      "FB8327F883EE2E0FBBA2F88D1C5F35C553AC9214D2E57BECD45D70773E44DAF4 found\n",
      "9B3825C76D3707E1A056C3AB5AEE0513FE9C7FFC565DB49313975CE11FF47895 found\n",
      "D9C6877795EDFF6987E7E406247F5BB8AF02DFC9B1EF56D974D54617A2593D3A found\n",
      "F7D3400F52FDE24E22CEE66C4F31E58FF83B1023E8D3C4C7F0CD82D2B9615650 found\n",
      "CD74F71ED2C548F41EB979C6CB7B3F90EBC3D8A2ADA5F08279A8F7BD9C2036B8 found\n",
      "A9FE50597D146A89CB54FC4E910F13AB20A54218F734D2501CACB87043F419DB found\n",
      "BA586462B0D150AB16336B198DA2B8C4EC519D46900849E4B44C67D9B1CEF5FE found\n",
      "543EE20E66572762F9B7A4DBA92D8A5834F5109FF134C27575FCCF72E15E4A61 found\n",
      "1BFC760DE8EF2417239E3E8FC38C0F562154E56B2370E8B1A01FA1CCBB025A73 found\n",
      "BCFED5F52BB4FB3B508B92E3F02C95B3460F46F66EFFF3980FAC28F353A9C139 found\n",
      "07105DB64538F431C5D2790F68A8FF786021AEE9B83A7DBBFE72A3E19A6942A8 found\n",
      "530350DB5AA6D92EB5294CA6D792F12EC5F331CD3CAD4D2E75A0170ED1B8153E found\n",
      "0A287EE6A86820C07CB791EB96F9D5B164EFCCB078587B8E4DF9623DD2638985 found\n",
      "6ABDE8F5645FE694F7DBB35F540F1027078AD8B082654F5C93156373904E546F found\n",
      "D4C67B47467E28047DFA3DC1377771B080A5A70CB1DAE2ACD1C4A20E77D2DF68 found\n",
      "3CF77D51D0022896422608ADBCAEBE76458D66CFECB561E6851DA55174DB1E27 found\n",
      "1DA7C1FADA58C2744F467593EF248B763BFB50EC39DF9563EBAA718D0103F79D found\n",
      "232A1C9EE3D24367F2F4DBCABAFFB8ECFF3037AFDD886A4B0899EA51378B75A1 found\n",
      "8F17E83D0A2000D1F49C6FF02DBD7B4DB05D446F84A5283615291BBBBF1A80E7 found\n",
      "E15BE7652DDE4589B24961C2B1A4C970A6F728A8CBF0E4F5E06ACB812747E4E3 found\n",
      "1EE3ED353359F60D7AEE768073B64C714554904B40F72F0C979650F2153693B9 found\n",
      "B313D2713044CDA415C9B24977F50C83C05DEE3338A5360F29787B930BF09917 found\n",
      "EC6F1AD8095A66592AEDF301A22E2214B86B502B18471C6D63B2E17C562E1E98 found\n",
      "BBB0204589F25B1F5780891791DD51AA283C31CBA1D7A1983D72F9A852D571CF found\n",
      "866C715CE1718DF296C52C6DFD467CEF77FEBEB5E2531F84475FBFA9D1D5D52F found\n",
      "7DB7006B0FD636BE8D5266DC6F9356310314C0EA81C4F95AAC1136C15EF6554D found\n",
      "A43A4DA2A7EEACD28D35F383AB835381D79EFD6273AD09200F935EC837CE4A15 found\n",
      "DEFCB0E786FFE8B340C62EFE84D380CB28F9FF4B82C222E7B24211B69F16F4A9 found\n",
      "4473CC0ED22B0A6E46821EE171BE594BF13791624018CB0FDA0CEFE19EE24BF7 found\n",
      "DEC79BF70469D3A5C5BE35B8AC3597406135E0AC6983379B945DDB40A6AF131E found\n",
      "3CAB8444FDFC62FBB0AB2FD2FCAC4B0DF747F49C12112B5E209B86533E0DA13F found\n",
      "06B519FFAABA4D0CFF00651A937CC05C7C8674F1CB55F1A4CFCC3985B2FCE7AF found\n",
      "8562310627725196F35BC4063646B369AA22B9D50A2EA4CDA6B57D7B03474F99 found\n",
      "143B70B8DB3A08EA8878023ACD5B0517A2A20DA7C567FB9C144A6C417B1F1BC0 found\n",
      "BBBA368D9CF7C60104DEE8CB2EC76E2592DBB0BC8E74A0554958D93DBE4BA79E found\n",
      "89C58611F786156703C373448C6012619F25875AF7F52078DB3668D997FBE0E9 found\n",
      "6BC38CDE150C2CBBA0C9C556B802E20DFB6CD6B94E7A252A57F2E29FE64DDC0B found\n",
      "818039642071208E6512EA0277F51164D9AB3C67DE8CD10C67C18B5A448B2F50 found\n",
      "5EFFFCC71954C88819D5AB953EC60C248A7BDF6F2625A9A69F58302745D1D6DD found\n",
      "0567A3AB6858BD3A59E010AA5CE24E1557D2EAA1C6585313EBBE14A9F8260D5F found\n",
      "5641A090645FC29989787D773EAC49CA4E2EB528D7D19A87B8BFD9846346DFE9 found\n",
      "C5F21B475CE595F670897E0B95960E9CBE56D97917E3CE89F6F7190A1F0B259C found\n",
      "5901B99EE3D9AEF011778E60AA19B948354D3E637D57B49BD170D5F0613A5A63 found\n",
      "CEEF4C18D5C467AA6CC8C99465B6FC75F0EA1E47773F693C243A079ED3608CB1 found\n",
      "F4C76B295FA7E31D772DE8C9C4A3F1AFDBC6B2DB5865E5CD27F87F6F518F9CBD found\n",
      "74352A3D8F4628136A0C46F82361483031B7C3C06B4CF795C7FEEA3D0E9F3FF3 found\n",
      "6BEBCF7785378B3970BC4256AE08ADD96412FFFE294B2A4561880027CEECA796 found\n",
      "04875E6593208075C3FF6BEE6BAC969FB421421E0BC0998D09685EB1A82B2F52 found\n",
      "D178A03FD2EEDDCFCDE259E48EC16F3BF16F88DECF8A2B390B582BBD7BB07AF6 found\n",
      "ED329BC477274ED85A67A6A56C0E4E272CBA37581FCB166FAA7F153E0F3865E3 found\n",
      "2B8DA813E28CCB1905ADB9B5801B3CA3DCF32C31B3276A57E6EA90750A193152 found\n",
      "25D88A749F36EB2966C97B2DB6A5B112B082808D0C3452A15C87AD3F0086B1D1 found\n",
      "9D58AEA34A6A96131DDB80EFA9227CB323FFC4FBE775ED62B9FDEC58DE57FBB2 found\n",
      "38B8DA52C85332A07A0E1EF23520C1EB983F5E9B002145504BA6D20A863E4D7F found\n",
      "B2CBF157973C16818C777DAFA12B33F0564D259E6113AB6C769CE40A5E4C57BD found\n",
      "AB9CFF75D41977116B21C1530102A198A18F4F98E53BD31AA35DA8B3DB4C63B9 found\n",
      "BA6C20A9F236F536FA556FC427E7BF9253841E1BC29603935E798075A7B5D681 found\n",
      "6E600FFDF7CFA72C639507B303AE3C04F1B679C38E2F95244F6D1DAA22F5DF6B found\n",
      "F1DD7DB02EBDB5A16D84426D924CE75635E95501CF15C431F64760DDCCE2C965 found\n",
      "B1753A23D08A38B0208E05D6F3E3A71E443D631C7F9AEF45185F584C37518BC4 found\n",
      "10E259A84696F8ED819F9716D1B49C75D54A58BC3E67104AC4B43E4A3622D31A found\n",
      "89C58611F786156703C373448C6012619F25875AF7F52078DB3668D997FBE0E9 found\n",
      "28041B398588AFD37262FA4B3E2C03E0560E38F8B6CEE0FFE5F2A606783903E4 found\n",
      "BE174276A8031F08A05BC11863E13899CEEF38698AC3637EEEB12CE28AD45386 found\n",
      "A5C09D048FB072FD40247C14238D97F5176FD7FF943ABE2E588D3AE1402279D1 found\n"
     ]
    }
   ],
   "source": [
    "qtype = 'Cluster Identification'\n",
    "id_pos = 0\n",
    "\n",
    "team = 'Uncharted'\n",
    "\n",
    "for question_id in chosen_questions['NYU'][qtype].keys():\n",
    "    assumed_submissions = chosen_questions['NYU'][qtype][question_id]['submissions']\n",
    "    for entry in uncharted_data:\n",
    "        if entry['questionType'] == qtype:\n",
    "            if entry['question_id'] == question_id:\n",
    "                if 'answers' in entry.keys():\n",
    "                    for thing in entry['answers'][:100]:\n",
    "                        if thing[id_pos] in assumed_submissions:\n",
    "                            print \"{0} found\".format(thing[id_pos])\n",
    "                        else:\n",
    "                            print \"SUBMITTED DOC ID {0} MISSING.\".format(thing[id_pos])"
   ]
  },
  {
   "cell_type": "markdown",
   "metadata": {},
   "source": [
    "## Spot Checking ISI Data"
   ]
  },
  {
   "cell_type": "code",
   "execution_count": 44,
   "metadata": {
    "collapsed": false
   },
   "outputs": [],
   "source": [
    "file_path = submission_path + ('ISI/DomainDiscovery/'\n",
    "                               'isi-nyu-answers-dig-extractions/'\n",
    "                               'properly_formatted_submissions/'\n",
    "                               'formatted_post_cluster_identification'\n",
    "                               '-parsed_fixed_all_answers.json')\n",
    "f = open(file_path, 'r')\n",
    "isi_data = eval(f.read())"
   ]
  },
  {
   "cell_type": "code",
   "execution_count": 53,
   "metadata": {
    "collapsed": false
   },
   "outputs": [
    {
     "name": "stdout",
     "output_type": "stream",
     "text": [
      "D2758ECCC7ED216C4A7EAAB641459E4CCBFE137FCB0049E9DADD031A9E275A61 found\n",
      "E435EA3E462926F9D3183B2D106045C557DA86A37A251B1C14D415DA8EB8173F found\n",
      "8ED5B1F6BA20681826AB50C991B370C93955CA08777BBF803499F47E6C4525B9 found\n",
      "F972287CEDB4C97CA32721FCE4F99B75BC2C98FA36F9791EFF81D34D048ECA33 found\n",
      "6EA808515E90FA6058613C2D6963A3E9A88A0F4F4BB96B3281BA58B08F935772 found\n",
      "9C7CFA5773852F9549C12DD69A00E8F7572AF19F0DE4127DA8BBD66E201BFE7D found\n",
      "117194D8ED7D68BF43FD299E3EE82AD1D8AF7DF548CB28453FC638656604B336 found\n",
      "E079923706E870F82755B124F9C5CDFBE7E1FAB5DEC92C9F134511DDFB00D695 found\n",
      "98D096C5E7E1E04D9C3125BE18A59590562641E3B7174B2BB00257ACBB136CD7 found\n",
      "FCE5EA3E9488204E4345C4F003FD35C928859CB389D03BCFC624D77C2A1B4A18 found\n",
      "C77F9FE81BC14C4398ED2FB19C8ECCADE4FE25ED85633D5006657315BAB45AEB found\n",
      "79FF80C4849771385C82A4E829F68A3270AD3F751A7C0C43CAB1F68878DEDC7A found\n",
      "9DDB16A4E7DCA5D10447D1ABFD2C30A99642D0C5E7BE7F37394294A715C51164 found\n",
      "371E5597729C12DF1148D792B020F9FE9CD20ADC4BA92B24A241EA4708790D21 found\n",
      "A8BCC9E99330F3E803AD3C6418C7FCD921CFC8E45B7F302C0D7EDEBC3352E473 found\n",
      "B6EF929FDD601599B1CBB60673A02DE659B72BAF0970D172FC9D814EC57B66A2 found\n",
      "3AC0038FF7EC694EE2D279E5DAF74B230E7720963D09DB9B36BD356256B8DD3D found\n",
      "A637380047911A1AB5829F2B6A085D074186547C783591E8E3AE4031F4B9F7E6 found\n",
      "0787D2073DA461FC40A42CFA5E15EC4B6BD38628A0F86EEA40C3B7F8175E7844 found\n",
      "1DDC360B10946149179938ED781F7C2A398BC0C8F0B4FB60C1E372DDA481198B found\n",
      "71B18DD7CD3FD35ABFF70B6D69CD5AD3D7BECC5E53804A2D9CC3BA37043C3259 found\n",
      "6D17AA72E3452173B71F5967098A5068EB846FAD3AA3126E4AB21BB58F9874DD found\n",
      "8EDFD559D82B43FEDDAF91EA3C4FFDF91066D83C0A5B917FD6B5E7E73C7A0BD3 found\n",
      "6E1C9E06960DFF1CA016670098D25C8718FB20FFE093FF6F594F4B33D0EDD34A found\n",
      "1ED2675AFCC274165E0AD3DEB99FB3771E9D72ACCDB8C176AC28BC485DB5031D found\n",
      "F83F3B70737AB5203ACFC078DD7B65C8F05B43E20A772E720E6FC3B4301EE4E4 found\n",
      "C9F931E19F3136037095BDAA673688EBDF1120F878C71C3EF23BB28901B59D81 found\n",
      "EFDC18C50FA90DDF9ADD874E57AB35548C1E3DCFFB26A9A417938C9E23532028 found\n",
      "09D6BE7E8E1DD7692E17583592174D115395D55C7406A2271A1BAAA942CADD60 found\n",
      "8E1D2D3413DC542B46233148CB8A2436C9CF0190A86BE672D5FE82FD31A1CA7C found\n",
      "1A2C9FFCD235F382E174DE3D9FA7BC27B500CE566D7585F1CC55707CA4F77C38 found\n",
      "C31F230E110D7A9909C6BA92B7599FE7E2CA1F520E9733E7C2B275B9320E7F4C found\n",
      "1F6D81D765AF6769A748688A04B73FC15230664E37D1EDE1DF908FE4196C9239 found\n",
      "1B531DB5A0193AFA0B6348F436058E48CFC81CA649306739E6AAE78C1258AA23 found\n",
      "7A2759A2BA92ED2C744BA944D3F2B8C3E098D57DB2B04B5782EAAAE8DFA74A27 found\n",
      "E2BE8EEDC5666C2434438D5ECEF004D85FF05C2BAA5E97A1CF38A7E34E8D2F0C found\n",
      "23211B68BDD6A17D63D0D0C965FF86B340957FCB961D65083EE02DA1296CD080 found\n",
      "97D4975E5499F0AD58B97D6809877D89E8153387079968532210E8109157816D found\n",
      "54D49B27E3E53A2E29494DB05A8A0EA322CBCE3B593794F902E0A66F4BC4355F found\n",
      "BBFC9B35269FE4F33372097548D7699BE85327D347BE0F015E24C7FC92E478AF found\n",
      "FB8327F883EE2E0FBBA2F88D1C5F35C553AC9214D2E57BECD45D70773E44DAF4 found\n",
      "9B3825C76D3707E1A056C3AB5AEE0513FE9C7FFC565DB49313975CE11FF47895 found\n",
      "D9C6877795EDFF6987E7E406247F5BB8AF02DFC9B1EF56D974D54617A2593D3A found\n",
      "F7D3400F52FDE24E22CEE66C4F31E58FF83B1023E8D3C4C7F0CD82D2B9615650 found\n",
      "CD74F71ED2C548F41EB979C6CB7B3F90EBC3D8A2ADA5F08279A8F7BD9C2036B8 found\n",
      "A9FE50597D146A89CB54FC4E910F13AB20A54218F734D2501CACB87043F419DB found\n",
      "BA586462B0D150AB16336B198DA2B8C4EC519D46900849E4B44C67D9B1CEF5FE found\n",
      "543EE20E66572762F9B7A4DBA92D8A5834F5109FF134C27575FCCF72E15E4A61 found\n",
      "1BFC760DE8EF2417239E3E8FC38C0F562154E56B2370E8B1A01FA1CCBB025A73 found\n",
      "BCFED5F52BB4FB3B508B92E3F02C95B3460F46F66EFFF3980FAC28F353A9C139 found\n",
      "07105DB64538F431C5D2790F68A8FF786021AEE9B83A7DBBFE72A3E19A6942A8 found\n",
      "530350DB5AA6D92EB5294CA6D792F12EC5F331CD3CAD4D2E75A0170ED1B8153E found\n",
      "0A287EE6A86820C07CB791EB96F9D5B164EFCCB078587B8E4DF9623DD2638985 found\n",
      "6ABDE8F5645FE694F7DBB35F540F1027078AD8B082654F5C93156373904E546F found\n",
      "D4C67B47467E28047DFA3DC1377771B080A5A70CB1DAE2ACD1C4A20E77D2DF68 found\n",
      "3CF77D51D0022896422608ADBCAEBE76458D66CFECB561E6851DA55174DB1E27 found\n",
      "1DA7C1FADA58C2744F467593EF248B763BFB50EC39DF9563EBAA718D0103F79D found\n",
      "232A1C9EE3D24367F2F4DBCABAFFB8ECFF3037AFDD886A4B0899EA51378B75A1 found\n",
      "8F17E83D0A2000D1F49C6FF02DBD7B4DB05D446F84A5283615291BBBBF1A80E7 found\n",
      "E15BE7652DDE4589B24961C2B1A4C970A6F728A8CBF0E4F5E06ACB812747E4E3 found\n",
      "1EE3ED353359F60D7AEE768073B64C714554904B40F72F0C979650F2153693B9 found\n",
      "B313D2713044CDA415C9B24977F50C83C05DEE3338A5360F29787B930BF09917 found\n",
      "EC6F1AD8095A66592AEDF301A22E2214B86B502B18471C6D63B2E17C562E1E98 found\n",
      "BBB0204589F25B1F5780891791DD51AA283C31CBA1D7A1983D72F9A852D571CF found\n",
      "866C715CE1718DF296C52C6DFD467CEF77FEBEB5E2531F84475FBFA9D1D5D52F found\n",
      "7DB7006B0FD636BE8D5266DC6F9356310314C0EA81C4F95AAC1136C15EF6554D found\n",
      "A43A4DA2A7EEACD28D35F383AB835381D79EFD6273AD09200F935EC837CE4A15 found\n",
      "DEFCB0E786FFE8B340C62EFE84D380CB28F9FF4B82C222E7B24211B69F16F4A9 found\n",
      "4473CC0ED22B0A6E46821EE171BE594BF13791624018CB0FDA0CEFE19EE24BF7 found\n",
      "DEC79BF70469D3A5C5BE35B8AC3597406135E0AC6983379B945DDB40A6AF131E found\n",
      "3CAB8444FDFC62FBB0AB2FD2FCAC4B0DF747F49C12112B5E209B86533E0DA13F found\n",
      "06B519FFAABA4D0CFF00651A937CC05C7C8674F1CB55F1A4CFCC3985B2FCE7AF found\n",
      "8562310627725196F35BC4063646B369AA22B9D50A2EA4CDA6B57D7B03474F99 found\n",
      "143B70B8DB3A08EA8878023ACD5B0517A2A20DA7C567FB9C144A6C417B1F1BC0 found\n",
      "BBBA368D9CF7C60104DEE8CB2EC76E2592DBB0BC8E74A0554958D93DBE4BA79E found\n",
      "89C58611F786156703C373448C6012619F25875AF7F52078DB3668D997FBE0E9 found\n",
      "6BC38CDE150C2CBBA0C9C556B802E20DFB6CD6B94E7A252A57F2E29FE64DDC0B found\n",
      "818039642071208E6512EA0277F51164D9AB3C67DE8CD10C67C18B5A448B2F50 found\n",
      "5EFFFCC71954C88819D5AB953EC60C248A7BDF6F2625A9A69F58302745D1D6DD found\n",
      "0567A3AB6858BD3A59E010AA5CE24E1557D2EAA1C6585313EBBE14A9F8260D5F found\n",
      "5641A090645FC29989787D773EAC49CA4E2EB528D7D19A87B8BFD9846346DFE9 found\n",
      "C5F21B475CE595F670897E0B95960E9CBE56D97917E3CE89F6F7190A1F0B259C found\n",
      "5901B99EE3D9AEF011778E60AA19B948354D3E637D57B49BD170D5F0613A5A63 found\n",
      "CEEF4C18D5C467AA6CC8C99465B6FC75F0EA1E47773F693C243A079ED3608CB1 found\n",
      "F4C76B295FA7E31D772DE8C9C4A3F1AFDBC6B2DB5865E5CD27F87F6F518F9CBD found\n",
      "74352A3D8F4628136A0C46F82361483031B7C3C06B4CF795C7FEEA3D0E9F3FF3 found\n",
      "6BEBCF7785378B3970BC4256AE08ADD96412FFFE294B2A4561880027CEECA796 found\n",
      "04875E6593208075C3FF6BEE6BAC969FB421421E0BC0998D09685EB1A82B2F52 found\n",
      "D178A03FD2EEDDCFCDE259E48EC16F3BF16F88DECF8A2B390B582BBD7BB07AF6 found\n",
      "ED329BC477274ED85A67A6A56C0E4E272CBA37581FCB166FAA7F153E0F3865E3 found\n",
      "2B8DA813E28CCB1905ADB9B5801B3CA3DCF32C31B3276A57E6EA90750A193152 found\n",
      "25D88A749F36EB2966C97B2DB6A5B112B082808D0C3452A15C87AD3F0086B1D1 found\n",
      "9D58AEA34A6A96131DDB80EFA9227CB323FFC4FBE775ED62B9FDEC58DE57FBB2 found\n",
      "38B8DA52C85332A07A0E1EF23520C1EB983F5E9B002145504BA6D20A863E4D7F found\n",
      "B2CBF157973C16818C777DAFA12B33F0564D259E6113AB6C769CE40A5E4C57BD found\n",
      "AB9CFF75D41977116B21C1530102A198A18F4F98E53BD31AA35DA8B3DB4C63B9 found\n",
      "BA6C20A9F236F536FA556FC427E7BF9253841E1BC29603935E798075A7B5D681 found\n",
      "6E600FFDF7CFA72C639507B303AE3C04F1B679C38E2F95244F6D1DAA22F5DF6B found\n",
      "F1DD7DB02EBDB5A16D84426D924CE75635E95501CF15C431F64760DDCCE2C965 found\n",
      "B1753A23D08A38B0208E05D6F3E3A71E443D631C7F9AEF45185F584C37518BC4 found\n",
      "10E259A84696F8ED819F9716D1B49C75D54A58BC3E67104AC4B43E4A3622D31A found\n",
      "89C58611F786156703C373448C6012619F25875AF7F52078DB3668D997FBE0E9 found\n",
      "28041B398588AFD37262FA4B3E2C03E0560E38F8B6CEE0FFE5F2A606783903E4 found\n",
      "BE174276A8031F08A05BC11863E13899CEEF38698AC3637EEEB12CE28AD45386 found\n",
      "A5C09D048FB072FD40247C14238D97F5176FD7FF943ABE2E588D3AE1402279D1 found\n"
     ]
    }
   ],
   "source": [
    "qtype = 'Cluster Identification'\n",
    "id_pos = 0\n",
    "\n",
    "team = 'ISI'\n",
    "\n",
    "for question_id in chosen_questions['NYU'][qtype].keys():\n",
    "    assumed_submissions = chosen_questions['NYU'][qtype][question_id]['submissions']\n",
    "    for entry in uncharted_data:\n",
    "        if entry['questionType'] == qtype:\n",
    "            if entry['question_id'] == question_id:\n",
    "                if 'answers' in entry.keys():\n",
    "                    for thing in entry['answers'][:100]:\n",
    "                        if thing[id_pos] in assumed_submissions:\n",
    "                            print \"{0} found\".format(thing[id_pos])\n",
    "                        else:\n",
    "                            print \"SUBMITTED DOC ID {0} MISSING.\".format(thing[id_pos])"
   ]
  },
  {
   "cell_type": "code",
   "execution_count": 47,
   "metadata": {
    "collapsed": false
   },
   "outputs": [
    {
     "data": {
      "text/plain": [
       "'3-1'"
      ]
     },
     "execution_count": 47,
     "metadata": {},
     "output_type": "execute_result"
    }
   ],
   "source": [
    "isi_data[0]['question_id']"
   ]
  },
  {
   "cell_type": "code",
   "execution_count": null,
   "metadata": {
    "collapsed": true
   },
   "outputs": [],
   "source": []
  }
 ],
 "metadata": {
  "kernelspec": {
   "display_name": "Python 2",
   "language": "python",
   "name": "python2"
  },
  "language_info": {
   "codemirror_mode": {
    "name": "ipython",
    "version": 2
   },
   "file_extension": ".py",
   "mimetype": "text/x-python",
   "name": "python",
   "nbconvert_exporter": "python",
   "pygments_lexer": "ipython2",
   "version": "2.7.11"
  }
 },
 "nbformat": 4,
 "nbformat_minor": 0
}
