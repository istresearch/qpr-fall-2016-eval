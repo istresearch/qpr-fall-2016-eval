{
 "cells": [
  {
   "cell_type": "code",
   "execution_count": 11,
   "metadata": {
    "collapsed": false
   },
   "outputs": [],
   "source": [
    "import json"
   ]
  },
  {
   "cell_type": "code",
   "execution_count": 19,
   "metadata": {
    "collapsed": true
   },
   "outputs": [],
   "source": [
    "submission_path = '../../team_submissions/'"
   ]
  },
  {
   "cell_type": "code",
   "execution_count": 17,
   "metadata": {
    "collapsed": false
   },
   "outputs": [],
   "source": [
    "lattice_extractions_file = '../../../data/lattice_extractions/data_nyu_2016-11-14.json'\n",
    "lattice_extractions = []\n",
    "with open(lattice_extractions_file, 'r') as f:\n",
    "    for line in f:\n",
    "        temp = json.loads(line)\n",
    "        lattice_extractions.append(temp)"
   ]
  },
  {
   "cell_type": "code",
   "execution_count": 18,
   "metadata": {
    "collapsed": true
   },
   "outputs": [],
   "source": [
    "problem_seeds = {\n",
    "    '7026023157': {'submitted_docs': 691,\n",
    "                   'extracted_docs': 0},\n",
    "    '4164557000': {'submitted_docs': 582,\n",
    "                   'extracted_docs': 14},\n",
    "    '3345579838': {'submitted_docs': 488,\n",
    "                   'extracted_docs': 12},\n",
    "    '6477932052': {'submitted_docs': 403,\n",
    "                   'extracted_docs': 10},\n",
    "    'aylinakkayam@gmail.com': {'submitted_docs': 395,\n",
    "                               'extracted_docs': 15},\n",
    "    '5015748332': {'submitted_docs': 366,\n",
    "                   'extracted_docs': 15},\n",
    "    '6126696637': {'submitted_docs': 363,\n",
    "                   'extracted_docs': 32},\n",
    "    '4028713138': {'submitted_docs': 356,\n",
    "                   'extracted_docs': 4},\n",
    "    '2897000184': {'submitted_docs': 322,\n",
    "                   'extracted_docs': 99},\n",
    "    '4804209169': {'submitted_docs': 306,\n",
    "                   'extracted_docs': 60},\n",
    "    '2267928604': {'submitted_docs': 304,\n",
    "                   'extracted_docs': 100},\n",
    "    '3103027803': {'submitted_docs': 302,\n",
    "                   'extracted_docs': 2},\n",
    "    '6477878168': {'submitted_docs': 302,\n",
    "                   'extracted_docs': 4},\n",
    "    '7202565497': {'submitted_docs': 302,\n",
    "                   'extracted_docs': 20},\n",
    "    '3106587382': {'submitted_docs': 300,\n",
    "                   'extracted_docs': 14},\n",
    "    '2125675378': {'submitted_docs': 261,\n",
    "                   'extracted_docs': 64},\n",
    "    '8453210101': {'submitted_docs': 221,\n",
    "                   'extracted_docs': 18},\n",
    "    '6074815436': {'submitted_docs': 220,\n",
    "                   'extracted_docs': 18},\n",
    "    '6474997664': {'submitted_docs': 217,\n",
    "                   'extracted_docs': 20},\n",
    "    '9015053403': {'submitted_docs': 209,\n",
    "                   'extracted_docs': 0},\n",
    "    '7255023008': {'submitted_docs': 155,\n",
    "                   'extracted_docs': 21},\n",
    "    '4149346155': {'submitted_docs': 118,\n",
    "                   'extracted_docs': 46},\n",
    "    '6462800740': {'submitted_docs': 112,\n",
    "                   'extracted_docs': 1}\n",
    "    }"
   ]
  },
  {
   "cell_type": "code",
   "execution_count": null,
   "metadata": {
    "collapsed": true
   },
   "outputs": [],
   "source": []
  }
 ],
 "metadata": {
  "kernelspec": {
   "display_name": "Python 2",
   "language": "python",
   "name": "python2"
  },
  "language_info": {
   "codemirror_mode": {
    "name": "ipython",
    "version": 2
   },
   "file_extension": ".py",
   "mimetype": "text/x-python",
   "name": "python",
   "nbconvert_exporter": "python",
   "pygments_lexer": "ipython2",
   "version": "2.7.11"
  }
 },
 "nbformat": 4,
 "nbformat_minor": 0
}
