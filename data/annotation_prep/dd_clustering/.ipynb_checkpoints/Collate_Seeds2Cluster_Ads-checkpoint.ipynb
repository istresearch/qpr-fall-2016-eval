{
 "cells": [
  {
   "cell_type": "code",
   "execution_count": 1,
   "metadata": {
    "collapsed": true
   },
   "outputs": [],
   "source": [
    "import json"
   ]
  },
  {
   "cell_type": "code",
   "execution_count": 2,
   "metadata": {
    "collapsed": true
   },
   "outputs": [],
   "source": [
    "first_round_file = 'FIRST_ROUND_seeds2cluster_ads_INCOMPLETE.json'\n",
    "second_round_file = 'TEST_ROUND_seeds2cluster_ads_INCOMPLETE.json'"
   ]
  },
  {
   "cell_type": "code",
   "execution_count": 6,
   "metadata": {
    "collapsed": false
   },
   "outputs": [
    {
     "name": "stdout",
     "output_type": "stream",
     "text": [
      "TROUBLE\n",
      "TROUBLE\n",
      "TROUBLE\n",
      "TROUBLE\n",
      "TROUBLE\n",
      "TROUBLE\n",
      "TROUBLE\n",
      "TROUBLE\n",
      "TROUBLE\n",
      "TROUBLE\n",
      "TROUBLE\n",
      "TROUBLE\n",
      "TROUBLE\n",
      "TROUBLE\n",
      "TROUBLE\n",
      "TROUBLE\n",
      "TROUBLE\n",
      "TROUBLE\n",
      "TROUBLE\n",
      "TROUBLE\n",
      "TROUBLE\n",
      "TROUBLE\n"
     ]
    }
   ],
   "source": [
    "with open(first_round_file, 'r') as f:\n",
    "    first_round = eval(f.read())\n",
    "\n",
    "with open(second_round_file, 'r') as f:\n",
    "    second_round = eval(f.read())\n",
    "    \n",
    "new_seeds2cluster_ad = {}\n",
    "\n",
    "for seed in first_round.keys():\n",
    "    temp1 = first_round[seed]\n",
    "    temp2 = second_round[seed]\n",
    "    # List comprehension can cause backwards updates\n",
    "    new_temp = [x for x in temp1]\n",
    "    new_temp.extend(temp2)\n",
    "    new_temp = list(set(new_temp))\n",
    "    \n",
    "    # There shouldn't be any dupes\n",
    "    if len(new_temp) != len(temp1) + len(temp2):\n",
    "        print 'TROUBLE'\n",
    "    \n",
    "    new_seeds2cluster_ad[seed] = new_temp"
   ]
  },
  {
   "cell_type": "code",
   "execution_count": 4,
   "metadata": {
    "collapsed": false
   },
   "outputs": [
    {
     "data": {
      "text/plain": [
       "['2125675378',\n",
       " '3106587382',\n",
       " '9015053403',\n",
       " '5015748332',\n",
       " '2897000184',\n",
       " '6074815436',\n",
       " '3103027803',\n",
       " '4028713138',\n",
       " '2267928604',\n",
       " '6126696637',\n",
       " '8453210101',\n",
       " '7255023008',\n",
       " '4804209169',\n",
       " '4164557000',\n",
       " '7026023157',\n",
       " '6462800740',\n",
       " '6477932052',\n",
       " '4149346155',\n",
       " 'aylinakkayam@gmail.com',\n",
       " '7202565497',\n",
       " '6474997664',\n",
       " '3345579838',\n",
       " '6477878168']"
      ]
     },
     "execution_count": 4,
     "metadata": {},
     "output_type": "execute_result"
    }
   ],
   "source": [
    "output_file = 'FINAL_seeds2cluster_ads_REWRITE.json'\n",
    "# Will re-name manually to avoid overwriting\n",
    "with open(output_file, 'w') as f:\n",
    "    json.dump(new_seeds2cluster_ad, f, indent=2)"
   ]
  },
  {
   "cell_type": "code",
   "execution_count": null,
   "metadata": {
    "collapsed": true
   },
   "outputs": [],
   "source": []
  }
 ],
 "metadata": {
  "kernelspec": {
   "display_name": "Python 2",
   "language": "python",
   "name": "python2"
  },
  "language_info": {
   "codemirror_mode": {
    "name": "ipython",
    "version": 2
   },
   "file_extension": ".py",
   "mimetype": "text/x-python",
   "name": "python",
   "nbconvert_exporter": "python",
   "pygments_lexer": "ipython2",
   "version": "2.7.11"
  }
 },
 "nbformat": 4,
 "nbformat_minor": 0
}
