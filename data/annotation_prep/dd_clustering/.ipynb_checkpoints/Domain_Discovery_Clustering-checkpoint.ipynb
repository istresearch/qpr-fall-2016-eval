{
 "cells": [
  {
   "cell_type": "code",
   "execution_count": 1,
   "metadata": {
    "collapsed": true
   },
   "outputs": [],
   "source": [
    "import json\n",
    "pool_depth = 100"
   ]
  },
  {
   "cell_type": "code",
   "execution_count": 2,
   "metadata": {
    "collapsed": true
   },
   "outputs": [],
   "source": [
    "submission_path = '../../team_submissions/'\n",
    "questions_path = '../../../questions/'"
   ]
  },
  {
   "cell_type": "code",
   "execution_count": 3,
   "metadata": {
    "collapsed": false
   },
   "outputs": [],
   "source": [
    "def extract_seed(question):\n",
    "    lines = question['SPARQL'][0].split('\\n')\n",
    "    seed = str(lines[4].split(' ')[1]).strip(\"'\")\n",
    "        \n",
    "    return seed"
   ]
  },
  {
   "cell_type": "code",
   "execution_count": 4,
   "metadata": {
    "collapsed": true
   },
   "outputs": [],
   "source": [
    "def top_pool(pooling_level, id_pos, score_pos, ans_length, id_length, responses):\n",
    "    # Explicitly check for score ordering\n",
    "    score = 100\n",
    "    count = 0\n",
    "    seen = []\n",
    "    for answer in responses:\n",
    "        # Non-Array, leading elements may happen to have correct\n",
    "        # length\n",
    "        if type(answer) == list:\n",
    "            # Assume elements not matching expected length\n",
    "            # are aggregate answers\n",
    "            if len(answer) == ans_length:\n",
    "                # Confirming doc id is where we expect\n",
    "                if len(answer[id_pos]) != id_length:\n",
    "                    print \"NONSTANDARD DOC ID DETECTED\"\n",
    "                    print answer\n",
    "                    break\n",
    "                if answer[score_pos] > score:\n",
    "                    print (score, answer[score_pos])\n",
    "                    print \"RANK ORDER ISSUE\"\n",
    "                    break\n",
    "                score = answer[score_pos]\n",
    "                if answer[id_pos] not in seen:\n",
    "                    # Found another unique doc id\n",
    "                    seen.append(answer[id_pos])\n",
    "                    count += 1\n",
    "                    if count == pooling_level:\n",
    "                        # Found top N docs\n",
    "                        # Confirm no duplicates\n",
    "                        len1 = len(seen)\n",
    "                        uniq_seen = list(set(seen))\n",
    "                        if len1 != len(uniq_seen):\n",
    "                            print \"PROBLEM WITH DUPLICATED DOC IDS\"\n",
    "                            break\n",
    "                        return uniq_seen\n",
    "    # Or even if you don't get N uniq\n",
    "    uniq_seen = list(set(seen))\n",
    "    return uniq_seen"
   ]
  },
  {
   "cell_type": "markdown",
   "metadata": {},
   "source": [
    "# Determine Seed for Every Question"
   ]
  },
  {
   "cell_type": "code",
   "execution_count": 5,
   "metadata": {
    "collapsed": true
   },
   "outputs": [],
   "source": [
    "seeds = {}"
   ]
  },
  {
   "cell_type": "markdown",
   "metadata": {},
   "source": [
    "### Cluster Identification"
   ]
  },
  {
   "cell_type": "code",
   "execution_count": 6,
   "metadata": {
    "collapsed": false
   },
   "outputs": [],
   "source": [
    "seeds['Cluster Identification'] = {}\n",
    "\n",
    "file_path = questions_path + 'post_cluster_identification.json'\n",
    "f = open(file_path, 'r')\n",
    "for line in f:\n",
    "    temp = json.loads(line)\n",
    "    seed = extract_seed(temp)\n",
    "    seeds['Cluster Identification'][temp['id']] = seed\n",
    "f.close()"
   ]
  },
  {
   "cell_type": "markdown",
   "metadata": {},
   "source": [
    "### Cluster Facet"
   ]
  },
  {
   "cell_type": "code",
   "execution_count": 7,
   "metadata": {
    "collapsed": false
   },
   "outputs": [],
   "source": [
    "seeds['Cluster Facet'] = {}\n",
    "\n",
    "file_path = questions_path + 'post_cluster_facet.json'\n",
    "f = open(file_path, 'r')\n",
    "for line in f:\n",
    "    temp = json.loads(line)\n",
    "    seed = extract_seed(temp)\n",
    "    seeds['Cluster Facet'][temp['id']] = seed\n",
    "f.close()"
   ]
  },
  {
   "cell_type": "markdown",
   "metadata": {},
   "source": [
    "### Cluster Facet"
   ]
  },
  {
   "cell_type": "code",
   "execution_count": 8,
   "metadata": {
    "collapsed": false
   },
   "outputs": [],
   "source": [
    "seeds['Cluster Aggregate'] = {}\n",
    "\n",
    "file_path = questions_path + 'post_aggregate_V2.json'\n",
    "f = open(file_path, 'r')\n",
    "for line in f:\n",
    "    temp = json.loads(line)\n",
    "    seed = extract_seed(temp)\n",
    "    seeds['Cluster Aggregate'][temp['id']] = seed\n",
    "f.close()"
   ]
  },
  {
   "cell_type": "code",
   "execution_count": 11,
   "metadata": {
    "collapsed": true
   },
   "outputs": [],
   "source": [
    "answers = {}"
   ]
  },
  {
   "cell_type": "markdown",
   "metadata": {},
   "source": [
    "# Georgetown"
   ]
  },
  {
   "cell_type": "markdown",
   "metadata": {},
   "source": [
    "## NYU"
   ]
  },
  {
   "cell_type": "code",
   "execution_count": 12,
   "metadata": {
    "collapsed": false
   },
   "outputs": [],
   "source": [
    "answers['NYU'] = {}"
   ]
  },
  {
   "cell_type": "markdown",
   "metadata": {},
   "source": [
    "### Georgetown Cluster Identification\n",
    "NOTE: Response missing for Question #6"
   ]
  },
  {
   "cell_type": "code",
   "execution_count": 13,
   "metadata": {
    "collapsed": false
   },
   "outputs": [],
   "source": [
    "answers['NYU']['Georgetown'] = {}\n",
    "clus_type = 'Cluster Identification'\n",
    "answers['NYU']['Georgetown'][clus_type] = {}"
   ]
  },
  {
   "cell_type": "code",
   "execution_count": 14,
   "metadata": {
    "collapsed": false
   },
   "outputs": [],
   "source": [
    "file_path = submission_path + 'Georgetown/DomainDiscovery/NYU_CI.json'\n",
    "f = open(file_path, 'r')\n",
    "data = eval(f.read())\n",
    "\n",
    "id_pos = 0\n",
    "score_pos = 1\n",
    "ans_length = 2 \n",
    "id_length = 64\n",
    "\n",
    "for entry in data:\n",
    "    qseed = seeds[clus_type][entry['id']]\n",
    "    top_ids = top_pool(pool_depth, id_pos, score_pos,\n",
    "                       ans_length, id_length, entry['answer'])\n",
    "    # Reconfirming no dupes\n",
    "    if len(top_ids) != len(list(set(top_ids))):\n",
    "        print \"PROBLEM WITH DUPLICATED DOC IDS\"\n",
    "        break\n",
    "    answers['NYU']['Georgetown'][clus_type][qseed] = top_ids"
   ]
  },
  {
   "cell_type": "markdown",
   "metadata": {},
   "source": [
    "### Georgetown Cluster Facet"
   ]
  },
  {
   "cell_type": "code",
   "execution_count": 15,
   "metadata": {
    "collapsed": false
   },
   "outputs": [],
   "source": [
    "clus_type = 'Cluster Facet'\n",
    "answers['NYU']['Georgetown'][clus_type] = {}"
   ]
  },
  {
   "cell_type": "code",
   "execution_count": 16,
   "metadata": {
    "collapsed": false
   },
   "outputs": [],
   "source": [
    "file_path = submission_path + 'Georgetown/DomainDiscovery/NYU_CF.json'\n",
    "f = open(file_path, 'r')\n",
    "data = eval(f.read())\n",
    "\n",
    "id_pos = 1\n",
    "score_pos = 2\n",
    "ans_length = 3 \n",
    "id_length = 64\n",
    "\n",
    "for entry in data:\n",
    "    qseed = seeds[clus_type][entry['id']]\n",
    "    top_ids = top_pool(pool_depth, id_pos, score_pos,\n",
    "                       ans_length, id_length, entry['answer'])\n",
    "    # Reconfirming no dupes\n",
    "    if len(top_ids) != len(list(set(top_ids))):\n",
    "        print \"PROBLEM WITH DUPLICATED DOC IDS\"\n",
    "        break\n",
    "    answers['NYU']['Georgetown'][clus_type][qseed] = top_ids"
   ]
  },
  {
   "cell_type": "markdown",
   "metadata": {},
   "source": [
    "### Georgetown Cluster Aggregate"
   ]
  },
  {
   "cell_type": "code",
   "execution_count": 17,
   "metadata": {
    "collapsed": false
   },
   "outputs": [],
   "source": [
    "clus_type = 'Cluster Aggregate'\n",
    "answers['NYU']['Georgetown'][clus_type] = {}"
   ]
  },
  {
   "cell_type": "code",
   "execution_count": 18,
   "metadata": {
    "collapsed": false
   },
   "outputs": [],
   "source": [
    "file_path = submission_path + 'Georgetown/DomainDiscovery/NYU_aggregate.json'\n",
    "f = open(file_path, 'r')\n",
    "data = eval(f.read())\n",
    "\n",
    "id_pos = 1\n",
    "score_pos = 2\n",
    "ans_length = 3 \n",
    "id_length = 64\n",
    "\n",
    "for entry in data:\n",
    "    # Cluster Aggregate Question 94 was Removed\n",
    "    if entry['id'] != '94':\n",
    "        qseed = seeds[clus_type][entry['id']]\n",
    "        top_ids = top_pool(pool_depth, id_pos, score_pos,\n",
    "                       ans_length, id_length, entry['answer'])\n",
    "        # Reconfirming no dupes\n",
    "        if len(top_ids) != len(list(set(top_ids))):\n",
    "            print \"PROBLEM WITH DUPLICATED DOC IDS\"\n",
    "            break\n",
    "    answers['NYU']['Georgetown'][clus_type][qseed] = top_ids"
   ]
  },
  {
   "cell_type": "markdown",
   "metadata": {},
   "source": [
    "# ISI"
   ]
  },
  {
   "cell_type": "markdown",
   "metadata": {},
   "source": [
    "## NYU"
   ]
  },
  {
   "cell_type": "markdown",
   "metadata": {},
   "source": [
    "### ISI Cluster Identification"
   ]
  },
  {
   "cell_type": "code",
   "execution_count": 19,
   "metadata": {
    "collapsed": false
   },
   "outputs": [],
   "source": [
    "answers['NYU']['ISI'] = {}\n",
    "clus_type = 'Cluster Identification'\n",
    "answers['NYU']['ISI'][clus_type] = {}"
   ]
  },
  {
   "cell_type": "code",
   "execution_count": 20,
   "metadata": {
    "collapsed": false
   },
   "outputs": [],
   "source": [
    "file_path = submission_path + ('ISI/DomainDiscovery/'\n",
    "                               'isi-nyu-answers-dig-extractions/'\n",
    "                               'properly_formatted_submissions/'\n",
    "                               'formatted_post_cluster_identification'\n",
    "                               '-parsed_fixed_all_answers.json')\n",
    "f = open(file_path, 'r')\n",
    "data = eval(f.read())\n",
    "\n",
    "id_pos = 1\n",
    "score_pos = 2\n",
    "ans_length = 3 \n",
    "id_length = 64\n",
    "\n",
    "for entry in data:\n",
    "    qid = entry['question_id'].split('-')[0]\n",
    "    qseed = seeds[clus_type][qid]\n",
    "    top_ids = top_pool(pool_depth, id_pos, score_pos,\n",
    "                       ans_length, id_length, entry['answer'])\n",
    "    # Reconfirming no dupes\n",
    "    if len(top_ids) != len(list(set(top_ids))):\n",
    "        print \"PROBLEM WITH DUPLICATED DOC IDS\"\n",
    "        break\n",
    "    answers['NYU']['ISI'][clus_type][qseed] = top_ids"
   ]
  },
  {
   "cell_type": "markdown",
   "metadata": {},
   "source": [
    "### ISI Cluster Facet"
   ]
  },
  {
   "cell_type": "code",
   "execution_count": 21,
   "metadata": {
    "collapsed": false
   },
   "outputs": [],
   "source": [
    "clus_type = 'Cluster Facet'\n",
    "answers['NYU']['ISI'][clus_type] = {}"
   ]
  },
  {
   "cell_type": "code",
   "execution_count": 22,
   "metadata": {
    "collapsed": false
   },
   "outputs": [],
   "source": [
    "file_path = submission_path + ('ISI/DomainDiscovery/'\n",
    "                               'isi-nyu-answers-dig-extractions/'\n",
    "                               'properly_formatted_submissions/'\n",
    "                               'formatted_post_cluster_facet'\n",
    "                               '_parsed_fixed_all_answers.json')\n",
    "f = open(file_path, 'r')\n",
    "data = eval(f.read())\n",
    "\n",
    "id_pos = 1\n",
    "score_pos = 2\n",
    "ans_length = 3 \n",
    "id_length = 64\n",
    "\n",
    "for entry in data:\n",
    "    qid = entry['question_id'].split('-')[0]\n",
    "    qseed = seeds[clus_type][qid]\n",
    "    top_ids = top_pool(pool_depth, id_pos, score_pos,\n",
    "                       ans_length, id_length, entry['answer'])\n",
    "    # Reconfirming no dupes\n",
    "    if len(top_ids) != len(list(set(top_ids))):\n",
    "        print \"PROBLEM WITH DUPLICATED DOC IDS\"\n",
    "        break\n",
    "    answers['NYU']['ISI'][clus_type][qseed] = top_ids"
   ]
  },
  {
   "cell_type": "markdown",
   "metadata": {},
   "source": [
    "### ISI Cluster Aggregate"
   ]
  },
  {
   "cell_type": "code",
   "execution_count": 23,
   "metadata": {
    "collapsed": false
   },
   "outputs": [],
   "source": [
    "clus_type = 'Cluster Aggregate'\n",
    "answers['NYU']['ISI'][clus_type] = {}"
   ]
  },
  {
   "cell_type": "code",
   "execution_count": 24,
   "metadata": {
    "collapsed": false
   },
   "outputs": [],
   "source": [
    "file_path = submission_path + ('ISI/DomainDiscovery/'\n",
    "                               'isi-nyu-answers-dig-extractions/'\n",
    "                               'properly_formatted_submissions/'\n",
    "                               'formatted_post_aggregate'\n",
    "                               '_parsed_fixed_all_answers.json')\n",
    "f = open(file_path, 'r')\n",
    "data = eval(f.read())\n",
    "\n",
    "id_pos = 1\n",
    "score_pos = 2\n",
    "ans_length = 3 \n",
    "id_length = 64\n",
    "\n",
    "for entry in data:\n",
    "    qid = entry['question_id'].split('-')[0]\n",
    "    qseed = seeds[clus_type][qid]\n",
    "    top_ids = top_pool(pool_depth, id_pos, score_pos,\n",
    "                       ans_length, id_length, entry['answer'])\n",
    "    # Reconfirming no dupes\n",
    "    if len(top_ids) != len(list(set(top_ids))):\n",
    "        print \"PROBLEM WITH DUPLICATED DOC IDS\"\n",
    "        break\n",
    "    answers['NYU']['ISI'][clus_type][qseed] = top_ids"
   ]
  },
  {
   "cell_type": "markdown",
   "metadata": {},
   "source": [
    "# Uncharted"
   ]
  },
  {
   "cell_type": "markdown",
   "metadata": {},
   "source": [
    "## NYU"
   ]
  },
  {
   "cell_type": "markdown",
   "metadata": {},
   "source": [
    "### Uncharted NYU-Cluster Identification"
   ]
  },
  {
   "cell_type": "code",
   "execution_count": 25,
   "metadata": {
    "collapsed": false
   },
   "outputs": [],
   "source": [
    "answers['NYU']['Uncharted'] = {}\n",
    "clus_type = 'Cluster Identification'\n",
    "answers['NYU']['Uncharted'][clus_type] = {}"
   ]
  },
  {
   "cell_type": "code",
   "execution_count": 26,
   "metadata": {
    "collapsed": false
   },
   "outputs": [],
   "source": [
    "file_path = submission_path + ('Uncharted/DomainDiscovery/uncharted_NYU_DD.json')\n",
    "f = open(file_path, 'r')\n",
    "all_data = eval(f.read())\n",
    "data = []\n",
    "for entry in all_data:\n",
    "    if entry['questionType'] == clus_type:\n",
    "        data.append(entry)\n",
    "        \n",
    "id_pos = 0\n",
    "score_pos = 1\n",
    "ans_length = 2 \n",
    "id_length = 64\n",
    "\n",
    "for entry in data:\n",
    "    # Not all entries have 'answers'\n",
    "    if 'answers' in entry.keys():\n",
    "        qseed = seeds[clus_type][entry['question_id']]\n",
    "        top_ids = top_pool(pool_depth, id_pos, score_pos,\n",
    "                           ans_length, id_length, entry['answers'])\n",
    "        # Reconfirming no dupes\n",
    "        if len(top_ids) != len(list(set(top_ids))):\n",
    "            print \"PROBLEM WITH DUPLICATED DOC IDS\"\n",
    "            break\n",
    "    answers['NYU']['Uncharted'][clus_type][qseed] = top_ids"
   ]
  },
  {
   "cell_type": "markdown",
   "metadata": {},
   "source": [
    "### Uncharted NYU-Cluster Facet"
   ]
  },
  {
   "cell_type": "code",
   "execution_count": 27,
   "metadata": {
    "collapsed": false
   },
   "outputs": [],
   "source": [
    "clus_type = 'Cluster Facet'\n",
    "answers['NYU']['Uncharted'][clus_type] = {}"
   ]
  },
  {
   "cell_type": "code",
   "execution_count": 28,
   "metadata": {
    "collapsed": false
   },
   "outputs": [],
   "source": [
    "data = []\n",
    "for entry in all_data:\n",
    "    if entry['questionType'] == clus_type:\n",
    "        data.append(entry)\n",
    "        \n",
    "id_pos = 1\n",
    "score_pos = 2\n",
    "ans_length = 3 \n",
    "id_length = 64\n",
    "\n",
    "for entry in data:\n",
    "    # Not all entries have 'answers'\n",
    "    if 'answers' in entry.keys():\n",
    "        qseed = seeds[clus_type][entry['question_id']]\n",
    "        top_ids = top_pool(pool_depth, id_pos, score_pos,\n",
    "                           ans_length, id_length, entry['answers'])\n",
    "        # Reconfirming no dupes\n",
    "        if len(top_ids) != len(list(set(top_ids))):\n",
    "            print \"PROBLEM WITH DUPLICATED DOC IDS\"\n",
    "            break\n",
    "    answers['NYU']['Uncharted'][clus_type][qseed] = top_ids"
   ]
  },
  {
   "cell_type": "markdown",
   "metadata": {},
   "source": [
    "### Uncharted NYU-Cluster Aggregate"
   ]
  },
  {
   "cell_type": "code",
   "execution_count": 29,
   "metadata": {
    "collapsed": false
   },
   "outputs": [],
   "source": [
    "clus_type = 'Cluster Aggregate'\n",
    "answers['NYU']['Uncharted'][clus_type] = {}"
   ]
  },
  {
   "cell_type": "code",
   "execution_count": 30,
   "metadata": {
    "collapsed": false
   },
   "outputs": [],
   "source": [
    "data = []\n",
    "for entry in all_data:\n",
    "    if entry['questionType'] in ['AVG', 'MIN', 'MAX', 'MODE']:\n",
    "        data.append(entry)\n",
    "        \n",
    "id_pos = 1\n",
    "score_pos = 2\n",
    "ans_length = 3 \n",
    "id_length = 64\n",
    "\n",
    "for entry in data:\n",
    "    # Not all entries have 'answers'\n",
    "    if 'answers' in entry.keys():\n",
    "        # Cluster Aggregate Question 94 was Removed\n",
    "        if entry['question_id'] != '94':\n",
    "            qseed = seeds[clus_type][entry['question_id']]\n",
    "            top_ids = top_pool(pool_depth, id_pos, score_pos,\n",
    "                               ans_length, id_length, entry['answers'])\n",
    "            # Reconfirming no dupes\n",
    "            if len(top_ids) != len(list(set(top_ids))):\n",
    "                print \"PROBLEM WITH DUPLICATED DOC IDS\"\n",
    "                break\n",
    "        answers['NYU']['Uncharted'][clus_type][qseed] = top_ids"
   ]
  },
  {
   "cell_type": "markdown",
   "metadata": {},
   "source": [
    "## Hyperion Gray"
   ]
  },
  {
   "cell_type": "markdown",
   "metadata": {},
   "source": [
    "### Uncharted HG-Cluster Identification"
   ]
  },
  {
   "cell_type": "code",
   "execution_count": 31,
   "metadata": {
    "collapsed": false
   },
   "outputs": [],
   "source": [
    "answers ['HG'] = {}\n",
    "answers['HG']['Uncharted'] = {}\n",
    "clus_type = 'Cluster Identification'\n",
    "answers['HG']['Uncharted'][clus_type] = {}"
   ]
  },
  {
   "cell_type": "code",
   "execution_count": 32,
   "metadata": {
    "collapsed": false
   },
   "outputs": [],
   "source": [
    "file_path = submission_path + ('Uncharted/DomainDiscovery/uncharted_HG_DD.json')\n",
    "f = open(file_path, 'r')\n",
    "all_data = eval(f.read())\n",
    "data = []\n",
    "for entry in all_data:\n",
    "    if entry['questionType'] == clus_type:\n",
    "        data.append(entry)\n",
    "        \n",
    "id_pos = 0\n",
    "score_pos = 1\n",
    "ans_length = 2 \n",
    "id_length = 64\n",
    "\n",
    "for entry in data:\n",
    "    # Not all entries have 'answers'\n",
    "    if 'answers' in entry.keys():\n",
    "        qseed = seeds[clus_type][entry['question_id']]\n",
    "        top_ids = top_pool(pool_depth, id_pos, score_pos,\n",
    "                           ans_length, id_length, entry['answers'])\n",
    "        # Reconfirming no dupes\n",
    "        if len(top_ids) != len(list(set(top_ids))):\n",
    "            print \"PROBLEM WITH DUPLICATED DOC IDS\"\n",
    "            break\n",
    "    answers['HG']['Uncharted'][clus_type][qseed] = top_ids"
   ]
  },
  {
   "cell_type": "markdown",
   "metadata": {},
   "source": [
    "### Uncharted HG-Cluster Facet"
   ]
  },
  {
   "cell_type": "code",
   "execution_count": 33,
   "metadata": {
    "collapsed": false
   },
   "outputs": [],
   "source": [
    "clus_type = 'Cluster Facet'\n",
    "answers['HG']['Uncharted'][clus_type] = {}"
   ]
  },
  {
   "cell_type": "code",
   "execution_count": 34,
   "metadata": {
    "collapsed": false
   },
   "outputs": [],
   "source": [
    "data = []\n",
    "for entry in all_data:\n",
    "    if entry['questionType'] == clus_type:\n",
    "        data.append(entry)\n",
    "        \n",
    "id_pos = 1\n",
    "score_pos = 2\n",
    "ans_length = 3 \n",
    "id_length = 64\n",
    "\n",
    "for entry in data:\n",
    "    # Not all entries have 'answers'\n",
    "    if 'answers' in entry.keys():\n",
    "        qseed = seeds[clus_type][entry['question_id']]\n",
    "        top_ids = top_pool(pool_depth, id_pos, score_pos,\n",
    "                           ans_length, id_length, entry['answers'])\n",
    "        # Reconfirming no dupes\n",
    "        if len(top_ids) != len(list(set(top_ids))):\n",
    "            print \"PROBLEM WITH DUPLICATED DOC IDS\"\n",
    "            break\n",
    "    answers['HG']['Uncharted'][clus_type][qseed] = top_ids"
   ]
  },
  {
   "cell_type": "markdown",
   "metadata": {},
   "source": [
    "### Uncharted HG-Cluster Aggregate"
   ]
  },
  {
   "cell_type": "code",
   "execution_count": 35,
   "metadata": {
    "collapsed": false
   },
   "outputs": [],
   "source": [
    "clus_type = 'Cluster Aggregate'\n",
    "answers['HG']['Uncharted'][clus_type] = {}"
   ]
  },
  {
   "cell_type": "code",
   "execution_count": 36,
   "metadata": {
    "collapsed": false
   },
   "outputs": [],
   "source": [
    "data = []\n",
    "for entry in all_data:\n",
    "    if entry['questionType'] in ['AVG', 'MIN', 'MAX', 'MODE']:\n",
    "        data.append(entry)\n",
    "        \n",
    "id_pos = 1\n",
    "score_pos = 2\n",
    "ans_length = 3 \n",
    "id_length = 64\n",
    "\n",
    "for entry in data:\n",
    "    # Not all entries have 'answers'\n",
    "    if 'answers' in entry.keys():\n",
    "        # Cluster Aggregate Question 94 was Removed\n",
    "        if entry['question_id'] != '94':\n",
    "            qseed = seeds[clus_type][entry['question_id']]\n",
    "            top_ids = top_pool(pool_depth, id_pos, score_pos,\n",
    "                               ans_length, id_length, entry['answers'])\n",
    "            # Reconfirming no dupes\n",
    "            if len(top_ids) != len(list(set(top_ids))):\n",
    "                print \"PROBLEM WITH DUPLICATED DOC IDS\"\n",
    "                break\n",
    "        answers['HG']['Uncharted'][clus_type][qseed] = top_ids"
   ]
  },
  {
   "cell_type": "markdown",
   "metadata": {},
   "source": [
    "## JPL"
   ]
  },
  {
   "cell_type": "markdown",
   "metadata": {},
   "source": [
    "### Uncharted JPL-Cluster Identification"
   ]
  },
  {
   "cell_type": "code",
   "execution_count": 37,
   "metadata": {
    "collapsed": false
   },
   "outputs": [],
   "source": [
    "answers ['JPL'] = {}\n",
    "answers['JPL']['Uncharted'] = {}\n",
    "clus_type = 'Cluster Identification'\n",
    "answers['JPL']['Uncharted'][clus_type] = {}"
   ]
  },
  {
   "cell_type": "code",
   "execution_count": 38,
   "metadata": {
    "collapsed": false
   },
   "outputs": [],
   "source": [
    "file_path = submission_path + ('Uncharted/DomainDiscovery/uncharted_JPL_DD.json')\n",
    "f = open(file_path, 'r')\n",
    "all_data = eval(f.read())\n",
    "data = []\n",
    "for entry in all_data:\n",
    "    if entry['questionType'] == clus_type:\n",
    "        data.append(entry)\n",
    "        \n",
    "id_pos = 0\n",
    "score_pos = 1\n",
    "ans_length = 2 \n",
    "id_length = 64\n",
    "\n",
    "for entry in data:\n",
    "    # Not all entries have 'answers'\n",
    "    if 'answers' in entry.keys():\n",
    "        qseed = seeds[clus_type][entry['question_id']]\n",
    "        top_ids = top_pool(pool_depth, id_pos, score_pos,\n",
    "                           ans_length, id_length, entry['answers'])\n",
    "        # Reconfirming no dupes\n",
    "        if len(top_ids) != len(list(set(top_ids))):\n",
    "            print \"PROBLEM WITH DUPLICATED DOC IDS\"\n",
    "            break\n",
    "    answers['JPL']['Uncharted'][clus_type][qseed] = top_ids"
   ]
  },
  {
   "cell_type": "markdown",
   "metadata": {},
   "source": [
    "### Uncharted JPL-Cluster Facet"
   ]
  },
  {
   "cell_type": "code",
   "execution_count": 39,
   "metadata": {
    "collapsed": false
   },
   "outputs": [],
   "source": [
    "clus_type = 'Cluster Facet'\n",
    "answers['JPL']['Uncharted'][clus_type] = {}"
   ]
  },
  {
   "cell_type": "code",
   "execution_count": 40,
   "metadata": {
    "collapsed": false
   },
   "outputs": [],
   "source": [
    "data = []\n",
    "for entry in all_data:\n",
    "    if entry['questionType'] == clus_type:\n",
    "        data.append(entry)\n",
    "        \n",
    "id_pos = 1\n",
    "score_pos = 2\n",
    "ans_length = 3 \n",
    "id_length = 64\n",
    "\n",
    "for entry in data:\n",
    "    # Not all entries have 'answers'\n",
    "    if 'answers' in entry.keys():\n",
    "        qseed = seeds[clus_type][entry['question_id']]\n",
    "        top_ids = top_pool(pool_depth, id_pos, score_pos,\n",
    "                           ans_length, id_length, entry['answers'])\n",
    "        # Reconfirming no dupes\n",
    "        if len(top_ids) != len(list(set(top_ids))):\n",
    "            print \"PROBLEM WITH DUPLICATED DOC IDS\"\n",
    "            break\n",
    "    answers['JPL']['Uncharted'][clus_type][qseed] = top_ids"
   ]
  },
  {
   "cell_type": "markdown",
   "metadata": {},
   "source": [
    "### Uncharted JPL-Cluster Aggregate"
   ]
  },
  {
   "cell_type": "code",
   "execution_count": 41,
   "metadata": {
    "collapsed": false
   },
   "outputs": [],
   "source": [
    "clus_type = 'Cluster Aggregate'\n",
    "answers['JPL']['Uncharted'][clus_type] = {}"
   ]
  },
  {
   "cell_type": "code",
   "execution_count": 42,
   "metadata": {
    "collapsed": false
   },
   "outputs": [],
   "source": [
    "data = []\n",
    "for entry in all_data:\n",
    "    if entry['questionType'] in ['AVG', 'MIN', 'MAX', 'MODE']:\n",
    "        data.append(entry)\n",
    "        \n",
    "id_pos = 1\n",
    "score_pos = 2\n",
    "ans_length = 3 \n",
    "id_length = 64\n",
    "\n",
    "for entry in data:\n",
    "    # Not all entries have 'answers'\n",
    "    if 'answers' in entry.keys():\n",
    "        # Cluster Aggregate Question 94 was Removed\n",
    "        if entry['question_id'] != '94':\n",
    "            qseed = seeds[clus_type][entry['question_id']]\n",
    "            top_ids = top_pool(pool_depth, id_pos, score_pos,\n",
    "                               ans_length, id_length, entry['answers'])\n",
    "            # Reconfirming no dupes\n",
    "            if len(top_ids) != len(list(set(top_ids))):\n",
    "                print \"PROBLEM WITH DUPLICATED DOC IDS\"\n",
    "                break\n",
    "        answers['JPL']['Uncharted'][clus_type][qseed] = top_ids"
   ]
  },
  {
   "cell_type": "markdown",
   "metadata": {},
   "source": [
    "## Prepare Data for Handoff to Uncharted"
   ]
  },
  {
   "cell_type": "code",
   "execution_count": 43,
   "metadata": {
    "collapsed": false
   },
   "outputs": [
    {
     "name": "stdout",
     "output_type": "stream",
     "text": [
      "11188\n",
      "9798\n",
      " \n",
      "11648\n",
      "10636\n",
      " \n",
      "14268\n",
      "12226\n",
      " \n"
     ]
    }
   ],
   "source": [
    "temp_clusters = {}\n",
    "for index in answers.keys():\n",
    "    temp_clusters[index] = []\n",
    "    for team in answers[index].keys():\n",
    "        for qtype in answers[index][team].keys():\n",
    "            for seed in answers[index][team][qtype].keys():\n",
    "                for doc_id in answers[index][team][qtype][seed]:\n",
    "                    temp = [seed, doc_id]\n",
    "                    temp_clusters[index].append(temp)\n",
    "\n",
    "uniq_clusters = {}\n",
    "for index in temp_clusters.keys():\n",
    "    print len(temp_clusters[index])\n",
    "    uniq_clusters[index] = list(set(tuple(i) for i in temp_clusters[index]))\n",
    "    print len(uniq_clusters[index])\n",
    "    print \" \""
   ]
  },
  {
   "cell_type": "code",
   "execution_count": 44,
   "metadata": {
    "collapsed": false
   },
   "outputs": [],
   "source": [
    "output_file = 'cluster_annotation_data.json'\n",
    "with open(output_file, 'w') as f:\n",
    "    json.dump(uniq_clusters, f, indent=2)"
   ]
  },
  {
   "cell_type": "markdown",
   "metadata": {},
   "source": [
    "# Sanity Check on Chosen Doc IDs "
   ]
  },
  {
   "cell_type": "markdown",
   "metadata": {},
   "source": [
    "## NYU Cluster Identification"
   ]
  },
  {
   "cell_type": "code",
   "execution_count": 216,
   "metadata": {
    "collapsed": false
   },
   "outputs": [
    {
     "name": "stdout",
     "output_type": "stream",
     "text": [
      "('Georgetown', u'25')\n",
      "('Georgetown', u'20')\n",
      "('Georgetown', u'22')\n",
      "('Georgetown', u'47')\n",
      "('Georgetown', u'28')\n",
      "('Georgetown', u'40')\n",
      "('Georgetown', u'41')\n",
      "('Georgetown', u'8')\n",
      "('Georgetown', u'39')\n",
      "('Georgetown', u'11')\n",
      "('Georgetown', u'13')\n",
      "('Georgetown', u'16')\n",
      "('Georgetown', u'31')\n",
      "('Georgetown', u'30')\n",
      "('Georgetown', u'33')\n",
      "('Georgetown', u'32')\n"
     ]
    }
   ],
   "source": [
    "try:\n",
    "    del(data)\n",
    "except:\n",
    "    pass\n",
    "missing = []\n",
    "\n",
    "qtype = 'Cluster Identification'\n",
    "\n",
    "# DATA\n",
    "georgetown_data = []\n",
    "file_path = submission_path + 'Georgetown/DomainDiscovery/NYU_CI.json'\n",
    "f = open(file_path, 'r')\n",
    "georgetown_data = eval(f.read())\n",
    "\n",
    "isi_data = []\n",
    "file_path = submission_path + ('ISI/DomainDiscovery/'\n",
    "                               'isi-nyu-answers-dig-extractions/'\n",
    "                               'properly_formatted_submissions/'\n",
    "                               'formatted_post_cluster_identification'\n",
    "                               '-parsed_fixed_all_answers.json')\n",
    "f = open(file_path, 'r')\n",
    "isi_data = eval(f.read())\n",
    "\n",
    "uncharted_data = []\n",
    "all_data = []\n",
    "file_path = submission_path + ('Uncharted/DomainDiscovery/uncharted_NYU_DD.json')\n",
    "f = open(file_path, 'r')\n",
    "all_data = eval(f.read())\n",
    "for entry in all_data:\n",
    "    if entry['questionType'] == qtype:\n",
    "        uncharted_data.append(entry)\n",
    "\n",
    "# MAIN LOOP\n",
    "for qid in seeds[qtype].keys():\n",
    "    # Get list of ad candidtes\n",
    "    candidates = []\n",
    "    for clus_entry in uniq_clusters['NYU']:\n",
    "        if clus_entry[0] == seeds[qtype][qid]:\n",
    "            candidates.append(clus_entry[1])\n",
    "\n",
    "    # Georgetown\n",
    "    id_pos = 0\n",
    "    score_pos = 1\n",
    "    for entry in georgetown_data:\n",
    "        seen = []\n",
    "        count = 0\n",
    "        score = 100\n",
    "        if entry['id'] == qid:\n",
    "            for ans in entry['answer']:\n",
    "                if ans[score_pos] > score:\n",
    "                    print \"TROUBLE!\"\n",
    "                if ans[id_pos] not in seen:\n",
    "                    count += 1\n",
    "                    if count <= 100:\n",
    "                        seen.append(ans[id_pos])\n",
    "            if len(seen) == 0:\n",
    "                print ('Georgetown', qid)\n",
    "            for doc in seen:\n",
    "                if doc not in candidates:\n",
    "                    missing.append(doc)\n",
    "                    print ('Georgetown', doc)\n",
    "            \n",
    "    # ISI\n",
    "    id_pos = 1\n",
    "    score_pos = 2\n",
    "    for entry in isi_data:\n",
    "        seen = []\n",
    "        count = 0\n",
    "        score = 100\n",
    "        if entry['question_id'] == qid:\n",
    "            for ans in entry['answer']:\n",
    "                if ans[score_pos] > score:\n",
    "                    print \"TROUBLE!\"\n",
    "                if ans[id_pos] not in seen:\n",
    "                    count += 1\n",
    "                    if count <= 100:\n",
    "                        seen.append(ans[id_pos])\n",
    "            if len(seen) == 0:\n",
    "                print ('ISI', qid)\n",
    "            for doc in seen:\n",
    "                if doc not in candidates:\n",
    "                    missing.append(doc)\n",
    "                    print ('ISI', doc)\n",
    "            \n",
    "    # Uncharted\n",
    "    id_pos = 0\n",
    "    score_pos = 1\n",
    "    for entry in uncharted_data:\n",
    "        seen = []\n",
    "        count = 0\n",
    "        score = 100\n",
    "        if 'answers' in entry.keys():\n",
    "            if entry['question_id'] == qid:\n",
    "                for ans in entry['answers']:\n",
    "                    if ans[score_pos] > score:\n",
    "                        print \"TROUBLE!\"\n",
    "                    if ans[id_pos] not in seen:\n",
    "                        count += 1\n",
    "                        if count <= 100:\n",
    "                            seen.append(ans[id_pos])\n",
    "                if len(seen) == 0:\n",
    "                    print ('Uncharted', qid)\n",
    "                for doc in seen:\n",
    "                    if doc not in candidates:\n",
    "                        missing.append(doc)\n",
    "                        print ('Uncharted', doc)\n",
    "if len(missing) > 0:\n",
    "    print \"MISSING DOCS\""
   ]
  },
  {
   "cell_type": "code",
   "execution_count": 215,
   "metadata": {
    "collapsed": false
   },
   "outputs": [
    {
     "name": "stdout",
     "output_type": "stream",
     "text": [
      "{'answer': [], 'type': 'Cluster Identification', 'id': '32'}\n"
     ]
    }
   ],
   "source": [
    "# Checkout questions that returned NO uniq doc ids\n",
    "for entry in georgetown_data:\n",
    "    if entry['id'] == '32':\n",
    "        temp = entry\n",
    "        if len(temp['answer']) > 0:\n",
    "            print \"SHOULD HAVE CAUGHT THIS\"\n",
    "            print temp['answer']\n",
    "        print temp"
   ]
  },
  {
   "cell_type": "markdown",
   "metadata": {},
   "source": [
    "## NYU Cluster Facet"
   ]
  },
  {
   "cell_type": "code",
   "execution_count": 220,
   "metadata": {
    "collapsed": false
   },
   "outputs": [
    {
     "name": "stdout",
     "output_type": "stream",
     "text": [
      "('Georgetown', u'42')\n",
      "('Georgetown', u'48')\n",
      "('Georgetown', u'43')\n",
      "('Georgetown', u'49')\n",
      "('Georgetown', u'24')\n",
      "('Georgetown', u'27')\n",
      "('Georgetown', u'20')\n",
      "('Georgetown', u'21')\n",
      "('Georgetown', u'46')\n",
      "('Georgetown', u'44')\n",
      "('Georgetown', u'45')\n",
      "('Georgetown', u'28')\n",
      "('Georgetown', u'29')\n",
      "('Georgetown', u'40')\n",
      "('Georgetown', u'41')\n",
      "('Georgetown', u'1')\n",
      "('Georgetown', u'3')\n",
      "('Georgetown', u'2')\n",
      "('Georgetown', u'5')\n",
      "('Georgetown', u'4')\n",
      "('Georgetown', u'7')\n",
      "('Georgetown', u'6')\n",
      "('Georgetown', u'39')\n",
      "('Georgetown', u'38')\n",
      "('Georgetown', u'11')\n",
      "('Georgetown', u'10')\n",
      "('Georgetown', u'13')\n",
      "('Uncharted', '90412E1895E93C4F413560E857ADBDF0FA48B6592FD67704777A2144E9C5AD8C')\n",
      "13\n",
      "('Uncharted', 'A1A86AD0637E27049BF7D84C601232DF10DDBC5B2891F3E0FD2AC2267D126C91')\n",
      "13\n",
      "('Uncharted', '3060A8FC06ADBEC27E758B4326EBE7566A5B3F47FEAEF4F60974F52371BCC8AC')\n",
      "13\n",
      "('Uncharted', 'D6BE25B9CCD26699D2774A633AC8AA093385F3068DAB123454D5BBBAB16A6C56')\n",
      "13\n",
      "('Uncharted', 'D5DFAE89604331EAAF758DFB7D6B152A2D18237DB34461754E11CE475F87BDEC')\n",
      "13\n",
      "('Uncharted', 'B43AF2809831CA31C4E0A15EFEA20F14BCF27BCF2F287EDE870E0F3E0B495D82')\n",
      "13\n",
      "('Uncharted', 'C83D06ABE357ABBF37991B3AC67380926267C0EE447A830C925D8B86148D6D0C')\n",
      "13\n",
      "('Uncharted', '8718C5E2641DBE85C730CFC4C2E2053BAE3DB287864E61F61271C720892BF00E')\n",
      "13\n",
      "('Uncharted', '94457D5A17EFA333799A1154DA7AD23D579AF6922B97EB798FDFCFEE9C7B8D73')\n",
      "13\n",
      "('Uncharted', '37FFDB6696233373445A17445F549F7F4F228E81047C8207A579B2AA6B334337')\n",
      "13\n",
      "('Uncharted', '66D718D5C1F15C9D8C7954E2264D40AD780AC961600E6F03627B79E228CEE8B1')\n",
      "13\n",
      "('Uncharted', '8286AE73D3A2284873892AF38D2EBA9624DA69470FA496625A8464172E032933')\n",
      "13\n",
      "('Uncharted', '05CF3D9927187C7043C4AAE484C1EFF00130A14194A98F207993306577175803')\n",
      "13\n",
      "('Uncharted', 'F39D24E0621BC27BF0B53C280F75706AD2EF72E814CC42324379E9B5B5DB76E2')\n",
      "13\n",
      "('Uncharted', '72EC4B2F03535F8FEF9B66772B2A01D5D175E02255D5E7371C8D7694CB450324')\n",
      "13\n",
      "('Uncharted', '4FF4544B559FF9EF27759C534A8AB66A13474E67BF3337B96BA74444BA5E55F3')\n",
      "13\n",
      "('Uncharted', '6913AB4095A9B31B2B141E3A67B1D4C40DFD7564047D468F79405CA6E4707F15')\n",
      "13\n",
      "('Uncharted', '63FE8E2FD36E620F90FD6D2F568CAA87DB00FD2F30119F036153E49EF485A19A')\n",
      "13\n",
      "('Uncharted', 'AD2F1AD080F4653D92C1B61972D91E979C32A55CA149F1D96DF812629E6CFEDA')\n",
      "13\n",
      "('Uncharted', 'E1F907E2DF08D5109618453CEFD642CF70032EDEA80DD2C328086A283BE48B49')\n",
      "13\n",
      "('Uncharted', '692942C0DFF8580077C8F1BC68CFC881B8A3EB652F961BF802733517361AD341')\n",
      "13\n",
      "('Uncharted', '7487C214E890CB3B5BF54E214C6A5C5DE3188E6E0D67AA6D8AC55D5E55E2E43F')\n",
      "13\n",
      "('Uncharted', 'B3EADDBB360F7EEB68CF0FDF6D4E9E824CB1AA5668E41CC9EC1AFB59B4C25591')\n",
      "13\n",
      "('Uncharted', '375D1A510EDDC6176EAED3AF91157EF1FF96F95615C717546E5CDCF487F5C262')\n",
      "13\n",
      "('Uncharted', '0F4C2175B21DF3D28233F129B0AECEF8CD90BA467C4D83F215DBD97FFCE3B44F')\n",
      "13\n",
      "('Uncharted', '062F90DDB2B91240D4F7861566D038811EC9B1B6D5DD2AAB24AC08F808A41E5E')\n",
      "13\n",
      "('Uncharted', '4960C62EE61D0B4CDF6E4FDB876BB23EC6892C25B2CCA4DA925BF2700C6F5148')\n",
      "13\n",
      "('Uncharted', 'B64851F1FD4024749395FB63FF20EB33113562506C78F7EB1E5003164468FF31')\n",
      "13\n",
      "('Uncharted', '776EF008D1538E97C6ACA2D942435EFC6F782A2D53230EC4897985080E83A5A8')\n",
      "13\n",
      "('Uncharted', 'E6B526DE05A334612CB13B0C41A2A106A16717B5D6FDB09427931C687618B5EC')\n",
      "13\n",
      "('Uncharted', 'ECCFCAAE9070362E472B1540C8BC2E4911AF55B47967A003AA8FEEDD51D5468B')\n",
      "13\n",
      "('Uncharted', '90571A0D3D2A75BE261E8A79C640A795458ECD23E26B0BA13484AA32A034659B')\n",
      "13\n",
      "('Uncharted', '54C7A3E2C303A180EB8CF7C297DB5DAD890635A4519CC5117417C6E4766DB368')\n",
      "13\n",
      "('Uncharted', '0E180B52C8252AB3AB2F230BBAA57DCA45343DAE0D7F5D35951BC4ADD7E08BF5')\n",
      "13\n",
      "('Uncharted', 'FF46231106415B2438C715970037BD3EDC57C0895345E696EE352B9F716E2F15')\n",
      "13\n",
      "('Uncharted', '966705C353E6341C69D3B1FB78292A3AEE1F4B35B458B9C0CC81054060D843E8')\n",
      "13\n",
      "('Uncharted', '1C8E1D3BBEBAE4BC3C7FFDD4CE018CE782751E0D81D587C4E27A0F240B8F1CA1')\n",
      "13\n",
      "('Uncharted', '44AA9A1D822469EA81FBC852EED2D8DCD6DDDD8C4790D54F1772B9777981A0A0')\n",
      "13\n",
      "('Uncharted', 'C21C3968E69BE8166511368F1D993F54FFE32B62793A5A12CCA14F7D10358227')\n",
      "13\n",
      "('Uncharted', 'F87107D6FD8B0CDBDA55DD3A39ED0F61CF9D001475F628B861D7735027D88ADB')\n",
      "13\n",
      "('Uncharted', 'F6FCB2910F3043CFA1C0495ED27133C535E0F9DCD3936139239C5056512A8718')\n",
      "13\n",
      "('Uncharted', '9D502A80F4CB8868782B0A0585D2CB85166457C7C358497CA2090D673A7F1BA1')\n",
      "13\n",
      "('Uncharted', '99B3B91BFD9C39A6D2E23AC9B46C00D49B328B940DB5129A33017BAA47A89603')\n",
      "13\n",
      "('Uncharted', '69636A20070062C1ABB4219F3D1505DD64D55525C3D857F5B32F81D816BA202C')\n",
      "13\n",
      "('Uncharted', '6DFCDE58F5B9E515B260534B017B39CAE7207A080113CCC57DD8F8A5BAEDC36C')\n",
      "13\n",
      "('Uncharted', '866866DD7508528E26055CD3283AACC51CEE83093DC8F125D14B9B41CF273119')\n",
      "13\n",
      "('Uncharted', '3249253959DC8C036FC40320ABFF229C7AF8EE21A335BE93EA3924BE597D5816')\n",
      "13\n",
      "('Uncharted', 'BF998DFD6A27E8147FF6C331350452BB64DB01113FD05679FF148F419FB7D3A7')\n",
      "13\n",
      "('Uncharted', '069457383B0233D6059D61351D40DDB715A4477FD2FE03107F7DAA04DE96716F')\n",
      "13\n",
      "('Uncharted', 'D69BB365CD64D5E1383ED026045C218456D8EDC788EE6B0444DFB74AC2478077')\n",
      "13\n",
      "('Uncharted', '3770C81F4ADC6F5FF2DBE6F06ECDBCC12F199105550F6BD05B8E844493469198')\n",
      "13\n",
      "('Uncharted', '3970B4D467FF719AA8F4A3AB370DFA24C2C575CD2B5D72174C76D4F6E1AB5301')\n",
      "13\n",
      "('Uncharted', 'C1E550F9E07127B2D80CD61631D384D077D7D468EF753A8F7480313C996E8564')\n",
      "13\n",
      "('Uncharted', '7AB4FFAAE255BB64DCE23DF641955619ED15130D91BB94429669527913D67EC2')\n",
      "13\n",
      "('Uncharted', '81A3155D87B1ECE21686389641FB4E6BEFA87C932EE1772D01DB956F0BE7379A')\n",
      "13\n",
      "('Uncharted', '06637A494E47AB5D41FBE99A07F581ACE0EA3C80E94C37093FDC27129E870A53')\n",
      "13\n",
      "('Uncharted', 'FBA523707C209137FB40E5F4A606949065111290C848AB7A34956DDA8EBF2E9E')\n",
      "13\n",
      "('Uncharted', '563DACD537012A5463E748A6AE157E20C7DF8DAC895984620E78729B84830AE1')\n",
      "13\n",
      "('Uncharted', '39FF77E88E81CF4F5784A1A33E82377D3304D9B160A61DCAEB5BC90A76E07906')\n",
      "13\n",
      "('Uncharted', 'B63C69712C0642CF72A3613D5589F16A16D219E4E64EF237E5CEBCBD268AE901')\n",
      "13\n",
      "('Uncharted', '118B78E4D4F72EC23B72C940E9184453AE35AEADAC9D5FA1F35DD5EC3BEB6EF1')\n",
      "13\n",
      "('Uncharted', '940B5E6C6CDC8CD4A1075B5F8077FAE810586F61FB10AAC95EB3D646AE13C697')\n",
      "13\n",
      "('Uncharted', '7B7BE05B442A39BD86553FE86FCBF15EEF84E8D4CD286FA286D96C6C9D2F6802')\n",
      "13\n",
      "('Uncharted', '6161872775232CC698DF55E9EA18CD653D6AD6F69EDE40290A34FA87640C63C5')\n",
      "13\n",
      "('Uncharted', '3FCC49687382E45C362D7216FF4B98819E9AF01C33D25A9595D0FD5040B79811')\n",
      "13\n",
      "('Uncharted', '7B5DE48C1244C5E4DF8B0650D0640E10592960F3BBD240038777DB1AD4FF3187')\n",
      "13\n",
      "('Uncharted', 'B9398AEEE6CFC7ECAB29370DAE98249BA8630057036A4E1DFC79C9CDDD4C7059')\n",
      "13\n",
      "('Uncharted', '5D70323A3A234AD4F9BFF2713F57F40C69C34766808DB9BD30BED7D2854A5022')\n",
      "13\n",
      "('Uncharted', '4518D6D5B1899BD460401083389FF62343389538AAFC87111DB19136469A589D')\n",
      "13\n",
      "('Uncharted', 'DB41BAD496041DEB2E530E84330F4317FE47B0461D5107E14D17B49982961C47')\n",
      "13\n",
      "('Uncharted', '9FE2C8C1A4833AB1D30594D47800F5867471343ABA32C5D621491F09132ADDF1')\n",
      "13\n",
      "('Uncharted', 'E95B64C95F47E865FBCA955B32EA96D974A9CEA6D424201020F33B5902D7B7A7')\n",
      "13\n",
      "('Uncharted', '95AE2CFE184CACEDD9969E923D46EDDA1C67A2A211F18EF91EA62A5966915259')\n",
      "13\n",
      "('Uncharted', '908165EBDB9BF4821EBB999B58365202407178BEF019BCDFF7405D6FEC747A46')\n",
      "13\n",
      "('Uncharted', 'C907CBE814F787C229B4A29A4595AE4A5EBBA84DCB30C401674211D118C5FE19')\n",
      "13\n",
      "('Uncharted', 'E10CFD39A06EC3E39D930AE606AA93EEAB92538EAAF84C5D4A38538F03915E02')\n",
      "13\n",
      "('Uncharted', '3BF10A744A0B1B47E28FB9DB81AF6D8606E3B45A78B85971CBFBD9041088C5D7')\n",
      "13\n",
      "('Uncharted', '2267ED68C4C709F5CB80184D189ABD7B72E6930A3DA03FB5BCA0D71E83ABC0CE')\n",
      "13\n",
      "('Uncharted', '49D2F77696B55CF83C4EFBF7C21FA47B2952DB29EA4AA9D2F4ACC57D8341E077')\n",
      "13\n",
      "('Uncharted', 'D7D2103E37ADDD6D63E5088D551D2F6F1934F3AF047C9B9F44D3271ADC083FAC')\n",
      "13\n",
      "('Uncharted', '5736F83273C604AE0077DC653462B96AED9EA6ECBBA2B088F75106E39FB81B84')\n",
      "13\n",
      "('Uncharted', 'C8801C2B69C91661F9DA6892CDA116FB7B6B81BE3327D1695BC572819E551F7F')\n",
      "13\n",
      "('Uncharted', 'A27EEAD785A96372D78CBBD25CE8F87D9DFD7D52EB2CEE9B2365DFC91C0BFFB4')\n",
      "13\n",
      "('Uncharted', '8192DFCBF44FD4C1658BDE8C8092FDB001939F9E6A41CB0BB42E4460FCED3162')\n",
      "13\n",
      "('Uncharted', '7BC99517B58400967282F837A17AFB365AD9B3ED96871DF339E858E87234B44E')\n",
      "13\n",
      "('Uncharted', 'CC30991550CB8BD330066DD9FADB357C4EA5FB813A99AFB7D6B906A72C697F5E')\n",
      "13\n",
      "('Uncharted', '1100BC7EA493DF91038BA381B429D42C5CFCEE6C8B88A332E6D6ABB4AABC5B5C')\n",
      "13\n",
      "('Uncharted', 'A14D26A1B92BF1D1DE1275A6E3F5F186F69E3403647F1DBD95253AEAB7F35983')\n",
      "13\n",
      "('Uncharted', '1A4BFED19BFD2967AFC300E36DDF20E91B3D867616C1376B3FD380606773A7BA')\n",
      "13\n",
      "('Uncharted', '96E2C96CACBE48FDF920270C894795CE2656522D394968D321B82D628B42D831')\n",
      "13\n",
      "('Uncharted', 'C37B7F938DCBCAF1B2C22308B33ABCF57DAFC07910BFE35CC7856F84C686FCA6')\n",
      "13\n",
      "('Uncharted', '4FB4FF3D0AB6551C7A7CEC9ADD27C4BF367767BCC66BEE904B84930B0367EC84')\n",
      "13\n",
      "('Uncharted', '29C62A4C2764D2552A3191583C54E15ADD730528FB8288F12D83CE21692EA4B0')\n",
      "13\n",
      "('Uncharted', '169C379CC6CCC072365E781FF760B873EDABA0DA28829D742FE5EE624FFD5FBA')\n",
      "13\n",
      "('Uncharted', '73C7C0D97CE13E5B5AF5EA59566A9DA595FF7F858D6BE084997530C35B741C07')\n",
      "13\n",
      "('Uncharted', '47B8929DD6ED40DC85398C4B51F3D88A8E1180E47AD096BD24B9784A920A0A7E')\n",
      "13\n",
      "('Uncharted', 'ADBEF814338784387DFD8C73667965B9D728C16604C6F0F79E83D3EBE3003B70')\n",
      "13\n",
      "('Uncharted', '79F26E4CE928D8E2B883454BB4753AC9F38E8D791AB80C731C307F5370EAA61C')\n",
      "13\n",
      "('Uncharted', '26E4C14A8EC5D24C34A6674DD4B59F805564BB835892F3ECE61F56F56C417BAD')\n",
      "13\n",
      "('Uncharted', 'D302C9C1F094B05CEF2029901E4B25FF8A5A6B3C100F2CEC519581CC05BC9889')\n",
      "13\n",
      "('Georgetown', u'12')\n",
      "('Georgetown', u'14')\n",
      "('Georgetown', u'16')\n",
      "('Georgetown', u'19')\n",
      "('Georgetown', u'18')\n",
      "('Georgetown', u'31')\n",
      "('Georgetown', u'30')\n",
      "('Georgetown', u'36')\n",
      "('Georgetown', u'35')\n",
      "('Georgetown', u'34')\n",
      "('Georgetown', u'33')\n",
      "('Georgetown', u'32')\n",
      "('Georgetown', u'50')\n",
      "MISSING DOCS\n"
     ]
    }
   ],
   "source": [
    "try:\n",
    "    del(data)\n",
    "except:\n",
    "    pass\n",
    "missing = []\n",
    "\n",
    "qtype = 'Cluster Facet'\n",
    "\n",
    "# DATA\n",
    "georgetown_data = []\n",
    "file_path = submission_path + 'Georgetown/DomainDiscovery/NYU_CF.json'\n",
    "f = open(file_path, 'r')\n",
    "georgetown_data = eval(f.read())\n",
    "\n",
    "isi_data = []\n",
    "file_path = submission_path + ('ISI/DomainDiscovery/'\n",
    "                               'isi-nyu-answers-dig-extractions/'\n",
    "                               'properly_formatted_submissions/'\n",
    "                               'formatted_post_cluster_facet'\n",
    "                               '_parsed_fixed_all_answers.json')\n",
    "f = open(file_path, 'r')\n",
    "isi_data = eval(f.read())\n",
    "\n",
    "uncharted_data = []\n",
    "all_data = []\n",
    "file_path = submission_path + ('Uncharted/DomainDiscovery/uncharted_NYU_DD.json')\n",
    "f = open(file_path, 'r')\n",
    "all_data = eval(f.read())\n",
    "for entry in all_data:\n",
    "    if entry['questionType'] == qtype:\n",
    "        uncharted_data.append(entry)\n",
    "\n",
    "# MAIN LOOP\n",
    "for qid in seeds[qtype].keys():\n",
    "    # Get list of ad candidtes\n",
    "    candidates = []\n",
    "    for clus_entry in uniq_clusters['NYU']:\n",
    "        if clus_entry[0] == seeds[qtype][qid]:\n",
    "            candidates.append(clus_entry[1])\n",
    "\n",
    "    # Georgetown\n",
    "    id_pos = 1\n",
    "    score_pos = 2\n",
    "    for entry in georgetown_data:\n",
    "        seen = []\n",
    "        count = 0\n",
    "        score = 100\n",
    "        if entry['id'] == qid:\n",
    "            for ans in entry['answer']:\n",
    "                if ans[score_pos] > score:\n",
    "                    print \"TROUBLE!\"\n",
    "                if ans[id_pos] not in seen:\n",
    "                    count += 1\n",
    "                    if count <= 100:\n",
    "                        seen.append(ans[id_pos])\n",
    "            if len(seen) == 0:\n",
    "                print ('Georgetown', qid)\n",
    "            for doc in seen:\n",
    "                if doc not in candidates:\n",
    "                    missing.append(doc)\n",
    "                    print ('Georgetown', doc)\n",
    "            \n",
    "    # ISI\n",
    "    id_pos = 1\n",
    "    score_pos = 2\n",
    "    for entry in isi_data:\n",
    "        seen = []\n",
    "        count = 0\n",
    "        score = 100\n",
    "        if entry['question_id'] == qid:\n",
    "            for ans in entry['answer']:\n",
    "                if ans[score_pos] > score:\n",
    "                    print \"TROUBLE!\"\n",
    "                if ans[id_pos] not in seen:\n",
    "                    count += 1\n",
    "                    if count <= 100:\n",
    "                        seen.append(ans[id_pos])\n",
    "            if len(seen) == 0:\n",
    "                print ('ISI', qid)\n",
    "            for doc in seen:\n",
    "                if doc not in candidates:\n",
    "                    missing.append(doc)\n",
    "                    print ('ISI', doc)\n",
    "            \n",
    "    # Uncharted\n",
    "    id_pos = 1\n",
    "    score_pos = 2\n",
    "    for entry in uncharted_data:\n",
    "        seen = []\n",
    "        count = 0\n",
    "        score = 100\n",
    "        if 'answers' in entry.keys():\n",
    "            if entry['question_id'] == qid:\n",
    "                for ans in entry['answers']:\n",
    "                    if ans[score_pos] > score:\n",
    "                        print \"TROUBLE!\"\n",
    "                    if ans[id_pos] not in seen:\n",
    "                        count += 1\n",
    "                        if count <= 100:\n",
    "                            seen.append(ans[id_pos])\n",
    "                if len(seen) == 0:\n",
    "                    print ('Uncharted', qid)\n",
    "                for doc in seen:\n",
    "                    if doc not in candidates:\n",
    "                        missing.append(doc)\n",
    "                        print ('Uncharted', doc)\n",
    "                        print qid\n",
    "if len(missing) > 0:\n",
    "    print \"MISSING DOCS\""
   ]
  },
  {
   "cell_type": "code",
   "execution_count": 219,
   "metadata": {
    "collapsed": false
   },
   "outputs": [
    {
     "data": {
      "text/plain": [
       "['90412E1895E93C4F413560E857ADBDF0FA48B6592FD67704777A2144E9C5AD8C',\n",
       " 'A1A86AD0637E27049BF7D84C601232DF10DDBC5B2891F3E0FD2AC2267D126C91',\n",
       " '3060A8FC06ADBEC27E758B4326EBE7566A5B3F47FEAEF4F60974F52371BCC8AC',\n",
       " 'D6BE25B9CCD26699D2774A633AC8AA093385F3068DAB123454D5BBBAB16A6C56',\n",
       " 'D5DFAE89604331EAAF758DFB7D6B152A2D18237DB34461754E11CE475F87BDEC',\n",
       " 'B43AF2809831CA31C4E0A15EFEA20F14BCF27BCF2F287EDE870E0F3E0B495D82',\n",
       " 'C83D06ABE357ABBF37991B3AC67380926267C0EE447A830C925D8B86148D6D0C',\n",
       " '8718C5E2641DBE85C730CFC4C2E2053BAE3DB287864E61F61271C720892BF00E',\n",
       " '94457D5A17EFA333799A1154DA7AD23D579AF6922B97EB798FDFCFEE9C7B8D73',\n",
       " '37FFDB6696233373445A17445F549F7F4F228E81047C8207A579B2AA6B334337',\n",
       " '66D718D5C1F15C9D8C7954E2264D40AD780AC961600E6F03627B79E228CEE8B1',\n",
       " '8286AE73D3A2284873892AF38D2EBA9624DA69470FA496625A8464172E032933',\n",
       " '05CF3D9927187C7043C4AAE484C1EFF00130A14194A98F207993306577175803',\n",
       " 'F39D24E0621BC27BF0B53C280F75706AD2EF72E814CC42324379E9B5B5DB76E2',\n",
       " '72EC4B2F03535F8FEF9B66772B2A01D5D175E02255D5E7371C8D7694CB450324',\n",
       " '4FF4544B559FF9EF27759C534A8AB66A13474E67BF3337B96BA74444BA5E55F3',\n",
       " '6913AB4095A9B31B2B141E3A67B1D4C40DFD7564047D468F79405CA6E4707F15',\n",
       " '63FE8E2FD36E620F90FD6D2F568CAA87DB00FD2F30119F036153E49EF485A19A',\n",
       " 'AD2F1AD080F4653D92C1B61972D91E979C32A55CA149F1D96DF812629E6CFEDA',\n",
       " 'E1F907E2DF08D5109618453CEFD642CF70032EDEA80DD2C328086A283BE48B49',\n",
       " '692942C0DFF8580077C8F1BC68CFC881B8A3EB652F961BF802733517361AD341',\n",
       " '7487C214E890CB3B5BF54E214C6A5C5DE3188E6E0D67AA6D8AC55D5E55E2E43F',\n",
       " 'B3EADDBB360F7EEB68CF0FDF6D4E9E824CB1AA5668E41CC9EC1AFB59B4C25591',\n",
       " '375D1A510EDDC6176EAED3AF91157EF1FF96F95615C717546E5CDCF487F5C262',\n",
       " '0F4C2175B21DF3D28233F129B0AECEF8CD90BA467C4D83F215DBD97FFCE3B44F',\n",
       " '062F90DDB2B91240D4F7861566D038811EC9B1B6D5DD2AAB24AC08F808A41E5E',\n",
       " '4960C62EE61D0B4CDF6E4FDB876BB23EC6892C25B2CCA4DA925BF2700C6F5148',\n",
       " 'B64851F1FD4024749395FB63FF20EB33113562506C78F7EB1E5003164468FF31',\n",
       " '776EF008D1538E97C6ACA2D942435EFC6F782A2D53230EC4897985080E83A5A8',\n",
       " 'E6B526DE05A334612CB13B0C41A2A106A16717B5D6FDB09427931C687618B5EC',\n",
       " 'ECCFCAAE9070362E472B1540C8BC2E4911AF55B47967A003AA8FEEDD51D5468B',\n",
       " '90571A0D3D2A75BE261E8A79C640A795458ECD23E26B0BA13484AA32A034659B',\n",
       " '54C7A3E2C303A180EB8CF7C297DB5DAD890635A4519CC5117417C6E4766DB368',\n",
       " '0E180B52C8252AB3AB2F230BBAA57DCA45343DAE0D7F5D35951BC4ADD7E08BF5',\n",
       " 'FF46231106415B2438C715970037BD3EDC57C0895345E696EE352B9F716E2F15',\n",
       " '966705C353E6341C69D3B1FB78292A3AEE1F4B35B458B9C0CC81054060D843E8',\n",
       " '1C8E1D3BBEBAE4BC3C7FFDD4CE018CE782751E0D81D587C4E27A0F240B8F1CA1',\n",
       " '44AA9A1D822469EA81FBC852EED2D8DCD6DDDD8C4790D54F1772B9777981A0A0',\n",
       " 'C21C3968E69BE8166511368F1D993F54FFE32B62793A5A12CCA14F7D10358227',\n",
       " 'F87107D6FD8B0CDBDA55DD3A39ED0F61CF9D001475F628B861D7735027D88ADB',\n",
       " 'F6FCB2910F3043CFA1C0495ED27133C535E0F9DCD3936139239C5056512A8718',\n",
       " '9D502A80F4CB8868782B0A0585D2CB85166457C7C358497CA2090D673A7F1BA1',\n",
       " '99B3B91BFD9C39A6D2E23AC9B46C00D49B328B940DB5129A33017BAA47A89603',\n",
       " '69636A20070062C1ABB4219F3D1505DD64D55525C3D857F5B32F81D816BA202C',\n",
       " '6DFCDE58F5B9E515B260534B017B39CAE7207A080113CCC57DD8F8A5BAEDC36C',\n",
       " '866866DD7508528E26055CD3283AACC51CEE83093DC8F125D14B9B41CF273119',\n",
       " '3249253959DC8C036FC40320ABFF229C7AF8EE21A335BE93EA3924BE597D5816',\n",
       " 'BF998DFD6A27E8147FF6C331350452BB64DB01113FD05679FF148F419FB7D3A7',\n",
       " '069457383B0233D6059D61351D40DDB715A4477FD2FE03107F7DAA04DE96716F',\n",
       " 'D69BB365CD64D5E1383ED026045C218456D8EDC788EE6B0444DFB74AC2478077',\n",
       " '3770C81F4ADC6F5FF2DBE6F06ECDBCC12F199105550F6BD05B8E844493469198',\n",
       " '3970B4D467FF719AA8F4A3AB370DFA24C2C575CD2B5D72174C76D4F6E1AB5301',\n",
       " 'C1E550F9E07127B2D80CD61631D384D077D7D468EF753A8F7480313C996E8564',\n",
       " '7AB4FFAAE255BB64DCE23DF641955619ED15130D91BB94429669527913D67EC2',\n",
       " '81A3155D87B1ECE21686389641FB4E6BEFA87C932EE1772D01DB956F0BE7379A',\n",
       " '06637A494E47AB5D41FBE99A07F581ACE0EA3C80E94C37093FDC27129E870A53',\n",
       " 'FBA523707C209137FB40E5F4A606949065111290C848AB7A34956DDA8EBF2E9E',\n",
       " '563DACD537012A5463E748A6AE157E20C7DF8DAC895984620E78729B84830AE1',\n",
       " '39FF77E88E81CF4F5784A1A33E82377D3304D9B160A61DCAEB5BC90A76E07906',\n",
       " 'B63C69712C0642CF72A3613D5589F16A16D219E4E64EF237E5CEBCBD268AE901',\n",
       " '118B78E4D4F72EC23B72C940E9184453AE35AEADAC9D5FA1F35DD5EC3BEB6EF1',\n",
       " '940B5E6C6CDC8CD4A1075B5F8077FAE810586F61FB10AAC95EB3D646AE13C697',\n",
       " '7B7BE05B442A39BD86553FE86FCBF15EEF84E8D4CD286FA286D96C6C9D2F6802',\n",
       " '6161872775232CC698DF55E9EA18CD653D6AD6F69EDE40290A34FA87640C63C5',\n",
       " '3FCC49687382E45C362D7216FF4B98819E9AF01C33D25A9595D0FD5040B79811',\n",
       " '7B5DE48C1244C5E4DF8B0650D0640E10592960F3BBD240038777DB1AD4FF3187',\n",
       " 'B9398AEEE6CFC7ECAB29370DAE98249BA8630057036A4E1DFC79C9CDDD4C7059',\n",
       " '5D70323A3A234AD4F9BFF2713F57F40C69C34766808DB9BD30BED7D2854A5022',\n",
       " '4518D6D5B1899BD460401083389FF62343389538AAFC87111DB19136469A589D',\n",
       " 'DB41BAD496041DEB2E530E84330F4317FE47B0461D5107E14D17B49982961C47',\n",
       " '9FE2C8C1A4833AB1D30594D47800F5867471343ABA32C5D621491F09132ADDF1',\n",
       " 'E95B64C95F47E865FBCA955B32EA96D974A9CEA6D424201020F33B5902D7B7A7',\n",
       " '95AE2CFE184CACEDD9969E923D46EDDA1C67A2A211F18EF91EA62A5966915259',\n",
       " '908165EBDB9BF4821EBB999B58365202407178BEF019BCDFF7405D6FEC747A46',\n",
       " 'C907CBE814F787C229B4A29A4595AE4A5EBBA84DCB30C401674211D118C5FE19',\n",
       " 'E10CFD39A06EC3E39D930AE606AA93EEAB92538EAAF84C5D4A38538F03915E02',\n",
       " '3BF10A744A0B1B47E28FB9DB81AF6D8606E3B45A78B85971CBFBD9041088C5D7',\n",
       " '2267ED68C4C709F5CB80184D189ABD7B72E6930A3DA03FB5BCA0D71E83ABC0CE',\n",
       " '49D2F77696B55CF83C4EFBF7C21FA47B2952DB29EA4AA9D2F4ACC57D8341E077',\n",
       " 'D7D2103E37ADDD6D63E5088D551D2F6F1934F3AF047C9B9F44D3271ADC083FAC',\n",
       " '5736F83273C604AE0077DC653462B96AED9EA6ECBBA2B088F75106E39FB81B84',\n",
       " 'C8801C2B69C91661F9DA6892CDA116FB7B6B81BE3327D1695BC572819E551F7F',\n",
       " 'A27EEAD785A96372D78CBBD25CE8F87D9DFD7D52EB2CEE9B2365DFC91C0BFFB4',\n",
       " '8192DFCBF44FD4C1658BDE8C8092FDB001939F9E6A41CB0BB42E4460FCED3162',\n",
       " '7BC99517B58400967282F837A17AFB365AD9B3ED96871DF339E858E87234B44E',\n",
       " 'CC30991550CB8BD330066DD9FADB357C4EA5FB813A99AFB7D6B906A72C697F5E',\n",
       " '1100BC7EA493DF91038BA381B429D42C5CFCEE6C8B88A332E6D6ABB4AABC5B5C',\n",
       " 'A14D26A1B92BF1D1DE1275A6E3F5F186F69E3403647F1DBD95253AEAB7F35983',\n",
       " '1A4BFED19BFD2967AFC300E36DDF20E91B3D867616C1376B3FD380606773A7BA',\n",
       " '96E2C96CACBE48FDF920270C894795CE2656522D394968D321B82D628B42D831',\n",
       " 'C37B7F938DCBCAF1B2C22308B33ABCF57DAFC07910BFE35CC7856F84C686FCA6',\n",
       " '4FB4FF3D0AB6551C7A7CEC9ADD27C4BF367767BCC66BEE904B84930B0367EC84',\n",
       " '29C62A4C2764D2552A3191583C54E15ADD730528FB8288F12D83CE21692EA4B0',\n",
       " '169C379CC6CCC072365E781FF760B873EDABA0DA28829D742FE5EE624FFD5FBA',\n",
       " '73C7C0D97CE13E5B5AF5EA59566A9DA595FF7F858D6BE084997530C35B741C07',\n",
       " '47B8929DD6ED40DC85398C4B51F3D88A8E1180E47AD096BD24B9784A920A0A7E',\n",
       " 'ADBEF814338784387DFD8C73667965B9D728C16604C6F0F79E83D3EBE3003B70',\n",
       " '79F26E4CE928D8E2B883454BB4753AC9F38E8D791AB80C731C307F5370EAA61C',\n",
       " '26E4C14A8EC5D24C34A6674DD4B59F805564BB835892F3ECE61F56F56C417BAD',\n",
       " 'D302C9C1F094B05CEF2029901E4B25FF8A5A6B3C100F2CEC519581CC05BC9889']"
      ]
     },
     "execution_count": 219,
     "metadata": {},
     "output_type": "execute_result"
    }
   ],
   "source": [
    "missing"
   ]
  },
  {
   "cell_type": "code",
   "execution_count": null,
   "metadata": {
    "collapsed": true
   },
   "outputs": [],
   "source": []
  },
  {
   "cell_type": "code",
   "execution_count": 224,
   "metadata": {
    "collapsed": false
   },
   "outputs": [
    {
     "name": "stdout",
     "output_type": "stream",
     "text": [
      "SHOULD HAVE CAUGHT THIS\n",
      "[['latin', '90412E1895E93C4F413560E857ADBDF0FA48B6592FD67704777A2144E9C5AD8C', 0.5], ['white', '90412E1895E93C4F413560E857ADBDF0FA48B6592FD67704777A2144E9C5AD8C', 0.5], ['black', '90412E1895E93C4F413560E857ADBDF0FA48B6592FD67704777A2144E9C5AD8C', 0.5], ['asian', '90412E1895E93C4F413560E857ADBDF0FA48B6592FD67704777A2144E9C5AD8C', 0.5], ['caucasian', '90412E1895E93C4F413560E857ADBDF0FA48B6592FD67704777A2144E9C5AD8C', 0.5], ['latin', 'A1A86AD0637E27049BF7D84C601232DF10DDBC5B2891F3E0FD2AC2267D126C91', 0.49564034], ['white', 'A1A86AD0637E27049BF7D84C601232DF10DDBC5B2891F3E0FD2AC2267D126C91', 0.49564034], ['black', 'A1A86AD0637E27049BF7D84C601232DF10DDBC5B2891F3E0FD2AC2267D126C91', 0.49564034], ['asian', 'A1A86AD0637E27049BF7D84C601232DF10DDBC5B2891F3E0FD2AC2267D126C91', 0.49564034], ['caucasian', 'A1A86AD0637E27049BF7D84C601232DF10DDBC5B2891F3E0FD2AC2267D126C91', 0.49564034], ['latin', '3060A8FC06ADBEC27E758B4326EBE7566A5B3F47FEAEF4F60974F52371BCC8AC', 0.49564034], ['white', '3060A8FC06ADBEC27E758B4326EBE7566A5B3F47FEAEF4F60974F52371BCC8AC', 0.49564034], ['black', '3060A8FC06ADBEC27E758B4326EBE7566A5B3F47FEAEF4F60974F52371BCC8AC', 0.49564034], ['asian', '3060A8FC06ADBEC27E758B4326EBE7566A5B3F47FEAEF4F60974F52371BCC8AC', 0.49564034], ['caucasian', '3060A8FC06ADBEC27E758B4326EBE7566A5B3F47FEAEF4F60974F52371BCC8AC', 0.49564034], ['european', 'D6BE25B9CCD26699D2774A633AC8AA093385F3068DAB123454D5BBBAB16A6C56', 0.47484228], ['white', 'D6BE25B9CCD26699D2774A633AC8AA093385F3068DAB123454D5BBBAB16A6C56', 0.47484228], ['caucasian', 'D6BE25B9CCD26699D2774A633AC8AA093385F3068DAB123454D5BBBAB16A6C56', 0.47484228], ['european', 'D5DFAE89604331EAAF758DFB7D6B152A2D18237DB34461754E11CE475F87BDEC', 0.47484228], ['white', 'D5DFAE89604331EAAF758DFB7D6B152A2D18237DB34461754E11CE475F87BDEC', 0.47484228], ['caucasian', 'D5DFAE89604331EAAF758DFB7D6B152A2D18237DB34461754E11CE475F87BDEC', 0.47484228], ['white', 'B43AF2809831CA31C4E0A15EFEA20F14BCF27BCF2F287EDE870E0F3E0B495D82', 0.4563649], ['caucasian', 'B43AF2809831CA31C4E0A15EFEA20F14BCF27BCF2F287EDE870E0F3E0B495D82', 0.4563649], ['white', 'C83D06ABE357ABBF37991B3AC67380926267C0EE447A830C925D8B86148D6D0C', 0.4560566], ['caucasian', 'C83D06ABE357ABBF37991B3AC67380926267C0EE447A830C925D8B86148D6D0C', 0.4560566], ['asian', 'C83D06ABE357ABBF37991B3AC67380926267C0EE447A830C925D8B86148D6D0C', 0.4560566], ['white', '8718C5E2641DBE85C730CFC4C2E2053BAE3DB287864E61F61271C720892BF00E', 0.43934882], ['black', '8718C5E2641DBE85C730CFC4C2E2053BAE3DB287864E61F61271C720892BF00E', 0.43934882], ['asian', '8718C5E2641DBE85C730CFC4C2E2053BAE3DB287864E61F61271C720892BF00E', 0.43934882], ['caucasian', '8718C5E2641DBE85C730CFC4C2E2053BAE3DB287864E61F61271C720892BF00E', 0.43934882], ['latin', '94457D5A17EFA333799A1154DA7AD23D579AF6922B97EB798FDFCFEE9C7B8D73', 0.43934882], ['white', '94457D5A17EFA333799A1154DA7AD23D579AF6922B97EB798FDFCFEE9C7B8D73', 0.43934882], ['black', '94457D5A17EFA333799A1154DA7AD23D579AF6922B97EB798FDFCFEE9C7B8D73', 0.43934882], ['asian', '94457D5A17EFA333799A1154DA7AD23D579AF6922B97EB798FDFCFEE9C7B8D73', 0.43934882], ['caucasian', '94457D5A17EFA333799A1154DA7AD23D579AF6922B97EB798FDFCFEE9C7B8D73', 0.43934882], ['latin', '37FFDB6696233373445A17445F549F7F4F228E81047C8207A579B2AA6B334337', 0.43934882], ['white', '37FFDB6696233373445A17445F549F7F4F228E81047C8207A579B2AA6B334337', 0.43934882], ['black', '37FFDB6696233373445A17445F549F7F4F228E81047C8207A579B2AA6B334337', 0.43934882], ['asian', '37FFDB6696233373445A17445F549F7F4F228E81047C8207A579B2AA6B334337', 0.43934882], ['caucasian', '37FFDB6696233373445A17445F549F7F4F228E81047C8207A579B2AA6B334337', 0.43934882], ['white', '66D718D5C1F15C9D8C7954E2264D40AD780AC961600E6F03627B79E228CEE8B1', 0.43934882], ['black', '66D718D5C1F15C9D8C7954E2264D40AD780AC961600E6F03627B79E228CEE8B1', 0.43934882], ['asian', '66D718D5C1F15C9D8C7954E2264D40AD780AC961600E6F03627B79E228CEE8B1', 0.43934882], ['caucasian', '66D718D5C1F15C9D8C7954E2264D40AD780AC961600E6F03627B79E228CEE8B1', 0.43934882], ['punjabi', '8286AE73D3A2284873892AF38D2EBA9624DA69470FA496625A8464172E032933', 0.43934882], ['white', '8286AE73D3A2284873892AF38D2EBA9624DA69470FA496625A8464172E032933', 0.43934882], ['black', '8286AE73D3A2284873892AF38D2EBA9624DA69470FA496625A8464172E032933', 0.43934882], ['asian', '8286AE73D3A2284873892AF38D2EBA9624DA69470FA496625A8464172E032933', 0.43934882], ['caucasian', '8286AE73D3A2284873892AF38D2EBA9624DA69470FA496625A8464172E032933', 0.43934882], ['latin', '05CF3D9927187C7043C4AAE484C1EFF00130A14194A98F207993306577175803', 0.43934882], ['white', '05CF3D9927187C7043C4AAE484C1EFF00130A14194A98F207993306577175803', 0.43934882], ['black', '05CF3D9927187C7043C4AAE484C1EFF00130A14194A98F207993306577175803', 0.43934882], ['asian', '05CF3D9927187C7043C4AAE484C1EFF00130A14194A98F207993306577175803', 0.43934882], ['caucasian', '05CF3D9927187C7043C4AAE484C1EFF00130A14194A98F207993306577175803', 0.43934882], ['latin', 'F39D24E0621BC27BF0B53C280F75706AD2EF72E814CC42324379E9B5B5DB76E2', 0.43934882], ['white', 'F39D24E0621BC27BF0B53C280F75706AD2EF72E814CC42324379E9B5B5DB76E2', 0.43934882], ['black', 'F39D24E0621BC27BF0B53C280F75706AD2EF72E814CC42324379E9B5B5DB76E2', 0.43934882], ['asian', 'F39D24E0621BC27BF0B53C280F75706AD2EF72E814CC42324379E9B5B5DB76E2', 0.43934882], ['caucasian', 'F39D24E0621BC27BF0B53C280F75706AD2EF72E814CC42324379E9B5B5DB76E2', 0.43934882], ['latin', '72EC4B2F03535F8FEF9B66772B2A01D5D175E02255D5E7371C8D7694CB450324', 0.43934882], ['white', '72EC4B2F03535F8FEF9B66772B2A01D5D175E02255D5E7371C8D7694CB450324', 0.43934882], ['black', '72EC4B2F03535F8FEF9B66772B2A01D5D175E02255D5E7371C8D7694CB450324', 0.43934882], ['asian', '72EC4B2F03535F8FEF9B66772B2A01D5D175E02255D5E7371C8D7694CB450324', 0.43934882], ['caucasian', '72EC4B2F03535F8FEF9B66772B2A01D5D175E02255D5E7371C8D7694CB450324', 0.43934882], ['latin', '4FF4544B559FF9EF27759C534A8AB66A13474E67BF3337B96BA74444BA5E55F3', 0.43934882], ['white', '4FF4544B559FF9EF27759C534A8AB66A13474E67BF3337B96BA74444BA5E55F3', 0.43934882], ['black', '4FF4544B559FF9EF27759C534A8AB66A13474E67BF3337B96BA74444BA5E55F3', 0.43934882], ['asian', '4FF4544B559FF9EF27759C534A8AB66A13474E67BF3337B96BA74444BA5E55F3', 0.43934882], ['caucasian', '4FF4544B559FF9EF27759C534A8AB66A13474E67BF3337B96BA74444BA5E55F3', 0.43934882], ['latin', '6913AB4095A9B31B2B141E3A67B1D4C40DFD7564047D468F79405CA6E4707F15', 0.43775317], ['white', '6913AB4095A9B31B2B141E3A67B1D4C40DFD7564047D468F79405CA6E4707F15', 0.43775317], ['black', '6913AB4095A9B31B2B141E3A67B1D4C40DFD7564047D468F79405CA6E4707F15', 0.43775317], ['asian', '6913AB4095A9B31B2B141E3A67B1D4C40DFD7564047D468F79405CA6E4707F15', 0.43775317], ['caucasian', '6913AB4095A9B31B2B141E3A67B1D4C40DFD7564047D468F79405CA6E4707F15', 0.43775317], ['latin', '63FE8E2FD36E620F90FD6D2F568CAA87DB00FD2F30119F036153E49EF485A19A', 0.43775317], ['white', '63FE8E2FD36E620F90FD6D2F568CAA87DB00FD2F30119F036153E49EF485A19A', 0.43775317], ['black', '63FE8E2FD36E620F90FD6D2F568CAA87DB00FD2F30119F036153E49EF485A19A', 0.43775317], ['asian', '63FE8E2FD36E620F90FD6D2F568CAA87DB00FD2F30119F036153E49EF485A19A', 0.43775317], ['caucasian', '63FE8E2FD36E620F90FD6D2F568CAA87DB00FD2F30119F036153E49EF485A19A', 0.43775317], ['latin', 'AD2F1AD080F4653D92C1B61972D91E979C32A55CA149F1D96DF812629E6CFEDA', 0.43775317], ['white', 'AD2F1AD080F4653D92C1B61972D91E979C32A55CA149F1D96DF812629E6CFEDA', 0.43775317], ['black', 'AD2F1AD080F4653D92C1B61972D91E979C32A55CA149F1D96DF812629E6CFEDA', 0.43775317], ['asian', 'AD2F1AD080F4653D92C1B61972D91E979C32A55CA149F1D96DF812629E6CFEDA', 0.43775317], ['caucasian', 'AD2F1AD080F4653D92C1B61972D91E979C32A55CA149F1D96DF812629E6CFEDA', 0.43775317], ['latin', 'E1F907E2DF08D5109618453CEFD642CF70032EDEA80DD2C328086A283BE48B49', 0.43775317], ['white', 'E1F907E2DF08D5109618453CEFD642CF70032EDEA80DD2C328086A283BE48B49', 0.43775317], ['black', 'E1F907E2DF08D5109618453CEFD642CF70032EDEA80DD2C328086A283BE48B49', 0.43775317], ['asian', 'E1F907E2DF08D5109618453CEFD642CF70032EDEA80DD2C328086A283BE48B49', 0.43775317], ['caucasian', 'E1F907E2DF08D5109618453CEFD642CF70032EDEA80DD2C328086A283BE48B49', 0.43775317], ['latin', '692942C0DFF8580077C8F1BC68CFC881B8A3EB652F961BF802733517361AD341', 0.43775317], ['white', '692942C0DFF8580077C8F1BC68CFC881B8A3EB652F961BF802733517361AD341', 0.43775317], ['black', '692942C0DFF8580077C8F1BC68CFC881B8A3EB652F961BF802733517361AD341', 0.43775317], ['asian', '692942C0DFF8580077C8F1BC68CFC881B8A3EB652F961BF802733517361AD341', 0.43775317], ['caucasian', '692942C0DFF8580077C8F1BC68CFC881B8A3EB652F961BF802733517361AD341', 0.43775317], ['latin', '7487C214E890CB3B5BF54E214C6A5C5DE3188E6E0D67AA6D8AC55D5E55E2E43F', 0.43775317], ['white', '7487C214E890CB3B5BF54E214C6A5C5DE3188E6E0D67AA6D8AC55D5E55E2E43F', 0.43775317], ['black', '7487C214E890CB3B5BF54E214C6A5C5DE3188E6E0D67AA6D8AC55D5E55E2E43F', 0.43775317], ['asian', '7487C214E890CB3B5BF54E214C6A5C5DE3188E6E0D67AA6D8AC55D5E55E2E43F', 0.43775317], ['caucasian', '7487C214E890CB3B5BF54E214C6A5C5DE3188E6E0D67AA6D8AC55D5E55E2E43F', 0.43775317], ['latin', 'B3EADDBB360F7EEB68CF0FDF6D4E9E824CB1AA5668E41CC9EC1AFB59B4C25591', 0.43775317], ['white', 'B3EADDBB360F7EEB68CF0FDF6D4E9E824CB1AA5668E41CC9EC1AFB59B4C25591', 0.43775317], ['black', 'B3EADDBB360F7EEB68CF0FDF6D4E9E824CB1AA5668E41CC9EC1AFB59B4C25591', 0.43775317], ['asian', 'B3EADDBB360F7EEB68CF0FDF6D4E9E824CB1AA5668E41CC9EC1AFB59B4C25591', 0.43775317], ['caucasian', 'B3EADDBB360F7EEB68CF0FDF6D4E9E824CB1AA5668E41CC9EC1AFB59B4C25591', 0.43775317], ['latin', '375D1A510EDDC6176EAED3AF91157EF1FF96F95615C717546E5CDCF487F5C262', 0.43775317], ['white', '375D1A510EDDC6176EAED3AF91157EF1FF96F95615C717546E5CDCF487F5C262', 0.43775317], ['black', '375D1A510EDDC6176EAED3AF91157EF1FF96F95615C717546E5CDCF487F5C262', 0.43775317], ['asian', '375D1A510EDDC6176EAED3AF91157EF1FF96F95615C717546E5CDCF487F5C262', 0.43775317], ['caucasian', '375D1A510EDDC6176EAED3AF91157EF1FF96F95615C717546E5CDCF487F5C262', 0.43775317], ['latin', '0F4C2175B21DF3D28233F129B0AECEF8CD90BA467C4D83F215DBD97FFCE3B44F', 0.43775317], ['white', '0F4C2175B21DF3D28233F129B0AECEF8CD90BA467C4D83F215DBD97FFCE3B44F', 0.43775317], ['black', '0F4C2175B21DF3D28233F129B0AECEF8CD90BA467C4D83F215DBD97FFCE3B44F', 0.43775317], ['asian', '0F4C2175B21DF3D28233F129B0AECEF8CD90BA467C4D83F215DBD97FFCE3B44F', 0.43775317], ['caucasian', '0F4C2175B21DF3D28233F129B0AECEF8CD90BA467C4D83F215DBD97FFCE3B44F', 0.43775317], ['latin', '062F90DDB2B91240D4F7861566D038811EC9B1B6D5DD2AAB24AC08F808A41E5E', 0.43775317], ['white', '062F90DDB2B91240D4F7861566D038811EC9B1B6D5DD2AAB24AC08F808A41E5E', 0.43775317], ['black', '062F90DDB2B91240D4F7861566D038811EC9B1B6D5DD2AAB24AC08F808A41E5E', 0.43775317], ['asian', '062F90DDB2B91240D4F7861566D038811EC9B1B6D5DD2AAB24AC08F808A41E5E', 0.43775317], ['caucasian', '062F90DDB2B91240D4F7861566D038811EC9B1B6D5DD2AAB24AC08F808A41E5E', 0.43775317], ['latin', '4960C62EE61D0B4CDF6E4FDB876BB23EC6892C25B2CCA4DA925BF2700C6F5148', 0.43775317], ['white', '4960C62EE61D0B4CDF6E4FDB876BB23EC6892C25B2CCA4DA925BF2700C6F5148', 0.43775317], ['black', '4960C62EE61D0B4CDF6E4FDB876BB23EC6892C25B2CCA4DA925BF2700C6F5148', 0.43775317], ['asian', '4960C62EE61D0B4CDF6E4FDB876BB23EC6892C25B2CCA4DA925BF2700C6F5148', 0.43775317], ['caucasian', '4960C62EE61D0B4CDF6E4FDB876BB23EC6892C25B2CCA4DA925BF2700C6F5148', 0.43775317], ['latin', 'B64851F1FD4024749395FB63FF20EB33113562506C78F7EB1E5003164468FF31', 0.43775317], ['white', 'B64851F1FD4024749395FB63FF20EB33113562506C78F7EB1E5003164468FF31', 0.43775317], ['black', 'B64851F1FD4024749395FB63FF20EB33113562506C78F7EB1E5003164468FF31', 0.43775317], ['asian', 'B64851F1FD4024749395FB63FF20EB33113562506C78F7EB1E5003164468FF31', 0.43775317], ['caucasian', 'B64851F1FD4024749395FB63FF20EB33113562506C78F7EB1E5003164468FF31', 0.43775317], ['latin', '776EF008D1538E97C6ACA2D942435EFC6F782A2D53230EC4897985080E83A5A8', 0.43775317], ['white', '776EF008D1538E97C6ACA2D942435EFC6F782A2D53230EC4897985080E83A5A8', 0.43775317], ['black', '776EF008D1538E97C6ACA2D942435EFC6F782A2D53230EC4897985080E83A5A8', 0.43775317], ['asian', '776EF008D1538E97C6ACA2D942435EFC6F782A2D53230EC4897985080E83A5A8', 0.43775317], ['caucasian', '776EF008D1538E97C6ACA2D942435EFC6F782A2D53230EC4897985080E83A5A8', 0.43775317], ['latin', 'E6B526DE05A334612CB13B0C41A2A106A16717B5D6FDB09427931C687618B5EC', 0.43775317], ['white', 'E6B526DE05A334612CB13B0C41A2A106A16717B5D6FDB09427931C687618B5EC', 0.43775317], ['black', 'E6B526DE05A334612CB13B0C41A2A106A16717B5D6FDB09427931C687618B5EC', 0.43775317], ['asian', 'E6B526DE05A334612CB13B0C41A2A106A16717B5D6FDB09427931C687618B5EC', 0.43775317], ['caucasian', 'E6B526DE05A334612CB13B0C41A2A106A16717B5D6FDB09427931C687618B5EC', 0.43775317], ['latin', 'ECCFCAAE9070362E472B1540C8BC2E4911AF55B47967A003AA8FEEDD51D5468B', 0.43775317], ['white', 'ECCFCAAE9070362E472B1540C8BC2E4911AF55B47967A003AA8FEEDD51D5468B', 0.43775317], ['black', 'ECCFCAAE9070362E472B1540C8BC2E4911AF55B47967A003AA8FEEDD51D5468B', 0.43775317], ['asian', 'ECCFCAAE9070362E472B1540C8BC2E4911AF55B47967A003AA8FEEDD51D5468B', 0.43775317], ['caucasian', 'ECCFCAAE9070362E472B1540C8BC2E4911AF55B47967A003AA8FEEDD51D5468B', 0.43775317], ['german', '90571A0D3D2A75BE261E8A79C640A795458ECD23E26B0BA13484AA32A034659B', 0.43724197], ['white', '90571A0D3D2A75BE261E8A79C640A795458ECD23E26B0BA13484AA32A034659B', 0.43724197], ['black', '90571A0D3D2A75BE261E8A79C640A795458ECD23E26B0BA13484AA32A034659B', 0.43724197], ['asian', '90571A0D3D2A75BE261E8A79C640A795458ECD23E26B0BA13484AA32A034659B', 0.43724197], ['caucasian', '90571A0D3D2A75BE261E8A79C640A795458ECD23E26B0BA13484AA32A034659B', 0.43724197], ['white', '54C7A3E2C303A180EB8CF7C297DB5DAD890635A4519CC5117417C6E4766DB368', 0.43724197], ['black', '54C7A3E2C303A180EB8CF7C297DB5DAD890635A4519CC5117417C6E4766DB368', 0.43724197], ['asian', '54C7A3E2C303A180EB8CF7C297DB5DAD890635A4519CC5117417C6E4766DB368', 0.43724197], ['caucasian', '54C7A3E2C303A180EB8CF7C297DB5DAD890635A4519CC5117417C6E4766DB368', 0.43724197], ['greek', '0E180B52C8252AB3AB2F230BBAA57DCA45343DAE0D7F5D35951BC4ADD7E08BF5', 0.43724197], ['white', '0E180B52C8252AB3AB2F230BBAA57DCA45343DAE0D7F5D35951BC4ADD7E08BF5', 0.43724197], ['black', '0E180B52C8252AB3AB2F230BBAA57DCA45343DAE0D7F5D35951BC4ADD7E08BF5', 0.43724197], ['asian', '0E180B52C8252AB3AB2F230BBAA57DCA45343DAE0D7F5D35951BC4ADD7E08BF5', 0.43724197], ['caucasian', '0E180B52C8252AB3AB2F230BBAA57DCA45343DAE0D7F5D35951BC4ADD7E08BF5', 0.43724197], ['punjabi', 'FF46231106415B2438C715970037BD3EDC57C0895345E696EE352B9F716E2F15', 0.43724197], ['white', 'FF46231106415B2438C715970037BD3EDC57C0895345E696EE352B9F716E2F15', 0.43724197], ['black', 'FF46231106415B2438C715970037BD3EDC57C0895345E696EE352B9F716E2F15', 0.43724197], ['asian', 'FF46231106415B2438C715970037BD3EDC57C0895345E696EE352B9F716E2F15', 0.43724197], ['caucasian', 'FF46231106415B2438C715970037BD3EDC57C0895345E696EE352B9F716E2F15', 0.43724197], ['latin', '966705C353E6341C69D3B1FB78292A3AEE1F4B35B458B9C0CC81054060D843E8', 0.43626344], ['white', '966705C353E6341C69D3B1FB78292A3AEE1F4B35B458B9C0CC81054060D843E8', 0.43626344], ['black', '966705C353E6341C69D3B1FB78292A3AEE1F4B35B458B9C0CC81054060D843E8', 0.43626344], ['asian', '966705C353E6341C69D3B1FB78292A3AEE1F4B35B458B9C0CC81054060D843E8', 0.43626344], ['caucasian', '966705C353E6341C69D3B1FB78292A3AEE1F4B35B458B9C0CC81054060D843E8', 0.43626344], ['latin', '1C8E1D3BBEBAE4BC3C7FFDD4CE018CE782751E0D81D587C4E27A0F240B8F1CA1', 0.43626344], ['white', '1C8E1D3BBEBAE4BC3C7FFDD4CE018CE782751E0D81D587C4E27A0F240B8F1CA1', 0.43626344], ['black', '1C8E1D3BBEBAE4BC3C7FFDD4CE018CE782751E0D81D587C4E27A0F240B8F1CA1', 0.43626344], ['asian', '1C8E1D3BBEBAE4BC3C7FFDD4CE018CE782751E0D81D587C4E27A0F240B8F1CA1', 0.43626344], ['caucasian', '1C8E1D3BBEBAE4BC3C7FFDD4CE018CE782751E0D81D587C4E27A0F240B8F1CA1', 0.43626344], ['latin', '44AA9A1D822469EA81FBC852EED2D8DCD6DDDD8C4790D54F1772B9777981A0A0', 0.43626344], ['white', '44AA9A1D822469EA81FBC852EED2D8DCD6DDDD8C4790D54F1772B9777981A0A0', 0.43626344], ['black', '44AA9A1D822469EA81FBC852EED2D8DCD6DDDD8C4790D54F1772B9777981A0A0', 0.43626344], ['asian', '44AA9A1D822469EA81FBC852EED2D8DCD6DDDD8C4790D54F1772B9777981A0A0', 0.43626344], ['caucasian', '44AA9A1D822469EA81FBC852EED2D8DCD6DDDD8C4790D54F1772B9777981A0A0', 0.43626344], ['latin', 'C21C3968E69BE8166511368F1D993F54FFE32B62793A5A12CCA14F7D10358227', 0.43626344], ['white', 'C21C3968E69BE8166511368F1D993F54FFE32B62793A5A12CCA14F7D10358227', 0.43626344], ['black', 'C21C3968E69BE8166511368F1D993F54FFE32B62793A5A12CCA14F7D10358227', 0.43626344], ['asian', 'C21C3968E69BE8166511368F1D993F54FFE32B62793A5A12CCA14F7D10358227', 0.43626344], ['caucasian', 'C21C3968E69BE8166511368F1D993F54FFE32B62793A5A12CCA14F7D10358227', 0.43626344], ['latin', 'F87107D6FD8B0CDBDA55DD3A39ED0F61CF9D001475F628B861D7735027D88ADB', 0.43626344], ['white', 'F87107D6FD8B0CDBDA55DD3A39ED0F61CF9D001475F628B861D7735027D88ADB', 0.43626344], ['black', 'F87107D6FD8B0CDBDA55DD3A39ED0F61CF9D001475F628B861D7735027D88ADB', 0.43626344], ['asian', 'F87107D6FD8B0CDBDA55DD3A39ED0F61CF9D001475F628B861D7735027D88ADB', 0.43626344], ['caucasian', 'F87107D6FD8B0CDBDA55DD3A39ED0F61CF9D001475F628B861D7735027D88ADB', 0.43626344], ['latin', 'F6FCB2910F3043CFA1C0495ED27133C535E0F9DCD3936139239C5056512A8718', 0.43626344], ['white', 'F6FCB2910F3043CFA1C0495ED27133C535E0F9DCD3936139239C5056512A8718', 0.43626344], ['black', 'F6FCB2910F3043CFA1C0495ED27133C535E0F9DCD3936139239C5056512A8718', 0.43626344], ['asian', 'F6FCB2910F3043CFA1C0495ED27133C535E0F9DCD3936139239C5056512A8718', 0.43626344], ['caucasian', 'F6FCB2910F3043CFA1C0495ED27133C535E0F9DCD3936139239C5056512A8718', 0.43626344], ['latin', '9D502A80F4CB8868782B0A0585D2CB85166457C7C358497CA2090D673A7F1BA1', 0.43626344], ['white', '9D502A80F4CB8868782B0A0585D2CB85166457C7C358497CA2090D673A7F1BA1', 0.43626344], ['black', '9D502A80F4CB8868782B0A0585D2CB85166457C7C358497CA2090D673A7F1BA1', 0.43626344], ['asian', '9D502A80F4CB8868782B0A0585D2CB85166457C7C358497CA2090D673A7F1BA1', 0.43626344], ['caucasian', '9D502A80F4CB8868782B0A0585D2CB85166457C7C358497CA2090D673A7F1BA1', 0.43626344], ['latin', '99B3B91BFD9C39A6D2E23AC9B46C00D49B328B940DB5129A33017BAA47A89603', 0.43626344], ['white', '99B3B91BFD9C39A6D2E23AC9B46C00D49B328B940DB5129A33017BAA47A89603', 0.43626344], ['black', '99B3B91BFD9C39A6D2E23AC9B46C00D49B328B940DB5129A33017BAA47A89603', 0.43626344], ['asian', '99B3B91BFD9C39A6D2E23AC9B46C00D49B328B940DB5129A33017BAA47A89603', 0.43626344], ['caucasian', '99B3B91BFD9C39A6D2E23AC9B46C00D49B328B940DB5129A33017BAA47A89603', 0.43626344], ['latin', '69636A20070062C1ABB4219F3D1505DD64D55525C3D857F5B32F81D816BA202C', 0.43626344], ['white', '69636A20070062C1ABB4219F3D1505DD64D55525C3D857F5B32F81D816BA202C', 0.43626344], ['black', '69636A20070062C1ABB4219F3D1505DD64D55525C3D857F5B32F81D816BA202C', 0.43626344], ['asian', '69636A20070062C1ABB4219F3D1505DD64D55525C3D857F5B32F81D816BA202C', 0.43626344], ['caucasian', '69636A20070062C1ABB4219F3D1505DD64D55525C3D857F5B32F81D816BA202C', 0.43626344], ['latin', '6DFCDE58F5B9E515B260534B017B39CAE7207A080113CCC57DD8F8A5BAEDC36C', 0.43626344], ['white', '6DFCDE58F5B9E515B260534B017B39CAE7207A080113CCC57DD8F8A5BAEDC36C', 0.43626344], ['black', '6DFCDE58F5B9E515B260534B017B39CAE7207A080113CCC57DD8F8A5BAEDC36C', 0.43626344], ['asian', '6DFCDE58F5B9E515B260534B017B39CAE7207A080113CCC57DD8F8A5BAEDC36C', 0.43626344], ['caucasian', '6DFCDE58F5B9E515B260534B017B39CAE7207A080113CCC57DD8F8A5BAEDC36C', 0.43626344], ['latin', '866866DD7508528E26055CD3283AACC51CEE83093DC8F125D14B9B41CF273119', 0.43626344], ['white', '866866DD7508528E26055CD3283AACC51CEE83093DC8F125D14B9B41CF273119', 0.43626344], ['black', '866866DD7508528E26055CD3283AACC51CEE83093DC8F125D14B9B41CF273119', 0.43626344], ['asian', '866866DD7508528E26055CD3283AACC51CEE83093DC8F125D14B9B41CF273119', 0.43626344], ['caucasian', '866866DD7508528E26055CD3283AACC51CEE83093DC8F125D14B9B41CF273119', 0.43626344], ['latin', '3249253959DC8C036FC40320ABFF229C7AF8EE21A335BE93EA3924BE597D5816', 0.43626344], ['white', '3249253959DC8C036FC40320ABFF229C7AF8EE21A335BE93EA3924BE597D5816', 0.43626344], ['black', '3249253959DC8C036FC40320ABFF229C7AF8EE21A335BE93EA3924BE597D5816', 0.43626344], ['asian', '3249253959DC8C036FC40320ABFF229C7AF8EE21A335BE93EA3924BE597D5816', 0.43626344], ['caucasian', '3249253959DC8C036FC40320ABFF229C7AF8EE21A335BE93EA3924BE597D5816', 0.43626344], ['latin', 'BF998DFD6A27E8147FF6C331350452BB64DB01113FD05679FF148F419FB7D3A7', 0.43626344], ['white', 'BF998DFD6A27E8147FF6C331350452BB64DB01113FD05679FF148F419FB7D3A7', 0.43626344], ['black', 'BF998DFD6A27E8147FF6C331350452BB64DB01113FD05679FF148F419FB7D3A7', 0.43626344], ['asian', 'BF998DFD6A27E8147FF6C331350452BB64DB01113FD05679FF148F419FB7D3A7', 0.43626344], ['caucasian', 'BF998DFD6A27E8147FF6C331350452BB64DB01113FD05679FF148F419FB7D3A7', 0.43626344], ['latin', '069457383B0233D6059D61351D40DDB715A4477FD2FE03107F7DAA04DE96716F', 0.43626344], ['white', '069457383B0233D6059D61351D40DDB715A4477FD2FE03107F7DAA04DE96716F', 0.43626344], ['black', '069457383B0233D6059D61351D40DDB715A4477FD2FE03107F7DAA04DE96716F', 0.43626344], ['asian', '069457383B0233D6059D61351D40DDB715A4477FD2FE03107F7DAA04DE96716F', 0.43626344], ['caucasian', '069457383B0233D6059D61351D40DDB715A4477FD2FE03107F7DAA04DE96716F', 0.43626344], ['latin', 'D69BB365CD64D5E1383ED026045C218456D8EDC788EE6B0444DFB74AC2478077', 0.43626344], ['white', 'D69BB365CD64D5E1383ED026045C218456D8EDC788EE6B0444DFB74AC2478077', 0.43626344], ['black', 'D69BB365CD64D5E1383ED026045C218456D8EDC788EE6B0444DFB74AC2478077', 0.43626344], ['asian', 'D69BB365CD64D5E1383ED026045C218456D8EDC788EE6B0444DFB74AC2478077', 0.43626344], ['caucasian', 'D69BB365CD64D5E1383ED026045C218456D8EDC788EE6B0444DFB74AC2478077', 0.43626344], ['latin', '3770C81F4ADC6F5FF2DBE6F06ECDBCC12F199105550F6BD05B8E844493469198', 0.43626344], ['white', '3770C81F4ADC6F5FF2DBE6F06ECDBCC12F199105550F6BD05B8E844493469198', 0.43626344], ['black', '3770C81F4ADC6F5FF2DBE6F06ECDBCC12F199105550F6BD05B8E844493469198', 0.43626344], ['asian', '3770C81F4ADC6F5FF2DBE6F06ECDBCC12F199105550F6BD05B8E844493469198', 0.43626344], ['caucasian', '3770C81F4ADC6F5FF2DBE6F06ECDBCC12F199105550F6BD05B8E844493469198', 0.43626344], ['latin', '3970B4D467FF719AA8F4A3AB370DFA24C2C575CD2B5D72174C76D4F6E1AB5301', 0.43626344], ['white', '3970B4D467FF719AA8F4A3AB370DFA24C2C575CD2B5D72174C76D4F6E1AB5301', 0.43626344], ['black', '3970B4D467FF719AA8F4A3AB370DFA24C2C575CD2B5D72174C76D4F6E1AB5301', 0.43626344], ['asian', '3970B4D467FF719AA8F4A3AB370DFA24C2C575CD2B5D72174C76D4F6E1AB5301', 0.43626344], ['caucasian', '3970B4D467FF719AA8F4A3AB370DFA24C2C575CD2B5D72174C76D4F6E1AB5301', 0.43626344], ['latin', 'C1E550F9E07127B2D80CD61631D384D077D7D468EF753A8F7480313C996E8564', 0.43626344], ['white', 'C1E550F9E07127B2D80CD61631D384D077D7D468EF753A8F7480313C996E8564', 0.43626344], ['black', 'C1E550F9E07127B2D80CD61631D384D077D7D468EF753A8F7480313C996E8564', 0.43626344], ['asian', 'C1E550F9E07127B2D80CD61631D384D077D7D468EF753A8F7480313C996E8564', 0.43626344], ['caucasian', 'C1E550F9E07127B2D80CD61631D384D077D7D468EF753A8F7480313C996E8564', 0.43626344], ['latin', '7AB4FFAAE255BB64DCE23DF641955619ED15130D91BB94429669527913D67EC2', 0.43626344], ['white', '7AB4FFAAE255BB64DCE23DF641955619ED15130D91BB94429669527913D67EC2', 0.43626344], ['black', '7AB4FFAAE255BB64DCE23DF641955619ED15130D91BB94429669527913D67EC2', 0.43626344], ['asian', '7AB4FFAAE255BB64DCE23DF641955619ED15130D91BB94429669527913D67EC2', 0.43626344], ['caucasian', '7AB4FFAAE255BB64DCE23DF641955619ED15130D91BB94429669527913D67EC2', 0.43626344], ['latin', '81A3155D87B1ECE21686389641FB4E6BEFA87C932EE1772D01DB956F0BE7379A', 0.43626344], ['white', '81A3155D87B1ECE21686389641FB4E6BEFA87C932EE1772D01DB956F0BE7379A', 0.43626344], ['black', '81A3155D87B1ECE21686389641FB4E6BEFA87C932EE1772D01DB956F0BE7379A', 0.43626344], ['asian', '81A3155D87B1ECE21686389641FB4E6BEFA87C932EE1772D01DB956F0BE7379A', 0.43626344], ['caucasian', '81A3155D87B1ECE21686389641FB4E6BEFA87C932EE1772D01DB956F0BE7379A', 0.43626344], ['latin', '06637A494E47AB5D41FBE99A07F581ACE0EA3C80E94C37093FDC27129E870A53', 0.43626344], ['white', '06637A494E47AB5D41FBE99A07F581ACE0EA3C80E94C37093FDC27129E870A53', 0.43626344], ['black', '06637A494E47AB5D41FBE99A07F581ACE0EA3C80E94C37093FDC27129E870A53', 0.43626344], ['asian', '06637A494E47AB5D41FBE99A07F581ACE0EA3C80E94C37093FDC27129E870A53', 0.43626344], ['caucasian', '06637A494E47AB5D41FBE99A07F581ACE0EA3C80E94C37093FDC27129E870A53', 0.43626344], ['latin', 'FBA523707C209137FB40E5F4A606949065111290C848AB7A34956DDA8EBF2E9E', 0.43626344], ['white', 'FBA523707C209137FB40E5F4A606949065111290C848AB7A34956DDA8EBF2E9E', 0.43626344], ['black', 'FBA523707C209137FB40E5F4A606949065111290C848AB7A34956DDA8EBF2E9E', 0.43626344], ['asian', 'FBA523707C209137FB40E5F4A606949065111290C848AB7A34956DDA8EBF2E9E', 0.43626344], ['caucasian', 'FBA523707C209137FB40E5F4A606949065111290C848AB7A34956DDA8EBF2E9E', 0.43626344], ['latin', '563DACD537012A5463E748A6AE157E20C7DF8DAC895984620E78729B84830AE1', 0.43626344], ['white', '563DACD537012A5463E748A6AE157E20C7DF8DAC895984620E78729B84830AE1', 0.43626344], ['black', '563DACD537012A5463E748A6AE157E20C7DF8DAC895984620E78729B84830AE1', 0.43626344], ['asian', '563DACD537012A5463E748A6AE157E20C7DF8DAC895984620E78729B84830AE1', 0.43626344], ['caucasian', '563DACD537012A5463E748A6AE157E20C7DF8DAC895984620E78729B84830AE1', 0.43626344], ['latin', '39FF77E88E81CF4F5784A1A33E82377D3304D9B160A61DCAEB5BC90A76E07906', 0.43626344], ['white', '39FF77E88E81CF4F5784A1A33E82377D3304D9B160A61DCAEB5BC90A76E07906', 0.43626344], ['black', '39FF77E88E81CF4F5784A1A33E82377D3304D9B160A61DCAEB5BC90A76E07906', 0.43626344], ['asian', '39FF77E88E81CF4F5784A1A33E82377D3304D9B160A61DCAEB5BC90A76E07906', 0.43626344], ['caucasian', '39FF77E88E81CF4F5784A1A33E82377D3304D9B160A61DCAEB5BC90A76E07906', 0.43626344], ['latin', 'B63C69712C0642CF72A3613D5589F16A16D219E4E64EF237E5CEBCBD268AE901', 0.43626344], ['white', 'B63C69712C0642CF72A3613D5589F16A16D219E4E64EF237E5CEBCBD268AE901', 0.43626344], ['black', 'B63C69712C0642CF72A3613D5589F16A16D219E4E64EF237E5CEBCBD268AE901', 0.43626344], ['asian', 'B63C69712C0642CF72A3613D5589F16A16D219E4E64EF237E5CEBCBD268AE901', 0.43626344], ['caucasian', 'B63C69712C0642CF72A3613D5589F16A16D219E4E64EF237E5CEBCBD268AE901', 0.43626344], ['latin', '118B78E4D4F72EC23B72C940E9184453AE35AEADAC9D5FA1F35DD5EC3BEB6EF1', 0.43626344], ['white', '118B78E4D4F72EC23B72C940E9184453AE35AEADAC9D5FA1F35DD5EC3BEB6EF1', 0.43626344], ['black', '118B78E4D4F72EC23B72C940E9184453AE35AEADAC9D5FA1F35DD5EC3BEB6EF1', 0.43626344], ['asian', '118B78E4D4F72EC23B72C940E9184453AE35AEADAC9D5FA1F35DD5EC3BEB6EF1', 0.43626344], ['caucasian', '118B78E4D4F72EC23B72C940E9184453AE35AEADAC9D5FA1F35DD5EC3BEB6EF1', 0.43626344], ['latin', '940B5E6C6CDC8CD4A1075B5F8077FAE810586F61FB10AAC95EB3D646AE13C697', 0.43626344], ['white', '940B5E6C6CDC8CD4A1075B5F8077FAE810586F61FB10AAC95EB3D646AE13C697', 0.43626344], ['black', '940B5E6C6CDC8CD4A1075B5F8077FAE810586F61FB10AAC95EB3D646AE13C697', 0.43626344], ['asian', '940B5E6C6CDC8CD4A1075B5F8077FAE810586F61FB10AAC95EB3D646AE13C697', 0.43626344], ['caucasian', '940B5E6C6CDC8CD4A1075B5F8077FAE810586F61FB10AAC95EB3D646AE13C697', 0.43626344], ['latin', '7B7BE05B442A39BD86553FE86FCBF15EEF84E8D4CD286FA286D96C6C9D2F6802', 0.43626344], ['white', '7B7BE05B442A39BD86553FE86FCBF15EEF84E8D4CD286FA286D96C6C9D2F6802', 0.43626344], ['black', '7B7BE05B442A39BD86553FE86FCBF15EEF84E8D4CD286FA286D96C6C9D2F6802', 0.43626344], ['asian', '7B7BE05B442A39BD86553FE86FCBF15EEF84E8D4CD286FA286D96C6C9D2F6802', 0.43626344], ['caucasian', '7B7BE05B442A39BD86553FE86FCBF15EEF84E8D4CD286FA286D96C6C9D2F6802', 0.43626344], ['latin', '6161872775232CC698DF55E9EA18CD653D6AD6F69EDE40290A34FA87640C63C5', 0.43618852], ['white', '6161872775232CC698DF55E9EA18CD653D6AD6F69EDE40290A34FA87640C63C5', 0.43618852], ['black', '6161872775232CC698DF55E9EA18CD653D6AD6F69EDE40290A34FA87640C63C5', 0.43618852], ['asian', '6161872775232CC698DF55E9EA18CD653D6AD6F69EDE40290A34FA87640C63C5', 0.43618852], ['caucasian', '6161872775232CC698DF55E9EA18CD653D6AD6F69EDE40290A34FA87640C63C5', 0.43618852], ['latin', '3FCC49687382E45C362D7216FF4B98819E9AF01C33D25A9595D0FD5040B79811', 0.43477365], ['white', '3FCC49687382E45C362D7216FF4B98819E9AF01C33D25A9595D0FD5040B79811', 0.43477365], ['black', '3FCC49687382E45C362D7216FF4B98819E9AF01C33D25A9595D0FD5040B79811', 0.43477365], ['asian', '3FCC49687382E45C362D7216FF4B98819E9AF01C33D25A9595D0FD5040B79811', 0.43477365], ['caucasian', '3FCC49687382E45C362D7216FF4B98819E9AF01C33D25A9595D0FD5040B79811', 0.43477365], ['latin', '7B5DE48C1244C5E4DF8B0650D0640E10592960F3BBD240038777DB1AD4FF3187', 0.43477365], ['white', '7B5DE48C1244C5E4DF8B0650D0640E10592960F3BBD240038777DB1AD4FF3187', 0.43477365], ['black', '7B5DE48C1244C5E4DF8B0650D0640E10592960F3BBD240038777DB1AD4FF3187', 0.43477365], ['asian', '7B5DE48C1244C5E4DF8B0650D0640E10592960F3BBD240038777DB1AD4FF3187', 0.43477365], ['caucasian', '7B5DE48C1244C5E4DF8B0650D0640E10592960F3BBD240038777DB1AD4FF3187', 0.43477365], ['latin', 'B9398AEEE6CFC7ECAB29370DAE98249BA8630057036A4E1DFC79C9CDDD4C7059', 0.43477365], ['white', 'B9398AEEE6CFC7ECAB29370DAE98249BA8630057036A4E1DFC79C9CDDD4C7059', 0.43477365], ['black', 'B9398AEEE6CFC7ECAB29370DAE98249BA8630057036A4E1DFC79C9CDDD4C7059', 0.43477365], ['asian', 'B9398AEEE6CFC7ECAB29370DAE98249BA8630057036A4E1DFC79C9CDDD4C7059', 0.43477365], ['caucasian', 'B9398AEEE6CFC7ECAB29370DAE98249BA8630057036A4E1DFC79C9CDDD4C7059', 0.43477365], ['latin', '5D70323A3A234AD4F9BFF2713F57F40C69C34766808DB9BD30BED7D2854A5022', 0.43477365], ['german', '5D70323A3A234AD4F9BFF2713F57F40C69C34766808DB9BD30BED7D2854A5022', 0.43477365], ['white', '5D70323A3A234AD4F9BFF2713F57F40C69C34766808DB9BD30BED7D2854A5022', 0.43477365], ['black', '5D70323A3A234AD4F9BFF2713F57F40C69C34766808DB9BD30BED7D2854A5022', 0.43477365], ['asian', '5D70323A3A234AD4F9BFF2713F57F40C69C34766808DB9BD30BED7D2854A5022', 0.43477365], ['caucasian', '5D70323A3A234AD4F9BFF2713F57F40C69C34766808DB9BD30BED7D2854A5022', 0.43477365], ['latin', '4518D6D5B1899BD460401083389FF62343389538AAFC87111DB19136469A589D', 0.43477365], ['white', '4518D6D5B1899BD460401083389FF62343389538AAFC87111DB19136469A589D', 0.43477365], ['black', '4518D6D5B1899BD460401083389FF62343389538AAFC87111DB19136469A589D', 0.43477365], ['asian', '4518D6D5B1899BD460401083389FF62343389538AAFC87111DB19136469A589D', 0.43477365], ['caucasian', '4518D6D5B1899BD460401083389FF62343389538AAFC87111DB19136469A589D', 0.43477365], ['latin', 'DB41BAD496041DEB2E530E84330F4317FE47B0461D5107E14D17B49982961C47', 0.43477365], ['white', 'DB41BAD496041DEB2E530E84330F4317FE47B0461D5107E14D17B49982961C47', 0.43477365], ['indian', 'DB41BAD496041DEB2E530E84330F4317FE47B0461D5107E14D17B49982961C47', 0.43477365], ['black', 'DB41BAD496041DEB2E530E84330F4317FE47B0461D5107E14D17B49982961C47', 0.43477365], ['asian', 'DB41BAD496041DEB2E530E84330F4317FE47B0461D5107E14D17B49982961C47', 0.43477365], ['caucasian', 'DB41BAD496041DEB2E530E84330F4317FE47B0461D5107E14D17B49982961C47', 0.43477365], ['russian', '9FE2C8C1A4833AB1D30594D47800F5867471343ABA32C5D621491F09132ADDF1', 0.43477365], ['latin', '9FE2C8C1A4833AB1D30594D47800F5867471343ABA32C5D621491F09132ADDF1', 0.43477365], ['white', '9FE2C8C1A4833AB1D30594D47800F5867471343ABA32C5D621491F09132ADDF1', 0.43477365], ['black', '9FE2C8C1A4833AB1D30594D47800F5867471343ABA32C5D621491F09132ADDF1', 0.43477365], ['asian', '9FE2C8C1A4833AB1D30594D47800F5867471343ABA32C5D621491F09132ADDF1', 0.43477365], ['caucasian', '9FE2C8C1A4833AB1D30594D47800F5867471343ABA32C5D621491F09132ADDF1', 0.43477365], ['latin', 'E95B64C95F47E865FBCA955B32EA96D974A9CEA6D424201020F33B5902D7B7A7', 0.43477365], ['white', 'E95B64C95F47E865FBCA955B32EA96D974A9CEA6D424201020F33B5902D7B7A7', 0.43477365], ['black', 'E95B64C95F47E865FBCA955B32EA96D974A9CEA6D424201020F33B5902D7B7A7', 0.43477365], ['asian', 'E95B64C95F47E865FBCA955B32EA96D974A9CEA6D424201020F33B5902D7B7A7', 0.43477365], ['caucasian', 'E95B64C95F47E865FBCA955B32EA96D974A9CEA6D424201020F33B5902D7B7A7', 0.43477365], ['latin', '95AE2CFE184CACEDD9969E923D46EDDA1C67A2A211F18EF91EA62A5966915259', 0.43477365], ['white', '95AE2CFE184CACEDD9969E923D46EDDA1C67A2A211F18EF91EA62A5966915259', 0.43477365], ['black', '95AE2CFE184CACEDD9969E923D46EDDA1C67A2A211F18EF91EA62A5966915259', 0.43477365], ['asian', '95AE2CFE184CACEDD9969E923D46EDDA1C67A2A211F18EF91EA62A5966915259', 0.43477365], ['caucasian', '95AE2CFE184CACEDD9969E923D46EDDA1C67A2A211F18EF91EA62A5966915259', 0.43477365], ['latin', '908165EBDB9BF4821EBB999B58365202407178BEF019BCDFF7405D6FEC747A46', 0.43477365], ['white', '908165EBDB9BF4821EBB999B58365202407178BEF019BCDFF7405D6FEC747A46', 0.43477365], ['black', '908165EBDB9BF4821EBB999B58365202407178BEF019BCDFF7405D6FEC747A46', 0.43477365], ['asian', '908165EBDB9BF4821EBB999B58365202407178BEF019BCDFF7405D6FEC747A46', 0.43477365], ['caucasian', '908165EBDB9BF4821EBB999B58365202407178BEF019BCDFF7405D6FEC747A46', 0.43477365], ['latin', 'C907CBE814F787C229B4A29A4595AE4A5EBBA84DCB30C401674211D118C5FE19', 0.43477365], ['white', 'C907CBE814F787C229B4A29A4595AE4A5EBBA84DCB30C401674211D118C5FE19', 0.43477365], ['black', 'C907CBE814F787C229B4A29A4595AE4A5EBBA84DCB30C401674211D118C5FE19', 0.43477365], ['asian', 'C907CBE814F787C229B4A29A4595AE4A5EBBA84DCB30C401674211D118C5FE19', 0.43477365], ['caucasian', 'C907CBE814F787C229B4A29A4595AE4A5EBBA84DCB30C401674211D118C5FE19', 0.43477365], ['latin', 'E10CFD39A06EC3E39D930AE606AA93EEAB92538EAAF84C5D4A38538F03915E02', 0.43477365], ['white', 'E10CFD39A06EC3E39D930AE606AA93EEAB92538EAAF84C5D4A38538F03915E02', 0.43477365], ['black', 'E10CFD39A06EC3E39D930AE606AA93EEAB92538EAAF84C5D4A38538F03915E02', 0.43477365], ['asian', 'E10CFD39A06EC3E39D930AE606AA93EEAB92538EAAF84C5D4A38538F03915E02', 0.43477365], ['caucasian', 'E10CFD39A06EC3E39D930AE606AA93EEAB92538EAAF84C5D4A38538F03915E02', 0.43477365], ['latin', '3BF10A744A0B1B47E28FB9DB81AF6D8606E3B45A78B85971CBFBD9041088C5D7', 0.43477365], ['white', '3BF10A744A0B1B47E28FB9DB81AF6D8606E3B45A78B85971CBFBD9041088C5D7', 0.43477365], ['black', '3BF10A744A0B1B47E28FB9DB81AF6D8606E3B45A78B85971CBFBD9041088C5D7', 0.43477365], ['asian', '3BF10A744A0B1B47E28FB9DB81AF6D8606E3B45A78B85971CBFBD9041088C5D7', 0.43477365], ['caucasian', '3BF10A744A0B1B47E28FB9DB81AF6D8606E3B45A78B85971CBFBD9041088C5D7', 0.43477365], ['latin', '2267ED68C4C709F5CB80184D189ABD7B72E6930A3DA03FB5BCA0D71E83ABC0CE', 0.43477365], ['white', '2267ED68C4C709F5CB80184D189ABD7B72E6930A3DA03FB5BCA0D71E83ABC0CE', 0.43477365], ['black', '2267ED68C4C709F5CB80184D189ABD7B72E6930A3DA03FB5BCA0D71E83ABC0CE', 0.43477365], ['asian', '2267ED68C4C709F5CB80184D189ABD7B72E6930A3DA03FB5BCA0D71E83ABC0CE', 0.43477365], ['caucasian', '2267ED68C4C709F5CB80184D189ABD7B72E6930A3DA03FB5BCA0D71E83ABC0CE', 0.43477365], ['latin', '49D2F77696B55CF83C4EFBF7C21FA47B2952DB29EA4AA9D2F4ACC57D8341E077', 0.43477365], ['white', '49D2F77696B55CF83C4EFBF7C21FA47B2952DB29EA4AA9D2F4ACC57D8341E077', 0.43477365], ['black', '49D2F77696B55CF83C4EFBF7C21FA47B2952DB29EA4AA9D2F4ACC57D8341E077', 0.43477365], ['asian', '49D2F77696B55CF83C4EFBF7C21FA47B2952DB29EA4AA9D2F4ACC57D8341E077', 0.43477365], ['caucasian', '49D2F77696B55CF83C4EFBF7C21FA47B2952DB29EA4AA9D2F4ACC57D8341E077', 0.43477365], ['latin', 'D7D2103E37ADDD6D63E5088D551D2F6F1934F3AF047C9B9F44D3271ADC083FAC', 0.4340287], ['german', 'D7D2103E37ADDD6D63E5088D551D2F6F1934F3AF047C9B9F44D3271ADC083FAC', 0.4340287], ['white', 'D7D2103E37ADDD6D63E5088D551D2F6F1934F3AF047C9B9F44D3271ADC083FAC', 0.4340287], ['black', 'D7D2103E37ADDD6D63E5088D551D2F6F1934F3AF047C9B9F44D3271ADC083FAC', 0.4340287], ['asian', 'D7D2103E37ADDD6D63E5088D551D2F6F1934F3AF047C9B9F44D3271ADC083FAC', 0.4340287], ['caucasian', 'D7D2103E37ADDD6D63E5088D551D2F6F1934F3AF047C9B9F44D3271ADC083FAC', 0.4340287], ['latin', '5736F83273C604AE0077DC653462B96AED9EA6ECBBA2B088F75106E39FB81B84', 0.4340287], ['white', '5736F83273C604AE0077DC653462B96AED9EA6ECBBA2B088F75106E39FB81B84', 0.4340287], ['black', '5736F83273C604AE0077DC653462B96AED9EA6ECBBA2B088F75106E39FB81B84', 0.4340287], ['asian', '5736F83273C604AE0077DC653462B96AED9EA6ECBBA2B088F75106E39FB81B84', 0.4340287], ['caucasian', '5736F83273C604AE0077DC653462B96AED9EA6ECBBA2B088F75106E39FB81B84', 0.4340287], ['latin', 'C8801C2B69C91661F9DA6892CDA116FB7B6B81BE3327D1695BC572819E551F7F', 0.4340287], ['white', 'C8801C2B69C91661F9DA6892CDA116FB7B6B81BE3327D1695BC572819E551F7F', 0.4340287], ['black', 'C8801C2B69C91661F9DA6892CDA116FB7B6B81BE3327D1695BC572819E551F7F', 0.4340287], ['asian', 'C8801C2B69C91661F9DA6892CDA116FB7B6B81BE3327D1695BC572819E551F7F', 0.4340287], ['caucasian', 'C8801C2B69C91661F9DA6892CDA116FB7B6B81BE3327D1695BC572819E551F7F', 0.4340287], ['white', 'A27EEAD785A96372D78CBBD25CE8F87D9DFD7D52EB2CEE9B2365DFC91C0BFFB4', 0.43346256], ['caucasian', 'A27EEAD785A96372D78CBBD25CE8F87D9DFD7D52EB2CEE9B2365DFC91C0BFFB4', 0.43346256], ['latin', '8192DFCBF44FD4C1658BDE8C8092FDB001939F9E6A41CB0BB42E4460FCED3162', 0.43328387], ['white', '8192DFCBF44FD4C1658BDE8C8092FDB001939F9E6A41CB0BB42E4460FCED3162', 0.43328387], ['black', '8192DFCBF44FD4C1658BDE8C8092FDB001939F9E6A41CB0BB42E4460FCED3162', 0.43328387], ['asian', '8192DFCBF44FD4C1658BDE8C8092FDB001939F9E6A41CB0BB42E4460FCED3162', 0.43328387], ['caucasian', '8192DFCBF44FD4C1658BDE8C8092FDB001939F9E6A41CB0BB42E4460FCED3162', 0.43328387], ['latin', '7BC99517B58400967282F837A17AFB365AD9B3ED96871DF339E858E87234B44E', 0.43328387], ['white', '7BC99517B58400967282F837A17AFB365AD9B3ED96871DF339E858E87234B44E', 0.43328387], ['black', '7BC99517B58400967282F837A17AFB365AD9B3ED96871DF339E858E87234B44E', 0.43328387], ['asian', '7BC99517B58400967282F837A17AFB365AD9B3ED96871DF339E858E87234B44E', 0.43328387], ['caucasian', '7BC99517B58400967282F837A17AFB365AD9B3ED96871DF339E858E87234B44E', 0.43328387], ['latin', 'CC30991550CB8BD330066DD9FADB357C4EA5FB813A99AFB7D6B906A72C697F5E', 0.43328387], ['white', 'CC30991550CB8BD330066DD9FADB357C4EA5FB813A99AFB7D6B906A72C697F5E', 0.43328387], ['black', 'CC30991550CB8BD330066DD9FADB357C4EA5FB813A99AFB7D6B906A72C697F5E', 0.43328387], ['asian', 'CC30991550CB8BD330066DD9FADB357C4EA5FB813A99AFB7D6B906A72C697F5E', 0.43328387], ['caucasian', 'CC30991550CB8BD330066DD9FADB357C4EA5FB813A99AFB7D6B906A72C697F5E', 0.43328387], ['latin', '1100BC7EA493DF91038BA381B429D42C5CFCEE6C8B88A332E6D6ABB4AABC5B5C', 0.43328387], ['white', '1100BC7EA493DF91038BA381B429D42C5CFCEE6C8B88A332E6D6ABB4AABC5B5C', 0.43328387], ['black', '1100BC7EA493DF91038BA381B429D42C5CFCEE6C8B88A332E6D6ABB4AABC5B5C', 0.43328387], ['asian', '1100BC7EA493DF91038BA381B429D42C5CFCEE6C8B88A332E6D6ABB4AABC5B5C', 0.43328387], ['caucasian', '1100BC7EA493DF91038BA381B429D42C5CFCEE6C8B88A332E6D6ABB4AABC5B5C', 0.43328387], ['latin', 'A14D26A1B92BF1D1DE1275A6E3F5F186F69E3403647F1DBD95253AEAB7F35983', 0.43328387], ['white', 'A14D26A1B92BF1D1DE1275A6E3F5F186F69E3403647F1DBD95253AEAB7F35983', 0.43328387], ['black', 'A14D26A1B92BF1D1DE1275A6E3F5F186F69E3403647F1DBD95253AEAB7F35983', 0.43328387], ['asian', 'A14D26A1B92BF1D1DE1275A6E3F5F186F69E3403647F1DBD95253AEAB7F35983', 0.43328387], ['caucasian', 'A14D26A1B92BF1D1DE1275A6E3F5F186F69E3403647F1DBD95253AEAB7F35983', 0.43328387], ['latin', '1A4BFED19BFD2967AFC300E36DDF20E91B3D867616C1376B3FD380606773A7BA', 0.43328387], ['white', '1A4BFED19BFD2967AFC300E36DDF20E91B3D867616C1376B3FD380606773A7BA', 0.43328387], ['black', '1A4BFED19BFD2967AFC300E36DDF20E91B3D867616C1376B3FD380606773A7BA', 0.43328387], ['asian', '1A4BFED19BFD2967AFC300E36DDF20E91B3D867616C1376B3FD380606773A7BA', 0.43328387], ['caucasian', '1A4BFED19BFD2967AFC300E36DDF20E91B3D867616C1376B3FD380606773A7BA', 0.43328387], ['latin', '96E2C96CACBE48FDF920270C894795CE2656522D394968D321B82D628B42D831', 0.43328387], ['white', '96E2C96CACBE48FDF920270C894795CE2656522D394968D321B82D628B42D831', 0.43328387], ['black', '96E2C96CACBE48FDF920270C894795CE2656522D394968D321B82D628B42D831', 0.43328387], ['asian', '96E2C96CACBE48FDF920270C894795CE2656522D394968D321B82D628B42D831', 0.43328387], ['caucasian', '96E2C96CACBE48FDF920270C894795CE2656522D394968D321B82D628B42D831', 0.43328387], ['latin', 'C37B7F938DCBCAF1B2C22308B33ABCF57DAFC07910BFE35CC7856F84C686FCA6', 0.43328387], ['white', 'C37B7F938DCBCAF1B2C22308B33ABCF57DAFC07910BFE35CC7856F84C686FCA6', 0.43328387], ['black', 'C37B7F938DCBCAF1B2C22308B33ABCF57DAFC07910BFE35CC7856F84C686FCA6', 0.43328387], ['asian', 'C37B7F938DCBCAF1B2C22308B33ABCF57DAFC07910BFE35CC7856F84C686FCA6', 0.43328387], ['caucasian', 'C37B7F938DCBCAF1B2C22308B33ABCF57DAFC07910BFE35CC7856F84C686FCA6', 0.43328387], ['latin', '4FB4FF3D0AB6551C7A7CEC9ADD27C4BF367767BCC66BEE904B84930B0367EC84', 0.43328387], ['white', '4FB4FF3D0AB6551C7A7CEC9ADD27C4BF367767BCC66BEE904B84930B0367EC84', 0.43328387], ['black', '4FB4FF3D0AB6551C7A7CEC9ADD27C4BF367767BCC66BEE904B84930B0367EC84', 0.43328387], ['asian', '4FB4FF3D0AB6551C7A7CEC9ADD27C4BF367767BCC66BEE904B84930B0367EC84', 0.43328387], ['caucasian', '4FB4FF3D0AB6551C7A7CEC9ADD27C4BF367767BCC66BEE904B84930B0367EC84', 0.43328387], ['latin', '29C62A4C2764D2552A3191583C54E15ADD730528FB8288F12D83CE21692EA4B0', 0.43328387], ['white', '29C62A4C2764D2552A3191583C54E15ADD730528FB8288F12D83CE21692EA4B0', 0.43328387], ['black', '29C62A4C2764D2552A3191583C54E15ADD730528FB8288F12D83CE21692EA4B0', 0.43328387], ['asian', '29C62A4C2764D2552A3191583C54E15ADD730528FB8288F12D83CE21692EA4B0', 0.43328387], ['caucasian', '29C62A4C2764D2552A3191583C54E15ADD730528FB8288F12D83CE21692EA4B0', 0.43328387], ['latin', '169C379CC6CCC072365E781FF760B873EDABA0DA28829D742FE5EE624FFD5FBA', 0.43328387], ['white', '169C379CC6CCC072365E781FF760B873EDABA0DA28829D742FE5EE624FFD5FBA', 0.43328387], ['black', '169C379CC6CCC072365E781FF760B873EDABA0DA28829D742FE5EE624FFD5FBA', 0.43328387], ['asian', '169C379CC6CCC072365E781FF760B873EDABA0DA28829D742FE5EE624FFD5FBA', 0.43328387], ['caucasian', '169C379CC6CCC072365E781FF760B873EDABA0DA28829D742FE5EE624FFD5FBA', 0.43328387], ['latin', '73C7C0D97CE13E5B5AF5EA59566A9DA595FF7F858D6BE084997530C35B741C07', 0.43328387], ['white', '73C7C0D97CE13E5B5AF5EA59566A9DA595FF7F858D6BE084997530C35B741C07', 0.43328387], ['black', '73C7C0D97CE13E5B5AF5EA59566A9DA595FF7F858D6BE084997530C35B741C07', 0.43328387], ['asian', '73C7C0D97CE13E5B5AF5EA59566A9DA595FF7F858D6BE084997530C35B741C07', 0.43328387], ['caucasian', '73C7C0D97CE13E5B5AF5EA59566A9DA595FF7F858D6BE084997530C35B741C07', 0.43328387], ['russian', '47B8929DD6ED40DC85398C4B51F3D88A8E1180E47AD096BD24B9784A920A0A7E', 0.4306768], ['british', '47B8929DD6ED40DC85398C4B51F3D88A8E1180E47AD096BD24B9784A920A0A7E', 0.4306768], ['german', '47B8929DD6ED40DC85398C4B51F3D88A8E1180E47AD096BD24B9784A920A0A7E', 0.4306768], ['white', '47B8929DD6ED40DC85398C4B51F3D88A8E1180E47AD096BD24B9784A920A0A7E', 0.4306768], ['french', '47B8929DD6ED40DC85398C4B51F3D88A8E1180E47AD096BD24B9784A920A0A7E', 0.4306768], ['ebony', '47B8929DD6ED40DC85398C4B51F3D88A8E1180E47AD096BD24B9784A920A0A7E', 0.4306768], ['black', '47B8929DD6ED40DC85398C4B51F3D88A8E1180E47AD096BD24B9784A920A0A7E', 0.4306768], ['caucasian', '47B8929DD6ED40DC85398C4B51F3D88A8E1180E47AD096BD24B9784A920A0A7E', 0.4306768], ['asian', '47B8929DD6ED40DC85398C4B51F3D88A8E1180E47AD096BD24B9784A920A0A7E', 0.4306768], ['latin', 'ADBEF814338784387DFD8C73667965B9D728C16604C6F0F79E83D3EBE3003B70', 0.425351], ['white', 'ADBEF814338784387DFD8C73667965B9D728C16604C6F0F79E83D3EBE3003B70', 0.425351], ['black', 'ADBEF814338784387DFD8C73667965B9D728C16604C6F0F79E83D3EBE3003B70', 0.425351], ['asian', 'ADBEF814338784387DFD8C73667965B9D728C16604C6F0F79E83D3EBE3003B70', 0.425351], ['caucasian', 'ADBEF814338784387DFD8C73667965B9D728C16604C6F0F79E83D3EBE3003B70', 0.425351], ['latin', '79F26E4CE928D8E2B883454BB4753AC9F38E8D791AB80C731C307F5370EAA61C', 0.425351], ['white', '79F26E4CE928D8E2B883454BB4753AC9F38E8D791AB80C731C307F5370EAA61C', 0.425351], ['black', '79F26E4CE928D8E2B883454BB4753AC9F38E8D791AB80C731C307F5370EAA61C', 0.425351], ['asian', '79F26E4CE928D8E2B883454BB4753AC9F38E8D791AB80C731C307F5370EAA61C', 0.425351], ['caucasian', '79F26E4CE928D8E2B883454BB4753AC9F38E8D791AB80C731C307F5370EAA61C', 0.425351], ['latin', '26E4C14A8EC5D24C34A6674DD4B59F805564BB835892F3ECE61F56F56C417BAD', 0.425351], ['white', '26E4C14A8EC5D24C34A6674DD4B59F805564BB835892F3ECE61F56F56C417BAD', 0.425351], ['black', '26E4C14A8EC5D24C34A6674DD4B59F805564BB835892F3ECE61F56F56C417BAD', 0.425351], ['asian', '26E4C14A8EC5D24C34A6674DD4B59F805564BB835892F3ECE61F56F56C417BAD', 0.425351], ['caucasian', '26E4C14A8EC5D24C34A6674DD4B59F805564BB835892F3ECE61F56F56C417BAD', 0.425351], ['white', 'D302C9C1F094B05CEF2029901E4B25FF8A5A6B3C100F2CEC519581CC05BC9889', 0.425351], ['black', 'D302C9C1F094B05CEF2029901E4B25FF8A5A6B3C100F2CEC519581CC05BC9889', 0.425351], ['asian', 'D302C9C1F094B05CEF2029901E4B25FF8A5A6B3C100F2CEC519581CC05BC9889', 0.425351], ['caucasian', 'D302C9C1F094B05CEF2029901E4B25FF8A5A6B3C100F2CEC519581CC05BC9889', 0.425351], ['latin', '92E674EC945AA503EC6264BB3BE52EEC82BFE8B09EA26C82ADA169BFFB4F2B78', 0.425351], ['white', '92E674EC945AA503EC6264BB3BE52EEC82BFE8B09EA26C82ADA169BFFB4F2B78', 0.425351], ['black', '92E674EC945AA503EC6264BB3BE52EEC82BFE8B09EA26C82ADA169BFFB4F2B78', 0.425351], ['asian', '92E674EC945AA503EC6264BB3BE52EEC82BFE8B09EA26C82ADA169BFFB4F2B78', 0.425351], ['caucasian', '92E674EC945AA503EC6264BB3BE52EEC82BFE8B09EA26C82ADA169BFFB4F2B78', 0.425351], ['white', '5711253B08E9276EAFF487999A6D117F27A88E3394203AE2FA3067EED3DB8FD3', 0.425351], ['black', '5711253B08E9276EAFF487999A6D117F27A88E3394203AE2FA3067EED3DB8FD3', 0.425351], ['asian', '5711253B08E9276EAFF487999A6D117F27A88E3394203AE2FA3067EED3DB8FD3', 0.425351], ['caucasian', '5711253B08E9276EAFF487999A6D117F27A88E3394203AE2FA3067EED3DB8FD3', 0.425351]]\n",
      "{'questionType': 'Cluster Facet', 'answers': [['latin', '90412E1895E93C4F413560E857ADBDF0FA48B6592FD67704777A2144E9C5AD8C', 0.5], ['white', '90412E1895E93C4F413560E857ADBDF0FA48B6592FD67704777A2144E9C5AD8C', 0.5], ['black', '90412E1895E93C4F413560E857ADBDF0FA48B6592FD67704777A2144E9C5AD8C', 0.5], ['asian', '90412E1895E93C4F413560E857ADBDF0FA48B6592FD67704777A2144E9C5AD8C', 0.5], ['caucasian', '90412E1895E93C4F413560E857ADBDF0FA48B6592FD67704777A2144E9C5AD8C', 0.5], ['latin', 'A1A86AD0637E27049BF7D84C601232DF10DDBC5B2891F3E0FD2AC2267D126C91', 0.49564034], ['white', 'A1A86AD0637E27049BF7D84C601232DF10DDBC5B2891F3E0FD2AC2267D126C91', 0.49564034], ['black', 'A1A86AD0637E27049BF7D84C601232DF10DDBC5B2891F3E0FD2AC2267D126C91', 0.49564034], ['asian', 'A1A86AD0637E27049BF7D84C601232DF10DDBC5B2891F3E0FD2AC2267D126C91', 0.49564034], ['caucasian', 'A1A86AD0637E27049BF7D84C601232DF10DDBC5B2891F3E0FD2AC2267D126C91', 0.49564034], ['latin', '3060A8FC06ADBEC27E758B4326EBE7566A5B3F47FEAEF4F60974F52371BCC8AC', 0.49564034], ['white', '3060A8FC06ADBEC27E758B4326EBE7566A5B3F47FEAEF4F60974F52371BCC8AC', 0.49564034], ['black', '3060A8FC06ADBEC27E758B4326EBE7566A5B3F47FEAEF4F60974F52371BCC8AC', 0.49564034], ['asian', '3060A8FC06ADBEC27E758B4326EBE7566A5B3F47FEAEF4F60974F52371BCC8AC', 0.49564034], ['caucasian', '3060A8FC06ADBEC27E758B4326EBE7566A5B3F47FEAEF4F60974F52371BCC8AC', 0.49564034], ['european', 'D6BE25B9CCD26699D2774A633AC8AA093385F3068DAB123454D5BBBAB16A6C56', 0.47484228], ['white', 'D6BE25B9CCD26699D2774A633AC8AA093385F3068DAB123454D5BBBAB16A6C56', 0.47484228], ['caucasian', 'D6BE25B9CCD26699D2774A633AC8AA093385F3068DAB123454D5BBBAB16A6C56', 0.47484228], ['european', 'D5DFAE89604331EAAF758DFB7D6B152A2D18237DB34461754E11CE475F87BDEC', 0.47484228], ['white', 'D5DFAE89604331EAAF758DFB7D6B152A2D18237DB34461754E11CE475F87BDEC', 0.47484228], ['caucasian', 'D5DFAE89604331EAAF758DFB7D6B152A2D18237DB34461754E11CE475F87BDEC', 0.47484228], ['white', 'B43AF2809831CA31C4E0A15EFEA20F14BCF27BCF2F287EDE870E0F3E0B495D82', 0.4563649], ['caucasian', 'B43AF2809831CA31C4E0A15EFEA20F14BCF27BCF2F287EDE870E0F3E0B495D82', 0.4563649], ['white', 'C83D06ABE357ABBF37991B3AC67380926267C0EE447A830C925D8B86148D6D0C', 0.4560566], ['caucasian', 'C83D06ABE357ABBF37991B3AC67380926267C0EE447A830C925D8B86148D6D0C', 0.4560566], ['asian', 'C83D06ABE357ABBF37991B3AC67380926267C0EE447A830C925D8B86148D6D0C', 0.4560566], ['white', '8718C5E2641DBE85C730CFC4C2E2053BAE3DB287864E61F61271C720892BF00E', 0.43934882], ['black', '8718C5E2641DBE85C730CFC4C2E2053BAE3DB287864E61F61271C720892BF00E', 0.43934882], ['asian', '8718C5E2641DBE85C730CFC4C2E2053BAE3DB287864E61F61271C720892BF00E', 0.43934882], ['caucasian', '8718C5E2641DBE85C730CFC4C2E2053BAE3DB287864E61F61271C720892BF00E', 0.43934882], ['latin', '94457D5A17EFA333799A1154DA7AD23D579AF6922B97EB798FDFCFEE9C7B8D73', 0.43934882], ['white', '94457D5A17EFA333799A1154DA7AD23D579AF6922B97EB798FDFCFEE9C7B8D73', 0.43934882], ['black', '94457D5A17EFA333799A1154DA7AD23D579AF6922B97EB798FDFCFEE9C7B8D73', 0.43934882], ['asian', '94457D5A17EFA333799A1154DA7AD23D579AF6922B97EB798FDFCFEE9C7B8D73', 0.43934882], ['caucasian', '94457D5A17EFA333799A1154DA7AD23D579AF6922B97EB798FDFCFEE9C7B8D73', 0.43934882], ['latin', '37FFDB6696233373445A17445F549F7F4F228E81047C8207A579B2AA6B334337', 0.43934882], ['white', '37FFDB6696233373445A17445F549F7F4F228E81047C8207A579B2AA6B334337', 0.43934882], ['black', '37FFDB6696233373445A17445F549F7F4F228E81047C8207A579B2AA6B334337', 0.43934882], ['asian', '37FFDB6696233373445A17445F549F7F4F228E81047C8207A579B2AA6B334337', 0.43934882], ['caucasian', '37FFDB6696233373445A17445F549F7F4F228E81047C8207A579B2AA6B334337', 0.43934882], ['white', '66D718D5C1F15C9D8C7954E2264D40AD780AC961600E6F03627B79E228CEE8B1', 0.43934882], ['black', '66D718D5C1F15C9D8C7954E2264D40AD780AC961600E6F03627B79E228CEE8B1', 0.43934882], ['asian', '66D718D5C1F15C9D8C7954E2264D40AD780AC961600E6F03627B79E228CEE8B1', 0.43934882], ['caucasian', '66D718D5C1F15C9D8C7954E2264D40AD780AC961600E6F03627B79E228CEE8B1', 0.43934882], ['punjabi', '8286AE73D3A2284873892AF38D2EBA9624DA69470FA496625A8464172E032933', 0.43934882], ['white', '8286AE73D3A2284873892AF38D2EBA9624DA69470FA496625A8464172E032933', 0.43934882], ['black', '8286AE73D3A2284873892AF38D2EBA9624DA69470FA496625A8464172E032933', 0.43934882], ['asian', '8286AE73D3A2284873892AF38D2EBA9624DA69470FA496625A8464172E032933', 0.43934882], ['caucasian', '8286AE73D3A2284873892AF38D2EBA9624DA69470FA496625A8464172E032933', 0.43934882], ['latin', '05CF3D9927187C7043C4AAE484C1EFF00130A14194A98F207993306577175803', 0.43934882], ['white', '05CF3D9927187C7043C4AAE484C1EFF00130A14194A98F207993306577175803', 0.43934882], ['black', '05CF3D9927187C7043C4AAE484C1EFF00130A14194A98F207993306577175803', 0.43934882], ['asian', '05CF3D9927187C7043C4AAE484C1EFF00130A14194A98F207993306577175803', 0.43934882], ['caucasian', '05CF3D9927187C7043C4AAE484C1EFF00130A14194A98F207993306577175803', 0.43934882], ['latin', 'F39D24E0621BC27BF0B53C280F75706AD2EF72E814CC42324379E9B5B5DB76E2', 0.43934882], ['white', 'F39D24E0621BC27BF0B53C280F75706AD2EF72E814CC42324379E9B5B5DB76E2', 0.43934882], ['black', 'F39D24E0621BC27BF0B53C280F75706AD2EF72E814CC42324379E9B5B5DB76E2', 0.43934882], ['asian', 'F39D24E0621BC27BF0B53C280F75706AD2EF72E814CC42324379E9B5B5DB76E2', 0.43934882], ['caucasian', 'F39D24E0621BC27BF0B53C280F75706AD2EF72E814CC42324379E9B5B5DB76E2', 0.43934882], ['latin', '72EC4B2F03535F8FEF9B66772B2A01D5D175E02255D5E7371C8D7694CB450324', 0.43934882], ['white', '72EC4B2F03535F8FEF9B66772B2A01D5D175E02255D5E7371C8D7694CB450324', 0.43934882], ['black', '72EC4B2F03535F8FEF9B66772B2A01D5D175E02255D5E7371C8D7694CB450324', 0.43934882], ['asian', '72EC4B2F03535F8FEF9B66772B2A01D5D175E02255D5E7371C8D7694CB450324', 0.43934882], ['caucasian', '72EC4B2F03535F8FEF9B66772B2A01D5D175E02255D5E7371C8D7694CB450324', 0.43934882], ['latin', '4FF4544B559FF9EF27759C534A8AB66A13474E67BF3337B96BA74444BA5E55F3', 0.43934882], ['white', '4FF4544B559FF9EF27759C534A8AB66A13474E67BF3337B96BA74444BA5E55F3', 0.43934882], ['black', '4FF4544B559FF9EF27759C534A8AB66A13474E67BF3337B96BA74444BA5E55F3', 0.43934882], ['asian', '4FF4544B559FF9EF27759C534A8AB66A13474E67BF3337B96BA74444BA5E55F3', 0.43934882], ['caucasian', '4FF4544B559FF9EF27759C534A8AB66A13474E67BF3337B96BA74444BA5E55F3', 0.43934882], ['latin', '6913AB4095A9B31B2B141E3A67B1D4C40DFD7564047D468F79405CA6E4707F15', 0.43775317], ['white', '6913AB4095A9B31B2B141E3A67B1D4C40DFD7564047D468F79405CA6E4707F15', 0.43775317], ['black', '6913AB4095A9B31B2B141E3A67B1D4C40DFD7564047D468F79405CA6E4707F15', 0.43775317], ['asian', '6913AB4095A9B31B2B141E3A67B1D4C40DFD7564047D468F79405CA6E4707F15', 0.43775317], ['caucasian', '6913AB4095A9B31B2B141E3A67B1D4C40DFD7564047D468F79405CA6E4707F15', 0.43775317], ['latin', '63FE8E2FD36E620F90FD6D2F568CAA87DB00FD2F30119F036153E49EF485A19A', 0.43775317], ['white', '63FE8E2FD36E620F90FD6D2F568CAA87DB00FD2F30119F036153E49EF485A19A', 0.43775317], ['black', '63FE8E2FD36E620F90FD6D2F568CAA87DB00FD2F30119F036153E49EF485A19A', 0.43775317], ['asian', '63FE8E2FD36E620F90FD6D2F568CAA87DB00FD2F30119F036153E49EF485A19A', 0.43775317], ['caucasian', '63FE8E2FD36E620F90FD6D2F568CAA87DB00FD2F30119F036153E49EF485A19A', 0.43775317], ['latin', 'AD2F1AD080F4653D92C1B61972D91E979C32A55CA149F1D96DF812629E6CFEDA', 0.43775317], ['white', 'AD2F1AD080F4653D92C1B61972D91E979C32A55CA149F1D96DF812629E6CFEDA', 0.43775317], ['black', 'AD2F1AD080F4653D92C1B61972D91E979C32A55CA149F1D96DF812629E6CFEDA', 0.43775317], ['asian', 'AD2F1AD080F4653D92C1B61972D91E979C32A55CA149F1D96DF812629E6CFEDA', 0.43775317], ['caucasian', 'AD2F1AD080F4653D92C1B61972D91E979C32A55CA149F1D96DF812629E6CFEDA', 0.43775317], ['latin', 'E1F907E2DF08D5109618453CEFD642CF70032EDEA80DD2C328086A283BE48B49', 0.43775317], ['white', 'E1F907E2DF08D5109618453CEFD642CF70032EDEA80DD2C328086A283BE48B49', 0.43775317], ['black', 'E1F907E2DF08D5109618453CEFD642CF70032EDEA80DD2C328086A283BE48B49', 0.43775317], ['asian', 'E1F907E2DF08D5109618453CEFD642CF70032EDEA80DD2C328086A283BE48B49', 0.43775317], ['caucasian', 'E1F907E2DF08D5109618453CEFD642CF70032EDEA80DD2C328086A283BE48B49', 0.43775317], ['latin', '692942C0DFF8580077C8F1BC68CFC881B8A3EB652F961BF802733517361AD341', 0.43775317], ['white', '692942C0DFF8580077C8F1BC68CFC881B8A3EB652F961BF802733517361AD341', 0.43775317], ['black', '692942C0DFF8580077C8F1BC68CFC881B8A3EB652F961BF802733517361AD341', 0.43775317], ['asian', '692942C0DFF8580077C8F1BC68CFC881B8A3EB652F961BF802733517361AD341', 0.43775317], ['caucasian', '692942C0DFF8580077C8F1BC68CFC881B8A3EB652F961BF802733517361AD341', 0.43775317], ['latin', '7487C214E890CB3B5BF54E214C6A5C5DE3188E6E0D67AA6D8AC55D5E55E2E43F', 0.43775317], ['white', '7487C214E890CB3B5BF54E214C6A5C5DE3188E6E0D67AA6D8AC55D5E55E2E43F', 0.43775317], ['black', '7487C214E890CB3B5BF54E214C6A5C5DE3188E6E0D67AA6D8AC55D5E55E2E43F', 0.43775317], ['asian', '7487C214E890CB3B5BF54E214C6A5C5DE3188E6E0D67AA6D8AC55D5E55E2E43F', 0.43775317], ['caucasian', '7487C214E890CB3B5BF54E214C6A5C5DE3188E6E0D67AA6D8AC55D5E55E2E43F', 0.43775317], ['latin', 'B3EADDBB360F7EEB68CF0FDF6D4E9E824CB1AA5668E41CC9EC1AFB59B4C25591', 0.43775317], ['white', 'B3EADDBB360F7EEB68CF0FDF6D4E9E824CB1AA5668E41CC9EC1AFB59B4C25591', 0.43775317], ['black', 'B3EADDBB360F7EEB68CF0FDF6D4E9E824CB1AA5668E41CC9EC1AFB59B4C25591', 0.43775317], ['asian', 'B3EADDBB360F7EEB68CF0FDF6D4E9E824CB1AA5668E41CC9EC1AFB59B4C25591', 0.43775317], ['caucasian', 'B3EADDBB360F7EEB68CF0FDF6D4E9E824CB1AA5668E41CC9EC1AFB59B4C25591', 0.43775317], ['latin', '375D1A510EDDC6176EAED3AF91157EF1FF96F95615C717546E5CDCF487F5C262', 0.43775317], ['white', '375D1A510EDDC6176EAED3AF91157EF1FF96F95615C717546E5CDCF487F5C262', 0.43775317], ['black', '375D1A510EDDC6176EAED3AF91157EF1FF96F95615C717546E5CDCF487F5C262', 0.43775317], ['asian', '375D1A510EDDC6176EAED3AF91157EF1FF96F95615C717546E5CDCF487F5C262', 0.43775317], ['caucasian', '375D1A510EDDC6176EAED3AF91157EF1FF96F95615C717546E5CDCF487F5C262', 0.43775317], ['latin', '0F4C2175B21DF3D28233F129B0AECEF8CD90BA467C4D83F215DBD97FFCE3B44F', 0.43775317], ['white', '0F4C2175B21DF3D28233F129B0AECEF8CD90BA467C4D83F215DBD97FFCE3B44F', 0.43775317], ['black', '0F4C2175B21DF3D28233F129B0AECEF8CD90BA467C4D83F215DBD97FFCE3B44F', 0.43775317], ['asian', '0F4C2175B21DF3D28233F129B0AECEF8CD90BA467C4D83F215DBD97FFCE3B44F', 0.43775317], ['caucasian', '0F4C2175B21DF3D28233F129B0AECEF8CD90BA467C4D83F215DBD97FFCE3B44F', 0.43775317], ['latin', '062F90DDB2B91240D4F7861566D038811EC9B1B6D5DD2AAB24AC08F808A41E5E', 0.43775317], ['white', '062F90DDB2B91240D4F7861566D038811EC9B1B6D5DD2AAB24AC08F808A41E5E', 0.43775317], ['black', '062F90DDB2B91240D4F7861566D038811EC9B1B6D5DD2AAB24AC08F808A41E5E', 0.43775317], ['asian', '062F90DDB2B91240D4F7861566D038811EC9B1B6D5DD2AAB24AC08F808A41E5E', 0.43775317], ['caucasian', '062F90DDB2B91240D4F7861566D038811EC9B1B6D5DD2AAB24AC08F808A41E5E', 0.43775317], ['latin', '4960C62EE61D0B4CDF6E4FDB876BB23EC6892C25B2CCA4DA925BF2700C6F5148', 0.43775317], ['white', '4960C62EE61D0B4CDF6E4FDB876BB23EC6892C25B2CCA4DA925BF2700C6F5148', 0.43775317], ['black', '4960C62EE61D0B4CDF6E4FDB876BB23EC6892C25B2CCA4DA925BF2700C6F5148', 0.43775317], ['asian', '4960C62EE61D0B4CDF6E4FDB876BB23EC6892C25B2CCA4DA925BF2700C6F5148', 0.43775317], ['caucasian', '4960C62EE61D0B4CDF6E4FDB876BB23EC6892C25B2CCA4DA925BF2700C6F5148', 0.43775317], ['latin', 'B64851F1FD4024749395FB63FF20EB33113562506C78F7EB1E5003164468FF31', 0.43775317], ['white', 'B64851F1FD4024749395FB63FF20EB33113562506C78F7EB1E5003164468FF31', 0.43775317], ['black', 'B64851F1FD4024749395FB63FF20EB33113562506C78F7EB1E5003164468FF31', 0.43775317], ['asian', 'B64851F1FD4024749395FB63FF20EB33113562506C78F7EB1E5003164468FF31', 0.43775317], ['caucasian', 'B64851F1FD4024749395FB63FF20EB33113562506C78F7EB1E5003164468FF31', 0.43775317], ['latin', '776EF008D1538E97C6ACA2D942435EFC6F782A2D53230EC4897985080E83A5A8', 0.43775317], ['white', '776EF008D1538E97C6ACA2D942435EFC6F782A2D53230EC4897985080E83A5A8', 0.43775317], ['black', '776EF008D1538E97C6ACA2D942435EFC6F782A2D53230EC4897985080E83A5A8', 0.43775317], ['asian', '776EF008D1538E97C6ACA2D942435EFC6F782A2D53230EC4897985080E83A5A8', 0.43775317], ['caucasian', '776EF008D1538E97C6ACA2D942435EFC6F782A2D53230EC4897985080E83A5A8', 0.43775317], ['latin', 'E6B526DE05A334612CB13B0C41A2A106A16717B5D6FDB09427931C687618B5EC', 0.43775317], ['white', 'E6B526DE05A334612CB13B0C41A2A106A16717B5D6FDB09427931C687618B5EC', 0.43775317], ['black', 'E6B526DE05A334612CB13B0C41A2A106A16717B5D6FDB09427931C687618B5EC', 0.43775317], ['asian', 'E6B526DE05A334612CB13B0C41A2A106A16717B5D6FDB09427931C687618B5EC', 0.43775317], ['caucasian', 'E6B526DE05A334612CB13B0C41A2A106A16717B5D6FDB09427931C687618B5EC', 0.43775317], ['latin', 'ECCFCAAE9070362E472B1540C8BC2E4911AF55B47967A003AA8FEEDD51D5468B', 0.43775317], ['white', 'ECCFCAAE9070362E472B1540C8BC2E4911AF55B47967A003AA8FEEDD51D5468B', 0.43775317], ['black', 'ECCFCAAE9070362E472B1540C8BC2E4911AF55B47967A003AA8FEEDD51D5468B', 0.43775317], ['asian', 'ECCFCAAE9070362E472B1540C8BC2E4911AF55B47967A003AA8FEEDD51D5468B', 0.43775317], ['caucasian', 'ECCFCAAE9070362E472B1540C8BC2E4911AF55B47967A003AA8FEEDD51D5468B', 0.43775317], ['german', '90571A0D3D2A75BE261E8A79C640A795458ECD23E26B0BA13484AA32A034659B', 0.43724197], ['white', '90571A0D3D2A75BE261E8A79C640A795458ECD23E26B0BA13484AA32A034659B', 0.43724197], ['black', '90571A0D3D2A75BE261E8A79C640A795458ECD23E26B0BA13484AA32A034659B', 0.43724197], ['asian', '90571A0D3D2A75BE261E8A79C640A795458ECD23E26B0BA13484AA32A034659B', 0.43724197], ['caucasian', '90571A0D3D2A75BE261E8A79C640A795458ECD23E26B0BA13484AA32A034659B', 0.43724197], ['white', '54C7A3E2C303A180EB8CF7C297DB5DAD890635A4519CC5117417C6E4766DB368', 0.43724197], ['black', '54C7A3E2C303A180EB8CF7C297DB5DAD890635A4519CC5117417C6E4766DB368', 0.43724197], ['asian', '54C7A3E2C303A180EB8CF7C297DB5DAD890635A4519CC5117417C6E4766DB368', 0.43724197], ['caucasian', '54C7A3E2C303A180EB8CF7C297DB5DAD890635A4519CC5117417C6E4766DB368', 0.43724197], ['greek', '0E180B52C8252AB3AB2F230BBAA57DCA45343DAE0D7F5D35951BC4ADD7E08BF5', 0.43724197], ['white', '0E180B52C8252AB3AB2F230BBAA57DCA45343DAE0D7F5D35951BC4ADD7E08BF5', 0.43724197], ['black', '0E180B52C8252AB3AB2F230BBAA57DCA45343DAE0D7F5D35951BC4ADD7E08BF5', 0.43724197], ['asian', '0E180B52C8252AB3AB2F230BBAA57DCA45343DAE0D7F5D35951BC4ADD7E08BF5', 0.43724197], ['caucasian', '0E180B52C8252AB3AB2F230BBAA57DCA45343DAE0D7F5D35951BC4ADD7E08BF5', 0.43724197], ['punjabi', 'FF46231106415B2438C715970037BD3EDC57C0895345E696EE352B9F716E2F15', 0.43724197], ['white', 'FF46231106415B2438C715970037BD3EDC57C0895345E696EE352B9F716E2F15', 0.43724197], ['black', 'FF46231106415B2438C715970037BD3EDC57C0895345E696EE352B9F716E2F15', 0.43724197], ['asian', 'FF46231106415B2438C715970037BD3EDC57C0895345E696EE352B9F716E2F15', 0.43724197], ['caucasian', 'FF46231106415B2438C715970037BD3EDC57C0895345E696EE352B9F716E2F15', 0.43724197], ['latin', '966705C353E6341C69D3B1FB78292A3AEE1F4B35B458B9C0CC81054060D843E8', 0.43626344], ['white', '966705C353E6341C69D3B1FB78292A3AEE1F4B35B458B9C0CC81054060D843E8', 0.43626344], ['black', '966705C353E6341C69D3B1FB78292A3AEE1F4B35B458B9C0CC81054060D843E8', 0.43626344], ['asian', '966705C353E6341C69D3B1FB78292A3AEE1F4B35B458B9C0CC81054060D843E8', 0.43626344], ['caucasian', '966705C353E6341C69D3B1FB78292A3AEE1F4B35B458B9C0CC81054060D843E8', 0.43626344], ['latin', '1C8E1D3BBEBAE4BC3C7FFDD4CE018CE782751E0D81D587C4E27A0F240B8F1CA1', 0.43626344], ['white', '1C8E1D3BBEBAE4BC3C7FFDD4CE018CE782751E0D81D587C4E27A0F240B8F1CA1', 0.43626344], ['black', '1C8E1D3BBEBAE4BC3C7FFDD4CE018CE782751E0D81D587C4E27A0F240B8F1CA1', 0.43626344], ['asian', '1C8E1D3BBEBAE4BC3C7FFDD4CE018CE782751E0D81D587C4E27A0F240B8F1CA1', 0.43626344], ['caucasian', '1C8E1D3BBEBAE4BC3C7FFDD4CE018CE782751E0D81D587C4E27A0F240B8F1CA1', 0.43626344], ['latin', '44AA9A1D822469EA81FBC852EED2D8DCD6DDDD8C4790D54F1772B9777981A0A0', 0.43626344], ['white', '44AA9A1D822469EA81FBC852EED2D8DCD6DDDD8C4790D54F1772B9777981A0A0', 0.43626344], ['black', '44AA9A1D822469EA81FBC852EED2D8DCD6DDDD8C4790D54F1772B9777981A0A0', 0.43626344], ['asian', '44AA9A1D822469EA81FBC852EED2D8DCD6DDDD8C4790D54F1772B9777981A0A0', 0.43626344], ['caucasian', '44AA9A1D822469EA81FBC852EED2D8DCD6DDDD8C4790D54F1772B9777981A0A0', 0.43626344], ['latin', 'C21C3968E69BE8166511368F1D993F54FFE32B62793A5A12CCA14F7D10358227', 0.43626344], ['white', 'C21C3968E69BE8166511368F1D993F54FFE32B62793A5A12CCA14F7D10358227', 0.43626344], ['black', 'C21C3968E69BE8166511368F1D993F54FFE32B62793A5A12CCA14F7D10358227', 0.43626344], ['asian', 'C21C3968E69BE8166511368F1D993F54FFE32B62793A5A12CCA14F7D10358227', 0.43626344], ['caucasian', 'C21C3968E69BE8166511368F1D993F54FFE32B62793A5A12CCA14F7D10358227', 0.43626344], ['latin', 'F87107D6FD8B0CDBDA55DD3A39ED0F61CF9D001475F628B861D7735027D88ADB', 0.43626344], ['white', 'F87107D6FD8B0CDBDA55DD3A39ED0F61CF9D001475F628B861D7735027D88ADB', 0.43626344], ['black', 'F87107D6FD8B0CDBDA55DD3A39ED0F61CF9D001475F628B861D7735027D88ADB', 0.43626344], ['asian', 'F87107D6FD8B0CDBDA55DD3A39ED0F61CF9D001475F628B861D7735027D88ADB', 0.43626344], ['caucasian', 'F87107D6FD8B0CDBDA55DD3A39ED0F61CF9D001475F628B861D7735027D88ADB', 0.43626344], ['latin', 'F6FCB2910F3043CFA1C0495ED27133C535E0F9DCD3936139239C5056512A8718', 0.43626344], ['white', 'F6FCB2910F3043CFA1C0495ED27133C535E0F9DCD3936139239C5056512A8718', 0.43626344], ['black', 'F6FCB2910F3043CFA1C0495ED27133C535E0F9DCD3936139239C5056512A8718', 0.43626344], ['asian', 'F6FCB2910F3043CFA1C0495ED27133C535E0F9DCD3936139239C5056512A8718', 0.43626344], ['caucasian', 'F6FCB2910F3043CFA1C0495ED27133C535E0F9DCD3936139239C5056512A8718', 0.43626344], ['latin', '9D502A80F4CB8868782B0A0585D2CB85166457C7C358497CA2090D673A7F1BA1', 0.43626344], ['white', '9D502A80F4CB8868782B0A0585D2CB85166457C7C358497CA2090D673A7F1BA1', 0.43626344], ['black', '9D502A80F4CB8868782B0A0585D2CB85166457C7C358497CA2090D673A7F1BA1', 0.43626344], ['asian', '9D502A80F4CB8868782B0A0585D2CB85166457C7C358497CA2090D673A7F1BA1', 0.43626344], ['caucasian', '9D502A80F4CB8868782B0A0585D2CB85166457C7C358497CA2090D673A7F1BA1', 0.43626344], ['latin', '99B3B91BFD9C39A6D2E23AC9B46C00D49B328B940DB5129A33017BAA47A89603', 0.43626344], ['white', '99B3B91BFD9C39A6D2E23AC9B46C00D49B328B940DB5129A33017BAA47A89603', 0.43626344], ['black', '99B3B91BFD9C39A6D2E23AC9B46C00D49B328B940DB5129A33017BAA47A89603', 0.43626344], ['asian', '99B3B91BFD9C39A6D2E23AC9B46C00D49B328B940DB5129A33017BAA47A89603', 0.43626344], ['caucasian', '99B3B91BFD9C39A6D2E23AC9B46C00D49B328B940DB5129A33017BAA47A89603', 0.43626344], ['latin', '69636A20070062C1ABB4219F3D1505DD64D55525C3D857F5B32F81D816BA202C', 0.43626344], ['white', '69636A20070062C1ABB4219F3D1505DD64D55525C3D857F5B32F81D816BA202C', 0.43626344], ['black', '69636A20070062C1ABB4219F3D1505DD64D55525C3D857F5B32F81D816BA202C', 0.43626344], ['asian', '69636A20070062C1ABB4219F3D1505DD64D55525C3D857F5B32F81D816BA202C', 0.43626344], ['caucasian', '69636A20070062C1ABB4219F3D1505DD64D55525C3D857F5B32F81D816BA202C', 0.43626344], ['latin', '6DFCDE58F5B9E515B260534B017B39CAE7207A080113CCC57DD8F8A5BAEDC36C', 0.43626344], ['white', '6DFCDE58F5B9E515B260534B017B39CAE7207A080113CCC57DD8F8A5BAEDC36C', 0.43626344], ['black', '6DFCDE58F5B9E515B260534B017B39CAE7207A080113CCC57DD8F8A5BAEDC36C', 0.43626344], ['asian', '6DFCDE58F5B9E515B260534B017B39CAE7207A080113CCC57DD8F8A5BAEDC36C', 0.43626344], ['caucasian', '6DFCDE58F5B9E515B260534B017B39CAE7207A080113CCC57DD8F8A5BAEDC36C', 0.43626344], ['latin', '866866DD7508528E26055CD3283AACC51CEE83093DC8F125D14B9B41CF273119', 0.43626344], ['white', '866866DD7508528E26055CD3283AACC51CEE83093DC8F125D14B9B41CF273119', 0.43626344], ['black', '866866DD7508528E26055CD3283AACC51CEE83093DC8F125D14B9B41CF273119', 0.43626344], ['asian', '866866DD7508528E26055CD3283AACC51CEE83093DC8F125D14B9B41CF273119', 0.43626344], ['caucasian', '866866DD7508528E26055CD3283AACC51CEE83093DC8F125D14B9B41CF273119', 0.43626344], ['latin', '3249253959DC8C036FC40320ABFF229C7AF8EE21A335BE93EA3924BE597D5816', 0.43626344], ['white', '3249253959DC8C036FC40320ABFF229C7AF8EE21A335BE93EA3924BE597D5816', 0.43626344], ['black', '3249253959DC8C036FC40320ABFF229C7AF8EE21A335BE93EA3924BE597D5816', 0.43626344], ['asian', '3249253959DC8C036FC40320ABFF229C7AF8EE21A335BE93EA3924BE597D5816', 0.43626344], ['caucasian', '3249253959DC8C036FC40320ABFF229C7AF8EE21A335BE93EA3924BE597D5816', 0.43626344], ['latin', 'BF998DFD6A27E8147FF6C331350452BB64DB01113FD05679FF148F419FB7D3A7', 0.43626344], ['white', 'BF998DFD6A27E8147FF6C331350452BB64DB01113FD05679FF148F419FB7D3A7', 0.43626344], ['black', 'BF998DFD6A27E8147FF6C331350452BB64DB01113FD05679FF148F419FB7D3A7', 0.43626344], ['asian', 'BF998DFD6A27E8147FF6C331350452BB64DB01113FD05679FF148F419FB7D3A7', 0.43626344], ['caucasian', 'BF998DFD6A27E8147FF6C331350452BB64DB01113FD05679FF148F419FB7D3A7', 0.43626344], ['latin', '069457383B0233D6059D61351D40DDB715A4477FD2FE03107F7DAA04DE96716F', 0.43626344], ['white', '069457383B0233D6059D61351D40DDB715A4477FD2FE03107F7DAA04DE96716F', 0.43626344], ['black', '069457383B0233D6059D61351D40DDB715A4477FD2FE03107F7DAA04DE96716F', 0.43626344], ['asian', '069457383B0233D6059D61351D40DDB715A4477FD2FE03107F7DAA04DE96716F', 0.43626344], ['caucasian', '069457383B0233D6059D61351D40DDB715A4477FD2FE03107F7DAA04DE96716F', 0.43626344], ['latin', 'D69BB365CD64D5E1383ED026045C218456D8EDC788EE6B0444DFB74AC2478077', 0.43626344], ['white', 'D69BB365CD64D5E1383ED026045C218456D8EDC788EE6B0444DFB74AC2478077', 0.43626344], ['black', 'D69BB365CD64D5E1383ED026045C218456D8EDC788EE6B0444DFB74AC2478077', 0.43626344], ['asian', 'D69BB365CD64D5E1383ED026045C218456D8EDC788EE6B0444DFB74AC2478077', 0.43626344], ['caucasian', 'D69BB365CD64D5E1383ED026045C218456D8EDC788EE6B0444DFB74AC2478077', 0.43626344], ['latin', '3770C81F4ADC6F5FF2DBE6F06ECDBCC12F199105550F6BD05B8E844493469198', 0.43626344], ['white', '3770C81F4ADC6F5FF2DBE6F06ECDBCC12F199105550F6BD05B8E844493469198', 0.43626344], ['black', '3770C81F4ADC6F5FF2DBE6F06ECDBCC12F199105550F6BD05B8E844493469198', 0.43626344], ['asian', '3770C81F4ADC6F5FF2DBE6F06ECDBCC12F199105550F6BD05B8E844493469198', 0.43626344], ['caucasian', '3770C81F4ADC6F5FF2DBE6F06ECDBCC12F199105550F6BD05B8E844493469198', 0.43626344], ['latin', '3970B4D467FF719AA8F4A3AB370DFA24C2C575CD2B5D72174C76D4F6E1AB5301', 0.43626344], ['white', '3970B4D467FF719AA8F4A3AB370DFA24C2C575CD2B5D72174C76D4F6E1AB5301', 0.43626344], ['black', '3970B4D467FF719AA8F4A3AB370DFA24C2C575CD2B5D72174C76D4F6E1AB5301', 0.43626344], ['asian', '3970B4D467FF719AA8F4A3AB370DFA24C2C575CD2B5D72174C76D4F6E1AB5301', 0.43626344], ['caucasian', '3970B4D467FF719AA8F4A3AB370DFA24C2C575CD2B5D72174C76D4F6E1AB5301', 0.43626344], ['latin', 'C1E550F9E07127B2D80CD61631D384D077D7D468EF753A8F7480313C996E8564', 0.43626344], ['white', 'C1E550F9E07127B2D80CD61631D384D077D7D468EF753A8F7480313C996E8564', 0.43626344], ['black', 'C1E550F9E07127B2D80CD61631D384D077D7D468EF753A8F7480313C996E8564', 0.43626344], ['asian', 'C1E550F9E07127B2D80CD61631D384D077D7D468EF753A8F7480313C996E8564', 0.43626344], ['caucasian', 'C1E550F9E07127B2D80CD61631D384D077D7D468EF753A8F7480313C996E8564', 0.43626344], ['latin', '7AB4FFAAE255BB64DCE23DF641955619ED15130D91BB94429669527913D67EC2', 0.43626344], ['white', '7AB4FFAAE255BB64DCE23DF641955619ED15130D91BB94429669527913D67EC2', 0.43626344], ['black', '7AB4FFAAE255BB64DCE23DF641955619ED15130D91BB94429669527913D67EC2', 0.43626344], ['asian', '7AB4FFAAE255BB64DCE23DF641955619ED15130D91BB94429669527913D67EC2', 0.43626344], ['caucasian', '7AB4FFAAE255BB64DCE23DF641955619ED15130D91BB94429669527913D67EC2', 0.43626344], ['latin', '81A3155D87B1ECE21686389641FB4E6BEFA87C932EE1772D01DB956F0BE7379A', 0.43626344], ['white', '81A3155D87B1ECE21686389641FB4E6BEFA87C932EE1772D01DB956F0BE7379A', 0.43626344], ['black', '81A3155D87B1ECE21686389641FB4E6BEFA87C932EE1772D01DB956F0BE7379A', 0.43626344], ['asian', '81A3155D87B1ECE21686389641FB4E6BEFA87C932EE1772D01DB956F0BE7379A', 0.43626344], ['caucasian', '81A3155D87B1ECE21686389641FB4E6BEFA87C932EE1772D01DB956F0BE7379A', 0.43626344], ['latin', '06637A494E47AB5D41FBE99A07F581ACE0EA3C80E94C37093FDC27129E870A53', 0.43626344], ['white', '06637A494E47AB5D41FBE99A07F581ACE0EA3C80E94C37093FDC27129E870A53', 0.43626344], ['black', '06637A494E47AB5D41FBE99A07F581ACE0EA3C80E94C37093FDC27129E870A53', 0.43626344], ['asian', '06637A494E47AB5D41FBE99A07F581ACE0EA3C80E94C37093FDC27129E870A53', 0.43626344], ['caucasian', '06637A494E47AB5D41FBE99A07F581ACE0EA3C80E94C37093FDC27129E870A53', 0.43626344], ['latin', 'FBA523707C209137FB40E5F4A606949065111290C848AB7A34956DDA8EBF2E9E', 0.43626344], ['white', 'FBA523707C209137FB40E5F4A606949065111290C848AB7A34956DDA8EBF2E9E', 0.43626344], ['black', 'FBA523707C209137FB40E5F4A606949065111290C848AB7A34956DDA8EBF2E9E', 0.43626344], ['asian', 'FBA523707C209137FB40E5F4A606949065111290C848AB7A34956DDA8EBF2E9E', 0.43626344], ['caucasian', 'FBA523707C209137FB40E5F4A606949065111290C848AB7A34956DDA8EBF2E9E', 0.43626344], ['latin', '563DACD537012A5463E748A6AE157E20C7DF8DAC895984620E78729B84830AE1', 0.43626344], ['white', '563DACD537012A5463E748A6AE157E20C7DF8DAC895984620E78729B84830AE1', 0.43626344], ['black', '563DACD537012A5463E748A6AE157E20C7DF8DAC895984620E78729B84830AE1', 0.43626344], ['asian', '563DACD537012A5463E748A6AE157E20C7DF8DAC895984620E78729B84830AE1', 0.43626344], ['caucasian', '563DACD537012A5463E748A6AE157E20C7DF8DAC895984620E78729B84830AE1', 0.43626344], ['latin', '39FF77E88E81CF4F5784A1A33E82377D3304D9B160A61DCAEB5BC90A76E07906', 0.43626344], ['white', '39FF77E88E81CF4F5784A1A33E82377D3304D9B160A61DCAEB5BC90A76E07906', 0.43626344], ['black', '39FF77E88E81CF4F5784A1A33E82377D3304D9B160A61DCAEB5BC90A76E07906', 0.43626344], ['asian', '39FF77E88E81CF4F5784A1A33E82377D3304D9B160A61DCAEB5BC90A76E07906', 0.43626344], ['caucasian', '39FF77E88E81CF4F5784A1A33E82377D3304D9B160A61DCAEB5BC90A76E07906', 0.43626344], ['latin', 'B63C69712C0642CF72A3613D5589F16A16D219E4E64EF237E5CEBCBD268AE901', 0.43626344], ['white', 'B63C69712C0642CF72A3613D5589F16A16D219E4E64EF237E5CEBCBD268AE901', 0.43626344], ['black', 'B63C69712C0642CF72A3613D5589F16A16D219E4E64EF237E5CEBCBD268AE901', 0.43626344], ['asian', 'B63C69712C0642CF72A3613D5589F16A16D219E4E64EF237E5CEBCBD268AE901', 0.43626344], ['caucasian', 'B63C69712C0642CF72A3613D5589F16A16D219E4E64EF237E5CEBCBD268AE901', 0.43626344], ['latin', '118B78E4D4F72EC23B72C940E9184453AE35AEADAC9D5FA1F35DD5EC3BEB6EF1', 0.43626344], ['white', '118B78E4D4F72EC23B72C940E9184453AE35AEADAC9D5FA1F35DD5EC3BEB6EF1', 0.43626344], ['black', '118B78E4D4F72EC23B72C940E9184453AE35AEADAC9D5FA1F35DD5EC3BEB6EF1', 0.43626344], ['asian', '118B78E4D4F72EC23B72C940E9184453AE35AEADAC9D5FA1F35DD5EC3BEB6EF1', 0.43626344], ['caucasian', '118B78E4D4F72EC23B72C940E9184453AE35AEADAC9D5FA1F35DD5EC3BEB6EF1', 0.43626344], ['latin', '940B5E6C6CDC8CD4A1075B5F8077FAE810586F61FB10AAC95EB3D646AE13C697', 0.43626344], ['white', '940B5E6C6CDC8CD4A1075B5F8077FAE810586F61FB10AAC95EB3D646AE13C697', 0.43626344], ['black', '940B5E6C6CDC8CD4A1075B5F8077FAE810586F61FB10AAC95EB3D646AE13C697', 0.43626344], ['asian', '940B5E6C6CDC8CD4A1075B5F8077FAE810586F61FB10AAC95EB3D646AE13C697', 0.43626344], ['caucasian', '940B5E6C6CDC8CD4A1075B5F8077FAE810586F61FB10AAC95EB3D646AE13C697', 0.43626344], ['latin', '7B7BE05B442A39BD86553FE86FCBF15EEF84E8D4CD286FA286D96C6C9D2F6802', 0.43626344], ['white', '7B7BE05B442A39BD86553FE86FCBF15EEF84E8D4CD286FA286D96C6C9D2F6802', 0.43626344], ['black', '7B7BE05B442A39BD86553FE86FCBF15EEF84E8D4CD286FA286D96C6C9D2F6802', 0.43626344], ['asian', '7B7BE05B442A39BD86553FE86FCBF15EEF84E8D4CD286FA286D96C6C9D2F6802', 0.43626344], ['caucasian', '7B7BE05B442A39BD86553FE86FCBF15EEF84E8D4CD286FA286D96C6C9D2F6802', 0.43626344], ['latin', '6161872775232CC698DF55E9EA18CD653D6AD6F69EDE40290A34FA87640C63C5', 0.43618852], ['white', '6161872775232CC698DF55E9EA18CD653D6AD6F69EDE40290A34FA87640C63C5', 0.43618852], ['black', '6161872775232CC698DF55E9EA18CD653D6AD6F69EDE40290A34FA87640C63C5', 0.43618852], ['asian', '6161872775232CC698DF55E9EA18CD653D6AD6F69EDE40290A34FA87640C63C5', 0.43618852], ['caucasian', '6161872775232CC698DF55E9EA18CD653D6AD6F69EDE40290A34FA87640C63C5', 0.43618852], ['latin', '3FCC49687382E45C362D7216FF4B98819E9AF01C33D25A9595D0FD5040B79811', 0.43477365], ['white', '3FCC49687382E45C362D7216FF4B98819E9AF01C33D25A9595D0FD5040B79811', 0.43477365], ['black', '3FCC49687382E45C362D7216FF4B98819E9AF01C33D25A9595D0FD5040B79811', 0.43477365], ['asian', '3FCC49687382E45C362D7216FF4B98819E9AF01C33D25A9595D0FD5040B79811', 0.43477365], ['caucasian', '3FCC49687382E45C362D7216FF4B98819E9AF01C33D25A9595D0FD5040B79811', 0.43477365], ['latin', '7B5DE48C1244C5E4DF8B0650D0640E10592960F3BBD240038777DB1AD4FF3187', 0.43477365], ['white', '7B5DE48C1244C5E4DF8B0650D0640E10592960F3BBD240038777DB1AD4FF3187', 0.43477365], ['black', '7B5DE48C1244C5E4DF8B0650D0640E10592960F3BBD240038777DB1AD4FF3187', 0.43477365], ['asian', '7B5DE48C1244C5E4DF8B0650D0640E10592960F3BBD240038777DB1AD4FF3187', 0.43477365], ['caucasian', '7B5DE48C1244C5E4DF8B0650D0640E10592960F3BBD240038777DB1AD4FF3187', 0.43477365], ['latin', 'B9398AEEE6CFC7ECAB29370DAE98249BA8630057036A4E1DFC79C9CDDD4C7059', 0.43477365], ['white', 'B9398AEEE6CFC7ECAB29370DAE98249BA8630057036A4E1DFC79C9CDDD4C7059', 0.43477365], ['black', 'B9398AEEE6CFC7ECAB29370DAE98249BA8630057036A4E1DFC79C9CDDD4C7059', 0.43477365], ['asian', 'B9398AEEE6CFC7ECAB29370DAE98249BA8630057036A4E1DFC79C9CDDD4C7059', 0.43477365], ['caucasian', 'B9398AEEE6CFC7ECAB29370DAE98249BA8630057036A4E1DFC79C9CDDD4C7059', 0.43477365], ['latin', '5D70323A3A234AD4F9BFF2713F57F40C69C34766808DB9BD30BED7D2854A5022', 0.43477365], ['german', '5D70323A3A234AD4F9BFF2713F57F40C69C34766808DB9BD30BED7D2854A5022', 0.43477365], ['white', '5D70323A3A234AD4F9BFF2713F57F40C69C34766808DB9BD30BED7D2854A5022', 0.43477365], ['black', '5D70323A3A234AD4F9BFF2713F57F40C69C34766808DB9BD30BED7D2854A5022', 0.43477365], ['asian', '5D70323A3A234AD4F9BFF2713F57F40C69C34766808DB9BD30BED7D2854A5022', 0.43477365], ['caucasian', '5D70323A3A234AD4F9BFF2713F57F40C69C34766808DB9BD30BED7D2854A5022', 0.43477365], ['latin', '4518D6D5B1899BD460401083389FF62343389538AAFC87111DB19136469A589D', 0.43477365], ['white', '4518D6D5B1899BD460401083389FF62343389538AAFC87111DB19136469A589D', 0.43477365], ['black', '4518D6D5B1899BD460401083389FF62343389538AAFC87111DB19136469A589D', 0.43477365], ['asian', '4518D6D5B1899BD460401083389FF62343389538AAFC87111DB19136469A589D', 0.43477365], ['caucasian', '4518D6D5B1899BD460401083389FF62343389538AAFC87111DB19136469A589D', 0.43477365], ['latin', 'DB41BAD496041DEB2E530E84330F4317FE47B0461D5107E14D17B49982961C47', 0.43477365], ['white', 'DB41BAD496041DEB2E530E84330F4317FE47B0461D5107E14D17B49982961C47', 0.43477365], ['indian', 'DB41BAD496041DEB2E530E84330F4317FE47B0461D5107E14D17B49982961C47', 0.43477365], ['black', 'DB41BAD496041DEB2E530E84330F4317FE47B0461D5107E14D17B49982961C47', 0.43477365], ['asian', 'DB41BAD496041DEB2E530E84330F4317FE47B0461D5107E14D17B49982961C47', 0.43477365], ['caucasian', 'DB41BAD496041DEB2E530E84330F4317FE47B0461D5107E14D17B49982961C47', 0.43477365], ['russian', '9FE2C8C1A4833AB1D30594D47800F5867471343ABA32C5D621491F09132ADDF1', 0.43477365], ['latin', '9FE2C8C1A4833AB1D30594D47800F5867471343ABA32C5D621491F09132ADDF1', 0.43477365], ['white', '9FE2C8C1A4833AB1D30594D47800F5867471343ABA32C5D621491F09132ADDF1', 0.43477365], ['black', '9FE2C8C1A4833AB1D30594D47800F5867471343ABA32C5D621491F09132ADDF1', 0.43477365], ['asian', '9FE2C8C1A4833AB1D30594D47800F5867471343ABA32C5D621491F09132ADDF1', 0.43477365], ['caucasian', '9FE2C8C1A4833AB1D30594D47800F5867471343ABA32C5D621491F09132ADDF1', 0.43477365], ['latin', 'E95B64C95F47E865FBCA955B32EA96D974A9CEA6D424201020F33B5902D7B7A7', 0.43477365], ['white', 'E95B64C95F47E865FBCA955B32EA96D974A9CEA6D424201020F33B5902D7B7A7', 0.43477365], ['black', 'E95B64C95F47E865FBCA955B32EA96D974A9CEA6D424201020F33B5902D7B7A7', 0.43477365], ['asian', 'E95B64C95F47E865FBCA955B32EA96D974A9CEA6D424201020F33B5902D7B7A7', 0.43477365], ['caucasian', 'E95B64C95F47E865FBCA955B32EA96D974A9CEA6D424201020F33B5902D7B7A7', 0.43477365], ['latin', '95AE2CFE184CACEDD9969E923D46EDDA1C67A2A211F18EF91EA62A5966915259', 0.43477365], ['white', '95AE2CFE184CACEDD9969E923D46EDDA1C67A2A211F18EF91EA62A5966915259', 0.43477365], ['black', '95AE2CFE184CACEDD9969E923D46EDDA1C67A2A211F18EF91EA62A5966915259', 0.43477365], ['asian', '95AE2CFE184CACEDD9969E923D46EDDA1C67A2A211F18EF91EA62A5966915259', 0.43477365], ['caucasian', '95AE2CFE184CACEDD9969E923D46EDDA1C67A2A211F18EF91EA62A5966915259', 0.43477365], ['latin', '908165EBDB9BF4821EBB999B58365202407178BEF019BCDFF7405D6FEC747A46', 0.43477365], ['white', '908165EBDB9BF4821EBB999B58365202407178BEF019BCDFF7405D6FEC747A46', 0.43477365], ['black', '908165EBDB9BF4821EBB999B58365202407178BEF019BCDFF7405D6FEC747A46', 0.43477365], ['asian', '908165EBDB9BF4821EBB999B58365202407178BEF019BCDFF7405D6FEC747A46', 0.43477365], ['caucasian', '908165EBDB9BF4821EBB999B58365202407178BEF019BCDFF7405D6FEC747A46', 0.43477365], ['latin', 'C907CBE814F787C229B4A29A4595AE4A5EBBA84DCB30C401674211D118C5FE19', 0.43477365], ['white', 'C907CBE814F787C229B4A29A4595AE4A5EBBA84DCB30C401674211D118C5FE19', 0.43477365], ['black', 'C907CBE814F787C229B4A29A4595AE4A5EBBA84DCB30C401674211D118C5FE19', 0.43477365], ['asian', 'C907CBE814F787C229B4A29A4595AE4A5EBBA84DCB30C401674211D118C5FE19', 0.43477365], ['caucasian', 'C907CBE814F787C229B4A29A4595AE4A5EBBA84DCB30C401674211D118C5FE19', 0.43477365], ['latin', 'E10CFD39A06EC3E39D930AE606AA93EEAB92538EAAF84C5D4A38538F03915E02', 0.43477365], ['white', 'E10CFD39A06EC3E39D930AE606AA93EEAB92538EAAF84C5D4A38538F03915E02', 0.43477365], ['black', 'E10CFD39A06EC3E39D930AE606AA93EEAB92538EAAF84C5D4A38538F03915E02', 0.43477365], ['asian', 'E10CFD39A06EC3E39D930AE606AA93EEAB92538EAAF84C5D4A38538F03915E02', 0.43477365], ['caucasian', 'E10CFD39A06EC3E39D930AE606AA93EEAB92538EAAF84C5D4A38538F03915E02', 0.43477365], ['latin', '3BF10A744A0B1B47E28FB9DB81AF6D8606E3B45A78B85971CBFBD9041088C5D7', 0.43477365], ['white', '3BF10A744A0B1B47E28FB9DB81AF6D8606E3B45A78B85971CBFBD9041088C5D7', 0.43477365], ['black', '3BF10A744A0B1B47E28FB9DB81AF6D8606E3B45A78B85971CBFBD9041088C5D7', 0.43477365], ['asian', '3BF10A744A0B1B47E28FB9DB81AF6D8606E3B45A78B85971CBFBD9041088C5D7', 0.43477365], ['caucasian', '3BF10A744A0B1B47E28FB9DB81AF6D8606E3B45A78B85971CBFBD9041088C5D7', 0.43477365], ['latin', '2267ED68C4C709F5CB80184D189ABD7B72E6930A3DA03FB5BCA0D71E83ABC0CE', 0.43477365], ['white', '2267ED68C4C709F5CB80184D189ABD7B72E6930A3DA03FB5BCA0D71E83ABC0CE', 0.43477365], ['black', '2267ED68C4C709F5CB80184D189ABD7B72E6930A3DA03FB5BCA0D71E83ABC0CE', 0.43477365], ['asian', '2267ED68C4C709F5CB80184D189ABD7B72E6930A3DA03FB5BCA0D71E83ABC0CE', 0.43477365], ['caucasian', '2267ED68C4C709F5CB80184D189ABD7B72E6930A3DA03FB5BCA0D71E83ABC0CE', 0.43477365], ['latin', '49D2F77696B55CF83C4EFBF7C21FA47B2952DB29EA4AA9D2F4ACC57D8341E077', 0.43477365], ['white', '49D2F77696B55CF83C4EFBF7C21FA47B2952DB29EA4AA9D2F4ACC57D8341E077', 0.43477365], ['black', '49D2F77696B55CF83C4EFBF7C21FA47B2952DB29EA4AA9D2F4ACC57D8341E077', 0.43477365], ['asian', '49D2F77696B55CF83C4EFBF7C21FA47B2952DB29EA4AA9D2F4ACC57D8341E077', 0.43477365], ['caucasian', '49D2F77696B55CF83C4EFBF7C21FA47B2952DB29EA4AA9D2F4ACC57D8341E077', 0.43477365], ['latin', 'D7D2103E37ADDD6D63E5088D551D2F6F1934F3AF047C9B9F44D3271ADC083FAC', 0.4340287], ['german', 'D7D2103E37ADDD6D63E5088D551D2F6F1934F3AF047C9B9F44D3271ADC083FAC', 0.4340287], ['white', 'D7D2103E37ADDD6D63E5088D551D2F6F1934F3AF047C9B9F44D3271ADC083FAC', 0.4340287], ['black', 'D7D2103E37ADDD6D63E5088D551D2F6F1934F3AF047C9B9F44D3271ADC083FAC', 0.4340287], ['asian', 'D7D2103E37ADDD6D63E5088D551D2F6F1934F3AF047C9B9F44D3271ADC083FAC', 0.4340287], ['caucasian', 'D7D2103E37ADDD6D63E5088D551D2F6F1934F3AF047C9B9F44D3271ADC083FAC', 0.4340287], ['latin', '5736F83273C604AE0077DC653462B96AED9EA6ECBBA2B088F75106E39FB81B84', 0.4340287], ['white', '5736F83273C604AE0077DC653462B96AED9EA6ECBBA2B088F75106E39FB81B84', 0.4340287], ['black', '5736F83273C604AE0077DC653462B96AED9EA6ECBBA2B088F75106E39FB81B84', 0.4340287], ['asian', '5736F83273C604AE0077DC653462B96AED9EA6ECBBA2B088F75106E39FB81B84', 0.4340287], ['caucasian', '5736F83273C604AE0077DC653462B96AED9EA6ECBBA2B088F75106E39FB81B84', 0.4340287], ['latin', 'C8801C2B69C91661F9DA6892CDA116FB7B6B81BE3327D1695BC572819E551F7F', 0.4340287], ['white', 'C8801C2B69C91661F9DA6892CDA116FB7B6B81BE3327D1695BC572819E551F7F', 0.4340287], ['black', 'C8801C2B69C91661F9DA6892CDA116FB7B6B81BE3327D1695BC572819E551F7F', 0.4340287], ['asian', 'C8801C2B69C91661F9DA6892CDA116FB7B6B81BE3327D1695BC572819E551F7F', 0.4340287], ['caucasian', 'C8801C2B69C91661F9DA6892CDA116FB7B6B81BE3327D1695BC572819E551F7F', 0.4340287], ['white', 'A27EEAD785A96372D78CBBD25CE8F87D9DFD7D52EB2CEE9B2365DFC91C0BFFB4', 0.43346256], ['caucasian', 'A27EEAD785A96372D78CBBD25CE8F87D9DFD7D52EB2CEE9B2365DFC91C0BFFB4', 0.43346256], ['latin', '8192DFCBF44FD4C1658BDE8C8092FDB001939F9E6A41CB0BB42E4460FCED3162', 0.43328387], ['white', '8192DFCBF44FD4C1658BDE8C8092FDB001939F9E6A41CB0BB42E4460FCED3162', 0.43328387], ['black', '8192DFCBF44FD4C1658BDE8C8092FDB001939F9E6A41CB0BB42E4460FCED3162', 0.43328387], ['asian', '8192DFCBF44FD4C1658BDE8C8092FDB001939F9E6A41CB0BB42E4460FCED3162', 0.43328387], ['caucasian', '8192DFCBF44FD4C1658BDE8C8092FDB001939F9E6A41CB0BB42E4460FCED3162', 0.43328387], ['latin', '7BC99517B58400967282F837A17AFB365AD9B3ED96871DF339E858E87234B44E', 0.43328387], ['white', '7BC99517B58400967282F837A17AFB365AD9B3ED96871DF339E858E87234B44E', 0.43328387], ['black', '7BC99517B58400967282F837A17AFB365AD9B3ED96871DF339E858E87234B44E', 0.43328387], ['asian', '7BC99517B58400967282F837A17AFB365AD9B3ED96871DF339E858E87234B44E', 0.43328387], ['caucasian', '7BC99517B58400967282F837A17AFB365AD9B3ED96871DF339E858E87234B44E', 0.43328387], ['latin', 'CC30991550CB8BD330066DD9FADB357C4EA5FB813A99AFB7D6B906A72C697F5E', 0.43328387], ['white', 'CC30991550CB8BD330066DD9FADB357C4EA5FB813A99AFB7D6B906A72C697F5E', 0.43328387], ['black', 'CC30991550CB8BD330066DD9FADB357C4EA5FB813A99AFB7D6B906A72C697F5E', 0.43328387], ['asian', 'CC30991550CB8BD330066DD9FADB357C4EA5FB813A99AFB7D6B906A72C697F5E', 0.43328387], ['caucasian', 'CC30991550CB8BD330066DD9FADB357C4EA5FB813A99AFB7D6B906A72C697F5E', 0.43328387], ['latin', '1100BC7EA493DF91038BA381B429D42C5CFCEE6C8B88A332E6D6ABB4AABC5B5C', 0.43328387], ['white', '1100BC7EA493DF91038BA381B429D42C5CFCEE6C8B88A332E6D6ABB4AABC5B5C', 0.43328387], ['black', '1100BC7EA493DF91038BA381B429D42C5CFCEE6C8B88A332E6D6ABB4AABC5B5C', 0.43328387], ['asian', '1100BC7EA493DF91038BA381B429D42C5CFCEE6C8B88A332E6D6ABB4AABC5B5C', 0.43328387], ['caucasian', '1100BC7EA493DF91038BA381B429D42C5CFCEE6C8B88A332E6D6ABB4AABC5B5C', 0.43328387], ['latin', 'A14D26A1B92BF1D1DE1275A6E3F5F186F69E3403647F1DBD95253AEAB7F35983', 0.43328387], ['white', 'A14D26A1B92BF1D1DE1275A6E3F5F186F69E3403647F1DBD95253AEAB7F35983', 0.43328387], ['black', 'A14D26A1B92BF1D1DE1275A6E3F5F186F69E3403647F1DBD95253AEAB7F35983', 0.43328387], ['asian', 'A14D26A1B92BF1D1DE1275A6E3F5F186F69E3403647F1DBD95253AEAB7F35983', 0.43328387], ['caucasian', 'A14D26A1B92BF1D1DE1275A6E3F5F186F69E3403647F1DBD95253AEAB7F35983', 0.43328387], ['latin', '1A4BFED19BFD2967AFC300E36DDF20E91B3D867616C1376B3FD380606773A7BA', 0.43328387], ['white', '1A4BFED19BFD2967AFC300E36DDF20E91B3D867616C1376B3FD380606773A7BA', 0.43328387], ['black', '1A4BFED19BFD2967AFC300E36DDF20E91B3D867616C1376B3FD380606773A7BA', 0.43328387], ['asian', '1A4BFED19BFD2967AFC300E36DDF20E91B3D867616C1376B3FD380606773A7BA', 0.43328387], ['caucasian', '1A4BFED19BFD2967AFC300E36DDF20E91B3D867616C1376B3FD380606773A7BA', 0.43328387], ['latin', '96E2C96CACBE48FDF920270C894795CE2656522D394968D321B82D628B42D831', 0.43328387], ['white', '96E2C96CACBE48FDF920270C894795CE2656522D394968D321B82D628B42D831', 0.43328387], ['black', '96E2C96CACBE48FDF920270C894795CE2656522D394968D321B82D628B42D831', 0.43328387], ['asian', '96E2C96CACBE48FDF920270C894795CE2656522D394968D321B82D628B42D831', 0.43328387], ['caucasian', '96E2C96CACBE48FDF920270C894795CE2656522D394968D321B82D628B42D831', 0.43328387], ['latin', 'C37B7F938DCBCAF1B2C22308B33ABCF57DAFC07910BFE35CC7856F84C686FCA6', 0.43328387], ['white', 'C37B7F938DCBCAF1B2C22308B33ABCF57DAFC07910BFE35CC7856F84C686FCA6', 0.43328387], ['black', 'C37B7F938DCBCAF1B2C22308B33ABCF57DAFC07910BFE35CC7856F84C686FCA6', 0.43328387], ['asian', 'C37B7F938DCBCAF1B2C22308B33ABCF57DAFC07910BFE35CC7856F84C686FCA6', 0.43328387], ['caucasian', 'C37B7F938DCBCAF1B2C22308B33ABCF57DAFC07910BFE35CC7856F84C686FCA6', 0.43328387], ['latin', '4FB4FF3D0AB6551C7A7CEC9ADD27C4BF367767BCC66BEE904B84930B0367EC84', 0.43328387], ['white', '4FB4FF3D0AB6551C7A7CEC9ADD27C4BF367767BCC66BEE904B84930B0367EC84', 0.43328387], ['black', '4FB4FF3D0AB6551C7A7CEC9ADD27C4BF367767BCC66BEE904B84930B0367EC84', 0.43328387], ['asian', '4FB4FF3D0AB6551C7A7CEC9ADD27C4BF367767BCC66BEE904B84930B0367EC84', 0.43328387], ['caucasian', '4FB4FF3D0AB6551C7A7CEC9ADD27C4BF367767BCC66BEE904B84930B0367EC84', 0.43328387], ['latin', '29C62A4C2764D2552A3191583C54E15ADD730528FB8288F12D83CE21692EA4B0', 0.43328387], ['white', '29C62A4C2764D2552A3191583C54E15ADD730528FB8288F12D83CE21692EA4B0', 0.43328387], ['black', '29C62A4C2764D2552A3191583C54E15ADD730528FB8288F12D83CE21692EA4B0', 0.43328387], ['asian', '29C62A4C2764D2552A3191583C54E15ADD730528FB8288F12D83CE21692EA4B0', 0.43328387], ['caucasian', '29C62A4C2764D2552A3191583C54E15ADD730528FB8288F12D83CE21692EA4B0', 0.43328387], ['latin', '169C379CC6CCC072365E781FF760B873EDABA0DA28829D742FE5EE624FFD5FBA', 0.43328387], ['white', '169C379CC6CCC072365E781FF760B873EDABA0DA28829D742FE5EE624FFD5FBA', 0.43328387], ['black', '169C379CC6CCC072365E781FF760B873EDABA0DA28829D742FE5EE624FFD5FBA', 0.43328387], ['asian', '169C379CC6CCC072365E781FF760B873EDABA0DA28829D742FE5EE624FFD5FBA', 0.43328387], ['caucasian', '169C379CC6CCC072365E781FF760B873EDABA0DA28829D742FE5EE624FFD5FBA', 0.43328387], ['latin', '73C7C0D97CE13E5B5AF5EA59566A9DA595FF7F858D6BE084997530C35B741C07', 0.43328387], ['white', '73C7C0D97CE13E5B5AF5EA59566A9DA595FF7F858D6BE084997530C35B741C07', 0.43328387], ['black', '73C7C0D97CE13E5B5AF5EA59566A9DA595FF7F858D6BE084997530C35B741C07', 0.43328387], ['asian', '73C7C0D97CE13E5B5AF5EA59566A9DA595FF7F858D6BE084997530C35B741C07', 0.43328387], ['caucasian', '73C7C0D97CE13E5B5AF5EA59566A9DA595FF7F858D6BE084997530C35B741C07', 0.43328387], ['russian', '47B8929DD6ED40DC85398C4B51F3D88A8E1180E47AD096BD24B9784A920A0A7E', 0.4306768], ['british', '47B8929DD6ED40DC85398C4B51F3D88A8E1180E47AD096BD24B9784A920A0A7E', 0.4306768], ['german', '47B8929DD6ED40DC85398C4B51F3D88A8E1180E47AD096BD24B9784A920A0A7E', 0.4306768], ['white', '47B8929DD6ED40DC85398C4B51F3D88A8E1180E47AD096BD24B9784A920A0A7E', 0.4306768], ['french', '47B8929DD6ED40DC85398C4B51F3D88A8E1180E47AD096BD24B9784A920A0A7E', 0.4306768], ['ebony', '47B8929DD6ED40DC85398C4B51F3D88A8E1180E47AD096BD24B9784A920A0A7E', 0.4306768], ['black', '47B8929DD6ED40DC85398C4B51F3D88A8E1180E47AD096BD24B9784A920A0A7E', 0.4306768], ['caucasian', '47B8929DD6ED40DC85398C4B51F3D88A8E1180E47AD096BD24B9784A920A0A7E', 0.4306768], ['asian', '47B8929DD6ED40DC85398C4B51F3D88A8E1180E47AD096BD24B9784A920A0A7E', 0.4306768], ['latin', 'ADBEF814338784387DFD8C73667965B9D728C16604C6F0F79E83D3EBE3003B70', 0.425351], ['white', 'ADBEF814338784387DFD8C73667965B9D728C16604C6F0F79E83D3EBE3003B70', 0.425351], ['black', 'ADBEF814338784387DFD8C73667965B9D728C16604C6F0F79E83D3EBE3003B70', 0.425351], ['asian', 'ADBEF814338784387DFD8C73667965B9D728C16604C6F0F79E83D3EBE3003B70', 0.425351], ['caucasian', 'ADBEF814338784387DFD8C73667965B9D728C16604C6F0F79E83D3EBE3003B70', 0.425351], ['latin', '79F26E4CE928D8E2B883454BB4753AC9F38E8D791AB80C731C307F5370EAA61C', 0.425351], ['white', '79F26E4CE928D8E2B883454BB4753AC9F38E8D791AB80C731C307F5370EAA61C', 0.425351], ['black', '79F26E4CE928D8E2B883454BB4753AC9F38E8D791AB80C731C307F5370EAA61C', 0.425351], ['asian', '79F26E4CE928D8E2B883454BB4753AC9F38E8D791AB80C731C307F5370EAA61C', 0.425351], ['caucasian', '79F26E4CE928D8E2B883454BB4753AC9F38E8D791AB80C731C307F5370EAA61C', 0.425351], ['latin', '26E4C14A8EC5D24C34A6674DD4B59F805564BB835892F3ECE61F56F56C417BAD', 0.425351], ['white', '26E4C14A8EC5D24C34A6674DD4B59F805564BB835892F3ECE61F56F56C417BAD', 0.425351], ['black', '26E4C14A8EC5D24C34A6674DD4B59F805564BB835892F3ECE61F56F56C417BAD', 0.425351], ['asian', '26E4C14A8EC5D24C34A6674DD4B59F805564BB835892F3ECE61F56F56C417BAD', 0.425351], ['caucasian', '26E4C14A8EC5D24C34A6674DD4B59F805564BB835892F3ECE61F56F56C417BAD', 0.425351], ['white', 'D302C9C1F094B05CEF2029901E4B25FF8A5A6B3C100F2CEC519581CC05BC9889', 0.425351], ['black', 'D302C9C1F094B05CEF2029901E4B25FF8A5A6B3C100F2CEC519581CC05BC9889', 0.425351], ['asian', 'D302C9C1F094B05CEF2029901E4B25FF8A5A6B3C100F2CEC519581CC05BC9889', 0.425351], ['caucasian', 'D302C9C1F094B05CEF2029901E4B25FF8A5A6B3C100F2CEC519581CC05BC9889', 0.425351], ['latin', '92E674EC945AA503EC6264BB3BE52EEC82BFE8B09EA26C82ADA169BFFB4F2B78', 0.425351], ['white', '92E674EC945AA503EC6264BB3BE52EEC82BFE8B09EA26C82ADA169BFFB4F2B78', 0.425351], ['black', '92E674EC945AA503EC6264BB3BE52EEC82BFE8B09EA26C82ADA169BFFB4F2B78', 0.425351], ['asian', '92E674EC945AA503EC6264BB3BE52EEC82BFE8B09EA26C82ADA169BFFB4F2B78', 0.425351], ['caucasian', '92E674EC945AA503EC6264BB3BE52EEC82BFE8B09EA26C82ADA169BFFB4F2B78', 0.425351], ['white', '5711253B08E9276EAFF487999A6D117F27A88E3394203AE2FA3067EED3DB8FD3', 0.425351], ['black', '5711253B08E9276EAFF487999A6D117F27A88E3394203AE2FA3067EED3DB8FD3', 0.425351], ['asian', '5711253B08E9276EAFF487999A6D117F27A88E3394203AE2FA3067EED3DB8FD3', 0.425351], ['caucasian', '5711253B08E9276EAFF487999A6D117F27A88E3394203AE2FA3067EED3DB8FD3', 0.425351]], 'question_id': '13'}\n"
     ]
    }
   ],
   "source": [
    "# Checkout questions that returned NO uniq doc ids\n",
    "for entry in uncharted_data:\n",
    "    if entry['question_id'] == '13':\n",
    "        temp = entry\n",
    "        if len(temp['answers']) > 0:\n",
    "            print \"SHOULD HAVE CAUGHT THIS\"\n",
    "            print temp['answers']\n",
    "        print temp"
   ]
  },
  {
   "cell_type": "code",
   "execution_count": null,
   "metadata": {
    "collapsed": true
   },
   "outputs": [],
   "source": []
  }
 ],
 "metadata": {
  "kernelspec": {
   "display_name": "Python 2",
   "language": "python",
   "name": "python2"
  },
  "language_info": {
   "codemirror_mode": {
    "name": "ipython",
    "version": 2
   },
   "file_extension": ".py",
   "mimetype": "text/x-python",
   "name": "python",
   "nbconvert_exporter": "python",
   "pygments_lexer": "ipython2",
   "version": "2.7.11"
  }
 },
 "nbformat": 4,
 "nbformat_minor": 0
}
