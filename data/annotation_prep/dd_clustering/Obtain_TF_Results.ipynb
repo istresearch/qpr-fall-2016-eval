{
 "cells": [
  {
   "cell_type": "markdown",
   "metadata": {},
   "source": [
    "## This script simply queries the TF annotation app to find the ads that were determined to be \"in cluster\" during the CLUSTER annotation process"
   ]
  },
  {
   "cell_type": "code",
   "execution_count": 1,
   "metadata": {
    "collapsed": true
   },
   "outputs": [],
   "source": [
    "import json\n",
    "import requests"
   ]
  },
  {
   "cell_type": "code",
   "execution_count": 2,
   "metadata": {
    "collapsed": false
   },
   "outputs": [],
   "source": [
    "settings_file = 'tf_basic_auth.json'\n",
    "with open(settings_file, 'r') as f:\n",
    "    settings = eval(f.read())"
   ]
  },
  {
   "cell_type": "markdown",
   "metadata": {},
   "source": [
    "# What Round of Annotations Was this??"
   ]
  },
  {
   "cell_type": "code",
   "execution_count": 3,
   "metadata": {
    "collapsed": false
   },
   "outputs": [],
   "source": [
    "# Might not matter for right now\n",
    "ann_round = \"two\""
   ]
  },
  {
   "cell_type": "code",
   "execution_count": 9,
   "metadata": {
    "collapsed": false
   },
   "outputs": [],
   "source": [
    "if ann_round == 'one':\n",
    "    chosen_questions_file = 'FIRST_ROUND_chosen_questions.json'\n",
    "elif ann_round == 'two':\n",
    "    chosen_questions_file = 'SECOND_ROUND_chosen_questions.json'\n",
    "    \n",
    "with open(chosen_questions_file, 'r') as f:\n",
    "    chosen_questions = eval(f.read())\n",
    "\n",
    "# Just using HG and JPL to check seed group ids.\n",
    "# It's ok that NYU is not addressed here. It does not\n",
    "# affect collection of results\n",
    "\n",
    "JPL_grp_ids = []\n",
    "for qtype in chosen_questions['JPL'].keys():\n",
    "    for quest in chosen_questions['JPL'][qtype].keys():\n",
    "        JPL_grp_ids.append(chosen_questions['JPL'][qtype][quest]['seed'])\n",
    "JPL_grp_ids = list(set(JPL_grp_ids))\n",
    "\n",
    "# Let's explicitly confirm we get the same group ids\n",
    "HG_grp_ids = []\n",
    "for qtype in chosen_questions['HG'].keys():\n",
    "    for quest in chosen_questions['HG'][qtype].keys():\n",
    "        HG_grp_ids.append(chosen_questions['HG'][qtype][quest]['seed'])\n",
    "HG_grp_ids = list(set(HG_grp_ids))\n",
    "\n",
    "if len(list(set(JPL_grp_ids) - set(HG_grp_ids))) > 0:\n",
    "    print \"Trouble\"\n",
    "    \n",
    "if len(list(set(HG_grp_ids) - set(JPL_grp_ids))) > 0:\n",
    "    print \"Trouble\"\n",
    "    \n",
    "group_ids = JPL_grp_ids\n",
    "\n",
    "if len(group_ids) != 23:\n",
    "    print \"TROUBLE\""
   ]
  },
  {
   "cell_type": "code",
   "execution_count": 10,
   "metadata": {
    "collapsed": true
   },
   "outputs": [],
   "source": [
    "seeds2cluster_ads = {}\n",
    "\n",
    "for grpid in group_ids:\n",
    "    host = settings['HOST'] + grpid\n",
    "    r = requests.get(host, auth=(settings['UN'], settings['PW']))\n",
    "    results = json.loads(r.text)\n",
    "    str_results = [str(x) for x in results]\n",
    "    seeds2cluster_ads[str(grpid)] = str_results"
   ]
  },
  {
   "cell_type": "code",
   "execution_count": 11,
   "metadata": {
    "collapsed": true
   },
   "outputs": [],
   "source": [
    "output_file = 'seeds2cluster_ads_REWRITE.json'\n",
    "# Will re-name manually to avoid overwriting\n",
    "with open(output_file, 'w') as f:\n",
    "    json.dump(seeds2cluster_ads, f, indent=2)"
   ]
  },
  {
   "cell_type": "code",
   "execution_count": 12,
   "metadata": {
    "collapsed": false
   },
   "outputs": [
    {
     "data": {
      "text/plain": [
       "51"
      ]
     },
     "execution_count": 12,
     "metadata": {},
     "output_type": "execute_result"
    }
   ],
   "source": [
    "len(seeds2cluster_ads['4804209169'])"
   ]
  },
  {
   "cell_type": "code",
   "execution_count": 8,
   "metadata": {
    "collapsed": false
   },
   "outputs": [
    {
     "data": {
      "text/plain": [
       "['2125675378',\n",
       " '3106587382',\n",
       " '9015053403',\n",
       " '5015748332',\n",
       " '2897000184',\n",
       " '6074815436',\n",
       " '3103027803',\n",
       " '4028713138',\n",
       " '2267928604',\n",
       " '6126696637',\n",
       " '8453210101',\n",
       " '7255023008',\n",
       " '4804209169',\n",
       " '4164557000',\n",
       " '7026023157',\n",
       " '6462800740',\n",
       " '6477932052',\n",
       " '4149346155',\n",
       " 'aylinakkayam@gmail.com',\n",
       " '7202565497',\n",
       " '6474997664',\n",
       " '3345579838',\n",
       " '6477878168']"
      ]
     },
     "execution_count": 8,
     "metadata": {},
     "output_type": "execute_result"
    }
   ],
   "source": [
    "group_ids"
   ]
  },
  {
   "cell_type": "code",
   "execution_count": null,
   "metadata": {
    "collapsed": true
   },
   "outputs": [],
   "source": []
  }
 ],
 "metadata": {
  "kernelspec": {
   "display_name": "Python 2",
   "language": "python",
   "name": "python2"
  },
  "language_info": {
   "codemirror_mode": {
    "name": "ipython",
    "version": 2
   },
   "file_extension": ".py",
   "mimetype": "text/x-python",
   "name": "python",
   "nbconvert_exporter": "python",
   "pygments_lexer": "ipython2",
   "version": "2.7.11"
  }
 },
 "nbformat": 4,
 "nbformat_minor": 0
}
