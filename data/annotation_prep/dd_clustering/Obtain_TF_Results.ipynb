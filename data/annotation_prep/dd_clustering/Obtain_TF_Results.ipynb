{
 "cells": [
  {
   "cell_type": "markdown",
   "metadata": {},
   "source": [
    "## This script simply queries the TF annotation app to find the ads that were determined to be \"in cluster\" during the CLUSTER annotation process"
   ]
  },
  {
   "cell_type": "code",
   "execution_count": null,
   "metadata": {
    "collapsed": true
   },
   "outputs": [],
   "source": [
    "import json\n",
    "import requests"
   ]
  },
  {
   "cell_type": "code",
   "execution_count": null,
   "metadata": {
    "collapsed": false
   },
   "outputs": [],
   "source": [
    "settings_file = 'tf_basic_auth.json'\n",
    "with open(settings_file, 'r') as f:\n",
    "    settings = eval(f.read())"
   ]
  },
  {
   "cell_type": "markdown",
   "metadata": {},
   "source": [
    "# What Round of Annotations Was this??"
   ]
  },
  {
   "cell_type": "code",
   "execution_count": null,
   "metadata": {
    "collapsed": false
   },
   "outputs": [],
   "source": [
    "# Might not matter for right now\n",
    "ann_round = \"one\""
   ]
  },
  {
   "cell_type": "code",
   "execution_count": null,
   "metadata": {
    "collapsed": false
   },
   "outputs": [],
   "source": [
    "chosen_questions_file = 'FIRST_ROUND_chosen_questions.json'\n",
    "with open(chosen_questions_file, 'r') as f:\n",
    "    chosen_questions = eval(f.read())\n",
    "    \n",
    "NYU_grp_ids = []\n",
    "for qtype in chosen_questions['NYU'].keys():\n",
    "    for quest in chosen_questions['NYU'][qtype].keys():\n",
    "        NYU_grp_ids.append(chosen_questions['NYU'][qtype][quest]['seed'])\n",
    "NYU_grp_ids = list(set(NYU_grp_ids))\n",
    "\n",
    "# Let's explicitly confirm we get the same group ids\n",
    "HG_grp_ids = []\n",
    "for qtype in chosen_questions['HG'].keys():\n",
    "    for quest in chosen_questions['HG'][qtype].keys():\n",
    "        HG_grp_ids.append(chosen_questions['HG'][qtype][quest]['seed'])\n",
    "HG_grp_ids = list(set(HG_grp_ids))\n",
    "\n",
    "if len(list(set(NYU_grp_ids) - set(HG_grp_ids))) > 0:\n",
    "    print \"Trouble\"\n",
    "    \n",
    "if len(list(set(HG_grp_ids) - set(NYU_grp_ids))) > 0:\n",
    "    print \"Trouble\"\n",
    "    \n",
    "group_ids = NYU_grp_ids"
   ]
  },
  {
   "cell_type": "code",
   "execution_count": null,
   "metadata": {
    "collapsed": true
   },
   "outputs": [],
   "source": [
    "seeds2cluster_ads = {}\n",
    "\n",
    "for grpid in group_ids:\n",
    "    host = settings['HOST'] + grpid\n",
    "    r = requests.get(host, auth=(settings['UN'], settings['PW']))\n",
    "    results = json.loads(r.text)\n",
    "    str_results = [str(x) for x in results]\n",
    "    seeds2cluster_ads[str(grpid)] = str_results"
   ]
  },
  {
   "cell_type": "code",
   "execution_count": null,
   "metadata": {
    "collapsed": true
   },
   "outputs": [],
   "source": [
    "output_file = 'seeds2cluster_ads_REWRITE.json'\n",
    "# Will re-name manually to avoid overwriting\n",
    "with open(output_file, 'w') as f:\n",
    "    json.dump(seeds2cluster_ads, f, indent=2)"
   ]
  }
 ],
 "metadata": {
  "kernelspec": {
   "display_name": "Python 2",
   "language": "python",
   "name": "python2"
  },
  "language_info": {
   "codemirror_mode": {
    "name": "ipython",
    "version": 2
   },
   "file_extension": ".py",
   "mimetype": "text/x-python",
   "name": "python",
   "nbconvert_exporter": "python",
   "pygments_lexer": "ipython2",
   "version": "2.7.11"
  }
 },
 "nbformat": 4,
 "nbformat_minor": 0
}
