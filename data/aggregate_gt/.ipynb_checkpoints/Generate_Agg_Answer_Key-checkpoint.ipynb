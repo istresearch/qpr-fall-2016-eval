{
 "cells": [
  {
   "cell_type": "code",
   "execution_count": 25,
   "metadata": {
    "collapsed": true
   },
   "outputs": [],
   "source": [
    "import numpy\n",
    "import json"
   ]
  },
  {
   "cell_type": "code",
   "execution_count": 47,
   "metadata": {
    "collapsed": true
   },
   "outputs": [],
   "source": [
    "def get_extractions(annotations, gt_ads, feature):\n",
    "    new_extractions = []\n",
    "    # Explicitly cylcing over every entry (inefficient)\n",
    "    for cluster in annotations:\n",
    "        for entry in cluster:\n",
    "            if entry['obj_parent'] in gt_ads:\n",
    "                if entry['relevant'] == 'yes':\n",
    "                    # Retaining nested structure\n",
    "                    for ad_feature in entry['features'].keys():\n",
    "                        for annotaion in entry['features'][ad_feature]:\n",
    "                            if annotaion['label'] == feature:\n",
    "                                # Some values are images\n",
    "                                if 'text' in annotaion.keys():\n",
    "                                    new_extractions.append(annotaion['text'])\n",
    "    return new_extractions\n",
    "\n",
    "def aggreagate(norm_extractions, agg_type):\n",
    "    if agg_type == 'AVG':\n",
    "        answer = numpy.mean(norm_extractions)\n",
    "    elif agg_type == 'MAX':\n",
    "        answer = numpy.max(norm_extractions)\n",
    "    elif agg_type == 'MIN':\n",
    "        answer = numpy.min(norm_extractions)\n",
    "    elif agg_type == 'MODE':\n",
    "        answer = max(set(test_list), key=test_list.count)\n",
    "        \n",
    "    return answer"
   ]
  },
  {
   "cell_type": "markdown",
   "metadata": {},
   "source": [
    "### Set Paths"
   ]
  },
  {
   "cell_type": "code",
   "execution_count": 3,
   "metadata": {
    "collapsed": false
   },
   "outputs": [],
   "source": [
    "annotation_file = '../cluster_annotations/cluster_annotations.json'\n",
    "agg_gt_file = '../posted_GT/gt_answer_key/agg_quest2ads.json'\n",
    "agg_quest_file = '../../questions/post_aggregate_V2.json'\n",
    "dict_path = 'saved_dictionaries/'"
   ]
  },
  {
   "cell_type": "code",
   "execution_count": 4,
   "metadata": {
    "collapsed": false
   },
   "outputs": [],
   "source": [
    "f = open(annotation_file, 'r')\n",
    "annotations = eval(f.read())\n",
    "f.close()\n",
    "\n",
    "agg_quest = {}\n",
    "f = open(agg_quest_file, 'r')\n",
    "for line in f:\n",
    "    obj = json.loads(line)\n",
    "    agg_quest[obj['id']] = obj\n",
    "f.close()\n",
    "\n",
    "f = open(agg_gt_file, 'r')\n",
    "agg_gt = eval(f.read())\n",
    "f.close()\n",
    "\n",
    "norm = {}\n",
    "for feature in ['price', 'weight', 'height']:\n",
    "    dict_file = dict_path + feature + '_values_converted.json'\n",
    "    f = open(dict_file, 'r')\n",
    "    norm[feature] = eval(f.read())\n",
    "    f.close()"
   ]
  },
  {
   "cell_type": "markdown",
   "metadata": {},
   "source": [
    "### Take all extractions from GT"
   ]
  },
  {
   "cell_type": "code",
   "execution_count": 48,
   "metadata": {
    "collapsed": false
   },
   "outputs": [],
   "source": [
    "agg_answer_key = {}\n",
    "\n",
    "for quest in agg_quest.keys():\n",
    "    agg_answer_key[quest] = agg_quest[quest]\n",
    "    # Find the feature needed\n",
    "    feature = (agg_quest[quest]['SPARQL'][0].split('\\n')[1]\n",
    "               .split('?')[1].split(' ')[0].strip(')'))\n",
    "    agg_answer_key[quest]['feature'] = feature\n",
    "    \n",
    "    # Find the relevant GT ads\n",
    "    ads = agg_gt[quest]\n",
    "    feature_extractions = get_extractions(annotations, ads,\n",
    "                                     feature.capitalize())\n",
    "    agg_answer_key[quest]['extractions'] = feature_extractions\n",
    "    norm_extractions = []\n",
    "    for extraction in agg_answer_key[quest]['extractions']:\n",
    "        norm_ext = norm[feature][extraction]\n",
    "        if norm_ext != \"NA\":\n",
    "            if feature == 'price':\n",
    "                norm_extractions.extend(norm_ext)\n",
    "            else:\n",
    "                norm_extractions.append(norm_ext)\n",
    "    agg_answer_key[quest]['norm_extractions'] = norm_extractions\n",
    "    agg_answer_key[quest]['agg_answer'] = aggreagate(agg_answer_key[quest]['norm_extractions'],\n",
    "                                                     agg_answer_key[quest]['type'])"
   ]
  },
  {
   "cell_type": "markdown",
   "metadata": {},
   "source": [
    "### Write dictionary file for all non-zero length values"
   ]
  },
  {
   "cell_type": "code",
   "execution_count": 50,
   "metadata": {
    "collapsed": false
   },
   "outputs": [],
   "source": [
    "agg_answer_key_file = 'agg_answer_key.json'\n",
    "with open(agg_answer_key_file, 'w') as outfile:\n",
    "        json.dump(agg_answer_key, outfile, indent=2)"
   ]
  },
  {
   "cell_type": "markdown",
   "metadata": {},
   "source": [
    "## DEBUG"
   ]
  },
  {
   "cell_type": "code",
   "execution_count": null,
   "metadata": {
    "collapsed": true
   },
   "outputs": [],
   "source": []
  }
 ],
 "metadata": {
  "kernelspec": {
   "display_name": "Python 2",
   "language": "python",
   "name": "python2"
  },
  "language_info": {
   "codemirror_mode": {
    "name": "ipython",
    "version": 2
   },
   "file_extension": ".py",
   "mimetype": "text/x-python",
   "name": "python",
   "nbconvert_exporter": "python",
   "pygments_lexer": "ipython2",
   "version": "2.7.11"
  }
 },
 "nbformat": 4,
 "nbformat_minor": 0
}
