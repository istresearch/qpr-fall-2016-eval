{
 "cells": [
  {
   "cell_type": "code",
   "execution_count": 1,
   "metadata": {
    "collapsed": true
   },
   "outputs": [],
   "source": [
    "import json"
   ]
  },
  {
   "cell_type": "markdown",
   "metadata": {},
   "source": [
    "### Define Files"
   ]
  },
  {
   "cell_type": "code",
   "execution_count": 2,
   "metadata": {
    "collapsed": true
   },
   "outputs": [],
   "source": [
    "gt_questions_file = '../pure_agg_gt_questions_V3.json'  "
   ]
  },
  {
   "cell_type": "code",
   "execution_count": 3,
   "metadata": {
    "collapsed": false
   },
   "outputs": [],
   "source": [
    "gt_questions = []\n",
    "f = open(gt_questions_file, 'r')\n",
    "for line in f:\n",
    "    temp = json.loads(line)\n",
    "    gt_questions.append(temp)\n",
    "f.close()"
   ]
  },
  {
   "cell_type": "markdown",
   "metadata": {},
   "source": [
    "## Confirm Consistent Structure"
   ]
  },
  {
   "cell_type": "code",
   "execution_count": 4,
   "metadata": {
    "collapsed": false
   },
   "outputs": [
    {
     "name": "stdout",
     "output_type": "stream",
     "text": [
      "[u'type', u'question', u'id', u'SPARQL']\n",
      "[u'type', u'question', u'id', u'SPARQL']\n",
      "[u'type', u'question', u'id', u'SPARQL']\n",
      "[u'type', u'question', u'id', u'SPARQL']\n",
      "[u'type', u'question', u'id', u'SPARQL']\n",
      "[u'type', u'question', u'id', u'SPARQL']\n",
      "[u'type', u'question', u'id', u'SPARQL']\n",
      "[u'type', u'question', u'id', u'SPARQL']\n",
      "[u'type', u'question', u'id', u'SPARQL']\n",
      "[u'type', u'question', u'id', u'SPARQL']\n",
      "[u'type', u'question', u'id', u'SPARQL']\n",
      "[u'type', u'question', u'id', u'SPARQL']\n",
      "[u'type', u'question', u'id', u'SPARQL']\n",
      "[u'type', u'question', u'id', u'SPARQL']\n",
      "[u'type', u'question', u'id', u'SPARQL']\n"
     ]
    }
   ],
   "source": [
    "for question in gt_questions:\n",
    "    print question.keys()"
   ]
  },
  {
   "cell_type": "code",
   "execution_count": 5,
   "metadata": {
    "collapsed": false
   },
   "outputs": [
    {
     "name": "stdout",
     "output_type": "stream",
     "text": [
      "1\n",
      "2\n",
      "3\n",
      "4\n",
      "5\n",
      "6\n",
      "7\n",
      "8\n",
      "9\n",
      "10\n",
      "11\n",
      "12\n",
      "13\n",
      "14\n",
      "15\n"
     ]
    }
   ],
   "source": [
    "for question in gt_questions:\n",
    "    print question['id']"
   ]
  },
  {
   "cell_type": "code",
   "execution_count": 49,
   "metadata": {
    "collapsed": false
   },
   "outputs": [
    {
     "name": "stdout",
     "output_type": "stream",
     "text": [
      "15\n",
      " \n",
      "What is the most common location of escorts found in all ads where the provided name of the escort is 'Faith'?\n",
      " \n",
      "PREFIX qpr: <http://istresearch.com/qpr>\n",
      "SELECT ?location (count(?ad) AS ?count)\n",
      "WHERE\n",
      "{\t?ad a qpr:Ad ;\n",
      "\tqpr:name 'Faith';\n",
      "\tqpr:location ?location\n",
      "}\n",
      "GROUP BY ?location\n",
      "ORDER BY DESC(?count)\n",
      "LIMIT 1\n",
      " \n",
      " \n",
      "PREFIX qpr: <http://istresearch.com/qpr>\n",
      "SELECT ?location ?ad\n",
      "WHERE\n",
      "{\t?ad a qpr:Ad;\n",
      "\tqpr:name 'Faith';\n",
      "\tqpr:location ?location\n",
      "}\n",
      " \n",
      " \n"
     ]
    }
   ],
   "source": [
    "i = 14\n",
    "\n",
    "print gt_questions[i]['id']\n",
    "print ' '\n",
    "print gt_questions[i]['question']\n",
    "print ' '\n",
    "for entry in gt_questions[i]['SPARQL']:\n",
    "    print entry\n",
    "    print \" \"\n",
    "    print \" \""
   ]
  },
  {
   "cell_type": "code",
   "execution_count": null,
   "metadata": {
    "collapsed": true
   },
   "outputs": [],
   "source": []
  }
 ],
 "metadata": {
  "anaconda-cloud": {},
  "kernelspec": {
   "display_name": "Python 2",
   "language": "python",
   "name": "python2"
  },
  "language_info": {
   "codemirror_mode": {
    "name": "ipython",
    "version": 2
   },
   "file_extension": ".py",
   "mimetype": "text/x-python",
   "name": "python",
   "nbconvert_exporter": "python",
   "pygments_lexer": "ipython2",
   "version": "2.7.11"
  }
 },
 "nbformat": 4,
 "nbformat_minor": 0
}
