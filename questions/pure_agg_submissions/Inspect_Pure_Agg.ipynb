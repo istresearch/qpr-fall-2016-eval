{
 "cells": [
  {
   "cell_type": "code",
   "execution_count": 1,
   "metadata": {
    "collapsed": true
   },
   "outputs": [],
   "source": [
    "import json"
   ]
  },
  {
   "cell_type": "markdown",
   "metadata": {},
   "source": [
    "### Define Files"
   ]
  },
  {
   "cell_type": "code",
   "execution_count": 2,
   "metadata": {
    "collapsed": true
   },
   "outputs": [],
   "source": [
    "# questions_file = '../pure_agg_gt_questions_V3.json'\n",
    "questions_file = 'DD_pure_aggregate_selection/pure_agg_dd_questions_V2.json'"
   ]
  },
  {
   "cell_type": "code",
   "execution_count": 3,
   "metadata": {
    "collapsed": false
   },
   "outputs": [],
   "source": [
    "pa_questions = []\n",
    "f = open(questions_file, 'r')\n",
    "for line in f:\n",
    "    temp = json.loads(line)\n",
    "    pa_questions.append(temp)\n",
    "f.close()"
   ]
  },
  {
   "cell_type": "markdown",
   "metadata": {},
   "source": [
    "## Confirm Consistent Structure"
   ]
  },
  {
   "cell_type": "code",
   "execution_count": 4,
   "metadata": {
    "collapsed": false
   },
   "outputs": [
    {
     "name": "stdout",
     "output_type": "stream",
     "text": [
      "[u'question', u'type', u'SPARQL', u'id']\n",
      "[u'question', u'type', u'SPARQL', u'id']\n",
      "[u'question', u'type', u'SPARQL', u'id']\n",
      "[u'question', u'type', u'SPARQL', u'id']\n",
      "[u'question', u'type', u'SPARQL', u'id']\n",
      "[u'question', u'type', u'SPARQL', u'id']\n",
      "[u'question', u'type', u'SPARQL', u'id']\n",
      "[u'question', u'type', u'SPARQL', u'id']\n",
      "[u'question', u'type', u'SPARQL', u'id']\n",
      "[u'question', u'type', u'SPARQL', u'id']\n",
      "[u'question', u'type', u'SPARQL', u'id']\n",
      "[u'question', u'type', u'SPARQL', u'id']\n",
      "[u'question', u'type', u'SPARQL', u'id']\n",
      "[u'question', u'type', u'SPARQL', u'id']\n",
      "[u'question', u'type', u'SPARQL', u'id']\n"
     ]
    }
   ],
   "source": [
    "for question in pa_questions:\n",
    "    print question.keys()"
   ]
  },
  {
   "cell_type": "code",
   "execution_count": 5,
   "metadata": {
    "collapsed": false
   },
   "outputs": [
    {
     "name": "stdout",
     "output_type": "stream",
     "text": [
      "1\n",
      "2\n",
      "3\n",
      "4\n",
      "5\n",
      "6\n",
      "7\n",
      "8\n",
      "9\n",
      "10\n",
      "11\n",
      "12\n",
      "13\n",
      "14\n",
      "15\n"
     ]
    }
   ],
   "source": [
    "for question in pa_questions:\n",
    "    print question['id']"
   ]
  },
  {
   "cell_type": "markdown",
   "metadata": {},
   "source": [
    "## Check for:\n",
    "Natural language question matches what's conveyed in SPARQL queries\n",
    "\n",
    "Filter features (e.g., \"phone number\") are consistent b/w both SPARQL queries\n",
    "\n",
    "Filter values (e.g., \"6187098512\") are consistent b/w both SPARQL queries\n",
    "\n",
    "Aggregate features (e.g., \"age\") are consistent b/w both SPARQL queries\n",
    "\n",
    "Both SPARQL queries validate"
   ]
  },
  {
   "cell_type": "code",
   "execution_count": 14,
   "metadata": {
    "collapsed": false
   },
   "outputs": [
    {
     "name": "stdout",
     "output_type": "stream",
     "text": [
      "2\n",
      " \n",
      "What is the most common email address found in ads with the phone number 6197585452?\n",
      " \n",
      "MODE\n",
      " \n",
      "PREFIX qpr:<http://istresearch.com/qpr>\n",
      "SELECT ?email ((count(?ad)) AS ?count)\n",
      "WHERE\n",
      "{\t?ad a qpr:Ad ;\n",
      "\tqpr:phone '6197585452' ;\n",
      "\tqpr:email ?email .\n",
      "}\n",
      "GROUP BY ?email\n",
      "ORDER BY DESC(?count)\n",
      "LIMIT 1\n",
      " \n",
      " \n",
      "PREFIX qpr:<http://istresearch.com/qpr>\n",
      "SELECT ?email ?ad\n",
      "WHERE\n",
      "{\t?ad a qpr:Ad ;\n",
      "\tqpr:phone '6197585452' ;\n",
      "\tqpr:email ?email .\n",
      "}\n",
      " \n",
      " \n"
     ]
    }
   ],
   "source": [
    "i = 1\n",
    "\n",
    "print pa_questions[i]['id']\n",
    "print ' '\n",
    "print pa_questions[i]['question']\n",
    "print ' '\n",
    "print pa_questions[i]['type']\n",
    "print ' '\n",
    "for entry in pa_questions[i]['SPARQL']:\n",
    "    print entry\n",
    "    print \" \"\n",
    "    print \" \""
   ]
  },
  {
   "cell_type": "code",
   "execution_count": null,
   "metadata": {
    "collapsed": true
   },
   "outputs": [],
   "source": []
  }
 ],
 "metadata": {
  "anaconda-cloud": {},
  "kernelspec": {
   "display_name": "Python 2",
   "language": "python",
   "name": "python2"
  },
  "language_info": {
   "codemirror_mode": {
    "name": "ipython",
    "version": 2
   },
   "file_extension": ".py",
   "mimetype": "text/x-python",
   "name": "python",
   "nbconvert_exporter": "python",
   "pygments_lexer": "ipython2",
   "version": "2.7.11"
  }
 },
 "nbformat": 4,
 "nbformat_minor": 0
}
