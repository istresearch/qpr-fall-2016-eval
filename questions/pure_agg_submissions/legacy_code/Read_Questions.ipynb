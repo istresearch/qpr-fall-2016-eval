{
 "cells": [
  {
   "cell_type": "code",
   "execution_count": 4,
   "metadata": {
    "collapsed": true
   },
   "outputs": [],
   "source": [
    "import json"
   ]
  },
  {
   "cell_type": "markdown",
   "metadata": {},
   "source": [
    "### Set Paths"
   ]
  },
  {
   "cell_type": "code",
   "execution_count": 1,
   "metadata": {
    "collapsed": false
   },
   "outputs": [],
   "source": [
    "#posted_file = '../post_aggregate_V2.json'\n",
    "#pf_file = '../post_point_fact_V3.json'\n",
    "isi_file = '../isi_aggregate_V3.json'\n",
    "uncharted_file = '../uncharted_aggregate_questions_V5.json'\n",
    "georgetown_file = '../Georgetown_query_V5.json'"
   ]
  },
  {
   "cell_type": "code",
   "execution_count": 5,
   "metadata": {
    "collapsed": false
   },
   "outputs": [
    {
     "name": "stdout",
     "output_type": "stream",
     "text": [
      "uncharted\n",
      "GT\n"
     ]
    }
   ],
   "source": [
    "#posted = []\n",
    "#f = open(posted_file, 'r')\n",
    "#for line in f:\n",
    "#    temp = json.loads(line)\n",
    "#    posted.append(temp)\n",
    "#f.close()\n",
    "\n",
    "#pf = []\n",
    "#f = open(pf_file, 'r')\n",
    "#for line in f:\n",
    "#    temp = json.loads(line)\n",
    "#    pf.append(temp)\n",
    "#f.close()\n",
    "\n",
    "f = open(isi_file, 'r')\n",
    "isi = eval(f.read())\n",
    "f.close()\n",
    "\n",
    "print \"uncharted\"\n",
    "f = open(uncharted_file, 'r')\n",
    "uncharted = eval(f.read())\n",
    "f.close()\n",
    "\n",
    "print \"GT\"\n",
    "georgetown = []\n",
    "f = open(georgetown_file, 'r')\n",
    "for line in f:\n",
    "    entry = json.loads(line)\n",
    "    georgetown.append(entry)\n",
    "f.close()"
   ]
  },
  {
   "cell_type": "code",
   "execution_count": 41,
   "metadata": {
    "collapsed": false
   },
   "outputs": [
    {
     "data": {
      "text/plain": [
       "[u'question', u'type', u'id', u'SPARQL']"
      ]
     },
     "execution_count": 41,
     "metadata": {},
     "output_type": "execute_result"
    }
   ],
   "source": [
    "georgetown[0].keys()"
   ]
  },
  {
   "cell_type": "code",
   "execution_count": 42,
   "metadata": {
    "collapsed": false
   },
   "outputs": [
    {
     "data": {
      "text/plain": [
       "['question', 'type', 'id', 'SPARQL']"
      ]
     },
     "execution_count": 42,
     "metadata": {},
     "output_type": "execute_result"
    }
   ],
   "source": [
    "uncharted[0].keys()"
   ]
  },
  {
   "cell_type": "code",
   "execution_count": 17,
   "metadata": {
    "collapsed": false
   },
   "outputs": [
    {
     "name": "stdout",
     "output_type": "stream",
     "text": [
      "PREFIX qpr: <http://istresearch.com/qpr>\n",
      "SELECT ((count(?ad)) AS ?count) ?ethnicity\n",
      "WHERE\n",
      "{\t?ad a qpr:Ad ;\n",
      "\tqpr:service 'nuru' ;\n",
      "\tqpr:location 'Costa Mesa, California';\n",
      "\tqpr:ethnicity ?ethnicity ;\n",
      "\tqpr:ad ?ad .\n",
      "}\n",
      "GROUP BY ?ethnicity\n",
      "ORDER BY DESC(?count)\n",
      "LIMIT 1\n",
      " \n",
      "PREFIX qpr: <http://istresearch.com/qpr>\n",
      "SELECT ?ad ?ethnicity\n",
      "WHERE\n",
      "{\t?ad a qpr:Ad ;\n",
      "\tqpr:service 'nuru' ;\n",
      "\tqpr:location 'Costa Mesa, California';\n",
      "\tqpr:ethnicity ?ethnicity ;\n",
      "\tqpr:ad ?ad .\n",
      "}\n",
      " \n"
     ]
    }
   ],
   "source": [
    "#validates\n",
    "isi_no_good = [2, 3, 4, 5, 6, 9]\n",
    "\n",
    "#SPARQL matches NL\n",
    "\n",
    "i = 5\n",
    "for query in isi[i]['SPARQL']:\n",
    "    print query\n",
    "    print \" \""
   ]
  },
  {
   "cell_type": "code",
   "execution_count": 24,
   "metadata": {
    "collapsed": false
   },
   "outputs": [
    {
     "name": "stdout",
     "output_type": "stream",
     "text": [
      "PREFIX qpr: <http://istresearch.com/qpr>\n",
      "SELECT (MIN(?height) AS ?min_height) \n",
      "WHERE\n",
      "{\t?ad a qpr:Ad ;\n",
      "\tqpr:email 'pimbty77@gmail.com' ;\n",
      "\tqpr:height ?height .\n",
      "}\n",
      " \n",
      "PREFIX qpr: <http://istresearch.com/qpr>\n",
      "SELECT ?height ?ad\n",
      "WHERE\n",
      "{\t?ad a qpr:Ad ;\n",
      "\tqpr:email 'pimbty77@gmail.com' ;\n",
      "\tqpr:height ?height .\n",
      "}\n",
      " \n"
     ]
    }
   ],
   "source": [
    "i = 8\n",
    "\n",
    "for entry in georgetown[i]['SPARQL']:\n",
    "    print entry\n",
    "    print \" \"\n",
    "    \n",
    "#print georgetown[i]['type']\n",
    "\n",
    "#print georgetown[i]['question']"
   ]
  },
  {
   "cell_type": "code",
   "execution_count": 57,
   "metadata": {
    "collapsed": false
   },
   "outputs": [
    {
     "name": "stdout",
     "output_type": "stream",
     "text": [
      "PREFIX qpr: <http://istresearch.com/qpr>\n",
      "SELECT (MIN(?price) AS ?min_price) \n",
      "WHERE\n",
      "{\t?cluster a qpr:cluster ;\n",
      "\tqpr:seed '6126696637' ;\n",
      "\tqpr:price ?price ;\n",
      "\tqpr:ad ?ad .\n",
      "}\n",
      " \n",
      "PREFIX qpr: <http://istresearch.com/qpr>\n",
      "SELECT ?price ?ad\n",
      "WHERE\n",
      "{\t?cluster a qpr:cluster ;\n",
      "\tqpr:seed '6126696637' ;\n",
      "\tqpr:price ?price ;\n",
      "\tqpr:ad ?ad .\n",
      "}\n",
      " \n"
     ]
    }
   ],
   "source": [
    "i = 2\n",
    "\n",
    "for entry in posted[i]['SPARQL']:\n",
    "    print entry\n",
    "    print \" \""
   ]
  },
  {
   "cell_type": "code",
   "execution_count": 25,
   "metadata": {
    "collapsed": false
   },
   "outputs": [
    {
     "name": "stdout",
     "output_type": "stream",
     "text": [
      "PREFIX qpr: <http://istresearch.com/qpr>\n",
      "SELECT ?ad ?ethnicity\n",
      "WHERE\n",
      "{\t?ad a qpr:Ad ;\n",
      "\tqpr:phone '6135019502' ;\n",
      "\tqpr:location 'Toronto, Ontario' ;\n",
      "\tqpr:ethnicity ?ethnicity ;\n",
      "\tqpr:title ?title .\n",
      "\tFILTER CONTAINS(LCASE(?title), 'the millionaires mistress')\n",
      "}\n",
      " \n"
     ]
    }
   ],
   "source": [
    "i = 0\n",
    "\n",
    "for entry in pf[i]['SPARQL']:\n",
    "    print entry\n",
    "    print \" \""
   ]
  },
  {
   "cell_type": "code",
   "execution_count": null,
   "metadata": {
    "collapsed": false
   },
   "outputs": [],
   "source": [
    "uncharted[0]['question']"
   ]
  },
  {
   "cell_type": "code",
   "execution_count": null,
   "metadata": {
    "collapsed": true
   },
   "outputs": [],
   "source": []
  }
 ],
 "metadata": {
  "kernelspec": {
   "display_name": "Python 2",
   "language": "python",
   "name": "python2"
  },
  "language_info": {
   "codemirror_mode": {
    "name": "ipython",
    "version": 2
   },
   "file_extension": ".py",
   "mimetype": "text/x-python",
   "name": "python",
   "nbconvert_exporter": "python",
   "pygments_lexer": "ipython2",
   "version": "2.7.11"
  }
 },
 "nbformat": 4,
 "nbformat_minor": 0
}
