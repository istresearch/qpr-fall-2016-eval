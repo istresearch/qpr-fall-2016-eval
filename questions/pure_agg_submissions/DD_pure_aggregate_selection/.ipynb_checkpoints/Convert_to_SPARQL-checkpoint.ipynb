{
 "cells": [
  {
   "cell_type": "code",
   "execution_count": 144,
   "metadata": {
    "collapsed": true
   },
   "outputs": [],
   "source": [
    "import json"
   ]
  },
  {
   "cell_type": "code",
   "execution_count": 145,
   "metadata": {
    "collapsed": true
   },
   "outputs": [],
   "source": [
    "def select_line(qtype, contains):\n",
    "    if qtype == 'MODE':\n",
    "        line = 'SELECT ?{0} ((count(?ad)) AS ?count)'.format(contains)\n",
    "    if qtype == 'MAX':  \n",
    "        line = 'SELECT ((MAX(?{0})) AS ?max_{0})'.format(contains)\n",
    "    if qtype == 'MIN':  \n",
    "        line = 'SELECT ((MIN(?{0})) AS ?min_{0})'.format(contains)\n",
    "    if qtype == 'AVG':  \n",
    "        line = 'SELECT ((AVG(?{0})) AS ?avg_{0})'.format(contains)\n",
    "    return line + '\\n'"
   ]
  },
  {
   "cell_type": "markdown",
   "metadata": {},
   "source": [
    "### Load Data"
   ]
  },
  {
   "cell_type": "code",
   "execution_count": 146,
   "metadata": {
    "collapsed": false
   },
   "outputs": [],
   "source": [
    "dd_structure_file = 'pure_agg_DD_structure_V2.json'\n",
    "with open(dd_structure_file, 'r') as f:\n",
    "    structure = eval(f.read())"
   ]
  },
  {
   "cell_type": "code",
   "execution_count": 147,
   "metadata": {
    "collapsed": false
   },
   "outputs": [],
   "source": [
    "examples = []\n",
    "example_file = '../../pure_agg_gt_questions_V3.json'\n",
    "with open(example_file, 'r') as f:\n",
    "    for line in f:\n",
    "        temp = json.loads(line)\n",
    "        examples.append(temp)"
   ]
  },
  {
   "cell_type": "code",
   "execution_count": 148,
   "metadata": {
    "collapsed": false
   },
   "outputs": [
    {
     "name": "stdout",
     "output_type": "stream",
     "text": [
      "PREFIX qpr: <http://istresearch.com/qpr>\n",
      "SELECT ?age ((count(?ad)) AS ?count)\n",
      "WHERE\n",
      "{\t?ad a qpr:Ad ;\n",
      "\tqpr:phone '6466423890' ;\n",
      "\tqpr:location 'Sayville' ;\n",
      "\tqpr:age ?age .\n",
      "}\n",
      "GROUP BY ?age\n",
      "ORDER BY DESC(?count)\n",
      "LIMIT 1\n",
      " \n",
      " \n",
      "PREFIX qpr: <http://istresearch.com/qpr>\n",
      "SELECT ?age ?ad\n",
      "WHERE\n",
      "{\t?ad a qpr:Ad ;\n",
      "\tqpr:phone '6466423890' ;\n",
      "\tqpr:location 'Sayville' ;\n",
      "\tqpr:age ?age .\n",
      "}\n"
     ]
    }
   ],
   "source": [
    "i = 2\n",
    "print examples[i]['SPARQL'][0]\n",
    "print ' '\n",
    "print ' '\n",
    "print examples[i]['SPARQL'][1]"
   ]
  },
  {
   "cell_type": "code",
   "execution_count": 149,
   "metadata": {
    "collapsed": true
   },
   "outputs": [],
   "source": [
    "# Created questions after first round of seeing SPARQL queries:\n",
    "nl_questions = []\n",
    "nl_questions.append(\"What is the average age found in ads with the phone number 6187098512?\")\n",
    "nl_questions.append(\"What is the most common email address found in ads with the phone number 6197585452?\")\n",
    "nl_questions.append(\"What is the most common location found in ads where the provider's age is given as 34?\")\n",
    "nl_questions.append(\"What is the most common email address found in ads where the provider's age is given as 30?\")\n",
    "nl_questions.append(\"What is the maximum age found in ads where the price is given as '150,NO DURATION'?\")\n",
    "nl_questions.append(\"What is the minimum age found in ads where the price is given as '100,NO DURATION'?\")\n",
    "nl_questions.append(\"What is the most common location found in ads where the provider's name is given as Avery?\")\n",
    "nl_questions.append(\"What is the minimum age found in ads where the provider's name is given as Vanesa?\")\n",
    "nl_questions.append(\"What is the most common phone number found in ads with the email address annabelle@denver-escort.com?\")\n",
    "nl_questions.append(\"What is the average age found in ads with the email address info@bombshellescorts.com?\")           \n",
    "nl_questions.append(\"What is the maximum price found in ads where the location is St. Louis, Missouri?\")\n",
    "nl_questions.append(\"What is the average age found in ads where the location is Albany, New York?\")\n",
    "nl_questions.append(\"What is the most common hair color found in ads where the provider's age is given as 44?\")\n",
    "nl_questions.append(\"What is the average height found in ads where the provider's name is given as Blair?\")\n",
    "nl_questions.append(\"What is the maximum weight found in ads where the provider's age is given as 28?\")"
   ]
  },
  {
   "cell_type": "code",
   "execution_count": 150,
   "metadata": {
    "collapsed": false
   },
   "outputs": [],
   "source": [
    "line1 = 'PREFIX qpr:<http://istresearch.com/qpr>\\n'\n",
    "line3 = 'WHERE\\n'\n",
    "line4 = '{\\t?ad a qpr:Ad ;\\n'\n",
    "\n",
    "i = 0\n",
    "dd_questions = []\n",
    "for entry in structure:\n",
    "    temp = {}\n",
    "    temp['SPARQL'] = []\n",
    "    temp['question'] = nl_questions[i]\n",
    "    qtype = entry['type']\n",
    "    temp['type'] = qtype\n",
    "    temp['id'] = i+1\n",
    "    # Get the info\n",
    "    contains = entry['contains'].split('-')[1]\n",
    "    filter_feature = entry['filter']['feature'].split('-')[1]\n",
    "    if 'loc_name' in entry['filter'].keys():\n",
    "        filter_value = entry['filter']['loc_name']\n",
    "    else:\n",
    "        filter_value = entry['filter']['value']\n",
    "    if '+1' in filter_value:\n",
    "        filter_value = filter_value.strip('+1')\n",
    "    if filter_feature == 'rate':\n",
    "        filter_feature = 'price'\n",
    "    if contains == 'rate':\n",
    "        contains = 'price'\n",
    "    \n",
    "    \n",
    "    # Parse first query\n",
    "    line2 = select_line(qtype, contains)\n",
    "    line5 = \"\\tqpr:{0} '{1}' ;\\n\".format(filter_feature, filter_value)\n",
    "    line6 = \"\\tqpr:{0} ?{0} .\\n\".format(contains)\n",
    "    line7 = '}'\n",
    "    line8 = 'GROUP BY ?{0}\\n'.format(contains)\n",
    "    line9 = 'ORDER BY DESC(?count)\\n'\n",
    "    line10 = 'LIMIT 1'\n",
    "    \n",
    "    sparql1 = (line1 + line2 + line3 + line4 + line5 + line6\n",
    "               + line7)\n",
    "    if qtype == 'MODE':\n",
    "        sparql1 = sparql1 + '\\n' + line8 + line9 + line10\n",
    "    temp['SPARQL'].append(sparql1)\n",
    "\n",
    "    # Parse secone query\n",
    "    line2 = 'SELECT ?{0} ?ad\\n'.format(contains)\n",
    "    sparql2 = (line1 + line2 + line3 + line4 + line5 + line6\n",
    "               + line7)\n",
    "    temp['SPARQL'].append(sparql2)\n",
    "    \n",
    "    # Add temp to questions\n",
    "    dd_questions.append(temp)\n",
    "    i += 1\n",
    "    "
   ]
  },
  {
   "cell_type": "code",
   "execution_count": 151,
   "metadata": {
    "collapsed": false
   },
   "outputs": [],
   "source": [
    "rm 'pure_agg_dd_questions.json'"
   ]
  },
  {
   "cell_type": "code",
   "execution_count": 152,
   "metadata": {
    "collapsed": false
   },
   "outputs": [],
   "source": [
    "dd_pure_agg_file = 'pure_agg_dd_questions.json'\n",
    "        \n",
    "with open(dd_pure_agg_file, 'w') as f:\n",
    "    for question in dd_questions[:-1]:\n",
    "        temp = json.dumps(question)\n",
    "        f.write(temp + '\\n')\n",
    "    temp = json.dumps(dd_questions[-1])\n",
    "    f.write(temp)"
   ]
  },
  {
   "cell_type": "code",
   "execution_count": 153,
   "metadata": {
    "collapsed": false
   },
   "outputs": [
    {
     "name": "stdout",
     "output_type": "stream",
     "text": [
      "What is the average age found in ads with the phone number 6187098512?\n",
      " \n",
      " \n",
      "PREFIX qpr:<http://istresearch.com/qpr>\n",
      "SELECT ((AVG(?age)) AS ?avg_age)\n",
      "WHERE\n",
      "{\t?ad a qpr:Ad ;\n",
      "\tqpr:phone '6187098512' ;\n",
      "\tqpr:age ?age .\n",
      "}\n",
      " \n",
      " \n",
      "PREFIX qpr:<http://istresearch.com/qpr>\n",
      "SELECT ?age ?ad\n",
      "WHERE\n",
      "{\t?ad a qpr:Ad ;\n",
      "\tqpr:phone '6187098512' ;\n",
      "\tqpr:age ?age .\n",
      "}\n",
      " \n",
      " \n"
     ]
    }
   ],
   "source": [
    "i = 0\n",
    "\n",
    "print dd_questions[i][\"question\"]\n",
    "print ' '\n",
    "print ' '\n",
    "for entry in dd_questions[i]['SPARQL']:\n",
    "    print entry\n",
    "    print ' '\n",
    "    print ' '"
   ]
  },
  {
   "cell_type": "code",
   "execution_count": null,
   "metadata": {
    "collapsed": true
   },
   "outputs": [],
   "source": []
  }
 ],
 "metadata": {
  "kernelspec": {
   "display_name": "Python 2",
   "language": "python",
   "name": "python2"
  },
  "language_info": {
   "codemirror_mode": {
    "name": "ipython",
    "version": 2
   },
   "file_extension": ".py",
   "mimetype": "text/x-python",
   "name": "python",
   "nbconvert_exporter": "python",
   "pygments_lexer": "ipython2",
   "version": "2.7.11"
  }
 },
 "nbformat": 4,
 "nbformat_minor": 0
}
