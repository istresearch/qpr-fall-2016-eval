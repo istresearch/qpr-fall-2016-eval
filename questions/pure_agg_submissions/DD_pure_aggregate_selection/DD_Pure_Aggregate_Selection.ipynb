{
 "cells": [
  {
   "cell_type": "code",
   "execution_count": null,
   "metadata": {
    "collapsed": true
   },
   "outputs": [],
   "source": [
    "import json"
   ]
  },
  {
   "cell_type": "markdown",
   "metadata": {},
   "source": [
    "### Load Data"
   ]
  },
  {
   "cell_type": "code",
   "execution_count": null,
   "metadata": {
    "collapsed": false
   },
   "outputs": [],
   "source": [
    "ground_truth_questions_file = '../../updated_pure_aggregate_V2.json'\n",
    "lattice_extractions_file = '../../../data/lattice_extractions/data_nyu_2016-11-14.json'"
   ]
  },
  {
   "cell_type": "code",
   "execution_count": null,
   "metadata": {
    "collapsed": false
   },
   "outputs": [],
   "source": [
    "# Load Ground Truth \n",
    "ground_truth_questions = []\n",
    "with open(ground_truth_questions_file, 'r') as f:\n",
    "    for line in f:\n",
    "        temp = json.loads(line)\n",
    "        ground_truth_questions.append(temp)\n",
    "\n",
    "# Quick sanity check to make sure \"special\" feature values\n",
    "# have been selected\n",
    "if 'Sayville' not in ground_truth_questions[2]['question']:\n",
    "    print \"Check ground truth question file\""
   ]
  },
  {
   "cell_type": "code",
   "execution_count": null,
   "metadata": {
    "collapsed": false
   },
   "outputs": [],
   "source": [
    "lattice_extractions = []\n",
    "with open(lattice_extractions_file, 'r') as f:\n",
    "    for line in f:\n",
    "        temp = json.loads(line)\n",
    "        lattice_extractions.append(temp)\n",
    "        \n",
    "lattice_features = []\n",
    "for entry in lattice_extractions:\n",
    "    lattice_features.extend(entry['extractions'].keys())\n",
    "\n",
    "lattice_features = list(set(lattice_features))"
   ]
  },
  {
   "cell_type": "code",
   "execution_count": null,
   "metadata": {
    "collapsed": true
   },
   "outputs": [],
   "source": [
    "# Define which lattice features are fair game to ask about\n",
    "valid_features = [\n",
    "    'lattice-phone',\n",
    "    'lattice-age',\n",
    "    'lattice-rate',\n",
    "    'lattice-name',\n",
    "    'lattice-email',\n",
    "    'lattice-location',\n",
    "]\n",
    "del(lattice_features)"
   ]
  },
  {
   "cell_type": "markdown",
   "metadata": {},
   "source": [
    "## DIFFERENT APPROACH: Find matching depth"
   ]
  },
  {
   "cell_type": "markdown",
   "metadata": {},
   "source": [
    "### Matching depth = 1"
   ]
  },
  {
   "cell_type": "code",
   "execution_count": null,
   "metadata": {
    "collapsed": false
   },
   "outputs": [],
   "source": [
    "one_match = {}\n",
    "for filt in valid_features:\n",
    "    one_match[filt] = {}\n",
    "    temp = {}\n",
    "    for entry in lattice_extractions:\n",
    "        if filt in entry['extractions'].keys():\n",
    "            for val in entry['extractions'][filt]['results']:\n",
    "                if val['value'] in temp.keys():\n",
    "                    temp[val['value']].append(entry)\n",
    "                else:\n",
    "                    temp[val['value']] = [entry]\n",
    "    for value in temp.keys():\n",
    "        temp_contains = {}\n",
    "        if len(temp[value]) > 1:\n",
    "            #one_match[filt][value] = temp[value]\n",
    "            # for every thing in temp[value], find how many ads contain each feauture\n",
    "            for ad in temp[value]:\n",
    "                for contains_filt in valid_features:\n",
    "                    if contains_filt != filt:\n",
    "                        if contains_filt in ad['extractions'].keys():\n",
    "                            if contains_filt in temp_contains.keys():\n",
    "                                temp_contains[contains_filt].append(ad)\n",
    "                            else:\n",
    "                                temp_contains[contains_filt] = [ad]\n",
    "        one_match[filt][value] = temp_contains"
   ]
  },
  {
   "cell_type": "markdown",
   "metadata": {
    "collapsed": true
   },
   "source": [
    "### Manually Investigate Combinations"
   ]
  },
  {
   "cell_type": "code",
   "execution_count": null,
   "metadata": {
    "collapsed": false,
    "scrolled": true
   },
   "outputs": [],
   "source": [
    "# Choose a matching filter and see some value options\n",
    "filt = 'lattice-age'\n",
    "for entry in one_match[filt].keys()[0:10]:\n",
    "    print entry"
   ]
  },
  {
   "cell_type": "code",
   "execution_count": null,
   "metadata": {
    "collapsed": false
   },
   "outputs": [],
   "source": [
    "# Choose a filter value and see possible contains\n",
    "value = '28'\n",
    "for entry in one_match[filt][value].keys():\n",
    "    print entry"
   ]
  },
  {
   "cell_type": "code",
   "execution_count": null,
   "metadata": {
    "collapsed": false
   },
   "outputs": [],
   "source": [
    "# Choose a contains and see possible values\n",
    "contains = 'lattice-rate'\n",
    "for ad in one_match[filt][value][contains]:\n",
    "    # Confirm presence of value:\n",
    "    match = 0\n",
    "    for result in ad['extractions'][filt]['results']:\n",
    "        if result['value'] == value:\n",
    "            match = 1\n",
    "    if match == 1:\n",
    "        for result in ad['extractions'][contains]['results']:\n",
    "            if filt == 'lattice-location':\n",
    "                if contains == 'lattice-location':\n",
    "                    print (ad['extractions'][filt]['results'][0]['context'], result['context']['city']['name'])\n",
    "                else:\n",
    "                    print (ad['extractions'][filt]['results'][0]['context'], result['value'])\n",
    "            else:\n",
    "                if contains == 'lattice-location':\n",
    "                    print (ad['extractions'][filt]['results'], result['context']['city']['name'])\n",
    "                else:\n",
    "                    print (ad['extractions'][filt]['results'], result['value'])\n",
    "                print ad\n",
    "            print ' '"
   ]
  },
  {
   "cell_type": "markdown",
   "metadata": {
    "collapsed": true
   },
   "source": [
    "### Save Chosen Combos"
   ]
  },
  {
   "cell_type": "code",
   "execution_count": null,
   "metadata": {
    "collapsed": false
   },
   "outputs": [],
   "source": [
    "chosen = [\n",
    "    {'filter':\n",
    "        {'feature':'lattice-phone',\n",
    "        'value':'+16187098512'},\n",
    "     'contains':'lattice-age',\n",
    "     'type':'AVG'\n",
    "     },\n",
    "    {'filter':\n",
    "        {'feature':'lattice-phone',\n",
    "        'value':'+16197585452'},\n",
    "     'contains':'lattice-email',\n",
    "     'type':'MODE'\n",
    "     },\n",
    "    {'filter':\n",
    "        {'feature':'lattice-age',\n",
    "        'value':'21'},\n",
    "     'contains':'lattice-location',\n",
    "     'type':'MODE'\n",
    "     },\n",
    "    {'filter':\n",
    "        {'feature':'lattice-age',\n",
    "        'value':'30'},\n",
    "     'contains':'lattice-email',\n",
    "     'type':'MODE'\n",
    "     },\n",
    "    {'filter':\n",
    "        {'feature':'lattice-rate',\n",
    "        'value':'150,NO DURATION'},\n",
    "     'contains':'lattice-age',\n",
    "     'type':'MAX'\n",
    "     },\n",
    "    {'filter':\n",
    "        {'feature':'lattice-rate',\n",
    "        'value':'100,NO DURATION'},\n",
    "     'contains':'lattice-age',\n",
    "     'type':'MIN'\n",
    "     },\n",
    "    {'filter':\n",
    "        {'feature':'lattice-name',\n",
    "        'value':'Avery'},\n",
    "     'contains':'location',\n",
    "     'type':'MODE'\n",
    "     },\n",
    "    {'filter':\n",
    "        {'feature':'lattice-name',\n",
    "        'value':'Vanesa'},\n",
    "     'contains':'lattice-age',\n",
    "     'type':'MIN'\n",
    "     },\n",
    "    {'filter':\n",
    "        {'feature':'lattice-email',\n",
    "        'value':'annabelle@denver-escort.com'},\n",
    "     'contains':'lattice-phone',\n",
    "     'type':'MODE'\n",
    "     },\n",
    "    {'filter':\n",
    "        {'feature':'lattice-email',\n",
    "        'value':'info@bombshellescorts.com'},\n",
    "     'contains':'lattice-age',\n",
    "     'type':'AVG'\n",
    "     },\n",
    "    {'filter':\n",
    "        {'feature':'lattice-location',\n",
    "        'value':'St. Louis, Missouri'},\n",
    "     'contains':'lattice-rate',\n",
    "     'type':'MAX'\n",
    "     },\n",
    "    {'filter':\n",
    "        {'feature':'lattice-location',\n",
    "        'value':'Albany, New York'},\n",
    "     'contains':'lattice-age',\n",
    "     'type':'AVG'\n",
    "     },\n",
    "    {'filter':\n",
    "        {'feature':'lattice-age',\n",
    "        'value':'44'},\n",
    "     'contains':'found-hair',\n",
    "     'type':'MODE'\n",
    "     },\n",
    "    {'filter':\n",
    "        {'feature':'lattice-name',\n",
    "        'value':'Blair'},\n",
    "     'contains':'found_height',\n",
    "     'type':'AVG'\n",
    "     },\n",
    "    {'filter':\n",
    "        {'feature':'lattice-age',\n",
    "        'value':'28'},\n",
    "     'contains':'found_weight',\n",
    "     'type':'MAX'\n",
    "     }\n",
    "]\n",
    "\n",
    "print len(chosen)"
   ]
  },
  {
   "cell_type": "code",
   "execution_count": null,
   "metadata": {
    "collapsed": true
   },
   "outputs": [],
   "source": [
    "output_file = 'pure_agg_DD_structure.json'\n",
    "with open(output_file, 'w') as f:\n",
    "    json.dump(chosen, f, indent=2)"
   ]
  },
  {
   "cell_type": "markdown",
   "metadata": {},
   "source": [
    "### Will need to format these values (e.g., rate) into proper value format."
   ]
  },
  {
   "cell_type": "markdown",
   "metadata": {
    "collapsed": false
   },
   "source": [
    "## DEBUG"
   ]
  },
  {
   "cell_type": "code",
   "execution_count": null,
   "metadata": {
    "collapsed": false
   },
   "outputs": [],
   "source": [
    "one_match['lattice-phone']['+16187098512']['lattice-age'][0]['extractions'].keys()"
   ]
  },
  {
   "cell_type": "markdown",
   "metadata": {},
   "source": [
    "### Summarize Filters in Ground Truth Questions"
   ]
  },
  {
   "cell_type": "code",
   "execution_count": null,
   "metadata": {
    "collapsed": false
   },
   "outputs": [],
   "source": [
    "gt_summary = []\n",
    "for entry in ground_truth_questions:\n",
    "    temp_dict = {}\n",
    "    temp_dict['type'] = entry['type']\n",
    "    filters = []\n",
    "    contains = []\n",
    "    for line in entry['SPARQL'][0].split('\\n'):\n",
    "        if '\\tqpr' in line:\n",
    "            if '?' in line:\n",
    "                contains.append(line.split(':')[1].split(' ')[0])\n",
    "            else:\n",
    "                filters.append(line.split(':')[1].split(' ')[0])\n",
    "    temp_dict['filters'] = filters\n",
    "    temp_dict['contains'] = contains\n",
    "    gt_summary.append(temp_dict)\n",
    "    \n",
    "uniq_filters = []\n",
    "for entry in gt_summary:\n",
    "    tup = tuple(entry['filters'])\n",
    "    uniq_filters.append(tup)\n",
    "    \n",
    "uniq_filters = list(set(uniq_filters))"
   ]
  },
  {
   "cell_type": "code",
   "execution_count": null,
   "metadata": {
    "collapsed": false
   },
   "outputs": [],
   "source": [
    "for entry in [gt_summary[0]]:\n",
    "    for filt in entry['filters']:\n",
    "        if filt == 'price':\n",
    "            filt = 'rate'\n",
    "        lattice_filt = 'lattice-' + filt\n",
    "        print lattice_filt"
   ]
  },
  {
   "cell_type": "code",
   "execution_count": null,
   "metadata": {
    "collapsed": false
   },
   "outputs": [],
   "source": [
    "# This should happend after determining lattice_filt above\n",
    "for entry in lattice_extractions:\n",
    "    if 'lattice-content' in entry['extractions'].keys():\n",
    "        output = entry\n",
    "    "
   ]
  },
  {
   "cell_type": "markdown",
   "metadata": {},
   "source": [
    "# Trying to find non-extracted values"
   ]
  },
  {
   "cell_type": "code",
   "execution_count": null,
   "metadata": {
    "collapsed": false
   },
   "outputs": [],
   "source": [
    "for filt_value in one_match[filt].keys():\n",
    "    for entry in one_match[filt][filt_value]:\n",
    "        for sub_filt in one_match[filt][filt_value].keys():\n",
    "            for entry in one_match[filt][filt_value][sub_filt]:\n",
    "                if 'lattice-content' in entry['extractions'].keys():\n",
    "                    for result in entry['extractions']['lattice-content']['results']:\n",
    "                        if 'asian' in result['value'].lower():\n",
    "                            output =  entry"
   ]
  },
  {
   "cell_type": "code",
   "execution_count": null,
   "metadata": {
    "collapsed": true
   },
   "outputs": [],
   "source": []
  },
  {
   "cell_type": "code",
   "execution_count": null,
   "metadata": {
    "collapsed": true
   },
   "outputs": [],
   "source": []
  }
 ],
 "metadata": {
  "kernelspec": {
   "display_name": "Python 2",
   "language": "python",
   "name": "python2"
  },
  "language_info": {
   "codemirror_mode": {
    "name": "ipython",
    "version": 2
   },
   "file_extension": ".py",
   "mimetype": "text/x-python",
   "name": "python",
   "nbconvert_exporter": "python",
   "pygments_lexer": "ipython2",
   "version": "2.7.11"
  }
 },
 "nbformat": 4,
 "nbformat_minor": 0
}
