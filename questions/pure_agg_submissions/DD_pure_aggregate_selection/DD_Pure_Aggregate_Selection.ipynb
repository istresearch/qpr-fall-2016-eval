{
 "cells": [
  {
   "cell_type": "code",
   "execution_count": 1,
   "metadata": {
    "collapsed": true
   },
   "outputs": [],
   "source": [
    "import json"
   ]
  },
  {
   "cell_type": "markdown",
   "metadata": {},
   "source": [
    "### Load Data"
   ]
  },
  {
   "cell_type": "code",
   "execution_count": 2,
   "metadata": {
    "collapsed": false
   },
   "outputs": [],
   "source": [
    "ground_truth_questions_file = '../../updated_pure_aggregate_V2.json'\n",
    "lattice_extractions_file = '../../../data/lattice_extractions/data_nyu_2016-11-14.json'"
   ]
  },
  {
   "cell_type": "code",
   "execution_count": 3,
   "metadata": {
    "collapsed": false
   },
   "outputs": [],
   "source": [
    "# Load Ground Truth \n",
    "ground_truth_questions = []\n",
    "with open(ground_truth_questions_file, 'r') as f:\n",
    "    for line in f:\n",
    "        temp = json.loads(line)\n",
    "        ground_truth_questions.append(temp)\n",
    "\n",
    "# Quick sanity check to make sure \"special\" feature values\n",
    "# have been selected\n",
    "if 'Sayville' not in ground_truth_questions[2]['question']:\n",
    "    print \"Check ground truth question file\""
   ]
  },
  {
   "cell_type": "code",
   "execution_count": 4,
   "metadata": {
    "collapsed": false
   },
   "outputs": [],
   "source": [
    "lattice_extractions = []\n",
    "with open(lattice_extractions_file, 'r') as f:\n",
    "    for line in f:\n",
    "        temp = json.loads(line)\n",
    "        lattice_extractions.append(temp)\n",
    "        \n",
    "lattice_features = []\n",
    "for entry in lattice_extractions:\n",
    "    lattice_features.extend(entry['extractions'].keys())\n",
    "\n",
    "lattice_features = list(set(lattice_features))"
   ]
  },
  {
   "cell_type": "code",
   "execution_count": 5,
   "metadata": {
    "collapsed": true
   },
   "outputs": [],
   "source": [
    "# Define which lattice features are fair game to ask about\n",
    "valid_features = [\n",
    "    'lattice-phone',\n",
    "    'lattice-age',\n",
    "    'lattice-rate',\n",
    "    'lattice-name',\n",
    "    'lattice-email',\n",
    "    'lattice-location',\n",
    "]\n",
    "del(lattice_features)"
   ]
  },
  {
   "cell_type": "markdown",
   "metadata": {},
   "source": [
    "## DIFFERENT APPROACH: Find matching depth"
   ]
  },
  {
   "cell_type": "markdown",
   "metadata": {},
   "source": [
    "### Matching depth = 1"
   ]
  },
  {
   "cell_type": "code",
   "execution_count": 6,
   "metadata": {
    "collapsed": false
   },
   "outputs": [],
   "source": [
    "one_match = {}\n",
    "for filt in valid_features:\n",
    "    one_match[filt] = {}\n",
    "    temp = {}\n",
    "    for entry in lattice_extractions:\n",
    "        if filt in entry['extractions'].keys():\n",
    "            for val in entry['extractions'][filt]['results']:\n",
    "                if val['value'] in temp.keys():\n",
    "                    temp[val['value']].append(entry)\n",
    "                else:\n",
    "                    temp[val['value']] = [entry]\n",
    "    for value in temp.keys():\n",
    "        temp_contains = {}\n",
    "        if len(temp[value]) > 1:\n",
    "            #one_match[filt][value] = temp[value]\n",
    "            # for every thing in temp[value], find how many ads contain each feauture\n",
    "            for ad in temp[value]:\n",
    "                for contains_filt in valid_features:\n",
    "                    if contains_filt != filt:\n",
    "                        if contains_filt in ad['extractions'].keys():\n",
    "                            if contains_filt in temp_contains.keys():\n",
    "                                temp_contains[contains_filt].append(ad)\n",
    "                            else:\n",
    "                                temp_contains[contains_filt] = [ad]\n",
    "        one_match[filt][value] = temp_contains"
   ]
  },
  {
   "cell_type": "markdown",
   "metadata": {
    "collapsed": true
   },
   "source": [
    "### Manually Investigate Combinations"
   ]
  },
  {
   "cell_type": "code",
   "execution_count": 138,
   "metadata": {
    "collapsed": false,
    "scrolled": true
   },
   "outputs": [
    {
     "name": "stdout",
     "output_type": "stream",
     "text": [
      "30\n",
      "28\n",
      "29\n",
      "60\n",
      "19\n",
      "62\n",
      "63\n",
      "65\n",
      "66\n",
      "67\n",
      "68\n",
      "69\n",
      "80\n",
      "34\n",
      "24\n",
      "25\n",
      "26\n",
      "27\n",
      "20\n",
      "21\n",
      "22\n",
      "23\n",
      "46\n",
      "47\n",
      "44\n",
      "45\n",
      "42\n",
      "43\n",
      "40\n",
      "41\n",
      "35\n",
      "05\n",
      "18\n",
      "49\n",
      "03\n",
      "99\n",
      "70\n",
      "32\n",
      "10\n",
      "39\n"
     ]
    }
   ],
   "source": [
    "# Choose a matching filter and see some value options\n",
    "filt = 'lattice-age'\n",
    "for entry in one_match[filt].keys()[0:40]:\n",
    "    print entry"
   ]
  },
  {
   "cell_type": "code",
   "execution_count": 139,
   "metadata": {
    "collapsed": false
   },
   "outputs": [
    {
     "name": "stdout",
     "output_type": "stream",
     "text": [
      "lattice-phone\n",
      "lattice-rate\n",
      "lattice-location\n",
      "lattice-email\n",
      "lattice-name\n"
     ]
    }
   ],
   "source": [
    "# Choose a filter value and see possible contains\n",
    "value = '34'\n",
    "for entry in one_match[filt][value].keys():\n",
    "    print entry"
   ]
  },
  {
   "cell_type": "code",
   "execution_count": 140,
   "metadata": {
    "collapsed": false
   },
   "outputs": [
    {
     "name": "stdout",
     "output_type": "stream",
     "text": [
      "([{u'value': u'34'}], u'Metro Manila')\n",
      "{u'extractions': {u'lattice-postdatetime': {u'attribs': {u'website': u'https://lattice.io', u'version': u'1.0', u'type': u'lattice-postdatetime', u'inference-time': u'2016-11-14T23:37:09Z'}, u'results': [{u'value': u'2015-05-20', u'context': {u'month': 5, u'day': 20, u'year': 2015}}]}, u'lattice-title': {u'attribs': {u'website': u'https://lattice.io', u'version': u'1.0', u'type': u'lattice-title', u'inference-time': u'2016-11-14T23:37:09Z'}, u'results': [{u'value': u'daniccaramos - I CAN DO WHAT YOUR WIFE/GF CAN`T DO !!!'}]}, u'lattice-age': {u'attribs': {u'website': u'https://lattice.io', u'inference-time': u'2016-11-14T23:37:09Z', u'type': u'lattice-age', u'version': u'1.0'}, u'results': [{u'value': u'34'}]}, u'lattice-crawltime': {u'attribs': {u'website': u'https://lattice.io', u'version': u'1.0', u'type': u'lattice-crawltime', u'inference-time': u'2016-11-14T23:37:09Z'}, u'results': [{u'value': 1467772815244, u'context': {u'datetime': u'2016-07-06T02:40:15Z'}}]}, u'lattice-content': {u'attribs': {u'website': u'https://lattice.io', u'version': u'1.0', u'type': u'lattice-content', u'inference-time': u'2016-11-14T23:37:09Z'}, u'results': [{u'value': u'Thank you for taking the time to learn a little more about me. I love meeting new people and hope we can share exciting adventures together. I am a genuine independent escort and i offer good quality service at reasonable price. available 10am onwards you can text or better yet call me only entertain sure takers. i provide a safe , relaxing experience that is absolutely fullfilling and stimulating. Our time together will be intoxicating and unrushed . i guarantee that our time together will include elements that you will be able to remember for a long time.<br />&#13;\\n\\r\\n<br />&#13;\\nany clients call me up and i havent answered my phone, maybe im busy.. leave text message and ill get back to you as soon as possible... i seldom give my facebook account but if you are a real client i will give exception, you can look my profile pic , but i will never add anyone..\\r\\nany clients call me up and i havent answered my phone, maybe im busy.. leave text message and ill get back to you as soon as possible... i seldom give my facebook account but if you are a real client i will give exception, you can look my profile pic , but i will never add anyone..<br />&#13;\\n\\r\\n<br />&#13;\\nreading without understanding is like eating without digesting...\\r\\nreading without understanding is like eating without digesting...<br />&#13;\\n\\r\\n<br />&#13;\\nLOCAL CLIENTS:\\r\\nLOCAL CLIENTS:<br />&#13;\\n\\r\\n<br />&#13;\\nrates: i seldom give my service to any local clients, but if you are really interested just give me a call or sms or email for my rates.. i prefer filipino guy 35yrs old and above\\r\\nrates: i seldom give my service to any local clients, but if you are really interested just give me a call or sms or email for my rates.. i prefer filipino guy 35yrs old and above<br />&#13;\\n\\r\\n<br />&#13;\\n\\r\\n<br />&#13;\\nadditional hour 1000pesos \\r\\nadditional hour 1000pesos <br />&#13;\\n\\r\\n<br />&#13;\\nFOREIGN CLIENTS:\\r\\nFOREIGN CLIENTS:<br />&#13;\\n\\r\\n<br />&#13;\\nrate: 3hours- 4000pesos \\r\\nrate: 3hours- 4000pesos <br />&#13;\\novernight 8000pesos \\r\\novernight 8000pesos <br />&#13;\\n\\r\\n<br />&#13;\\nany local or foreign clients who wants my companion for 24 hours or whole day just email me for negotiation\\r\\nany local or foreign clients who wants my companion for 24 hours or whole day just email me for negotiation<br />&#13;\\n\\r\\n<br />&#13;\\nforeign clients with no local number, you can reach me using hotel landline number or message me via email&#13;\\n\\t\\r\\nforeign clients with no local number, you can reach me using hotel landline number or message me via email\\r\\n\\t \\r\\n        CIM (spitting),\\xa0 \\r\\ncross dressing,\\xa0 \\r\\ncunnilingus, DATY (giving),\\xa0 \\r\\ndeep throat,\\xa0 \\r\\ndogging,\\xa0 \\r\\nface sitting,\\xa0 \\r\\nfacials,\\xa0 \\r\\nfrench kissing,\\xa0 \\r\\ngirlfriend experience (GFE),\\xa0 \\r\\nhandjob,\\xa0 \\r\\noral (receiving),\\xa0 \\r\\noral with protection (covered blowjob),\\xa0 \\r\\noral without protection (OWO, bare blowjob),\\xa0 \\r\\nquickies (less than 30 minutes),\\xa0 \\r\\nrimming (giving),\\xa0 \\r\\nrimming (receiving),\\xa0 \\r\\nsex (protected),\\xa0 \\r\\nshower/bath/sauna together,\\xa0 \\r\\nstrap on,\\xa0 \\r\\nthreesomes (FFM),\\xa0 \\r\\n and more...'}]}, u'lattice-name': {u'attribs': {u'website': u'https://lattice.io', u'version': u'1.0', u'type': u'lattice-name', u'inference-time': u'2016-11-14T23:37:09Z'}, u'results': [{u'value': u'daniccaramos'}]}, u'lattice-location': {u'attribs': {u'website': u'https://lattice.io', u'version': u'1.0', u'type': u'lattice-location', u'inference-time': u'2016-11-14T23:37:09Z'}, u'results': [{u'probability': 1.0, u'value': u'1508', u'context': {u'country': {u'centroid_lon': 123.016667, u'centroid_lat': 11.333333, u'name': u'Philippines', u'wikidata_id': u'928'}, u'location': {u'centroid_lon': 121.0333333333, u'centroid_lat': 14.55, u'name': u'Makati, Philippines', u'wikidata_id': u'1508'}, u'city': {u'centroid_lon': 121.0, u'centroid_lat': 14.5833333333, u'name': u'Metro Manila', u'wikidata_id': u'13580'}}}]}}, u'_id': u'449415C77CADC641747422F0C622CB686CCD707DD6C0EFCFDDD1E609F7FDDA4A'}\n",
      " \n",
      "([{u'value': u'34'}], u'Kansas City')\n",
      "{u'extractions': {u'lattice-phone': {u'attribs': {u'website': u'https://lattice.io', u'inference-time': u'2016-11-14T23:37:09Z', u'type': u'lattice-phone', u'version': u'1.0'}, u'results': [{u'value': u'+16824028763', u'context': {u'obfuscated': False}}]}, u'lattice-postdatetime': {u'attribs': {u'website': u'https://lattice.io', u'version': u'1.0', u'type': u'lattice-postdatetime', u'inference-time': u'2016-11-14T23:37:09Z'}, u'results': [{u'value': u'2016-07-04', u'context': {u'month': 7, u'day': 4, u'year': 2016}}]}, u'lattice-title': {u'attribs': {u'website': u'https://lattice.io', u'version': u'1.0', u'type': u'lattice-title', u'inference-time': u'2016-11-14T23:37:09Z'}, u'results': [{u'value': u\"~~ Yes I'm Still Here ~~ REAL~44JJs ~ The Bbw Ms. Holly ~~ 4th Of July Special ~~  -\"}]}, u'lattice-age': {u'attribs': {u'website': u'https://lattice.io', u'inference-time': u'2016-11-14T23:37:09Z', u'type': u'lattice-age', u'version': u'1.0'}, u'results': [{u'value': u'34'}]}, u'lattice-crawltime': {u'attribs': {u'website': u'https://lattice.io', u'version': u'1.0', u'type': u'lattice-crawltime', u'inference-time': u'2016-11-14T23:37:09Z'}, u'results': [{u'value': 1469082591603, u'context': {u'datetime': u'2016-07-21T06:29:51Z'}}]}, u'lattice-content': {u'attribs': {u'website': u'https://lattice.io', u'version': u'1.0', u'type': u'lattice-content', u'inference-time': u'2016-11-14T23:37:09Z'}, u'results': [{u'value': u\"Hey guys I'm the sweet and sexy BBW bombshell Ms. Holly. Staying in town a while longer. But don't wait to come... just come see me RIGHT NOW!!!<br/><br/>\\U0001f4a5NO EXPLICIT CONVERSATION NO EXCEPTIONS\\U0001f4a5\\U0001f4a5NO EXPLICIT CONVERSATION NO EXCEPTIONS\\U0001f4a5<br/><br/>Call or text but I will voice verify before setting the appointment.Call or text but I will voice verify before setting the appointment.<br/><br/>\\U0001f386In Call 4th Of July Special\\U0001f386\\U0001f386In Call 4th Of July Special\\U0001f386<br/>\\u23f015@65\\u23f015@65<br/>\\u23f030@95\\u23f030@95<br/>\\u23f060@145\\u23f060@145<br/><br/>\\U0001f697Out Calls Available Depending Upon Your Location. ALL Out Calls @225\\U0001f697\\U0001f697Out Calls Available Depending Upon Your Location. ALL Out Calls @225\\U0001f697<br/><br/>\\U0001f495~Ms. Holly~\\U0001f495\\U0001f495~Ms. Holly~\\U0001f495<br/>\\U0001f4f1682-402-8763\\U0001f4f1682-402-8763<br/><br/>\\u2714\\u2714E C C I E Verified And Reviewed\\u2714\\u2714E C C I E Verified And Reviewed<br/>\"}]}, u'lattice-cdr-images': {u'attribs': {u'website': u'https://lattice.io', u'inference-time': u'2016-11-14T23:37:09Z', u'type': u'lattice-cdr-images', u'version': u'1.0'}, u'results': [{u'value': u'http://img1.lodef.net/imgs/0/d/6/e/0d6e71cafae437b9bc06674f4dccc4a4_f.jpg'}, {u'value': u'http://img1.lodef.net/imgs/1/5/a/7/15a734e93711c759bc4ef9db541595d3_f.jpg'}, {u'value': u'http://img1.lodef.net/imgs/1/6/b/b/16bbf736749c1df8723489022758ebb5_f.jpg'}, {u'value': u'http://img1.lodef.net/imgs/1/d/4/5/1d455a580ee8f66bb8a99f294e6b1fd2_f.jpg'}, {u'value': u'http://img1.lodef.net/imgs/2/9/b/f/29bf6636d636cc97a66a25d2441782e5_f.jpg'}, {u'value': u'http://img1.lodef.net/imgs/2/c/b/5/2cb588446dda058f51995f43a7a6af5e_f.jpg'}, {u'value': u'http://img1.lodef.net/imgs/6/5/3/2/65320f63e7792a86af15d945a63073af_f.jpg'}, {u'value': u'http://img2.lodef.net/imgs/c/9/5/7/c9573d336c86912cbba41b98ce476013_f.jpg'}, {u'value': u'http://img2.lodef.net/imgs/d/9/9/e/d99ead0cf8db743d979e0c4111ce451b_f.jpg'}, {u'value': u'http://img2.lodef.net/imgs/d/d/5/0/dd5046ea909166870cb3468cd8f32f02_f.jpg'}, {u'value': u'http://img2.lodef.net/imgs/e/6/f/f/e6ffc0d65768573330d1e1b9d8a7be63_f.jpg'}]}, u'lattice-location': {u'attribs': {u'website': u'https://lattice.io', u'version': u'1.0', u'type': u'lattice-location', u'inference-time': u'2016-11-14T23:37:09Z'}, u'results': [{u'probability': 0.984, u'value': u'41819', u'context': {u'country': {u'centroid_lon': -100.0, u'centroid_lat': 40.0, u'name': u'United States', u'wikidata_id': u'30'}, u'state': {u'centroid_lon': -92.5, u'centroid_lat': 38.5, u'name': u'Missouri', u'wikidata_id': u'1581'}, u'location': {u'centroid_lon': -94.5833333333, u'centroid_lat': 39.05, u'name': u'Kansas City, Missouri', u'wikidata_id': u'41819'}, u'city': {u'centroid_lon': -94.5833333333, u'centroid_lat': 39.05, u'name': u'Kansas City', u'wikidata_id': u'41819'}}}]}}, u'_id': u'04922DCB64F8E0C72AFC95E3D1C25027A960D604E3E7631F15F8EDC23550F9E4'}\n",
      " \n",
      "([{u'value': u'34'}], u'Everett')\n",
      "{u'extractions': {u'lattice-title': {u'attribs': {u'website': u'https://lattice.io', u'version': u'1.0', u'type': u'lattice-title', u'inference-time': u'2016-11-14T23:37:09Z'}, u'results': [{u'value': u'Nevaeh Love \\u2013 American escort in Everett, Washington'}]}, u'lattice-age': {u'attribs': {u'website': u'https://lattice.io', u'inference-time': u'2016-11-14T23:37:09Z', u'type': u'lattice-age', u'version': u'1.0'}, u'results': [{u'value': u'34'}]}, u'lattice-crawltime': {u'attribs': {u'website': u'https://lattice.io', u'version': u'1.0', u'type': u'lattice-crawltime', u'inference-time': u'2016-11-14T23:37:09Z'}, u'results': [{u'value': 1469106137282, u'context': {u'datetime': u'2016-07-21T13:02:17Z'}}]}, u'lattice-content': {u'attribs': {u'website': u'https://lattice.io', u'version': u'1.0', u'type': u'lattice-content', u'inference-time': u'2016-11-14T23:37:09Z'}, u'results': [{u'value': u\"<p>Smart sexy submissive and always satisfying. I'll please you and you can play with me any way you want. I'm always up for new things.</p>\"}]}, u'lattice-cdr-images': {u'attribs': {u'website': u'https://lattice.io', u'inference-time': u'2016-11-14T23:37:09Z', u'type': u'lattice-cdr-images', u'version': u'1.0'}, u'results': [{u'value': u'https://d18fr84zq3fgpm.cloudfront.net/nevaeh-love-american-escort-in-everett-washington-374052_basic.jpg'}, {u'value': u'https://d18fr84zq3fgpm.cloudfront.net/nevaeh-love-american-escort-in-everett-washington-374052_listing.jpg'}, {u'value': u'https://d18fr84zq3fgpm.cloudfront.net/nevaeh-love-american-escort-in-everett-washington-374052_original.jpg'}, {u'value': u'https://d18fr84zq3fgpm.cloudfront.net/nevaeh-love-american-escort-in-everett-washington-374054_basic.jpg'}, {u'value': u'https://d18fr84zq3fgpm.cloudfront.net/nevaeh-love-american-escort-in-everett-washington-374054_listing.jpg'}, {u'value': u'https://d18fr84zq3fgpm.cloudfront.net/nevaeh-love-american-escort-in-everett-washington-374054_original.jpg'}, {u'value': u'https://d18fr84zq3fgpm.cloudfront.net/nevaeh-love-american-escort-in-everett-washington-374055_basic.jpg'}, {u'value': u'https://d18fr84zq3fgpm.cloudfront.net/nevaeh-love-american-escort-in-everett-washington-374055_listing.jpg'}, {u'value': u'https://d18fr84zq3fgpm.cloudfront.net/nevaeh-love-american-escort-in-everett-washington-374055_original.jpg'}, {u'value': u'https://d18fr84zq3fgpm.cloudfront.net/nevaeh-love-american-escort-in-everett-washington-374057_basic.jpg'}, {u'value': u'https://d18fr84zq3fgpm.cloudfront.net/nevaeh-love-american-escort-in-everett-washington-374057_listing.jpg'}, {u'value': u'https://d18fr84zq3fgpm.cloudfront.net/nevaeh-love-american-escort-in-everett-washington-374057_original.jpg'}, {u'value': u'https://d18fr84zq3fgpm.cloudfront.net/nevaeh-love-american-escort-in-everett-washington-374237_basic.jpg'}, {u'value': u'https://d18fr84zq3fgpm.cloudfront.net/nevaeh-love-american-escort-in-everett-washington-374237_listing.jpg'}, {u'value': u'https://d18fr84zq3fgpm.cloudfront.net/nevaeh-love-american-escort-in-everett-washington-374237_original.jpg'}]}, u'lattice-location': {u'attribs': {u'website': u'https://lattice.io', u'version': u'1.0', u'type': u'lattice-location', u'inference-time': u'2016-11-14T23:37:09Z'}, u'results': [{u'probability': 1.0, u'value': u'392599', u'context': {u'country': {u'centroid_lon': -100.0, u'centroid_lat': 40.0, u'name': u'United States', u'wikidata_id': u'30'}, u'state': {u'centroid_lon': -120.5, u'centroid_lat': 47.5, u'name': u'Washington', u'wikidata_id': u'1223'}, u'location': {u'centroid_lon': -122.2005555556, u'centroid_lat': 47.9633333333, u'name': u'Everett, Washington', u'wikidata_id': u'392599'}, u'city': {u'centroid_lon': -122.2005555556, u'centroid_lat': 47.9633333333, u'name': u'Everett', u'wikidata_id': u'392599'}}}]}}, u'_id': u'6631DFFA92C5802870820E868E5AFD1BDF44FD9DE018176EC26593563FE24127'}\n",
      " \n"
     ]
    },
    {
     "ename": "KeyError",
     "evalue": "'city'",
     "output_type": "error",
     "traceback": [
      "\u001b[0;31m---------------------------------------------------------------------------\u001b[0m",
      "\u001b[0;31mKeyError\u001b[0m                                  Traceback (most recent call last)",
      "\u001b[0;32m<ipython-input-140-00d84d7407e7>\u001b[0m in \u001b[0;36m<module>\u001b[0;34m()\u001b[0m\n\u001b[1;32m     16\u001b[0m             \u001b[0;32melse\u001b[0m\u001b[0;34m:\u001b[0m\u001b[0;34m\u001b[0m\u001b[0m\n\u001b[1;32m     17\u001b[0m                 \u001b[0;32mif\u001b[0m \u001b[0mcontains\u001b[0m \u001b[0;34m==\u001b[0m \u001b[0;34m'lattice-location'\u001b[0m\u001b[0;34m:\u001b[0m\u001b[0;34m\u001b[0m\u001b[0m\n\u001b[0;32m---> 18\u001b[0;31m                     \u001b[0;32mprint\u001b[0m \u001b[0;34m(\u001b[0m\u001b[0mad\u001b[0m\u001b[0;34m[\u001b[0m\u001b[0;34m'extractions'\u001b[0m\u001b[0;34m]\u001b[0m\u001b[0;34m[\u001b[0m\u001b[0mfilt\u001b[0m\u001b[0;34m]\u001b[0m\u001b[0;34m[\u001b[0m\u001b[0;34m'results'\u001b[0m\u001b[0;34m]\u001b[0m\u001b[0;34m,\u001b[0m \u001b[0mresult\u001b[0m\u001b[0;34m[\u001b[0m\u001b[0;34m'context'\u001b[0m\u001b[0;34m]\u001b[0m\u001b[0;34m[\u001b[0m\u001b[0;34m'city'\u001b[0m\u001b[0;34m]\u001b[0m\u001b[0;34m[\u001b[0m\u001b[0;34m'name'\u001b[0m\u001b[0;34m]\u001b[0m\u001b[0;34m)\u001b[0m\u001b[0;34m\u001b[0m\u001b[0m\n\u001b[0m\u001b[1;32m     19\u001b[0m                 \u001b[0;32melse\u001b[0m\u001b[0;34m:\u001b[0m\u001b[0;34m\u001b[0m\u001b[0m\n\u001b[1;32m     20\u001b[0m                     \u001b[0;32mprint\u001b[0m \u001b[0;34m(\u001b[0m\u001b[0mad\u001b[0m\u001b[0;34m[\u001b[0m\u001b[0;34m'extractions'\u001b[0m\u001b[0;34m]\u001b[0m\u001b[0;34m[\u001b[0m\u001b[0mfilt\u001b[0m\u001b[0;34m]\u001b[0m\u001b[0;34m[\u001b[0m\u001b[0;34m'results'\u001b[0m\u001b[0;34m]\u001b[0m\u001b[0;34m,\u001b[0m \u001b[0mresult\u001b[0m\u001b[0;34m[\u001b[0m\u001b[0;34m'value'\u001b[0m\u001b[0;34m]\u001b[0m\u001b[0;34m)\u001b[0m\u001b[0;34m\u001b[0m\u001b[0m\n",
      "\u001b[0;31mKeyError\u001b[0m: 'city'"
     ]
    }
   ],
   "source": [
    "# Choose a contains and see possible values\n",
    "contains = 'lattice-location'\n",
    "for ad in one_match[filt][value][contains]:\n",
    "    # Confirm presence of value:\n",
    "    match = 0\n",
    "    for result in ad['extractions'][filt]['results']:\n",
    "        if result['value'] == value:\n",
    "            match = 1\n",
    "    if match == 1:\n",
    "        for result in ad['extractions'][contains]['results']:\n",
    "            if filt == 'lattice-location':\n",
    "                if contains == 'lattice-location':\n",
    "                    print (ad['extractions'][filt]['results'][0]['context'], result['context']['city']['name'])\n",
    "                else:\n",
    "                    print (ad['extractions'][filt]['results'][0]['context'], result['value'])\n",
    "            else:\n",
    "                if contains == 'lattice-location':\n",
    "                    print (ad['extractions'][filt]['results'], result['context']['city']['name'])\n",
    "                else:\n",
    "                    print (ad['extractions'][filt]['results'], result['value'])\n",
    "                print ad\n",
    "            print ' '"
   ]
  },
  {
   "cell_type": "markdown",
   "metadata": {
    "collapsed": true
   },
   "source": [
    "### Saved Chosen Combos from Manual Investigation"
   ]
  },
  {
   "cell_type": "code",
   "execution_count": 148,
   "metadata": {
    "collapsed": false
   },
   "outputs": [
    {
     "name": "stdout",
     "output_type": "stream",
     "text": [
      "15\n"
     ]
    }
   ],
   "source": [
    "chosen = [\n",
    "    {'filter':\n",
    "        {'feature':'lattice-phone',\n",
    "        'value':'+16187098512'},\n",
    "     'contains':'lattice-age',\n",
    "     'type':'AVG'\n",
    "     },\n",
    "    {'filter':\n",
    "        {'feature':'lattice-phone',\n",
    "        'value':'+16197585452'},\n",
    "     'contains':'lattice-email',\n",
    "     'type':'MODE'\n",
    "     },\n",
    "    {'filter':\n",
    "        {'feature':'lattice-age',\n",
    "        'value':'34'},\n",
    "     'contains':'lattice-location',\n",
    "     'type':'MODE'\n",
    "     },\n",
    "    {'filter':\n",
    "        {'feature':'lattice-age',\n",
    "        'value':'30'},\n",
    "     'contains':'lattice-email',\n",
    "     'type':'MODE'\n",
    "     },\n",
    "    {'filter':\n",
    "        {'feature':'lattice-rate',\n",
    "        'value':'150,NO DURATION'},\n",
    "     'contains':'lattice-age',\n",
    "     'type':'MAX'\n",
    "     },\n",
    "    {'filter':\n",
    "        {'feature':'lattice-rate',\n",
    "        'value':'100,NO DURATION'},\n",
    "     'contains':'lattice-age',\n",
    "     'type':'MIN'\n",
    "     },\n",
    "    {'filter':\n",
    "        {'feature':'lattice-name',\n",
    "        'value':'Avery'},\n",
    "     'contains':'lattice-location',\n",
    "     'type':'MODE'\n",
    "     },\n",
    "    {'filter':\n",
    "        {'feature':'lattice-name',\n",
    "        'value':'Vanesa'},\n",
    "     'contains':'lattice-age',\n",
    "     'type':'MIN'\n",
    "     },\n",
    "    {'filter':\n",
    "        {'feature':'lattice-email',\n",
    "        'value':'annabelle@denver-escort.com'},\n",
    "     'contains':'lattice-phone',\n",
    "     'type':'MODE'\n",
    "     },\n",
    "    {'filter':\n",
    "        {'feature':'lattice-email',\n",
    "        'value':'info@bombshellescorts.com'},\n",
    "     'contains':'lattice-age',\n",
    "     'type':'AVG'\n",
    "     },\n",
    "    {'filter':\n",
    "        {'feature':'lattice-location',\n",
    "        'value':'38022',\n",
    "        'loc_name':'St. Louis, Missouri'},\n",
    "     'contains':'lattice-rate',\n",
    "     'type':'MAX'\n",
    "     },\n",
    "    {'filter':\n",
    "        {'feature':'lattice-location',\n",
    "        'value':'24861',\n",
    "        'loc_name':'Albany, New York'},\n",
    "     'contains':'lattice-age',\n",
    "     'type':'AVG'\n",
    "     },\n",
    "    {'filter':\n",
    "        {'feature':'lattice-age',\n",
    "        'value':'44'},\n",
    "     'contains':'found-hair',\n",
    "     'type':'MODE'\n",
    "     },\n",
    "    {'filter':\n",
    "        {'feature':'lattice-name',\n",
    "        'value':'Blair'},\n",
    "     'contains':'found_height',\n",
    "     'type':'AVG'\n",
    "     },\n",
    "    {'filter':\n",
    "        {'feature':'lattice-age',\n",
    "        'value':'28'},\n",
    "     'contains':'found_weight',\n",
    "     'type':'MAX'\n",
    "     }\n",
    "]\n",
    "\n",
    "print len(chosen)"
   ]
  },
  {
   "cell_type": "markdown",
   "metadata": {
    "collapsed": true
   },
   "source": [
    "### Find Number of Ads Satisfying Combinations"
   ]
  },
  {
   "cell_type": "code",
   "execution_count": 149,
   "metadata": {
    "collapsed": false
   },
   "outputs": [],
   "source": [
    "# Ony first 12 use actual extractions\n",
    "for choice in chosen[0:12]:\n",
    "    count = 0\n",
    "    len1 = 0\n",
    "    filt_feature = choice['filter']['feature']\n",
    "\n",
    "    filt_value = choice['filter']['value']\n",
    "    contains_feature = choice['contains']\n",
    "    len1 = len(one_match[filt_feature][filt_value][contains_feature])\n",
    "    for ad in one_match[filt_feature][filt_value][contains_feature]:\n",
    "        # Re-confirm value matches:\n",
    "        match = 0\n",
    "        # Make sure ad matches filter value\n",
    "        for result in ad['extractions'][filt_feature]['results']:\n",
    "            if result['value'] == filt_value:   \n",
    "                match = 1\n",
    "        if match == 1:        \n",
    "            # Make sure ad contains contains filter\n",
    "            for result in ad['extractions'][contains_feature]['results']:\n",
    "                if contains_feature == 'lattice-location':\n",
    "                    # Just confirm a location name exists\n",
    "                    if 'name' in result['context']['location'].keys():\n",
    "                        #if result['context']['location']['name'] == 'Albany, New York':\n",
    "                        #    print result\n",
    "                        match = 2\n",
    "                else:\n",
    "                    match = 2\n",
    "        if match == 2:\n",
    "            count += 1\n",
    "        else:\n",
    "            print \"FAILED MATCH\"\n",
    "                        \n",
    "    if len1 != count:\n",
    "        print \"MISMATCH\"\n",
    "    choice['nyu_ads'] = count"
   ]
  },
  {
   "cell_type": "code",
   "execution_count": 152,
   "metadata": {
    "collapsed": false,
    "scrolled": true
   },
   "outputs": [
    {
     "data": {
      "text/plain": [
       "{'contains': 'lattice-location',\n",
       " 'filter': {'feature': 'lattice-age', 'value': '34'},\n",
       " 'nyu_ads': 331,\n",
       " 'type': 'MODE'}"
      ]
     },
     "execution_count": 152,
     "metadata": {},
     "output_type": "execute_result"
    }
   ],
   "source": [
    "chosen[2]"
   ]
  },
  {
   "cell_type": "code",
   "execution_count": 151,
   "metadata": {
    "collapsed": true
   },
   "outputs": [],
   "source": [
    "output_file = 'pure_agg_DD_structure.json'\n",
    "with open(output_file, 'w') as f:\n",
    "    json.dump(chosen, f, indent=2)"
   ]
  },
  {
   "cell_type": "markdown",
   "metadata": {},
   "source": [
    "### Will need to format these values (e.g., rate) into proper value format."
   ]
  },
  {
   "cell_type": "markdown",
   "metadata": {
    "collapsed": false
   },
   "source": [
    "## DEBUG"
   ]
  },
  {
   "cell_type": "code",
   "execution_count": 30,
   "metadata": {
    "collapsed": false
   },
   "outputs": [
    {
     "data": {
      "text/plain": [
       "[{u'value': u'26'}]"
      ]
     },
     "execution_count": 30,
     "metadata": {},
     "output_type": "execute_result"
    }
   ],
   "source": [
    "one_match[filt_feature][filt_value][contains_feature][0]['extractions']['lattice-age']['results']"
   ]
  },
  {
   "cell_type": "markdown",
   "metadata": {},
   "source": [
    "### Summarize Filters in Ground Truth Questions"
   ]
  },
  {
   "cell_type": "code",
   "execution_count": null,
   "metadata": {
    "collapsed": false
   },
   "outputs": [],
   "source": [
    "gt_summary = []\n",
    "for entry in ground_truth_questions:\n",
    "    temp_dict = {}\n",
    "    temp_dict['type'] = entry['type']\n",
    "    filters = []\n",
    "    contains = []\n",
    "    for line in entry['SPARQL'][0].split('\\n'):\n",
    "        if '\\tqpr' in line:\n",
    "            if '?' in line:\n",
    "                contains.append(line.split(':')[1].split(' ')[0])\n",
    "            else:\n",
    "                filters.append(line.split(':')[1].split(' ')[0])\n",
    "    temp_dict['filters'] = filters\n",
    "    temp_dict['contains'] = contains\n",
    "    gt_summary.append(temp_dict)\n",
    "    \n",
    "uniq_filters = []\n",
    "for entry in gt_summary:\n",
    "    tup = tuple(entry['filters'])\n",
    "    uniq_filters.append(tup)\n",
    "    \n",
    "uniq_filters = list(set(uniq_filters))"
   ]
  },
  {
   "cell_type": "code",
   "execution_count": null,
   "metadata": {
    "collapsed": false
   },
   "outputs": [],
   "source": [
    "for entry in [gt_summary[0]]:\n",
    "    for filt in entry['filters']:\n",
    "        if filt == 'price':\n",
    "            filt = 'rate'\n",
    "        lattice_filt = 'lattice-' + filt\n",
    "        print lattice_filt"
   ]
  },
  {
   "cell_type": "code",
   "execution_count": null,
   "metadata": {
    "collapsed": false
   },
   "outputs": [],
   "source": [
    "# This should happend after determining lattice_filt above\n",
    "for entry in lattice_extractions:\n",
    "    if 'lattice-content' in entry['extractions'].keys():\n",
    "        output = entry\n",
    "    "
   ]
  },
  {
   "cell_type": "markdown",
   "metadata": {},
   "source": [
    "# Trying to find non-extracted values"
   ]
  },
  {
   "cell_type": "code",
   "execution_count": null,
   "metadata": {
    "collapsed": false
   },
   "outputs": [],
   "source": [
    "for filt_value in one_match[filt].keys():\n",
    "    for entry in one_match[filt][filt_value]:\n",
    "        for sub_filt in one_match[filt][filt_value].keys():\n",
    "            for entry in one_match[filt][filt_value][sub_filt]:\n",
    "                if 'lattice-content' in entry['extractions'].keys():\n",
    "                    for result in entry['extractions']['lattice-content']['results']:\n",
    "                        if 'asian' in result['value'].lower():\n",
    "                            output =  entry"
   ]
  },
  {
   "cell_type": "code",
   "execution_count": null,
   "metadata": {
    "collapsed": true
   },
   "outputs": [],
   "source": []
  },
  {
   "cell_type": "code",
   "execution_count": null,
   "metadata": {
    "collapsed": true
   },
   "outputs": [],
   "source": []
  }
 ],
 "metadata": {
  "kernelspec": {
   "display_name": "Python 2",
   "language": "python",
   "name": "python2"
  },
  "language_info": {
   "codemirror_mode": {
    "name": "ipython",
    "version": 2
   },
   "file_extension": ".py",
   "mimetype": "text/x-python",
   "name": "python",
   "nbconvert_exporter": "python",
   "pygments_lexer": "ipython2",
   "version": "2.7.11"
  }
 },
 "nbformat": 4,
 "nbformat_minor": 0
}
