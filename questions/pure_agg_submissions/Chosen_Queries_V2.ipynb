{
 "cells": [
  {
   "cell_type": "code",
   "execution_count": 2,
   "metadata": {
    "collapsed": true
   },
   "outputs": [],
   "source": [
    "import json"
   ]
  },
  {
   "cell_type": "code",
   "execution_count": 3,
   "metadata": {
    "collapsed": false
   },
   "outputs": [],
   "source": [
    "def define_temp(selection, i):\n",
    "    temp = {}\n",
    "    temp['id'] = int(i)\n",
    "    temp['type'] = selection['type']\n",
    "    temp['SPARQL'] = selection['SPARQL']\n",
    "    temp['question'] = selection['question']\n",
    "    \n",
    "    return temp"
   ]
  },
  {
   "cell_type": "markdown",
   "metadata": {},
   "source": [
    "### Define Files"
   ]
  },
  {
   "cell_type": "code",
   "execution_count": 4,
   "metadata": {
    "collapsed": true
   },
   "outputs": [],
   "source": [
    "posted_file = '../post_aggregate_V2.json'  # For comparison Purposes\n",
    "isi_file = 'isi_aggregate_V3.json'\n",
    "uncharted_file = 'uncharted_aggregate_questions_V5.json'\n",
    "georgetown_file = 'Georgetown_query_V5.json'\n",
    "\n",
    "output_file = 'pure_aggregate.json'"
   ]
  },
  {
   "cell_type": "markdown",
   "metadata": {},
   "source": [
    "### Define Chosen Questions"
   ]
  },
  {
   "cell_type": "code",
   "execution_count": 5,
   "metadata": {
    "collapsed": true
   },
   "outputs": [],
   "source": [
    "isi_chosen = [0,1,2,4,5]\n",
    "georgetown_chosen = [0,1,3,4,8]\n",
    "uncharted_chosen = [1,5,6,8,9]"
   ]
  },
  {
   "cell_type": "code",
   "execution_count": 6,
   "metadata": {
    "collapsed": false
   },
   "outputs": [],
   "source": [
    "posted = []\n",
    "f = open(posted_file, 'r')\n",
    "for line in f:\n",
    "    temp = json.loads(line)\n",
    "    posted.append(temp)\n",
    "f.close()\n",
    "\n",
    "f = open(isi_file, 'r')\n",
    "isi = eval(f.read())\n",
    "f.close()\n",
    "\n",
    "f = open(uncharted_file, 'r')\n",
    "uncharted = eval(f.read())\n",
    "f.close()\n",
    "\n",
    "georgetown = []\n",
    "f = open(georgetown_file, 'r')\n",
    "for line in f:\n",
    "    entry = json.loads(line)\n",
    "    georgetown.append(entry)\n",
    "f.close()"
   ]
  },
  {
   "cell_type": "markdown",
   "metadata": {},
   "source": [
    "## Select Chosen Questions"
   ]
  },
  {
   "cell_type": "code",
   "execution_count": 7,
   "metadata": {
    "collapsed": false,
    "scrolled": true
   },
   "outputs": [],
   "source": [
    "i = 0\n",
    "chosen_questions = []\n",
    "\n",
    "# Inefficient\n",
    "for selection in isi_chosen:\n",
    "    # OVER explicit so that order of keys\n",
    "    # will be consistent\n",
    "    temp = define_temp(isi[selection], i)\n",
    "    chosen_questions.append(temp)\n",
    "    i += 1\n",
    "    \n",
    "for selection in georgetown_chosen:\n",
    "    temp = define_temp(georgetown[selection], i)\n",
    "    chosen_questions.append(temp)\n",
    "    i += 1\n",
    "    \n",
    "for selection in uncharted_chosen:\n",
    "    temp = define_temp(uncharted[selection], i)\n",
    "    chosen_questions.append(temp)\n",
    "    i += 1"
   ]
  },
  {
   "cell_type": "markdown",
   "metadata": {},
   "source": [
    "## Confirm Consistent Structure"
   ]
  },
  {
   "cell_type": "code",
   "execution_count": 8,
   "metadata": {
    "collapsed": false
   },
   "outputs": [
    {
     "name": "stdout",
     "output_type": "stream",
     "text": [
      "['question', 'type', 'id', 'SPARQL']\n",
      "['question', 'type', 'id', 'SPARQL']\n",
      "['question', 'type', 'id', 'SPARQL']\n",
      "['question', 'type', 'id', 'SPARQL']\n",
      "['question', 'type', 'id', 'SPARQL']\n",
      "['question', 'type', 'id', 'SPARQL']\n",
      "['question', 'type', 'id', 'SPARQL']\n",
      "['question', 'type', 'id', 'SPARQL']\n",
      "['question', 'type', 'id', 'SPARQL']\n",
      "['question', 'type', 'id', 'SPARQL']\n",
      "['question', 'type', 'id', 'SPARQL']\n",
      "['question', 'type', 'id', 'SPARQL']\n",
      "['question', 'type', 'id', 'SPARQL']\n",
      "['question', 'type', 'id', 'SPARQL']\n",
      "['question', 'type', 'id', 'SPARQL']\n"
     ]
    }
   ],
   "source": [
    "for question in chosen_questions:\n",
    "    print question.keys()"
   ]
  },
  {
   "cell_type": "code",
   "execution_count": 9,
   "metadata": {
    "collapsed": false
   },
   "outputs": [
    {
     "name": "stdout",
     "output_type": "stream",
     "text": [
      "0\n",
      "1\n",
      "2\n",
      "3\n",
      "4\n",
      "5\n",
      "6\n",
      "7\n",
      "8\n",
      "9\n",
      "10\n",
      "11\n",
      "12\n",
      "13\n",
      "14\n"
     ]
    }
   ],
   "source": [
    "for question in chosen_questions:\n",
    "    print question['id']"
   ]
  },
  {
   "cell_type": "code",
   "execution_count": 10,
   "metadata": {
    "collapsed": false
   },
   "outputs": [
    {
     "name": "stdout",
     "output_type": "stream",
     "text": [
      "PREFIX qpr:<http://istresearch.com/qpr>\n",
      "SELECT ((count(?ad)) AS ?count) ?name\n",
      "WHERE\n",
      "{\t?ad a qpr:Ad ;\n",
      "\tqpr:phone '16099548368' ;\n",
      "\tqpr:name ?name .\n",
      "}\n",
      "GROUP BY ?name\n",
      "ORDER BY DESC(?count)\n",
      "LIMIT 1\n",
      " \n",
      " \n",
      "PREFIX qpr:<http://istresearch.com/qpr>\n",
      "SELECT ?ad ?name\n",
      "WHERE\n",
      "{\t?ad a qpr:Ad ;\n",
      "\tqpr:phone '16099548368' ;\n",
      "\tqpr:name ?name .\n",
      "}\n",
      " \n",
      " \n",
      "PREFIX qpr:<http://istresearch.com/qpr>\n",
      "SELECT (AVG(?price) AS ?avg_price)\n",
      "WHERE\n",
      "{\t?ad a qpr:Ad ;\n",
      "\tqpr:phone '6094472451' ;\n",
      "\tqpr:location 'Savannah,GA' ;\n",
      "\tqpr:price ?price .\n",
      "}\n",
      " \n",
      " \n",
      "PREFIX qpr:<http://istresearch.com/qpr>\n",
      "SELECT ?ad ?price\n",
      "WHERE\n",
      "{\t?ad a qpr:Ad ;\n",
      "\tqpr:phone '6094472451' ;\n",
      "\tqpr:location 'Savannah,GA' ;\n",
      "\tqpr:price ?price .\n",
      "}\n",
      " \n",
      " \n",
      "PREFIX qpr: <http://istresearch.com/qpr>\n",
      "SELECT ((count(?ad)) AS ?count) ?age\n",
      "WHERE\n",
      "{\t?ad a qpr:Ad ;\n",
      "\tqpr:phone '4039292560' ;\n",
      "\tqpr:location 'Lethbridge ,Canada' ;\n",
      "\tqpr:age ?age ;\n",
      "\tqpr:ad ?ad .\n",
      "}\n",
      "GROUP BY ?age\n",
      "ORDER BY DESC(?count)\n",
      "LIMIT 1\n",
      " \n",
      " \n",
      "PREFIX qpr: <http://istresearch.com/qpr>\n",
      "SELECT ?ad ?age\n",
      "WHERE\n",
      "{\t?ad a qpr:Ad ;\n",
      "\tqpr:phone '4039292560' ;\n",
      "\tqpr:location 'Lethbridge ,Canada' ;\n",
      "\tqpr:age ?age ;\n",
      "\tqpr:ad ?ad .\n",
      "}\n",
      " \n",
      " \n",
      "PREFIX qpr: <http://istresearch.com/qpr>\n",
      "SELECT ((count(?ad)) AS ?count) ?phone\n",
      "WHERE\n",
      "{\t?ad a qpr:Ad ;\n",
      "\tqpr:post_date '2016-04-29' ;\n",
      "\tqpr:phone ?phone ;\n",
      "\tqpr:ad ?ad .\n",
      "}\n",
      "GROUP BY ?phone\n",
      "ORDER BY DESC(?count)\n",
      "LIMIT 1\n",
      " \n",
      " \n",
      "PREFIX qpr: <http://istresearch.com/qpr>\n",
      "SELECT ?ad ?phone\n",
      "WHERE\n",
      "{\t?ad a qpr:Ad ;\n",
      "\tqpr:post_date '2016-04-29' ;\n",
      "\tqpr:phone ?phone ;\n",
      "\tqpr:ad ?ad .\n",
      "}\n",
      " \n",
      " \n",
      "PREFIX qpr: <http://istresearch.com/qpr>\n",
      "SELECT ((count(?ad)) AS ?count) ?ethnicity\n",
      "WHERE\n",
      "{\t?ad a qpr:Ad ;\n",
      "\tqpr:service 'nuru' ;\n",
      "\tqpr:location 'Costa Mesa, California';\n",
      "\tqpr:ethnicity ?ethnicity ;\n",
      "\tqpr:ad ?ad .\n",
      "}\n",
      "GROUP BY ?ethnicity\n",
      "ORDER BY DESC(?count)\n",
      "LIMIT 1\n",
      " \n",
      " \n",
      "PREFIX qpr: <http://istresearch.com/qpr>\n",
      "SELECT ?ad ?ethnicity\n",
      "WHERE\n",
      "{\t?ad a qpr:Ad ;\n",
      "\tqpr:service 'nuru' ;\n",
      "\tqpr:location 'Costa Mesa, California';\n",
      "\tqpr:ethnicity ?ethnicity ;\n",
      "\tqpr:ad ?ad .\n",
      "}\n",
      " \n",
      " \n",
      "PREFIX qpr: <http://istresearch.com/qpr>\n",
      "SELECT (MAX(?price) AS ?max_price) \n",
      "WHERE\n",
      "{\t?ad a qpr:Ad ;\n",
      "\tqpr:phone '6592435711' ;\n",
      "\tqpr:price ?price .\n",
      "}\n",
      " \n",
      " \n",
      "PREFIX qpr: <http://istresearch.com/qpr>\n",
      "SELECT ?price ?ad\n",
      "WHERE\n",
      "{\t?ad a qpr:Ad ;\n",
      "\tqpr:phone '6592435711' ;\n",
      "\tqpr:price ?price .\n",
      "}\n",
      " \n",
      " \n",
      "PREFIX qpr: <http://istresearch.com/qpr>\n",
      "SELECT (MIN(?price) AS ?min_price) \n",
      "WHERE\n",
      "{\t?ad a qpr:Ad ;\n",
      "\tqpr:phone '07570298928' ;\n",
      "\tqpr:price ?price .\n",
      "}\n",
      " \n",
      " \n",
      "PREFIX qpr: <http://istresearch.com/qpr>\n",
      "SELECT ?price ?ad\n",
      "WHERE\n",
      "{\t?ad a qpr:Ad ;\n",
      "\tqpr:phone '07570298928' ;\n",
      "\tqpr:price ?price .\n",
      "}\n",
      " \n",
      " \n",
      "PREFIX qpr: <http://istresearch.com/qpr>\n",
      "SELECT (MAX(?weight) AS ?max_weight) \n",
      "WHERE\n",
      "{\t?ad a qpr:Ad ;\n",
      "\tqpr:email 'enq@myntmodels.com' ;\n",
      "\tqpr:weight ?weight .\n",
      "}\n",
      " \n",
      " \n",
      "PREFIX qpr: <http://istresearch.com/qpr>\n",
      "SELECT ?weight ?ad\n",
      "WHERE\n",
      "{\t?ad a qpr:Ad ;\n",
      "\tqpr:email 'enq@myntmodels.com' ;\n",
      "\tqpr:weight ?weight .\n",
      "}\n",
      " \n",
      " \n",
      "PREFIX qpr: <http://istresearch.com/qpr>\n",
      "SELECT (MIN(?weight) AS ?min_weight) \n",
      "WHERE\n",
      "{\t?ad a qpr:Ad ;\n",
      "\tqpr:phone '4168204321' ;\n",
      "\tqpr:weight ?weight .\n",
      "}\n",
      " \n",
      " \n",
      "PREFIX qpr: <http://istresearch.com/qpr>\n",
      "SELECT ?weight ?ad\n",
      "WHERE\n",
      "{\t?ad a qpr:Ad ;\n",
      "\tqpr:phone '4168204321' ;\n",
      "\tqpr:weight ?weight .\n",
      "}\n",
      " \n",
      " \n",
      "PREFIX qpr: <http://istresearch.com/qpr>\n",
      "SELECT (MIN(?height) AS ?min_height) \n",
      "WHERE\n",
      "{\t?ad a qpr:Ad ;\n",
      "\tqpr:email 'pimbty77@gmail.com' ;\n",
      "\tqpr:height ?height .\n",
      "}\n",
      " \n",
      " \n",
      "PREFIX qpr: <http://istresearch.com/qpr>\n",
      "SELECT ?height ?ad\n",
      "WHERE\n",
      "{\t?ad a qpr:Ad ;\n",
      "\tqpr:email 'pimbty77@gmail.com' ;\n",
      "\tqpr:height ?height .\n",
      "}\n",
      " \n",
      " \n",
      "PREFIX qpr: <http://istresearch.com/qpr>\n",
      "SELECT ?ethnicity (count(?ad) AS ?count)\n",
      "WHERE\n",
      "{\t?ad a qpr:Ad ;\n",
      "\tqpr:location 'Mississauga, ON';\n",
      "\tqpr:ethnicity ?ethnicity\n",
      "}\n",
      "GROUP BY ?ethnicity\n",
      "ORDER BY DESC(?count)\n",
      "LIMIT 1\n",
      " \n",
      " \n",
      "PREFIX qpr: <http://istresearch.com/qpr>\n",
      "SELECT ?ethnicity ?ad \n",
      "WHERE\n",
      "{\t?ad a qpr:Ad;\n",
      "\tqpr:location 'Mississauga, ON';\n",
      "\tqpr:ethnicity ?ethnicity\n",
      "}\n",
      " \n",
      " \n",
      "PREFIX qpr: <http://istresearch.com/qpr>\n",
      "SELECT ?location (count(?ad) AS ?count)\n",
      "WHERE\n",
      "{\t?ad a qpr:Ad ;\n",
      "\tqpr:post_date '2016-01-08';\n",
      "\tqpr:location ?location \n",
      "}\n",
      "GROUP BY ?location\n",
      "ORDER BY DESC(?count)\n",
      "LIMIT 1\n",
      " \n",
      " \n",
      "PREFIX qpr: <http://istresearch.com/qpr>\n",
      "SELECT ?location ?ad \n",
      "WHERE\n",
      "{\t?ad a qpr:Ad ;\n",
      "\tqpr:post_date '2016-01-08';\n",
      "\tqpr:location ?location\n",
      "}\n",
      " \n",
      " \n",
      "PREFIX qpr: <http://istresearch.com/qpr>\n",
      "SELECT ?name (count(?ad) AS ?count)\n",
      "WHERE\n",
      "{\t?ad a qpr:Ad ;\n",
      "\tqpr:post_date '2016-05-30';\n",
      "\tqpr:name ?name \n",
      "}\n",
      "GROUP BY ?name\n",
      "ORDER BY DESC(?count)\n",
      "LIMIT 1\n",
      " \n",
      " \n",
      "PREFIX qpr: <http://istresearch.com/qpr>\n",
      "SELECT ?name ?ad \n",
      "WHERE\n",
      "{\t?ad a qpr:Ad ;\n",
      "\tqpr:post_date '2016-05-30';\n",
      "\tqpr:name ?name\n",
      "}\n",
      " \n",
      " \n",
      "PREFIX qpr: <http://istresearch.com/qpr>\n",
      "SELECT ?location (count(?ad) AS ?count)\n",
      "WHERE\n",
      "{\t?ad a qpr:Ad ;\n",
      "\tqpr:post_date '2016-08-01';\n",
      "\tqpr:age '35';\n",
      "\tqpr:location ?location \n",
      "}\n",
      "GROUP BY ?location\n",
      "ORDER BY DESC(?count)\n",
      "LIMIT 1\n",
      " \n",
      " \n",
      "PREFIX qpr: <http://istresearch.com/qpr>\n",
      "SELECT ?location ?ad \n",
      "WHERE\n",
      "{\t?ad a qpr:Ad ;\n",
      "\tqpr:post_date '2016-08-01';\n",
      "\tqpr:age '35';\n",
      "\tqpr:location ?location\n",
      "}\n",
      " \n",
      " \n",
      "PREFIX qpr: <http://istresearch.com/qpr>\n",
      "SELECT ?ethnicity (count(?ad) AS ?count)\n",
      "WHERE\n",
      "{\t?ad a qpr:Ad ;\n",
      "\tqpr:post_date '2016-07-15';\n",
      "\tqpr:location 'Houston, TX';\n",
      "\tqpr:ethnicity ?ethnicity \n",
      "}\n",
      "GROUP BY ?ethnicity\n",
      "ORDER BY DESC(?count)\n",
      "LIMIT 1\n",
      " \n",
      " \n",
      "PREFIX qpr: <http://istresearch.com/qpr>\n",
      "SELECT ?ethnicity ?ad \n",
      "WHERE\n",
      "{\t?ad a qpr:Ad ;\n",
      "\tqpr:post_date '2016-07-15';\n",
      "\tqpr:location 'Houston, TX';\n",
      "\tqpr:ethnicity ?ethnicity\n",
      "}\n",
      " \n",
      " \n"
     ]
    }
   ],
   "source": [
    "for question in chosen_questions:\n",
    "    for entry in question['SPARQL']:\n",
    "        print entry\n",
    "        print \" \"\n",
    "        print \" \""
   ]
  },
  {
   "cell_type": "markdown",
   "metadata": {},
   "source": [
    "## Save Confirmed Questions to File"
   ]
  },
  {
   "cell_type": "code",
   "execution_count": 13,
   "metadata": {
    "collapsed": false
   },
   "outputs": [],
   "source": [
    "with open(output_file, 'w') as f:\n",
    "    for question in chosen_questions[:-1]:\n",
    "        temp = json.dumps(question)\n",
    "        f.write(temp + '\\n')\n",
    "    temp = json.dumps(chosen_questions[-1])\n",
    "    f.write(temp)"
   ]
  },
  {
   "cell_type": "markdown",
   "metadata": {},
   "source": [
    "## Confirm Reading of File to be Posted"
   ]
  },
  {
   "cell_type": "code",
   "execution_count": 12,
   "metadata": {
    "collapsed": false
   },
   "outputs": [
    {
     "name": "stdout",
     "output_type": "stream",
     "text": [
      "[u'type', u'question', u'id', u'SPARQL']\n",
      "[u'type', u'question', u'id', u'SPARQL']\n",
      "[u'type', u'question', u'id', u'SPARQL']\n",
      "[u'type', u'question', u'id', u'SPARQL']\n",
      "[u'type', u'question', u'id', u'SPARQL']\n",
      "[u'type', u'question', u'id', u'SPARQL']\n",
      "[u'type', u'question', u'id', u'SPARQL']\n",
      "[u'type', u'question', u'id', u'SPARQL']\n",
      "[u'type', u'question', u'id', u'SPARQL']\n",
      "[u'type', u'question', u'id', u'SPARQL']\n",
      "[u'type', u'question', u'id', u'SPARQL']\n",
      "[u'type', u'question', u'id', u'SPARQL']\n",
      "[u'type', u'question', u'id', u'SPARQL']\n",
      "[u'type', u'question', u'id', u'SPARQL']\n",
      "[u'type', u'question', u'id', u'SPARQL']\n"
     ]
    }
   ],
   "source": [
    "f = open(output_file, 'r')\n",
    "check = []\n",
    "for line in f:\n",
    "    check.append(json.loads(line))\n",
    "f.close()\n",
    "\n",
    "for quest in check:\n",
    "    print quest.keys()"
   ]
  },
  {
   "cell_type": "code",
   "execution_count": null,
   "metadata": {
    "collapsed": true
   },
   "outputs": [],
   "source": []
  }
 ],
 "metadata": {
  "anaconda-cloud": {},
  "kernelspec": {
   "display_name": "Python 2",
   "language": "python",
   "name": "python2"
  },
  "language_info": {
   "codemirror_mode": {
    "name": "ipython",
    "version": 2
   },
   "file_extension": ".py",
   "mimetype": "text/x-python",
   "name": "python",
   "nbconvert_exporter": "python",
   "pygments_lexer": "ipython2",
   "version": "2.7.11"
  }
 },
 "nbformat": 4,
 "nbformat_minor": 0
}
