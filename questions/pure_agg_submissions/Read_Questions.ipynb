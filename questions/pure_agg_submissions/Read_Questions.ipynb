{
 "cells": [
  {
   "cell_type": "code",
   "execution_count": 1,
   "metadata": {
    "collapsed": true
   },
   "outputs": [],
   "source": [
    "import json"
   ]
  },
  {
   "cell_type": "code",
   "execution_count": 2,
   "metadata": {
    "collapsed": false
   },
   "outputs": [
    {
     "name": "stdout",
     "output_type": "stream",
     "text": [
      "Georgetown_query.json                  isi_aggregate.json                     uncharted_aggregate_questions.json\r\n",
      "Georgetown_query.txt                   selected_isi_aggregate.json            uncharted_aggregate_questions_V3.json\r\n",
      "Read_Questions.ipynb                   uncharted_aggregate_questions-2.json\r\n"
     ]
    }
   ],
   "source": [
    "ls"
   ]
  },
  {
   "cell_type": "markdown",
   "metadata": {},
   "source": [
    "### Set Paths"
   ]
  },
  {
   "cell_type": "code",
   "execution_count": 3,
   "metadata": {
    "collapsed": false
   },
   "outputs": [],
   "source": [
    "posted_file = '../post_aggregate_V2.json'\n",
    "\n",
    "isi_file = 'isi_aggregate.json'\n",
    "uncharted_file = 'uncharted_aggregate_questions-2.json'\n",
    "georgetown_file = 'Georgetown_query.json'"
   ]
  },
  {
   "cell_type": "code",
   "execution_count": 4,
   "metadata": {
    "collapsed": false
   },
   "outputs": [],
   "source": [
    "posted = []\n",
    "f = open(posted_file, 'r')\n",
    "for line in f:\n",
    "    temp = json.loads(line)\n",
    "    posted.append(temp)\n",
    "f.close()\n",
    "\n",
    "f = open(isi_file, 'r')\n",
    "isi = eval(f.read())\n",
    "f.close()\n",
    "\n",
    "f = open(uncharted_file, 'r')\n",
    "uncharted = eval(f.read())\n",
    "f.close()\n",
    "\n",
    "georgetown = []\n",
    "f = open(georgetown_file, 'r')\n",
    "for line in f:\n",
    "    entry = json.loads(line)\n",
    "    georgetown.append(entry)\n",
    "f.close()"
   ]
  },
  {
   "cell_type": "code",
   "execution_count": 5,
   "metadata": {
    "collapsed": false
   },
   "outputs": [
    {
     "data": {
      "text/plain": [
       "[u'type', u'id', u'SPARQL']"
      ]
     },
     "execution_count": 5,
     "metadata": {},
     "output_type": "execute_result"
    }
   ],
   "source": [
    "georgetown[0].keys()"
   ]
  },
  {
   "cell_type": "code",
   "execution_count": 22,
   "metadata": {
    "collapsed": false
   },
   "outputs": [
    {
     "name": "stdout",
     "output_type": "stream",
     "text": [
      "PREFIX qpr:<http://istresearch.com/qpr>\n",
      "SELECT ((count(?ad)) AS ?count) ?name\n",
      "WHERE\n",
      "{\t?ad a qpr:Ad ;\n",
      "\tqpr:phone '16099548368' ;\n",
      "\tqpr:name ?name .\n",
      "}\n",
      "GROUP BY ?name\n",
      "ORDER BY DESC(?count)\n",
      "LIMIT 1\n",
      " \n"
     ]
    }
   ],
   "source": [
    "isi_no_good = [2, 3, 4, 5, 6, 9]\n",
    "\n",
    "i = 0\n",
    "for query in isi[i]['SPARQL']:\n",
    "    print query\n",
    "    print \" \""
   ]
  },
  {
   "cell_type": "code",
   "execution_count": 7,
   "metadata": {
    "collapsed": false,
    "scrolled": true
   },
   "outputs": [
    {
     "name": "stdout",
     "output_type": "stream",
     "text": [
      "PREFIX qpr: <http://istresearch.com/qpr>\n",
      "SELECT ?phone (count(?ad) AS ?count)\n",
      "WHERE\n",
      "{\t?ad a qpr:Ad; \n",
      "\tqpr:location 'Victoria, BC'; \n",
      "\tqpr:ethnicity 'asian';\n",
      "\tqpr:phone ?phone\n",
      "} GROUP BY ?phone ORDER BY DESC(?count) LIMIT 1\n",
      " \n",
      "PREFIX qpr: <http://istresearch.com/qpr>\n",
      "SELECT ?phone ?ad \n",
      "WHERE\n",
      "{\t?ad a qpr:Ad;\n",
      "\tqpr:location 'Victoria, BC'; \n",
      "\tqpr:ethnicity 'asian';\n",
      "\tqpr:phone ?phone\n",
      "}\n",
      " \n"
     ]
    }
   ],
   "source": [
    "i = 0\n",
    "\n",
    "for query in uncharted[i]['SPARQL']:\n",
    "    print query\n",
    "    print \" \""
   ]
  },
  {
   "cell_type": "code",
   "execution_count": 21,
   "metadata": {
    "collapsed": false
   },
   "outputs": [
    {
     "name": "stdout",
     "output_type": "stream",
     "text": [
      "PREFIX qpr: <http://istresearch.com/qpr>\n",
      "SELECT (MAX(?weight) AS ?max_weight) \n",
      "WHERE\n",
      "{\t?ad a qpr:Ad ;\n",
      "\tqpr:seed 'home@japan-escort.com' ;\n",
      "\tqpr:weight ?weight ;\n",
      "\tqpr:ad ?ad .\n",
      "}\n",
      " \n",
      "PREFIX qpr: <http://istresearch.com/qpr>\n",
      "SELECT ?weight ?ad\n",
      "WHERE\n",
      "{\t?ad a qpr:Ad ;\n",
      "\tqpr:seed 'home@japan-escort.com' ;\n",
      "\tqpr:weight ?weight ;\n",
      "\tqpr:ad ?ad .\n",
      "}\n",
      " \n"
     ]
    }
   ],
   "source": [
    "i = 5\n",
    "\n",
    "for entry in georgetown[i]['SPARQL']:\n",
    "    print entry\n",
    "    print \" \""
   ]
  },
  {
   "cell_type": "code",
   "execution_count": 9,
   "metadata": {
    "collapsed": false
   },
   "outputs": [
    {
     "name": "stdout",
     "output_type": "stream",
     "text": [
      "PREFIX qpr: <http://istresearch.com/qpr>\n",
      "SELECT ?price ((count(?ad)) AS ?count) \n",
      "WHERE\n",
      "{\t?cluster a qpr:cluster ;\n",
      "\tqpr:seed 'Internationaldiamonds21@yahoo.com' ;\n",
      "\tqpr:price ?price ;\n",
      "\tqpr:ad ?ad .\n",
      "}\n",
      "GROUP BY ?price\n",
      "ORDER BY DESC(?count)\n",
      "LIMIT 1\n",
      " \n",
      "PREFIX qpr: <http://istresearch.com/qpr>\n",
      "SELECT ?price ?ad\n",
      "WHERE\n",
      "{\t?cluster a qpr:cluster ;\n",
      "\tqpr:seed 'Internationaldiamonds21@yahoo.com' ;\n",
      "\tqpr:price ?price ;\n",
      "\tqpr:ad ?ad .\n",
      "}\n",
      " \n"
     ]
    }
   ],
   "source": [
    "i = 0\n",
    "\n",
    "for entry in posted[i]['SPARQL']:\n",
    "    print entry\n",
    "    print \" \""
   ]
  },
  {
   "cell_type": "code",
   "execution_count": 5,
   "metadata": {
    "collapsed": false
   },
   "outputs": [
    {
     "data": {
      "text/plain": [
       "'Find the top phone number associated with all ads posted in Victoria, BC containing an asian escort'"
      ]
     },
     "execution_count": 5,
     "metadata": {},
     "output_type": "execute_result"
    }
   ],
   "source": [
    "uncharted[0]['question']"
   ]
  },
  {
   "cell_type": "code",
   "execution_count": null,
   "metadata": {
    "collapsed": true
   },
   "outputs": [],
   "source": []
  }
 ],
 "metadata": {
  "kernelspec": {
   "display_name": "Python 2",
   "language": "python",
   "name": "python2"
  },
  "language_info": {
   "codemirror_mode": {
    "name": "ipython",
    "version": 2
   },
   "file_extension": ".py",
   "mimetype": "text/x-python",
   "name": "python",
   "nbconvert_exporter": "python",
   "pygments_lexer": "ipython2",
   "version": "2.7.11"
  }
 },
 "nbformat": 4,
 "nbformat_minor": 0
}
