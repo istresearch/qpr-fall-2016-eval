{
 "cells": [
  {
   "cell_type": "code",
   "execution_count": 3,
   "metadata": {
    "collapsed": true
   },
   "outputs": [],
   "source": [
    "import json"
   ]
  },
  {
   "cell_type": "markdown",
   "metadata": {},
   "source": [
    "### Set Paths"
   ]
  },
  {
   "cell_type": "code",
   "execution_count": 17,
   "metadata": {
    "collapsed": false
   },
   "outputs": [],
   "source": [
    "posted_file = '../post_aggregate_V2.json'\n",
    "\n",
    "isi_file = 'isi_aggregate.json'\n",
    "uncharted_file = 'uncharted_aggregate_questions.json'"
   ]
  },
  {
   "cell_type": "code",
   "execution_count": 19,
   "metadata": {
    "collapsed": false
   },
   "outputs": [],
   "source": [
    "posted = []\n",
    "f = open(posted_file, 'r')\n",
    "for line in f:\n",
    "    temp = json.loads(line)\n",
    "    posted.append(temp)\n",
    "f.close()\n",
    "\n",
    "f = open(isi_file, 'r')\n",
    "isi = eval(f.read())\n",
    "f.close()\n",
    "\n",
    "f = open(uncharted_file, 'r')\n",
    "uncharted = eval(f.read())\n",
    "f.close()"
   ]
  },
  {
   "cell_type": "code",
   "execution_count": 8,
   "metadata": {
    "collapsed": false
   },
   "outputs": [
    {
     "data": {
      "text/plain": [
       "['type', 'question', 'id', 'SPARQL']"
      ]
     },
     "execution_count": 8,
     "metadata": {},
     "output_type": "execute_result"
    }
   ],
   "source": [
    "isi[0].keys()"
   ]
  },
  {
   "cell_type": "code",
   "execution_count": 56,
   "metadata": {
    "collapsed": false
   },
   "outputs": [
    {
     "name": "stdout",
     "output_type": "stream",
     "text": [
      "PREFIX qpr: <http://istresearch.com/qpr>\n",
      "SELECT (count(?ad)) AS ?count) ?age\n",
      "WHERE\n",
      "{\t?ad a qpr:Ad ;\n",
      "\tqpr:phone '4039292560' ;\n",
      "\tqpr:location 'Lethbridge ,Canada' ;\n",
      "\tqpr:age ?age ;\n",
      "\tqpr:ad ?ad .\n",
      "}\n",
      "GROUP BY ?age\n",
      "ORDER BY DESC(?count)\n",
      "LIMIT 1\n",
      " \n"
     ]
    }
   ],
   "source": [
    "no_good = [2, 3, 4, 5, 6, 9]\n",
    "\n",
    "i = 2\n",
    "for query in isi[i]['SPARQL']:\n",
    "    print query\n",
    "    print \" \""
   ]
  },
  {
   "cell_type": "code",
   "execution_count": 30,
   "metadata": {
    "collapsed": false
   },
   "outputs": [
    {
     "name": "stdout",
     "output_type": "stream",
     "text": [
      "PREFIX qpr: <http://istresearch.com/qpr>\n",
      "SELECT ?services (count(?ad) AS ?count)\n",
      "WHERE\n",
      "{\t?ad a qpr:Ad ;\n",
      " ;\n",
      "\tqpr:location 'London, UK' ; \n",
      "\tqpr:phone '7467837512';\n",
      "\tqpr:services ?services\n",
      "} GROUP BY ?services ORDER BY DESC(?count)\n",
      " \n",
      "PREFIX qpr: <http://istresearch.com/qpr>\n",
      "SELECT ?services ?ad \n",
      "WHERE\n",
      "{\t?ad a qpr:Ad ;\n",
      " ;\n",
      "\tqpr:location 'London, UK' ; \n",
      "\tqpr:phone '7467837512';\n",
      "\tqpr:services ?services\n",
      "}\n",
      " \n"
     ]
    }
   ],
   "source": [
    "i =4\n",
    "for query in uncharted[i]['SPARQL']:\n",
    "    print query\n",
    "    print \" \""
   ]
  },
  {
   "cell_type": "code",
   "execution_count": 22,
   "metadata": {
    "collapsed": false
   },
   "outputs": [
    {
     "name": "stdout",
     "output_type": "stream",
     "text": [
      "PREFIX qpr: <http://istresearch.com/qpr>\n",
      "SELECT ?price ((count(?ad)) AS ?count) \n",
      "WHERE\n",
      "{\t?cluster a qpr:cluster ;\n",
      "\tqpr:seed 'Internationaldiamonds21@yahoo.com' ;\n",
      "\tqpr:price ?price ;\n",
      "\tqpr:ad ?ad .\n",
      "}\n",
      "GROUP BY ?price\n",
      "ORDER BY DESC(?count)\n",
      "LIMIT 1\n",
      " \n",
      "PREFIX qpr: <http://istresearch.com/qpr>\n",
      "SELECT ?price ?ad\n",
      "WHERE\n",
      "{\t?cluster a qpr:cluster ;\n",
      "\tqpr:seed 'Internationaldiamonds21@yahoo.com' ;\n",
      "\tqpr:price ?price ;\n",
      "\tqpr:ad ?ad .\n",
      "}\n",
      " \n"
     ]
    }
   ],
   "source": [
    "i = 0\n",
    "\n",
    "for entry in posted[i]['SPARQL']:\n",
    "    print entry\n",
    "    print \" \""
   ]
  },
  {
   "cell_type": "code",
   "execution_count": 36,
   "metadata": {
    "collapsed": false
   },
   "outputs": [
    {
     "data": {
      "text/plain": [
       "'Find and list all phone numbers included in the ads posted in Victoria, BC containing an asian escort'"
      ]
     },
     "execution_count": 36,
     "metadata": {},
     "output_type": "execute_result"
    }
   ],
   "source": [
    "uncharted[0]['question']"
   ]
  },
  {
   "cell_type": "code",
   "execution_count": null,
   "metadata": {
    "collapsed": true
   },
   "outputs": [],
   "source": []
  }
 ],
 "metadata": {
  "kernelspec": {
   "display_name": "Python 2",
   "language": "python",
   "name": "python2"
  },
  "language_info": {
   "codemirror_mode": {
    "name": "ipython",
    "version": 2
   },
   "file_extension": ".py",
   "mimetype": "text/x-python",
   "name": "python",
   "nbconvert_exporter": "python",
   "pygments_lexer": "ipython2",
   "version": "2.7.11"
  }
 },
 "nbformat": 4,
 "nbformat_minor": 0
}
