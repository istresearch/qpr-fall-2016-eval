{
 "cells": [
  {
   "cell_type": "code",
   "execution_count": 1,
   "metadata": {
    "collapsed": true
   },
   "outputs": [],
   "source": [
    "import json"
   ]
  },
  {
   "cell_type": "code",
   "execution_count": 2,
   "metadata": {
    "collapsed": false
   },
   "outputs": [
    {
     "name": "stdout",
     "output_type": "stream",
     "text": [
      "Georgetown_query_V5.json               \u001b[34mold_submissions\u001b[m\u001b[m/\r\n",
      "Read_Questions.ipynb                   selected_isi_aggregate.json\r\n",
      "isi_aggregate_V2.json                  uncharted_aggregate_questions_V5.json\r\n"
     ]
    }
   ],
   "source": [
    "ls"
   ]
  },
  {
   "cell_type": "markdown",
   "metadata": {},
   "source": [
    "### Set Paths"
   ]
  },
  {
   "cell_type": "code",
   "execution_count": 3,
   "metadata": {
    "collapsed": false
   },
   "outputs": [],
   "source": [
    "posted_file = '../post_aggregate_V2.json'\n",
    "pf_file = '../post_point_fact_V3.json'\n",
    "isi_file = 'isi_aggregate_V2.json'\n",
    "uncharted_file = 'uncharted_aggregate_questions_V5.json'\n",
    "georgetown_file = 'Georgetown_query_V5.json'"
   ]
  },
  {
   "cell_type": "code",
   "execution_count": 4,
   "metadata": {
    "collapsed": false
   },
   "outputs": [
    {
     "name": "stdout",
     "output_type": "stream",
     "text": [
      "uncharted\n",
      "GT\n"
     ]
    }
   ],
   "source": [
    "posted = []\n",
    "f = open(posted_file, 'r')\n",
    "for line in f:\n",
    "    temp = json.loads(line)\n",
    "    posted.append(temp)\n",
    "f.close()\n",
    "\n",
    "pf = []\n",
    "f = open(pf_file, 'r')\n",
    "for line in f:\n",
    "    temp = json.loads(line)\n",
    "    pf.append(temp)\n",
    "f.close()\n",
    "\n",
    "f = open(isi_file, 'r')\n",
    "isi = eval(f.read())\n",
    "f.close()\n",
    "\n",
    "print \"uncharted\"\n",
    "f = open(uncharted_file, 'r')\n",
    "uncharted = eval(f.read())\n",
    "f.close()\n",
    "\n",
    "print \"GT\"\n",
    "georgetown = []\n",
    "f = open(georgetown_file, 'r')\n",
    "for line in f:\n",
    "    entry = json.loads(line)\n",
    "    georgetown.append(entry)\n",
    "f.close()"
   ]
  },
  {
   "cell_type": "code",
   "execution_count": null,
   "metadata": {
    "collapsed": false
   },
   "outputs": [],
   "source": [
    "georgetown[0].keys()"
   ]
  },
  {
   "cell_type": "code",
   "execution_count": null,
   "metadata": {
    "collapsed": false
   },
   "outputs": [],
   "source": [
    "uncharted[0].keys()"
   ]
  },
  {
   "cell_type": "code",
   "execution_count": null,
   "metadata": {
    "collapsed": false
   },
   "outputs": [],
   "source": [
    "isi_no_good = [2, 3, 4, 5, 6, 9]\n",
    "\n",
    "i = 0\n",
    "for query in isi[i]['SPARQL']:\n",
    "    print query\n",
    "    print \" \""
   ]
  },
  {
   "cell_type": "code",
   "execution_count": 11,
   "metadata": {
    "collapsed": false
   },
   "outputs": [
    {
     "name": "stdout",
     "output_type": "stream",
     "text": [
      "PREFIX qpr: <http://istresearch.com/qpr>\n",
      "SELECT (MAX(?price) AS ?max_price) \n",
      "WHERE\n",
      "{\t?ad a qpr:Ad ;\n",
      "\tqpr:phone '6592435711' ;\n",
      "\tqpr:price ?price .\n",
      "}\n",
      " \n",
      "PREFIX qpr: <http://istresearch.com/qpr>\n",
      "SELECT ?price ?ad\n",
      "WHERE\n",
      "{\t?ad a qpr:Ad ;\n",
      "\tqpr:phone '6592435711' ;\n",
      "\tqpr:price ?price .\n",
      "}\n",
      " \n",
      "MAX\n",
      "Please find and list all of the ads connected via a shared phone number, email, or street address to the phone number +6592435711 that include a price in the ad text. In the answer field note the price for each ad. If there are multiple answers separate them with a comma. The connection between ads can be multiple steps removed as long as there is a connection back to the original attribute via one of the listed attributes. For example, an ad could be considered connected if it contains an email that appeared in a different ad with a street address, which in yet another ad that street address appeared with the phone number +6592435711. Return the maximum price as the first element in the payload list.\n"
     ]
    }
   ],
   "source": [
    "i = 0\n",
    "\n",
    "for entry in georgetown[i]['SPARQL']:\n",
    "    print entry\n",
    "    print \" \"\n",
    "    \n",
    "print georgetown[i]['type']\n",
    "\n",
    "print georgetown[i]['question']"
   ]
  },
  {
   "cell_type": "code",
   "execution_count": 14,
   "metadata": {
    "collapsed": false
   },
   "outputs": [
    {
     "name": "stdout",
     "output_type": "stream",
     "text": [
      "PREFIX qpr: <http://istresearch.com/qpr>\n",
      "SELECT ?hair_color (count(?ad) AS ?count)\n",
      "WHERE\n",
      "{\t?ad a qpr:Ad;\n",
      "\tqpr:location 'Memphis';\n",
      "\tqpr:hair_color ?hair_color\n",
      "}\n",
      "GROUP BY ?hair_color\n",
      "ORDER BY DESC(?count)\n",
      "LIMIT 1\n",
      " \n",
      "PREFIX qpr: <http://istresearch.com/qpr>\n",
      "SELECT ?hair_color ?ad \n",
      "WHERE\n",
      "{\t?ad a qpr:Ad;\n",
      "\tqpr:location 'Memphis' ;\n",
      "\tqpr:hair_color ?hair_color\n",
      "}\n",
      " \n"
     ]
    }
   ],
   "source": [
    "i = 2\n",
    "\n",
    "for entry in uncharted[i]['SPARQL']:\n",
    "    print entry\n",
    "    print \" \""
   ]
  },
  {
   "cell_type": "code",
   "execution_count": 16,
   "metadata": {
    "collapsed": false,
    "scrolled": true
   },
   "outputs": [
    {
     "name": "stdout",
     "output_type": "stream",
     "text": [
      "PREFIX qpr: <http://istresearch.com/qpr>\n",
      "SELECT (count(?ad)) AS ?count) ?age\n",
      "WHERE\n",
      "{\t?ad a qpr:Ad ;\n",
      "\tqpr:location 'Belfast' ;\n",
      "\tqpr:service 'GFE' ;\n",
      "\tqpr:age ?age ;\n",
      "\tqpr:ad ?ad .\n",
      "}\n",
      "GROUP BY ?age\n",
      "ORDER BY DESC(?count)\n",
      "LIMIT 1\n",
      " \n",
      "PREFIX qpr: <http://istresearch.com/qpr>\n",
      "SELECT ?ad ?age\n",
      "WHERE\n",
      "{\t?ad a qpr:Ad ;\n",
      "\tqpr:location 'Belfast' ;\n",
      "\tqpr:service 'GFE' ;\n",
      "\tqpr:age ?age ;\n",
      "\tqpr:ad ?ad .\n",
      "}\n",
      " \n"
     ]
    }
   ],
   "source": [
    "i = 3\n",
    "\n",
    "for entry in isi[i]['SPARQL']:\n",
    "    print entry\n",
    "    print \" \""
   ]
  },
  {
   "cell_type": "code",
   "execution_count": 10,
   "metadata": {
    "collapsed": false,
    "scrolled": true
   },
   "outputs": [
    {
     "name": "stdout",
     "output_type": "stream",
     "text": [
      "PREFIX qpr: <http://istresearch.com/qpr>\n",
      "SELECT (count(?ad)) AS ?count) ?age\n",
      "WHERE\n",
      "{\t?ad a qpr:Ad ;\n",
      "\tqpr:location 'Belfast' ;\n",
      "\tqpr:service 'GFE' ;\n",
      "\tqpr:age ?age ;\n",
      "\tqpr:ad ?ad .\n",
      "}\n",
      "GROUP BY ?age\n",
      "ORDER BY DESC(?count)\n",
      "LIMIT 1\n",
      " \n",
      "PREFIX qpr: <http://istresearch.com/qpr>\n",
      "SELECT ?ad ?age\n",
      "WHERE\n",
      "{\t?ad a qpr:Ad ;\n",
      "\tqpr:location 'Belfast' ;\n",
      "\tqpr:service 'GFE' ;\n",
      "\tqpr:age ?age ;\n",
      "\tqpr:ad ?ad .\n",
      "}\n",
      " \n"
     ]
    }
   ],
   "source": [
    "i = 3\n",
    "\n",
    "for entry in isi[i]['SPARQL']:\n",
    "    print entry\n",
    "    print \" \""
   ]
  },
  {
   "cell_type": "code",
   "execution_count": null,
   "metadata": {
    "collapsed": false
   },
   "outputs": [],
   "source": [
    "uncharted[0]['question']"
   ]
  },
  {
   "cell_type": "code",
   "execution_count": null,
   "metadata": {
    "collapsed": true
   },
   "outputs": [],
   "source": []
  }
 ],
 "metadata": {
  "kernelspec": {
   "display_name": "Python 2",
   "language": "python",
   "name": "python2"
  },
  "language_info": {
   "codemirror_mode": {
    "name": "ipython",
    "version": 2
   },
   "file_extension": ".py",
   "mimetype": "text/x-python",
   "name": "python",
   "nbconvert_exporter": "python",
   "pygments_lexer": "ipython2",
   "version": "2.7.11"
  }
 },
 "nbformat": 4,
 "nbformat_minor": 0
}
