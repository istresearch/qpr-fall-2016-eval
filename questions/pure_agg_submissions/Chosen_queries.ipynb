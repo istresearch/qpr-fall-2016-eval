{
 "cells": [
  {
   "cell_type": "code",
   "execution_count": 1,
   "metadata": {
    "collapsed": true
   },
   "outputs": [],
   "source": [
    "import json"
   ]
  },
  {
   "cell_type": "code",
   "execution_count": 2,
   "metadata": {
    "collapsed": false,
    "scrolled": true
   },
   "outputs": [
    {
     "name": "stdout",
     "output_type": "stream",
     "text": [
      "Chosen_queries.ipynb                   \u001b[34mold_submissions\u001b[m\u001b[m/\r\n",
      "Georgetown_query_V5.json               selected_isi_aggregate.json\r\n",
      "Read_Questions.ipynb                   uncharted_aggregate_questions_V5.json\r\n",
      "isi_aggregate.json\r\n"
     ]
    }
   ],
   "source": [
    "ls"
   ]
  },
  {
   "cell_type": "markdown",
   "metadata": {},
   "source": [
    "### similar to Read_questions nb"
   ]
  },
  {
   "cell_type": "code",
   "execution_count": 4,
   "metadata": {
    "collapsed": true
   },
   "outputs": [],
   "source": [
    "posted_file = '../post_aggregate_V2.json'\n",
    "pf_file = '../post_point_fact_V3.json'\n",
    "isi_file = 'isi_aggregate.json'\n",
    "uncharted_file = 'uncharted_aggregate_questions_V5.json'\n",
    "georgetown_file = 'Georgetown_query_V5.json'"
   ]
  },
  {
   "cell_type": "code",
   "execution_count": 5,
   "metadata": {
    "collapsed": false
   },
   "outputs": [
    {
     "name": "stdout",
     "output_type": "stream",
     "text": [
      "uncharted\n",
      "GT\n"
     ]
    }
   ],
   "source": [
    "posted = []\n",
    "f = open(posted_file, 'r')\n",
    "for line in f:\n",
    "    temp = json.loads(line)\n",
    "    posted.append(temp)\n",
    "f.close()\n",
    "\n",
    "pf = []\n",
    "f = open(pf_file, 'r')\n",
    "for line in f:\n",
    "    temp = json.loads(line)\n",
    "    pf.append(temp)\n",
    "f.close()\n",
    "\n",
    "f = open(isi_file, 'r')\n",
    "isi = eval(f.read())\n",
    "f.close()\n",
    "\n",
    "print \"uncharted\"\n",
    "f = open(uncharted_file, 'r')\n",
    "uncharted = eval(f.read())\n",
    "f.close()\n",
    "\n",
    "print \"GT\"\n",
    "georgetown = []\n",
    "f = open(georgetown_file, 'r')\n",
    "for line in f:\n",
    "    entry = json.loads(line)\n",
    "    georgetown.append(entry)\n",
    "f.close()"
   ]
  },
  {
   "cell_type": "markdown",
   "metadata": {},
   "source": [
    "#chosen queries for ISI\n",
    "chosen = []"
   ]
  },
  {
   "cell_type": "code",
   "execution_count": 40,
   "metadata": {
    "collapsed": false,
    "scrolled": true
   },
   "outputs": [
    {
     "name": "stdout",
     "output_type": "stream",
     "text": [
      "PREFIX qpr: <http://istresearch.com/qpr>\n",
      "SELECT (count(?ad)) AS ?count) ?name\n",
      "WHERE\n",
      "{\t?ad a qpr:Ad ;\n",
      "\tqpr:service 'massage' ;\n",
      "\tqpr:location 'Los Angeles, CA' ;\n",
      "\tqpr:ad ?ad .\n",
      "}\n",
      "GROUP BY ?name\n",
      "ORDER BY DESC(?count)\n",
      "LIMIT 1\n",
      " \n",
      "What is the most common name of escorts who offer massages in Orange County\n"
     ]
    }
   ],
   "source": [
    "i = 9\n",
    "chosen = [0,1,2,4,5]\n",
    "\n",
    "for query in isi[i]['SPARQL']:\n",
    "    print query\n",
    "    print \" \"\n",
    "\n",
    "print isi[i]['question']"
   ]
  },
  {
   "cell_type": "markdown",
   "metadata": {},
   "source": [
    "#chosen queries for Georgetown\n",
    "chosen = []"
   ]
  },
  {
   "cell_type": "code",
   "execution_count": 31,
   "metadata": {
    "collapsed": false
   },
   "outputs": [
    {
     "name": "stdout",
     "output_type": "stream",
     "text": [
      "PREFIX qpr: <http://istresearch.com/qpr>\n",
      "SELECT (AVG(?height) AS ?avg_height) \n",
      "WHERE\n",
      "{\t?ad a qpr:Ad ;\n",
      "\tqpr:phone '2098184104' ;\n",
      "\tqpr:height ?height .\n",
      "}\n",
      " \n",
      "PREFIX qpr: <http://istresearch.com/qpr>\n",
      "SELECT ?height ?ad\n",
      "WHERE\n",
      "{\t?ad a qpr:Ad ;\n",
      "\tqpr:phone '2098184104' ;\n",
      "\tqpr:height ?height .\n",
      "}\n",
      " \n",
      "AVG\n",
      "Please find and list all of the ads connected via a shared phone number, email, or street address to the phone number 209-818-4104 that include a height in the ad text. In the answer field note the height for each ad. If there are multiple answers separate them with a comma. The connection between ads can be multiple steps removed as long as there is a connection back to the original attribute via one of the listed attributes. For example, an ad could be considered connected if it contains an email that appeared in a different ad with a street address, which in yet another ad that street address appeared with the phone number 209-818-4104. Return the average height as the first element in the payload list.\n"
     ]
    }
   ],
   "source": [
    "i = 9\n",
    "\n",
    "chosen = [0,1,3,4,8]\n",
    "\n",
    "for entry in georgetown[i]['SPARQL']:\n",
    "    print entry\n",
    "    print \" \"\n",
    "    \n",
    "print georgetown[i]['type']\n",
    "\n",
    "print georgetown[i]['question']"
   ]
  },
  {
   "cell_type": "markdown",
   "metadata": {},
   "source": [
    "#chosen queries for Uncharted \n",
    "chosen = []"
   ]
  },
  {
   "cell_type": "code",
   "execution_count": 20,
   "metadata": {
    "collapsed": false
   },
   "outputs": [
    {
     "name": "stdout",
     "output_type": "stream",
     "text": [
      "PREFIX qpr: <http://istresearch.com/qpr>\n",
      "SELECT ?ethnicity (count(?ad) AS ?count)\n",
      "WHERE\n",
      "{\t?ad a qpr:Ad ;\n",
      "\tqpr:post_date '2016-07-15';\n",
      "\tqpr:location 'Houston, TX';\n",
      "\tqpr:ethnicity ?ethnicity \n",
      "}\n",
      "GROUP BY ?ethnicity\n",
      "ORDER BY DESC(?count)\n",
      "LIMIT 1\n",
      " \n",
      "PREFIX qpr: <http://istresearch.com/qpr>\n",
      "SELECT ?ethnicity ?ad \n",
      "WHERE\n",
      "{\t?ad a qpr:Ad ;\n",
      "\tqpr:post_date '2016-07-15';\n",
      "\tqpr:location 'Houston, TX';\n",
      "\tqpr:ethnicity ?ethnicity\n",
      "}\n",
      " \n",
      "MODE\n",
      "Find the most common ethnicity of escorts associated with ads posted on 2016-07-15 in Houston, TX\n"
     ]
    }
   ],
   "source": [
    "chosen = [1,5,6,8,9]\n",
    "i = 9\n",
    "\n",
    "for entry in uncharted[i]['SPARQL']:\n",
    "    print entry\n",
    "    print \" \"\n",
    "    \n",
    "print uncharted[i]['type']\n",
    "\n",
    "print uncharted[i]['question']"
   ]
  }
 ],
 "metadata": {
  "anaconda-cloud": {},
  "kernelspec": {
   "display_name": "Python [py27]",
   "language": "python",
   "name": "Python [py27]"
  },
  "language_info": {
   "codemirror_mode": {
    "name": "ipython",
    "version": 2
   },
   "file_extension": ".py",
   "mimetype": "text/x-python",
   "name": "python",
   "nbconvert_exporter": "python",
   "pygments_lexer": "ipython2",
   "version": "2.7.12"
  }
 },
 "nbformat": 4,
 "nbformat_minor": 0
}
