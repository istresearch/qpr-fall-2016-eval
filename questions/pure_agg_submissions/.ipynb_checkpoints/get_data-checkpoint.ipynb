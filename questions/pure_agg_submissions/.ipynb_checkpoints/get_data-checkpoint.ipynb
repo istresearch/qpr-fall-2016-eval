{
 "cells": [
  {
   "cell_type": "code",
   "execution_count": 1,
   "metadata": {
    "collapsed": true
   },
   "outputs": [],
   "source": [
    "from datetime import datetime\n",
    "from elasticsearch import Elasticsearch, helpers\n",
    "import json"
   ]
  },
  {
   "cell_type": "code",
   "execution_count": 2,
   "metadata": {
    "collapsed": true
   },
   "outputs": [],
   "source": [
    "def cluster_q(cluster_id):\n",
    "    q = {\n",
    "    \"query\": {\n",
    "      \"filtered\": {\n",
    "        \"query\": { \"match\": {\"_type\": \"annotations\"}},\n",
    "            \"filter\": {\n",
    "              \"bool\": {\n",
    "                \"must\": [\n",
    "                    {\"match\": {\"cluster_id\": cluster}}]\n",
    "              }\n",
    "            }\n",
    "          }\n",
    "        }\n",
    "    }\n",
    "    return q"
   ]
  },
  {
   "cell_type": "code",
   "execution_count": 4,
   "metadata": {
    "collapsed": false
   },
   "outputs": [],
   "source": [
    "# Define file dependencies\n",
    "settings_file = 'settings.json'\n",
    "\n",
    "# Open and read settings\n",
    "f = open(settings_file, 'r')\n",
    "settings = eval(f.read())\n",
    "f.close()\n",
    "\n",
    "# Construct elasticsearch connection object\n",
    "es_string = ('http://' + settings['ES']['HOST'] +\n",
    "             ':' + settings['ES']['PORT'])\n",
    "\n",
    "es = Elasticsearch(es_string, timeout=360)"
   ]
  },
  {
   "cell_type": "markdown",
   "metadata": {},
   "source": [
    "## Obtain Cluster IDs"
   ]
  },
  {
   "cell_type": "code",
   "execution_count": 5,
   "metadata": {
    "collapsed": false
   },
   "outputs": [],
   "source": [
    "q = {\n",
    "    \"query\": {\n",
    "      \"filtered\": {\n",
    "        \"query\": { \"match\": {\"_type\": \"annotations\"}},\n",
    "            \"filter\": {\n",
    "              \"bool\": {\n",
    "                \"must\": [\n",
    "                    {\"exists\": {\"field\": \"cluster_id\"}}]\n",
    "      }\n",
    "    }\n",
    "  }\n",
    "}\n",
    "}"
   ]
  },
  {
   "cell_type": "code",
   "execution_count": 6,
   "metadata": {
    "collapsed": false
   },
   "outputs": [
    {
     "name": "stdout",
     "output_type": "stream",
     "text": [
      "33446\n"
     ]
    }
   ],
   "source": [
    "count = es.count(index=settings['ES']['INDEX'], body=q)['count']\n",
    "print count"
   ]
  },
  {
   "cell_type": "code",
   "execution_count": null,
   "metadata": {
    "collapsed": false
   },
   "outputs": [],
   "source": [
    "results = helpers.scan(es, query=q, index=settings['ES']['INDEX'])\n",
    "i = 0\n",
    "\n",
    "cluster_ids = []\n",
    "\n",
    "for hit in results:\n",
    "    cluster_ids.append(hit['_source']['cluster_id'])\n",
    "    if i%2000 == 0:\n",
    "        print i\n",
    "    i += 1"
   ]
  },
  {
   "cell_type": "code",
   "execution_count": null,
   "metadata": {
    "collapsed": false
   },
   "outputs": [],
   "source": [
    "print len(cluster_ids)\n",
    "cluster_ids = list(set(cluster_ids))\n",
    "print len(cluster_ids)"
   ]
  },
  {
   "cell_type": "code",
   "execution_count": null,
   "metadata": {
    "collapsed": false
   },
   "outputs": [],
   "source": [
    "filename = 'cluster_ids.json'\n",
    "with open(filename, 'w') as outfile:\n",
    "    json.dump(cluster_ids, outfile)"
   ]
  },
  {
   "cell_type": "code",
   "execution_count": null,
   "metadata": {
    "collapsed": false
   },
   "outputs": [],
   "source": [
    "i = 1\n",
    "full_list = []\n",
    "for cluster in cluster_ids:\n",
    "    q = cluster_q(cluster)\n",
    "    count = es.count(index=settings['ES']['INDEX'], body=q)['count']\n",
    "    print i\n",
    "    print \"Cluster: {0}, Docs: {1}\".format(cluster, count)\n",
    "    i += 1\n",
    "    results = helpers.scan(es, query=q, index=settings['ES']['INDEX'])\n",
    "    temp_list = []\n",
    "    for hit in results:\n",
    "        temp_list.append(hit['_source'])\n",
    "    full_list.append(temp_list)"
   ]
  },
  {
   "cell_type": "code",
   "execution_count": null,
   "metadata": {
    "collapsed": true
   },
   "outputs": [],
   "source": [
    "filename = 'cluster_annotations.json'\n",
    "with open(filename, 'w') as outfile:\n",
    "    json.dump(full_list, outfile)"
   ]
  },
  {
   "cell_type": "markdown",
   "metadata": {
    "collapsed": true
   },
   "source": [
    "## DEBUG"
   ]
  },
  {
   "cell_type": "code",
   "execution_count": null,
   "metadata": {
    "collapsed": false
   },
   "outputs": [],
   "source": [
    "with open(filename, 'r') as inputfile:\n",
    "    new_stuff = json.load(inputfile)\n",
    "    \n",
    "print len(new_stuff)"
   ]
  },
  {
   "cell_type": "code",
   "execution_count": null,
   "metadata": {
    "collapsed": false
   },
   "outputs": [],
   "source": [
    "i = 3\n",
    "for entry in new_stuff[i]:\n",
    "    print entry['cluster_id']"
   ]
  },
  {
   "cell_type": "code",
   "execution_count": null,
   "metadata": {
    "collapsed": false
   },
   "outputs": [],
   "source": [
    "raw = es.search(index=settings['ES']['INDEX'], body=q, size=10000)\n",
    "results = raw['hits']['hits']\n",
    "print len(results)"
   ]
  },
  {
   "cell_type": "code",
   "execution_count": null,
   "metadata": {
    "collapsed": false
   },
   "outputs": [],
   "source": [
    "escort_results[1]['_source'].keys()"
   ]
  },
  {
   "cell_type": "code",
   "execution_count": null,
   "metadata": {
    "collapsed": false
   },
   "outputs": [],
   "source": [
    "ann_results[1]['_source'].keys()"
   ]
  },
  {
   "cell_type": "code",
   "execution_count": null,
   "metadata": {
    "collapsed": false
   },
   "outputs": [],
   "source": [
    "ann_results[0]['_source']"
   ]
  },
  {
   "cell_type": "code",
   "execution_count": null,
   "metadata": {
    "collapsed": false
   },
   "outputs": [],
   "source": [
    "es_string"
   ]
  },
  {
   "cell_type": "code",
   "execution_count": null,
   "metadata": {
    "collapsed": true
   },
   "outputs": [],
   "source": []
  }
 ],
 "metadata": {
  "kernelspec": {
   "display_name": "Python 2",
   "language": "python",
   "name": "python2"
  },
  "language_info": {
   "codemirror_mode": {
    "name": "ipython",
    "version": 2
   },
   "file_extension": ".py",
   "mimetype": "text/x-python",
   "name": "python",
   "nbconvert_exporter": "python",
   "pygments_lexer": "ipython2",
   "version": "2.7.11"
  }
 },
 "nbformat": 4,
 "nbformat_minor": 0
}
