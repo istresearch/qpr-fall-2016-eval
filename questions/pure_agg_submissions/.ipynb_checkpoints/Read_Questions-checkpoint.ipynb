{
 "cells": [
  {
   "cell_type": "code",
   "execution_count": 1,
   "metadata": {
    "collapsed": true
   },
   "outputs": [],
   "source": [
    "import json"
   ]
  },
  {
   "cell_type": "code",
   "execution_count": 2,
   "metadata": {
    "collapsed": false
   },
   "outputs": [],
   "source": [
    "def get_extractions(annotations, gt_ads, feature):\n",
    "    new_extractions = []\n",
    "    # Explicitly cylcing over every entry (inefficient)\n",
    "    for cluster in annotations:\n",
    "        for entry in cluster:\n",
    "            if entry['obj_parent'] in gt_ads:\n",
    "                if entry['relevant'] == 'yes':\n",
    "                    # Retaining nested structure\n",
    "                    for ad_feature in entry['features'].keys():\n",
    "                        for annotaion in entry['features'][ad_feature]:\n",
    "                            if annotaion['label'] == feature:\n",
    "                                # Some values are images\n",
    "                                if 'text' in annotaion.keys():\n",
    "                                    new_extractions.append(annotaion['text'])\n",
    "    return new_extractions"
   ]
  },
  {
   "cell_type": "markdown",
   "metadata": {},
   "source": [
    "### Set Paths"
   ]
  },
  {
   "cell_type": "code",
   "execution_count": 3,
   "metadata": {
    "collapsed": false
   },
   "outputs": [],
   "source": [
    "annotation_file = '../cluster_annotations/cluster_annotations.json'\n",
    "agg_gt_file = '../posted_GT/gt_answer_key/agg_quest2ads.json'\n",
    "agg_quest_file = '../../questions/post_aggregate.json'\n",
    "sub_path = '../team_submissions'"
   ]
  },
  {
   "cell_type": "code",
   "execution_count": 4,
   "metadata": {
    "collapsed": false
   },
   "outputs": [],
   "source": [
    "f = open(annotation_file, 'r')\n",
    "annotations = eval(f.read())\n",
    "f.close()\n",
    "\n",
    "agg_quest = {}\n",
    "f = open(agg_quest_file, 'r')\n",
    "for line in f:\n",
    "    obj = json.loads(line)\n",
    "    agg_quest[obj['id']] = obj\n",
    "f.close()\n",
    "\n",
    "f = open(agg_gt_file, 'r')\n",
    "agg_gt = eval(f.read())\n",
    "f.close()"
   ]
  },
  {
   "cell_type": "markdown",
   "metadata": {},
   "source": [
    "### Take all extractions from GT"
   ]
  },
  {
   "cell_type": "code",
   "execution_count": 5,
   "metadata": {
    "collapsed": false
   },
   "outputs": [],
   "source": [
    "# Features are referred to differently\n",
    "#translate_feature = {}\n",
    "#translate_feature['price'] \n",
    "\n",
    "# Keep list of extractions\n",
    "dupe_extractions = {}\n",
    "dupe_extractions['price'] = []\n",
    "dupe_extractions['height'] = []\n",
    "dupe_extractions['weight'] = []\n",
    "\n",
    "for quest in agg_quest.keys():\n",
    "    # Find the feature needed\n",
    "    feature = (agg_quest[quest]['SPARQL'][0].split('\\n')[1]\n",
    "               .split('?')[1].split(' ')[0].strip(')'))\n",
    "    # Find the relevant GT ads\n",
    "    ads = agg_gt[quest]\n",
    "    new_extractions = get_extractions(annotations, ads,\n",
    "                                     feature.capitalize())\n",
    "    dupe_extractions[feature].extend(new_extractions)\n",
    "\n",
    "uniq_extractions = {}\n",
    "for feature in dupe_extractions.keys():\n",
    "    uniq_extractions[feature] = list(set(dupe_extractions[feature]))"
   ]
  },
  {
   "cell_type": "markdown",
   "metadata": {},
   "source": [
    "### Write dictionary file for all non-zero length values"
   ]
  },
  {
   "cell_type": "code",
   "execution_count": 6,
   "metadata": {
    "collapsed": false
   },
   "outputs": [],
   "source": [
    "for feature in uniq_extractions.keys():\n",
    "    print_dict = {}\n",
    "    for value in uniq_extractions[feature]:\n",
    "        print_dict[value] = \"\"\n",
    "    # Save to Pretty Print File\n",
    "    json_file = feature + '_values.json'\n",
    "    with open(json_file, 'w') as outfile:\n",
    "        json.dump(print_dict, outfile, indent=2)"
   ]
  },
  {
   "cell_type": "markdown",
   "metadata": {},
   "source": [
    "## DEBUG"
   ]
  },
  {
   "cell_type": "code",
   "execution_count": null,
   "metadata": {
    "collapsed": false
   },
   "outputs": [],
   "source": [
    "# SAME ANNOTATION OBJ PARENT CAN HAVE MULTIPLE ANNOTATIONS\n",
    "dupe_entries = {}\n",
    "dupe_entries['FDF6C02499CDC00411EDA8E461E113813A971E27157B2C4CF0D70A01E9C9116A'] = []\n",
    "dupe_entries['A83CDE3A4E0CEC24C4FA717EFB9ABE3D472B19CFD7488FF32D461DD605B27085'] = []\n",
    "\n",
    "for cluster in annotations:\n",
    "        for entry in cluster:\n",
    "            if entry['obj_parent'] in dupe_entries.keys():\n",
    "                dupe_entries[entry['obj_parent']].append(entry)\n",
    "\n",
    "#for entry in dupe_entries.keys():\n",
    "#    print entry\n",
    "#    for annot in dupe_entries[entry]:\n",
    "#        print annot\n",
    "#    print ' '"
   ]
  },
  {
   "cell_type": "code",
   "execution_count": null,
   "metadata": {
    "collapsed": false
   },
   "outputs": [],
   "source": [
    "# SO ONE OF THE ENTRIES HAS PRICE AND HEIGHT, AND ONE DOESN'T.\n",
    "# THAT'S WHY IT LOOKS LIKE IT's BREAKING\n",
    "#dupe_entries['A83CDE3A4E0CEC24C4FA717EFB9ABE3D472B19CFD7488FF32D461DD605B27085']"
   ]
  },
  {
   "cell_type": "code",
   "execution_count": 7,
   "metadata": {
    "collapsed": false
   },
   "outputs": [
    {
     "name": "stdout",
     "output_type": "stream",
     "text": [
      "5\\u20193\\u201d\n"
     ]
    }
   ],
   "source": [
    "thing = '5\\\\u20193\\\\u201d'\n",
    "print thing"
   ]
  },
  {
   "cell_type": "code",
   "execution_count": 24,
   "metadata": {
    "collapsed": false
   },
   "outputs": [
    {
     "name": "stdout",
     "output_type": "stream",
     "text": [
      "\\ud83c\\udd7e\\ud83c\\udd7eHr\\ud83d\\udc8b\n"
     ]
    }
   ],
   "source": [
    "ting = '\\ud83c\\udd7e\\ud83c\\udd7eHr\\ud83d\\udc8b'\n",
    "print ting"
   ]
  },
  {
   "cell_type": "code",
   "execution_count": 26,
   "metadata": {
    "collapsed": false
   },
   "outputs": [
    {
     "name": "stdout",
     "output_type": "stream",
     "text": [
      "\\ud83c\\udd7e\\ud83c\\udd7eHr\\ud83d\\udc8b\n"
     ]
    }
   ],
   "source": [
    "s = unicode(ting).encode('utf-8')\n",
    "print s"
   ]
  },
  {
   "cell_type": "code",
   "execution_count": 111,
   "metadata": {
    "collapsed": true
   },
   "outputs": [],
   "source": [
    "s = \"6\\\\u2b55HHR\""
   ]
  },
  {
   "cell_type": "code",
   "execution_count": 112,
   "metadata": {
    "collapsed": false
   },
   "outputs": [
    {
     "name": "stdout",
     "output_type": "stream",
     "text": [
      "6⭕HHR\n"
     ]
    }
   ],
   "source": [
    "\n",
    "x = s.decode('unicode_escape')\n",
    "print x\n",
    " \n",
    "\n"
   ]
  },
  {
   "cell_type": "code",
   "execution_count": null,
   "metadata": {
    "collapsed": true
   },
   "outputs": [],
   "source": []
  }
 ],
 "metadata": {
  "kernelspec": {
   "display_name": "Python 2",
   "language": "python",
   "name": "python2"
  },
  "language_info": {
   "codemirror_mode": {
    "name": "ipython",
    "version": 2
   },
   "file_extension": ".py",
   "mimetype": "text/x-python",
   "name": "python",
   "nbconvert_exporter": "python",
   "pygments_lexer": "ipython2",
   "version": "2.7.11"
  }
 },
 "nbformat": 4,
 "nbformat_minor": 0
}
