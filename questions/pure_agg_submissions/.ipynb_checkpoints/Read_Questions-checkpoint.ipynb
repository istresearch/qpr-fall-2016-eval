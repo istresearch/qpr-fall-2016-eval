{
 "cells": [
  {
   "cell_type": "code",
   "execution_count": 1,
   "metadata": {
    "collapsed": true
   },
   "outputs": [],
   "source": [
    "import json"
   ]
  },
  {
   "cell_type": "markdown",
   "metadata": {},
   "source": [
    "### Set Paths"
   ]
  },
  {
   "cell_type": "code",
   "execution_count": 3,
   "metadata": {
    "collapsed": false
   },
   "outputs": [],
   "source": [
    "posted_file = '../post_aggregate_V2.json'\n",
    "\n",
    "isi_file = 'isi_aggregate.json'\n",
    "uncharted_file = 'uncharted_aggregate_questions-2.json'"
   ]
  },
  {
   "cell_type": "code",
   "execution_count": 4,
   "metadata": {
    "collapsed": false
   },
   "outputs": [],
   "source": [
    "posted = []\n",
    "f = open(posted_file, 'r')\n",
    "for line in f:\n",
    "    temp = json.loads(line)\n",
    "    posted.append(temp)\n",
    "f.close()\n",
    "\n",
    "f = open(isi_file, 'r')\n",
    "isi = eval(f.read())\n",
    "f.close()\n",
    "\n",
    "f = open(uncharted_file, 'r')\n",
    "uncharted = eval(f.read())\n",
    "f.close()"
   ]
  },
  {
   "cell_type": "code",
   "execution_count": null,
   "metadata": {
    "collapsed": false
   },
   "outputs": [],
   "source": [
    "isi[0].keys()"
   ]
  },
  {
   "cell_type": "code",
   "execution_count": null,
   "metadata": {
    "collapsed": false
   },
   "outputs": [],
   "source": [
    "no_good = [2, 3, 4, 5, 6, 9]\n",
    "\n",
    "i = 2\n",
    "for query in isi[i]['SPARQL']:\n",
    "    print query\n",
    "    print \" \""
   ]
  },
  {
   "cell_type": "code",
   "execution_count": 20,
   "metadata": {
    "collapsed": false,
    "scrolled": true
   },
   "outputs": [
    {
     "ename": "IndexError",
     "evalue": "list index out of range",
     "output_type": "error",
     "traceback": [
      "\u001b[0;31m---------------------------------------------------------------------------\u001b[0m",
      "\u001b[0;31mIndexError\u001b[0m                                Traceback (most recent call last)",
      "\u001b[0;32m<ipython-input-20-dc21f05a1b17>\u001b[0m in \u001b[0;36m<module>\u001b[0;34m()\u001b[0m\n\u001b[1;32m      1\u001b[0m \u001b[0mi\u001b[0m \u001b[0;34m=\u001b[0m\u001b[0;36m10\u001b[0m\u001b[0;34m\u001b[0m\u001b[0m\n\u001b[1;32m      2\u001b[0m \u001b[0;34m\u001b[0m\u001b[0m\n\u001b[0;32m----> 3\u001b[0;31m \u001b[0;32mfor\u001b[0m \u001b[0mquery\u001b[0m \u001b[0;32min\u001b[0m \u001b[0muncharted\u001b[0m\u001b[0;34m[\u001b[0m\u001b[0mi\u001b[0m\u001b[0;34m]\u001b[0m\u001b[0;34m[\u001b[0m\u001b[0;34m'SPARQL'\u001b[0m\u001b[0;34m]\u001b[0m\u001b[0;34m:\u001b[0m\u001b[0;34m\u001b[0m\u001b[0m\n\u001b[0m\u001b[1;32m      4\u001b[0m     \u001b[0;32mprint\u001b[0m \u001b[0mquery\u001b[0m\u001b[0;34m\u001b[0m\u001b[0m\n\u001b[1;32m      5\u001b[0m     \u001b[0;32mprint\u001b[0m \u001b[0;34m\" \"\u001b[0m\u001b[0;34m\u001b[0m\u001b[0m\n",
      "\u001b[0;31mIndexError\u001b[0m: list index out of range"
     ]
    }
   ],
   "source": [
    "i =\n",
    "\n",
    "for query in uncharted[i]['SPARQL']:\n",
    "    print query\n",
    "    print \" \""
   ]
  },
  {
   "cell_type": "code",
   "execution_count": 9,
   "metadata": {
    "collapsed": false
   },
   "outputs": [
    {
     "name": "stdout",
     "output_type": "stream",
     "text": [
      "PREFIX qpr: <http://istresearch.com/qpr>\n",
      "SELECT ?price ((count(?ad)) AS ?count) \n",
      "WHERE\n",
      "{\t?cluster a qpr:cluster ;\n",
      "\tqpr:seed 'Internationaldiamonds21@yahoo.com' ;\n",
      "\tqpr:price ?price ;\n",
      "\tqpr:ad ?ad .\n",
      "}\n",
      "GROUP BY ?price\n",
      "ORDER BY DESC(?count)\n",
      "LIMIT 1\n",
      " \n",
      "PREFIX qpr: <http://istresearch.com/qpr>\n",
      "SELECT ?price ?ad\n",
      "WHERE\n",
      "{\t?cluster a qpr:cluster ;\n",
      "\tqpr:seed 'Internationaldiamonds21@yahoo.com' ;\n",
      "\tqpr:price ?price ;\n",
      "\tqpr:ad ?ad .\n",
      "}\n",
      " \n"
     ]
    }
   ],
   "source": [
    "i = 0\n",
    "\n",
    "for entry in posted[i]['SPARQL']:\n",
    "    print entry\n",
    "    print \" \""
   ]
  },
  {
   "cell_type": "code",
   "execution_count": 5,
   "metadata": {
    "collapsed": false
   },
   "outputs": [
    {
     "data": {
      "text/plain": [
       "'Find the top phone number associated with all ads posted in Victoria, BC containing an asian escort'"
      ]
     },
     "execution_count": 5,
     "metadata": {},
     "output_type": "execute_result"
    }
   ],
   "source": [
    "uncharted[0]['question']"
   ]
  },
  {
   "cell_type": "code",
   "execution_count": null,
   "metadata": {
    "collapsed": true
   },
   "outputs": [],
   "source": []
  }
 ],
 "metadata": {
  "kernelspec": {
   "display_name": "Python 2",
   "language": "python",
   "name": "python2"
  },
  "language_info": {
   "codemirror_mode": {
    "name": "ipython",
    "version": 2
   },
   "file_extension": ".py",
   "mimetype": "text/x-python",
   "name": "python",
   "nbconvert_exporter": "python",
   "pygments_lexer": "ipython2",
   "version": "2.7.11"
  }
 },
 "nbformat": 4,
 "nbformat_minor": 0
}
