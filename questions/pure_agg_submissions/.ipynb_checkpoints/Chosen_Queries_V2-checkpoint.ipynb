{
 "cells": [
  {
   "cell_type": "code",
   "execution_count": null,
   "metadata": {
    "collapsed": true
   },
   "outputs": [],
   "source": [
    "import json"
   ]
  },
  {
   "cell_type": "code",
   "execution_count": null,
   "metadata": {
    "collapsed": false
   },
   "outputs": [],
   "source": [
    "def define_temp(selection, i):\n",
    "    temp = {}\n",
    "    temp['id'] = int(i)\n",
    "    temp['type'] = selection['type']\n",
    "    temp['SPARQL'] = selection['SPARQL']\n",
    "    temp['question'] = selection['question']\n",
    "    \n",
    "    return temp"
   ]
  },
  {
   "cell_type": "markdown",
   "metadata": {},
   "source": [
    "### Define Files"
   ]
  },
  {
   "cell_type": "code",
   "execution_count": null,
   "metadata": {
    "collapsed": true
   },
   "outputs": [],
   "source": [
    "posted_file = '../post_aggregate_V2.json'  # For comparison Purposes\n",
    "isi_file = 'isi_aggregate_V3.json'\n",
    "uncharted_file = 'uncharted_aggregate_questions_V5.json'\n",
    "georgetown_file = 'Georgetown_query_V5.json'\n",
    "\n",
    "output_file = 'pure_aggregate.json'"
   ]
  },
  {
   "cell_type": "markdown",
   "metadata": {},
   "source": [
    "### Define Chosen Questions"
   ]
  },
  {
   "cell_type": "code",
   "execution_count": 1,
   "metadata": {
    "collapsed": true
   },
   "outputs": [],
   "source": [
    "isi_chosen = [0,1,2,4,5]\n",
    "georgetown_chosen = [0,1,3,4,8]\n",
    "uncharted_chosen = [1,5,6,8,9]"
   ]
  },
  {
   "cell_type": "code",
   "execution_count": null,
   "metadata": {
    "collapsed": false
   },
   "outputs": [],
   "source": [
    "posted = []\n",
    "f = open(posted_file, 'r')\n",
    "for line in f:\n",
    "    temp = json.loads(line)\n",
    "    posted.append(temp)\n",
    "f.close()\n",
    "\n",
    "f = open(isi_file, 'r')\n",
    "isi = eval(f.read())\n",
    "f.close()\n",
    "\n",
    "f = open(uncharted_file, 'r')\n",
    "uncharted = eval(f.read())\n",
    "f.close()\n",
    "\n",
    "georgetown = []\n",
    "f = open(georgetown_file, 'r')\n",
    "for line in f:\n",
    "    entry = json.loads(line)\n",
    "    georgetown.append(entry)\n",
    "f.close()"
   ]
  },
  {
   "cell_type": "markdown",
   "metadata": {},
   "source": [
    "## Select Chosen Questions"
   ]
  },
  {
   "cell_type": "code",
   "execution_count": null,
   "metadata": {
    "collapsed": false,
    "scrolled": true
   },
   "outputs": [],
   "source": [
    "i = 0\n",
    "chosen_questions = []\n",
    "\n",
    "# Inefficient\n",
    "for selection in isi_chosen:\n",
    "    # OVER explicit so that order of keys\n",
    "    # will be consistent\n",
    "    temp = define_temp(isi[selection], i)\n",
    "    chosen_questions.append(temp)\n",
    "    i += 1\n",
    "    \n",
    "for selection in georgetown_chosen:\n",
    "    temp = define_temp(georgetown[selection], i)\n",
    "    chosen_questions.append(temp)\n",
    "    i += 1\n",
    "    \n",
    "for selection in uncharted_chosen:\n",
    "    temp = define_temp(uncharted[selection], i)\n",
    "    chosen_questions.append(temp)\n",
    "    i += 1"
   ]
  },
  {
   "cell_type": "markdown",
   "metadata": {},
   "source": [
    "## Confirm Consistent Structure"
   ]
  },
  {
   "cell_type": "code",
   "execution_count": null,
   "metadata": {
    "collapsed": false
   },
   "outputs": [],
   "source": [
    "for question in chosen_questions:\n",
    "    print question.keys()"
   ]
  },
  {
   "cell_type": "code",
   "execution_count": null,
   "metadata": {
    "collapsed": false
   },
   "outputs": [],
   "source": [
    "for question in chosen_questions:\n",
    "    print question['id']"
   ]
  },
  {
   "cell_type": "code",
   "execution_count": null,
   "metadata": {
    "collapsed": false
   },
   "outputs": [],
   "source": [
    "for question in chosen_questions:\n",
    "    for entry in question['SPARQL']:\n",
    "        print entry\n",
    "        print \" \"\n",
    "        print \" \""
   ]
  },
  {
   "cell_type": "markdown",
   "metadata": {},
   "source": [
    "## Save Confirmed Questions to File"
   ]
  },
  {
   "cell_type": "code",
   "execution_count": null,
   "metadata": {
    "collapsed": false
   },
   "outputs": [],
   "source": [
    "with open(output_file, 'w') as f:\n",
    "    for question in chosen_questions[:-1]:\n",
    "        temp = json.dumps(question)\n",
    "        f.write(temp + '\\n')\n",
    "    temp = json.dumps(chosen_questions[-1])\n",
    "    f.write(temp)"
   ]
  },
  {
   "cell_type": "markdown",
   "metadata": {},
   "source": [
    "## Confirm Reading of File to be Posted"
   ]
  },
  {
   "cell_type": "code",
   "execution_count": null,
   "metadata": {
    "collapsed": false
   },
   "outputs": [],
   "source": [
    "f = open(output_file, 'r')\n",
    "check = []\n",
    "for line in f:\n",
    "    check.append(json.loads(line))\n",
    "f.close()\n",
    "\n",
    "for quest in check:\n",
    "    print quest.keys()"
   ]
  },
  {
   "cell_type": "code",
   "execution_count": null,
   "metadata": {
    "collapsed": true
   },
   "outputs": [],
   "source": []
  }
 ],
 "metadata": {
  "anaconda-cloud": {},
  "kernelspec": {
   "display_name": "Python 2",
   "language": "python",
   "name": "python2"
  },
  "language_info": {
   "codemirror_mode": {
    "name": "ipython",
    "version": 2
   },
   "file_extension": ".py",
   "mimetype": "text/x-python",
   "name": "python",
   "nbconvert_exporter": "python",
   "pygments_lexer": "ipython2",
   "version": "2.7.11"
  }
 },
 "nbformat": 4,
 "nbformat_minor": 0
}
