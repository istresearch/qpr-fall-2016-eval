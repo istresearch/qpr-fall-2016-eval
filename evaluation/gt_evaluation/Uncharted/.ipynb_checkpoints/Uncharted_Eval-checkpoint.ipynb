{
 "cells": [
  {
   "cell_type": "code",
   "execution_count": 53,
   "metadata": {
    "collapsed": true
   },
   "outputs": [],
   "source": [
    "import json\n",
    "import numpy\n",
    "import operator"
   ]
  },
  {
   "cell_type": "code",
   "execution_count": 47,
   "metadata": {
    "collapsed": true
   },
   "outputs": [],
   "source": [
    "gt_path = '../../../data/posted_GT/gt_answer_key/'\n",
    "# New\n",
    "agg_gt_answ_file = '../../../data/aggregate_gt/agg_answer_key.json'\n",
    "agg_metric_file = '../../../data/aggregate_gt/agg_metric_parameters.json'\n",
    "sub_path = '../../../data/team_submissions/Uncharted/GroundTruth/'"
   ]
  },
  {
   "cell_type": "code",
   "execution_count": 22,
   "metadata": {
    "collapsed": false
   },
   "outputs": [],
   "source": [
    "def clean_sub(sub, index_of_ad, index_of_score):\n",
    "    seen = []\n",
    "    uniqs = []\n",
    "    # explicitly check ordering\n",
    "    i = 100\n",
    "    for entry in sub:\n",
    "        # skip over aggregate single answer\n",
    "        if type(entry) == list:\n",
    "            if entry[index_of_score] > i:\n",
    "                print \"ORDERING PROBLEM\"\n",
    "                return None\n",
    "            i = entry[index_of_score]\n",
    "        #else:\n",
    "        #    print type(entry)\n",
    "    # de-dupe\n",
    "    for entry in sub:\n",
    "        # skip over aggregate single answer\n",
    "        if type(entry) == list:\n",
    "            if entry[index_of_ad] not in seen:\n",
    "                uniqs.append(entry)\n",
    "                seen.append(entry[index_of_ad])\n",
    "    # explicitly sort by score after de-duping\n",
    "    uniqs.sort(key=operator.itemgetter(index_of_score), reverse=True)\n",
    "    # explicitly check ordering\n",
    "    i = 100\n",
    "    for entry in uniqs:\n",
    "        if entry[index_of_score] > i:\n",
    "            print \"ORDERING PROBLEM\"\n",
    "            return None\n",
    "        i = entry[index_of_score]\n",
    "    return uniqs"
   ]
  },
  {
   "cell_type": "code",
   "execution_count": 23,
   "metadata": {
    "collapsed": false
   },
   "outputs": [],
   "source": [
    "def AvgPrecision(gt, sub, index_of_ad, index_of_score):\n",
    "    score = 100\n",
    "    seen = []\n",
    "    rel_docs = len(gt)\n",
    "    num_hits = 0\n",
    "    num_retrieved = 0\n",
    "    cumpre = 0\n",
    "    for entry in sub:\n",
    "        num_retrieved += 1\n",
    "        ad_id = entry[index_of_ad]\n",
    "        # excessive checking of dupes\n",
    "        if ad_id in seen:\n",
    "            print \"DUPLICATE\"\n",
    "            return None\n",
    "        seen.append(ad_id)\n",
    "        # excessive checking of order\n",
    "        if entry[index_of_score] > score:\n",
    "            print \"ORDER PROBLEM\"\n",
    "            return None\n",
    "        score = entry[index_of_score]\n",
    "        if ad_id in gt:\n",
    "            num_hits += 1\n",
    "            cumpre += num_hits/float(num_retrieved)\n",
    "            \n",
    "    return cumpre/rel_docs"
   ]
  },
  {
   "cell_type": "code",
   "execution_count": 59,
   "metadata": {
    "collapsed": true
   },
   "outputs": [],
   "source": [
    "def AggMetric(gt_answ, sub_answ, feature):\n",
    "    scale_cutoff = agg_metric_params[feature]\n",
    "    diff = gt_answ - sub_answ\n",
    "    if numpy.absolute(diff) <= (gt_answ * scale_cutoff):\n",
    "        metric = 1\n",
    "    else:\n",
    "        metric = 0\n",
    "        \n",
    "    return metric"
   ]
  },
  {
   "cell_type": "markdown",
   "metadata": {},
   "source": [
    "# SET EXTRACTIONS"
   ]
  },
  {
   "cell_type": "code",
   "execution_count": 24,
   "metadata": {
    "collapsed": true
   },
   "outputs": [],
   "source": [
    "#extractions = 'Uncharted_Uncharted_only'\n",
    "extractions = 'Uncharted_Uncharted_and_lattice'\n",
    "#extractions = 'Uncharted_CMU'\n",
    "\n",
    "if extractions == 'Uncharted_Uncharted_only':\n",
    "    sub_gt = sub_path + 'uncharted_extractions_GT.json'\n",
    "elif extractions == 'Uncharted_Uncharted_and_lattice':\n",
    "    sub_gt = sub_path + 'uncharted_lattice_extractions_GT.json'\n",
    "elif extractions == 'CMU':\n",
    "    sub_gt = sub_path + 'uncharted_lattice_extractions_CMU_clusters_GT.json'"
   ]
  },
  {
   "cell_type": "markdown",
   "metadata": {},
   "source": [
    "## Load Submissions"
   ]
  },
  {
   "cell_type": "code",
   "execution_count": 25,
   "metadata": {
    "collapsed": false
   },
   "outputs": [],
   "source": [
    "f = open(sub_gt, 'r')\n",
    "data = eval(f.read())\n",
    "f.close()\n",
    "\n",
    "pf_sub = []\n",
    "id_sub = []\n",
    "facet_sub = []\n",
    "agg_sub = []\n",
    "\n",
    "for entry in data:\n",
    "    if entry['questionType'] == 'Point Fact':\n",
    "        pf_sub.append(entry)\n",
    "    elif entry['questionType'] == 'Cluster Identification':\n",
    "        id_sub.append(entry)\n",
    "    elif entry['questionType'] == 'Cluster Facet':\n",
    "        facet_sub.append(entry)\n",
    "    elif entry['questionType'] in ['MODE', 'MIN', 'MAX', 'AVG']:\n",
    "        agg_sub.append(entry)\n",
    "    else:\n",
    "        print entry['questionType']\n",
    "\n",
    "Submissions = {}\n",
    "Submissions['Point Fact'] = pf_sub\n",
    "Submissions['Cluster Identification'] = id_sub\n",
    "Submissions['Cluster Facet'] = facet_sub\n",
    "Submissions['Cluster Aggregate'] = agg_sub\n",
    "\n",
    "del pf_sub\n",
    "del id_sub\n",
    "del facet_sub\n",
    "del agg_sub"
   ]
  },
  {
   "cell_type": "markdown",
   "metadata": {},
   "source": [
    "## Load GT"
   ]
  },
  {
   "cell_type": "code",
   "execution_count": 49,
   "metadata": {
    "collapsed": false
   },
   "outputs": [],
   "source": [
    "pf_path = gt_path + 'pf_quest2ads.json'\n",
    "f = open(pf_path, 'r')\n",
    "pf_gt = eval(f.read())\n",
    "f.close()\n",
    "\n",
    "id_path = gt_path + 'id_quest2ads.json'\n",
    "f = open(id_path, 'r')\n",
    "id_gt = eval(f.read())\n",
    "f.close()\n",
    "\n",
    "facet_path = gt_path + 'facet_quest2ads.json'\n",
    "f = open(facet_path, 'r')\n",
    "facet_gt = eval(f.read())\n",
    "f.close()\n",
    "\n",
    "agg_path = gt_path + 'agg_quest2ads.json'\n",
    "f = open(agg_path, 'r')\n",
    "agg_gt = eval(f.read())\n",
    "f.close()\n",
    "\n",
    "# New\n",
    "f = open(agg_gt_answ_file, 'r')\n",
    "agg_answ_gt = eval(f.read())\n",
    "f.close()\n",
    "\n",
    "f = open(agg_metric_file, 'r')\n",
    "agg_metric_params = eval(f.read())\n",
    "f.close()\n",
    "\n",
    "Ground_Truth = {}\n",
    "Ground_Truth['Point Fact'] = pf_gt\n",
    "Ground_Truth['Cluster Identification'] = id_gt\n",
    "Ground_Truth['Cluster Facet'] = facet_gt\n",
    "Ground_Truth['Cluster Aggregate'] = agg_gt\n",
    "\n",
    "del pf_gt\n",
    "del id_gt\n",
    "del facet_gt\n",
    "del agg_gt"
   ]
  },
  {
   "cell_type": "markdown",
   "metadata": {},
   "source": [
    "## Protocol"
   ]
  },
  {
   "cell_type": "code",
   "execution_count": 27,
   "metadata": {
    "collapsed": true
   },
   "outputs": [],
   "source": [
    "protocol = {}\n",
    "protocol['Point Fact'] = {}\n",
    "protocol['Point Fact']['ad_idx'] = 1\n",
    "protocol['Point Fact']['score_idx'] = 2\n",
    "protocol['Point Fact']['questionType'] = ['Point Fact']\n",
    "protocol['Cluster Identification'] = {}\n",
    "protocol['Cluster Identification']['ad_idx'] = 0\n",
    "protocol['Cluster Identification']['score_idx'] = 1\n",
    "protocol['Cluster Identification']['questionType'] = ['Cluster Identification']\n",
    "protocol['Cluster Facet'] = {}\n",
    "protocol['Cluster Facet']['ad_idx'] = 1\n",
    "protocol['Cluster Facet']['score_idx'] = 2\n",
    "protocol['Cluster Facet']['questionType'] = ['Cluster Facet']\n",
    "protocol['Cluster Aggregate'] = {}\n",
    "protocol['Cluster Aggregate']['ad_idx'] = 1\n",
    "protocol['Cluster Aggregate']['score_idx'] = 2\n",
    "protocol['Cluster Aggregate']['questionType'] = ['MODE', 'MIN', 'MAX', 'AVG']"
   ]
  },
  {
   "cell_type": "code",
   "execution_count": 28,
   "metadata": {
    "collapsed": true
   },
   "outputs": [],
   "source": [
    "AvgP = {}"
   ]
  },
  {
   "cell_type": "markdown",
   "metadata": {},
   "source": [
    "## Create Dictionary"
   ]
  },
  {
   "cell_type": "code",
   "execution_count": 29,
   "metadata": {
    "collapsed": false
   },
   "outputs": [],
   "source": [
    "for qtype in protocol.keys():\n",
    "    AvgP[qtype] = {}\n",
    "\n",
    "    sub_data = Submissions[qtype]\n",
    "    gt_data = Ground_Truth[qtype]\n",
    "\n",
    "    try:\n",
    "        del submissions\n",
    "    except:\n",
    "        pass\n",
    "    for sub in sub_data:\n",
    "        if sub['questionType'] not in protocol[qtype]['questionType']:\n",
    "            print sub['questionType']\n",
    "            print \"TROUBLE\"\n",
    "            print qtype\n",
    "        submissions = clean_sub(sub['answers'], protocol[qtype]['ad_idx'], protocol[qtype]['score_idx'])\n",
    "        q_id = sub['question_id']\n",
    "        gt = gt_data[q_id]\n",
    "        AvgP[qtype][q_id] = AvgPrecision(gt, submissions, protocol[qtype]['ad_idx'], protocol[qtype]['score_idx'])"
   ]
  },
  {
   "cell_type": "markdown",
   "metadata": {},
   "source": [
    "## Remove Question 94 from Aggregate"
   ]
  },
  {
   "cell_type": "code",
   "execution_count": 30,
   "metadata": {
    "collapsed": true
   },
   "outputs": [],
   "source": [
    "del AvgP['Cluster Aggregate']['94']"
   ]
  },
  {
   "cell_type": "markdown",
   "metadata": {},
   "source": [
    "## Reformat Output"
   ]
  },
  {
   "cell_type": "code",
   "execution_count": 66,
   "metadata": {
    "collapsed": false
   },
   "outputs": [],
   "source": [
    "NewEval = {}\n",
    "\n",
    "for qtype in AvgP.keys():\n",
    "    NewEval[qtype] = {}\n",
    "    for quest in AvgP[qtype].keys():\n",
    "        NewEval[qtype][quest] = {}\n",
    "        NewEval[qtype][quest]['avg_precision'] = AvgP[qtype][quest]"
   ]
  },
  {
   "cell_type": "markdown",
   "metadata": {},
   "source": [
    "## Calculate Overall Aggregate Metric and Reformat Output"
   ]
  },
  {
   "cell_type": "code",
   "execution_count": 73,
   "metadata": {
    "collapsed": false
   },
   "outputs": [],
   "source": [
    "for quest in Submissions['Cluster Aggregate']:\n",
    "    q_id = quest['question_id']\n",
    "    # Initiate metric at 0\n",
    "    metric = 0\n",
    "    if q_id != '94':\n",
    "        if len(quest['answers']) > 0:\n",
    "            sub_answer = quest['answers'][0]\n",
    "            metric = AggMetric(agg_answ_gt[q_id]['agg_answer'], sub_answer, agg_answ_gt[q_id]['feature'])\n",
    "        NewEval['Cluster Aggregate'][q_id]['agg_metric'] = metric"
   ]
  },
  {
   "cell_type": "markdown",
   "metadata": {},
   "source": [
    "## Calculate Point Fact Extraction Metric"
   ]
  },
  {
   "cell_type": "markdown",
   "metadata": {},
   "source": [
    "## Save Avg Precision Dict"
   ]
  },
  {
   "cell_type": "code",
   "execution_count": null,
   "metadata": {
    "collapsed": false
   },
   "outputs": [],
   "source": [
    "save_file = extractions +'.json'\n",
    "with open(save_file, 'w') as outfile:\n",
    "    json.dump(AvgP, outfile)"
   ]
  },
  {
   "cell_type": "code",
   "execution_count": 33,
   "metadata": {
    "collapsed": false
   },
   "outputs": [
    {
     "data": {
      "text/plain": [
       "['questionType', 'answers', 'question_id']"
      ]
     },
     "execution_count": 33,
     "metadata": {},
     "output_type": "execute_result"
    }
   ],
   "source": [
    "Submissions['Cluster Aggregate'][0].keys()"
   ]
  },
  {
   "cell_type": "code",
   "execution_count": 63,
   "metadata": {
    "collapsed": false
   },
   "outputs": [
    {
     "data": {
      "text/plain": [
       "['Cluster Identification', 'Point Fact', 'Cluster Facet', 'Cluster Aggregate']"
      ]
     },
     "execution_count": 63,
     "metadata": {},
     "output_type": "execute_result"
    }
   ],
   "source": [
    "AvgP.keys()"
   ]
  },
  {
   "cell_type": "code",
   "execution_count": 74,
   "metadata": {
    "collapsed": false
   },
   "outputs": [
    {
     "data": {
      "text/plain": [
       "{'1': {'agg_metric': 0, 'avg_precision': 0.46693381708792586},\n",
       " '10': {'agg_metric': 1, 'avg_precision': 0.8760859501266968},\n",
       " '100': {'agg_metric': 1, 'avg_precision': 1.0},\n",
       " '11': {'agg_metric': 0, 'avg_precision': 0.8825436133293068},\n",
       " '12': {'agg_metric': 0, 'avg_precision': 0.6553446922760625},\n",
       " '13': {'agg_metric': 0, 'avg_precision': 0.13890574152726246},\n",
       " '14': {'agg_metric': 0, 'avg_precision': 0.19458266496137114},\n",
       " '15': {'agg_metric': 0, 'avg_precision': 0.8421082067953298},\n",
       " '16': {'agg_metric': 1, 'avg_precision': 0.8659863945578231},\n",
       " '17': {'agg_metric': 1, 'avg_precision': 0.3193276908343853},\n",
       " '18': {'agg_metric': 1, 'avg_precision': 0.8007281968433949},\n",
       " '19': {'agg_metric': 0, 'avg_precision': 0.44540367648603724},\n",
       " '2': {'agg_metric': 0, 'avg_precision': 0.013010297496339826},\n",
       " '20': {'agg_metric': 0, 'avg_precision': 0.8052264586251813},\n",
       " '21': {'agg_metric': 0, 'avg_precision': 0.8841565896064286},\n",
       " '22': {'agg_metric': 0, 'avg_precision': 0.011253168326065557},\n",
       " '23': {'agg_metric': 0, 'avg_precision': 0.9994462901439645},\n",
       " '24': {'agg_metric': 0, 'avg_precision': 0.0016263533353926178},\n",
       " '25': {'agg_metric': 0, 'avg_precision': 0.942950744113473},\n",
       " '26': {'agg_metric': 0, 'avg_precision': 0.8965688330975787},\n",
       " '27': {'agg_metric': 1, 'avg_precision': 0.9762206727226798},\n",
       " '28': {'agg_metric': 0, 'avg_precision': 0.277299398980073},\n",
       " '29': {'agg_metric': 0, 'avg_precision': 0.9036544662784174},\n",
       " '3': {'agg_metric': 0, 'avg_precision': 0.9382235591462283},\n",
       " '30': {'agg_metric': 1, 'avg_precision': 0.910093538977687},\n",
       " '31': {'agg_metric': 1, 'avg_precision': 1.0},\n",
       " '32': {'agg_metric': 0, 'avg_precision': 0.8571428571428571},\n",
       " '33': {'agg_metric': 0, 'avg_precision': 0.1944161325377187},\n",
       " '34': {'agg_metric': 0, 'avg_precision': 0},\n",
       " '35': {'agg_metric': 0, 'avg_precision': 0.7718661886405321},\n",
       " '36': {'agg_metric': 0, 'avg_precision': 0.002949248864628995},\n",
       " '37': {'agg_metric': 0, 'avg_precision': 0.8666666666666667},\n",
       " '38': {'agg_metric': 0, 'avg_precision': 0.005407672727355126},\n",
       " '39': {'agg_metric': 0, 'avg_precision': 0.9759470907903816},\n",
       " '4': {'agg_metric': 0, 'avg_precision': 0.004995313561454881},\n",
       " '40': {'agg_metric': 1, 'avg_precision': 0.4810792871037048},\n",
       " '41': {'agg_metric': 0, 'avg_precision': 0.06043084262099746},\n",
       " '42': {'agg_metric': 1, 'avg_precision': 0.02663492433339995},\n",
       " '43': {'agg_metric': 1, 'avg_precision': 0.9217407327335546},\n",
       " '44': {'agg_metric': 1, 'avg_precision': 0.008727412013999382},\n",
       " '45': {'agg_metric': 1, 'avg_precision': 0.947992461089953},\n",
       " '46': {'agg_metric': 1, 'avg_precision': 1.0},\n",
       " '47': {'agg_metric': 1, 'avg_precision': 0.9571896310205814},\n",
       " '48': {'agg_metric': 0, 'avg_precision': 0.17668229453943737},\n",
       " '49': {'agg_metric': 0, 'avg_precision': 0.8888857920882476},\n",
       " '5': {'agg_metric': 0, 'avg_precision': 0.7500822409913319},\n",
       " '50': {'agg_metric': 1, 'avg_precision': 0.8348404686480025},\n",
       " '51': {'agg_metric': 1, 'avg_precision': 0.2916980894939431},\n",
       " '52': {'agg_metric': 0, 'avg_precision': 0.964463274292928},\n",
       " '53': {'agg_metric': 1, 'avg_precision': 0.9260250517849612},\n",
       " '54': {'agg_metric': 0, 'avg_precision': 0},\n",
       " '55': {'agg_metric': 1, 'avg_precision': 0.9640348639331596},\n",
       " '56': {'agg_metric': 0, 'avg_precision': 0.0068484680094944095},\n",
       " '57': {'agg_metric': 1, 'avg_precision': 1.0},\n",
       " '58': {'agg_metric': 0, 'avg_precision': 0.6001338819207143},\n",
       " '59': {'agg_metric': 1, 'avg_precision': 0.9505371528286193},\n",
       " '6': {'agg_metric': 0, 'avg_precision': 0.18900461036631752},\n",
       " '60': {'agg_metric': 1, 'avg_precision': 0.8851927929416972},\n",
       " '61': {'agg_metric': 1, 'avg_precision': 0.7193661347744883},\n",
       " '62': {'agg_metric': 1, 'avg_precision': 0.9735614250210111},\n",
       " '63': {'agg_metric': 1, 'avg_precision': 0.9898708701838473},\n",
       " '64': {'agg_metric': 0, 'avg_precision': 0.9595469448707566},\n",
       " '65': {'agg_metric': 0, 'avg_precision': 0.8961341601463916},\n",
       " '66': {'agg_metric': 1, 'avg_precision': 0.9888496889976969},\n",
       " '67': {'agg_metric': 0, 'avg_precision': 1.0},\n",
       " '68': {'agg_metric': 1, 'avg_precision': 0.9641195688335044},\n",
       " '69': {'agg_metric': 1, 'avg_precision': 0.8444572247567319},\n",
       " '7': {'agg_metric': 0, 'avg_precision': 0.9065435533649336},\n",
       " '70': {'agg_metric': 0, 'avg_precision': 0.0011927054636093448},\n",
       " '71': {'agg_metric': 0, 'avg_precision': 0.9371115500874941},\n",
       " '72': {'agg_metric': 0, 'avg_precision': 0.0067528615521935875},\n",
       " '73': {'agg_metric': 1, 'avg_precision': 0.7814865692123681},\n",
       " '74': {'agg_metric': 0, 'avg_precision': 0.05716133414853225},\n",
       " '75': {'agg_metric': 1, 'avg_precision': 0.9566491818125484},\n",
       " '76': {'agg_metric': 0, 'avg_precision': 0.0028607831150671646},\n",
       " '77': {'agg_metric': 1, 'avg_precision': 1.0},\n",
       " '78': {'agg_metric': 0, 'avg_precision': 0.004818057166570551},\n",
       " '79': {'agg_metric': 1, 'avg_precision': 0.9818243800698064},\n",
       " '8': {'agg_metric': 1, 'avg_precision': 0.9841316275029607},\n",
       " '80': {'agg_metric': 1, 'avg_precision': 0.8079192799951436},\n",
       " '81': {'agg_metric': 0, 'avg_precision': 1.0},\n",
       " '82': {'agg_metric': 1, 'avg_precision': 0.27542484282105983},\n",
       " '83': {'agg_metric': 1, 'avg_precision': 0.9182992792834535},\n",
       " '84': {'agg_metric': 1, 'avg_precision': 0.9575234972807263},\n",
       " '85': {'agg_metric': 1, 'avg_precision': 0},\n",
       " '86': {'agg_metric': 0, 'avg_precision': 0.9708882493616007},\n",
       " '87': {'agg_metric': 1, 'avg_precision': 0.007929039189953607},\n",
       " '88': {'agg_metric': 0, 'avg_precision': 0.9668299652968263},\n",
       " '89': {'agg_metric': 0, 'avg_precision': 0.9743037762189084},\n",
       " '9': {'agg_metric': 0, 'avg_precision': 0.4363436423621615},\n",
       " '90': {'agg_metric': 1, 'avg_precision': 0.7586850411438397},\n",
       " '91': {'agg_metric': 1, 'avg_precision': 0.9103257292256952},\n",
       " '92': {'agg_metric': 1, 'avg_precision': 0.9014518900661245},\n",
       " '93': {'agg_metric': 0, 'avg_precision': 1.0},\n",
       " '95': {'agg_metric': 1, 'avg_precision': 0.9595469448707566},\n",
       " '96': {'agg_metric': 0, 'avg_precision': 0.9148670277154037},\n",
       " '97': {'agg_metric': 0, 'avg_precision': 0.6378527046054326},\n",
       " '98': {'agg_metric': 0, 'avg_precision': 0.005006787995107217},\n",
       " '99': {'agg_metric': 0, 'avg_precision': 0.42743469654760763}}"
      ]
     },
     "execution_count": 74,
     "metadata": {},
     "output_type": "execute_result"
    }
   ],
   "source": [
    "NewEval['Cluster Aggregate']"
   ]
  },
  {
   "cell_type": "code",
   "execution_count": null,
   "metadata": {
    "collapsed": true
   },
   "outputs": [],
   "source": []
  }
 ],
 "metadata": {
  "kernelspec": {
   "display_name": "Python 2",
   "language": "python",
   "name": "python2"
  },
  "language_info": {
   "codemirror_mode": {
    "name": "ipython",
    "version": 2
   },
   "file_extension": ".py",
   "mimetype": "text/x-python",
   "name": "python",
   "nbconvert_exporter": "python",
   "pygments_lexer": "ipython2",
   "version": "2.7.11"
  }
 },
 "nbformat": 4,
 "nbformat_minor": 0
}
