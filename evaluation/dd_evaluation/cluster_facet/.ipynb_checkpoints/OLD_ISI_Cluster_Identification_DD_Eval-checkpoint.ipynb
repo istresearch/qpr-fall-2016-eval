{
 "cells": [
  {
   "cell_type": "code",
   "execution_count": 1,
   "metadata": {
    "collapsed": true
   },
   "outputs": [],
   "source": [
    "import json"
   ]
  },
  {
   "cell_type": "code",
   "execution_count": 21,
   "metadata": {
    "collapsed": true
   },
   "outputs": [],
   "source": [
    "pool_depth = 100"
   ]
  },
  {
   "cell_type": "code",
   "execution_count": 20,
   "metadata": {
    "collapsed": true
   },
   "outputs": [],
   "source": [
    "def top_pool(pooling_level, id_pos, score_pos, ans_length, id_length, responses):\n",
    "    # Explicitly check for score ordering\n",
    "    score = 100\n",
    "    count = 0\n",
    "    seen = []\n",
    "    for answer in responses:\n",
    "        # Non-Array, leading elements may happen to have correct\n",
    "        # length\n",
    "        if type(answer) == list:\n",
    "            # Assume elements not matching expected length\n",
    "            # are aggregate answers\n",
    "            if len(answer) == ans_length:\n",
    "                # Confirming doc id is where we expect\n",
    "                if len(answer[id_pos]) != id_length:\n",
    "                    print \"NONSTANDARD DOC ID DETECTED\"\n",
    "                    print answer\n",
    "                    break\n",
    "                if answer[score_pos] > score:\n",
    "                    print (score, answer[score_pos])\n",
    "                    print \"RANK ORDER ISSUE\"\n",
    "                    break\n",
    "                score = answer[score_pos]\n",
    "                if answer[id_pos] not in seen:\n",
    "                    # Found another unique doc id\n",
    "                    seen.append(answer[id_pos])\n",
    "                    count += 1\n",
    "                    if count == pooling_level:\n",
    "                        # Found top N docs\n",
    "                        # Confirm no duplicates\n",
    "                        len1 = len(seen)\n",
    "                        uniq_seen = list(set(seen))\n",
    "                        if len1 != len(uniq_seen):\n",
    "                            print \"PROBLEM WITH DUPLICATED DOC IDS\"\n",
    "                            break\n",
    "                        return uniq_seen\n",
    "    # Or even if you don't get N uniq\n",
    "    uniq_seen = list(set(seen))\n",
    "    return uniq_seen"
   ]
  },
  {
   "cell_type": "code",
   "execution_count": 37,
   "metadata": {
    "collapsed": true
   },
   "outputs": [],
   "source": [
    "def AvgPrecision(gt, sub, index_of_ad, index_of_score):\n",
    "    score = 100\n",
    "    seen = []\n",
    "    rel_docs = len(gt)\n",
    "    num_hits = 0\n",
    "    num_retrieved = 0\n",
    "    cumpre = 0\n",
    "    for entry in sub:\n",
    "        num_retrieved += 1\n",
    "        ad_id = entry[index_of_ad]\n",
    "        # excessive checking of dupes\n",
    "        if ad_id in seen:\n",
    "            print \"DUPLICATE\"\n",
    "            return None\n",
    "        seen.append(ad_id)\n",
    "        # excessive checking of order\n",
    "        if entry[index_of_score] > score:\n",
    "            print \"ORDER PROBLEM\"\n",
    "            return None\n",
    "        score = entry[index_of_score]\n",
    "        if ad_id in gt:\n",
    "            num_hits += 1\n",
    "            cumpre += num_hits/float(num_retrieved)\n",
    "            \n",
    "    return cumpre/rel_docs"
   ]
  },
  {
   "cell_type": "markdown",
   "metadata": {},
   "source": [
    "### The annotations needed to evaluate Cluster Identification actually came out of the dd_clustering exercise.  So we can use that data directly."
   ]
  },
  {
   "cell_type": "code",
   "execution_count": 17,
   "metadata": {
    "collapsed": false
   },
   "outputs": [],
   "source": [
    "dd_clustering_file =  '../../../data/annotation_prep/dd_clustering/FINAL_seeds2cluster_ads_REWRITE.json'\n",
    "#dd_clustering_file =  '../../../data/annotation_prep/dd_clustering/FINAL_seeds2cluster_ads.json'\n",
    "\n",
    "questions_file =  '../../../data/annotation_prep/dd_clustering/FIRST_ROUND_chosen_questions.json'\n",
    "\n",
    "with open(dd_clustering_file, 'r') as f:\n",
    "    dd_clustering = eval(f.read())   \n",
    "    \n",
    "with open(questions_file, 'r') as f:\n",
    "    questions = eval(f.read())"
   ]
  },
  {
   "cell_type": "markdown",
   "metadata": {},
   "source": [
    "### To avoid confusing dependecies, we'll get submission data from raw submissions"
   ]
  },
  {
   "cell_type": "code",
   "execution_count": 26,
   "metadata": {
    "collapsed": true
   },
   "outputs": [],
   "source": [
    "submission_path = '../../../data/team_submissions/'"
   ]
  },
  {
   "cell_type": "code",
   "execution_count": 27,
   "metadata": {
    "collapsed": true
   },
   "outputs": [],
   "source": [
    "answers = {}"
   ]
  },
  {
   "cell_type": "markdown",
   "metadata": {},
   "source": [
    "# NYU"
   ]
  },
  {
   "cell_type": "code",
   "execution_count": 28,
   "metadata": {
    "collapsed": true
   },
   "outputs": [],
   "source": [
    "answers['NYU'] = {}"
   ]
  },
  {
   "cell_type": "markdown",
   "metadata": {},
   "source": [
    "## Georgetown"
   ]
  },
  {
   "cell_type": "code",
   "execution_count": 29,
   "metadata": {
    "collapsed": true
   },
   "outputs": [],
   "source": [
    "answers['NYU']['Georgetown'] = {}\n",
    "clus_type = 'Cluster Identification'\n",
    "answers['NYU']['Georgetown'][clus_type] = {}"
   ]
  },
  {
   "cell_type": "code",
   "execution_count": 30,
   "metadata": {
    "collapsed": false
   },
   "outputs": [],
   "source": [
    "file_path = submission_path + 'Georgetown/DomainDiscovery/NYU_CI.json'\n",
    "f = open(file_path, 'r')\n",
    "data = eval(f.read())\n",
    "\n",
    "id_pos = 0\n",
    "score_pos = 1\n",
    "ans_length = 2 \n",
    "id_length = 64\n",
    "\n",
    "for entry in data:\n",
    "    top_ids = top_pool(pool_depth, id_pos, score_pos,\n",
    "                       ans_length, id_length, entry['answer'])\n",
    "    # Reconfirming no dupes\n",
    "    if len(top_ids) != len(list(set(top_ids))):\n",
    "        print \"PROBLEM WITH DUPLICATED DOC IDS\"\n",
    "        break\n",
    "    answers['NYU']['Georgetown'][clus_type][entry['id']] = top_ids"
   ]
  },
  {
   "cell_type": "markdown",
   "metadata": {},
   "source": [
    "## ISI"
   ]
  },
  {
   "cell_type": "code",
   "execution_count": 31,
   "metadata": {
    "collapsed": true
   },
   "outputs": [],
   "source": [
    "answers['NYU']['ISI'] = {}\n",
    "clus_type = 'Cluster Identification'\n",
    "answers['NYU']['ISI'][clus_type] = {}"
   ]
  },
  {
   "cell_type": "code",
   "execution_count": 32,
   "metadata": {
    "collapsed": true
   },
   "outputs": [],
   "source": [
    "file_path = submission_path + ('ISI/DomainDiscovery/'\n",
    "                               'isi-nyu-answers-dig-extractions/'\n",
    "                               'properly_formatted_submissions/'\n",
    "                               'formatted_post_cluster_identification'\n",
    "                               '-parsed_fixed_all_answers.json')\n",
    "f = open(file_path, 'r')\n",
    "data = eval(f.read())\n",
    "\n",
    "id_pos = 1\n",
    "score_pos = 2\n",
    "ans_length = 3 \n",
    "id_length = 64\n",
    "\n",
    "for entry in data:\n",
    "    qid = entry['question_id'].split('-')[0]\n",
    "    top_ids = top_pool(pool_depth, id_pos, score_pos,\n",
    "                       ans_length, id_length, entry['answer'])\n",
    "    # Reconfirming no dupes\n",
    "    if len(top_ids) != len(list(set(top_ids))):\n",
    "        print \"PROBLEM WITH DUPLICATED DOC IDS\"\n",
    "        break\n",
    "    answers['NYU']['ISI'][clus_type][qid] = top_ids"
   ]
  },
  {
   "cell_type": "markdown",
   "metadata": {},
   "source": [
    "## Uncharted"
   ]
  },
  {
   "cell_type": "code",
   "execution_count": 33,
   "metadata": {
    "collapsed": true
   },
   "outputs": [],
   "source": [
    "answers['NYU']['Uncharted'] = {}\n",
    "clus_type = 'Cluster Identification'\n",
    "answers['NYU']['Uncharted'][clus_type] = {}"
   ]
  },
  {
   "cell_type": "code",
   "execution_count": 34,
   "metadata": {
    "collapsed": true
   },
   "outputs": [],
   "source": [
    "file_path = submission_path + ('Uncharted/DomainDiscovery/uncharted_NYU_DD.json')\n",
    "f = open(file_path, 'r')\n",
    "all_data = eval(f.read())\n",
    "data = []\n",
    "for entry in all_data:\n",
    "    if entry['questionType'] == clus_type:\n",
    "        data.append(entry)\n",
    "        \n",
    "id_pos = 0\n",
    "score_pos = 1\n",
    "ans_length = 2 \n",
    "id_length = 64\n",
    "\n",
    "for entry in data:\n",
    "    # Not all entries have 'answers'\n",
    "    if 'answers' in entry.keys():\n",
    "        top_ids = top_pool(pool_depth, id_pos, score_pos,\n",
    "                           ans_length, id_length, entry['answers'])\n",
    "        # Reconfirming no dupes\n",
    "        if len(top_ids) != len(list(set(top_ids))):\n",
    "            print \"PROBLEM WITH DUPLICATED DOC IDS\"\n",
    "            break\n",
    "    answers['NYU']['Uncharted'][clus_type][entry['question_id']] = top_ids"
   ]
  },
  {
   "cell_type": "code",
   "execution_count": 36,
   "metadata": {
    "collapsed": false
   },
   "outputs": [
    {
     "data": {
      "text/plain": [
       "['F1DD7DB02EBDB5A16D84426D924CE75635E95501CF15C431F64760DDCCE2C965',\n",
       " '6E600FFDF7CFA72C639507B303AE3C04F1B679C38E2F95244F6D1DAA22F5DF6B',\n",
       " 'B1753A23D08A38B0208E05D6F3E3A71E443D631C7F9AEF45185F584C37518BC4',\n",
       " 'AB9CFF75D41977116B21C1530102A198A18F4F98E53BD31AA35DA8B3DB4C63B9',\n",
       " 'B2CBF157973C16818C777DAFA12B33F0564D259E6113AB6C769CE40A5E4C57BD',\n",
       " 'BA6C20A9F236F536FA556FC427E7BF9253841E1BC29603935E798075A7B5D681']"
      ]
     },
     "execution_count": 36,
     "metadata": {},
     "output_type": "execute_result"
    }
   ],
   "source": []
  },
  {
   "cell_type": "code",
   "execution_count": null,
   "metadata": {
    "collapsed": true
   },
   "outputs": [],
   "source": []
  }
 ],
 "metadata": {
  "kernelspec": {
   "display_name": "Python 2",
   "language": "python",
   "name": "python2"
  },
  "language_info": {
   "codemirror_mode": {
    "name": "ipython",
    "version": 2
   },
   "file_extension": ".py",
   "mimetype": "text/x-python",
   "name": "python",
   "nbconvert_exporter": "python",
   "pygments_lexer": "ipython2",
   "version": "2.7.11"
  }
 },
 "nbformat": 4,
 "nbformat_minor": 0
}
