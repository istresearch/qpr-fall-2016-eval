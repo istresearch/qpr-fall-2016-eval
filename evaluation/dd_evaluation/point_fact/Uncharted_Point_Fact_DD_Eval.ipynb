{
 "cells": [
  {
   "cell_type": "code",
   "execution_count": null,
   "metadata": {
    "collapsed": true
   },
   "outputs": [],
   "source": [
    "import json\n",
    "import operator"
   ]
  },
  {
   "cell_type": "code",
   "execution_count": null,
   "metadata": {
    "collapsed": true
   },
   "outputs": [],
   "source": [
    "pool_depth = 100"
   ]
  },
  {
   "cell_type": "code",
   "execution_count": null,
   "metadata": {
    "collapsed": true
   },
   "outputs": [],
   "source": [
    "def AvgPrecision(gt, gt_len, sub, index_of_ad, index_of_score):\n",
    "    score = 100\n",
    "    seen = []\n",
    "    num_hits = 0\n",
    "    num_retrieved = 0\n",
    "    cumpre = 0\n",
    "    for entry in sub:\n",
    "        num_retrieved += 1\n",
    "        ad_id = entry[index_of_ad]\n",
    "        # excessive checking of dupes\n",
    "        if ad_id in seen:\n",
    "            print \"DUPLICATE\"\n",
    "            return None\n",
    "        seen.append(ad_id)\n",
    "        # excessive checking of order\n",
    "        if entry[index_of_score] > score:\n",
    "            print \"ORDER PROBLEM\"\n",
    "            return None\n",
    "        score = entry[index_of_score]\n",
    "        if ad_id in gt:\n",
    "            num_hits += 1\n",
    "            cumpre += num_hits/float(num_retrieved)\n",
    "            \n",
    "    return cumpre/gt_len"
   ]
  },
  {
   "cell_type": "code",
   "execution_count": null,
   "metadata": {
    "collapsed": true
   },
   "outputs": [],
   "source": [
    "def clean_sub(sub, index_of_ad, index_of_score, expected_length):\n",
    "    seen = []\n",
    "    uniqs = []\n",
    "    # explicitly check ordering\n",
    "    i = 100\n",
    "    sub.sort(key=operator.itemgetter(index_of_score), reverse=True)\n",
    "    for entry in sub:\n",
    "        if entry[index_of_score] > i:\n",
    "            print \"ORDERING PROBLEM\"\n",
    "            return None\n",
    "        i = entry[index_of_score]\n",
    "        #else:\n",
    "        #    print type(entry)\n",
    "    # de-dupe\n",
    "    for entry in sub:\n",
    "        if entry[index_of_ad] not in seen:\n",
    "            uniqs.append(entry)\n",
    "            seen.append(entry[index_of_ad])\n",
    "    # explicitly sort by score after de-duping\n",
    "    uniqs.sort(key=operator.itemgetter(index_of_score), reverse=True)\n",
    "    # explicitly check ordering\n",
    "    i = 100\n",
    "    for entry in uniqs:\n",
    "        if entry[index_of_score] > i:\n",
    "            print \"ORDERING PROBLEM\"\n",
    "            return None\n",
    "        i = entry[index_of_score]\n",
    "    return uniqs"
   ]
  },
  {
   "cell_type": "code",
   "execution_count": null,
   "metadata": {
    "collapsed": true
   },
   "outputs": [],
   "source": [
    "gt_file =  '../../../data/post_hoc_annotations/post_hoc_point_fact_combined.json'\n",
    "    \n",
    "with open(gt_file, 'r') as f:\n",
    "    gt = eval(f.read())"
   ]
  },
  {
   "cell_type": "code",
   "execution_count": null,
   "metadata": {
    "collapsed": true
   },
   "outputs": [],
   "source": [
    "id_pos = 1\n",
    "score_pos = 2\n",
    "ans_length = 3 \n",
    "id_length = 64\n",
    "\n",
    "clus_type = 'Point Fact'"
   ]
  },
  {
   "cell_type": "markdown",
   "metadata": {},
   "source": [
    "### To avoid confusing dependecies, we'll get submission data from raw submissions"
   ]
  },
  {
   "cell_type": "code",
   "execution_count": null,
   "metadata": {
    "collapsed": true
   },
   "outputs": [],
   "source": [
    "submission_path = '../../../data/team_submissions/'"
   ]
  },
  {
   "cell_type": "code",
   "execution_count": null,
   "metadata": {
    "collapsed": true
   },
   "outputs": [],
   "source": [
    "answers = {}"
   ]
  },
  {
   "cell_type": "markdown",
   "metadata": {},
   "source": [
    "# NYU"
   ]
  },
  {
   "cell_type": "code",
   "execution_count": null,
   "metadata": {
    "collapsed": true
   },
   "outputs": [],
   "source": [
    "answers['NYU'] = {}\n",
    "answers['NYU'][clus_type] = {}"
   ]
  },
  {
   "cell_type": "code",
   "execution_count": null,
   "metadata": {
    "collapsed": false
   },
   "outputs": [],
   "source": [
    "file_path = submission_path + ('Uncharted/DomainDiscovery/uncharted_NYU_DD.json')\n",
    "f = open(file_path, 'r')\n",
    "all_data = eval(f.read())\n",
    "data = []\n",
    "for entry in all_data:\n",
    "    if entry['questionType'] == clus_type:\n",
    "        data.append(entry)\n",
    "\n",
    "for qid in gt.keys():\n",
    "    submissions = []\n",
    "    for entry in data:\n",
    "        # We are only evaluating some of them\n",
    "        if entry['question_id'] == qid:\n",
    "            submissions = clean_sub(entry['answers'], id_pos, score_pos, ans_length)\n",
    "    # Reconfirming no dupes\n",
    "    if len(submissions) != len(list(set(tuple(i) for i in submissions))):\n",
    "        print \"PROBLEM WITH DUPLICATED DOC IDS\"\n",
    "        break\n",
    "    # Now that submissions are sorted, only take top N\n",
    "    if len(submissions) > pool_depth:\n",
    "        submissions = submissions[:pool_depth]\n",
    "        print \"POOL DEPTH REACHED\"\n",
    "    answers['NYU'][clus_type][qid] = submissions"
   ]
  },
  {
   "cell_type": "markdown",
   "metadata": {},
   "source": [
    "# HG"
   ]
  },
  {
   "cell_type": "code",
   "execution_count": null,
   "metadata": {
    "collapsed": true
   },
   "outputs": [],
   "source": [
    "answers['HG'] = {}\n",
    "answers['HG'][clus_type] = {}"
   ]
  },
  {
   "cell_type": "code",
   "execution_count": null,
   "metadata": {
    "collapsed": false
   },
   "outputs": [],
   "source": [
    "file_path = submission_path + ('Uncharted/DomainDiscovery/uncharted_HG_DD.json')\n",
    "f = open(file_path, 'r')\n",
    "all_data = eval(f.read())\n",
    "data = []\n",
    "for entry in all_data:\n",
    "    if entry['questionType'] == clus_type:\n",
    "        data.append(entry)\n",
    "\n",
    "for qid in gt.keys():\n",
    "    submissions = []\n",
    "    for entry in data:\n",
    "        # We are only evaluating some of them\n",
    "        if entry['question_id'] == qid:\n",
    "            submissions = clean_sub(entry['answers'], id_pos, score_pos, ans_length)\n",
    "    # Reconfirming no dupes\n",
    "    if len(submissions) != len(list(set(tuple(i) for i in submissions))):\n",
    "        print \"PROBLEM WITH DUPLICATED DOC IDS\"\n",
    "        break\n",
    "    # Now that submissions are sorted, only take top N\n",
    "    if len(submissions) > pool_depth:\n",
    "        submissions = submissions[:pool_depth]\n",
    "        print \"POOL DEPTH REACHED\"\n",
    "    answers['HG'][clus_type][qid] = submissions"
   ]
  },
  {
   "cell_type": "markdown",
   "metadata": {},
   "source": [
    "# JPL"
   ]
  },
  {
   "cell_type": "code",
   "execution_count": null,
   "metadata": {
    "collapsed": true
   },
   "outputs": [],
   "source": [
    "answers['JPL'] = {}\n",
    "answers['JPL'][clus_type] = {}"
   ]
  },
  {
   "cell_type": "code",
   "execution_count": null,
   "metadata": {
    "collapsed": false
   },
   "outputs": [],
   "source": [
    "file_path = submission_path + ('Uncharted/DomainDiscovery/uncharted_JPL_DD.json')\n",
    "f = open(file_path, 'r')\n",
    "all_data = eval(f.read())\n",
    "data = []\n",
    "for entry in all_data:\n",
    "    if entry['questionType'] == clus_type:\n",
    "        data.append(entry)\n",
    "\n",
    "for qid in gt.keys():\n",
    "    submissions = []\n",
    "    for entry in data:\n",
    "        # We are only evaluating some of them\n",
    "        if entry['question_id'] == qid:\n",
    "            submissions = clean_sub(entry['answers'], id_pos, score_pos, ans_length)\n",
    "    # Reconfirming no dupes\n",
    "    if len(submissions) != len(list(set(tuple(i) for i in submissions))):\n",
    "        print \"PROBLEM WITH DUPLICATED DOC IDS\"\n",
    "        break\n",
    "    # Now that submissions are sorted, only take top N\n",
    "    if len(submissions) > pool_depth:\n",
    "        submissions = submissions[:pool_depth]\n",
    "        print \"POOL DEPTH REACHED\"\n",
    "    answers['JPL'][clus_type][qid] = submissions"
   ]
  },
  {
   "cell_type": "markdown",
   "metadata": {},
   "source": [
    "# Calculate Results"
   ]
  },
  {
   "cell_type": "code",
   "execution_count": null,
   "metadata": {
    "collapsed": false
   },
   "outputs": [],
   "source": [
    "clus_type = 'Point Fact'\n",
    "results = {}\n",
    "results[clus_type] = {}\n",
    "\n",
    "for dataset in answers.keys():\n",
    "    print dataset.lower()\n",
    "    results[clus_type][dataset] = {}\n",
    "    for quest in gt.keys():\n",
    "        results[clus_type][dataset][quest] = {}\n",
    "        submission = answers[dataset][clus_type][quest]\n",
    "        results[clus_type][dataset][quest] = {}\n",
    "        # Setting default to \"NA\".  Will adjust manually\n",
    "        results[clus_type][dataset][quest]['pf_metric'] = 'NA'\n",
    "        # Some datasets have no relevant ads for a question\n",
    "        if dataset.lower() in gt[quest]['relevant_ads'].keys():\n",
    "            relevant_ads = gt[quest]['relevant_ads'][dataset.lower()].keys()\n",
    "            if len(relevant_ads) > 0:\n",
    "                results[clus_type][dataset][quest]['avg_precision'] = AvgPrecision(relevant_ads, len(relevant_ads),\n",
    "                                                                                   submission, id_pos, score_pos)\n",
    "            else:\n",
    "                results[clus_type][dataset][quest]['avg_precision'] = 'No Relevant Docs Found'\n",
    "        else:\n",
    "            results[clus_type][dataset][quest]['avg_precision'] = 'No Relevant Docs Found'"
   ]
  },
  {
   "cell_type": "markdown",
   "metadata": {},
   "source": [
    "# Manually determine Point Fact metric"
   ]
  },
  {
   "cell_type": "code",
   "execution_count": null,
   "metadata": {
    "collapsed": false
   },
   "outputs": [],
   "source": [
    "for dataset in results['Point Fact'].keys():\n",
    "    print ' '\n",
    "    print dataset\n",
    "    for qid in results['Point Fact'][dataset].keys():\n",
    "        # Only need to consider questions with relevant ads\n",
    "        if results['Point Fact'][dataset][qid]['avg_precision'] != 'No Relevant Docs Found':\n",
    "            if results['Point Fact'][dataset][qid]['avg_precision'] != 0:\n",
    "                print ' '\n",
    "                print qid\n",
    "                for ad in gt[qid]['relevant_ads'][dataset.lower()].keys():\n",
    "                    for entry in answers[dataset]['Point Fact'][qid]:\n",
    "                        if entry[1] == ad:\n",
    "                            print ' '\n",
    "                            print ad\n",
    "                            print 'expected'\n",
    "                            print gt[qid]['relevant_ads'][dataset.lower()][ad]\n",
    "                            print 'submitted'\n",
    "                            print entry[0]\n",
    "\n",
    "results['Point Fact']['NYU']['1647']['pf_metric'] = 1\n",
    "results['Point Fact']['NYU']['1707']['pf_metric'] = 1\n",
    "results['Point Fact']['NYU']['799']['pf_metric'] = 0\n",
    "results['Point Fact']['NYU']['1339']['pf_metric'] = 0.5\n",
    "\n",
    "results['Point Fact']['JPL']['217']['pf_metric'] = 0\n",
    "results['Point Fact']['JPL']['1707']['pf_metric'] = 0.66\n",
    "results['Point Fact']['JPL']['510']['pf_metric'] = 0.5\n",
    "\n",
    "\n",
    "results['Point Fact']['HG']['1707']['pf_metric'] = 1\n",
    "results['Point Fact']['HG']['1038']['pf_metric'] = 0\n",
    "results['Point Fact']['HG']['799']['pf_metric'] = 0\n",
    "results['Point Fact']['HG']['510']['pf_metric'] = 0.25\n",
    "results['Point Fact']['HG']['284']['pf_metric'] = 'NA'\n"
   ]
  },
  {
   "cell_type": "code",
   "execution_count": null,
   "metadata": {
    "collapsed": true
   },
   "outputs": [],
   "source": [
    "output_file = 'Uncharted_DD_Point_Fact_Results_REWRITE.json'\n",
    "with open(output_file, 'w') as outfile:\n",
    "    json.dump(results, outfile, indent=2)"
   ]
  },
  {
   "cell_type": "markdown",
   "metadata": {
    "collapsed": true
   },
   "source": [
    "# DEBUG"
   ]
  },
  {
   "cell_type": "code",
   "execution_count": null,
   "metadata": {
    "collapsed": false
   },
   "outputs": [],
   "source": [
    "# Spot checking high Average Precision\n",
    "print \"Ground Truth\"\n",
    "for ad in gt['1647']['relevant_ads']['nyu'].keys():\n",
    "    print ad\n",
    "print ' '\n",
    "print \"Submission\"\n",
    "for entry in answers['NYU']['Point Fact']['1647']:\n",
    "    print entry[1]"
   ]
  },
  {
   "cell_type": "code",
   "execution_count": null,
   "metadata": {
    "collapsed": true
   },
   "outputs": [],
   "source": []
  }
 ],
 "metadata": {
  "kernelspec": {
   "display_name": "Python 2",
   "language": "python",
   "name": "python2"
  },
  "language_info": {
   "codemirror_mode": {
    "name": "ipython",
    "version": 2
   },
   "file_extension": ".py",
   "mimetype": "text/x-python",
   "name": "python",
   "nbconvert_exporter": "python",
   "pygments_lexer": "ipython2",
   "version": "2.7.11"
  }
 },
 "nbformat": 4,
 "nbformat_minor": 0
}
