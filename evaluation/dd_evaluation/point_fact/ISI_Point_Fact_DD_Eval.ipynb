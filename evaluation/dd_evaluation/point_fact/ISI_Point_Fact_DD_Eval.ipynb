{
 "cells": [
  {
   "cell_type": "code",
   "execution_count": 1,
   "metadata": {
    "collapsed": true
   },
   "outputs": [],
   "source": [
    "import json\n",
    "import operator"
   ]
  },
  {
   "cell_type": "code",
   "execution_count": 2,
   "metadata": {
    "collapsed": true
   },
   "outputs": [],
   "source": [
    "pool_depth = 100"
   ]
  },
  {
   "cell_type": "code",
   "execution_count": 3,
   "metadata": {
    "collapsed": true
   },
   "outputs": [],
   "source": [
    "def AvgPrecision(gt, gt_len, sub, index_of_ad, index_of_score):\n",
    "    score = 100\n",
    "    seen = []\n",
    "    num_hits = 0\n",
    "    num_retrieved = 0\n",
    "    cumpre = 0\n",
    "    for entry in sub:\n",
    "        num_retrieved += 1\n",
    "        ad_id = entry[index_of_ad]\n",
    "        # excessive checking of dupes\n",
    "        if ad_id in seen:\n",
    "            print \"DUPLICATE\"\n",
    "            return None\n",
    "        seen.append(ad_id)\n",
    "        # excessive checking of order\n",
    "        if entry[index_of_score] > score:\n",
    "            print \"ORDER PROBLEM\"\n",
    "            return None\n",
    "        score = entry[index_of_score]\n",
    "        if ad_id in gt:\n",
    "            num_hits += 1\n",
    "            cumpre += num_hits/float(num_retrieved)\n",
    "            \n",
    "    return cumpre/gt_len"
   ]
  },
  {
   "cell_type": "code",
   "execution_count": 4,
   "metadata": {
    "collapsed": true
   },
   "outputs": [],
   "source": [
    "def clean_sub(sub, index_of_ad, index_of_score, expected_length):\n",
    "    seen = []\n",
    "    uniqs = []\n",
    "    # explicitly check ordering\n",
    "    i = 100\n",
    "    sub.sort(key=operator.itemgetter(index_of_score), reverse=True)\n",
    "    for entry in sub:\n",
    "        if entry[index_of_score] > i:\n",
    "            print \"ORDERING PROBLEM\"\n",
    "            return None\n",
    "        i = entry[index_of_score]\n",
    "        #else:\n",
    "        #    print type(entry)\n",
    "    # de-dupe\n",
    "    for entry in sub:\n",
    "        if entry[index_of_ad] not in seen:\n",
    "            uniqs.append(entry)\n",
    "            seen.append(entry[index_of_ad])\n",
    "    # explicitly sort by score after de-duping\n",
    "    uniqs.sort(key=operator.itemgetter(index_of_score), reverse=True)\n",
    "    # explicitly check ordering\n",
    "    i = 100\n",
    "    for entry in uniqs:\n",
    "        if entry[index_of_score] > i:\n",
    "            print \"ORDERING PROBLEM\"\n",
    "            return None\n",
    "        i = entry[index_of_score]\n",
    "    return uniqs"
   ]
  },
  {
   "cell_type": "code",
   "execution_count": 5,
   "metadata": {
    "collapsed": true
   },
   "outputs": [],
   "source": [
    "gt_file =  '../../../data/post_hoc_annotations/post_hoc_point_fact_combined.json'\n",
    "    \n",
    "with open(gt_file, 'r') as f:\n",
    "    gt = eval(f.read())"
   ]
  },
  {
   "cell_type": "code",
   "execution_count": 6,
   "metadata": {
    "collapsed": true
   },
   "outputs": [],
   "source": [
    "id_pos = 1\n",
    "score_pos = 2\n",
    "ans_length = 3 \n",
    "id_length = 64\n",
    "\n",
    "clus_type = 'Point Fact'"
   ]
  },
  {
   "cell_type": "markdown",
   "metadata": {},
   "source": [
    "### To avoid confusing dependecies, we'll get submission data from raw submissions"
   ]
  },
  {
   "cell_type": "code",
   "execution_count": 7,
   "metadata": {
    "collapsed": true
   },
   "outputs": [],
   "source": [
    "submission_path = '../../../data/team_submissions/'"
   ]
  },
  {
   "cell_type": "code",
   "execution_count": 8,
   "metadata": {
    "collapsed": true
   },
   "outputs": [],
   "source": [
    "answers = {}"
   ]
  },
  {
   "cell_type": "markdown",
   "metadata": {},
   "source": [
    "# NYU"
   ]
  },
  {
   "cell_type": "code",
   "execution_count": 9,
   "metadata": {
    "collapsed": true
   },
   "outputs": [],
   "source": [
    "answers['NYU'] = {}\n",
    "answers['NYU'][clus_type] = {}"
   ]
  },
  {
   "cell_type": "code",
   "execution_count": 10,
   "metadata": {
    "collapsed": false
   },
   "outputs": [],
   "source": [
    "file_path = submission_path + ('ISI/DomainDiscovery/'\n",
    "                               'isi-nyu-answers-dig-extractions/'\n",
    "                               'properly_formatted_submissions/'\n",
    "                               'formatted_post_point_fact'\n",
    "                               '_parsed_fixed_all_answers.json')\n",
    "f = open(file_path, 'r')\n",
    "data = eval(f.read())\n",
    "\n",
    "for qid in gt.keys():\n",
    "    submissions = []\n",
    "    for entry in data:\n",
    "        # We are only evaluating some of them\n",
    "        if entry['question_id'].split('-')[0] == qid:\n",
    "            submissions = clean_sub(entry['answer'], id_pos, score_pos, ans_length)\n",
    "    # Reconfirming no dupes\n",
    "    if len(submissions) != len(list(set(tuple(i) for i in submissions))):\n",
    "        print \"PROBLEM WITH DUPLICATED DOC IDS\"\n",
    "        break\n",
    "    # Now that submissions are sorted, only take top N\n",
    "    if len(submissions) > pool_depth:\n",
    "        submissions = submissions[:pool_depth]\n",
    "        print \"POOL DEPTH REACHED\"\n",
    "    answers['NYU'][clus_type][qid] = submissions"
   ]
  },
  {
   "cell_type": "markdown",
   "metadata": {},
   "source": [
    "# HG"
   ]
  },
  {
   "cell_type": "code",
   "execution_count": 11,
   "metadata": {
    "collapsed": true
   },
   "outputs": [],
   "source": [
    "answers['HG'] = {}\n",
    "answers['HG'][clus_type] = {}"
   ]
  },
  {
   "cell_type": "code",
   "execution_count": 12,
   "metadata": {
    "collapsed": false
   },
   "outputs": [],
   "source": [
    "file_path = submission_path + ('ISI/DomainDiscovery/'\n",
    "                               'hg_all_asnwers/'\n",
    "                               'properly_formatted_submissions/'\n",
    "                               'formatted_post_point_fact'\n",
    "                               '_parsed_fixed_all_answers.json')\n",
    "f = open(file_path, 'r')\n",
    "data = eval(f.read())\n",
    "\n",
    "for qid in gt.keys():\n",
    "    submissions = []\n",
    "    for entry in data:\n",
    "        # We are only evaluating some of them\n",
    "        if entry['question_id'].split('-')[0] == qid:\n",
    "            submissions = clean_sub(entry['answer'], id_pos, score_pos, ans_length)\n",
    "    # Reconfirming no dupes\n",
    "    if len(submissions) != len(list(set(tuple(i) for i in submissions))):\n",
    "        print \"PROBLEM WITH DUPLICATED DOC IDS\"\n",
    "        break\n",
    "    # Now that submissions are sorted, only take top N\n",
    "    if len(submissions) > pool_depth:\n",
    "        submissions = submissions[:pool_depth]\n",
    "        print \"POOL DEPTH REACHED\"\n",
    "    answers['HG'][clus_type][qid] = submissions"
   ]
  },
  {
   "cell_type": "markdown",
   "metadata": {},
   "source": [
    "# JPL"
   ]
  },
  {
   "cell_type": "code",
   "execution_count": 13,
   "metadata": {
    "collapsed": true
   },
   "outputs": [],
   "source": [
    "answers['JPL'] = {}\n",
    "answers['JPL'][clus_type] = {}"
   ]
  },
  {
   "cell_type": "code",
   "execution_count": 14,
   "metadata": {
    "collapsed": false
   },
   "outputs": [],
   "source": [
    "file_path = submission_path + ('ISI/DomainDiscovery/'\n",
    "                               'jpl_answers_isi/'\n",
    "                               'properly_formatted_submissions/'\n",
    "                               'formatted_PF'\n",
    "                               '-queries-parsed_all_answers.json')\n",
    "\n",
    "f = open(file_path, 'r')\n",
    "data = eval(f.read())\n",
    "\n",
    "for qid in gt.keys():\n",
    "    submissions = []\n",
    "    for entry in data:\n",
    "        # We are only evaluating some of them\n",
    "        if entry['question_id'].split('-')[0] == qid:\n",
    "            submissions = clean_sub(entry['answer'], id_pos, score_pos, ans_length)\n",
    "    # Reconfirming no dupes\n",
    "    if len(submissions) != len(list(set(tuple(i) for i in submissions))):\n",
    "        print \"PROBLEM WITH DUPLICATED DOC IDS\"\n",
    "        break\n",
    "    # Now that submissions are sorted, only take top N\n",
    "    if len(submissions) > pool_depth:\n",
    "        submissions = submissions[:pool_depth]\n",
    "        print \"POOL DEPTH REACHED\"\n",
    "    answers['JPL'][clus_type][qid] = submissions"
   ]
  },
  {
   "cell_type": "markdown",
   "metadata": {},
   "source": [
    "# Calculate Results"
   ]
  },
  {
   "cell_type": "code",
   "execution_count": 15,
   "metadata": {
    "collapsed": false
   },
   "outputs": [
    {
     "name": "stdout",
     "output_type": "stream",
     "text": [
      "jpl\n",
      "hg\n",
      "nyu\n"
     ]
    }
   ],
   "source": [
    "clus_type = 'Point Fact'\n",
    "results = {}\n",
    "results[clus_type] = {}\n",
    "\n",
    "for dataset in answers.keys():\n",
    "    print dataset.lower()\n",
    "    results[clus_type][dataset] = {}\n",
    "    for quest in gt.keys():\n",
    "        results[clus_type][dataset][quest] = {}\n",
    "        submission = answers[dataset][clus_type][quest]\n",
    "        results[clus_type][dataset][quest] = {}\n",
    "        # Setting default to \"NA\".  Will adjust manually\n",
    "        results[clus_type][dataset][quest]['pf_metric'] = 'NA'\n",
    "        # Some datasets have no relevant ads for a question\n",
    "        if dataset.lower() in gt[quest]['relevant_ads'].keys():\n",
    "            relevant_ads = gt[quest]['relevant_ads'][dataset.lower()].keys()\n",
    "            if len(relevant_ads) > 0:\n",
    "                results[clus_type][dataset][quest]['avg_precision'] = AvgPrecision(relevant_ads, len(relevant_ads),\n",
    "                                                                                   submission, id_pos, score_pos)\n",
    "            else:\n",
    "                results[clus_type][dataset][quest]['avg_precision'] = 'No Relevant Docs Found'\n",
    "        else:\n",
    "            results[clus_type][dataset][quest]['avg_precision'] = 'No Relevant Docs Found'"
   ]
  },
  {
   "cell_type": "markdown",
   "metadata": {},
   "source": [
    "# Manually determine Point Fact metric"
   ]
  },
  {
   "cell_type": "code",
   "execution_count": 16,
   "metadata": {
    "collapsed": false
   },
   "outputs": [
    {
     "name": "stdout",
     "output_type": "stream",
     "text": [
      " \n",
      "NYU\n",
      " \n",
      "1647\n",
      " \n",
      "A1704A54E0B859CC1576D47C14F889E43EF06B9C016CA72ECB0096C5A3F3B900\n",
      "expected\n",
      "['ter: 301730']\n",
      "submitted\n",
      "1855036\n",
      " \n",
      "3D04D675A6E72F68A4707AFA1CB6336E97E18FC25DEB21BC5272AEEA6F7B1A50\n",
      "expected\n",
      "['301730', 'ter: 301730']\n",
      "submitted\n",
      "1854633\n",
      " \n",
      "1707\n",
      " \n",
      "E3925AFF7307EE1F87A1F0E5BCF030B3149262A0B8C87523A71D96B62F74F061\n",
      "expected\n",
      "['251402', 'ter: 251402']\n",
      "submitted\n",
      "1709194\n",
      " \n",
      "1339\n",
      " \n",
      "611709B9A71057E83F988C9A568115C897951107739FABD5D9AFF169E40D1102\n",
      "expected\n",
      "['62', '157']\n",
      "submitted\n",
      "157\n",
      " \n",
      "27CD680C7D6A0278EBC46A65D2D0E6193EE30C864360F6D5CD196C7F090328D6\n",
      "expected\n",
      "['157']\n",
      "submitted\n",
      "157\n",
      " \n",
      "JPL\n",
      " \n",
      "510\n",
      " \n",
      "012E1A11FBC933DE332D8FA6FA9D4A2902384944BC250B9B9F37C05C8A3AEC9A\n",
      "expected\n",
      "['46.0', '58.0', '52.0', '48.0', '57.0', '51.0', '18.0', '34.0', '60.0', '50.0']\n",
      "submitted\n",
      "\n",
      " \n",
      "HG\n",
      " \n",
      "1707\n",
      " \n",
      "A26020BC147CF76C22447D82182892C807C264BCE44F083348E8143C72A36978\n",
      "expected\n",
      "['ter: 251402', '251402', 'ter: 251402']\n",
      "submitted\n",
      "1709194\n",
      " \n",
      "F34778329F417CDF097546B70BE0EA8FF1A0FE329AF5EA2144C3428EE879128E\n",
      "expected\n",
      "['ter: 251402', 'ter: 251402']\n",
      "submitted\n",
      "1709194\n",
      " \n",
      "9031A2004660D2AC731C91A034661EFC91635BDFF42E8F9D931B407E233271BF\n",
      "expected\n",
      "['ter: 251402', 'ter: 251402']\n",
      "submitted\n",
      "1709194\n",
      " \n",
      "57770443A8E1BBAEABED076A6AAC4C9C854DF9F338950264EF05F6B255256380\n",
      "expected\n",
      "['ter: 251402', '251402', 'ter: 251402']\n",
      "submitted\n",
      "1709194\n",
      " \n",
      "AAEFE4F377C617742F5D12C9CC9FB362A2C7BD80FF73EA8BBB61BBB5C98A935B\n",
      "expected\n",
      "['ter: 251402', 'ter: 251402']\n",
      "submitted\n",
      "1709194\n",
      " \n",
      "1393B91383086DDFB7C4D63F77837168E274C0F5FF3FF1E04DA2E166CDCE297F\n",
      "expected\n",
      "['ter: 251402', '251402', 'ter: 251402']\n",
      "submitted\n",
      "1709194\n",
      " \n",
      "19132B9AF38169E3A226481A5F52281E80A2A089A29CAE16CAA1C4E451BED615\n",
      "expected\n",
      "['ter: 251402', 'ter: 251402']\n",
      "submitted\n",
      "1709194\n",
      " \n",
      "FA6BD6B33D632A6B57C57CB08A30FC8E6A64FA97E59BEC014A436B26DD1F8892\n",
      "expected\n",
      "['ter: 251402', 'ter: 251402']\n",
      "submitted\n",
      "1709194\n",
      " \n",
      "AF4818867DE6EAA161A9DD3D2A134F5F9E599FA813940635E10890AC576BFB33\n",
      "expected\n",
      "['ter: 251402', 'ter: 251402']\n",
      "submitted\n",
      "1709194\n",
      " \n",
      "510\n",
      " \n",
      "E960EC3E59D93CAD0071CE999E4DDED0D63E90E29EB48BA592C05EAFCBC50779\n",
      "expected\n",
      "['59.0', '30.0', '27.0', '32.0', '18.0', '60.0']\n",
      "submitted\n",
      "\n",
      " \n",
      "416C49D36ACA6F48C6DC4696019674CB69A8F08AF9E23D3F22C2BB0FD44D7E9B\n",
      "expected\n",
      "['26', '59.0', '30.0', '27.0', '32.0', '18.0', '60.0']\n",
      "submitted\n",
      "\n",
      " \n",
      "40BD2E921E6B1C54AF2CAC662C931A70896B5D7B66C322371AECC62118FBC592\n",
      "expected\n",
      "['59.0', '30.0', '27.0', '32.0', '18.0', '60.0']\n",
      "submitted\n",
      "\n",
      " \n",
      "848DE592AD21934997463A8D0CB9F4FFDD8FBE557898474C79F7628B0D250BF4\n",
      "expected\n",
      "['59.0', '30.0', '27.0', '18.0', '32.0', '60.0']\n",
      "submitted\n",
      "\n"
     ]
    }
   ],
   "source": [
    "for dataset in results['Point Fact'].keys():\n",
    "    print ' '\n",
    "    print dataset\n",
    "    for qid in results['Point Fact'][dataset].keys():\n",
    "        # Only need to consider questions with relevant ads\n",
    "        if results['Point Fact'][dataset][qid]['avg_precision'] != 'No Relevant Docs Found':\n",
    "            if results['Point Fact'][dataset][qid]['avg_precision'] != 0:\n",
    "                print ' '\n",
    "                print qid\n",
    "                for ad in gt[qid]['relevant_ads'][dataset.lower()].keys():\n",
    "                    for entry in answers[dataset]['Point Fact'][qid]:\n",
    "                        if entry[1] == ad:\n",
    "                            print ' '\n",
    "                            print ad\n",
    "                            print 'expected'\n",
    "                            print gt[qid]['relevant_ads'][dataset.lower()][ad]\n",
    "                            print 'submitted'\n",
    "                            print entry[0]\n",
    "\n",
    "results['Point Fact']['NYU']['1647']['pf_metric'] = 0\n",
    "results['Point Fact']['NYU']['1707']['pf_metric'] = 0\n",
    "results['Point Fact']['NYU']['1339']['pf_metric'] = 1\n",
    "\n",
    "results['Point Fact']['JPL']['510']['pf_metric'] = 0\n",
    "\n",
    "results['Point Fact']['HG']['1707']['pf_metric'] = 0\n",
    "results['Point Fact']['HG']['510']['pf_metric'] = 0"
   ]
  },
  {
   "cell_type": "code",
   "execution_count": 17,
   "metadata": {
    "collapsed": true
   },
   "outputs": [],
   "source": [
    "output_file = 'ISI_DD_Point_Fact_Results_REWRITE.json'\n",
    "with open(output_file, 'w') as outfile:\n",
    "    json.dump(results, outfile, indent=2)"
   ]
  },
  {
   "cell_type": "markdown",
   "metadata": {
    "collapsed": true
   },
   "source": [
    "# DEBUG"
   ]
  },
  {
   "cell_type": "code",
   "execution_count": null,
   "metadata": {
    "collapsed": false
   },
   "outputs": [],
   "source": [
    "# Spot checking high Average Precision\n",
    "print \"Ground Truth\"\n",
    "for ad in gt['1647']['relevant_ads']['nyu'].keys():\n",
    "    print ad\n",
    "print ' '\n",
    "print \"Submission\"\n",
    "for entry in answers['NYU']['Point Fact']['1647']:\n",
    "    print entry[1]"
   ]
  },
  {
   "cell_type": "code",
   "execution_count": null,
   "metadata": {
    "collapsed": false
   },
   "outputs": [],
   "source": [
    "answers['HG']['Point Fact']['1707']"
   ]
  },
  {
   "cell_type": "code",
   "execution_count": null,
   "metadata": {
    "collapsed": false
   },
   "outputs": [],
   "source": [
    "gt['510']['relevant_ads']"
   ]
  },
  {
   "cell_type": "code",
   "execution_count": null,
   "metadata": {
    "collapsed": true
   },
   "outputs": [],
   "source": []
  }
 ],
 "metadata": {
  "kernelspec": {
   "display_name": "Python 2",
   "language": "python",
   "name": "python2"
  },
  "language_info": {
   "codemirror_mode": {
    "name": "ipython",
    "version": 2
   },
   "file_extension": ".py",
   "mimetype": "text/x-python",
   "name": "python",
   "nbconvert_exporter": "python",
   "pygments_lexer": "ipython2",
   "version": "2.7.11"
  }
 },
 "nbformat": 4,
 "nbformat_minor": 0
}
