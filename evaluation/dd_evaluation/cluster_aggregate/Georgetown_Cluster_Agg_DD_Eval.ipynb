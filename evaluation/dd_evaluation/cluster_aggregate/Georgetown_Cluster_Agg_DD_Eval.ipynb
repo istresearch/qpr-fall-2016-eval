{
 "cells": [
  {
   "cell_type": "code",
   "execution_count": 1,
   "metadata": {
    "collapsed": true
   },
   "outputs": [],
   "source": [
    "import json\n",
    "import numpy\n",
    "import operator"
   ]
  },
  {
   "cell_type": "code",
   "execution_count": 2,
   "metadata": {
    "collapsed": true
   },
   "outputs": [],
   "source": [
    "pool_depth = 100"
   ]
  },
  {
   "cell_type": "code",
   "execution_count": 3,
   "metadata": {
    "collapsed": true
   },
   "outputs": [],
   "source": [
    "id_pos = 1\n",
    "score_pos = 2\n",
    "ans_length = 3 \n",
    "id_length = 64\n",
    "\n",
    "clus_type = 'Cluster Aggregate'"
   ]
  },
  {
   "cell_type": "code",
   "execution_count": 4,
   "metadata": {
    "collapsed": true
   },
   "outputs": [],
   "source": [
    "def parse_sub(sub, index_of_ad, len_answ, len_id):\n",
    "    agg = []\n",
    "    entries = []\n",
    "    for entry in sub:\n",
    "        if type(entry) != list:\n",
    "            agg.append(entry)\n",
    "        elif len(entry) != len_answ:\n",
    "            agg.append(entry)\n",
    "        elif len(entry[index_of_ad]) != id_length:\n",
    "            agg.append(entry)\n",
    "        else:\n",
    "            entries.append(entry)\n",
    "        \n",
    "    return [agg, entries]"
   ]
  },
  {
   "cell_type": "code",
   "execution_count": 5,
   "metadata": {
    "collapsed": true
   },
   "outputs": [],
   "source": [
    "def AvgPrecision(gt, sub, index_of_ad, index_of_score):\n",
    "    score = 100\n",
    "    seen = []\n",
    "    rel_docs = len(gt)\n",
    "    num_hits = 0\n",
    "    num_retrieved = 0\n",
    "    cumpre = 0\n",
    "    for entry in sub:\n",
    "        num_retrieved += 1\n",
    "        ad_id = entry[index_of_ad]\n",
    "        # excessive checking of dupes\n",
    "        if ad_id in seen:\n",
    "            print \"DUPLICATE\"\n",
    "            return None\n",
    "        seen.append(ad_id)\n",
    "        # excessive checking of order\n",
    "        if entry[index_of_score] > score:\n",
    "            print \"ORDER PROBLEM\"\n",
    "            return None\n",
    "        score = entry[index_of_score]\n",
    "        if ad_id in gt:\n",
    "            num_hits += 1\n",
    "            cumpre += num_hits/float(num_retrieved)\n",
    "            \n",
    "    return cumpre/rel_docs"
   ]
  },
  {
   "cell_type": "code",
   "execution_count": 6,
   "metadata": {
    "collapsed": true
   },
   "outputs": [],
   "source": [
    "def AggMetric(gt_answ, sub_answ, feature):\n",
    "    function = agg_metric_params[feature]['function']\n",
    "    amount = agg_metric_params[feature]['amount']\n",
    "    diff = gt_answ - sub_answ\n",
    "    if function == 'multiply':\n",
    "        if numpy.absolute(diff) <= (gt_answ * amount):\n",
    "            metric = 1\n",
    "        else:\n",
    "            metric = 0\n",
    "    elif function == 'add':\n",
    "        if numpy.absolute(diff) <= amount:\n",
    "            metric = 1\n",
    "        else:\n",
    "            metric = 0\n",
    "        \n",
    "    return metric"
   ]
  },
  {
   "cell_type": "code",
   "execution_count": 7,
   "metadata": {
    "collapsed": true
   },
   "outputs": [],
   "source": [
    "def clean_sub(sub, index_of_ad, index_of_score, expected_length):\n",
    "    seen = []\n",
    "    uniqs = []\n",
    "    # explicitly check ordering\n",
    "    i = 100\n",
    "    sub.sort(key=operator.itemgetter(index_of_score), reverse=True)\n",
    "    for entry in sub:\n",
    "        if entry[index_of_score] > i:\n",
    "            print \"ORDERING PROBLEM\"\n",
    "            return None\n",
    "        i = entry[index_of_score]\n",
    "        #else:\n",
    "        #    print type(entry)\n",
    "    # de-dupe\n",
    "    for entry in sub:\n",
    "        if entry[index_of_ad] not in seen:\n",
    "            uniqs.append(entry)\n",
    "            seen.append(entry[index_of_ad])\n",
    "    # explicitly sort by score after de-duping\n",
    "    uniqs.sort(key=operator.itemgetter(index_of_score), reverse=True)\n",
    "    # explicitly check ordering\n",
    "    i = 100\n",
    "    for entry in uniqs:\n",
    "        if entry[index_of_score] > i:\n",
    "            print \"ORDERING PROBLEM\"\n",
    "            return None\n",
    "        i = entry[index_of_score]\n",
    "    return uniqs"
   ]
  },
  {
   "cell_type": "code",
   "execution_count": 8,
   "metadata": {
    "collapsed": false
   },
   "outputs": [],
   "source": [
    "dd_agg_answer_key_file =  '../../../data/aggregate_dd/saved_dictionaries/dd_agg_answer_key.json'\n",
    "\n",
    "with open(dd_agg_answer_key_file, 'r') as f:\n",
    "    answer_key = eval(f.read()) \n",
    "    \n",
    "agg_metric_file = '../../../data/aggregate_dd/agg_metric_parameters.json'\n",
    "\n",
    "with open(agg_metric_file, 'r') as f:\n",
    "    agg_metric_params = eval(f.read()) "
   ]
  },
  {
   "cell_type": "markdown",
   "metadata": {},
   "source": [
    "### To avoid confusing dependecies, we'll get submission data from raw submissions"
   ]
  },
  {
   "cell_type": "code",
   "execution_count": 9,
   "metadata": {
    "collapsed": true
   },
   "outputs": [],
   "source": [
    "submission_path = '../../../data/team_submissions/'"
   ]
  },
  {
   "cell_type": "code",
   "execution_count": 10,
   "metadata": {
    "collapsed": true
   },
   "outputs": [],
   "source": [
    "answers = {}"
   ]
  },
  {
   "cell_type": "markdown",
   "metadata": {},
   "source": [
    "# NYU"
   ]
  },
  {
   "cell_type": "code",
   "execution_count": 11,
   "metadata": {
    "collapsed": true
   },
   "outputs": [],
   "source": [
    "answers['NYU'] = {}\n",
    "answers['NYU'][clus_type] = {}"
   ]
  },
  {
   "cell_type": "code",
   "execution_count": 12,
   "metadata": {
    "collapsed": false
   },
   "outputs": [],
   "source": [
    "file_path = submission_path + 'Georgetown/DomainDiscovery/NYU_aggregate.json'\n",
    "f = open(file_path, 'r')\n",
    "data = eval(f.read())\n",
    "\n",
    "for qid in answer_key.keys():\n",
    "    submissions = []\n",
    "    agg_answer = []\n",
    "    for entry in data:\n",
    "        # We are only evaluating some of them\n",
    "        if entry['id'] == qid:\n",
    "            # NEW\n",
    "            parsed_submission = parse_sub(entry['answer'], id_pos, ans_length, id_length)\n",
    "            agg_answer = parsed_submission[0]\n",
    "            submissions = clean_sub(parsed_submission[1], id_pos, score_pos, ans_length)\n",
    "    # Reconfirming no dupes\n",
    "    if len(submissions) != len(list(set(tuple(i) for i in submissions))):\n",
    "        print \"PROBLEM WITH DUPLICATED DOC IDS\"\n",
    "        break\n",
    "    # Now that submissions are sorted, only take top N\n",
    "    if len(submissions) > pool_depth:\n",
    "        submissions = submissions[:pool_depth]\n",
    "        print \"POOL DEPTH REACHED\"\n",
    "    # NEW\n",
    "    answers['NYU'][clus_type][qid] = {}\n",
    "    answers['NYU'][clus_type][qid]['agg_answer'] = agg_answer\n",
    "    answers['NYU'][clus_type][qid]['sub'] = submissions"
   ]
  },
  {
   "cell_type": "markdown",
   "metadata": {},
   "source": [
    "# HG"
   ]
  },
  {
   "cell_type": "code",
   "execution_count": 13,
   "metadata": {
    "collapsed": true
   },
   "outputs": [],
   "source": [
    "answers['HG'] = {}\n",
    "answers['HG'][clus_type] = {}"
   ]
  },
  {
   "cell_type": "code",
   "execution_count": 14,
   "metadata": {
    "collapsed": false
   },
   "outputs": [
    {
     "name": "stdout",
     "output_type": "stream",
     "text": [
      "POOL DEPTH REACHED\n",
      "POOL DEPTH REACHED\n",
      "POOL DEPTH REACHED\n",
      "POOL DEPTH REACHED\n",
      "POOL DEPTH REACHED\n"
     ]
    }
   ],
   "source": [
    "file_path = submission_path + 'Georgetown/DomainDiscovery/Georgetown_Submission_2_8/HG/HG_post_aggregate.json'\n",
    "f = open(file_path, 'r')\n",
    "data = eval(f.read())\n",
    "\n",
    "for qid in answer_key.keys():\n",
    "    submissions = []\n",
    "    agg_answer = []\n",
    "    for entry in data:\n",
    "        # We are only evaluating some of them\n",
    "        if entry['id'] == qid:\n",
    "            parsed_submission = parse_sub(entry['answer'], id_pos, ans_length, id_length)\n",
    "            agg_answer = parsed_submission[0]\n",
    "            submissions = clean_sub(parsed_submission[1], id_pos, score_pos, ans_length)\n",
    "    # Reconfirming no dupes\n",
    "    if len(submissions) != len(list(set(tuple(i) for i in submissions))):\n",
    "        print \"PROBLEM WITH DUPLICATED DOC IDS\"\n",
    "        break\n",
    "    # Now that submissions are sorted, only take top N\n",
    "    if len(submissions) > pool_depth:\n",
    "        submissions = submissions[:pool_depth]\n",
    "        print \"POOL DEPTH REACHED\"\n",
    "    answers['HG'][clus_type][qid] = {}\n",
    "    answers['HG'][clus_type][qid]['agg_answer'] = agg_answer\n",
    "    answers['HG'][clus_type][qid]['sub'] = submissions"
   ]
  },
  {
   "cell_type": "markdown",
   "metadata": {},
   "source": [
    "# JPL"
   ]
  },
  {
   "cell_type": "code",
   "execution_count": 15,
   "metadata": {
    "collapsed": true
   },
   "outputs": [],
   "source": [
    "answers['JPL'] = {}\n",
    "answers['JPL'][clus_type] = {}"
   ]
  },
  {
   "cell_type": "code",
   "execution_count": 16,
   "metadata": {
    "collapsed": true
   },
   "outputs": [],
   "source": [
    "# Georgetown's JPL submission did not match format\n",
    "id_pos = 0\n",
    "score_pos = 1\n",
    "ans_length = 2 \n",
    "id_length = 64"
   ]
  },
  {
   "cell_type": "code",
   "execution_count": 17,
   "metadata": {
    "collapsed": false
   },
   "outputs": [],
   "source": [
    "file_path = submission_path + 'Georgetown/DomainDiscovery/Georgetown_Submission_2_8/JPL/JPL_post_aggregate.json'\n",
    "f = open(file_path, 'r')\n",
    "data = eval(f.read())\n",
    "\n",
    "for qid in answer_key.keys():\n",
    "    submissions = []\n",
    "    agg_answer = []\n",
    "    for entry in data:\n",
    "        # We are only evaluating some of them\n",
    "        if entry['id'] == qid:\n",
    "            parsed_submission = parse_sub(entry['answer'], id_pos, ans_length, id_length)\n",
    "            agg_answer = parsed_submission[0]\n",
    "            submissions = clean_sub(parsed_submission[1], id_pos, score_pos, ans_length)\n",
    "    # Reconfirming no dupes\n",
    "    if len(submissions) != len(list(set(tuple(i) for i in submissions))):\n",
    "        print \"PROBLEM WITH DUPLICATED DOC IDS\"\n",
    "        break\n",
    "    # Now that submissions are sorted, only take top N\n",
    "    if len(submissions) > pool_depth:\n",
    "        submissions = submissions[:pool_depth]\n",
    "        print \"POOL DEPTH REACHED\"\n",
    "    answers['JPL'][clus_type][qid] = {}\n",
    "    answers['JPL'][clus_type][qid]['agg_answer'] = agg_answer\n",
    "    answers['JPL'][clus_type][qid]['sub'] = submissions"
   ]
  },
  {
   "cell_type": "markdown",
   "metadata": {},
   "source": [
    "# Calculate Results"
   ]
  },
  {
   "cell_type": "code",
   "execution_count": 18,
   "metadata": {
    "collapsed": false
   },
   "outputs": [],
   "source": [
    "results = {}\n",
    "results[clus_type] = {}\n",
    "\n",
    "for dataset in answers.keys():\n",
    "    # Georgetown's JPL submission did not conform to format\n",
    "    if dataset == 'JPL':\n",
    "        id_pos = 0\n",
    "        score_pos = 1\n",
    "    else:\n",
    "        id_pos = 1\n",
    "        score_pos = 2\n",
    "    results[clus_type][dataset] = {}\n",
    "    for quest in answers[dataset][clus_type].keys():\n",
    "        results[clus_type][dataset][quest] = {}\n",
    "        submission = answers[dataset][clus_type][quest]['sub']\n",
    "        # NEW\n",
    "        relevant_ads = answer_key[quest][dataset]['relevant_ads']\n",
    "        results[clus_type][dataset][quest] = {}\n",
    "        if len(relevant_ads) != 0:\n",
    "            results[clus_type][dataset][quest]['avg_precision'] = AvgPrecision(relevant_ads, submission, id_pos, score_pos)\n",
    "        else:\n",
    "            results[clus_type][dataset][quest]['avg_precision'] = 'NA'\n",
    "        \n",
    "        # Agg Metric\n",
    "        if answer_key[quest][dataset]['agg_answer'] == 'No relevant extractions found':\n",
    "            results[clus_type][dataset][quest]['agg_metric'] = 'NA'\n",
    "        elif len(answers[dataset][clus_type][qid]['agg_answer']) == 0:\n",
    "            results[clus_type][dataset][quest]['agg_metric'] = 0\n",
    "        else:\n",
    "            metric = AggMetric(answer_key[quest][dataset]['agg_answer'],\n",
    "                               answers[dataset][clus_type][qid]['agg_answer'][0],\n",
    "                               answer_key[quest]['feature'])\n",
    "            results[clus_type][dataset][quest]['agg_metric'] = metric"
   ]
  },
  {
   "cell_type": "code",
   "execution_count": 19,
   "metadata": {
    "collapsed": false
   },
   "outputs": [],
   "source": [
    "# Confirm all 0 scores had relevant docs in GT\n",
    "for dataset in results['Cluster Aggregate'].keys():\n",
    "    for qid in results['Cluster Aggregate'][dataset].keys():\n",
    "        if results['Cluster Aggregate'][dataset][qid]['avg_precision'] == 0:\n",
    "            if len(answer_key[qid][dataset]['relevant_ads']) == 0:\n",
    "                print 'Found 0 avg_precision and no relevant ads for question {0}!'.format(qid)\n",
    "        if results['Cluster Aggregate'][dataset][qid]['agg_metric'] == 0:\n",
    "            if answer_key[qid][dataset]['agg_answer'] == 'No relevant extractions found':\n",
    "                print 'Found 0 agg_metric and no relevant extractions for question {0}!'.format(qid)"
   ]
  },
  {
   "cell_type": "markdown",
   "metadata": {},
   "source": [
    "## Save Results"
   ]
  },
  {
   "cell_type": "code",
   "execution_count": 20,
   "metadata": {
    "collapsed": true
   },
   "outputs": [],
   "source": [
    "output_file = 'Georgetown_DD_Cluster_Agg_Results_REWRITE.json'\n",
    "with open(output_file, 'w') as outfile:\n",
    "    json.dump(results, outfile, indent=2)"
   ]
  },
  {
   "cell_type": "code",
   "execution_count": null,
   "metadata": {
    "collapsed": true
   },
   "outputs": [],
   "source": []
  }
 ],
 "metadata": {
  "kernelspec": {
   "display_name": "Python 2",
   "language": "python",
   "name": "python2"
  },
  "language_info": {
   "codemirror_mode": {
    "name": "ipython",
    "version": 2
   },
   "file_extension": ".py",
   "mimetype": "text/x-python",
   "name": "python",
   "nbconvert_exporter": "python",
   "pygments_lexer": "ipython2",
   "version": "2.7.11"
  }
 },
 "nbformat": 4,
 "nbformat_minor": 0
}
