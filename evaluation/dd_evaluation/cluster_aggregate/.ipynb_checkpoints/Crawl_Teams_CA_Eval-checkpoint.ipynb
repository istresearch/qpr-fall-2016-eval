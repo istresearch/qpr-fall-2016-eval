{
 "cells": [
  {
   "cell_type": "code",
   "execution_count": 1,
   "metadata": {
    "collapsed": true
   },
   "outputs": [],
   "source": [
    "import json"
   ]
  },
  {
   "cell_type": "code",
   "execution_count": 2,
   "metadata": {
    "collapsed": false
   },
   "outputs": [],
   "source": [
    "gt_file =  '../../../data/post_hoc_annotations/post_hoc_cluster_aggregate-cleaned.json'\n",
    "    \n",
    "with open(gt_file, 'r') as f:\n",
    "    gt = eval(f.read())"
   ]
  },
  {
   "cell_type": "code",
   "execution_count": 3,
   "metadata": {
    "collapsed": false
   },
   "outputs": [
    {
     "name": "stdout",
     "output_type": "stream",
     "text": [
      "hg\n",
      "1627\n",
      "nyu\n",
      "549\n",
      "jpl\n",
      "81\n"
     ]
    }
   ],
   "source": [
    "for dataset in ['hg', 'nyu', 'jpl']:\n",
    "    print dataset\n",
    "    total = 0\n",
    "    for qid in gt.keys():\n",
    "        if dataset in gt[qid]['relevant_ads'].keys():\n",
    "            total += len(gt[qid]['relevant_ads'][dataset].keys())\n",
    "    print total"
   ]
  },
  {
   "cell_type": "code",
   "execution_count": null,
   "metadata": {
    "collapsed": false
   },
   "outputs": [],
   "source": [
    "gt['217']['relevant_ads']['jpl'].keys()"
   ]
  },
  {
   "cell_type": "code",
   "execution_count": null,
   "metadata": {
    "collapsed": true
   },
   "outputs": [],
   "source": []
  }
 ],
 "metadata": {
  "kernelspec": {
   "display_name": "Python 2",
   "language": "python",
   "name": "python2"
  },
  "language_info": {
   "codemirror_mode": {
    "name": "ipython",
    "version": 2
   },
   "file_extension": ".py",
   "mimetype": "text/x-python",
   "name": "python",
   "nbconvert_exporter": "python",
   "pygments_lexer": "ipython2",
   "version": "2.7.11"
  }
 },
 "nbformat": 4,
 "nbformat_minor": 0
}
