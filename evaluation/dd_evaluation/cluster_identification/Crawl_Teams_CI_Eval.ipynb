{
 "cells": [
  {
   "cell_type": "code",
   "execution_count": 1,
   "metadata": {
    "collapsed": true
   },
   "outputs": [],
   "source": [
    "import json\n",
    "import operator"
   ]
  },
  {
   "cell_type": "markdown",
   "metadata": {},
   "source": [
    "### The annotations needed to evaluate Cluster Identification actually came out of the dd_clustering exercise.  So we can use that data directly."
   ]
  },
  {
   "cell_type": "code",
   "execution_count": 3,
   "metadata": {
    "collapsed": false
   },
   "outputs": [
    {
     "name": "stdout",
     "output_type": "stream",
     "text": [
      "MAKE SURE YOU UPDATED TO RIGHT FILE\n"
     ]
    }
   ],
   "source": [
    "round_one_dd_clustering_file =  '../../../data/annotation_prep/dd_clustering/FIRST_ROUND_seeds2cluster_ads.json'\n",
    "round_two_dd_clustering_file =  '../../../data/annotation_prep/dd_clustering/SECOND_ROUND_seeds2cluster_ads.json'\n",
    "#dd_clustering_file =  '../../../data/annotation_prep/dd_clustering/FINAL_seeds2cluster_ads.json'\n",
    "\n",
    "print \"MAKE SURE YOU UPDATED TO RIGHT FILE\"\n",
    "\n",
    "roudquestions_file =  '../../../data/annotation_prep/dd_clustering/FIRST_ROUND_chosen_questions.json'\n",
    "\n",
    "with open(round_one_dd_clustering_file, 'r') as f:\n",
    "    round_one_seeds2cluster_ads = eval(f.read()) \n",
    "    \n",
    "with open(round_two_dd_clustering_file, 'r') as f:\n",
    "    round_two_seeds2cluster_ads = eval(f.read())   \n",
    "    \n",
    "with open(questions_file, 'r') as f:\n",
    "    questions = eval(f.read())\n",
    "    \n",
    "seeds2cluster_ads = {}\n",
    "for seed in round_one_seeds2cluster_ads.keys():\n",
    "    temp = round_one_seeds2cluster_ads[seed]\n",
    "    temp.extend(round_two_seeds2cluster_ads[seed])\n",
    "    temp = list(set(temp))\n",
    "    seeds2cluster_ads[seed] = temp"
   ]
  },
  {
   "cell_type": "code",
   "execution_count": 5,
   "metadata": {
    "collapsed": false
   },
   "outputs": [],
   "source": [
    "submissions_file1 =  '../../../data/annotation_prep/dd_clustering/FIRST_ROUND_chosen_questions.json'\n",
    "submissions_file2 =  '../../../data/annotation_prep/dd_clustering/SECOND_ROUND_chosen_questions.json'\n",
    "\n",
    "with open(submissions_file1, 'r') as f:\n",
    "    data1 = eval(f.read())\n",
    "    \n",
    "with open(submissions_file2, 'r') as f:\n",
    "    data2 = eval(f.read())\n",
    "\n",
    "subs = {}\n",
    "for dataset in data1.keys():\n",
    "    subs[dataset] = {}\n",
    "    # Here we'll take the \"unique submissions PER QUESTION\"\n",
    "    # Therefore, if the same document is considerred twice, \n",
    "    # once each for two different questions\n",
    "    # that is considered as two \"unique submissions\"\n",
    "    # since each time, the document has a new chance of being found relevant\n",
    "    for qtype in data1[dataset].keys():\n",
    "        subs[dataset][qtype] = {}\n",
    "        for question in data1[dataset][qtype].keys():\n",
    "            temp = data1[dataset][qtype][question]['submissions']\n",
    "            if dataset != 'NYU':\n",
    "                temp.extend(data2[dataset][qtype][question]['submissions'])\n",
    "            temp = list(set(temp))\n",
    "            subs[dataset][qtype][question] = temp"
   ]
  },
  {
   "cell_type": "code",
   "execution_count": 30,
   "metadata": {
    "collapsed": false
   },
   "outputs": [
    {
     "name": "stdout",
     "output_type": "stream",
     "text": [
      "05680CA01A43460391CABCA470EDFA4AFFF764C678D80F465C4F9842D549E16B\n",
      " \n",
      "TROUBLE\n",
      "29\n",
      "3345579838\n"
     ]
    }
   ],
   "source": [
    "sub_breakdown = {}\n",
    "\n",
    "for question in data1['NYU']['Cluster Identification'].keys():\n",
    "    sub_breakdown[question] = {}\n",
    "    seed = data1['NYU']['Cluster Identification'][question]['seed']\n",
    "    correct = seeds2cluster_ads[seed]\n",
    "    sub_breakdown[question]['total'] = len(correct)\n",
    "    sub_breakdown[question]['HG'] = 0\n",
    "    sub_breakdown[question]['JPL'] = 0\n",
    "    sub_breakdown[question]['NYU'] = 0\n",
    "    for doc in correct:\n",
    "        if doc in subs['HG']['Cluster Identification'][question]:\n",
    "            sub_breakdown[question]['HG'] += 1\n",
    "        elif doc in subs['JPL']['Cluster Identification'][question]:\n",
    "            sub_breakdown[question]['JPL'] += 1\n",
    "        elif doc in subs['NYU']['Cluster Identification'][question]:\n",
    "            sub_breakdown[question]['NYU'] += 1\n",
    "        else:\n",
    "            print doc\n",
    "    if sub_breakdown[question]['total'] != (sub_breakdown[question]['HG'] + \n",
    "                                            sub_breakdown[question]['NYU'] +\n",
    "                                            sub_breakdown[question]['JPL']):\n",
    "        print ' '\n",
    "        print 'TROUBLE'\n",
    "        print question\n",
    "        print seed"
   ]
  },
  {
   "cell_type": "markdown",
   "metadata": {},
   "source": [
    "Since the same seed was used for multiple cluster tpye questions, it's possible a document was submitted in response to one cluster type but not another.  Seed 3345579838 was the seed value for CI question 29 and CA question 79.  Document 05680CA01A43460391CABCA470EDFA4AFFF764C678D80F465C4F9842D549E16B was submitted in response to CA question 79 but NOT CI question 29.  Therefore, it is not accounted fo here."
   ]
  },
  {
   "cell_type": "code",
   "execution_count": 32,
   "metadata": {
    "collapsed": false
   },
   "outputs": [],
   "source": [
    "contributions = {}\n",
    "for dataset in ['HG', 'NYU', 'JPL']:\n",
    "    contributions[dataset] = 0\n",
    "    for question in sub_breakdown.keys():\n",
    "        contributions[dataset] += sub_breakdown[question][dataset]"
   ]
  },
  {
   "cell_type": "code",
   "execution_count": 34,
   "metadata": {
    "collapsed": false
   },
   "outputs": [
    {
     "name": "stdout",
     "output_type": "stream",
     "text": [
      "{'JPL': 273, 'HG': 450, 'NYU': 33}\n"
     ]
    }
   ],
   "source": [
    "print contributions"
   ]
  },
  {
   "cell_type": "code",
   "execution_count": 35,
   "metadata": {
    "collapsed": false
   },
   "outputs": [
    {
     "data": {
      "text/plain": [
       "{'17': {'HG': 73, 'JPL': 31, 'NYU': 0, 'total': 104},\n",
       " '19': {'HG': 39, 'JPL': 55, 'NYU': 2, 'total': 96},\n",
       " '29': {'HG': 69, 'JPL': 67, 'NYU': 13, 'total': 150},\n",
       " '3': {'HG': 15, 'JPL': 0, 'NYU': 0, 'total': 15},\n",
       " '37': {'HG': 152, 'JPL': 2, 'NYU': 6, 'total': 160},\n",
       " '49': {'HG': 49, 'JPL': 72, 'NYU': 8, 'total': 129},\n",
       " '50': {'HG': 53, 'JPL': 46, 'NYU': 4, 'total': 103}}"
      ]
     },
     "execution_count": 35,
     "metadata": {},
     "output_type": "execute_result"
    }
   ],
   "source": [
    "sub_breakdown"
   ]
  },
  {
   "cell_type": "code",
   "execution_count": null,
   "metadata": {
    "collapsed": true
   },
   "outputs": [],
   "source": []
  }
 ],
 "metadata": {
  "kernelspec": {
   "display_name": "Python 2",
   "language": "python",
   "name": "python2"
  },
  "language_info": {
   "codemirror_mode": {
    "name": "ipython",
    "version": 2
   },
   "file_extension": ".py",
   "mimetype": "text/x-python",
   "name": "python",
   "nbconvert_exporter": "python",
   "pygments_lexer": "ipython2",
   "version": "2.7.11"
  }
 },
 "nbformat": 4,
 "nbformat_minor": 0
}
