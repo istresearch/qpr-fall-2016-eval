{
 "cells": [
  {
   "cell_type": "code",
   "execution_count": 29,
   "metadata": {
    "collapsed": true
   },
   "outputs": [],
   "source": [
    "import json\n",
    "import operator"
   ]
  },
  {
   "cell_type": "code",
   "execution_count": 30,
   "metadata": {
    "collapsed": true
   },
   "outputs": [],
   "source": [
    "pool_depth = 100"
   ]
  },
  {
   "cell_type": "code",
   "execution_count": 31,
   "metadata": {
    "collapsed": true
   },
   "outputs": [],
   "source": [
    "def AvgPrecision(gt, sub, index_of_ad, index_of_score):\n",
    "    score = 100\n",
    "    seen = []\n",
    "    rel_docs = len(gt)\n",
    "    num_hits = 0\n",
    "    num_retrieved = 0\n",
    "    cumpre = 0\n",
    "    for entry in sub:\n",
    "        num_retrieved += 1\n",
    "        ad_id = entry[index_of_ad]\n",
    "        # excessive checking of dupes\n",
    "        if ad_id in seen:\n",
    "            print \"DUPLICATE\"\n",
    "            return None\n",
    "        seen.append(ad_id)\n",
    "        # excessive checking of order\n",
    "        if entry[index_of_score] > score:\n",
    "            print \"ORDER PROBLEM\"\n",
    "            return None\n",
    "        score = entry[index_of_score]\n",
    "        if ad_id in gt:\n",
    "            num_hits += 1\n",
    "            cumpre += num_hits/float(num_retrieved)\n",
    "            \n",
    "    return cumpre/rel_docs"
   ]
  },
  {
   "cell_type": "code",
   "execution_count": 32,
   "metadata": {
    "collapsed": true
   },
   "outputs": [],
   "source": [
    "def clean_sub(sub, index_of_ad, index_of_score, expected_length):\n",
    "    seen = []\n",
    "    uniqs = []\n",
    "    # explicitly check ordering\n",
    "    i = 100\n",
    "    sub.sort(key=operator.itemgetter(index_of_score), reverse=True)\n",
    "    for entry in sub:\n",
    "        if entry[index_of_score] > i:\n",
    "            print \"ORDERING PROBLEM\"\n",
    "            return None\n",
    "        i = entry[index_of_score]\n",
    "        #else:\n",
    "        #    print type(entry)\n",
    "    # de-dupe\n",
    "    for entry in sub:\n",
    "        if entry[index_of_ad] not in seen:\n",
    "            uniqs.append(entry)\n",
    "            seen.append(entry[index_of_ad])\n",
    "    # explicitly sort by score after de-duping\n",
    "    uniqs.sort(key=operator.itemgetter(index_of_score), reverse=True)\n",
    "    # explicitly check ordering\n",
    "    i = 100\n",
    "    for entry in uniqs:\n",
    "        if entry[index_of_score] > i:\n",
    "            print \"ORDERING PROBLEM\"\n",
    "            return None\n",
    "        i = entry[index_of_score]\n",
    "    return uniqs"
   ]
  },
  {
   "cell_type": "markdown",
   "metadata": {},
   "source": [
    "### The annotations needed to evaluate Cluster Identification actually came out of the dd_clustering exercise.  So we can use that data directly."
   ]
  },
  {
   "cell_type": "code",
   "execution_count": 33,
   "metadata": {
    "collapsed": false
   },
   "outputs": [
    {
     "name": "stdout",
     "output_type": "stream",
     "text": [
      "MAKE SURE YOU UPDATED TO RIGHT FILE\n"
     ]
    }
   ],
   "source": [
    "round_one_dd_clustering_file =  '../../../data/annotation_prep/dd_clustering/FIRST_ROUND_seeds2cluster_ads.json'\n",
    "round_two_dd_clustering_file =  '../../../data/annotation_prep/dd_clustering/EARLY_SECOND_ROUND_seeds2cluster_ads.json'\n",
    "#dd_clustering_file =  '../../../data/annotation_prep/dd_clustering/FINAL_seeds2cluster_ads.json'\n",
    "\n",
    "print \"MAKE SURE YOU UPDATED TO RIGHT FILE\"\n",
    "\n",
    "questions_file =  '../../../data/annotation_prep/dd_clustering/FIRST_ROUND_chosen_questions.json'\n",
    "\n",
    "with open(round_one_dd_clustering_file, 'r') as f:\n",
    "    round_one_seeds2cluster_ads = eval(f.read()) \n",
    "    \n",
    "with open(round_two_dd_clustering_file, 'r') as f:\n",
    "    round_two_seeds2cluster_ads = eval(f.read())   \n",
    "    \n",
    "with open(questions_file, 'r') as f:\n",
    "    questions = eval(f.read())\n",
    "    \n",
    "seeds2cluster_ads = {}\n",
    "for seed in round_one_seeds2cluster_ads.keys():\n",
    "    temp = round_one_seeds2cluster_ads[seed]\n",
    "    temp.extend(round_two_seeds2cluster_ads[seed])\n",
    "    temp = list(set(temp))\n",
    "    seeds2cluster_ads[seed] = temp\n",
    "    "
   ]
  },
  {
   "cell_type": "code",
   "execution_count": 34,
   "metadata": {
    "collapsed": false
   },
   "outputs": [],
   "source": [
    "question_ids = questions['NYU']['Cluster Identification'].keys()"
   ]
  },
  {
   "cell_type": "markdown",
   "metadata": {},
   "source": [
    "### To avoid confusing dependecies, we'll get submission data from raw submissions"
   ]
  },
  {
   "cell_type": "code",
   "execution_count": 35,
   "metadata": {
    "collapsed": true
   },
   "outputs": [],
   "source": [
    "submission_path = '../../../data/team_submissions/'"
   ]
  },
  {
   "cell_type": "code",
   "execution_count": 36,
   "metadata": {
    "collapsed": true
   },
   "outputs": [],
   "source": [
    "answers = {}"
   ]
  },
  {
   "cell_type": "markdown",
   "metadata": {},
   "source": [
    "# NYU"
   ]
  },
  {
   "cell_type": "code",
   "execution_count": 37,
   "metadata": {
    "collapsed": true
   },
   "outputs": [],
   "source": [
    "answers['NYU'] = {}\n",
    "clus_type = 'Cluster Identification'\n",
    "answers['NYU'][clus_type] = {}"
   ]
  },
  {
   "cell_type": "code",
   "execution_count": 38,
   "metadata": {
    "collapsed": false
   },
   "outputs": [],
   "source": [
    "file_path = submission_path + 'Georgetown/DomainDiscovery/NYU_CI.json'\n",
    "f = open(file_path, 'r')\n",
    "data = eval(f.read())\n",
    "\n",
    "id_pos = 0\n",
    "score_pos = 1\n",
    "ans_length = 2 \n",
    "id_length = 64\n",
    "\n",
    "for entry in data:\n",
    "    # We are only evaluating some of them\n",
    "    if entry['id'] in question_ids:\n",
    "        submissions = clean_sub(entry['answer'], id_pos, score_pos, ans_length)\n",
    "        # Reconfirming no dupes\n",
    "        if len(submissions) != len(list(set(tuple(i) for i in submissions))):\n",
    "            print \"PROBLEM WITH DUPLICATED DOC IDS\"\n",
    "            break\n",
    "        # Now that submissions are sorted, only take top N\n",
    "        if len(submissions) > pool_depth:\n",
    "            submissions = submissions[:pool_depth]\n",
    "            print \"POOL DEPTH REACHED\"\n",
    "        answers['NYU'][clus_type][entry['id']] = submissions"
   ]
  },
  {
   "cell_type": "markdown",
   "metadata": {},
   "source": [
    "# HG"
   ]
  },
  {
   "cell_type": "code",
   "execution_count": 39,
   "metadata": {
    "collapsed": true
   },
   "outputs": [],
   "source": [
    "answers['HG'] = {}\n",
    "clus_type = 'Cluster Identification'\n",
    "answers['HG'][clus_type] = {}"
   ]
  },
  {
   "cell_type": "code",
   "execution_count": 40,
   "metadata": {
    "collapsed": false
   },
   "outputs": [
    {
     "name": "stdout",
     "output_type": "stream",
     "text": [
      "POOL DEPTH REACHED\n",
      "POOL DEPTH REACHED\n",
      "POOL DEPTH REACHED\n",
      "POOL DEPTH REACHED\n",
      "POOL DEPTH REACHED\n"
     ]
    }
   ],
   "source": [
    "file_path = submission_path + 'Georgetown/DomainDiscovery/Georgetown_Submission/HG/HG_Cluster_Identification.json'\n",
    "f = open(file_path, 'r')\n",
    "data = eval(f.read())\n",
    "\n",
    "id_pos = 0\n",
    "score_pos = 1\n",
    "ans_length = 2 \n",
    "id_length = 64\n",
    "\n",
    "for entry in data:\n",
    "    # We are only evaluating some of them\n",
    "    if entry['id'] in question_ids:\n",
    "        submissions = clean_sub(entry['answer'], id_pos, score_pos, ans_length)\n",
    "        # Reconfirming no dupes\n",
    "        if len(submissions) != len(list(set(tuple(i) for i in submissions))):\n",
    "            print \"PROBLEM WITH DUPLICATED DOC IDS\"\n",
    "            break\n",
    "        # Now that submissions are sorted, only take top N\n",
    "        if len(submissions) > pool_depth:\n",
    "            submissions = submissions[:pool_depth]\n",
    "            print \"POOL DEPTH REACHED\"\n",
    "        answers['HG'][clus_type][entry['id']] = submissions"
   ]
  },
  {
   "cell_type": "markdown",
   "metadata": {},
   "source": [
    "# JPL"
   ]
  },
  {
   "cell_type": "code",
   "execution_count": 41,
   "metadata": {
    "collapsed": true
   },
   "outputs": [],
   "source": [
    "answers['JPL'] = {}\n",
    "clus_type = 'Cluster Identification'\n",
    "answers['JPL'][clus_type] = {}"
   ]
  },
  {
   "cell_type": "code",
   "execution_count": 42,
   "metadata": {
    "collapsed": false
   },
   "outputs": [
    {
     "name": "stdout",
     "output_type": "stream",
     "text": [
      "POOL DEPTH REACHED\n",
      "POOL DEPTH REACHED\n",
      "POOL DEPTH REACHED\n",
      "POOL DEPTH REACHED\n",
      "POOL DEPTH REACHED\n"
     ]
    }
   ],
   "source": [
    "file_path = submission_path + 'Georgetown/DomainDiscovery/Georgetown_Submission/JPL/JPL_Cluster_Identification.json'\n",
    "f = open(file_path, 'r')\n",
    "data = eval(f.read())\n",
    "\n",
    "id_pos = 0\n",
    "score_pos = 1\n",
    "ans_length = 2 \n",
    "id_length = 64\n",
    "\n",
    "for entry in data:\n",
    "    # We are only evaluating some of them\n",
    "    if entry['id'] in question_ids:\n",
    "        submissions = clean_sub(entry['answer'], id_pos, score_pos, ans_length)\n",
    "        # Reconfirming no dupes\n",
    "        if len(submissions) != len(list(set(tuple(i) for i in submissions))):\n",
    "            print \"PROBLEM WITH DUPLICATED DOC IDS\"\n",
    "            break\n",
    "        # Now that submissions are sorted, only take top N\n",
    "        if len(submissions) > pool_depth:\n",
    "            submissions = submissions[:pool_depth]\n",
    "            print \"POOL DEPTH REACHED\"\n",
    "        answers['JPL'][clus_type][entry['id']] = submissions"
   ]
  },
  {
   "cell_type": "markdown",
   "metadata": {},
   "source": [
    "# Calculate Results"
   ]
  },
  {
   "cell_type": "code",
   "execution_count": 43,
   "metadata": {
    "collapsed": false
   },
   "outputs": [],
   "source": [
    "clus_type = 'Cluster Identification'\n",
    "results = {}\n",
    "results[clus_type] = {}\n",
    "\n",
    "for dataset in answers.keys():\n",
    "    results[clus_type][dataset] = {}\n",
    "    for quest in answers[dataset][clus_type].keys():\n",
    "        results[clus_type][dataset][quest] = {}\n",
    "        submission = answers[dataset][clus_type][quest]\n",
    "        seed = questions[dataset][clus_type][quest]['seed']\n",
    "        relevant_ads = seeds2cluster_ads[seed]\n",
    "        results[clus_type][dataset][quest] = {}\n",
    "        results[clus_type][dataset][quest]['avg_precision'] = AvgPrecision(relevant_ads, submission, 0, 1)"
   ]
  },
  {
   "cell_type": "code",
   "execution_count": 44,
   "metadata": {
    "collapsed": true
   },
   "outputs": [],
   "source": [
    "output_file = 'Georgetown_DD_Cluster_Identification_Results_REWRITE.json'\n",
    "with open(output_file, 'w') as outfile:\n",
    "    json.dump(results, outfile, indent=2)"
   ]
  },
  {
   "cell_type": "markdown",
   "metadata": {
    "collapsed": true
   },
   "source": [
    "# Note: it's possible some seeds returned no relevant ads.  These seeds should be ignored."
   ]
  },
  {
   "cell_type": "code",
   "execution_count": 28,
   "metadata": {
    "collapsed": false
   },
   "outputs": [
    {
     "name": "stdout",
     "output_type": "stream",
     "text": [
      "('2125675378', 154)\n",
      "('3106587382', 31)\n",
      "('9015053403', 15)\n",
      "('5015748332', 66)\n",
      "('4804209169', 193)\n",
      "('6074815436', 129)\n",
      "('3103027803', 124)\n",
      "('4028713138', 15)\n",
      "('2267928604', 151)\n",
      "('6126696637', 65)\n",
      "('8453210101', 51)\n",
      "('7255023008', 96)\n",
      "('2897000184', 201)\n",
      "('4164557000', 109)\n",
      "('7026023157', 160)\n",
      "('6462800740', 160)\n",
      "('6477932052', 292)\n",
      "('4149346155', 103)\n",
      "('aylinakkayam@gmail.com', 0)\n",
      "('7202565497', 103)\n",
      "('6474997664', 104)\n",
      "('3345579838', 150)\n",
      "('6477878168', 146)\n"
     ]
    }
   ],
   "source": [
    "for seed in seeds2cluster_ads.keys():\n",
    "    print (seed, len(seeds2cluster_ads[seed]))"
   ]
  },
  {
   "cell_type": "code",
   "execution_count": null,
   "metadata": {
    "collapsed": true
   },
   "outputs": [],
   "source": []
  }
 ],
 "metadata": {
  "kernelspec": {
   "display_name": "Python 2",
   "language": "python",
   "name": "python2"
  },
  "language_info": {
   "codemirror_mode": {
    "name": "ipython",
    "version": 2
   },
   "file_extension": ".py",
   "mimetype": "text/x-python",
   "name": "python",
   "nbconvert_exporter": "python",
   "pygments_lexer": "ipython2",
   "version": "2.7.11"
  }
 },
 "nbformat": 4,
 "nbformat_minor": 0
}
