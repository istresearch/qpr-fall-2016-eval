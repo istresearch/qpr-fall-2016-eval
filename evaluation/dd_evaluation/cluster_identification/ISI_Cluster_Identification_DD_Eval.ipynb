{
 "cells": [
  {
   "cell_type": "markdown",
   "metadata": {},
   "source": [
    "# STATUS: Haven't Run. Ended after NYU"
   ]
  },
  {
   "cell_type": "code",
   "execution_count": 1,
   "metadata": {
    "collapsed": true
   },
   "outputs": [],
   "source": [
    "import json\n",
    "import operator"
   ]
  },
  {
   "cell_type": "code",
   "execution_count": 2,
   "metadata": {
    "collapsed": true
   },
   "outputs": [],
   "source": [
    "pool_depth = 100"
   ]
  },
  {
   "cell_type": "code",
   "execution_count": 3,
   "metadata": {
    "collapsed": true
   },
   "outputs": [],
   "source": [
    "def AvgPrecision(gt, sub, index_of_ad, index_of_score):\n",
    "    score = 100\n",
    "    seen = []\n",
    "    rel_docs = len(gt)\n",
    "    num_hits = 0\n",
    "    num_retrieved = 0\n",
    "    cumpre = 0\n",
    "    for entry in sub:\n",
    "        num_retrieved += 1\n",
    "        ad_id = entry[index_of_ad]\n",
    "        # excessive checking of dupes\n",
    "        if ad_id in seen:\n",
    "            print \"DUPLICATE\"\n",
    "            return None\n",
    "        seen.append(ad_id)\n",
    "        # excessive checking of order\n",
    "        if entry[index_of_score] > score:\n",
    "            print \"ORDER PROBLEM\"\n",
    "            return None\n",
    "        score = entry[index_of_score]\n",
    "        if ad_id in gt:\n",
    "            num_hits += 1\n",
    "            cumpre += num_hits/float(num_retrieved)\n",
    "            \n",
    "    return cumpre/rel_docs"
   ]
  },
  {
   "cell_type": "code",
   "execution_count": 4,
   "metadata": {
    "collapsed": true
   },
   "outputs": [],
   "source": [
    "def clean_sub(sub, index_of_ad, index_of_score, expected_length):\n",
    "    seen = []\n",
    "    uniqs = []\n",
    "    # explicitly check ordering\n",
    "    i = 100\n",
    "    sub.sort(key=operator.itemgetter(index_of_score), reverse=True)\n",
    "    for entry in sub:\n",
    "        if entry[index_of_score] > i:\n",
    "            print \"ORDERING PROBLEM\"\n",
    "            return None\n",
    "        i = entry[index_of_score]\n",
    "        #else:\n",
    "        #    print type(entry)\n",
    "    # de-dupe\n",
    "    for entry in sub:\n",
    "        if entry[index_of_ad] not in seen:\n",
    "            uniqs.append(entry)\n",
    "            seen.append(entry[index_of_ad])\n",
    "    # explicitly sort by score after de-duping\n",
    "    uniqs.sort(key=operator.itemgetter(index_of_score), reverse=True)\n",
    "    # explicitly check ordering\n",
    "    i = 100\n",
    "    for entry in uniqs:\n",
    "        if entry[index_of_score] > i:\n",
    "            print \"ORDERING PROBLEM\"\n",
    "            return None\n",
    "        i = entry[index_of_score]\n",
    "    return uniqs"
   ]
  },
  {
   "cell_type": "markdown",
   "metadata": {},
   "source": [
    "### The annotations needed to evaluate Cluster Identification actually came out of the dd_clustering exercise.  So we can use that data directly."
   ]
  },
  {
   "cell_type": "code",
   "execution_count": 5,
   "metadata": {
    "collapsed": false
   },
   "outputs": [
    {
     "name": "stdout",
     "output_type": "stream",
     "text": [
      "MAKE SURE YOU UPDATED TO RIGHT FILE\n"
     ]
    }
   ],
   "source": [
    "round_one_dd_clustering_file =  '../../../data/annotation_prep/dd_clustering/FIRST_ROUND_seeds2cluster_ads.json'\n",
    "round_two_dd_clustering_file =  '../../../data/annotation_prep/dd_clustering/EARLY_SECOND_ROUND_seeds2cluster_ads.json'\n",
    "#dd_clustering_file =  '../../../data/annotation_prep/dd_clustering/FINAL_seeds2cluster_ads.json'\n",
    "\n",
    "print \"MAKE SURE YOU UPDATED TO RIGHT FILE\"\n",
    "\n",
    "questions_file =  '../../../data/annotation_prep/dd_clustering/FIRST_ROUND_chosen_questions.json'\n",
    "\n",
    "with open(round_one_dd_clustering_file, 'r') as f:\n",
    "    round_one_seeds2cluster_ads = eval(f.read()) \n",
    "    \n",
    "with open(round_two_dd_clustering_file, 'r') as f:\n",
    "    round_two_seeds2cluster_ads = eval(f.read())   \n",
    "    \n",
    "with open(questions_file, 'r') as f:\n",
    "    questions = eval(f.read())\n",
    "    \n",
    "seeds2cluster_ads = {}\n",
    "for seed in round_one_seeds2cluster_ads.keys():\n",
    "    temp = round_one_seeds2cluster_ads[seed]\n",
    "    temp.extend(round_two_seeds2cluster_ads[seed])\n",
    "    temp = list(set(temp))\n",
    "    seeds2cluster_ads[seed] = temp"
   ]
  },
  {
   "cell_type": "code",
   "execution_count": 6,
   "metadata": {
    "collapsed": true
   },
   "outputs": [],
   "source": [
    "question_ids = questions['NYU']['Cluster Identification'].keys()"
   ]
  },
  {
   "cell_type": "markdown",
   "metadata": {},
   "source": [
    "### To avoid confusing dependecies, we'll get submission data from raw submissions"
   ]
  },
  {
   "cell_type": "code",
   "execution_count": 7,
   "metadata": {
    "collapsed": true
   },
   "outputs": [],
   "source": [
    "submission_path = '../../../data/team_submissions/'"
   ]
  },
  {
   "cell_type": "code",
   "execution_count": 8,
   "metadata": {
    "collapsed": true
   },
   "outputs": [],
   "source": [
    "answers = {}"
   ]
  },
  {
   "cell_type": "markdown",
   "metadata": {},
   "source": [
    "# NYU"
   ]
  },
  {
   "cell_type": "code",
   "execution_count": 9,
   "metadata": {
    "collapsed": true
   },
   "outputs": [],
   "source": [
    "answers['NYU'] = {}\n",
    "clus_type = 'Cluster Identification'\n",
    "answers['NYU'][clus_type] = {}"
   ]
  },
  {
   "cell_type": "code",
   "execution_count": 27,
   "metadata": {
    "collapsed": false
   },
   "outputs": [],
   "source": [
    "file_path = submission_path + ('ISI/DomainDiscovery/'\n",
    "                               'isi-nyu-answers-dig-extractions/'\n",
    "                               'properly_formatted_submissions/'\n",
    "                               'formatted_post_cluster_identification'\n",
    "                               '-parsed_fixed_all_answers.json')\n",
    "f = open(file_path, 'r')\n",
    "data = eval(f.read())\n",
    "\n",
    "id_pos = 1\n",
    "score_pos = 2\n",
    "ans_length = 3 \n",
    "id_length = 64\n",
    "\n",
    "for entry in data:\n",
    "    # We are only evaluating some of them\n",
    "    if entry['question_id'].split('-')[0] in question_ids:\n",
    "        submissions = clean_sub(entry['answer'], id_pos, score_pos, ans_length)\n",
    "        # Reconfirming no dupes\n",
    "        if len(submissions) != len(list(set(tuple(i) for i in submissions))):\n",
    "            print \"PROBLEM WITH DUPLICATED DOC IDS\"\n",
    "            break\n",
    "        # Now that submissions are sorted, only take top N\n",
    "        if len(submissions) > pool_depth:\n",
    "            submissions = submissions[:pool_depth]\n",
    "            print \"POOL DEPTH REACHED\"\n",
    "        answers['NYU'][clus_type][entry['question_id'].split('-')[0]] = submissions"
   ]
  },
  {
   "cell_type": "markdown",
   "metadata": {},
   "source": [
    "# HG"
   ]
  },
  {
   "cell_type": "code",
   "execution_count": 29,
   "metadata": {
    "collapsed": true
   },
   "outputs": [],
   "source": [
    "answers['HG'] = {}\n",
    "clus_type = 'Cluster Identification'\n",
    "answers['HG'][clus_type] = {}"
   ]
  },
  {
   "cell_type": "code",
   "execution_count": 30,
   "metadata": {
    "collapsed": false
   },
   "outputs": [],
   "source": [
    "file_path = submission_path + ('ISI/DomainDiscovery/'\n",
    "                               'hg_all_asnwers/'\n",
    "                               'properly_formatted_submissions/'\n",
    "                               'formatted_post_cluster_identification'\n",
    "                               '-parsed_fixed_all_answers.json')\n",
    "f = open(file_path, 'r')\n",
    "data = eval(f.read())\n",
    "\n",
    "id_pos = 1\n",
    "score_pos = 2\n",
    "ans_length = 3 \n",
    "id_length = 64\n",
    "\n",
    "for entry in data:\n",
    "    # We are only evaluating some of them\n",
    "    if entry['question_id'].split('-')[0] in question_ids:\n",
    "        submissions = clean_sub(entry['answer'], id_pos, score_pos, ans_length)\n",
    "        # Reconfirming no dupes\n",
    "        if len(submissions) != len(list(set(tuple(i) for i in submissions))):\n",
    "            print \"PROBLEM WITH DUPLICATED DOC IDS\"\n",
    "            break\n",
    "        # Now that submissions are sorted, only take top N\n",
    "        if len(submissions) > pool_depth:\n",
    "            submissions = submissions[:pool_depth]\n",
    "            print \"POOL DEPTH REACHED\"\n",
    "        answers['HG'][clus_type][entry['question_id'].split('-')[0]] = submissions"
   ]
  },
  {
   "cell_type": "markdown",
   "metadata": {},
   "source": [
    "# JPL"
   ]
  },
  {
   "cell_type": "code",
   "execution_count": 32,
   "metadata": {
    "collapsed": true
   },
   "outputs": [],
   "source": [
    "answers['JPL'] = {}\n",
    "clus_type = 'Cluster Identification'\n",
    "answers['JPL'][clus_type] = {}"
   ]
  },
  {
   "cell_type": "code",
   "execution_count": 33,
   "metadata": {
    "collapsed": false
   },
   "outputs": [],
   "source": [
    "file_path = submission_path + ('ISI/DomainDiscovery/'\n",
    "                               'jpl_answers_isi/'\n",
    "                               'properly_formatted_submissions/'\n",
    "                               'formatted_cluster-identification'\n",
    "                               '-queries-parsed_all_answers.json')\n",
    "\n",
    "f = open(file_path, 'r')\n",
    "data = eval(f.read())\n",
    "\n",
    "id_pos = 1\n",
    "score_pos = 2\n",
    "ans_length = 3 \n",
    "id_length = 64\n",
    "\n",
    "for entry in data:\n",
    "    # We are only evaluating some of them\n",
    "    if entry['question_id'].split('-')[0] in question_ids:\n",
    "        submissions = clean_sub(entry['answer'], id_pos, score_pos, ans_length)\n",
    "        # Reconfirming no dupes\n",
    "        if len(submissions) != len(list(set(tuple(i) for i in submissions))):\n",
    "            print \"PROBLEM WITH DUPLICATED DOC IDS\"\n",
    "            break\n",
    "        # Now that submissions are sorted, only take top N\n",
    "        if len(submissions) > pool_depth:\n",
    "            submissions = submissions[:pool_depth]\n",
    "            print \"POOL DEPTH REACHED\"\n",
    "        answers['JPL'][clus_type][entry['question_id'].split('-')[0]] = submissions"
   ]
  },
  {
   "cell_type": "markdown",
   "metadata": {},
   "source": [
    "# Pick up here"
   ]
  },
  {
   "cell_type": "markdown",
   "metadata": {},
   "source": [
    "# Calculate Results"
   ]
  },
  {
   "cell_type": "code",
   "execution_count": 36,
   "metadata": {
    "collapsed": false
   },
   "outputs": [],
   "source": [
    "clus_type = 'Cluster Identification'\n",
    "results = {}\n",
    "results[clus_type] = {}\n",
    "\n",
    "for dataset in answers.keys():\n",
    "    results[clus_type][dataset] = {}\n",
    "    for quest in answers[dataset][clus_type].keys():\n",
    "        results[clus_type][dataset][quest] = {}\n",
    "        submission = answers[dataset][clus_type][quest]\n",
    "        seed = questions[dataset][clus_type][quest]['seed']\n",
    "        relevant_ads = seeds2cluster_ads[seed]\n",
    "        results[clus_type][dataset][quest] = {}\n",
    "        results[clus_type][dataset][quest]['avg_precision'] = AvgPrecision(relevant_ads, submission, 1, 2)"
   ]
  },
  {
   "cell_type": "code",
   "execution_count": 37,
   "metadata": {
    "collapsed": true
   },
   "outputs": [],
   "source": [
    "output_file = 'ISI_DD_Cluster_Identification_Results_REWRITE.json'\n",
    "with open(output_file, 'w') as outfile:\n",
    "    json.dump(results, outfile, indent=2)"
   ]
  },
  {
   "cell_type": "markdown",
   "metadata": {
    "collapsed": true
   },
   "source": [
    "# DEBUG"
   ]
  },
  {
   "cell_type": "code",
   "execution_count": 26,
   "metadata": {
    "collapsed": false
   },
   "outputs": [
    {
     "data": {
      "text/plain": [
       "'4'"
      ]
     },
     "execution_count": 26,
     "metadata": {},
     "output_type": "execute_result"
    }
   ],
   "source": [
    "data[2]['question_id'].split('-')[0]"
   ]
  },
  {
   "cell_type": "code",
   "execution_count": 34,
   "metadata": {
    "collapsed": false
   },
   "outputs": [
    {
     "data": {
      "text/plain": [
       "{'Cluster Identification': {'19': [['',\n",
       "    '9A7C780E668DF276C944AFCE1B57CE841A43F6F500A4F1A4B94813E6E72CB456',\n",
       "    1.0],\n",
       "   ['',\n",
       "    '4A3B9EF413F834C32787F0B21FE3156CDFC7FFE95905FFCECF7B643F4A1E2EEC',\n",
       "    0.5]],\n",
       "  '29': [['',\n",
       "    'FB64D920FF37BB7A2215C04D0170FC173E986DE20ED8D4BA11CDE10F2D0C1647',\n",
       "    1.0]],\n",
       "  '3': [['',\n",
       "    '2F410718F642CC9790DA63B3077BA7670E21EFA5FD1DBAE07151707EEC2CF4EA',\n",
       "    1.0],\n",
       "   ['',\n",
       "    '458F016F367912115DBC320FE25EE4DFAE546AE6DC558902F482AFCFE8EF7052',\n",
       "    0.5],\n",
       "   ['',\n",
       "    'A6BB68770785FFFBF0C2A67CDB12E7BC64BF8693AE9273CA48E9C6C288B1EDA7',\n",
       "    0.3333333333333333],\n",
       "   ['',\n",
       "    'A99E71C35F2C602536634A89F70D3DC7B566587B3F084BB66226B3B00C3E1542',\n",
       "    0.25],\n",
       "   ['',\n",
       "    '05AA9A9352E01749583C80A44C3B909C020429036D399A32F7B5D3A85C62602E',\n",
       "    0.2]],\n",
       "  '49': [['',\n",
       "    'B29447B2967E66D16F24C6A58201D2847E0E5FECEB351BD6C4DAE727E85F617A',\n",
       "    1.0],\n",
       "   ['',\n",
       "    'E8F4191CCAB781511D4DAFA5E7B61A9053414E019BF9F5877DDE40D896365922',\n",
       "    0.5],\n",
       "   ['',\n",
       "    'B92C3D1CBA5409CD4AD8626B08DE1EAAC6D9D2798C5C4D4302ECA0ABF8431D9C',\n",
       "    0.3333333333333333]],\n",
       "  '50': [['',\n",
       "    'F24880A5A58952A189DF216AC5DB1E090AF2D8251880350D184F48F6AA68AE32',\n",
       "    1.0],\n",
       "   ['',\n",
       "    'FC63047E779A6A448F13B9331D4F2CC5AFC52EB9424F4F7DF7012B305B9058D0',\n",
       "    0.5],\n",
       "   ['',\n",
       "    'C222E3409303DD57DC96A6ED3252D19C946936F1376104528697666106D1210B',\n",
       "    0.3333333333333333],\n",
       "   ['',\n",
       "    'AD4103921F92FCC89F4C2EB010495FE4DC28C1DF25709B91D34FC991BBF72C81',\n",
       "    0.25],\n",
       "   ['',\n",
       "    'C92B239BD9CB1A877B2989D8461090D66D83D1A69887856FF2AE4A211E034F26',\n",
       "    0.2]]}}"
      ]
     },
     "execution_count": 34,
     "metadata": {},
     "output_type": "execute_result"
    }
   ],
   "source": [
    "answers['JPL']"
   ]
  },
  {
   "cell_type": "code",
   "execution_count": null,
   "metadata": {
    "collapsed": true
   },
   "outputs": [],
   "source": []
  }
 ],
 "metadata": {
  "kernelspec": {
   "display_name": "Python 2",
   "language": "python",
   "name": "python2"
  },
  "language_info": {
   "codemirror_mode": {
    "name": "ipython",
    "version": 2
   },
   "file_extension": ".py",
   "mimetype": "text/x-python",
   "name": "python",
   "nbconvert_exporter": "python",
   "pygments_lexer": "ipython2",
   "version": "2.7.11"
  }
 },
 "nbformat": 4,
 "nbformat_minor": 0
}
