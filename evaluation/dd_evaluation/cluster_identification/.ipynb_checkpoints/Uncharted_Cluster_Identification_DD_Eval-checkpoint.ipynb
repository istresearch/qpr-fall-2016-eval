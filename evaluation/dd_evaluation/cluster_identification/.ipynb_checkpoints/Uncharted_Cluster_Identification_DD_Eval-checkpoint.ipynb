{
 "cells": [
  {
   "cell_type": "markdown",
   "metadata": {},
   "source": [
    "## STATUS: AvgPrecision failing.  Might be due to lack of relevant docs"
   ]
  },
  {
   "cell_type": "code",
   "execution_count": 1,
   "metadata": {
    "collapsed": true
   },
   "outputs": [],
   "source": [
    "import json\n",
    "import operator"
   ]
  },
  {
   "cell_type": "code",
   "execution_count": 2,
   "metadata": {
    "collapsed": true
   },
   "outputs": [],
   "source": [
    "pool_depth = 100"
   ]
  },
  {
   "cell_type": "code",
   "execution_count": 3,
   "metadata": {
    "collapsed": true
   },
   "outputs": [],
   "source": [
    "def AvgPrecision(gt, sub, index_of_ad, index_of_score):\n",
    "    score = 100\n",
    "    seen = []\n",
    "    rel_docs = len(gt)\n",
    "    num_hits = 0\n",
    "    num_retrieved = 0\n",
    "    cumpre = 0\n",
    "    for entry in sub:\n",
    "        num_retrieved += 1\n",
    "        ad_id = entry[index_of_ad]\n",
    "        # excessive checking of dupes\n",
    "        if ad_id in seen:\n",
    "            print \"DUPLICATE\"\n",
    "            return None\n",
    "        seen.append(ad_id)\n",
    "        # excessive checking of order\n",
    "        if entry[index_of_score] > score:\n",
    "            print \"ORDER PROBLEM\"\n",
    "            return None\n",
    "        score = entry[index_of_score]\n",
    "        if ad_id in gt:\n",
    "            num_hits += 1\n",
    "            cumpre += num_hits/float(num_retrieved)\n",
    "            \n",
    "    return cumpre/rel_docs"
   ]
  },
  {
   "cell_type": "code",
   "execution_count": 4,
   "metadata": {
    "collapsed": true
   },
   "outputs": [],
   "source": [
    "def clean_sub(sub, index_of_ad, index_of_score, expected_length):\n",
    "    seen = []\n",
    "    uniqs = []\n",
    "    # explicitly check ordering\n",
    "    i = 100\n",
    "    sub.sort(key=operator.itemgetter(index_of_score), reverse=True)\n",
    "    for entry in sub:\n",
    "        if entry[index_of_score] > i:\n",
    "            print \"ORDERING PROBLEM\"\n",
    "            return None\n",
    "        i = entry[index_of_score]\n",
    "        #else:\n",
    "        #    print type(entry)\n",
    "    # de-dupe\n",
    "    for entry in sub:\n",
    "        if entry[index_of_ad] not in seen:\n",
    "            uniqs.append(entry)\n",
    "            seen.append(entry[index_of_ad])\n",
    "    # explicitly sort by score after de-duping\n",
    "    uniqs.sort(key=operator.itemgetter(index_of_score), reverse=True)\n",
    "    # explicitly check ordering\n",
    "    i = 100\n",
    "    for entry in uniqs:\n",
    "        if entry[index_of_score] > i:\n",
    "            print \"ORDERING PROBLEM\"\n",
    "            return None\n",
    "        i = entry[index_of_score]\n",
    "    return uniqs"
   ]
  },
  {
   "cell_type": "markdown",
   "metadata": {},
   "source": [
    "### The annotations needed to evaluate Cluster Identification actually came out of the dd_clustering exercise.  So we can use that data directly."
   ]
  },
  {
   "cell_type": "code",
   "execution_count": 5,
   "metadata": {
    "collapsed": false
   },
   "outputs": [
    {
     "name": "stdout",
     "output_type": "stream",
     "text": [
      "MAKE SURE YOU UPDATED TO RIGHT FILE\n"
     ]
    }
   ],
   "source": [
    "dd_clustering_file =  '../../../data/annotation_prep/dd_clustering/FIRST_ROUND_seeds2cluster_ads.json'\n",
    "print \"MAKE SURE YOU UPDATED TO RIGHT FILE\"\n",
    "#dd_clustering_file =  '../../../data/annotation_prep/dd_clustering/FINAL_seeds2cluster_ads.json'\n",
    "\n",
    "questions_file =  '../../../data/annotation_prep/dd_clustering/FIRST_ROUND_chosen_questions.json'\n",
    "\n",
    "with open(dd_clustering_file, 'r') as f:\n",
    "    seeds2cluster_ads = eval(f.read())   \n",
    "    \n",
    "with open(questions_file, 'r') as f:\n",
    "    questions = eval(f.read())"
   ]
  },
  {
   "cell_type": "code",
   "execution_count": 6,
   "metadata": {
    "collapsed": true
   },
   "outputs": [],
   "source": [
    "question_ids = questions['NYU']['Cluster Identification'].keys()"
   ]
  },
  {
   "cell_type": "markdown",
   "metadata": {},
   "source": [
    "### To avoid confusing dependecies, we'll get submission data from raw submissions"
   ]
  },
  {
   "cell_type": "code",
   "execution_count": 7,
   "metadata": {
    "collapsed": true
   },
   "outputs": [],
   "source": [
    "submission_path = '../../../data/team_submissions/'"
   ]
  },
  {
   "cell_type": "code",
   "execution_count": 8,
   "metadata": {
    "collapsed": true
   },
   "outputs": [],
   "source": [
    "answers = {}"
   ]
  },
  {
   "cell_type": "markdown",
   "metadata": {},
   "source": [
    "# NYU"
   ]
  },
  {
   "cell_type": "code",
   "execution_count": 9,
   "metadata": {
    "collapsed": true
   },
   "outputs": [],
   "source": [
    "answers['NYU'] = {}\n",
    "clus_type = 'Cluster Identification'\n",
    "answers['NYU'][clus_type] = {}"
   ]
  },
  {
   "cell_type": "code",
   "execution_count": 10,
   "metadata": {
    "collapsed": false
   },
   "outputs": [],
   "source": [
    "file_path = submission_path + ('Uncharted/DomainDiscovery/uncharted_NYU_DD.json')\n",
    "f = open(file_path, 'r')\n",
    "all_data = eval(f.read())\n",
    "data = []\n",
    "for entry in all_data:\n",
    "    if entry['questionType'] == clus_type:\n",
    "        data.append(entry)\n",
    "\n",
    "id_pos = 0\n",
    "score_pos = 1\n",
    "ans_length = 2 \n",
    "id_length = 64\n",
    "\n",
    "for entry in data:\n",
    "    # We are only evaluating some of them\n",
    "    if entry['question_id'] in question_ids:\n",
    "        submissions = clean_sub(entry['answers'], id_pos, score_pos, ans_length)\n",
    "        # Reconfirming no dupes\n",
    "        if len(submissions) != len(list(set(tuple(i) for i in submissions))):\n",
    "            print \"PROBLEM WITH DUPLICATED DOC IDS\"\n",
    "            break\n",
    "        # Now that submissions are sorted, only take top N\n",
    "        if len(submissions) > pool_depth:\n",
    "            submissions = submissions[:pool_depth]\n",
    "            print \"POOL DEPTH REACHED\"\n",
    "        answers['NYU'][clus_type][entry['question_id']] = submissions"
   ]
  },
  {
   "cell_type": "markdown",
   "metadata": {},
   "source": [
    "# HG"
   ]
  },
  {
   "cell_type": "code",
   "execution_count": 11,
   "metadata": {
    "collapsed": true
   },
   "outputs": [],
   "source": [
    "answers['HG'] = {}\n",
    "clus_type = 'Cluster Identification'\n",
    "answers['HG'][clus_type] = {}"
   ]
  },
  {
   "cell_type": "code",
   "execution_count": 12,
   "metadata": {
    "collapsed": false
   },
   "outputs": [
    {
     "name": "stdout",
     "output_type": "stream",
     "text": [
      "POOL DEPTH REACHED\n",
      "POOL DEPTH REACHED\n",
      "POOL DEPTH REACHED\n",
      "POOL DEPTH REACHED\n",
      "POOL DEPTH REACHED\n"
     ]
    }
   ],
   "source": [
    "file_path = submission_path + ('Uncharted/DomainDiscovery/uncharted_HG_DD.json')\n",
    "f = open(file_path, 'r')\n",
    "all_data = eval(f.read())\n",
    "data = []\n",
    "for entry in all_data:\n",
    "    if entry['questionType'] == clus_type:\n",
    "        data.append(entry)\n",
    "id_pos = 0\n",
    "score_pos = 1\n",
    "ans_length = 2 \n",
    "id_length = 64\n",
    "\n",
    "for entry in data:\n",
    "    # We are only evaluating some of them\n",
    "    if entry['question_id'] in question_ids:\n",
    "        submissions = clean_sub(entry['answers'], id_pos, score_pos, ans_length)\n",
    "        # Reconfirming no dupes\n",
    "        if len(submissions) != len(list(set(tuple(i) for i in submissions))):\n",
    "            print \"PROBLEM WITH DUPLICATED DOC IDS\"\n",
    "            break\n",
    "        # Now that submissions are sorted, only take top N\n",
    "        if len(submissions) > pool_depth:\n",
    "            submissions = submissions[:pool_depth]\n",
    "            print \"POOL DEPTH REACHED\"\n",
    "        answers['HG'][clus_type][entry['question_id']] = submissions"
   ]
  },
  {
   "cell_type": "markdown",
   "metadata": {},
   "source": [
    "# JPL"
   ]
  },
  {
   "cell_type": "code",
   "execution_count": 13,
   "metadata": {
    "collapsed": true
   },
   "outputs": [],
   "source": [
    "answers['JPL'] = {}\n",
    "clus_type = 'Cluster Identification'\n",
    "answers['JPL'][clus_type] = {}"
   ]
  },
  {
   "cell_type": "code",
   "execution_count": 14,
   "metadata": {
    "collapsed": false
   },
   "outputs": [
    {
     "name": "stdout",
     "output_type": "stream",
     "text": [
      "POOL DEPTH REACHED\n",
      "POOL DEPTH REACHED\n",
      "POOL DEPTH REACHED\n"
     ]
    }
   ],
   "source": [
    "file_path = submission_path + ('Uncharted/DomainDiscovery/uncharted_JPL_DD.json')\n",
    "f = open(file_path, 'r')\n",
    "all_data = eval(f.read())\n",
    "data = []\n",
    "for entry in all_data:\n",
    "    if entry['questionType'] == clus_type:\n",
    "        data.append(entry)\n",
    "        \n",
    "id_pos = 0\n",
    "score_pos = 1\n",
    "ans_length = 2 \n",
    "id_length = 64\n",
    "\n",
    "for entry in data:\n",
    "    # We are only evaluating some of them\n",
    "    if entry['question_id'] in question_ids:\n",
    "        submissions = clean_sub(entry['answers'], id_pos, score_pos, ans_length)\n",
    "        # Reconfirming no dupes\n",
    "        if len(submissions) != len(list(set(tuple(i) for i in submissions))):\n",
    "            print \"PROBLEM WITH DUPLICATED DOC IDS\"\n",
    "            break\n",
    "        # Now that submissions are sorted, only take top N\n",
    "        if len(submissions) > pool_depth:\n",
    "            submissions = submissions[:pool_depth]\n",
    "            print \"POOL DEPTH REACHED\"\n",
    "        answers['JPL'][clus_type][entry['question_id']] = submissions"
   ]
  },
  {
   "cell_type": "markdown",
   "metadata": {},
   "source": [
    "# Calculate Results"
   ]
  },
  {
   "cell_type": "code",
   "execution_count": 22,
   "metadata": {
    "collapsed": true
   },
   "outputs": [],
   "source": [
    "def AvgPrecision(gt, sub, index_of_ad, index_of_score):\n",
    "    score = 100\n",
    "    seen = []\n",
    "    rel_docs = len(gt)\n",
    "    print rel_docs\n",
    "    num_hits = 0\n",
    "    num_retrieved = 0\n",
    "    cumpre = 0\n",
    "    for entry in sub:\n",
    "        num_retrieved += 1\n",
    "        ad_id = entry[index_of_ad]\n",
    "        # excessive checking of dupes\n",
    "        if ad_id in seen:\n",
    "            print \"DUPLICATE\"\n",
    "            return None\n",
    "        seen.append(ad_id)\n",
    "        # excessive checking of order\n",
    "        if entry[index_of_score] > score:\n",
    "            print \"ORDER PROBLEM\"\n",
    "            return None\n",
    "        score = entry[index_of_score]\n",
    "        if ad_id in gt:\n",
    "            num_hits += 1\n",
    "            cumpre += num_hits/float(num_retrieved)\n",
    "            \n",
    "    return cumpre/rel_docs"
   ]
  },
  {
   "cell_type": "code",
   "execution_count": 24,
   "metadata": {
    "collapsed": false
   },
   "outputs": [
    {
     "name": "stdout",
     "output_type": "stream",
     "text": [
      "JPL\n",
      "88\n",
      "118\n",
      "96\n",
      "66\n",
      "112\n",
      "102\n",
      "0\n"
     ]
    },
    {
     "ename": "ZeroDivisionError",
     "evalue": "integer division or modulo by zero",
     "output_type": "error",
     "traceback": [
      "\u001b[0;31m---------------------------------------------------------------------------\u001b[0m",
      "\u001b[0;31mZeroDivisionError\u001b[0m                         Traceback (most recent call last)",
      "\u001b[0;32m<ipython-input-24-ad87f35f90b9>\u001b[0m in \u001b[0;36m<module>\u001b[0;34m()\u001b[0m\n\u001b[1;32m     12\u001b[0m         \u001b[0mrelevant_ads\u001b[0m \u001b[0;34m=\u001b[0m \u001b[0mseeds2cluster_ads\u001b[0m\u001b[0;34m[\u001b[0m\u001b[0mseed\u001b[0m\u001b[0;34m]\u001b[0m\u001b[0;34m\u001b[0m\u001b[0m\n\u001b[1;32m     13\u001b[0m         \u001b[0mresults\u001b[0m\u001b[0;34m[\u001b[0m\u001b[0mclus_type\u001b[0m\u001b[0;34m]\u001b[0m\u001b[0;34m[\u001b[0m\u001b[0mdataset\u001b[0m\u001b[0;34m]\u001b[0m\u001b[0;34m[\u001b[0m\u001b[0mquest\u001b[0m\u001b[0;34m]\u001b[0m \u001b[0;34m=\u001b[0m \u001b[0;34m{\u001b[0m\u001b[0;34m}\u001b[0m\u001b[0;34m\u001b[0m\u001b[0m\n\u001b[0;32m---> 14\u001b[0;31m         \u001b[0mresults\u001b[0m\u001b[0;34m[\u001b[0m\u001b[0mclus_type\u001b[0m\u001b[0;34m]\u001b[0m\u001b[0;34m[\u001b[0m\u001b[0mdataset\u001b[0m\u001b[0;34m]\u001b[0m\u001b[0;34m[\u001b[0m\u001b[0mquest\u001b[0m\u001b[0;34m]\u001b[0m\u001b[0;34m[\u001b[0m\u001b[0;34m'avg_precision'\u001b[0m\u001b[0;34m]\u001b[0m \u001b[0;34m=\u001b[0m \u001b[0mAvgPrecision\u001b[0m\u001b[0;34m(\u001b[0m\u001b[0mrelevant_ads\u001b[0m\u001b[0;34m,\u001b[0m \u001b[0msubmission\u001b[0m\u001b[0;34m,\u001b[0m \u001b[0;36m0\u001b[0m\u001b[0;34m,\u001b[0m \u001b[0;36m1\u001b[0m\u001b[0;34m)\u001b[0m\u001b[0;34m\u001b[0m\u001b[0m\n\u001b[0m",
      "\u001b[0;32m<ipython-input-22-9b072330c4eb>\u001b[0m in \u001b[0;36mAvgPrecision\u001b[0;34m(gt, sub, index_of_ad, index_of_score)\u001b[0m\n\u001b[1;32m     24\u001b[0m             \u001b[0mcumpre\u001b[0m \u001b[0;34m+=\u001b[0m \u001b[0mnum_hits\u001b[0m\u001b[0;34m/\u001b[0m\u001b[0mfloat\u001b[0m\u001b[0;34m(\u001b[0m\u001b[0mnum_retrieved\u001b[0m\u001b[0;34m)\u001b[0m\u001b[0;34m\u001b[0m\u001b[0m\n\u001b[1;32m     25\u001b[0m \u001b[0;34m\u001b[0m\u001b[0m\n\u001b[0;32m---> 26\u001b[0;31m     \u001b[0;32mreturn\u001b[0m \u001b[0mcumpre\u001b[0m\u001b[0;34m/\u001b[0m\u001b[0mrel_docs\u001b[0m\u001b[0;34m\u001b[0m\u001b[0m\n\u001b[0m",
      "\u001b[0;31mZeroDivisionError\u001b[0m: integer division or modulo by zero"
     ]
    }
   ],
   "source": [
    "clus_type = 'Cluster Identification'\n",
    "results = {}\n",
    "results[clus_type] = {}\n",
    "\n",
    "for dataset in answers.keys():\n",
    "    print dataset\n",
    "    results[clus_type][dataset] = {}\n",
    "    for quest in answers[dataset][clus_type].keys():\n",
    "        results[clus_type][dataset][quest] = {}\n",
    "        submission = answers[dataset][clus_type][quest]\n",
    "        seed = questions[dataset][clus_type][quest]['seed']\n",
    "        relevant_ads = seeds2cluster_ads[seed]\n",
    "        results[clus_type][dataset][quest] = {}\n",
    "        results[clus_type][dataset][quest]['avg_precision'] = AvgPrecision(relevant_ads, submission, 0, 1)"
   ]
  },
  {
   "cell_type": "code",
   "execution_count": null,
   "metadata": {
    "collapsed": true
   },
   "outputs": [],
   "source": [
    "output_file = 'Uncharted_DD_Cluster_Identification_Results_REWRITE.json'\n",
    "with open(output_file, 'w') as outfile:\n",
    "    json.dump(results, outfile, indent=2)"
   ]
  },
  {
   "cell_type": "code",
   "execution_count": 18,
   "metadata": {
    "collapsed": false
   },
   "outputs": [
    {
     "data": {
      "text/plain": [
       "['17', '49', '19', '37', '29', '50', '3']"
      ]
     },
     "execution_count": 18,
     "metadata": {},
     "output_type": "execute_result"
    }
   ],
   "source": [
    "answers['JPL']['Cluster Identification'].keys()"
   ]
  },
  {
   "cell_type": "code",
   "execution_count": 21,
   "metadata": {
    "collapsed": false
   },
   "outputs": [
    {
     "data": {
      "text/plain": [
       "[['173D02205590C33B2BB09879DF67EB15EA44513FAB1421A729B837FCDD7EF2E7', 1.0],\n",
       " ['3D1EC3B21D4966DA95EA4670A532B21A2B86EAB7EB38A2FAC4C0C2D12AE17A95', 1.0],\n",
       " ['7FF2E2CF5409673379F7F34817F0104D868FCD6B71BB05C3FBB2374AE63B1262', 1.0],\n",
       " ['41507ED4A15D5D38D9ADEA47E83E1E5E4518D1551447CD99B8282E481FBEEBA4', 1.0],\n",
       " ['613AB22BC6A5752BF1FB9DD3B0AB199AF4407890CF408AA88727AD25A16E2312', 1.0],\n",
       " ['5DE175CD64600652001516245DD4B8C2AD282CA952B221F9B7B82866FD5CC87D', 1.0],\n",
       " ['EC709F31DB4CC02499611150F0086DD8202A01468DC1ED1346E4AB1AAE9A1312', 1.0],\n",
       " ['8C66386DF9807BA08BB77C0E2299BF354B811DC9DCF08231EDFE77749C0CE075', 1.0],\n",
       " ['4483E3E5989B241E4F8D5B380320961D5A5CF30CD267E019AD33A95D70D53218', 1.0],\n",
       " ['AA777A74E8E7DAF752A479482F7B7858FC2E2817AD28FAFCF270966DEBB359E6', 1.0],\n",
       " ['F05F3C92D6C6C636063B8B0C4EFC3DF6E1205A6F536AC25C4C037C81E9EABCE2', 1.0],\n",
       " ['341A405CA973D1BE5E4EF9744E229666D9687F3A351683A141C89D593D1BDB7E', 1.0],\n",
       " ['A6907A6E2EFD7105F2F84DD6154C673DA92E8F2E9A565D773067E6FD1D790696', 1.0],\n",
       " ['60EC9045785844450ED6871B8CB8CBB7A2908DCF610E968B126F54941D7099FD', 1.0],\n",
       " ['7FE3EC5B9AB460499DE171BAFA30EA28217BE789B55951C1F1BB60F5B4D7C6F4', 1.0],\n",
       " ['6403D007031E14A03FD4A727F83987FAA2069E33644A617780E21E0631AF9B8F', 1.0],\n",
       " ['C1F9F821E5A50131B437E046D05054F7C998199B4E2A3E507F6F410153079171', 1.0],\n",
       " ['88EB3A1DFB25869C897A3D4BD4643E89F4C9E356DF2F17550612670C41F8C922', 1.0],\n",
       " ['A5AC1A0BE0FDBC051FA9D347FAC7A4658E785ADEE71A32BC6794E2BB59F27CD3', 1.0],\n",
       " ['3D49D7C3A92895D540461B488714FB794B35349D1E9E76437D5DE0820796FF63', 1.0],\n",
       " ['F0C0314FB3FAAAF956608E290671A7164D5092DF99A9AC22FF230E1780A70C81',\n",
       "  0.9947851],\n",
       " ['C8C64C040F8DE0C1C131CF59BF83D2A4AC8662BF47B92830603379DA27FE8E66',\n",
       "  0.9947851],\n",
       " ['9CF34CC832A8643C2DF0DB054121FC91EC8598773BFF0F13DE4F608632661829',\n",
       "  0.9947851],\n",
       " ['DB5ADA8FDF80EA11FE7C4439EF9F33564ED83625F64E3C4961E4A7D1E90246FE',\n",
       "  0.9947851],\n",
       " ['C3EA6E9B68448E46CFF7598A53101D97B111CF11E24018FB6A1EF664AC85A58D',\n",
       "  0.9947851],\n",
       " ['32654A09EC34D033E8F1CF58220BD9C260B42C022E1B3DEB269F4FFAC45F3D0A',\n",
       "  0.9947851],\n",
       " ['018C10AFDD177FBFEE0FB0BAEAAF9D20D5A32A0EF13A59E2E8D8CA69EACCD1FA',\n",
       "  0.9947851],\n",
       " ['88F83D713035613AFA44CB8DC603F3879CC889D8F8DA413858031C44F1308A1D',\n",
       "  0.9947851],\n",
       " ['CCDE9931904342AB58F0AF8E3B67DC680BF3A48EABEB1FF38B88FED9427481A1',\n",
       "  0.9947851],\n",
       " ['37FD5488CF97B16582A8BEF9DF638839D1D69A2610A19C7B4104F52ADED90EE3',\n",
       "  0.9947851],\n",
       " ['4736FCC7A49F59F362B771B3AE906DB33E568C37428578133D81681EF2D9CB6F',\n",
       "  0.9947851],\n",
       " ['133A79DCB90BF66523A54748FF3506BB78A626D961060ABF90DA652F0A7465AA',\n",
       "  0.9947851],\n",
       " ['DEC5A9D07F37F5A134F4034A843FEEFB5E12E59C92AAF2B08ABCCD8F52FCC37B',\n",
       "  0.9947851],\n",
       " ['76F23D8AC41CF54EF6266FDCC49454612F1EC1FE70E7897B71DA03FF25ED5BAB',\n",
       "  0.9947851],\n",
       " ['1363C0752C5F158FB40BE1DD73A1D07AC17733499094CD1765133CFF4173B7DD',\n",
       "  0.9947851],\n",
       " ['444D75D82F3C486D56BC28EBBC16ED9FE5FB579C905245B52098205AD36E0B61',\n",
       "  0.9932399],\n",
       " ['4B91B0A502DF8D49BAE0854854EDA72CF527FE13BF7DF95EF3EE9FAA8D28720E',\n",
       "  0.9932399],\n",
       " ['86ECE7378BF44AB6A82B5737AB1FD0C08299E37A262EB0B18AA9F64C2023F28D',\n",
       "  0.9932399],\n",
       " ['C0383EB46C6904E2150FE48AA8A59A330AD18F6F5A0DDB9C264F59EABA53DC7D',\n",
       "  0.9932399],\n",
       " ['3A3E8CF0A11263A0D1490B98C3628D88B0030A6BE3481668CFC4E565284E916E',\n",
       "  0.9932399],\n",
       " ['21CC942C4400BD7F24BFC30F2198322BDB8289CB709166846456140C9D8BE443',\n",
       "  0.9932399],\n",
       " ['1528A34B315D5B0B12249C20775ACC1C079C45CA5609EDA4F1B4B795ED63D2AA',\n",
       "  0.9932399],\n",
       " ['1AA05FBD89B013A4E5DB1A848638B6D7ED4E9EBF21987DC5DB728E0BA61A158D',\n",
       "  0.9932399],\n",
       " ['0B1EDB8FE515F4D03F4CAFC995E84D0002D5AF61FDAF45A5164ACBB3EE871DDE',\n",
       "  0.9932399],\n",
       " ['8B5EF8BE26726722882CE4149822E1F48B55A1EE224BE911C9C5E5568A66FADC',\n",
       "  0.9932399],\n",
       " ['A1C3CFFEF5745923BEF2BDF5D8C965BECCF991E4C7903CE336D124C31C7B104B',\n",
       "  0.9932399],\n",
       " ['79AA5CF5983C5915EAB45B65495764BE5CFBEE4C254A90EDF6064B0291402A37',\n",
       "  0.9932399],\n",
       " ['D6455689D5CEE51B576793018106416E2F5109D31FC04A02B08267B7A2BDCB97',\n",
       "  0.9932399],\n",
       " ['4B0638E3521661308020CADF3B6A6B7E893A193E3DA58AFE15F5F36ACDF52939',\n",
       "  0.9893179],\n",
       " ['3917BE83A26617966B340FEAD2413D6C5097DF1A4CAB7E21C59C6331E8822B74',\n",
       "  0.9893179],\n",
       " ['C35AAE54A0AE0A527FEDD4D42A77430B6F08028E4FCE0A01864F79954A36267D',\n",
       "  0.9893179],\n",
       " ['CB19888F7AFB621E44325C08761BD27CB8E8357FF1D1EB2873A9955B0558629C',\n",
       "  0.9893179],\n",
       " ['BE1E78F8F17EE3B2D3C74279DB11270F4F16ABA2FB92EC60016E9060B22A962F',\n",
       "  0.9893179],\n",
       " ['25E8E396179D2D3BCFB604C75427F0FCC7BF34BB62766233BA1DECBDED2B2DF5',\n",
       "  0.9893179],\n",
       " ['2E98207326927A95604ACE6AABEA3AA944333A5A9FAA9D0118B7F087B99F06B5',\n",
       "  0.9893179],\n",
       " ['845102A04E5436D7AD672E87B3128AD59ED88CCCA0C53285E56FFF4557C537A2',\n",
       "  0.9893179],\n",
       " ['C955CBADF1295998D6A326C32363CB25EC2252A254EF63927B1C07B9E7B81476',\n",
       "  0.9588629],\n",
       " ['6E6749305FAAEF3D39558224D0EAE7BE12C45C49F269896AD3645ED38AFC6C7C',\n",
       "  0.9588629],\n",
       " ['7E5EA572763ABDB5033EFF72D066FC47CCFA8663CA6502B63A6E5ED477273436',\n",
       "  0.44565892],\n",
       " ['7E6F554B6765097D270FEA0E9843CF20E0AA08CE03938244F8264E8CC445BEFD',\n",
       "  0.44565892],\n",
       " ['162EEAC5E8471C303CD61941547921296EE067A05548822017C80C7E8D079286',\n",
       "  0.44565892],\n",
       " ['E485EEAB58ED7690C2963C6C4BAFB062CBFD1C35F5B6C352BC6C788BAC7FDCB3',\n",
       "  0.44565892],\n",
       " ['E8C4E4A5E12AD22B40089841D2ECF9A79F682A52A9DBC17A4B9C286A79D69588',\n",
       "  0.44565892],\n",
       " ['58AA163786C3D82023460D4A8398EF8184FBE275AEAFFE526D2552079EDF50D3',\n",
       "  0.44565892],\n",
       " ['507CAA14F83CA4E603071BA93A76036D6369D15AD0503E25B8C4D2C826046D16',\n",
       "  0.44565892],\n",
       " ['B4CBF4555FA5CAB768213919566BFE74495653C4C219D993577610688473A1A2',\n",
       "  0.44565892],\n",
       " ['BCC6BDEBEDACA911CFF8FA1FD51E6FA31C8A6DB4DA40FF7FC79ECFE82DCD4048',\n",
       "  0.44565892],\n",
       " ['69A20270764B940F40E3B741E900A683FD0045E6F6B36AD62277E42879E8D352',\n",
       "  0.44565892],\n",
       " ['207D910F775096A7F1FE6FE6E74C7641D41C5E36C4B406D8BE5414608BB0A21A',\n",
       "  0.44565892],\n",
       " ['6DA6EF39D1C68C21EABFC1CD740B8F0A0981196AB0562A6642D80867E2E7458E',\n",
       "  0.44565892],\n",
       " ['046BD6F8C276D926E35000173800186B9E74D5E18804D7B37298538E43CAC013',\n",
       "  0.44565892],\n",
       " ['9EF7A952C8BB503ECB106B63461C7B99DF630780DCC72DEEFC25C3A9BC04E388',\n",
       "  0.44565892],\n",
       " ['A94587933E1E908CBD467777A922805D2D302816DE485CFF11F52532F0B5A35F',\n",
       "  0.44565892],\n",
       " ['A4FD345B8BEE990FFD9014199B7049D856C964591D69A3F67484F0F2A69F08E3',\n",
       "  0.44565892],\n",
       " ['9572859E918D5C93C19511CF13912BEE66AB04CDB7C9F04006FFD38AC8D05AAC',\n",
       "  0.44565892],\n",
       " ['8B312F634B0FCBCD387CC86455C12CE39B5C70055C82E3045767F416FEE6EBA3',\n",
       "  0.44565892],\n",
       " ['C2645C741242F7570DAE2D5FD11513C6B84473BDB935E3030D702B17F1F2B9F0',\n",
       "  0.44565892],\n",
       " ['4792247F84C526DB9A2D7E010C87BAB8206D8381E897D46C4783192B69092A1F',\n",
       "  0.44565892],\n",
       " ['6F5D9BA93A5EFE7EE3B9B8F5B674D642240D407DF4421CFCFE1700E449484411',\n",
       "  0.44565892],\n",
       " ['1EEA615E5E639B25943328997E4124435D10563EA248B3228466807CCC9562B2',\n",
       "  0.44565892],\n",
       " ['9E93B0596D5424669A414868406830F9CAFC207C8CBE925F8C5026B55E02ED11',\n",
       "  0.44565892],\n",
       " ['88B4F976BF89EAE8277B491F9E70D2392B3A4A51655F329BA2A958367A3C64C3',\n",
       "  0.44565892],\n",
       " ['362178B8549096914E73AA8B023DF2F27E9ECA32CF3DB4E4225DB50A146F8A98',\n",
       "  0.44565892],\n",
       " ['7778CC1654543D87470843F26D35FA70558C47418527A20E12F4707800D3D9C4',\n",
       "  0.44565892],\n",
       " ['D051D08AAE9ED40D6DCF93B32456AB788770EF296D83E0527B6B94A2A4952D49',\n",
       "  0.44565892],\n",
       " ['E195B5BD3724DC62369C0A2234B78FD12D4D8DE653CEEA14328645FD0095EA73',\n",
       "  0.44565892],\n",
       " ['BF4047C08A3E7F118315173D5CE4F7C01C0BEEAA3806B721648F9141B2DC7B01',\n",
       "  0.44565892],\n",
       " ['B2507AD163F1563240DEE96C5108EE52F8FB672F0268E726201DE6AE716663FB',\n",
       "  0.44565892],\n",
       " ['770F1448C0F4078542B802D76E43E79354079A226190CA348CD44F57CF3E3291',\n",
       "  0.44565892],\n",
       " ['09FAB8D19AD1231A448A0878F535EEB42A445F9DE25683EDD49DEDCAC612AB21',\n",
       "  0.44565892],\n",
       " ['4DF3C040C3B8AAFE0BB587A57A02BFDDDEAFEC9B3F7FD633E6F21F9B3A245713',\n",
       "  0.44565892],\n",
       " ['B3C6979773F767819F463B9423D1CCD3C35FD0E9B87D7596A49006458F9AF376',\n",
       "  0.44565892],\n",
       " ['A687F90C596252EEDFDF396516E7E66DCF59B245B944E693ABF5B67E89C32F36',\n",
       "  0.44565892],\n",
       " ['D7DE95AFE96EB6F69999B537CE79D0234ADC33668D451077ED3B7DA9ED057DF7',\n",
       "  0.44565892],\n",
       " ['0A78835107424F3D8200C1617AA519E72448649D172CF752400B40BFEA8E538C',\n",
       "  0.44565892],\n",
       " ['8266438892430B84C0AD51C7A7D4FE2E04B486B11EC82C7FB0D67204CA16F8F6',\n",
       "  0.44565892],\n",
       " ['8296EFD0CFF001025CD96E2AF42A8DF6E7DF8030962B8719D7035F7F4D12EED7',\n",
       "  0.44565892],\n",
       " ['616610BD2E207873927BF69944732DB404E69AB951CA9A90DE45E044888C7BC4',\n",
       "  0.44565892],\n",
       " ['DDF8E52B3E661B10FC7810B5186614A52922551C8378477AECB0DC9C6696DD7D',\n",
       "  0.44565892],\n",
       " ['723DB00955E7F20E7C34A8365E60E68055171CA8AACF36753A77B62320AB52E2',\n",
       "  0.44565892]]"
      ]
     },
     "execution_count": 21,
     "metadata": {},
     "output_type": "execute_result"
    }
   ],
   "source": [
    "answers['JPL']['Cluster Identification']['3']"
   ]
  },
  {
   "cell_type": "code",
   "execution_count": null,
   "metadata": {
    "collapsed": true
   },
   "outputs": [],
   "source": []
  }
 ],
 "metadata": {
  "kernelspec": {
   "display_name": "Python 2",
   "language": "python",
   "name": "python2"
  },
  "language_info": {
   "codemirror_mode": {
    "name": "ipython",
    "version": 2
   },
   "file_extension": ".py",
   "mimetype": "text/x-python",
   "name": "python",
   "nbconvert_exporter": "python",
   "pygments_lexer": "ipython2",
   "version": "2.7.11"
  }
 },
 "nbformat": 4,
 "nbformat_minor": 0
}
