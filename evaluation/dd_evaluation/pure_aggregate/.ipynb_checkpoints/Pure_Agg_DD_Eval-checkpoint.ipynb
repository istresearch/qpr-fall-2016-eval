{
 "cells": [
  {
   "cell_type": "code",
   "execution_count": 85,
   "metadata": {
    "collapsed": true
   },
   "outputs": [],
   "source": [
    "import json\n",
    "import operator\n",
    "import numpy"
   ]
  },
  {
   "cell_type": "code",
   "execution_count": 133,
   "metadata": {
    "collapsed": true
   },
   "outputs": [],
   "source": [
    "def clean_sub(sub, index_of_ad, index_of_score, expected_length):\n",
    "    seen = []\n",
    "    uniqs = []\n",
    "    # explicitly check ordering\n",
    "    i = 100\n",
    "    sub.sort(key=operator.itemgetter(index_of_score), reverse=True)\n",
    "    for entry in sub:\n",
    "        # skip over aggregate single answer\n",
    "        # this method made more complicated due\n",
    "        # to inconsistent submission format\n",
    "        if len(entry) == expected_length:\n",
    "            if entry[index_of_score] > i:\n",
    "                print \"ORDERING PROBLEM\"\n",
    "                return None\n",
    "            i = entry[index_of_score]\n",
    "        #else:\n",
    "        #    print type(entry)\n",
    "    # de-dupe\n",
    "    for entry in sub:\n",
    "        # skip over aggregate single answer\n",
    "        # this method made more complicated due\n",
    "        # to inconsistent submission format\n",
    "        if len(entry) == expected_length:\n",
    "            if entry[index_of_ad] not in seen:\n",
    "                uniqs.append(entry)\n",
    "                seen.append(entry[index_of_ad])\n",
    "    # explicitly sort by score after de-duping\n",
    "    uniqs.sort(key=operator.itemgetter(index_of_score), reverse=True)\n",
    "    # explicitly check ordering\n",
    "    i = 100\n",
    "    for entry in uniqs:\n",
    "        if entry[index_of_score] > i:\n",
    "            print \"ORDERING PROBLEM\"\n",
    "            return None\n",
    "        i = entry[index_of_score]\n",
    "    return uniqs"
   ]
  },
  {
   "cell_type": "code",
   "execution_count": 207,
   "metadata": {
    "collapsed": true
   },
   "outputs": [],
   "source": [
    "def AvgPrecision(gt, sub, index_of_ad, index_of_score):\n",
    "    score = 100\n",
    "    seen = []\n",
    "    rel_docs = len(gt)\n",
    "    num_hits = 0\n",
    "    num_retrieved = 0\n",
    "    cumpre = 0\n",
    "    for entry in sub:\n",
    "        num_retrieved += 1\n",
    "        ad_id = entry[index_of_ad]\n",
    "        # excessive checking of dupes\n",
    "        if ad_id in seen:\n",
    "            print \"DUPLICATE\"\n",
    "            return None\n",
    "        seen.append(ad_id)\n",
    "        # excessive checking of order\n",
    "        if entry[index_of_score] > score:\n",
    "            print \"ORDER PROBLEM\"\n",
    "            return None\n",
    "        score = entry[index_of_score]\n",
    "        if ad_id in gt:\n",
    "            num_hits += 1\n",
    "            cumpre += num_hits/float(num_retrieved)\n",
    "            \n",
    "    return cumpre/rel_docs"
   ]
  },
  {
   "cell_type": "code",
   "execution_count": 48,
   "metadata": {
    "collapsed": true
   },
   "outputs": [],
   "source": [
    "def AggMetric(gt_answ, sub_answ, feature):\n",
    "    function = pure_agg_metric_params[feature]['function']\n",
    "    amount = pure_agg_metric_params[feature]['amount']\n",
    "    \n",
    "    if feature in ['price', 'height', 'weight', 'age']:\n",
    "        sub_answ = float(sub_answ)\n",
    "        \n",
    "        # Allow for centimeter height\n",
    "        if feature == 'height':\n",
    "            if sub_answ > 100:\n",
    "                sub_answ *= 0.393701\n",
    "                \n",
    "        # Allow for kilogram weight\n",
    "        if feature == 'weight':\n",
    "            if sub_answ < 90:\n",
    "                sub_answ *= 2.20462\n",
    "                \n",
    "        diff = gt_answ - sub_answ\n",
    "        if function == 'multiply':\n",
    "            if numpy.absolute(diff) <= (gt_answ * amount):\n",
    "                metric = 1\n",
    "            else:\n",
    "                metric = 0\n",
    "        elif function == 'add':\n",
    "            if numpy.absolute(diff) <= amount:\n",
    "                metric = 1\n",
    "            else:\n",
    "                metric = 0\n",
    "    if function == 'match':\n",
    "        if gt_answ in sub_answ.lower():\n",
    "            metric = 1\n",
    "        else:\n",
    "            metric = 0\n",
    "            \n",
    "    return metric"
   ]
  },
  {
   "cell_type": "markdown",
   "metadata": {},
   "source": [
    "### Load Annotations and Questions"
   ]
  },
  {
   "cell_type": "code",
   "execution_count": 140,
   "metadata": {
    "collapsed": false
   },
   "outputs": [],
   "source": [
    "annotation_file = '../../../data/post_hoc_annotations/post_hoc_pure_agg.json'\n",
    "\n",
    "with open(annotation_file, 'r') as f:\n",
    "    annotations = eval(f.read())\n",
    "    \n",
    "questions_file = '../../../questions/pure_agg_dd_questions_V3.json'\n",
    "\n",
    "# Append question type to annotations\n",
    "with open(questions_file, 'r') as f:\n",
    "    for line in f:\n",
    "        temp = json.loads(line)\n",
    "        q_id = str(temp['id'])\n",
    "        if annotations[q_id]['question_id'] == q_id:\n",
    "            annotations[q_id]['type'] = temp['type']\n",
    "        else:\n",
    "            print \"QUESTION ID MISMATCH\"\n",
    "\n",
    "agg_parameters_file = '../../../data/pure_agg_gt/saved_dictionaries/pure_agg_metric_parameters.json'\n",
    "\n",
    "f = open(agg_parameters_file, 'r')\n",
    "pure_agg_metric_params = eval(f.read())\n",
    "f.close()"
   ]
  },
  {
   "cell_type": "code",
   "execution_count": 61,
   "metadata": {
    "collapsed": true
   },
   "outputs": [],
   "source": [
    "answers = {}\n",
    "for q_id in annotations.keys():\n",
    "    answers[q_id] = {}\n",
    "    answers[q_id]['relevant_ads'] = []\n",
    "    answers[q_id]['extractions'] = []\n",
    "    answers[q_id]['type'] = annotations[q_id]['type']\n",
    "    answers[q_id]['question_text'] = annotations[q_id]['question_text']\n",
    "    # We only expect NYU ads\n",
    "    for ad in annotations[q_id]['relevant_ads']['nyu'].keys():\n",
    "        answers[q_id]['relevant_ads'].append(ad)\n",
    "        answers[q_id]['extractions'].extend(annotations[q_id]['relevant_ads']['nyu'][ad])"
   ]
  },
  {
   "cell_type": "markdown",
   "metadata": {},
   "source": [
    "### Manually Determine Aggregate Answer"
   ]
  },
  {
   "cell_type": "code",
   "execution_count": 201,
   "metadata": {
    "collapsed": false
   },
   "outputs": [
    {
     "name": "stdout",
     "output_type": "stream",
     "text": [
      "What is the average age found in ads where the location is Albany, New York?\n"
     ]
    }
   ],
   "source": [
    "# Step 1: Review question and accepted answers\n",
    "num_flag = 0\n",
    "q_id = '12'\n",
    "print answers[q_id]['question_text']\n",
    "numbers = []\n",
    "heights = []\n",
    "for extraction in answers[q_id]['extractions']:\n",
    "    if extraction == 'Female, 21':\n",
    "        extraction = '21'\n",
    "    if q_id == '14':\n",
    "        int_extraction = extraction.strip('cm')\n",
    "        if int_extraction > 100:\n",
    "            # Convert to inches\n",
    "            int_extraction = float(int_extraction) * 0.393701\n",
    "            extraction = str(int_extraction)\n",
    "   # print extraction\n",
    "    if num_flag == 1:\n",
    "        try:\n",
    "            numbers.append(float(extraction))\n",
    "        except:\n",
    "            pass\n",
    "        \n",
    "        \n",
    "if num_flag == 1:\n",
    "    print ' '\n",
    "    print \"MAX\"\n",
    "    print max(numbers)\n",
    "    print \"MIN\"\n",
    "    print min(numbers)\n",
    "    print \"MODE\"\n",
    "    print max(set(numbers), key=numbers.count)\n",
    "    print \"AVG\"\n",
    "    print numpy.mean(numbers)"
   ]
  },
  {
   "cell_type": "code",
   "execution_count": 202,
   "metadata": {
    "collapsed": false
   },
   "outputs": [],
   "source": [
    "# Step 2: Manually assign Aggregate Value\n",
    "answers['1']['agg_answer'] = 26\n",
    "answers['1']['feature'] = 'age'\n",
    "answers['2']['agg_answer'] = 'NA'\n",
    "answers['2']['feature'] = 'email'\n",
    "answers['3']['agg_answer'] = 'kansas city'\n",
    "answers['3']['feature'] = 'location'\n",
    "answers['4']['agg_answer'] = 'layla45643@gmail.com'\n",
    "answers['4']['feature'] = 'email'\n",
    "answers['5']['agg_answer'] = 60\n",
    "answers['5']['feature'] = 'age'\n",
    "answers['6']['agg_answer'] = 18\n",
    "answers['6']['feature'] = 'age'\n",
    "answers['7']['agg_answer'] = 'milwaukee'\n",
    "answers['7']['feature'] = 'location'\n",
    "answers['8']['agg_answer'] = 18\n",
    "answers['8']['feature'] = 'age'\n",
    "answers['9']['agg_answer'] = 'NA'\n",
    "answers['9']['feature'] = 'phone number'\n",
    "answers['10']['agg_answer'] = 27\n",
    "answers['10']['feature'] = 'age'\n",
    "answers['11']['agg_answer'] = 3006\n",
    "answers['11']['feature'] = 'price'\n",
    "answers['12']['agg_answer'] = 42\n",
    "answers['12']['feature'] = 'age'\n",
    "answers['13']['agg_answer'] = 'blonde'\n",
    "answers['13']['feature'] = 'hair_color'\n",
    "answers['14']['agg_answer'] = 59\n",
    "answers['14']['feature'] = 'height'\n",
    "answers['15']['agg_answer'] = 500\n",
    "answers['15']['feature'] = 'weight'"
   ]
  },
  {
   "cell_type": "markdown",
   "metadata": {},
   "source": [
    "### Load Submissions"
   ]
  },
  {
   "cell_type": "code",
   "execution_count": 168,
   "metadata": {
    "collapsed": false
   },
   "outputs": [],
   "source": [
    "files = {}\n",
    "\n",
    "files['georgetown'] = '../../../data/team_submissions/Georgetown/DomainDiscovery/NYU_pure_agg_answer.json'\n",
    "files['isi'] = '../../../data/team_submissions/ISI/DomainDiscovery/parsed_pure_aggregate_nyu_all_answers.jl'\n",
    "files['uncharted'] = '../../../data/team_submissions/Uncharted/DomainDiscovery/uncharted_NYU_pure_aggregate_answers_JSON_LINES_V2.json'"
   ]
  },
  {
   "cell_type": "code",
   "execution_count": 169,
   "metadata": {
    "collapsed": false
   },
   "outputs": [],
   "source": [
    "Submissions = {}\n",
    "for team in files.keys():\n",
    "    data = []\n",
    "    with open(files[team], 'r') as f:\n",
    "        for line in f:\n",
    "            temp = json.loads(line)\n",
    "            data.append(temp)\n",
    "        Submissions[team] = data"
   ]
  },
  {
   "cell_type": "markdown",
   "metadata": {},
   "source": [
    "### Evaluate"
   ]
  },
  {
   "cell_type": "code",
   "execution_count": 213,
   "metadata": {
    "collapsed": false
   },
   "outputs": [
    {
     "name": "stdout",
     "output_type": "stream",
     "text": [
      "When checking manually, note the implicit unit conversions performed in AggMetric()\n",
      " \n",
      "GEORGETOWN\n",
      " \n",
      "[] 26 0\n",
      "[u'lindseylovevip@gmail.com'] NA NA\n",
      "[u'hello@taylorstitch.com'] layla45643@gmail.com 0\n",
      "[68] 60 0\n",
      "[u'London'] kansas city 0\n",
      "[10] 18 0\n",
      "[10] 18 0\n",
      "[26] 27 1\n",
      "[] NA NA\n",
      "[26] 42 0\n",
      "[u'79993'] 3006 0\n",
      "[162] 59 0\n",
      "[u'95'] 500 0\n",
      "[u'Naughty America'] milwaukee 0\n",
      "[u'black'] blonde 0\n",
      " \n",
      "ISI\n",
      " \n",
      "[u'26.0'] 26 1\n",
      "[u'lindseylovevip@gmail.com'] NA NA\n",
      "[u'kansas city'] kansas city 1\n",
      "[u'forne901@gmail.com'] layla45643@gmail.com 0\n",
      "[u'29.1946735258'] 60 0\n",
      "[u'22.7742640041'] 18 0\n",
      "[u'california'] milwaukee 0\n",
      "[u'23.0'] 18 0\n",
      "[u'3034195816'] NA NA\n",
      "[u'26.6677849632'] 27 1\n",
      "[u'48.152301912'] 3006 0\n",
      "[u'23.9559610877'] 42 0\n",
      "[u''] blonde 0\n",
      "[u'171.915799952'] 59 0\n",
      "[u'112.399225748'] 500 0\n",
      " \n",
      "UNCHARTED\n",
      " \n",
      "[26] 26 1\n",
      "[u'lindseylovevip@gmail.com'] NA NA\n",
      "[u'London,UK'] kansas city 0\n",
      "[u'support@dnxnetwork.lu'] layla45643@gmail.com 0\n",
      "[60] 60 1\n",
      "[18] 18 1\n",
      "[u'NewYork,NY,USA'] milwaukee 0\n",
      "[18] 18 1\n",
      "[u'3034195816'] NA NA\n",
      "[28] 27 1\n",
      "[950] 3006 0\n",
      "[34.17432377609061] 42 0\n",
      "[u'blonde'] blonde 1\n",
      "[64.35742574257426] 59 0\n",
      "[230] 500 0\n"
     ]
    }
   ],
   "source": [
    "NewEval = {}\n",
    "\n",
    "print 'When checking manually, note the implicit unit conversions performed in AggMetric()'\n",
    "\n",
    "for team in Submissions.keys():\n",
    "\n",
    "    print ' '\n",
    "    print team.upper()\n",
    "    print ' '\n",
    "    \n",
    "    NewEval['Pure Aggregate'] = {}\n",
    "    \n",
    "    sub_data = Submissions[team]\n",
    "    gt_data = answers\n",
    "\n",
    "    try:\n",
    "        del submissions\n",
    "    except:\n",
    "        pass\n",
    "    for sub in sub_data:\n",
    "        submissions = clean_sub(sub['answers'], 1, 2, 3)\n",
    "\n",
    "        q_id = sub['question_id']\n",
    "        gt = gt_data[q_id]\n",
    "        if len(gt['relevant_ads']) == 0:\n",
    "            print 'NO GROUND TRUTH'\n",
    "            \n",
    "        NewEval['Pure Aggregate'][q_id] = {}\n",
    "        NewEval['Pure Aggregate'][q_id]['expected_agg'] = answers[q_id]['agg_answer']\n",
    "        NewEval['Pure Aggregate'][q_id]['submitted_agg'] = sub['aggregate']\n",
    "        NewEval['Pure Aggregate'][q_id]['feature'] = answers[q_id]['feature']\n",
    "        NewEval['Pure Aggregate'][q_id]['avg_precision'] = AvgPrecision(gt['relevant_ads'], submissions, 1, 2)\n",
    "        \n",
    "        # Calculate Aggregate Metric\n",
    "        # Skip string type features that we will do manually\n",
    "        if answers[q_id]['feature'] in ['price', 'height', 'weight', 'age']:\n",
    "            if len(sub['aggregate']) == 1:\n",
    "                metric = AggMetric(answers[q_id]['agg_answer'], sub['aggregate'][0], answers[q_id]['feature'])\n",
    "            elif len(sub['aggregate']) > 1:\n",
    "                print \"MULTIPLE AGG SUBMISSIONS\"\n",
    "            elif len(sub['aggregate']) == 0:\n",
    "                metric = 0\n",
    "            NewEval['Pure Aggregate'][q_id]['agg_metric'] = metric\n",
    "    \n",
    "        # Manually evaluate strings\n",
    "        # Only needed once\n",
    "        #else:\n",
    "        #    print q_id\n",
    "        #    print (answers[q_id]['agg_answer'], sub['aggregate'])\n",
    "    \n",
    "    # Manually enter agg metrics based on above output\n",
    "    if team == 'georgetown':\n",
    "        NewEval['Pure Aggregate']['2']['agg_metric'] = 'NA'\n",
    "        NewEval['Pure Aggregate']['4']['agg_metric'] = 0\n",
    "        NewEval['Pure Aggregate']['3']['agg_metric'] = 0\n",
    "        NewEval['Pure Aggregate']['9']['agg_metric'] = 'NA'\n",
    "        NewEval['Pure Aggregate']['7']['agg_metric'] = 0\n",
    "        NewEval['Pure Aggregate']['13']['agg_metric'] = 0\n",
    "    if team == 'isi':\n",
    "        NewEval['Pure Aggregate']['2']['agg_metric'] = 'NA'\n",
    "        NewEval['Pure Aggregate']['4']['agg_metric'] = 0\n",
    "        NewEval['Pure Aggregate']['3']['agg_metric'] = 1\n",
    "        NewEval['Pure Aggregate']['9']['agg_metric'] = 'NA'\n",
    "        NewEval['Pure Aggregate']['7']['agg_metric'] = 0\n",
    "        NewEval['Pure Aggregate']['13']['agg_metric'] = 0\n",
    "    if team == 'uncharted':\n",
    "        NewEval['Pure Aggregate']['2']['agg_metric'] = 'NA'\n",
    "        NewEval['Pure Aggregate']['4']['agg_metric'] = 0\n",
    "        NewEval['Pure Aggregate']['3']['agg_metric'] = 0\n",
    "        NewEval['Pure Aggregate']['9']['agg_metric'] = 'NA'\n",
    "        NewEval['Pure Aggregate']['7']['agg_metric'] = 0\n",
    "        NewEval['Pure Aggregate']['13']['agg_metric'] = 1\n",
    "        \n",
    "    # Manually check matching\n",
    "    for entry in Submissions[team]:\n",
    "        q_id = entry['question_id']\n",
    "        sub_agg = entry['aggregate']\n",
    "        gt_agg = answers[q_id]['agg_answer']\n",
    "        #if 'agg_metric' in NewEval['Pure Aggregate'][q_id].keys():\n",
    "        points = NewEval['Pure Aggregate'][q_id]['agg_metric']\n",
    "        print '{0} {1} {2}'.format(sub_agg, gt_agg, points)\n",
    "        \n",
    "    output_file = team + '_pure_agg_DD_results_rewrite.json'\n",
    "    with open(output_file, 'w') as outfile:\n",
    "        json.dump(NewEval, outfile, indent=2)"
   ]
  },
  {
   "cell_type": "code",
   "execution_count": 182,
   "metadata": {
    "collapsed": false
   },
   "outputs": [
    {
     "data": {
      "text/plain": [
       "{'age': {'amount': 1, 'function': 'add'},\n",
       " 'ethnicity': {'amount': 'NA', 'function': 'match'},\n",
       " 'hair_color': {'amount': 'NA', 'function': 'match'},\n",
       " 'height': {'amount': 1, 'function': 'add'},\n",
       " 'location': {'amount': 'NA', 'function': 'match'},\n",
       " 'name': {'amount': 'NA', 'function': 'match'},\n",
       " 'phone': {'amount': 'NA', 'function': 'match'},\n",
       " 'price': {'amount': 0.1, 'function': 'multiply'},\n",
       " 'weight': {'amount': 5, 'function': 'add'}}"
      ]
     },
     "execution_count": 182,
     "metadata": {},
     "output_type": "execute_result"
    }
   ],
   "source": [
    "pure_agg_metric_params"
   ]
  },
  {
   "cell_type": "code",
   "execution_count": null,
   "metadata": {
    "collapsed": true
   },
   "outputs": [],
   "source": []
  }
 ],
 "metadata": {
  "kernelspec": {
   "display_name": "Python 2",
   "language": "python",
   "name": "python2"
  },
  "language_info": {
   "codemirror_mode": {
    "name": "ipython",
    "version": 2
   },
   "file_extension": ".py",
   "mimetype": "text/x-python",
   "name": "python",
   "nbconvert_exporter": "python",
   "pygments_lexer": "ipython2",
   "version": "2.7.11"
  }
 },
 "nbformat": 4,
 "nbformat_minor": 0
}
